{
 "cells": [
  {
   "cell_type": "code",
   "execution_count": 17,
   "metadata": {},
   "outputs": [],
   "source": [
    "import pandas as pd\n",
    "import os\n",
    "import jsonpickle\n",
    "\n",
    "from typing import Tuple, Dict, Union, List\n",
    "import pandas as pd\n",
    "import numpy as np\n",
    "import pickle\n",
    "from sklearn.manifold import TSNE\n",
    "import plotly.express as px\n",
    "import plotly\n",
    "from sklearn.preprocessing import MinMaxScaler\n",
    "from scipy.sparse import csr_matrix\n",
    "import implicit\n",
    "from implicit.nearest_neighbours import bm25_weight, tfidf_weight\n",
    "from scipy.spatial.distance import cdist\n",
    "\n",
    "import umap\n",
    "from sklearn.metrics.pairwise import cosine_similarity, euclidean_distances\n",
    "from scipy.sparse.linalg import svds\n",
    "from sklearn.decomposition import PCA\n"
   ]
  },
  {
   "cell_type": "code",
   "execution_count": 18,
   "metadata": {},
   "outputs": [],
   "source": [
    "import warnings\n",
    "warnings.filterwarnings(\"ignore\")"
   ]
  },
  {
   "cell_type": "code",
   "execution_count": 19,
   "metadata": {},
   "outputs": [],
   "source": [
    "RANDOM_STATE = 42"
   ]
  },
  {
   "cell_type": "code",
   "execution_count": 20,
   "metadata": {},
   "outputs": [],
   "source": [
    "def load(config_path : str) -> object:\n",
    "    \"\"\"load config from file\n",
    "    exsabple of using: \n",
    "        self.config : ParserConfig = config.load(config_path) or ParserConfig()\n",
    "        \"\"\"\n",
    "\n",
    "    jsonpickle.set_preferred_backend('json')\n",
    "    jsonpickle.set_encoder_options('json', ensure_ascii=False)\n",
    "\n",
    "    if config_path is not None and os.path.isfile(config_path):\n",
    "        with open(config_path, 'r', encoding='utf-8') as f:\n",
    "            return jsonpickle.decode(f.read())\n",
    "    else:\n",
    "        return None\n"
   ]
  },
  {
   "cell_type": "code",
   "execution_count": 21,
   "metadata": {},
   "outputs": [
    {
     "name": "stdout",
     "output_type": "stream",
     "text": [
      "all pairs count = 215\n",
      "unique pairs count = 165\n"
     ]
    }
   ],
   "source": [
    "# load reference pairs\n",
    "skill_pairs : List[List[str]] = load(\"../cnf/skill_pairs.json\")\n",
    "\n",
    "# remove duplicates\n",
    "print('all pairs count =', len(skill_pairs))\n",
    "skill_pairs = [x for x in skill_pairs if [x[1], x[0]] not in skill_pairs]\n",
    "print('unique pairs count =', len(skill_pairs))"
   ]
  },
  {
   "cell_type": "code",
   "execution_count": 22,
   "metadata": {},
   "outputs": [],
   "source": [
    "## Load data from APP DATA folder\n",
    "\n",
    "with open('../data/features/matrix.pkl', 'rb') as f:\n",
    "#with open('../data/features/matrix_name_tfidf.pkl', 'rb') as f:\n",
    "#with open('../data/features/matrix_description_name_tfidf.pkl', 'rb') as f:\n",
    "    matrix = pickle.load(f)\n",
    "\n",
    "with open('../data/features/prof_index_to_prof_name.pkl', 'rb') as f:\n",
    "    prof_index_to_prof_name = pickle.load(f)\n",
    "\n",
    "# with open('../data/features/quety_to_prof_index.pkl', 'rb') as f:\n",
    "#     quety_to_prof_index = pickle.load(f)\n",
    "\n",
    "with open('../data/features/skill_index_to_corrected.pkl', 'rb') as f:\n",
    "    skill_index_to_corrected = pickle.load(f)\n",
    "    \n",
    "with open('../data/features/skill_original_to_index.pkl', 'rb') as f:\n",
    "    skill_original_to_index = pickle.load(f)\n",
    "    \n",
    "skill_df = pd.read_csv('../data/features/skills.csv')\n",
    "prof_df = pd.read_csv('../data/features/prof.csv')"
   ]
  },
  {
   "cell_type": "code",
   "execution_count": 23,
   "metadata": {},
   "outputs": [],
   "source": [
    "def prepare_plot_df(skill_df: pd.DataFrame,\n",
    "                    matrix: np.array,\n",
    "                    skill_index_to_corrected: Dict[int, str],\n",
    "                    prof_index_to_corrected: Dict[int, str], \n",
    "                    top_n_skill_per_profession: int = 200, \n",
    "                    salary: Union[Tuple[float, float], None] = None,\n",
    "                    norm_type: str = 'none',\n",
    "                    factor_alg_type: str = 'none',\n",
    "                    perplexity: int = 30,\n",
    "                    early_exaggeration=12,\n",
    "                    learning_rate=200,\n",
    "                    dim: int = 5,\n",
    "                    use_tsne: bool = True\n",
    "                    ) -> Tuple[pd.DataFrame, pd.DataFrame]:\n",
    "    \"\"\"Prepare datafame for plotting\n",
    "    \n",
    "        Parameters\n",
    "        ----------\n",
    "        skill_df: pd.DataFrame\n",
    "            Data frame of skills\n",
    "        matrix: np.array\n",
    "            Skill to Profession matrix (skill in rows, professions in columns)\n",
    "        skill_index_to_corrected: Dict[int, str]\n",
    "            Dictionary from index to skill name\n",
    "        prof_index_to_corrected: Dict[int, str]\n",
    "            Dictionary from index to profession name\n",
    "        top_n_skill_per_profession: int\n",
    "            maximum skills for each profession\n",
    "        salary: Tuple[float, float]:\n",
    "            filter by salary, from and to, or None\n",
    "            !!! do not set because too low vacancies whith salary\n",
    "        norm_type: str\n",
    "            How normalize skill-prof matrix ('none', 'skill', 'prof', 'bm', 'tfidf')\n",
    "        factor_alg_type: str\n",
    "            Type of algorithm for skill map ('tsne', 'als', 'svd', 'pca', 'sim_euclid', 'sim_cos')\n",
    "\n",
    "        Returns\n",
    "        -------\n",
    "        Tuple[pd.DataFrame, pd.DataFrame] : \n",
    "            - DataFrame for skill map plot\n",
    "            - DataFrame for profession map plot\n",
    "    \n",
    "    \n",
    "    \"\"\"\n",
    "\n",
    "    def apply_filter(df, top_n_skill_per_profession, salary):\n",
    "        if salary is not None:\n",
    "            df = df[(df.salary_q75 > salary[0]) & (df.salary_q25 <= salary[1])]\n",
    "        if top_n_skill_per_profession is not None:\n",
    "            df = df.head(top_n_skill_per_profession)\n",
    "        return df\n",
    "\n",
    "    # skill_filter_indexes - skills for plot\n",
    "    skill_filter_indexes = []\n",
    "    for p in prof_index_to_corrected.values():\n",
    "        skills_per_profession = skill_df.sort_values(p, ascending=False)\n",
    "        skills_per_profession = apply_filter(skills_per_profession, top_n_skill_per_profession, salary)\n",
    "\n",
    "        skill_filter_indexes = skill_filter_indexes + \\\n",
    "            [x for x in skills_per_profession.skill_id if x not in skill_filter_indexes]\n",
    "\n",
    "    # Normalization\n",
    "    m = matrix[skill_filter_indexes, :].T\n",
    "\n",
    "    if norm_type == 'skill':\n",
    "        # norm for earch skill\n",
    "        m = m / np.sum(m, axis=0, keepdims=True)\n",
    "    elif norm_type == 'prof':\n",
    "        # norm for each prof\n",
    "        m = m / np.sum(m, axis=1, keepdims=True)\n",
    "    elif norm_type == 'bm':\n",
    "        m = np.asarray(bm25_weight(m).todense())\n",
    "    elif norm_type == 'tfidf':\n",
    "        m = np.asarray(tfidf_weight(m).todense())\n",
    "    elif norm_type != 'none':\n",
    "        raise ValueError(\"norm_type parametr must be ('none', 'skill', 'prof')\")\n",
    "\n",
    "    # als is needed for professions because T-NSE doesn't work with few objects\n",
    "    csr = csr_matrix(m)\n",
    "    model = implicit.als.AlternatingLeastSquares(factors=2, regularization=0.0, \n",
    "        iterations=20, alpha=10, random_state=RANDOM_STATE)\n",
    "    model.fit(csr, show_progress=False)\n",
    "    profs_xy = model.user_factors\n",
    "\n",
    "    use_tsne = False\n",
    "\n",
    "    if factor_alg_type == 'svd':\n",
    "        skills_xy, _, _ = svds(csr.T, k=dim, random_state=RANDOM_STATE)\n",
    "    elif factor_alg_type == 'pca':\n",
    "        pca = PCA(n_components=dim)\n",
    "        skills_xy = pca.fit_transform(m.T)\n",
    "    elif factor_alg_type == 'tsne':\n",
    "        #skills_xy = TSNE(n_components=2, random_state=RANDOM_STATE).fit_transform(m.T)\n",
    "        skills_xy = m.T.copy()\n",
    "        use_tsne = True\n",
    "    elif factor_alg_type == 'als':\n",
    "        skills_xy = model.item_factors\n",
    "        use_tsne = True\n",
    "    elif factor_alg_type == 'sim_euclid':\n",
    "        skills_xy = euclidean_distances(m.T)\n",
    "        use_tsne = True\n",
    "    elif factor_alg_type == 'sim_cos':     \n",
    "        skills_xy = cosine_similarity(m.T)\n",
    "        use_tsne = True\n",
    "    elif factor_alg_type == 'umap':\n",
    "#         skills_xy = cosine_similarity(m.T)\n",
    "        skills_xy = umap.UMAP(n_neighbors=10,\n",
    "                              transform_seed=RANDOM_STATE,\n",
    "                              random_state=RANDOM_STATE).fit_transform(m.T)\n",
    "    else:\n",
    "        raise ValueError(\"skills_xy parametr must be ('tsne', 'als', 'svd', 'pca', 'sim_euclid', 'sim_cos')\")\n",
    "    \n",
    "    if use_tsne:\n",
    "        skills_xy = TSNE(n_components=2, \n",
    "                         perplexity=perplexity, \n",
    "                         early_exaggeration=early_exaggeration,\n",
    "                         learning_rate=learning_rate,\n",
    "                         random_state=RANDOM_STATE).fit_transform(skills_xy)\n",
    "\n",
    "\n",
    "    df = pd.DataFrame(skills_xy).rename(columns={0:'x',1:'y'})\n",
    "    df['skill_id'] = list(skill_filter_indexes)\n",
    "    df['Навык'] = df.skill_id.apply(lambda x: skill_index_to_corrected[x])\n",
    "\n",
    "    # be ensure that for every profession has skill point \n",
    "    # (one skill may be in severall professions)\n",
    "    df_plot_skill = None\n",
    "    for p in prof_index_to_corrected.values():\n",
    "\n",
    "        skills_per_profession = skill_df.sort_values(p, ascending=False)\n",
    "        skills_per_profession = apply_filter(skills_per_profession, top_n_skill_per_profession, salary)\n",
    "        ids = skills_per_profession.skill_id.to_numpy()\n",
    "\n",
    "        df_for_prof = df[df.skill_id.isin(ids)]\n",
    "        df_for_prof['Профессия'] = p\n",
    "\n",
    "        min_f = skills_per_profession[p].min()\n",
    "        max_f = skills_per_profession[p].max()\n",
    "        if max_f - min_f < 1e-10:\n",
    "            max_f += 1\n",
    "        size_series = skills_per_profession[p].apply(lambda x: (x - min_f) / (max_f - min_f))\n",
    "        size_dict = pd.Series(size_series.values, index=skills_per_profession.skill_id).to_dict()\n",
    "        df_for_prof['size'] = df_for_prof.skill_id.apply(lambda x: 15 * size_dict[x] + 0.8)\n",
    "\n",
    "        if df_plot_skill is None:\n",
    "            df_plot_skill = df_for_prof\n",
    "        else:\n",
    "            df_plot_skill = pd.concat([df_plot_skill, df_for_prof])\n",
    "\n",
    "    if profs_xy.shape[0] < 1000:\n",
    "        df_plot_prof = pd.DataFrame(profs_xy).rename(columns={0:'x',1:'y'})\n",
    "        df_plot_prof['Профессия'] = pd.Series(df_plot_prof.index).apply(lambda x: prof_index_to_corrected[x])\n",
    "    else:\n",
    "        # это потроение по th-idf признакам, а не профессиям -> нельзя построить карту профессий\n",
    "        df_plot_prof = None\n",
    "\n",
    "    return df_plot_skill, df_plot_prof"
   ]
  },
  {
   "cell_type": "code",
   "execution_count": 24,
   "metadata": {},
   "outputs": [
    {
     "data": {
      "text/plain": [
       "dict_values(['Аналитик', 'Аналитик BI', 'Big Data', 'NLP', 'Data Scientist', 'Администратор баз данных', 'Продуктовый аналитик', 'Инженер данных', 'Аналитик данных', 'Computer Vision', 'Системный аналитик', 'ML инженер', 'Бизнес-аналитик'])"
      ]
     },
     "execution_count": 24,
     "metadata": {},
     "output_type": "execute_result"
    }
   ],
   "source": [
    "prof_index_to_prof_name.values()"
   ]
  },
  {
   "cell_type": "code",
   "execution_count": 25,
   "metadata": {},
   "outputs": [],
   "source": [
    "def plot_skill_map(df: pd.DataFrame, width=1000, height=600) -> plotly.graph_objs.Figure:\n",
    "\n",
    "\n",
    "\n",
    "    color_list = [\n",
    "        '#F8A19F', '#AA0DFE', '#3283FE', '#1CBE4F', '#C4451C', '#F6222E', \n",
    "        '#FE00FA', '#325A9B', '#FEAF16', \n",
    "        '#90AD1C', '#2ED9FF', '#B10DA1',\n",
    "         '#909090', '#FBE426',\n",
    "        '#FA0087', '#C075A6', '#FC1CBF'\n",
    "    ]\n",
    "\n",
    "\n",
    "    \n",
    "    # custom visualization order\n",
    "    # for better reproducability\n",
    "    prof_order = [\n",
    "        'Data Scientist', 'ML инженер', 'Computer Vision', 'NLP',\n",
    "        'Инженер данных', 'Big Data', 'Администратор баз данных', 'Аналитик данных',\n",
    "        'Аналитик', 'Бизнес-аналитик', 'Продуктовый аналитик', 'Аналитик BI',\n",
    "        'Системный аналитик' ]\n",
    "\n",
    "    fig = px.scatter(df, x='x', y='y',\n",
    "                    color='Профессия', hover_name='Навык', \n",
    "                    hover_data= {'x':False, 'y':False, 'size':False, 'Профессия': False},\n",
    "                    size='size', category_orders={'Профессия': prof_order},\n",
    "                    #color_discrete_sequence=px.colors.qualitative.Plotly,\n",
    "                    color_discrete_sequence=color_list,\n",
    "                    title = None, width=width, height=height)\n",
    "\n",
    "    fig.update_traces(marker=dict(opacity=0.7, line=dict(width=0.5, color='DarkSlateGrey')), \n",
    "                  selector=dict(mode='markers'))\n",
    "\n",
    "    fig.update_xaxes(visible=False)\n",
    "    fig.update_yaxes(visible=False)\n",
    "\n",
    "    return fig"
   ]
  },
  {
   "cell_type": "code",
   "execution_count": 26,
   "metadata": {},
   "outputs": [],
   "source": [
    "df_plot_skill, _ = prepare_plot_df(skill_df, matrix, skill_index_to_corrected,\n",
    "                                              prof_index_to_prof_name, \n",
    "                                              top_n_skill_per_profession=100,\n",
    "                                              norm_type='none', factor_alg_type='tsne')\n",
    "\n"
   ]
  },
  {
   "cell_type": "code",
   "execution_count": 27,
   "metadata": {},
   "outputs": [
    {
     "data": {
      "text/html": [
       "<div>\n",
       "<style scoped>\n",
       "    .dataframe tbody tr th:only-of-type {\n",
       "        vertical-align: middle;\n",
       "    }\n",
       "\n",
       "    .dataframe tbody tr th {\n",
       "        vertical-align: top;\n",
       "    }\n",
       "\n",
       "    .dataframe thead th {\n",
       "        text-align: right;\n",
       "    }\n",
       "</style>\n",
       "<table border=\"1\" class=\"dataframe\">\n",
       "  <thead>\n",
       "    <tr style=\"text-align: right;\">\n",
       "      <th></th>\n",
       "      <th>x</th>\n",
       "      <th>y</th>\n",
       "      <th>skill_id</th>\n",
       "      <th>Навык</th>\n",
       "      <th>Профессия</th>\n",
       "      <th>size</th>\n",
       "    </tr>\n",
       "  </thead>\n",
       "  <tbody>\n",
       "    <tr>\n",
       "      <th>0</th>\n",
       "      <td>15.656795</td>\n",
       "      <td>21.311247</td>\n",
       "      <td>44</td>\n",
       "      <td>Аналитическое мышление</td>\n",
       "      <td>Аналитик</td>\n",
       "      <td>15.800000</td>\n",
       "    </tr>\n",
       "    <tr>\n",
       "      <th>1</th>\n",
       "      <td>16.955860</td>\n",
       "      <td>22.553305</td>\n",
       "      <td>475</td>\n",
       "      <td>SQL</td>\n",
       "      <td>Аналитик</td>\n",
       "      <td>13.047110</td>\n",
       "    </tr>\n",
       "    <tr>\n",
       "      <th>2</th>\n",
       "      <td>16.089966</td>\n",
       "      <td>21.407011</td>\n",
       "      <td>435</td>\n",
       "      <td>Английский</td>\n",
       "      <td>Аналитик</td>\n",
       "      <td>12.093353</td>\n",
       "    </tr>\n",
       "    <tr>\n",
       "      <th>3</th>\n",
       "      <td>16.613667</td>\n",
       "      <td>21.205374</td>\n",
       "      <td>120</td>\n",
       "      <td>Анализ данных</td>\n",
       "      <td>Аналитик</td>\n",
       "      <td>11.182948</td>\n",
       "    </tr>\n",
       "    <tr>\n",
       "      <th>4</th>\n",
       "      <td>16.525524</td>\n",
       "      <td>19.591145</td>\n",
       "      <td>38</td>\n",
       "      <td>Анализ рынка</td>\n",
       "      <td>Аналитик</td>\n",
       "      <td>9.448844</td>\n",
       "    </tr>\n",
       "    <tr>\n",
       "      <th>...</th>\n",
       "      <td>...</td>\n",
       "      <td>...</td>\n",
       "      <td>...</td>\n",
       "      <td>...</td>\n",
       "      <td>...</td>\n",
       "      <td>...</td>\n",
       "    </tr>\n",
       "    <tr>\n",
       "      <th>423</th>\n",
       "      <td>12.228292</td>\n",
       "      <td>0.103422</td>\n",
       "      <td>1447</td>\n",
       "      <td>Системный подход</td>\n",
       "      <td>Бизнес-аналитик</td>\n",
       "      <td>0.869444</td>\n",
       "    </tr>\n",
       "    <tr>\n",
       "      <th>424</th>\n",
       "      <td>10.595517</td>\n",
       "      <td>0.796272</td>\n",
       "      <td>87</td>\n",
       "      <td>стрессоустойчивость</td>\n",
       "      <td>Бизнес-аналитик</td>\n",
       "      <td>0.800000</td>\n",
       "    </tr>\n",
       "    <tr>\n",
       "      <th>425</th>\n",
       "      <td>12.451846</td>\n",
       "      <td>-1.350383</td>\n",
       "      <td>1559</td>\n",
       "      <td>E-Commerce</td>\n",
       "      <td>Бизнес-аналитик</td>\n",
       "      <td>0.800000</td>\n",
       "    </tr>\n",
       "    <tr>\n",
       "      <th>426</th>\n",
       "      <td>11.786855</td>\n",
       "      <td>-0.947426</td>\n",
       "      <td>992</td>\n",
       "      <td>MS Project</td>\n",
       "      <td>Бизнес-аналитик</td>\n",
       "      <td>0.800000</td>\n",
       "    </tr>\n",
       "    <tr>\n",
       "      <th>427</th>\n",
       "      <td>12.242260</td>\n",
       "      <td>-0.597443</td>\n",
       "      <td>2152</td>\n",
       "      <td>Обучение персонала</td>\n",
       "      <td>Бизнес-аналитик</td>\n",
       "      <td>0.800000</td>\n",
       "    </tr>\n",
       "  </tbody>\n",
       "</table>\n",
       "<p>428 rows × 6 columns</p>\n",
       "</div>"
      ],
      "text/plain": [
       "             x          y  skill_id                   Навык        Профессия  \\\n",
       "0    15.656795  21.311247        44  Аналитическое мышление         Аналитик   \n",
       "1    16.955860  22.553305       475                     SQL         Аналитик   \n",
       "2    16.089966  21.407011       435              Английский         Аналитик   \n",
       "3    16.613667  21.205374       120           Анализ данных         Аналитик   \n",
       "4    16.525524  19.591145        38            Анализ рынка         Аналитик   \n",
       "..         ...        ...       ...                     ...              ...   \n",
       "423  12.228292   0.103422      1447        Системный подход  Бизнес-аналитик   \n",
       "424  10.595517   0.796272        87     стрессоустойчивость  Бизнес-аналитик   \n",
       "425  12.451846  -1.350383      1559              E-Commerce  Бизнес-аналитик   \n",
       "426  11.786855  -0.947426       992              MS Project  Бизнес-аналитик   \n",
       "427  12.242260  -0.597443      2152      Обучение персонала  Бизнес-аналитик   \n",
       "\n",
       "          size  \n",
       "0    15.800000  \n",
       "1    13.047110  \n",
       "2    12.093353  \n",
       "3    11.182948  \n",
       "4     9.448844  \n",
       "..         ...  \n",
       "423   0.869444  \n",
       "424   0.800000  \n",
       "425   0.800000  \n",
       "426   0.800000  \n",
       "427   0.800000  \n",
       "\n",
       "[428 rows x 6 columns]"
      ]
     },
     "execution_count": 27,
     "metadata": {},
     "output_type": "execute_result"
    }
   ],
   "source": [
    "df_plot_skill.drop_duplicates(subset=['x', 'y', 'skill_id', 'Навык'])"
   ]
  },
  {
   "cell_type": "code",
   "execution_count": 28,
   "metadata": {},
   "outputs": [
    {
     "data": {
      "text/plain": [
       "(428, 6)"
      ]
     },
     "execution_count": 28,
     "metadata": {},
     "output_type": "execute_result"
    }
   ],
   "source": [
    "df = df_plot_skill.drop_duplicates(subset=['x', 'y', 'skill_id'])\n",
    "df.shape"
   ]
  },
  {
   "cell_type": "code",
   "execution_count": 29,
   "metadata": {},
   "outputs": [
    {
     "data": {
      "text/html": [
       "<div>\n",
       "<style scoped>\n",
       "    .dataframe tbody tr th:only-of-type {\n",
       "        vertical-align: middle;\n",
       "    }\n",
       "\n",
       "    .dataframe tbody tr th {\n",
       "        vertical-align: top;\n",
       "    }\n",
       "\n",
       "    .dataframe thead th {\n",
       "        text-align: right;\n",
       "    }\n",
       "</style>\n",
       "<table border=\"1\" class=\"dataframe\">\n",
       "  <thead>\n",
       "    <tr style=\"text-align: right;\">\n",
       "      <th></th>\n",
       "      <th>x</th>\n",
       "      <th>y</th>\n",
       "      <th>skill_id</th>\n",
       "      <th>Навык</th>\n",
       "      <th>Профессия</th>\n",
       "      <th>size</th>\n",
       "    </tr>\n",
       "  </thead>\n",
       "  <tbody>\n",
       "    <tr>\n",
       "      <th>258</th>\n",
       "      <td>-5.855479</td>\n",
       "      <td>-0.457575</td>\n",
       "      <td>1339</td>\n",
       "      <td>Information Technology</td>\n",
       "      <td>Data Scientist</td>\n",
       "      <td>0.845181</td>\n",
       "    </tr>\n",
       "    <tr>\n",
       "      <th>260</th>\n",
       "      <td>-5.855479</td>\n",
       "      <td>-0.457575</td>\n",
       "      <td>1609</td>\n",
       "      <td>PD</td>\n",
       "      <td>Data Scientist</td>\n",
       "      <td>0.845181</td>\n",
       "    </tr>\n",
       "    <tr>\n",
       "      <th>264</th>\n",
       "      <td>-6.265494</td>\n",
       "      <td>-1.167121</td>\n",
       "      <td>1878</td>\n",
       "      <td>EAD</td>\n",
       "      <td>Data Scientist</td>\n",
       "      <td>0.800000</td>\n",
       "    </tr>\n",
       "    <tr>\n",
       "      <th>265</th>\n",
       "      <td>-6.265494</td>\n",
       "      <td>-1.167121</td>\n",
       "      <td>4</td>\n",
       "      <td>ПВР</td>\n",
       "      <td>Data Scientist</td>\n",
       "      <td>0.800000</td>\n",
       "    </tr>\n",
       "    <tr>\n",
       "      <th>266</th>\n",
       "      <td>-6.265494</td>\n",
       "      <td>-1.167121</td>\n",
       "      <td>1738</td>\n",
       "      <td>Search ranking</td>\n",
       "      <td>Data Scientist</td>\n",
       "      <td>0.800000</td>\n",
       "    </tr>\n",
       "    <tr>\n",
       "      <th>284</th>\n",
       "      <td>-25.470648</td>\n",
       "      <td>-7.963351</td>\n",
       "      <td>1394</td>\n",
       "      <td>Oracle RAC</td>\n",
       "      <td>Администратор баз данных</td>\n",
       "      <td>0.938889</td>\n",
       "    </tr>\n",
       "    <tr>\n",
       "      <th>287</th>\n",
       "      <td>-25.470648</td>\n",
       "      <td>-7.963351</td>\n",
       "      <td>2050</td>\n",
       "      <td>barman</td>\n",
       "      <td>Администратор баз данных</td>\n",
       "      <td>0.938889</td>\n",
       "    </tr>\n",
       "  </tbody>\n",
       "</table>\n",
       "</div>"
      ],
      "text/plain": [
       "             x         y  skill_id                   Навык  \\\n",
       "258  -5.855479 -0.457575      1339  Information Technology   \n",
       "260  -5.855479 -0.457575      1609                      PD   \n",
       "264  -6.265494 -1.167121      1878                     EAD   \n",
       "265  -6.265494 -1.167121         4                     ПВР   \n",
       "266  -6.265494 -1.167121      1738          Search ranking   \n",
       "284 -25.470648 -7.963351      1394              Oracle RAC   \n",
       "287 -25.470648 -7.963351      2050                  barman   \n",
       "\n",
       "                    Профессия      size  \n",
       "258            Data Scientist  0.845181  \n",
       "260            Data Scientist  0.845181  \n",
       "264            Data Scientist  0.800000  \n",
       "265            Data Scientist  0.800000  \n",
       "266            Data Scientist  0.800000  \n",
       "284  Администратор баз данных  0.938889  \n",
       "287  Администратор баз данных  0.938889  "
      ]
     },
     "execution_count": 29,
     "metadata": {},
     "output_type": "execute_result"
    }
   ],
   "source": [
    "df.groupby(['x', 'y']).filter(lambda x: len(x) > 1)"
   ]
  },
  {
   "attachments": {},
   "cell_type": "markdown",
   "metadata": {},
   "source": [
    "Это очень странно (выше, что разные навыки получили одну и ту же точку)"
   ]
  },
  {
   "cell_type": "code",
   "execution_count": 30,
   "metadata": {},
   "outputs": [
    {
     "data": {
      "text/plain": [
       "(2160, 13)"
      ]
     },
     "execution_count": 30,
     "metadata": {},
     "output_type": "execute_result"
    }
   ],
   "source": [
    "matrix.shape"
   ]
  },
  {
   "cell_type": "code",
   "execution_count": 31,
   "metadata": {},
   "outputs": [
    {
     "data": {
      "text/plain": [
       "(709, 13)"
      ]
     },
     "execution_count": 31,
     "metadata": {},
     "output_type": "execute_result"
    }
   ],
   "source": [
    "np.unique(matrix, axis=0).shape"
   ]
  },
  {
   "attachments": {},
   "cell_type": "markdown",
   "metadata": {},
   "source": [
    "Думаю объяснение выше: есть множество навыков, которые имеют абсолютно одиниковое предстваление в профессиях"
   ]
  },
  {
   "attachments": {},
   "cell_type": "markdown",
   "metadata": {},
   "source": [
    "Mean reciprocal rank https://en.wikipedia.org/wiki/Mean_reciprocal_rank"
   ]
  },
  {
   "cell_type": "code",
   "execution_count": 32,
   "metadata": {},
   "outputs": [],
   "source": [
    "# df_plot_skill, _ = prepare_plot_df(skill_df, matrix, skill_index_to_corrected,\n",
    "#                                               prof_index_to_prof_name, \n",
    "#                                               top_n_skill_per_profession=30,\n",
    "#                                               norm_type='skill', alg_type='tnse')"
   ]
  },
  {
   "cell_type": "code",
   "execution_count": 33,
   "metadata": {},
   "outputs": [
    {
     "data": {
      "text/plain": [
       "(0.09023473759231868, 106)"
      ]
     },
     "execution_count": 33,
     "metadata": {},
     "output_type": "execute_result"
    }
   ],
   "source": [
    "def get_mean_reciprocal_rank(df: pd.DataFrame, pairs: List[List[str]]) -> Tuple[float, int]:\n",
    "    \"\"\"Mean reciprocal rank https://en.wikipedia.org/wiki/Mean_reciprocal_rank\n",
    "        \n",
    "        Parameters\n",
    "        ----------\n",
    "        df: pd.DataFrame\n",
    "            Data frame with columns ['x', 'y', 'Навык']\n",
    "        pairs: List[List[str]]\n",
    "            Target nearest skills pairs\n",
    "   \n",
    "        Returns\n",
    "        -------\n",
    "        Tuple[float, int] : \n",
    "            - mean_reciprocal_rank\n",
    "            - pairs count\n",
    "    \"\"\"\n",
    "\n",
    "    df = df.drop_duplicates(subset=['x', 'y', 'Навык'])\n",
    "\n",
    "    # берем только те строки, которые есть в тестовых парах\n",
    "    # берем только те пары, навыки которых есть в данных\n",
    "\n",
    "    skills_test_set = set([])\n",
    "    for p in skill_pairs:\n",
    "        skills_test_set = skills_test_set.union(set(p))\n",
    "\n",
    "    df = df[df['Навык'].apply(lambda x: x in skills_test_set)]\n",
    "    df = df.reset_index(drop=True)\n",
    "\n",
    "    su = df['Навык'].unique()\n",
    "    pairs = [x for x in pairs if x[0] in su and x[1] in su]\n",
    "\n",
    "    # считаем расстояния в наших данных\n",
    "    x = df[['x', 'y']].to_numpy()\n",
    "    dist = cdist(x, x, 'sqeuclidean')\n",
    "\n",
    "    cs = 0\n",
    "    for p in pairs:\n",
    "        ind_p0 = df[df['Навык'] == p[0]].index[0]\n",
    "        ind_p1 = df[df['Навык'] == p[1]].index[0]\n",
    "\n",
    "        nn = np.argsort(dist[ind_p0, :])\n",
    "        rank = np.where(nn==ind_p1)[0][0]\n",
    "        cs += 1/(rank+1)\n",
    "\n",
    "        nn = np.argsort(dist[ind_p1, :])\n",
    "        rank = np.where(nn==ind_p0)[0][0]\n",
    "        cs += 1/(rank+1)\n",
    "\n",
    "    mean_reciprocal_rank = cs / (2 * len(pairs))\n",
    "    return mean_reciprocal_rank, len(pairs)\n",
    "\n",
    "get_mean_reciprocal_rank(df_plot_skill, skill_pairs)"
   ]
  },
  {
   "attachments": {},
   "cell_type": "markdown",
   "metadata": {},
   "source": [
    "Метрика **mean_reciprocal_rank@pairs=50**. Стремимся увеличить метрику, но сохранив количество пар, которые встречаются в данных, на уровне не менее 50\n",
    "\n",
    "\n"
   ]
  },
  {
   "cell_type": "code",
   "execution_count": 34,
   "metadata": {},
   "outputs": [
    {
     "name": "stdout",
     "output_type": "stream",
     "text": [
      "\n",
      "none tsne 5 True 20\n",
      "mrr = 0.15449722368222132, pairs_count = 29\n",
      "\n",
      "none tsne 5 True 21\n",
      "mrr = 0.16442567680822862, pairs_count = 29\n",
      "\n",
      "none tsne 5 True 22\n",
      "mrr = 0.16656083112861528, pairs_count = 29\n",
      "\n",
      "none tsne 5 True 23\n",
      "mrr = 0.16374826945765963, pairs_count = 33\n",
      "\n",
      "none tsne 5 True 24\n",
      "mrr = 0.15399815723123988, pairs_count = 35\n",
      "\n",
      "none tsne 5 True 25\n",
      "mrr = 0.15226638829903297, pairs_count = 36\n",
      "\n",
      "none tsne 5 True 26\n",
      "mrr = 0.14170962241174556, pairs_count = 37\n",
      "\n",
      "none tsne 5 True 27\n",
      "mrr = 0.15457838685657838, pairs_count = 38\n",
      "\n",
      "none tsne 5 True 28\n",
      "mrr = 0.14750190919833714, pairs_count = 39\n",
      "\n",
      "none tsne 5 True 29\n",
      "mrr = 0.14534031464728203, pairs_count = 39\n",
      "\n",
      "none tsne 5 True 30\n",
      "mrr = 0.14767879977003176, pairs_count = 41\n",
      "\n",
      "none tsne 5 True 31\n",
      "mrr = 0.1481827837506516, pairs_count = 42\n",
      "\n",
      "none tsne 5 True 32\n",
      "mrr = 0.1379521666721242, pairs_count = 43\n",
      "\n",
      "none tsne 5 True 33\n",
      "mrr = 0.12241419254353796, pairs_count = 47\n",
      "\n",
      "none tsne 5 True 34\n",
      "mrr = 0.12193851249727228, pairs_count = 47\n",
      "\n",
      "none tsne 5 True 35\n",
      "mrr = 0.12735588704534712, pairs_count = 48\n",
      "\n",
      "none tsne 5 True 36\n",
      "mrr = 0.12023742924795058, pairs_count = 50\n",
      "\n",
      "none tsne 5 True 37\n",
      "mrr = 0.11297760183738986, pairs_count = 52\n",
      "\n",
      "none tsne 5 True 38\n",
      "mrr = 0.11613776755018436, pairs_count = 57\n",
      "\n",
      "none tsne 5 True 39\n",
      "mrr = 0.10939741901558128, pairs_count = 57\n",
      "\n",
      "none tsne 5 True 40\n",
      "mrr = 0.11030964250753125, pairs_count = 59\n",
      "\n",
      "none tsne 5 True 41\n",
      "mrr = 0.11158523280394306, pairs_count = 60\n",
      "\n",
      "none tsne 5 True 42\n",
      "mrr = 0.10557208239901435, pairs_count = 61\n",
      "\n",
      "none tsne 5 True 43\n",
      "mrr = 0.10239615414791751, pairs_count = 66\n",
      "\n",
      "none tsne 5 True 44\n",
      "mrr = 0.10233655169824234, pairs_count = 68\n",
      "\n",
      "none tsne 5 True 45\n",
      "mrr = 0.09923651393764636, pairs_count = 69\n",
      "\n",
      "none tsne 5 True 46\n",
      "mrr = 0.10229090876119883, pairs_count = 69\n",
      "\n",
      "none tsne 5 True 47\n",
      "mrr = 0.09764284191421624, pairs_count = 70\n",
      "\n",
      "none tsne 5 True 48\n",
      "mrr = 0.10326427635065305, pairs_count = 71\n",
      "\n",
      "none tsne 5 True 49\n",
      "mrr = 0.1016611623386297, pairs_count = 71\n",
      "\n",
      "none tsne 5 True 50\n",
      "mrr = 0.09517223521751109, pairs_count = 74\n",
      "\n",
      "none als 5 True 20\n",
      "mrr = 0.09111326272654714, pairs_count = 29\n",
      "\n",
      "none als 5 True 21\n",
      "mrr = 0.148710897851014, pairs_count = 29\n",
      "\n",
      "none als 5 True 22\n",
      "mrr = 0.11014529863885031, pairs_count = 29\n",
      "\n",
      "none als 5 True 23\n",
      "mrr = 0.0975080063759257, pairs_count = 33\n",
      "\n",
      "none als 5 True 24\n",
      "mrr = 0.09224134212224178, pairs_count = 35\n",
      "\n",
      "none als 5 True 25\n",
      "mrr = 0.129560408233231, pairs_count = 36\n",
      "\n",
      "none als 5 True 26\n",
      "mrr = 0.1238133680024964, pairs_count = 37\n",
      "\n",
      "none als 5 True 27\n",
      "mrr = 0.0754278287060667, pairs_count = 38\n",
      "\n",
      "none als 5 True 28\n",
      "mrr = 0.07608441587748722, pairs_count = 39\n",
      "\n",
      "none als 5 True 29\n",
      "mrr = 0.07642338472442746, pairs_count = 39\n",
      "\n",
      "none als 5 True 30\n",
      "mrr = 0.08690677937950742, pairs_count = 41\n",
      "\n",
      "none als 5 True 31\n",
      "mrr = 0.09789215973854981, pairs_count = 42\n",
      "\n",
      "none als 5 True 32\n",
      "mrr = 0.0883178979022062, pairs_count = 43\n",
      "\n",
      "none als 5 True 33\n",
      "mrr = 0.07802801433192916, pairs_count = 47\n",
      "\n",
      "none als 5 True 34\n",
      "mrr = 0.07680946050786619, pairs_count = 47\n",
      "\n",
      "none als 5 True 35\n",
      "mrr = 0.08235493577900728, pairs_count = 48\n",
      "\n",
      "none als 5 True 36\n",
      "mrr = 0.07377668243392543, pairs_count = 50\n",
      "\n",
      "none als 5 True 37\n",
      "mrr = 0.06522715963128456, pairs_count = 52\n",
      "\n",
      "none als 5 True 38\n",
      "mrr = 0.05798176180810372, pairs_count = 57\n",
      "\n",
      "none als 5 True 39\n",
      "mrr = 0.06385447305920917, pairs_count = 57\n",
      "\n",
      "none als 5 True 40\n",
      "mrr = 0.07249488070462994, pairs_count = 59\n",
      "\n",
      "none als 5 True 41\n",
      "mrr = 0.05665231491742553, pairs_count = 60\n",
      "\n",
      "none als 5 True 42\n",
      "mrr = 0.06917947663171388, pairs_count = 61\n",
      "\n",
      "none als 5 True 43\n",
      "mrr = 0.055147099505700056, pairs_count = 66\n",
      "\n",
      "none als 5 True 44\n",
      "mrr = 0.05664139205338357, pairs_count = 68\n",
      "\n",
      "none als 5 True 45\n",
      "mrr = 0.05780774472946982, pairs_count = 69\n",
      "\n",
      "none als 5 True 46\n",
      "mrr = 0.059974034880592074, pairs_count = 69\n",
      "\n",
      "none als 5 True 47\n",
      "mrr = 0.05510626579539961, pairs_count = 70\n",
      "\n",
      "none als 5 True 48\n",
      "mrr = 0.055077497368272735, pairs_count = 71\n",
      "\n",
      "none als 5 True 49\n",
      "mrr = 0.054925987654965744, pairs_count = 71\n",
      "\n",
      "none als 5 True 50\n",
      "mrr = 0.05865490506774323, pairs_count = 74\n",
      "\n",
      "none svd 5 True 20\n",
      "mrr = 0.11073536352897738, pairs_count = 29\n",
      "\n",
      "none svd 5 True 21\n",
      "mrr = 0.10958979810622632, pairs_count = 29\n",
      "\n",
      "none svd 5 True 22\n",
      "mrr = 0.10868650605610969, pairs_count = 29\n",
      "\n",
      "none svd 5 True 23\n",
      "mrr = 0.10128731833742, pairs_count = 33\n",
      "\n",
      "none svd 5 True 24\n",
      "mrr = 0.09845473174039689, pairs_count = 35\n",
      "\n",
      "none svd 5 True 25\n",
      "mrr = 0.09414533077047899, pairs_count = 36\n",
      "\n",
      "none svd 5 True 26\n",
      "mrr = 0.09227490906361706, pairs_count = 37\n",
      "\n",
      "none svd 5 True 27\n",
      "mrr = 0.09019064829669564, pairs_count = 38\n",
      "\n",
      "none svd 5 True 28\n",
      "mrr = 0.08820457035131578, pairs_count = 39\n",
      "\n",
      "none svd 5 True 29\n",
      "mrr = 0.08776392161199699, pairs_count = 39\n",
      "\n",
      "none svd 5 True 30\n",
      "mrr = 0.08864704556664954, pairs_count = 41\n",
      "\n",
      "none svd 5 True 31\n",
      "mrr = 0.08806430132869406, pairs_count = 42\n",
      "\n",
      "none svd 5 True 32\n",
      "mrr = 0.0860814617600606, pairs_count = 43\n",
      "\n",
      "none svd 5 True 33\n",
      "mrr = 0.07880394533352751, pairs_count = 47\n",
      "\n",
      "none svd 5 True 34\n",
      "mrr = 0.07887452135392398, pairs_count = 47\n",
      "\n",
      "none svd 5 True 35\n",
      "mrr = 0.07989113249728312, pairs_count = 48\n",
      "\n",
      "none svd 5 True 36\n",
      "mrr = 0.07716957377930965, pairs_count = 50\n",
      "\n",
      "none svd 5 True 37\n",
      "mrr = 0.07434567392606482, pairs_count = 52\n",
      "\n",
      "none svd 5 True 38\n",
      "mrr = 0.06848339522965012, pairs_count = 57\n",
      "\n",
      "none svd 5 True 39\n",
      "mrr = 0.06848339522965012, pairs_count = 57\n",
      "\n",
      "none svd 5 True 40\n",
      "mrr = 0.06649625192071149, pairs_count = 59\n",
      "\n",
      "none svd 5 True 41\n",
      "mrr = 0.06640251319933246, pairs_count = 60\n",
      "\n",
      "none svd 5 True 42\n",
      "mrr = 0.06893435095723117, pairs_count = 61\n",
      "\n",
      "none svd 5 True 43\n",
      "mrr = 0.06531575497400949, pairs_count = 66\n",
      "\n",
      "none svd 5 True 44\n",
      "mrr = 0.06320338741209681, pairs_count = 68\n",
      "\n",
      "none svd 5 True 45\n",
      "mrr = 0.062473667559858545, pairs_count = 69\n",
      "\n",
      "none svd 5 True 46\n",
      "mrr = 0.062473667559858545, pairs_count = 69\n",
      "\n",
      "none svd 5 True 47\n",
      "mrr = 0.06182903966314949, pairs_count = 70\n",
      "\n",
      "none svd 5 True 48\n",
      "mrr = 0.06255723585369125, pairs_count = 71\n",
      "\n",
      "none svd 5 True 49\n",
      "mrr = 0.06255723585369125, pairs_count = 71\n",
      "\n",
      "none svd 5 True 50\n",
      "mrr = 0.06020381640116278, pairs_count = 74\n",
      "\n",
      "none svd 2 False 20\n",
      "mrr = 0.11073536352897738, pairs_count = 29\n",
      "\n",
      "none svd 2 False 21\n",
      "mrr = 0.10958979810622632, pairs_count = 29\n",
      "\n",
      "none svd 2 False 22\n",
      "mrr = 0.10868650605610969, pairs_count = 29\n",
      "\n",
      "none svd 2 False 23\n",
      "mrr = 0.10128731833742, pairs_count = 33\n",
      "\n",
      "none svd 2 False 24\n",
      "mrr = 0.09845473174039689, pairs_count = 35\n",
      "\n",
      "none svd 2 False 25\n",
      "mrr = 0.09414533077047899, pairs_count = 36\n",
      "\n",
      "none svd 2 False 26\n",
      "mrr = 0.09227490906361706, pairs_count = 37\n",
      "\n",
      "none svd 2 False 27\n",
      "mrr = 0.09019064829669564, pairs_count = 38\n",
      "\n",
      "none svd 2 False 28\n",
      "mrr = 0.08820457035131578, pairs_count = 39\n",
      "\n",
      "none svd 2 False 29\n",
      "mrr = 0.08776392161199699, pairs_count = 39\n",
      "\n",
      "none svd 2 False 30\n",
      "mrr = 0.08864704556664954, pairs_count = 41\n",
      "\n",
      "none svd 2 False 31\n",
      "mrr = 0.08806430132869406, pairs_count = 42\n",
      "\n",
      "none svd 2 False 32\n",
      "mrr = 0.0860814617600606, pairs_count = 43\n",
      "\n",
      "none svd 2 False 33\n",
      "mrr = 0.07880394533352751, pairs_count = 47\n",
      "\n",
      "none svd 2 False 34\n",
      "mrr = 0.07887452135392398, pairs_count = 47\n",
      "\n",
      "none svd 2 False 35\n",
      "mrr = 0.07989113249728312, pairs_count = 48\n",
      "\n",
      "none svd 2 False 36\n",
      "mrr = 0.07716957377930965, pairs_count = 50\n",
      "\n",
      "none svd 2 False 37\n",
      "mrr = 0.07434567392606482, pairs_count = 52\n",
      "\n",
      "none svd 2 False 38\n",
      "mrr = 0.06848339522965012, pairs_count = 57\n",
      "\n",
      "none svd 2 False 39\n",
      "mrr = 0.06848339522965012, pairs_count = 57\n",
      "\n",
      "none svd 2 False 40\n",
      "mrr = 0.06649625192071149, pairs_count = 59\n",
      "\n",
      "none svd 2 False 41\n",
      "mrr = 0.06640251319933246, pairs_count = 60\n",
      "\n",
      "none svd 2 False 42\n",
      "mrr = 0.06893435095723117, pairs_count = 61\n",
      "\n",
      "none svd 2 False 43\n",
      "mrr = 0.06531575497400949, pairs_count = 66\n",
      "\n",
      "none svd 2 False 44\n",
      "mrr = 0.06320338741209681, pairs_count = 68\n",
      "\n",
      "none svd 2 False 45\n",
      "mrr = 0.062473667559858545, pairs_count = 69\n",
      "\n",
      "none svd 2 False 46\n",
      "mrr = 0.062473667559858545, pairs_count = 69\n",
      "\n",
      "none svd 2 False 47\n",
      "mrr = 0.06182903966314949, pairs_count = 70\n",
      "\n",
      "none svd 2 False 48\n",
      "mrr = 0.06255723585369125, pairs_count = 71\n",
      "\n",
      "none svd 2 False 49\n",
      "mrr = 0.06255723585369125, pairs_count = 71\n",
      "\n",
      "none svd 2 False 50\n",
      "mrr = 0.06020381640116278, pairs_count = 74\n",
      "\n",
      "none pca 5 True 20\n",
      "mrr = 0.1500413343139768, pairs_count = 29\n",
      "\n",
      "none pca 5 True 21\n",
      "mrr = 0.14598147168117914, pairs_count = 29\n",
      "\n",
      "none pca 5 True 22\n",
      "mrr = 0.14250519404743883, pairs_count = 29\n",
      "\n",
      "none pca 5 True 23\n",
      "mrr = 0.1317444993726729, pairs_count = 33\n",
      "\n",
      "none pca 5 True 24\n",
      "mrr = 0.12282917916485829, pairs_count = 35\n",
      "\n",
      "none pca 5 True 25\n",
      "mrr = 0.11793967553733357, pairs_count = 36\n",
      "\n",
      "none pca 5 True 26\n",
      "mrr = 0.11143378330078209, pairs_count = 37\n",
      "\n",
      "none pca 5 True 27\n",
      "mrr = 0.10921007616291446, pairs_count = 38\n",
      "\n",
      "none pca 5 True 28\n",
      "mrr = 0.10661527462850845, pairs_count = 39\n",
      "\n",
      "none pca 5 True 29\n",
      "mrr = 0.1056646674022786, pairs_count = 39\n",
      "\n",
      "none pca 5 True 30\n",
      "mrr = 0.10701954751216905, pairs_count = 41\n",
      "\n",
      "none pca 5 True 31\n",
      "mrr = 0.105346716507911, pairs_count = 42\n",
      "\n",
      "none pca 5 True 32\n",
      "mrr = 0.10292826228385335, pairs_count = 43\n",
      "\n",
      "none pca 5 True 33\n",
      "mrr = 0.09428775466648052, pairs_count = 47\n",
      "\n",
      "none pca 5 True 34\n",
      "mrr = 0.09428775466648052, pairs_count = 47\n",
      "\n",
      "none pca 5 True 35\n",
      "mrr = 0.09155165819321397, pairs_count = 48\n",
      "\n",
      "none pca 5 True 36\n",
      "mrr = 0.0886296217276902, pairs_count = 50\n",
      "\n",
      "none pca 5 True 37\n",
      "mrr = 0.08558160630039921, pairs_count = 52\n",
      "\n",
      "none pca 5 True 38\n",
      "mrr = 0.08240237667206228, pairs_count = 57\n",
      "\n",
      "none pca 5 True 39\n",
      "mrr = 0.08240237667206228, pairs_count = 57\n",
      "\n",
      "none pca 5 True 40\n",
      "mrr = 0.07991713191125399, pairs_count = 59\n",
      "\n",
      "none pca 5 True 41\n",
      "mrr = 0.07977019498537653, pairs_count = 60\n",
      "\n",
      "none pca 5 True 42\n",
      "mrr = 0.07852143337388443, pairs_count = 61\n",
      "\n",
      "none pca 5 True 43\n",
      "mrr = 0.07380700734955482, pairs_count = 66\n",
      "\n",
      "none pca 5 True 44\n",
      "mrr = 0.07159678891869457, pairs_count = 68\n",
      "\n",
      "none pca 5 True 45\n",
      "mrr = 0.07053126656105337, pairs_count = 69\n",
      "\n",
      "none pca 5 True 46\n",
      "mrr = 0.07053126656105337, pairs_count = 69\n",
      "\n",
      "none pca 5 True 47\n",
      "mrr = 0.06847231426365498, pairs_count = 70\n",
      "\n",
      "none pca 5 True 48\n",
      "mrr = 0.06868389687639657, pairs_count = 71\n",
      "\n",
      "none pca 5 True 49\n",
      "mrr = 0.06872521274026926, pairs_count = 71\n",
      "\n",
      "none pca 5 True 50\n",
      "mrr = 0.06616798737669659, pairs_count = 74\n",
      "\n",
      "none pca 2 False 20\n",
      "mrr = 0.1500413343139768, pairs_count = 29\n",
      "\n",
      "none pca 2 False 21\n",
      "mrr = 0.14598147168117914, pairs_count = 29\n",
      "\n",
      "none pca 2 False 22\n",
      "mrr = 0.14250519404743883, pairs_count = 29\n",
      "\n",
      "none pca 2 False 23\n",
      "mrr = 0.1317444993726729, pairs_count = 33\n",
      "\n",
      "none pca 2 False 24\n",
      "mrr = 0.12282917916485829, pairs_count = 35\n",
      "\n",
      "none pca 2 False 25\n",
      "mrr = 0.11793967553733357, pairs_count = 36\n",
      "\n",
      "none pca 2 False 26\n",
      "mrr = 0.11143378330078209, pairs_count = 37\n",
      "\n",
      "none pca 2 False 27\n",
      "mrr = 0.10921007616291446, pairs_count = 38\n",
      "\n",
      "none pca 2 False 28\n",
      "mrr = 0.10661527462850845, pairs_count = 39\n",
      "\n",
      "none pca 2 False 29\n",
      "mrr = 0.1056646674022786, pairs_count = 39\n",
      "\n",
      "none pca 2 False 30\n",
      "mrr = 0.10701954751216905, pairs_count = 41\n",
      "\n",
      "none pca 2 False 31\n",
      "mrr = 0.105346716507911, pairs_count = 42\n",
      "\n",
      "none pca 2 False 32\n",
      "mrr = 0.10292826228385335, pairs_count = 43\n",
      "\n",
      "none pca 2 False 33\n",
      "mrr = 0.09428775466648052, pairs_count = 47\n",
      "\n",
      "none pca 2 False 34\n",
      "mrr = 0.09428775466648052, pairs_count = 47\n",
      "\n",
      "none pca 2 False 35\n",
      "mrr = 0.09155165819321397, pairs_count = 48\n",
      "\n",
      "none pca 2 False 36\n",
      "mrr = 0.0886296217276902, pairs_count = 50\n",
      "\n",
      "none pca 2 False 37\n",
      "mrr = 0.08558160630039921, pairs_count = 52\n",
      "\n",
      "none pca 2 False 38\n",
      "mrr = 0.08240237667206228, pairs_count = 57\n",
      "\n",
      "none pca 2 False 39\n",
      "mrr = 0.08240237667206228, pairs_count = 57\n",
      "\n",
      "none pca 2 False 40\n",
      "mrr = 0.07991713191125399, pairs_count = 59\n",
      "\n",
      "none pca 2 False 41\n",
      "mrr = 0.07977019498537653, pairs_count = 60\n",
      "\n",
      "none pca 2 False 42\n",
      "mrr = 0.07852143337388443, pairs_count = 61\n",
      "\n",
      "none pca 2 False 43\n",
      "mrr = 0.07380700734955482, pairs_count = 66\n",
      "\n",
      "none pca 2 False 44\n",
      "mrr = 0.07159678891869457, pairs_count = 68\n",
      "\n",
      "none pca 2 False 45\n",
      "mrr = 0.07053126656105337, pairs_count = 69\n",
      "\n",
      "none pca 2 False 46\n",
      "mrr = 0.07053126656105337, pairs_count = 69\n",
      "\n",
      "none pca 2 False 47\n",
      "mrr = 0.06847231426365498, pairs_count = 70\n",
      "\n",
      "none pca 2 False 48\n",
      "mrr = 0.06868389687639657, pairs_count = 71\n",
      "\n",
      "none pca 2 False 49\n",
      "mrr = 0.06872521274026926, pairs_count = 71\n",
      "\n",
      "none pca 2 False 50\n",
      "mrr = 0.06616798737669659, pairs_count = 74\n",
      "\n",
      "none sim_euclid 5 True 20\n",
      "mrr = 0.17665405149655228, pairs_count = 29\n",
      "\n",
      "none sim_euclid 5 True 21\n",
      "mrr = 0.15278504802036688, pairs_count = 29\n",
      "\n",
      "none sim_euclid 5 True 22\n",
      "mrr = 0.13234060816216253, pairs_count = 29\n",
      "\n",
      "none sim_euclid 5 True 23\n",
      "mrr = 0.13461524171628164, pairs_count = 33\n",
      "\n",
      "none sim_euclid 5 True 24\n",
      "mrr = 0.12686865902214461, pairs_count = 35\n",
      "\n",
      "none sim_euclid 5 True 25\n",
      "mrr = 0.12278044110508181, pairs_count = 36\n",
      "\n",
      "none sim_euclid 5 True 26\n",
      "mrr = 0.12056644508853799, pairs_count = 37\n",
      "\n",
      "none sim_euclid 5 True 27\n",
      "mrr = 0.11516326005616656, pairs_count = 38\n",
      "\n",
      "none sim_euclid 5 True 28\n",
      "mrr = 0.1147486097711095, pairs_count = 39\n",
      "\n",
      "none sim_euclid 5 True 29\n",
      "mrr = 0.11025606219418237, pairs_count = 39\n",
      "\n",
      "none sim_euclid 5 True 30\n",
      "mrr = 0.11275391068454475, pairs_count = 41\n",
      "\n",
      "none sim_euclid 5 True 31\n",
      "mrr = 0.12038835364929976, pairs_count = 42\n",
      "\n",
      "none sim_euclid 5 True 32\n",
      "mrr = 0.11367528758802384, pairs_count = 43\n",
      "\n",
      "none sim_euclid 5 True 33\n",
      "mrr = 0.09534057265922705, pairs_count = 47\n",
      "\n",
      "none sim_euclid 5 True 34\n",
      "mrr = 0.10257453648830925, pairs_count = 47\n",
      "\n",
      "none sim_euclid 5 True 35\n",
      "mrr = 0.09274129942564834, pairs_count = 48\n",
      "\n",
      "none sim_euclid 5 True 36\n",
      "mrr = 0.09116396848673965, pairs_count = 50\n",
      "\n",
      "none sim_euclid 5 True 37\n",
      "mrr = 0.08671037432886144, pairs_count = 52\n",
      "\n",
      "none sim_euclid 5 True 38\n",
      "mrr = 0.08699078358658956, pairs_count = 57\n",
      "\n",
      "none sim_euclid 5 True 39\n",
      "mrr = 0.08313434535142937, pairs_count = 57\n",
      "\n",
      "none sim_euclid 5 True 40\n",
      "mrr = 0.08125007170537953, pairs_count = 59\n",
      "\n",
      "none sim_euclid 5 True 41\n",
      "mrr = 0.08127300279168329, pairs_count = 60\n",
      "\n",
      "none sim_euclid 5 True 42\n",
      "mrr = 0.07758972132119096, pairs_count = 61\n",
      "\n",
      "none sim_euclid 5 True 43\n",
      "mrr = 0.06989852291713561, pairs_count = 66\n",
      "\n",
      "none sim_euclid 5 True 44\n",
      "mrr = 0.07185810756400025, pairs_count = 68\n",
      "\n",
      "none sim_euclid 5 True 45\n",
      "mrr = 0.07245477290488261, pairs_count = 69\n",
      "\n",
      "none sim_euclid 5 True 46\n",
      "mrr = 0.06893463352452486, pairs_count = 69\n",
      "\n",
      "none sim_euclid 5 True 47\n",
      "mrr = 0.06750284204785821, pairs_count = 70\n",
      "\n",
      "none sim_euclid 5 True 48\n",
      "mrr = 0.06888116578130297, pairs_count = 71\n",
      "\n",
      "none sim_euclid 5 True 49\n",
      "mrr = 0.07105169264544348, pairs_count = 71\n",
      "\n",
      "none sim_euclid 5 True 50\n",
      "mrr = 0.06841869023293466, pairs_count = 74\n",
      "\n",
      "none sim_cos 5 True 20\n",
      "mrr = 0.18716680734669064, pairs_count = 29\n",
      "\n",
      "none sim_cos 5 True 21\n",
      "mrr = 0.18742084854933702, pairs_count = 29\n",
      "\n",
      "none sim_cos 5 True 22\n",
      "mrr = 0.19473188678131065, pairs_count = 29\n",
      "\n",
      "none sim_cos 5 True 23\n",
      "mrr = 0.18369033800664686, pairs_count = 33\n",
      "\n",
      "none sim_cos 5 True 24\n",
      "mrr = 0.17354194367733117, pairs_count = 35\n",
      "\n",
      "none sim_cos 5 True 25\n",
      "mrr = 0.17391261869464789, pairs_count = 36\n",
      "\n",
      "none sim_cos 5 True 26\n",
      "mrr = 0.1623953568917953, pairs_count = 37\n",
      "\n",
      "none sim_cos 5 True 27\n",
      "mrr = 0.17396530320703282, pairs_count = 38\n",
      "\n",
      "none sim_cos 5 True 28\n",
      "mrr = 0.16652647356262015, pairs_count = 39\n",
      "\n",
      "none sim_cos 5 True 29\n",
      "mrr = 0.16460676353261908, pairs_count = 39\n",
      "\n",
      "none sim_cos 5 True 30\n",
      "mrr = 0.1482714406910104, pairs_count = 41\n",
      "\n",
      "none sim_cos 5 True 31\n",
      "mrr = 0.1558358414092291, pairs_count = 42\n",
      "\n",
      "none sim_cos 5 True 32\n",
      "mrr = 0.1543686237432774, pairs_count = 43\n",
      "\n",
      "none sim_cos 5 True 33\n",
      "mrr = 0.1480479579857018, pairs_count = 47\n",
      "\n",
      "none sim_cos 5 True 34\n",
      "mrr = 0.14840035876225147, pairs_count = 47\n",
      "\n",
      "none sim_cos 5 True 35\n",
      "mrr = 0.1448885009142928, pairs_count = 48\n",
      "\n",
      "none sim_cos 5 True 36\n",
      "mrr = 0.15027178498897306, pairs_count = 50\n",
      "\n",
      "none sim_cos 5 True 37\n",
      "mrr = 0.14146178634982978, pairs_count = 52\n",
      "\n",
      "none sim_cos 5 True 38\n",
      "mrr = 0.1371797627341687, pairs_count = 57\n",
      "\n",
      "none sim_cos 5 True 39\n",
      "mrr = 0.13687100449376355, pairs_count = 57\n",
      "\n",
      "none sim_cos 5 True 40\n",
      "mrr = 0.13808193620925585, pairs_count = 59\n",
      "\n",
      "none sim_cos 5 True 41\n",
      "mrr = 0.13841587878877698, pairs_count = 60\n",
      "\n",
      "none sim_cos 5 True 42\n",
      "mrr = 0.13610256624581016, pairs_count = 61\n",
      "\n",
      "none sim_cos 5 True 43\n",
      "mrr = 0.13277230469402707, pairs_count = 66\n",
      "\n",
      "none sim_cos 5 True 44\n",
      "mrr = 0.1363849606987353, pairs_count = 68\n",
      "\n",
      "none sim_cos 5 True 45\n",
      "mrr = 0.13144111392007288, pairs_count = 69\n",
      "\n",
      "none sim_cos 5 True 46\n",
      "mrr = 0.13005347245327656, pairs_count = 69\n",
      "\n",
      "none sim_cos 5 True 47\n",
      "mrr = 0.12963775421779222, pairs_count = 70\n",
      "\n",
      "none sim_cos 5 True 48\n",
      "mrr = 0.12814646798155768, pairs_count = 71\n",
      "\n",
      "none sim_cos 5 True 49\n",
      "mrr = 0.13421237227024393, pairs_count = 71\n",
      "\n",
      "none sim_cos 5 True 50\n",
      "mrr = 0.13563494579519936, pairs_count = 74\n",
      "\n",
      "none umap 5 True 20\n",
      "mrr = 0.17968928119980843, pairs_count = 29\n",
      "\n",
      "none umap 5 True 21\n",
      "mrr = 0.19193600391016802, pairs_count = 29\n",
      "\n",
      "none umap 5 True 22\n",
      "mrr = 0.19089078720571953, pairs_count = 29\n",
      "\n",
      "none umap 5 True 23\n",
      "mrr = 0.15981517440975776, pairs_count = 33\n",
      "\n",
      "none umap 5 True 24\n",
      "mrr = 0.1624958979128848, pairs_count = 35\n",
      "\n",
      "none umap 5 True 25\n",
      "mrr = 0.14927630257749647, pairs_count = 36\n",
      "\n",
      "none umap 5 True 26\n",
      "mrr = 0.1485708800346526, pairs_count = 37\n",
      "\n",
      "none umap 5 True 27\n",
      "mrr = 0.1588811235747969, pairs_count = 38\n",
      "\n",
      "none umap 5 True 28\n",
      "mrr = 0.14791617415308675, pairs_count = 39\n",
      "\n",
      "none umap 5 True 29\n",
      "mrr = 0.13503525029013994, pairs_count = 39\n",
      "\n",
      "none umap 5 True 30\n",
      "mrr = 0.14933327172373026, pairs_count = 41\n",
      "\n",
      "none umap 5 True 31\n",
      "mrr = 0.15765837239261998, pairs_count = 42\n",
      "\n",
      "none umap 5 True 32\n",
      "mrr = 0.1382959734211616, pairs_count = 43\n",
      "\n",
      "none umap 5 True 33\n",
      "mrr = 0.12153179691643724, pairs_count = 47\n",
      "\n",
      "none umap 5 True 34\n",
      "mrr = 0.12096397891895733, pairs_count = 47\n",
      "\n",
      "none umap 5 True 35\n",
      "mrr = 0.11774217194993081, pairs_count = 48\n",
      "\n",
      "none umap 5 True 36\n",
      "mrr = 0.1147828651879223, pairs_count = 50\n",
      "\n",
      "none umap 5 True 37\n",
      "mrr = 0.11874804127764739, pairs_count = 52\n",
      "\n",
      "none umap 5 True 38\n",
      "mrr = 0.10937738794666722, pairs_count = 57\n",
      "\n",
      "none umap 5 True 39\n",
      "mrr = 0.11279519248216179, pairs_count = 57\n",
      "\n",
      "none umap 5 True 40\n",
      "mrr = 0.10940710854021218, pairs_count = 59\n",
      "\n",
      "none umap 5 True 41\n",
      "mrr = 0.12156269574819561, pairs_count = 60\n",
      "\n",
      "none umap 5 True 42\n",
      "mrr = 0.1091821160147601, pairs_count = 61\n",
      "\n",
      "none umap 5 True 43\n",
      "mrr = 0.10877552572946482, pairs_count = 66\n",
      "\n",
      "none umap 5 True 44\n",
      "mrr = 0.09970140174193708, pairs_count = 68\n",
      "\n",
      "none umap 5 True 45\n",
      "mrr = 0.10091198838782998, pairs_count = 69\n",
      "\n",
      "none umap 5 True 46\n",
      "mrr = 0.09837792408523868, pairs_count = 69\n",
      "\n",
      "none umap 5 True 47\n",
      "mrr = 0.10451241543382814, pairs_count = 70\n",
      "\n",
      "none umap 5 True 48\n",
      "mrr = 0.10038331473625746, pairs_count = 71\n",
      "\n",
      "none umap 5 True 49\n",
      "mrr = 0.11404954785627269, pairs_count = 71\n",
      "\n",
      "none umap 5 True 50\n",
      "mrr = 0.10837886429240347, pairs_count = 74\n",
      "\n",
      "none umap 2 False 20\n",
      "mrr = 0.17968928119980843, pairs_count = 29\n",
      "\n",
      "none umap 2 False 21\n",
      "mrr = 0.19193600391016802, pairs_count = 29\n",
      "\n",
      "none umap 2 False 22\n",
      "mrr = 0.19089078720571953, pairs_count = 29\n",
      "\n",
      "none umap 2 False 23\n",
      "mrr = 0.15981517440975776, pairs_count = 33\n",
      "\n",
      "none umap 2 False 24\n",
      "mrr = 0.1624958979128848, pairs_count = 35\n",
      "\n",
      "none umap 2 False 25\n",
      "mrr = 0.14927630257749647, pairs_count = 36\n",
      "\n",
      "none umap 2 False 26\n",
      "mrr = 0.1485708800346526, pairs_count = 37\n",
      "\n",
      "none umap 2 False 27\n",
      "mrr = 0.1588811235747969, pairs_count = 38\n",
      "\n",
      "none umap 2 False 28\n",
      "mrr = 0.14791617415308675, pairs_count = 39\n",
      "\n",
      "none umap 2 False 29\n",
      "mrr = 0.13503525029013994, pairs_count = 39\n",
      "\n",
      "none umap 2 False 30\n",
      "mrr = 0.14933327172373026, pairs_count = 41\n",
      "\n",
      "none umap 2 False 31\n",
      "mrr = 0.15765837239261998, pairs_count = 42\n",
      "\n",
      "none umap 2 False 32\n",
      "mrr = 0.1382959734211616, pairs_count = 43\n",
      "\n",
      "none umap 2 False 33\n",
      "mrr = 0.12153179691643724, pairs_count = 47\n",
      "\n",
      "none umap 2 False 34\n",
      "mrr = 0.12096397891895733, pairs_count = 47\n",
      "\n",
      "none umap 2 False 35\n",
      "mrr = 0.11774217194993081, pairs_count = 48\n",
      "\n",
      "none umap 2 False 36\n",
      "mrr = 0.1147828651879223, pairs_count = 50\n",
      "\n",
      "none umap 2 False 37\n",
      "mrr = 0.11874804127764739, pairs_count = 52\n",
      "\n",
      "none umap 2 False 38\n",
      "mrr = 0.10937738794666722, pairs_count = 57\n",
      "\n",
      "none umap 2 False 39\n",
      "mrr = 0.11279519248216179, pairs_count = 57\n",
      "\n",
      "none umap 2 False 40\n",
      "mrr = 0.10940710854021218, pairs_count = 59\n",
      "\n",
      "none umap 2 False 41\n",
      "mrr = 0.12156269574819561, pairs_count = 60\n",
      "\n",
      "none umap 2 False 42\n",
      "mrr = 0.1091821160147601, pairs_count = 61\n",
      "\n",
      "none umap 2 False 43\n",
      "mrr = 0.10877552572946482, pairs_count = 66\n",
      "\n",
      "none umap 2 False 44\n",
      "mrr = 0.09970140174193708, pairs_count = 68\n",
      "\n",
      "none umap 2 False 45\n",
      "mrr = 0.10091198838782998, pairs_count = 69\n",
      "\n",
      "none umap 2 False 46\n",
      "mrr = 0.09837792408523868, pairs_count = 69\n",
      "\n",
      "none umap 2 False 47\n",
      "mrr = 0.10451241543382814, pairs_count = 70\n",
      "\n",
      "none umap 2 False 48\n",
      "mrr = 0.10038331473625746, pairs_count = 71\n",
      "\n",
      "none umap 2 False 49\n",
      "mrr = 0.11404954785627269, pairs_count = 71\n",
      "\n",
      "none umap 2 False 50\n",
      "mrr = 0.10837886429240347, pairs_count = 74\n",
      "\n",
      "skill tsne 5 True 20\n",
      "mrr = 0.19096741800136574, pairs_count = 29\n",
      "\n",
      "skill tsne 5 True 21\n",
      "mrr = 0.1839184643194918, pairs_count = 29\n",
      "\n",
      "skill tsne 5 True 22\n",
      "mrr = 0.2010163202556323, pairs_count = 29\n",
      "\n",
      "skill tsne 5 True 23\n",
      "mrr = 0.20072840284167875, pairs_count = 33\n",
      "\n",
      "skill tsne 5 True 24\n",
      "mrr = 0.1901772602630162, pairs_count = 35\n",
      "\n",
      "skill tsne 5 True 25\n",
      "mrr = 0.18271556036232003, pairs_count = 36\n",
      "\n",
      "skill tsne 5 True 26\n",
      "mrr = 0.180335963611138, pairs_count = 37\n",
      "\n",
      "skill tsne 5 True 27\n",
      "mrr = 0.18443073252249328, pairs_count = 38\n",
      "\n",
      "skill tsne 5 True 28\n",
      "mrr = 0.17714677893694164, pairs_count = 39\n",
      "\n",
      "skill tsne 5 True 29\n",
      "mrr = 0.18072194101387198, pairs_count = 39\n",
      "\n",
      "skill tsne 5 True 30\n",
      "mrr = 0.16883462353530887, pairs_count = 41\n",
      "\n",
      "skill tsne 5 True 31\n",
      "mrr = 0.17416584197589333, pairs_count = 42\n",
      "\n",
      "skill tsne 5 True 32\n",
      "mrr = 0.17560570462862699, pairs_count = 43\n",
      "\n",
      "skill tsne 5 True 33\n",
      "mrr = 0.16861796769320003, pairs_count = 47\n",
      "\n",
      "skill tsne 5 True 34\n",
      "mrr = 0.1656298782418381, pairs_count = 47\n",
      "\n",
      "skill tsne 5 True 35\n",
      "mrr = 0.17485759141032173, pairs_count = 48\n",
      "\n",
      "skill tsne 5 True 36\n",
      "mrr = 0.15798661756570848, pairs_count = 50\n",
      "\n",
      "skill tsne 5 True 37\n",
      "mrr = 0.15433727032952507, pairs_count = 52\n",
      "\n",
      "skill tsne 5 True 38\n",
      "mrr = 0.1371265804324373, pairs_count = 57\n",
      "\n",
      "skill tsne 5 True 39\n",
      "mrr = 0.14297299136248193, pairs_count = 57\n",
      "\n",
      "skill tsne 5 True 40\n",
      "mrr = 0.13528064329478903, pairs_count = 59\n",
      "\n",
      "skill tsne 5 True 41\n",
      "mrr = 0.13796810069810558, pairs_count = 60\n",
      "\n",
      "skill tsne 5 True 42\n",
      "mrr = 0.13695209277803597, pairs_count = 61\n",
      "\n",
      "skill tsne 5 True 43\n",
      "mrr = 0.14407770946977913, pairs_count = 66\n",
      "\n",
      "skill tsne 5 True 44\n",
      "mrr = 0.1449916506974627, pairs_count = 68\n",
      "\n",
      "skill tsne 5 True 45\n",
      "mrr = 0.13572442511189592, pairs_count = 69\n",
      "\n",
      "skill tsne 5 True 46\n",
      "mrr = 0.13830462163051507, pairs_count = 69\n",
      "\n",
      "skill tsne 5 True 47\n",
      "mrr = 0.137143315152828, pairs_count = 70\n",
      "\n",
      "skill tsne 5 True 48\n",
      "mrr = 0.1359612216786131, pairs_count = 71\n",
      "\n",
      "skill tsne 5 True 49\n",
      "mrr = 0.12807615033633926, pairs_count = 71\n",
      "\n",
      "skill tsne 5 True 50\n",
      "mrr = 0.13764218506813444, pairs_count = 74\n",
      "\n",
      "skill als 5 True 20\n",
      "mrr = 0.16233586156684227, pairs_count = 29\n",
      "\n",
      "skill als 5 True 21\n",
      "mrr = 0.1462593857880097, pairs_count = 29\n",
      "\n",
      "skill als 5 True 22\n",
      "mrr = 0.132879198985594, pairs_count = 29\n",
      "\n",
      "skill als 5 True 23\n",
      "mrr = 0.12182658046385603, pairs_count = 33\n",
      "\n",
      "skill als 5 True 24\n",
      "mrr = 0.10885920506832673, pairs_count = 35\n",
      "\n",
      "skill als 5 True 25\n",
      "mrr = 0.1010999718722163, pairs_count = 36\n",
      "\n",
      "skill als 5 True 26\n",
      "mrr = 0.12861177620237765, pairs_count = 37\n",
      "\n",
      "skill als 5 True 27\n",
      "mrr = 0.1090979609073084, pairs_count = 38\n",
      "\n",
      "skill als 5 True 28\n",
      "mrr = 0.10715101911451266, pairs_count = 39\n",
      "\n",
      "skill als 5 True 29\n",
      "mrr = 0.12255014262163454, pairs_count = 39\n",
      "\n",
      "skill als 5 True 30\n",
      "mrr = 0.09705828730008449, pairs_count = 41\n",
      "\n",
      "skill als 5 True 31\n",
      "mrr = 0.0869748133601384, pairs_count = 42\n",
      "\n",
      "skill als 5 True 32\n",
      "mrr = 0.07958643449368535, pairs_count = 43\n",
      "\n",
      "skill als 5 True 33\n",
      "mrr = 0.07839394940937403, pairs_count = 47\n",
      "\n",
      "skill als 5 True 34\n",
      "mrr = 0.08883261793667585, pairs_count = 47\n",
      "\n",
      "skill als 5 True 35\n",
      "mrr = 0.07996149735887002, pairs_count = 48\n",
      "\n",
      "skill als 5 True 36\n",
      "mrr = 0.08407482342110262, pairs_count = 50\n",
      "\n",
      "skill als 5 True 37\n",
      "mrr = 0.07610193414947708, pairs_count = 52\n",
      "\n",
      "skill als 5 True 38\n",
      "mrr = 0.06943765995880197, pairs_count = 57\n",
      "\n",
      "skill als 5 True 39\n",
      "mrr = 0.07755565639984048, pairs_count = 57\n",
      "\n",
      "skill als 5 True 40\n",
      "mrr = 0.07691065833535149, pairs_count = 59\n",
      "\n",
      "skill als 5 True 41\n",
      "mrr = 0.08221936170888793, pairs_count = 60\n",
      "\n",
      "skill als 5 True 42\n",
      "mrr = 0.08272428481188981, pairs_count = 61\n",
      "\n",
      "skill als 5 True 43\n",
      "mrr = 0.08294715753696241, pairs_count = 66\n",
      "\n",
      "skill als 5 True 44\n",
      "mrr = 0.07755257010079193, pairs_count = 68\n",
      "\n",
      "skill als 5 True 45\n",
      "mrr = 0.07134079142207066, pairs_count = 69\n",
      "\n",
      "skill als 5 True 46\n",
      "mrr = 0.0719385378316502, pairs_count = 69\n",
      "\n",
      "skill als 5 True 47\n",
      "mrr = 0.07522771680827463, pairs_count = 70\n",
      "\n",
      "skill als 5 True 48\n",
      "mrr = 0.07581501411310598, pairs_count = 71\n",
      "\n",
      "skill als 5 True 49\n",
      "mrr = 0.07661120140632968, pairs_count = 71\n",
      "\n",
      "skill als 5 True 50\n",
      "mrr = 0.07556032226058507, pairs_count = 74\n",
      "\n",
      "skill svd 5 True 20\n",
      "mrr = 0.164529326032571, pairs_count = 29\n",
      "\n",
      "skill svd 5 True 21\n",
      "mrr = 0.1681005272329367, pairs_count = 29\n",
      "\n",
      "skill svd 5 True 22\n",
      "mrr = 0.17317645392974798, pairs_count = 29\n",
      "\n",
      "skill svd 5 True 23\n",
      "mrr = 0.1657824999636568, pairs_count = 33\n",
      "\n",
      "skill svd 5 True 24\n",
      "mrr = 0.16075221725325411, pairs_count = 35\n",
      "\n",
      "skill svd 5 True 25\n",
      "mrr = 0.15099569444486266, pairs_count = 36\n",
      "\n",
      "skill svd 5 True 26\n",
      "mrr = 0.13188697154020784, pairs_count = 37\n",
      "\n",
      "skill svd 5 True 27\n",
      "mrr = 0.13188010650414464, pairs_count = 38\n",
      "\n",
      "skill svd 5 True 28\n",
      "mrr = 0.13245838045940211, pairs_count = 39\n",
      "\n",
      "skill svd 5 True 29\n",
      "mrr = 0.1359379983176933, pairs_count = 39\n",
      "\n",
      "skill svd 5 True 30\n",
      "mrr = 0.14049080253021104, pairs_count = 41\n",
      "\n",
      "skill svd 5 True 31\n",
      "mrr = 0.1374525147476314, pairs_count = 42\n",
      "\n",
      "skill svd 5 True 32\n",
      "mrr = 0.13844504489150355, pairs_count = 43\n",
      "\n",
      "skill svd 5 True 33\n",
      "mrr = 0.13175019360106072, pairs_count = 47\n",
      "\n",
      "skill svd 5 True 34\n",
      "mrr = 0.12976948148690978, pairs_count = 47\n",
      "\n",
      "skill svd 5 True 35\n",
      "mrr = 0.1269466920045361, pairs_count = 48\n",
      "\n",
      "skill svd 5 True 36\n",
      "mrr = 0.1269432027156187, pairs_count = 50\n",
      "\n",
      "skill svd 5 True 37\n",
      "mrr = 0.11354078210623234, pairs_count = 52\n",
      "\n",
      "skill svd 5 True 38\n",
      "mrr = 0.1061198649261308, pairs_count = 57\n",
      "\n",
      "skill svd 5 True 39\n",
      "mrr = 0.10980143164160375, pairs_count = 57\n",
      "\n",
      "skill svd 5 True 40\n",
      "mrr = 0.11212532681993045, pairs_count = 59\n",
      "\n",
      "skill svd 5 True 41\n",
      "mrr = 0.09910657868042481, pairs_count = 60\n",
      "\n",
      "skill svd 5 True 42\n",
      "mrr = 0.09819553324054431, pairs_count = 61\n",
      "\n",
      "skill svd 5 True 43\n",
      "mrr = 0.09998396573694657, pairs_count = 66\n",
      "\n",
      "skill svd 5 True 44\n",
      "mrr = 0.0984295550388673, pairs_count = 68\n",
      "\n",
      "skill svd 5 True 45\n",
      "mrr = 0.10610559842823003, pairs_count = 69\n",
      "\n",
      "skill svd 5 True 46\n",
      "mrr = 0.10865853175812164, pairs_count = 69\n",
      "\n",
      "skill svd 5 True 47\n",
      "mrr = 0.10502032399220393, pairs_count = 70\n",
      "\n",
      "skill svd 5 True 48\n",
      "mrr = 0.10528162528692527, pairs_count = 71\n",
      "\n",
      "skill svd 5 True 49\n",
      "mrr = 0.10340550930416795, pairs_count = 71\n",
      "\n",
      "skill svd 5 True 50\n",
      "mrr = 0.10596533197380724, pairs_count = 74\n",
      "\n",
      "skill svd 2 False 20\n",
      "mrr = 0.164529326032571, pairs_count = 29\n",
      "\n",
      "skill svd 2 False 21\n",
      "mrr = 0.1681005272329367, pairs_count = 29\n",
      "\n",
      "skill svd 2 False 22\n",
      "mrr = 0.17317645392974798, pairs_count = 29\n",
      "\n",
      "skill svd 2 False 23\n",
      "mrr = 0.1657824999636568, pairs_count = 33\n",
      "\n",
      "skill svd 2 False 24\n",
      "mrr = 0.16075221725325411, pairs_count = 35\n",
      "\n",
      "skill svd 2 False 25\n",
      "mrr = 0.15099569444486266, pairs_count = 36\n",
      "\n",
      "skill svd 2 False 26\n",
      "mrr = 0.13188697154020784, pairs_count = 37\n",
      "\n",
      "skill svd 2 False 27\n",
      "mrr = 0.13188010650414464, pairs_count = 38\n",
      "\n",
      "skill svd 2 False 28\n",
      "mrr = 0.13245838045940211, pairs_count = 39\n",
      "\n",
      "skill svd 2 False 29\n",
      "mrr = 0.1359379983176933, pairs_count = 39\n",
      "\n",
      "skill svd 2 False 30\n",
      "mrr = 0.14049080253021104, pairs_count = 41\n",
      "\n",
      "skill svd 2 False 31\n",
      "mrr = 0.1374525147476314, pairs_count = 42\n",
      "\n",
      "skill svd 2 False 32\n",
      "mrr = 0.13844504489150355, pairs_count = 43\n",
      "\n",
      "skill svd 2 False 33\n",
      "mrr = 0.13175019360106072, pairs_count = 47\n",
      "\n",
      "skill svd 2 False 34\n",
      "mrr = 0.12976948148690978, pairs_count = 47\n",
      "\n",
      "skill svd 2 False 35\n",
      "mrr = 0.1269466920045361, pairs_count = 48\n",
      "\n",
      "skill svd 2 False 36\n",
      "mrr = 0.1269432027156187, pairs_count = 50\n",
      "\n",
      "skill svd 2 False 37\n",
      "mrr = 0.11354078210623234, pairs_count = 52\n",
      "\n",
      "skill svd 2 False 38\n",
      "mrr = 0.1061198649261308, pairs_count = 57\n",
      "\n",
      "skill svd 2 False 39\n",
      "mrr = 0.10980143164160375, pairs_count = 57\n",
      "\n",
      "skill svd 2 False 40\n",
      "mrr = 0.11212532681993045, pairs_count = 59\n",
      "\n",
      "skill svd 2 False 41\n",
      "mrr = 0.09910657868042481, pairs_count = 60\n",
      "\n",
      "skill svd 2 False 42\n",
      "mrr = 0.09819553324054431, pairs_count = 61\n",
      "\n",
      "skill svd 2 False 43\n",
      "mrr = 0.09998396573694657, pairs_count = 66\n",
      "\n",
      "skill svd 2 False 44\n",
      "mrr = 0.0984295550388673, pairs_count = 68\n",
      "\n",
      "skill svd 2 False 45\n",
      "mrr = 0.10610559842823003, pairs_count = 69\n",
      "\n",
      "skill svd 2 False 46\n",
      "mrr = 0.10865853175812164, pairs_count = 69\n",
      "\n",
      "skill svd 2 False 47\n",
      "mrr = 0.10502032399220393, pairs_count = 70\n",
      "\n",
      "skill svd 2 False 48\n",
      "mrr = 0.10528162528692527, pairs_count = 71\n",
      "\n",
      "skill svd 2 False 49\n",
      "mrr = 0.10340550930416795, pairs_count = 71\n",
      "\n",
      "skill svd 2 False 50\n",
      "mrr = 0.10596533197380724, pairs_count = 74\n",
      "\n",
      "skill pca 5 True 20\n",
      "mrr = 0.16838350258325435, pairs_count = 29\n",
      "\n",
      "skill pca 5 True 21\n",
      "mrr = 0.1622118649809256, pairs_count = 29\n",
      "\n",
      "skill pca 5 True 22\n",
      "mrr = 0.1615340602338306, pairs_count = 29\n",
      "\n",
      "skill pca 5 True 23\n",
      "mrr = 0.17477438648936622, pairs_count = 33\n",
      "\n",
      "skill pca 5 True 24\n",
      "mrr = 0.16110433577066197, pairs_count = 35\n",
      "\n",
      "skill pca 5 True 25\n",
      "mrr = 0.1528038052829438, pairs_count = 36\n",
      "\n",
      "skill pca 5 True 26\n",
      "mrr = 0.15497552485843766, pairs_count = 37\n",
      "\n",
      "skill pca 5 True 27\n",
      "mrr = 0.15477911182513626, pairs_count = 38\n",
      "\n",
      "skill pca 5 True 28\n",
      "mrr = 0.1531199978458894, pairs_count = 39\n",
      "\n",
      "skill pca 5 True 29\n",
      "mrr = 0.15125409083096367, pairs_count = 39\n",
      "\n",
      "skill pca 5 True 30\n",
      "mrr = 0.14231580821083648, pairs_count = 41\n",
      "\n",
      "skill pca 5 True 31\n",
      "mrr = 0.1457802546870442, pairs_count = 42\n",
      "\n",
      "skill pca 5 True 32\n",
      "mrr = 0.15052606222855128, pairs_count = 43\n",
      "\n",
      "skill pca 5 True 33\n",
      "mrr = 0.13647378895407877, pairs_count = 47\n",
      "\n",
      "skill pca 5 True 34\n",
      "mrr = 0.13892653558157855, pairs_count = 47\n",
      "\n",
      "skill pca 5 True 35\n",
      "mrr = 0.13980760760559993, pairs_count = 48\n",
      "\n",
      "skill pca 5 True 36\n",
      "mrr = 0.13376474029197027, pairs_count = 50\n",
      "\n",
      "skill pca 5 True 37\n",
      "mrr = 0.13151820310931528, pairs_count = 52\n",
      "\n",
      "skill pca 5 True 38\n",
      "mrr = 0.13131826954673692, pairs_count = 57\n",
      "\n",
      "skill pca 5 True 39\n",
      "mrr = 0.12650716211349167, pairs_count = 57\n",
      "\n",
      "skill pca 5 True 40\n",
      "mrr = 0.12971775183967257, pairs_count = 59\n",
      "\n",
      "skill pca 5 True 41\n",
      "mrr = 0.13041243095690108, pairs_count = 60\n",
      "\n",
      "skill pca 5 True 42\n",
      "mrr = 0.12911109872587215, pairs_count = 61\n",
      "\n",
      "skill pca 5 True 43\n",
      "mrr = 0.12867048666787775, pairs_count = 66\n",
      "\n",
      "skill pca 5 True 44\n",
      "mrr = 0.1266592763226282, pairs_count = 68\n",
      "\n",
      "skill pca 5 True 45\n",
      "mrr = 0.12578739241578513, pairs_count = 69\n",
      "\n",
      "skill pca 5 True 46\n",
      "mrr = 0.12634027979553164, pairs_count = 69\n",
      "\n",
      "skill pca 5 True 47\n",
      "mrr = 0.12491029431402184, pairs_count = 70\n",
      "\n",
      "skill pca 5 True 48\n",
      "mrr = 0.12820876852883634, pairs_count = 71\n",
      "\n",
      "skill pca 5 True 49\n",
      "mrr = 0.1260672582496996, pairs_count = 71\n",
      "\n",
      "skill pca 5 True 50\n",
      "mrr = 0.12760257823034912, pairs_count = 74\n",
      "\n",
      "skill pca 2 False 20\n",
      "mrr = 0.16838350258325435, pairs_count = 29\n",
      "\n",
      "skill pca 2 False 21\n",
      "mrr = 0.1622118649809256, pairs_count = 29\n",
      "\n",
      "skill pca 2 False 22\n",
      "mrr = 0.1615340602338306, pairs_count = 29\n",
      "\n",
      "skill pca 2 False 23\n",
      "mrr = 0.17477438648936622, pairs_count = 33\n",
      "\n",
      "skill pca 2 False 24\n",
      "mrr = 0.16110433577066197, pairs_count = 35\n",
      "\n",
      "skill pca 2 False 25\n",
      "mrr = 0.1528038052829438, pairs_count = 36\n",
      "\n",
      "skill pca 2 False 26\n",
      "mrr = 0.15497552485843766, pairs_count = 37\n",
      "\n",
      "skill pca 2 False 27\n",
      "mrr = 0.15477911182513626, pairs_count = 38\n",
      "\n",
      "skill pca 2 False 28\n",
      "mrr = 0.1531199978458894, pairs_count = 39\n",
      "\n",
      "skill pca 2 False 29\n",
      "mrr = 0.15125409083096367, pairs_count = 39\n",
      "\n",
      "skill pca 2 False 30\n",
      "mrr = 0.14231580821083648, pairs_count = 41\n",
      "\n",
      "skill pca 2 False 31\n",
      "mrr = 0.1457802546870442, pairs_count = 42\n",
      "\n",
      "skill pca 2 False 32\n",
      "mrr = 0.15052606222855128, pairs_count = 43\n",
      "\n",
      "skill pca 2 False 33\n",
      "mrr = 0.13647378895407877, pairs_count = 47\n",
      "\n",
      "skill pca 2 False 34\n",
      "mrr = 0.13892653558157855, pairs_count = 47\n",
      "\n",
      "skill pca 2 False 35\n",
      "mrr = 0.13980760760559993, pairs_count = 48\n",
      "\n",
      "skill pca 2 False 36\n",
      "mrr = 0.13376474029197027, pairs_count = 50\n",
      "\n",
      "skill pca 2 False 37\n",
      "mrr = 0.13151820310931528, pairs_count = 52\n",
      "\n",
      "skill pca 2 False 38\n",
      "mrr = 0.13131826954673692, pairs_count = 57\n",
      "\n",
      "skill pca 2 False 39\n",
      "mrr = 0.12650716211349167, pairs_count = 57\n",
      "\n",
      "skill pca 2 False 40\n",
      "mrr = 0.12971775183967257, pairs_count = 59\n",
      "\n",
      "skill pca 2 False 41\n",
      "mrr = 0.13041243095690108, pairs_count = 60\n",
      "\n",
      "skill pca 2 False 42\n",
      "mrr = 0.12911109872587215, pairs_count = 61\n",
      "\n",
      "skill pca 2 False 43\n",
      "mrr = 0.12867048666787775, pairs_count = 66\n",
      "\n",
      "skill pca 2 False 44\n",
      "mrr = 0.1266592763226282, pairs_count = 68\n",
      "\n",
      "skill pca 2 False 45\n",
      "mrr = 0.12578739241578513, pairs_count = 69\n",
      "\n",
      "skill pca 2 False 46\n",
      "mrr = 0.12634027979553164, pairs_count = 69\n",
      "\n",
      "skill pca 2 False 47\n",
      "mrr = 0.12491029431402184, pairs_count = 70\n",
      "\n",
      "skill pca 2 False 48\n",
      "mrr = 0.12820876852883634, pairs_count = 71\n",
      "\n",
      "skill pca 2 False 49\n",
      "mrr = 0.1260672582496996, pairs_count = 71\n",
      "\n",
      "skill pca 2 False 50\n",
      "mrr = 0.12760257823034912, pairs_count = 74\n",
      "\n",
      "skill sim_euclid 5 True 20\n",
      "mrr = 0.1896048531352337, pairs_count = 29\n",
      "\n",
      "skill sim_euclid 5 True 21\n",
      "mrr = 0.19552808344041403, pairs_count = 29\n",
      "\n",
      "skill sim_euclid 5 True 22\n",
      "mrr = 0.16143390383591244, pairs_count = 29\n",
      "\n",
      "skill sim_euclid 5 True 23\n",
      "mrr = 0.195217914366354, pairs_count = 33\n",
      "\n",
      "skill sim_euclid 5 True 24\n",
      "mrr = 0.18648209015674957, pairs_count = 35\n",
      "\n",
      "skill sim_euclid 5 True 25\n",
      "mrr = 0.17805692638870557, pairs_count = 36\n",
      "\n",
      "skill sim_euclid 5 True 26\n",
      "mrr = 0.17832385733755082, pairs_count = 37\n",
      "\n",
      "skill sim_euclid 5 True 27\n",
      "mrr = 0.1750206680677515, pairs_count = 38\n",
      "\n",
      "skill sim_euclid 5 True 28\n",
      "mrr = 0.17171723633441852, pairs_count = 39\n",
      "\n",
      "skill sim_euclid 5 True 29\n",
      "mrr = 0.1660902979476152, pairs_count = 39\n",
      "\n",
      "skill sim_euclid 5 True 30\n",
      "mrr = 0.16594160503492503, pairs_count = 41\n",
      "\n",
      "skill sim_euclid 5 True 31\n",
      "mrr = 0.15878801601441386, pairs_count = 42\n",
      "\n",
      "skill sim_euclid 5 True 32\n",
      "mrr = 0.17084630334228149, pairs_count = 43\n",
      "\n",
      "skill sim_euclid 5 True 33\n",
      "mrr = 0.15894481072014607, pairs_count = 47\n",
      "\n",
      "skill sim_euclid 5 True 34\n",
      "mrr = 0.14388177554606593, pairs_count = 47\n",
      "\n",
      "skill sim_euclid 5 True 35\n",
      "mrr = 0.15356977007689043, pairs_count = 48\n",
      "\n",
      "skill sim_euclid 5 True 36\n",
      "mrr = 0.1440972605122289, pairs_count = 50\n",
      "\n",
      "skill sim_euclid 5 True 37\n",
      "mrr = 0.14366757929850713, pairs_count = 52\n",
      "\n",
      "skill sim_euclid 5 True 38\n",
      "mrr = 0.13417873989091667, pairs_count = 57\n",
      "\n",
      "skill sim_euclid 5 True 39\n",
      "mrr = 0.13746787714131922, pairs_count = 57\n",
      "\n",
      "skill sim_euclid 5 True 40\n",
      "mrr = 0.13218959833040053, pairs_count = 59\n",
      "\n",
      "skill sim_euclid 5 True 41\n",
      "mrr = 0.14435464331719455, pairs_count = 60\n",
      "\n",
      "skill sim_euclid 5 True 42\n",
      "mrr = 0.14188834578948317, pairs_count = 61\n",
      "\n",
      "skill sim_euclid 5 True 43\n",
      "mrr = 0.1413928214732322, pairs_count = 66\n",
      "\n",
      "skill sim_euclid 5 True 44\n",
      "mrr = 0.13481845031698236, pairs_count = 68\n",
      "\n",
      "skill sim_euclid 5 True 45\n",
      "mrr = 0.1353982290246378, pairs_count = 69\n",
      "\n",
      "skill sim_euclid 5 True 46\n",
      "mrr = 0.13388477329882761, pairs_count = 69\n",
      "\n",
      "skill sim_euclid 5 True 47\n",
      "mrr = 0.12666436294108646, pairs_count = 70\n",
      "\n",
      "skill sim_euclid 5 True 48\n",
      "mrr = 0.12695944832739695, pairs_count = 71\n",
      "\n",
      "skill sim_euclid 5 True 49\n",
      "mrr = 0.12757302497000303, pairs_count = 71\n",
      "\n",
      "skill sim_euclid 5 True 50\n",
      "mrr = 0.11983308261146165, pairs_count = 74\n",
      "\n",
      "skill sim_cos 5 True 20\n",
      "mrr = 0.18716680734669064, pairs_count = 29\n",
      "\n",
      "skill sim_cos 5 True 21\n",
      "mrr = 0.18742084854933702, pairs_count = 29\n",
      "\n",
      "skill sim_cos 5 True 22\n",
      "mrr = 0.19473188678131065, pairs_count = 29\n",
      "\n",
      "skill sim_cos 5 True 23\n",
      "mrr = 0.18369033800664686, pairs_count = 33\n",
      "\n",
      "skill sim_cos 5 True 24\n",
      "mrr = 0.17354194367733117, pairs_count = 35\n",
      "\n",
      "skill sim_cos 5 True 25\n",
      "mrr = 0.17391261869464789, pairs_count = 36\n",
      "\n",
      "skill sim_cos 5 True 26\n",
      "mrr = 0.1623953568917953, pairs_count = 37\n",
      "\n",
      "skill sim_cos 5 True 27\n",
      "mrr = 0.17396530320703282, pairs_count = 38\n",
      "\n",
      "skill sim_cos 5 True 28\n",
      "mrr = 0.16652647356262015, pairs_count = 39\n",
      "\n",
      "skill sim_cos 5 True 29\n",
      "mrr = 0.16460676353261908, pairs_count = 39\n",
      "\n",
      "skill sim_cos 5 True 30\n",
      "mrr = 0.1482714406910104, pairs_count = 41\n",
      "\n",
      "skill sim_cos 5 True 31\n",
      "mrr = 0.1558358414092291, pairs_count = 42\n",
      "\n",
      "skill sim_cos 5 True 32\n",
      "mrr = 0.1543686237432774, pairs_count = 43\n",
      "\n",
      "skill sim_cos 5 True 33\n",
      "mrr = 0.1480479579857018, pairs_count = 47\n",
      "\n",
      "skill sim_cos 5 True 34\n",
      "mrr = 0.14840035876225147, pairs_count = 47\n",
      "\n",
      "skill sim_cos 5 True 35\n",
      "mrr = 0.1448885009142928, pairs_count = 48\n",
      "\n",
      "skill sim_cos 5 True 36\n",
      "mrr = 0.15027178498897306, pairs_count = 50\n",
      "\n",
      "skill sim_cos 5 True 37\n",
      "mrr = 0.14146178634982978, pairs_count = 52\n",
      "\n",
      "skill sim_cos 5 True 38\n",
      "mrr = 0.1371797627341687, pairs_count = 57\n",
      "\n",
      "skill sim_cos 5 True 39\n",
      "mrr = 0.13687100449376355, pairs_count = 57\n",
      "\n",
      "skill sim_cos 5 True 40\n",
      "mrr = 0.13808193620925585, pairs_count = 59\n",
      "\n",
      "skill sim_cos 5 True 41\n",
      "mrr = 0.13841587878877698, pairs_count = 60\n",
      "\n",
      "skill sim_cos 5 True 42\n",
      "mrr = 0.13610256624581016, pairs_count = 61\n",
      "\n",
      "skill sim_cos 5 True 43\n",
      "mrr = 0.13277230469402707, pairs_count = 66\n",
      "\n",
      "skill sim_cos 5 True 44\n",
      "mrr = 0.1363849606987353, pairs_count = 68\n",
      "\n",
      "skill sim_cos 5 True 45\n",
      "mrr = 0.13144111392007288, pairs_count = 69\n",
      "\n",
      "skill sim_cos 5 True 46\n",
      "mrr = 0.13005347245327656, pairs_count = 69\n",
      "\n",
      "skill sim_cos 5 True 47\n",
      "mrr = 0.12963775421779222, pairs_count = 70\n",
      "\n",
      "skill sim_cos 5 True 48\n",
      "mrr = 0.12814646798155768, pairs_count = 71\n",
      "\n",
      "skill sim_cos 5 True 49\n",
      "mrr = 0.13421237227024393, pairs_count = 71\n",
      "\n",
      "skill sim_cos 5 True 50\n",
      "mrr = 0.13563494579519936, pairs_count = 74\n",
      "\n",
      "skill umap 5 True 20\n",
      "mrr = 0.17713518621393798, pairs_count = 29\n",
      "\n",
      "skill umap 5 True 21\n",
      "mrr = 0.19575415014343614, pairs_count = 29\n",
      "\n",
      "skill umap 5 True 22\n",
      "mrr = 0.18184775819637278, pairs_count = 29\n",
      "\n",
      "skill umap 5 True 23\n",
      "mrr = 0.18192951365855323, pairs_count = 33\n",
      "\n",
      "skill umap 5 True 24\n",
      "mrr = 0.19189024345914465, pairs_count = 35\n",
      "\n",
      "skill umap 5 True 25\n",
      "mrr = 0.16341571824488857, pairs_count = 36\n",
      "\n",
      "skill umap 5 True 26\n",
      "mrr = 0.1613048631240427, pairs_count = 37\n",
      "\n",
      "skill umap 5 True 27\n",
      "mrr = 0.15459616515637223, pairs_count = 38\n",
      "\n",
      "skill umap 5 True 28\n",
      "mrr = 0.1811795232209615, pairs_count = 39\n",
      "\n",
      "skill umap 5 True 29\n",
      "mrr = 0.1742262515951248, pairs_count = 39\n",
      "\n",
      "skill umap 5 True 30\n",
      "mrr = 0.1629903285829978, pairs_count = 41\n",
      "\n",
      "skill umap 5 True 31\n",
      "mrr = 0.15469099873510866, pairs_count = 42\n",
      "\n",
      "skill umap 5 True 32\n",
      "mrr = 0.16014149888831242, pairs_count = 43\n",
      "\n",
      "skill umap 5 True 33\n",
      "mrr = 0.14972858546307308, pairs_count = 47\n",
      "\n",
      "skill umap 5 True 34\n",
      "mrr = 0.148564592091357, pairs_count = 47\n",
      "\n",
      "skill umap 5 True 35\n",
      "mrr = 0.15526365413168017, pairs_count = 48\n",
      "\n",
      "skill umap 5 True 36\n",
      "mrr = 0.15740115216002684, pairs_count = 50\n",
      "\n",
      "skill umap 5 True 37\n",
      "mrr = 0.15682143771586815, pairs_count = 52\n",
      "\n",
      "skill umap 5 True 38\n",
      "mrr = 0.13388108871361667, pairs_count = 57\n",
      "\n",
      "skill umap 5 True 39\n",
      "mrr = 0.139743095513667, pairs_count = 57\n",
      "\n",
      "skill umap 5 True 40\n",
      "mrr = 0.12839120332051293, pairs_count = 59\n",
      "\n",
      "skill umap 5 True 41\n",
      "mrr = 0.1400704024157236, pairs_count = 60\n",
      "\n",
      "skill umap 5 True 42\n",
      "mrr = 0.12755876121025708, pairs_count = 61\n",
      "\n",
      "skill umap 5 True 43\n",
      "mrr = 0.13747592321386023, pairs_count = 66\n",
      "\n",
      "skill umap 5 True 44\n",
      "mrr = 0.13977198726427062, pairs_count = 68\n",
      "\n",
      "skill umap 5 True 45\n",
      "mrr = 0.1372013017553261, pairs_count = 69\n",
      "\n",
      "skill umap 5 True 46\n",
      "mrr = 0.12493575738141562, pairs_count = 69\n",
      "\n",
      "skill umap 5 True 47\n",
      "mrr = 0.12862308519415855, pairs_count = 70\n",
      "\n",
      "skill umap 5 True 48\n",
      "mrr = 0.13769982143868592, pairs_count = 71\n",
      "\n",
      "skill umap 5 True 49\n",
      "mrr = 0.13751417838239166, pairs_count = 71\n",
      "\n",
      "skill umap 5 True 50\n",
      "mrr = 0.13353658703507565, pairs_count = 74\n",
      "\n",
      "skill umap 2 False 20\n",
      "mrr = 0.17713518621393798, pairs_count = 29\n",
      "\n",
      "skill umap 2 False 21\n",
      "mrr = 0.19575415014343614, pairs_count = 29\n",
      "\n",
      "skill umap 2 False 22\n",
      "mrr = 0.18184775819637278, pairs_count = 29\n",
      "\n",
      "skill umap 2 False 23\n",
      "mrr = 0.18192951365855323, pairs_count = 33\n",
      "\n",
      "skill umap 2 False 24\n",
      "mrr = 0.19189024345914465, pairs_count = 35\n",
      "\n",
      "skill umap 2 False 25\n",
      "mrr = 0.16341571824488857, pairs_count = 36\n",
      "\n",
      "skill umap 2 False 26\n",
      "mrr = 0.1613048631240427, pairs_count = 37\n",
      "\n",
      "skill umap 2 False 27\n",
      "mrr = 0.15459616515637223, pairs_count = 38\n",
      "\n",
      "skill umap 2 False 28\n",
      "mrr = 0.1811795232209615, pairs_count = 39\n",
      "\n",
      "skill umap 2 False 29\n",
      "mrr = 0.1742262515951248, pairs_count = 39\n",
      "\n",
      "skill umap 2 False 30\n",
      "mrr = 0.1629903285829978, pairs_count = 41\n",
      "\n",
      "skill umap 2 False 31\n",
      "mrr = 0.15469099873510866, pairs_count = 42\n",
      "\n",
      "skill umap 2 False 32\n",
      "mrr = 0.16014149888831242, pairs_count = 43\n",
      "\n",
      "skill umap 2 False 33\n",
      "mrr = 0.14972858546307308, pairs_count = 47\n",
      "\n",
      "skill umap 2 False 34\n",
      "mrr = 0.148564592091357, pairs_count = 47\n",
      "\n",
      "skill umap 2 False 35\n",
      "mrr = 0.15526365413168017, pairs_count = 48\n",
      "\n",
      "skill umap 2 False 36\n",
      "mrr = 0.15740115216002684, pairs_count = 50\n",
      "\n",
      "skill umap 2 False 37\n",
      "mrr = 0.15682143771586815, pairs_count = 52\n",
      "\n",
      "skill umap 2 False 38\n",
      "mrr = 0.13388108871361667, pairs_count = 57\n",
      "\n",
      "skill umap 2 False 39\n",
      "mrr = 0.139743095513667, pairs_count = 57\n",
      "\n",
      "skill umap 2 False 40\n",
      "mrr = 0.12839120332051293, pairs_count = 59\n",
      "\n",
      "skill umap 2 False 41\n",
      "mrr = 0.1400704024157236, pairs_count = 60\n",
      "\n",
      "skill umap 2 False 42\n",
      "mrr = 0.12755876121025708, pairs_count = 61\n",
      "\n",
      "skill umap 2 False 43\n",
      "mrr = 0.13747592321386023, pairs_count = 66\n",
      "\n",
      "skill umap 2 False 44\n",
      "mrr = 0.13977198726427062, pairs_count = 68\n",
      "\n",
      "skill umap 2 False 45\n",
      "mrr = 0.1372013017553261, pairs_count = 69\n",
      "\n",
      "skill umap 2 False 46\n",
      "mrr = 0.12493575738141562, pairs_count = 69\n",
      "\n",
      "skill umap 2 False 47\n",
      "mrr = 0.12862308519415855, pairs_count = 70\n",
      "\n",
      "skill umap 2 False 48\n",
      "mrr = 0.13769982143868592, pairs_count = 71\n",
      "\n",
      "skill umap 2 False 49\n",
      "mrr = 0.13751417838239166, pairs_count = 71\n",
      "\n",
      "skill umap 2 False 50\n",
      "mrr = 0.13353658703507565, pairs_count = 74\n",
      "\n",
      "prof tsne 5 True 20\n",
      "mrr = 0.17690914635566876, pairs_count = 29\n",
      "\n",
      "prof tsne 5 True 21\n",
      "mrr = 0.1803375485122198, pairs_count = 29\n",
      "\n",
      "prof tsne 5 True 22\n",
      "mrr = 0.17091831105477967, pairs_count = 29\n",
      "\n",
      "prof tsne 5 True 23\n",
      "mrr = 0.17009307788107023, pairs_count = 33\n",
      "\n",
      "prof tsne 5 True 24\n",
      "mrr = 0.14728465879897873, pairs_count = 35\n",
      "\n",
      "prof tsne 5 True 25\n",
      "mrr = 0.1588348702246659, pairs_count = 36\n",
      "\n",
      "prof tsne 5 True 26\n",
      "mrr = 0.14986207864530487, pairs_count = 37\n",
      "\n",
      "prof tsne 5 True 27\n",
      "mrr = 0.14341544011004673, pairs_count = 38\n",
      "\n",
      "prof tsne 5 True 28\n",
      "mrr = 0.14118175814461995, pairs_count = 39\n",
      "\n",
      "prof tsne 5 True 29\n",
      "mrr = 0.14006722760865503, pairs_count = 39\n",
      "\n",
      "prof tsne 5 True 30\n",
      "mrr = 0.133442234410902, pairs_count = 41\n",
      "\n",
      "prof tsne 5 True 31\n",
      "mrr = 0.1416531593892164, pairs_count = 42\n",
      "\n",
      "prof tsne 5 True 32\n",
      "mrr = 0.13474956266442115, pairs_count = 43\n",
      "\n",
      "prof tsne 5 True 33\n",
      "mrr = 0.10639091371882305, pairs_count = 47\n",
      "\n",
      "prof tsne 5 True 34\n",
      "mrr = 0.12530779112068297, pairs_count = 47\n",
      "\n",
      "prof tsne 5 True 35\n",
      "mrr = 0.10804459075955568, pairs_count = 48\n",
      "\n",
      "prof tsne 5 True 36\n",
      "mrr = 0.12139672140594271, pairs_count = 50\n",
      "\n",
      "prof tsne 5 True 37\n",
      "mrr = 0.11527828355178288, pairs_count = 52\n",
      "\n",
      "prof tsne 5 True 38\n",
      "mrr = 0.11096516382676146, pairs_count = 57\n",
      "\n",
      "prof tsne 5 True 39\n",
      "mrr = 0.11369646359686106, pairs_count = 57\n",
      "\n",
      "prof tsne 5 True 40\n",
      "mrr = 0.08469152056638306, pairs_count = 59\n",
      "\n",
      "prof tsne 5 True 41\n",
      "mrr = 0.1076208563467996, pairs_count = 60\n",
      "\n",
      "prof tsne 5 True 42\n",
      "mrr = 0.11334618908825364, pairs_count = 61\n",
      "\n",
      "prof tsne 5 True 43\n",
      "mrr = 0.11164948659032599, pairs_count = 66\n",
      "\n",
      "prof tsne 5 True 44\n",
      "mrr = 0.0989416110120022, pairs_count = 68\n",
      "\n",
      "prof tsne 5 True 45\n",
      "mrr = 0.10928091303374209, pairs_count = 69\n",
      "\n",
      "prof tsne 5 True 46\n",
      "mrr = 0.11151803414139894, pairs_count = 69\n",
      "\n",
      "prof tsne 5 True 47\n",
      "mrr = 0.10082368889330105, pairs_count = 70\n",
      "\n",
      "prof tsne 5 True 48\n",
      "mrr = 0.11491980010260296, pairs_count = 71\n",
      "\n",
      "prof tsne 5 True 49\n",
      "mrr = 0.10191817301224997, pairs_count = 71\n",
      "\n",
      "prof tsne 5 True 50\n",
      "mrr = 0.10940527553603052, pairs_count = 74\n",
      "\n",
      "prof als 5 True 20\n",
      "mrr = 0.09192841021082646, pairs_count = 29\n",
      "\n",
      "prof als 5 True 21\n",
      "mrr = 0.09531014866542087, pairs_count = 29\n",
      "\n",
      "prof als 5 True 22\n",
      "mrr = 0.09863469636369644, pairs_count = 29\n",
      "\n",
      "prof als 5 True 23\n",
      "mrr = 0.11228741673630442, pairs_count = 33\n",
      "\n",
      "prof als 5 True 24\n",
      "mrr = 0.10746751936300353, pairs_count = 35\n",
      "\n",
      "prof als 5 True 25\n",
      "mrr = 0.09398251192791113, pairs_count = 36\n",
      "\n",
      "prof als 5 True 26\n",
      "mrr = 0.07947899397533797, pairs_count = 37\n",
      "\n",
      "prof als 5 True 27\n",
      "mrr = 0.0886628961702278, pairs_count = 38\n",
      "\n",
      "prof als 5 True 28\n",
      "mrr = 0.07895297419155461, pairs_count = 39\n",
      "\n",
      "prof als 5 True 29\n",
      "mrr = 0.09521752284710301, pairs_count = 39\n",
      "\n",
      "prof als 5 True 30\n",
      "mrr = 0.0849984297539882, pairs_count = 41\n",
      "\n",
      "prof als 5 True 31\n",
      "mrr = 0.0826638760862877, pairs_count = 42\n",
      "\n",
      "prof als 5 True 32\n",
      "mrr = 0.08754401619968412, pairs_count = 43\n",
      "\n",
      "prof als 5 True 33\n",
      "mrr = 0.08093738682484111, pairs_count = 47\n",
      "\n",
      "prof als 5 True 34\n",
      "mrr = 0.07769794861903884, pairs_count = 47\n",
      "\n",
      "prof als 5 True 35\n",
      "mrr = 0.07488392749026113, pairs_count = 48\n",
      "\n",
      "prof als 5 True 36\n",
      "mrr = 0.06831172311220839, pairs_count = 50\n",
      "\n",
      "prof als 5 True 37\n",
      "mrr = 0.07397172765855989, pairs_count = 52\n",
      "\n",
      "prof als 5 True 38\n",
      "mrr = 0.0678201814780406, pairs_count = 57\n",
      "\n",
      "prof als 5 True 39\n",
      "mrr = 0.07094331955943975, pairs_count = 57\n",
      "\n",
      "prof als 5 True 40\n",
      "mrr = 0.06852049470907287, pairs_count = 59\n",
      "\n",
      "prof als 5 True 41\n",
      "mrr = 0.07150887802997782, pairs_count = 60\n",
      "\n",
      "prof als 5 True 42\n",
      "mrr = 0.06962581289182332, pairs_count = 61\n",
      "\n",
      "prof als 5 True 43\n",
      "mrr = 0.06720653831207964, pairs_count = 66\n",
      "\n",
      "prof als 5 True 44\n",
      "mrr = 0.06688273494361727, pairs_count = 68\n",
      "\n",
      "prof als 5 True 45\n",
      "mrr = 0.06388598273424585, pairs_count = 69\n",
      "\n",
      "prof als 5 True 46\n",
      "mrr = 0.06320345703443256, pairs_count = 69\n",
      "\n",
      "prof als 5 True 47\n",
      "mrr = 0.06812077976224161, pairs_count = 70\n",
      "\n",
      "prof als 5 True 48\n",
      "mrr = 0.06323739244178617, pairs_count = 71\n",
      "\n",
      "prof als 5 True 49\n",
      "mrr = 0.06832964431899391, pairs_count = 71\n",
      "\n",
      "prof als 5 True 50\n",
      "mrr = 0.06020265492539711, pairs_count = 74\n",
      "\n",
      "prof svd 5 True 20\n",
      "mrr = 0.10731660318952625, pairs_count = 29\n",
      "\n",
      "prof svd 5 True 21\n",
      "mrr = 0.1039312347140143, pairs_count = 29\n",
      "\n",
      "prof svd 5 True 22\n",
      "mrr = 0.10396201237385921, pairs_count = 29\n",
      "\n",
      "prof svd 5 True 23\n",
      "mrr = 0.10397860750482506, pairs_count = 33\n",
      "\n",
      "prof svd 5 True 24\n",
      "mrr = 0.09978426420787509, pairs_count = 35\n",
      "\n",
      "prof svd 5 True 25\n",
      "mrr = 0.09781432600374197, pairs_count = 36\n",
      "\n",
      "prof svd 5 True 26\n",
      "mrr = 0.09442891432142923, pairs_count = 37\n",
      "\n",
      "prof svd 5 True 27\n",
      "mrr = 0.09228245136394385, pairs_count = 38\n",
      "\n",
      "prof svd 5 True 28\n",
      "mrr = 0.09059266621027574, pairs_count = 39\n",
      "\n",
      "prof svd 5 True 29\n",
      "mrr = 0.08858170206388269, pairs_count = 39\n",
      "\n",
      "prof svd 5 True 30\n",
      "mrr = 0.09006065515585565, pairs_count = 41\n",
      "\n",
      "prof svd 5 True 31\n",
      "mrr = 0.08871160045886531, pairs_count = 42\n",
      "\n",
      "prof svd 5 True 32\n",
      "mrr = 0.08726043017082045, pairs_count = 43\n",
      "\n",
      "prof svd 5 True 33\n",
      "mrr = 0.07962777674303996, pairs_count = 47\n",
      "\n",
      "prof svd 5 True 34\n",
      "mrr = 0.07983327845641729, pairs_count = 47\n",
      "\n",
      "prof svd 5 True 35\n",
      "mrr = 0.07934529821445381, pairs_count = 48\n",
      "\n",
      "prof svd 5 True 36\n",
      "mrr = 0.07742933173222614, pairs_count = 50\n",
      "\n",
      "prof svd 5 True 37\n",
      "mrr = 0.07538485588169247, pairs_count = 52\n",
      "\n",
      "prof svd 5 True 38\n",
      "mrr = 0.07832071800820624, pairs_count = 57\n",
      "\n",
      "prof svd 5 True 39\n",
      "mrr = 0.07878343551428571, pairs_count = 57\n",
      "\n",
      "prof svd 5 True 40\n",
      "mrr = 0.07659539614850851, pairs_count = 59\n",
      "\n",
      "prof svd 5 True 41\n",
      "mrr = 0.0762758328343324, pairs_count = 60\n",
      "\n",
      "prof svd 5 True 42\n",
      "mrr = 0.07567677320382911, pairs_count = 61\n",
      "\n",
      "prof svd 5 True 43\n",
      "mrr = 0.07055161214316383, pairs_count = 66\n",
      "\n",
      "prof svd 5 True 44\n",
      "mrr = 0.06928170159735043, pairs_count = 68\n",
      "\n",
      "prof svd 5 True 45\n",
      "mrr = 0.06823912282852469, pairs_count = 69\n",
      "\n",
      "prof svd 5 True 46\n",
      "mrr = 0.06822604078403231, pairs_count = 69\n",
      "\n",
      "prof svd 5 True 47\n",
      "mrr = 0.06662735565040445, pairs_count = 70\n",
      "\n",
      "prof svd 5 True 48\n",
      "mrr = 0.07176021109089925, pairs_count = 71\n",
      "\n",
      "prof svd 5 True 49\n",
      "mrr = 0.07185811438581587, pairs_count = 71\n",
      "\n",
      "prof svd 5 True 50\n",
      "mrr = 0.0701959954883062, pairs_count = 74\n",
      "\n",
      "prof svd 2 False 20\n",
      "mrr = 0.10731660318952625, pairs_count = 29\n",
      "\n",
      "prof svd 2 False 21\n",
      "mrr = 0.1039312347140143, pairs_count = 29\n",
      "\n",
      "prof svd 2 False 22\n",
      "mrr = 0.10396201237385921, pairs_count = 29\n",
      "\n",
      "prof svd 2 False 23\n",
      "mrr = 0.10397860750482506, pairs_count = 33\n",
      "\n",
      "prof svd 2 False 24\n",
      "mrr = 0.09978426420787509, pairs_count = 35\n",
      "\n",
      "prof svd 2 False 25\n",
      "mrr = 0.09781432600374197, pairs_count = 36\n",
      "\n",
      "prof svd 2 False 26\n",
      "mrr = 0.09442891432142923, pairs_count = 37\n",
      "\n",
      "prof svd 2 False 27\n",
      "mrr = 0.09228245136394385, pairs_count = 38\n",
      "\n",
      "prof svd 2 False 28\n",
      "mrr = 0.09059266621027574, pairs_count = 39\n",
      "\n",
      "prof svd 2 False 29\n",
      "mrr = 0.08858170206388269, pairs_count = 39\n",
      "\n",
      "prof svd 2 False 30\n",
      "mrr = 0.09006065515585565, pairs_count = 41\n",
      "\n",
      "prof svd 2 False 31\n",
      "mrr = 0.08871160045886531, pairs_count = 42\n",
      "\n",
      "prof svd 2 False 32\n",
      "mrr = 0.08726043017082045, pairs_count = 43\n",
      "\n",
      "prof svd 2 False 33\n",
      "mrr = 0.07962777674303996, pairs_count = 47\n",
      "\n",
      "prof svd 2 False 34\n",
      "mrr = 0.07983327845641729, pairs_count = 47\n",
      "\n",
      "prof svd 2 False 35\n",
      "mrr = 0.07934529821445381, pairs_count = 48\n",
      "\n",
      "prof svd 2 False 36\n",
      "mrr = 0.07742933173222614, pairs_count = 50\n",
      "\n",
      "prof svd 2 False 37\n",
      "mrr = 0.07538485588169247, pairs_count = 52\n",
      "\n",
      "prof svd 2 False 38\n",
      "mrr = 0.07832071800820624, pairs_count = 57\n",
      "\n",
      "prof svd 2 False 39\n",
      "mrr = 0.07878343551428571, pairs_count = 57\n",
      "\n",
      "prof svd 2 False 40\n",
      "mrr = 0.07659539614850851, pairs_count = 59\n",
      "\n",
      "prof svd 2 False 41\n",
      "mrr = 0.0762758328343324, pairs_count = 60\n",
      "\n",
      "prof svd 2 False 42\n",
      "mrr = 0.07567677320382911, pairs_count = 61\n",
      "\n",
      "prof svd 2 False 43\n",
      "mrr = 0.07055161214316383, pairs_count = 66\n",
      "\n",
      "prof svd 2 False 44\n",
      "mrr = 0.06928170159735043, pairs_count = 68\n",
      "\n",
      "prof svd 2 False 45\n",
      "mrr = 0.06823912282852469, pairs_count = 69\n",
      "\n",
      "prof svd 2 False 46\n",
      "mrr = 0.06822604078403231, pairs_count = 69\n",
      "\n",
      "prof svd 2 False 47\n",
      "mrr = 0.06662735565040445, pairs_count = 70\n",
      "\n",
      "prof svd 2 False 48\n",
      "mrr = 0.07176021109089925, pairs_count = 71\n",
      "\n",
      "prof svd 2 False 49\n",
      "mrr = 0.07185811438581587, pairs_count = 71\n",
      "\n",
      "prof svd 2 False 50\n",
      "mrr = 0.0701959954883062, pairs_count = 74\n",
      "\n",
      "prof pca 5 True 20\n",
      "mrr = 0.11213830966615129, pairs_count = 29\n",
      "\n",
      "prof pca 5 True 21\n",
      "mrr = 0.11406091847019327, pairs_count = 29\n",
      "\n",
      "prof pca 5 True 22\n",
      "mrr = 0.11193000871193062, pairs_count = 29\n",
      "\n",
      "prof pca 5 True 23\n",
      "mrr = 0.10832739296863249, pairs_count = 33\n",
      "\n",
      "prof pca 5 True 24\n",
      "mrr = 0.10239852279877729, pairs_count = 35\n",
      "\n",
      "prof pca 5 True 25\n",
      "mrr = 0.09953676723997418, pairs_count = 36\n",
      "\n",
      "prof pca 5 True 26\n",
      "mrr = 0.09654633294891249, pairs_count = 37\n",
      "\n",
      "prof pca 5 True 27\n",
      "mrr = 0.09463062395339909, pairs_count = 38\n",
      "\n",
      "prof pca 5 True 28\n",
      "mrr = 0.09370871946216812, pairs_count = 39\n",
      "\n",
      "prof pca 5 True 29\n",
      "mrr = 0.09042306953457077, pairs_count = 39\n",
      "\n",
      "prof pca 5 True 30\n",
      "mrr = 0.08812890060105551, pairs_count = 41\n",
      "\n",
      "prof pca 5 True 31\n",
      "mrr = 0.09363394034651633, pairs_count = 42\n",
      "\n",
      "prof pca 5 True 32\n",
      "mrr = 0.09110693814609626, pairs_count = 43\n",
      "\n",
      "prof pca 5 True 33\n",
      "mrr = 0.0821927791235776, pairs_count = 47\n",
      "\n",
      "prof pca 5 True 34\n",
      "mrr = 0.08170546215999669, pairs_count = 47\n",
      "\n",
      "prof pca 5 True 35\n",
      "mrr = 0.07853334044108966, pairs_count = 48\n",
      "\n",
      "prof pca 5 True 36\n",
      "mrr = 0.07652249320559103, pairs_count = 50\n",
      "\n",
      "prof pca 5 True 37\n",
      "mrr = 0.07398573926783282, pairs_count = 52\n",
      "\n",
      "prof pca 5 True 38\n",
      "mrr = 0.07005776897551735, pairs_count = 57\n",
      "\n",
      "prof pca 5 True 39\n",
      "mrr = 0.07051895386623731, pairs_count = 57\n",
      "\n",
      "prof pca 5 True 40\n",
      "mrr = 0.0684766349156485, pairs_count = 59\n",
      "\n",
      "prof pca 5 True 41\n",
      "mrr = 0.06669054044721019, pairs_count = 60\n",
      "\n",
      "prof pca 5 True 42\n",
      "mrr = 0.06576297788956333, pairs_count = 61\n",
      "\n",
      "prof pca 5 True 43\n",
      "mrr = 0.061958428683969835, pairs_count = 66\n",
      "\n",
      "prof pca 5 True 44\n",
      "mrr = 0.06015891687036542, pairs_count = 68\n",
      "\n",
      "prof pca 5 True 45\n",
      "mrr = 0.0591612659333566, pairs_count = 69\n",
      "\n",
      "prof pca 5 True 46\n",
      "mrr = 0.05919893322122232, pairs_count = 69\n",
      "\n",
      "prof pca 5 True 47\n",
      "mrr = 0.05788065817972787, pairs_count = 70\n",
      "\n",
      "prof pca 5 True 48\n",
      "mrr = 0.059661964369456824, pairs_count = 71\n",
      "\n",
      "prof pca 5 True 49\n",
      "mrr = 0.059483399038494957, pairs_count = 71\n",
      "\n",
      "prof pca 5 True 50\n",
      "mrr = 0.056078477623056594, pairs_count = 74\n",
      "\n",
      "prof pca 2 False 20\n",
      "mrr = 0.11213830966615129, pairs_count = 29\n",
      "\n",
      "prof pca 2 False 21\n",
      "mrr = 0.11406091847019327, pairs_count = 29\n",
      "\n",
      "prof pca 2 False 22\n",
      "mrr = 0.11193000871193062, pairs_count = 29\n",
      "\n",
      "prof pca 2 False 23\n",
      "mrr = 0.10832739296863249, pairs_count = 33\n",
      "\n",
      "prof pca 2 False 24\n",
      "mrr = 0.10239852279877729, pairs_count = 35\n",
      "\n",
      "prof pca 2 False 25\n",
      "mrr = 0.09953676723997418, pairs_count = 36\n",
      "\n",
      "prof pca 2 False 26\n",
      "mrr = 0.09654633294891249, pairs_count = 37\n",
      "\n",
      "prof pca 2 False 27\n",
      "mrr = 0.09463062395339909, pairs_count = 38\n",
      "\n",
      "prof pca 2 False 28\n",
      "mrr = 0.09370871946216812, pairs_count = 39\n",
      "\n",
      "prof pca 2 False 29\n",
      "mrr = 0.09042306953457077, pairs_count = 39\n",
      "\n",
      "prof pca 2 False 30\n",
      "mrr = 0.08812890060105551, pairs_count = 41\n",
      "\n",
      "prof pca 2 False 31\n",
      "mrr = 0.09363394034651633, pairs_count = 42\n",
      "\n",
      "prof pca 2 False 32\n",
      "mrr = 0.09110693814609626, pairs_count = 43\n",
      "\n",
      "prof pca 2 False 33\n",
      "mrr = 0.0821927791235776, pairs_count = 47\n",
      "\n",
      "prof pca 2 False 34\n",
      "mrr = 0.08170546215999669, pairs_count = 47\n",
      "\n",
      "prof pca 2 False 35\n",
      "mrr = 0.07853334044108966, pairs_count = 48\n",
      "\n",
      "prof pca 2 False 36\n",
      "mrr = 0.07652249320559103, pairs_count = 50\n",
      "\n",
      "prof pca 2 False 37\n",
      "mrr = 0.07398573926783282, pairs_count = 52\n",
      "\n",
      "prof pca 2 False 38\n",
      "mrr = 0.07005776897551735, pairs_count = 57\n",
      "\n",
      "prof pca 2 False 39\n",
      "mrr = 0.07051895386623731, pairs_count = 57\n",
      "\n",
      "prof pca 2 False 40\n",
      "mrr = 0.0684766349156485, pairs_count = 59\n",
      "\n",
      "prof pca 2 False 41\n",
      "mrr = 0.06669054044721019, pairs_count = 60\n",
      "\n",
      "prof pca 2 False 42\n",
      "mrr = 0.06576297788956333, pairs_count = 61\n",
      "\n",
      "prof pca 2 False 43\n",
      "mrr = 0.061958428683969835, pairs_count = 66\n",
      "\n",
      "prof pca 2 False 44\n",
      "mrr = 0.06015891687036542, pairs_count = 68\n",
      "\n",
      "prof pca 2 False 45\n",
      "mrr = 0.0591612659333566, pairs_count = 69\n",
      "\n",
      "prof pca 2 False 46\n",
      "mrr = 0.05919893322122232, pairs_count = 69\n",
      "\n",
      "prof pca 2 False 47\n",
      "mrr = 0.05788065817972787, pairs_count = 70\n",
      "\n",
      "prof pca 2 False 48\n",
      "mrr = 0.059661964369456824, pairs_count = 71\n",
      "\n",
      "prof pca 2 False 49\n",
      "mrr = 0.059483399038494957, pairs_count = 71\n",
      "\n",
      "prof pca 2 False 50\n",
      "mrr = 0.056078477623056594, pairs_count = 74\n",
      "\n",
      "prof sim_euclid 5 True 20\n",
      "mrr = 0.13557476956578707, pairs_count = 29\n",
      "\n",
      "prof sim_euclid 5 True 21\n",
      "mrr = 0.14082769473230322, pairs_count = 29\n",
      "\n",
      "prof sim_euclid 5 True 22\n",
      "mrr = 0.13493907497031313, pairs_count = 29\n",
      "\n",
      "prof sim_euclid 5 True 23\n",
      "mrr = 0.13337534822611619, pairs_count = 33\n",
      "\n",
      "prof sim_euclid 5 True 24\n",
      "mrr = 0.12392852646044619, pairs_count = 35\n",
      "\n",
      "prof sim_euclid 5 True 25\n",
      "mrr = 0.1139947125769381, pairs_count = 36\n",
      "\n",
      "prof sim_euclid 5 True 26\n",
      "mrr = 0.11372815753099896, pairs_count = 37\n",
      "\n",
      "prof sim_euclid 5 True 27\n",
      "mrr = 0.11352326670387063, pairs_count = 38\n",
      "\n",
      "prof sim_euclid 5 True 28\n",
      "mrr = 0.1115453888352922, pairs_count = 39\n",
      "\n",
      "prof sim_euclid 5 True 29\n",
      "mrr = 0.10673268890147267, pairs_count = 39\n",
      "\n",
      "prof sim_euclid 5 True 30\n",
      "mrr = 0.10174842089178535, pairs_count = 41\n",
      "\n",
      "prof sim_euclid 5 True 31\n",
      "mrr = 0.09696111830160833, pairs_count = 42\n",
      "\n",
      "prof sim_euclid 5 True 32\n",
      "mrr = 0.10501193377452583, pairs_count = 43\n",
      "\n",
      "prof sim_euclid 5 True 33\n",
      "mrr = 0.0979521483345054, pairs_count = 47\n",
      "\n",
      "prof sim_euclid 5 True 34\n",
      "mrr = 0.08870730953135829, pairs_count = 47\n",
      "\n",
      "prof sim_euclid 5 True 35\n",
      "mrr = 0.07425285543109202, pairs_count = 48\n",
      "\n",
      "prof sim_euclid 5 True 36\n",
      "mrr = 0.08120554265185001, pairs_count = 50\n",
      "\n",
      "prof sim_euclid 5 True 37\n",
      "mrr = 0.0781325036554539, pairs_count = 52\n",
      "\n",
      "prof sim_euclid 5 True 38\n",
      "mrr = 0.07464107526589932, pairs_count = 57\n",
      "\n",
      "prof sim_euclid 5 True 39\n",
      "mrr = 0.07569775103173396, pairs_count = 57\n",
      "\n",
      "prof sim_euclid 5 True 40\n",
      "mrr = 0.07057640257853563, pairs_count = 59\n",
      "\n",
      "prof sim_euclid 5 True 41\n",
      "mrr = 0.0775602462233326, pairs_count = 60\n",
      "\n",
      "prof sim_euclid 5 True 42\n",
      "mrr = 0.07167591556304871, pairs_count = 61\n",
      "\n",
      "prof sim_euclid 5 True 43\n",
      "mrr = 0.06687340732623852, pairs_count = 66\n",
      "\n",
      "prof sim_euclid 5 True 44\n",
      "mrr = 0.06624996043221751, pairs_count = 68\n",
      "\n",
      "prof sim_euclid 5 True 45\n",
      "mrr = 0.06428064143436484, pairs_count = 69\n",
      "\n",
      "prof sim_euclid 5 True 46\n",
      "mrr = 0.0655961266359106, pairs_count = 69\n",
      "\n",
      "prof sim_euclid 5 True 47\n",
      "mrr = 0.06510771158837889, pairs_count = 70\n",
      "\n",
      "prof sim_euclid 5 True 48\n",
      "mrr = 0.06652584852487572, pairs_count = 71\n",
      "\n",
      "prof sim_euclid 5 True 49\n",
      "mrr = 0.06557297834233972, pairs_count = 71\n",
      "\n",
      "prof sim_euclid 5 True 50\n",
      "mrr = 0.0694460663283569, pairs_count = 74\n",
      "\n",
      "prof sim_cos 5 True 20\n",
      "mrr = 0.2134438301917885, pairs_count = 29\n",
      "\n",
      "prof sim_cos 5 True 21\n",
      "mrr = 0.21719173618390258, pairs_count = 29\n",
      "\n",
      "prof sim_cos 5 True 22\n",
      "mrr = 0.20835357141746289, pairs_count = 29\n",
      "\n",
      "prof sim_cos 5 True 23\n",
      "mrr = 0.2302936167536454, pairs_count = 33\n",
      "\n",
      "prof sim_cos 5 True 24\n",
      "mrr = 0.2072352246259809, pairs_count = 35\n",
      "\n",
      "prof sim_cos 5 True 25\n",
      "mrr = 0.1933632431276003, pairs_count = 36\n",
      "\n",
      "prof sim_cos 5 True 26\n",
      "mrr = 0.206237782411457, pairs_count = 37\n",
      "\n",
      "prof sim_cos 5 True 27\n",
      "mrr = 0.17571258574911833, pairs_count = 38\n",
      "\n",
      "prof sim_cos 5 True 28\n",
      "mrr = 0.18893466336586345, pairs_count = 39\n",
      "\n",
      "prof sim_cos 5 True 29\n",
      "mrr = 0.18281513979151115, pairs_count = 39\n",
      "\n",
      "prof sim_cos 5 True 30\n",
      "mrr = 0.18652821503332145, pairs_count = 41\n",
      "\n",
      "prof sim_cos 5 True 31\n",
      "mrr = 0.17146715818269778, pairs_count = 42\n",
      "\n",
      "prof sim_cos 5 True 32\n",
      "mrr = 0.19048978901528069, pairs_count = 43\n",
      "\n",
      "prof sim_cos 5 True 33\n",
      "mrr = 0.17056833772727656, pairs_count = 47\n",
      "\n",
      "prof sim_cos 5 True 34\n",
      "mrr = 0.1641501072250917, pairs_count = 47\n",
      "\n",
      "prof sim_cos 5 True 35\n",
      "mrr = 0.1656548051955096, pairs_count = 48\n",
      "\n",
      "prof sim_cos 5 True 36\n",
      "mrr = 0.16914532425725082, pairs_count = 50\n",
      "\n",
      "prof sim_cos 5 True 37\n",
      "mrr = 0.15749716894660226, pairs_count = 52\n",
      "\n",
      "prof sim_cos 5 True 38\n",
      "mrr = 0.16209542083525344, pairs_count = 57\n",
      "\n",
      "prof sim_cos 5 True 39\n",
      "mrr = 0.16387038138459942, pairs_count = 57\n",
      "\n",
      "prof sim_cos 5 True 40\n",
      "mrr = 0.16230857278377528, pairs_count = 59\n",
      "\n",
      "prof sim_cos 5 True 41\n",
      "mrr = 0.15855456025390688, pairs_count = 60\n",
      "\n",
      "prof sim_cos 5 True 42\n",
      "mrr = 0.16349904688388683, pairs_count = 61\n",
      "\n",
      "prof sim_cos 5 True 43\n",
      "mrr = 0.15122738515678838, pairs_count = 66\n",
      "\n",
      "prof sim_cos 5 True 44\n",
      "mrr = 0.15362199943215393, pairs_count = 68\n",
      "\n",
      "prof sim_cos 5 True 45\n",
      "mrr = 0.14732327991267521, pairs_count = 69\n",
      "\n",
      "prof sim_cos 5 True 46\n",
      "mrr = 0.15118392242665432, pairs_count = 69\n",
      "\n",
      "prof sim_cos 5 True 47\n",
      "mrr = 0.1473762169962164, pairs_count = 70\n",
      "\n",
      "prof sim_cos 5 True 48\n",
      "mrr = 0.14787901856129873, pairs_count = 71\n",
      "\n",
      "prof sim_cos 5 True 49\n",
      "mrr = 0.14673846843210842, pairs_count = 71\n",
      "\n",
      "prof sim_cos 5 True 50\n",
      "mrr = 0.14257847815654334, pairs_count = 74\n",
      "\n",
      "prof umap 5 True 20\n",
      "mrr = 0.17329611276791437, pairs_count = 29\n",
      "\n",
      "prof umap 5 True 21\n",
      "mrr = 0.18823155086132928, pairs_count = 29\n",
      "\n",
      "prof umap 5 True 22\n",
      "mrr = 0.1836626576358998, pairs_count = 29\n",
      "\n",
      "prof umap 5 True 23\n",
      "mrr = 0.1775074720613843, pairs_count = 33\n",
      "\n",
      "prof umap 5 True 24\n",
      "mrr = 0.1577049846649317, pairs_count = 35\n",
      "\n",
      "prof umap 5 True 25\n",
      "mrr = 0.1692741536485153, pairs_count = 36\n",
      "\n",
      "prof umap 5 True 26\n",
      "mrr = 0.17034518491981945, pairs_count = 37\n",
      "\n",
      "prof umap 5 True 27\n",
      "mrr = 0.1550739835688221, pairs_count = 38\n",
      "\n",
      "prof umap 5 True 28\n",
      "mrr = 0.1522159202680915, pairs_count = 39\n",
      "\n",
      "prof umap 5 True 29\n",
      "mrr = 0.13918774202465112, pairs_count = 39\n",
      "\n",
      "prof umap 5 True 30\n",
      "mrr = 0.1482579535002973, pairs_count = 41\n",
      "\n",
      "prof umap 5 True 31\n",
      "mrr = 0.15715211149525427, pairs_count = 42\n",
      "\n",
      "prof umap 5 True 32\n",
      "mrr = 0.13997477956701482, pairs_count = 43\n",
      "\n",
      "prof umap 5 True 33\n",
      "mrr = 0.13055675615132661, pairs_count = 47\n",
      "\n",
      "prof umap 5 True 34\n",
      "mrr = 0.12089523327740062, pairs_count = 47\n",
      "\n",
      "prof umap 5 True 35\n",
      "mrr = 0.12562948633188276, pairs_count = 48\n",
      "\n",
      "prof umap 5 True 36\n",
      "mrr = 0.12143719192987121, pairs_count = 50\n",
      "\n",
      "prof umap 5 True 37\n",
      "mrr = 0.11103456757940858, pairs_count = 52\n",
      "\n",
      "prof umap 5 True 38\n",
      "mrr = 0.10685142997497947, pairs_count = 57\n",
      "\n",
      "prof umap 5 True 39\n",
      "mrr = 0.11091574683308607, pairs_count = 57\n",
      "\n",
      "prof umap 5 True 40\n",
      "mrr = 0.11171620113937783, pairs_count = 59\n",
      "\n",
      "prof umap 5 True 41\n",
      "mrr = 0.11571427108969069, pairs_count = 60\n",
      "\n",
      "prof umap 5 True 42\n",
      "mrr = 0.11105548811593474, pairs_count = 61\n",
      "\n",
      "prof umap 5 True 43\n",
      "mrr = 0.10439998766949717, pairs_count = 66\n",
      "\n",
      "prof umap 5 True 44\n",
      "mrr = 0.10265700185188226, pairs_count = 68\n",
      "\n",
      "prof umap 5 True 45\n",
      "mrr = 0.10654407195751554, pairs_count = 69\n",
      "\n",
      "prof umap 5 True 46\n",
      "mrr = 0.1063118079029234, pairs_count = 69\n",
      "\n",
      "prof umap 5 True 47\n",
      "mrr = 0.11785195888224437, pairs_count = 70\n",
      "\n",
      "prof umap 5 True 48\n",
      "mrr = 0.1115775757518244, pairs_count = 71\n",
      "\n",
      "prof umap 5 True 49\n",
      "mrr = 0.10967100920571021, pairs_count = 71\n",
      "\n",
      "prof umap 5 True 50\n",
      "mrr = 0.1052104262099166, pairs_count = 74\n",
      "\n",
      "prof umap 2 False 20\n",
      "mrr = 0.17329611276791437, pairs_count = 29\n",
      "\n",
      "prof umap 2 False 21\n",
      "mrr = 0.18823155086132928, pairs_count = 29\n",
      "\n",
      "prof umap 2 False 22\n",
      "mrr = 0.1836626576358998, pairs_count = 29\n",
      "\n",
      "prof umap 2 False 23\n",
      "mrr = 0.1775074720613843, pairs_count = 33\n",
      "\n",
      "prof umap 2 False 24\n",
      "mrr = 0.1577049846649317, pairs_count = 35\n",
      "\n",
      "prof umap 2 False 25\n",
      "mrr = 0.1692741536485153, pairs_count = 36\n",
      "\n",
      "prof umap 2 False 26\n",
      "mrr = 0.17034518491981945, pairs_count = 37\n",
      "\n",
      "prof umap 2 False 27\n",
      "mrr = 0.1550739835688221, pairs_count = 38\n",
      "\n",
      "prof umap 2 False 28\n",
      "mrr = 0.1522159202680915, pairs_count = 39\n",
      "\n",
      "prof umap 2 False 29\n",
      "mrr = 0.13918774202465112, pairs_count = 39\n",
      "\n",
      "prof umap 2 False 30\n",
      "mrr = 0.1482579535002973, pairs_count = 41\n",
      "\n",
      "prof umap 2 False 31\n",
      "mrr = 0.15715211149525427, pairs_count = 42\n",
      "\n",
      "prof umap 2 False 32\n",
      "mrr = 0.13997477956701482, pairs_count = 43\n",
      "\n",
      "prof umap 2 False 33\n",
      "mrr = 0.13055675615132661, pairs_count = 47\n",
      "\n",
      "prof umap 2 False 34\n",
      "mrr = 0.12089523327740062, pairs_count = 47\n",
      "\n",
      "prof umap 2 False 35\n",
      "mrr = 0.12562948633188276, pairs_count = 48\n",
      "\n",
      "prof umap 2 False 36\n",
      "mrr = 0.12143719192987121, pairs_count = 50\n",
      "\n",
      "prof umap 2 False 37\n",
      "mrr = 0.11103456757940858, pairs_count = 52\n",
      "\n",
      "prof umap 2 False 38\n",
      "mrr = 0.10685142997497947, pairs_count = 57\n",
      "\n",
      "prof umap 2 False 39\n",
      "mrr = 0.11091574683308607, pairs_count = 57\n",
      "\n",
      "prof umap 2 False 40\n",
      "mrr = 0.11171620113937783, pairs_count = 59\n",
      "\n",
      "prof umap 2 False 41\n",
      "mrr = 0.11571427108969069, pairs_count = 60\n",
      "\n",
      "prof umap 2 False 42\n",
      "mrr = 0.11105548811593474, pairs_count = 61\n",
      "\n",
      "prof umap 2 False 43\n",
      "mrr = 0.10439998766949717, pairs_count = 66\n",
      "\n",
      "prof umap 2 False 44\n",
      "mrr = 0.10265700185188226, pairs_count = 68\n",
      "\n",
      "prof umap 2 False 45\n",
      "mrr = 0.10654407195751554, pairs_count = 69\n",
      "\n",
      "prof umap 2 False 46\n",
      "mrr = 0.1063118079029234, pairs_count = 69\n",
      "\n",
      "prof umap 2 False 47\n",
      "mrr = 0.11785195888224437, pairs_count = 70\n",
      "\n",
      "prof umap 2 False 48\n",
      "mrr = 0.1115775757518244, pairs_count = 71\n",
      "\n",
      "prof umap 2 False 49\n",
      "mrr = 0.10967100920571021, pairs_count = 71\n",
      "\n",
      "prof umap 2 False 50\n",
      "mrr = 0.1052104262099166, pairs_count = 74\n",
      "\n",
      "bm tsne 5 True 20\n",
      "mrr = 0.207638825959381, pairs_count = 29\n",
      "\n",
      "bm tsne 5 True 21\n",
      "mrr = 0.1962628832414354, pairs_count = 29\n",
      "\n",
      "bm tsne 5 True 22\n",
      "mrr = 0.1722249287246026, pairs_count = 29\n",
      "\n",
      "bm tsne 5 True 23\n",
      "mrr = 0.15497204307062648, pairs_count = 33\n",
      "\n",
      "bm tsne 5 True 24\n",
      "mrr = 0.17469700186624845, pairs_count = 35\n",
      "\n",
      "bm tsne 5 True 25\n",
      "mrr = 0.1696767815945287, pairs_count = 36\n",
      "\n",
      "bm tsne 5 True 26\n",
      "mrr = 0.14640799191134796, pairs_count = 37\n",
      "\n",
      "bm tsne 5 True 27\n",
      "mrr = 0.15382527350323796, pairs_count = 38\n",
      "\n",
      "bm tsne 5 True 28\n",
      "mrr = 0.1207368799489245, pairs_count = 39\n",
      "\n",
      "bm tsne 5 True 29\n",
      "mrr = 0.1640824830296787, pairs_count = 39\n",
      "\n",
      "bm tsne 5 True 30\n",
      "mrr = 0.14669939807097343, pairs_count = 41\n",
      "\n",
      "bm tsne 5 True 31\n",
      "mrr = 0.14614784631893826, pairs_count = 42\n",
      "\n",
      "bm tsne 5 True 32\n",
      "mrr = 0.15396778178139583, pairs_count = 43\n",
      "\n",
      "bm tsne 5 True 33\n",
      "mrr = 0.15240146455141768, pairs_count = 47\n",
      "\n",
      "bm tsne 5 True 34\n",
      "mrr = 0.14667534653652844, pairs_count = 47\n",
      "\n",
      "bm tsne 5 True 35\n",
      "mrr = 0.14898802748828652, pairs_count = 48\n",
      "\n",
      "bm tsne 5 True 36\n",
      "mrr = 0.1475882172041261, pairs_count = 50\n",
      "\n",
      "bm tsne 5 True 37\n",
      "mrr = 0.14582947085547987, pairs_count = 52\n",
      "\n",
      "bm tsne 5 True 38\n",
      "mrr = 0.1310275053041422, pairs_count = 57\n",
      "\n",
      "bm tsne 5 True 39\n",
      "mrr = 0.12392211788108885, pairs_count = 57\n",
      "\n",
      "bm tsne 5 True 40\n",
      "mrr = 0.11909197270662816, pairs_count = 59\n",
      "\n",
      "bm tsne 5 True 41\n",
      "mrr = 0.1318207551148792, pairs_count = 60\n",
      "\n",
      "bm tsne 5 True 42\n",
      "mrr = 0.1439924706128101, pairs_count = 61\n",
      "\n",
      "bm tsne 5 True 43\n",
      "mrr = 0.14315672431013557, pairs_count = 66\n",
      "\n",
      "bm tsne 5 True 44\n",
      "mrr = 0.1447616995166268, pairs_count = 68\n",
      "\n",
      "bm tsne 5 True 45\n",
      "mrr = 0.14321233514721457, pairs_count = 69\n",
      "\n",
      "bm tsne 5 True 46\n",
      "mrr = 0.13628171763937214, pairs_count = 69\n",
      "\n",
      "bm tsne 5 True 47\n",
      "mrr = 0.13983583263242952, pairs_count = 70\n",
      "\n",
      "bm tsne 5 True 48\n",
      "mrr = 0.13509519744665907, pairs_count = 71\n",
      "\n",
      "bm tsne 5 True 49\n",
      "mrr = 0.1344416191313914, pairs_count = 71\n",
      "\n",
      "bm tsne 5 True 50\n",
      "mrr = 0.1350020967047679, pairs_count = 74\n",
      "\n",
      "bm als 5 True 20\n",
      "mrr = 0.09986137007373395, pairs_count = 29\n",
      "\n",
      "bm als 5 True 21\n",
      "mrr = 0.11300885272771952, pairs_count = 29\n",
      "\n",
      "bm als 5 True 22\n",
      "mrr = 0.08053481567775285, pairs_count = 29\n",
      "\n",
      "bm als 5 True 23\n",
      "mrr = 0.08808543633095609, pairs_count = 33\n",
      "\n",
      "bm als 5 True 24\n",
      "mrr = 0.08077447885514785, pairs_count = 35\n",
      "\n",
      "bm als 5 True 25\n",
      "mrr = 0.12468150593463458, pairs_count = 36\n",
      "\n",
      "bm als 5 True 26\n",
      "mrr = 0.08549748046973273, pairs_count = 37\n",
      "\n",
      "bm als 5 True 27\n",
      "mrr = 0.06070479048159144, pairs_count = 38\n",
      "\n",
      "bm als 5 True 28\n",
      "mrr = 0.07580498982688809, pairs_count = 39\n",
      "\n",
      "bm als 5 True 29\n",
      "mrr = 0.10156612550091251, pairs_count = 39\n",
      "\n",
      "bm als 5 True 30\n",
      "mrr = 0.09476806169525903, pairs_count = 41\n",
      "\n",
      "bm als 5 True 31\n",
      "mrr = 0.07896476294564644, pairs_count = 42\n",
      "\n",
      "bm als 5 True 32\n",
      "mrr = 0.09268723401470824, pairs_count = 43\n",
      "\n",
      "bm als 5 True 33\n",
      "mrr = 0.08437562484969374, pairs_count = 47\n",
      "\n",
      "bm als 5 True 34\n",
      "mrr = 0.08487289606559864, pairs_count = 47\n",
      "\n",
      "bm als 5 True 35\n",
      "mrr = 0.07002798901136052, pairs_count = 48\n",
      "\n",
      "bm als 5 True 36\n",
      "mrr = 0.07068555255089012, pairs_count = 50\n",
      "\n",
      "bm als 5 True 37\n",
      "mrr = 0.05972291024120646, pairs_count = 52\n",
      "\n",
      "bm als 5 True 38\n",
      "mrr = 0.06533483157153613, pairs_count = 57\n",
      "\n",
      "bm als 5 True 39\n",
      "mrr = 0.06543282740610318, pairs_count = 57\n",
      "\n",
      "bm als 5 True 40\n",
      "mrr = 0.05120589424758394, pairs_count = 59\n",
      "\n",
      "bm als 5 True 41\n",
      "mrr = 0.08275684823622433, pairs_count = 60\n",
      "\n",
      "bm als 5 True 42\n",
      "mrr = 0.06035282573742209, pairs_count = 61\n",
      "\n",
      "bm als 5 True 43\n",
      "mrr = 0.06818785780668483, pairs_count = 66\n",
      "\n",
      "bm als 5 True 44\n",
      "mrr = 0.06179576784963302, pairs_count = 68\n",
      "\n",
      "bm als 5 True 45\n",
      "mrr = 0.06380090346410414, pairs_count = 69\n",
      "\n",
      "bm als 5 True 46\n",
      "mrr = 0.05715335580454068, pairs_count = 69\n",
      "\n",
      "bm als 5 True 47\n",
      "mrr = 0.0529360327712801, pairs_count = 70\n",
      "\n",
      "bm als 5 True 48\n",
      "mrr = 0.04805683181322191, pairs_count = 71\n",
      "\n",
      "bm als 5 True 49\n",
      "mrr = 0.06807504777272773, pairs_count = 71\n",
      "\n",
      "bm als 5 True 50\n",
      "mrr = 0.06909295722045831, pairs_count = 74\n",
      "\n",
      "bm svd 5 True 20\n",
      "mrr = 0.13174600952509177, pairs_count = 29\n",
      "\n",
      "bm svd 5 True 21\n",
      "mrr = 0.1301442940962135, pairs_count = 29\n",
      "\n",
      "bm svd 5 True 22\n",
      "mrr = 0.13069714285784154, pairs_count = 29\n",
      "\n",
      "bm svd 5 True 23\n",
      "mrr = 0.13743591889418302, pairs_count = 33\n",
      "\n",
      "bm svd 5 True 24\n",
      "mrr = 0.1328621131293264, pairs_count = 35\n",
      "\n",
      "bm svd 5 True 25\n",
      "mrr = 0.13215952799934638, pairs_count = 36\n",
      "\n",
      "bm svd 5 True 26\n",
      "mrr = 0.13130952154973755, pairs_count = 37\n",
      "\n",
      "bm svd 5 True 27\n",
      "mrr = 0.12066769094323782, pairs_count = 38\n",
      "\n",
      "bm svd 5 True 28\n",
      "mrr = 0.12130801949524359, pairs_count = 39\n",
      "\n",
      "bm svd 5 True 29\n",
      "mrr = 0.12200260518238167, pairs_count = 39\n",
      "\n",
      "bm svd 5 True 30\n",
      "mrr = 0.11358214048133991, pairs_count = 41\n",
      "\n",
      "bm svd 5 True 31\n",
      "mrr = 0.10622522535087044, pairs_count = 42\n",
      "\n",
      "bm svd 5 True 32\n",
      "mrr = 0.1097157696696024, pairs_count = 43\n",
      "\n",
      "bm svd 5 True 33\n",
      "mrr = 0.10156000513123174, pairs_count = 47\n",
      "\n",
      "bm svd 5 True 34\n",
      "mrr = 0.09884607734591151, pairs_count = 47\n",
      "\n",
      "bm svd 5 True 35\n",
      "mrr = 0.10030940861080162, pairs_count = 48\n",
      "\n",
      "bm svd 5 True 36\n",
      "mrr = 0.09628344511425414, pairs_count = 50\n",
      "\n",
      "bm svd 5 True 37\n",
      "mrr = 0.08215100801314344, pairs_count = 52\n",
      "\n",
      "bm svd 5 True 38\n",
      "mrr = 0.0809714680514922, pairs_count = 57\n",
      "\n",
      "bm svd 5 True 39\n",
      "mrr = 0.08230084647436661, pairs_count = 57\n",
      "\n",
      "bm svd 5 True 40\n",
      "mrr = 0.07608153990252045, pairs_count = 59\n",
      "\n",
      "bm svd 5 True 41\n",
      "mrr = 0.0768765978978526, pairs_count = 60\n",
      "\n",
      "bm svd 5 True 42\n",
      "mrr = 0.07346261398121855, pairs_count = 61\n",
      "\n",
      "bm svd 5 True 43\n",
      "mrr = 0.07654949114328348, pairs_count = 66\n",
      "\n",
      "bm svd 5 True 44\n",
      "mrr = 0.08284393174488586, pairs_count = 68\n",
      "\n",
      "bm svd 5 True 45\n",
      "mrr = 0.082869638099987, pairs_count = 69\n",
      "\n",
      "bm svd 5 True 46\n",
      "mrr = 0.08335252461994588, pairs_count = 69\n",
      "\n",
      "bm svd 5 True 47\n",
      "mrr = 0.08075899758790868, pairs_count = 70\n",
      "\n",
      "bm svd 5 True 48\n",
      "mrr = 0.08014412156632851, pairs_count = 71\n",
      "\n",
      "bm svd 5 True 49\n",
      "mrr = 0.08039232823516057, pairs_count = 71\n",
      "\n",
      "bm svd 5 True 50\n",
      "mrr = 0.07539719220346242, pairs_count = 74\n",
      "\n",
      "bm svd 2 False 20\n",
      "mrr = 0.13174600952509177, pairs_count = 29\n",
      "\n",
      "bm svd 2 False 21\n",
      "mrr = 0.1301442940962135, pairs_count = 29\n",
      "\n",
      "bm svd 2 False 22\n",
      "mrr = 0.13069714285784154, pairs_count = 29\n",
      "\n",
      "bm svd 2 False 23\n",
      "mrr = 0.13743591889418302, pairs_count = 33\n",
      "\n",
      "bm svd 2 False 24\n",
      "mrr = 0.1328621131293264, pairs_count = 35\n",
      "\n",
      "bm svd 2 False 25\n",
      "mrr = 0.13215952799934638, pairs_count = 36\n",
      "\n",
      "bm svd 2 False 26\n",
      "mrr = 0.13130952154973755, pairs_count = 37\n",
      "\n",
      "bm svd 2 False 27\n",
      "mrr = 0.12066769094323782, pairs_count = 38\n",
      "\n",
      "bm svd 2 False 28\n",
      "mrr = 0.12130801949524359, pairs_count = 39\n",
      "\n",
      "bm svd 2 False 29\n",
      "mrr = 0.12200260518238167, pairs_count = 39\n",
      "\n",
      "bm svd 2 False 30\n",
      "mrr = 0.11358214048133991, pairs_count = 41\n",
      "\n",
      "bm svd 2 False 31\n",
      "mrr = 0.10622522535087044, pairs_count = 42\n",
      "\n",
      "bm svd 2 False 32\n",
      "mrr = 0.1097157696696024, pairs_count = 43\n",
      "\n",
      "bm svd 2 False 33\n",
      "mrr = 0.10156000513123174, pairs_count = 47\n",
      "\n",
      "bm svd 2 False 34\n",
      "mrr = 0.09884607734591151, pairs_count = 47\n",
      "\n",
      "bm svd 2 False 35\n",
      "mrr = 0.10030940861080162, pairs_count = 48\n",
      "\n",
      "bm svd 2 False 36\n",
      "mrr = 0.09628344511425414, pairs_count = 50\n",
      "\n",
      "bm svd 2 False 37\n",
      "mrr = 0.08215100801314344, pairs_count = 52\n",
      "\n",
      "bm svd 2 False 38\n",
      "mrr = 0.0809714680514922, pairs_count = 57\n",
      "\n",
      "bm svd 2 False 39\n",
      "mrr = 0.08230084647436661, pairs_count = 57\n",
      "\n",
      "bm svd 2 False 40\n",
      "mrr = 0.07608153990252045, pairs_count = 59\n",
      "\n",
      "bm svd 2 False 41\n",
      "mrr = 0.0768765978978526, pairs_count = 60\n",
      "\n",
      "bm svd 2 False 42\n",
      "mrr = 0.07346261398121855, pairs_count = 61\n",
      "\n",
      "bm svd 2 False 43\n",
      "mrr = 0.07654949114328348, pairs_count = 66\n",
      "\n",
      "bm svd 2 False 44\n",
      "mrr = 0.08284393174488586, pairs_count = 68\n",
      "\n",
      "bm svd 2 False 45\n",
      "mrr = 0.082869638099987, pairs_count = 69\n",
      "\n",
      "bm svd 2 False 46\n",
      "mrr = 0.08335252461994588, pairs_count = 69\n",
      "\n",
      "bm svd 2 False 47\n",
      "mrr = 0.08075899758790868, pairs_count = 70\n",
      "\n",
      "bm svd 2 False 48\n",
      "mrr = 0.08014412156632851, pairs_count = 71\n",
      "\n",
      "bm svd 2 False 49\n",
      "mrr = 0.08039232823516057, pairs_count = 71\n",
      "\n",
      "bm svd 2 False 50\n",
      "mrr = 0.07539719220346242, pairs_count = 74\n",
      "\n",
      "bm pca 5 True 20\n",
      "mrr = 0.14398774368448122, pairs_count = 29\n",
      "\n",
      "bm pca 5 True 21\n",
      "mrr = 0.14086600247214243, pairs_count = 29\n",
      "\n",
      "bm pca 5 True 22\n",
      "mrr = 0.13901652651041227, pairs_count = 29\n",
      "\n",
      "bm pca 5 True 23\n",
      "mrr = 0.12604171939931977, pairs_count = 33\n",
      "\n",
      "bm pca 5 True 24\n",
      "mrr = 0.12096593741636479, pairs_count = 35\n",
      "\n",
      "bm pca 5 True 25\n",
      "mrr = 0.12956419088805782, pairs_count = 36\n",
      "\n",
      "bm pca 5 True 26\n",
      "mrr = 0.12759132305849727, pairs_count = 37\n",
      "\n",
      "bm pca 5 True 27\n",
      "mrr = 0.12199005090692498, pairs_count = 38\n",
      "\n",
      "bm pca 5 True 28\n",
      "mrr = 0.11921634642016049, pairs_count = 39\n",
      "\n",
      "bm pca 5 True 29\n",
      "mrr = 0.11936573674048713, pairs_count = 39\n",
      "\n",
      "bm pca 5 True 30\n",
      "mrr = 0.11022810407391152, pairs_count = 41\n",
      "\n",
      "bm pca 5 True 31\n",
      "mrr = 0.1175032934530418, pairs_count = 42\n",
      "\n",
      "bm pca 5 True 32\n",
      "mrr = 0.1165366361690688, pairs_count = 43\n",
      "\n",
      "bm pca 5 True 33\n",
      "mrr = 0.11006002556771403, pairs_count = 47\n",
      "\n",
      "bm pca 5 True 34\n",
      "mrr = 0.11076516858286499, pairs_count = 47\n",
      "\n",
      "bm pca 5 True 35\n",
      "mrr = 0.11026591653805394, pairs_count = 48\n",
      "\n",
      "bm pca 5 True 36\n",
      "mrr = 0.10873464764698508, pairs_count = 50\n",
      "\n",
      "bm pca 5 True 37\n",
      "mrr = 0.10453786017504502, pairs_count = 52\n",
      "\n",
      "bm pca 5 True 38\n",
      "mrr = 0.09526182665403618, pairs_count = 57\n",
      "\n",
      "bm pca 5 True 39\n",
      "mrr = 0.09482881039684359, pairs_count = 57\n",
      "\n",
      "bm pca 5 True 40\n",
      "mrr = 0.09827535729206267, pairs_count = 59\n",
      "\n",
      "bm pca 5 True 41\n",
      "mrr = 0.09999162161336553, pairs_count = 60\n",
      "\n",
      "bm pca 5 True 42\n",
      "mrr = 0.09911994746690882, pairs_count = 61\n",
      "\n",
      "bm pca 5 True 43\n",
      "mrr = 0.09371993923440411, pairs_count = 66\n",
      "\n",
      "bm pca 5 True 44\n",
      "mrr = 0.09069552850444562, pairs_count = 68\n",
      "\n",
      "bm pca 5 True 45\n",
      "mrr = 0.09299082695670269, pairs_count = 69\n",
      "\n",
      "bm pca 5 True 46\n",
      "mrr = 0.09285084975914162, pairs_count = 69\n",
      "\n",
      "bm pca 5 True 47\n",
      "mrr = 0.09057298335090706, pairs_count = 70\n",
      "\n",
      "bm pca 5 True 48\n",
      "mrr = 0.09608325872606979, pairs_count = 71\n",
      "\n",
      "bm pca 5 True 49\n",
      "mrr = 0.09577236188214659, pairs_count = 71\n",
      "\n",
      "bm pca 5 True 50\n",
      "mrr = 0.09025698164007152, pairs_count = 74\n",
      "\n",
      "bm pca 2 False 20\n",
      "mrr = 0.14398774368448122, pairs_count = 29\n",
      "\n",
      "bm pca 2 False 21\n",
      "mrr = 0.14086600247214243, pairs_count = 29\n",
      "\n",
      "bm pca 2 False 22\n",
      "mrr = 0.13901652651041227, pairs_count = 29\n",
      "\n",
      "bm pca 2 False 23\n",
      "mrr = 0.12604171939931977, pairs_count = 33\n",
      "\n",
      "bm pca 2 False 24\n",
      "mrr = 0.12096593741636479, pairs_count = 35\n",
      "\n",
      "bm pca 2 False 25\n",
      "mrr = 0.12956419088805782, pairs_count = 36\n",
      "\n",
      "bm pca 2 False 26\n",
      "mrr = 0.12759132305849727, pairs_count = 37\n",
      "\n",
      "bm pca 2 False 27\n",
      "mrr = 0.12199005090692498, pairs_count = 38\n",
      "\n",
      "bm pca 2 False 28\n",
      "mrr = 0.11921634642016049, pairs_count = 39\n",
      "\n",
      "bm pca 2 False 29\n",
      "mrr = 0.11936573674048713, pairs_count = 39\n",
      "\n",
      "bm pca 2 False 30\n",
      "mrr = 0.11022810407391152, pairs_count = 41\n",
      "\n",
      "bm pca 2 False 31\n",
      "mrr = 0.1175032934530418, pairs_count = 42\n",
      "\n",
      "bm pca 2 False 32\n",
      "mrr = 0.1165366361690688, pairs_count = 43\n",
      "\n",
      "bm pca 2 False 33\n",
      "mrr = 0.11006002556771403, pairs_count = 47\n",
      "\n",
      "bm pca 2 False 34\n",
      "mrr = 0.11076516858286499, pairs_count = 47\n",
      "\n",
      "bm pca 2 False 35\n",
      "mrr = 0.11026591653805394, pairs_count = 48\n",
      "\n",
      "bm pca 2 False 36\n",
      "mrr = 0.10873464764698508, pairs_count = 50\n",
      "\n",
      "bm pca 2 False 37\n",
      "mrr = 0.10453786017504502, pairs_count = 52\n",
      "\n",
      "bm pca 2 False 38\n",
      "mrr = 0.09526182665403618, pairs_count = 57\n",
      "\n",
      "bm pca 2 False 39\n",
      "mrr = 0.09482881039684359, pairs_count = 57\n",
      "\n",
      "bm pca 2 False 40\n",
      "mrr = 0.09827535729206267, pairs_count = 59\n",
      "\n",
      "bm pca 2 False 41\n",
      "mrr = 0.09999162161336553, pairs_count = 60\n",
      "\n",
      "bm pca 2 False 42\n",
      "mrr = 0.09911994746690882, pairs_count = 61\n",
      "\n",
      "bm pca 2 False 43\n",
      "mrr = 0.09371993923440411, pairs_count = 66\n",
      "\n",
      "bm pca 2 False 44\n",
      "mrr = 0.09069552850444562, pairs_count = 68\n",
      "\n",
      "bm pca 2 False 45\n",
      "mrr = 0.09299082695670269, pairs_count = 69\n",
      "\n",
      "bm pca 2 False 46\n",
      "mrr = 0.09285084975914162, pairs_count = 69\n",
      "\n",
      "bm pca 2 False 47\n",
      "mrr = 0.09057298335090706, pairs_count = 70\n",
      "\n",
      "bm pca 2 False 48\n",
      "mrr = 0.09608325872606979, pairs_count = 71\n",
      "\n",
      "bm pca 2 False 49\n",
      "mrr = 0.09577236188214659, pairs_count = 71\n",
      "\n",
      "bm pca 2 False 50\n",
      "mrr = 0.09025698164007152, pairs_count = 74\n",
      "\n",
      "bm sim_euclid 5 True 20\n",
      "mrr = 0.16083478920896882, pairs_count = 29\n",
      "\n",
      "bm sim_euclid 5 True 21\n",
      "mrr = 0.17228716129404437, pairs_count = 29\n",
      "\n",
      "bm sim_euclid 5 True 22\n",
      "mrr = 0.16165416401375182, pairs_count = 29\n",
      "\n",
      "bm sim_euclid 5 True 23\n",
      "mrr = 0.13732399209596163, pairs_count = 33\n",
      "\n",
      "bm sim_euclid 5 True 24\n",
      "mrr = 0.14689815405957687, pairs_count = 35\n",
      "\n",
      "bm sim_euclid 5 True 25\n",
      "mrr = 0.14401455898931656, pairs_count = 36\n",
      "\n",
      "bm sim_euclid 5 True 26\n",
      "mrr = 0.14188168840707494, pairs_count = 37\n",
      "\n",
      "bm sim_euclid 5 True 27\n",
      "mrr = 0.13722796156937178, pairs_count = 38\n",
      "\n",
      "bm sim_euclid 5 True 28\n",
      "mrr = 0.10837662056001776, pairs_count = 39\n",
      "\n",
      "bm sim_euclid 5 True 29\n",
      "mrr = 0.12881930785484857, pairs_count = 39\n",
      "\n",
      "bm sim_euclid 5 True 30\n",
      "mrr = 0.12721705044981155, pairs_count = 41\n",
      "\n",
      "bm sim_euclid 5 True 31\n",
      "mrr = 0.12526475813435273, pairs_count = 42\n",
      "\n",
      "bm sim_euclid 5 True 32\n",
      "mrr = 0.12252008787025659, pairs_count = 43\n",
      "\n",
      "bm sim_euclid 5 True 33\n",
      "mrr = 0.1095849783798553, pairs_count = 47\n",
      "\n",
      "bm sim_euclid 5 True 34\n",
      "mrr = 0.1064804712196407, pairs_count = 47\n",
      "\n",
      "bm sim_euclid 5 True 35\n",
      "mrr = 0.11596309455781878, pairs_count = 48\n",
      "\n",
      "bm sim_euclid 5 True 36\n",
      "mrr = 0.10782992396260418, pairs_count = 50\n",
      "\n",
      "bm sim_euclid 5 True 37\n",
      "mrr = 0.10927752136500025, pairs_count = 52\n",
      "\n",
      "bm sim_euclid 5 True 38\n",
      "mrr = 0.09700193956021193, pairs_count = 57\n",
      "\n",
      "bm sim_euclid 5 True 39\n",
      "mrr = 0.09423678695977519, pairs_count = 57\n",
      "\n",
      "bm sim_euclid 5 True 40\n",
      "mrr = 0.09401767547958749, pairs_count = 59\n",
      "\n",
      "bm sim_euclid 5 True 41\n",
      "mrr = 0.09425006516574222, pairs_count = 60\n",
      "\n",
      "bm sim_euclid 5 True 42\n",
      "mrr = 0.09807390403704166, pairs_count = 61\n",
      "\n",
      "bm sim_euclid 5 True 43\n",
      "mrr = 0.09837563355621921, pairs_count = 66\n",
      "\n",
      "bm sim_euclid 5 True 44\n",
      "mrr = 0.10233141792723584, pairs_count = 68\n",
      "\n",
      "bm sim_euclid 5 True 45\n",
      "mrr = 0.09518348152525244, pairs_count = 69\n",
      "\n",
      "bm sim_euclid 5 True 46\n",
      "mrr = 0.08633937846600696, pairs_count = 69\n",
      "\n",
      "bm sim_euclid 5 True 47\n",
      "mrr = 0.096535263287961, pairs_count = 70\n",
      "\n",
      "bm sim_euclid 5 True 48\n",
      "mrr = 0.09742853366423551, pairs_count = 71\n",
      "\n",
      "bm sim_euclid 5 True 49\n",
      "mrr = 0.09629572499889523, pairs_count = 71\n",
      "\n",
      "bm sim_euclid 5 True 50\n",
      "mrr = 0.08767256076865688, pairs_count = 74\n",
      "\n",
      "bm sim_cos 5 True 20\n",
      "mrr = 0.15427184808502967, pairs_count = 29\n",
      "\n",
      "bm sim_cos 5 True 21\n",
      "mrr = 0.17283783227475935, pairs_count = 29\n",
      "\n",
      "bm sim_cos 5 True 22\n",
      "mrr = 0.17574952351522544, pairs_count = 29\n",
      "\n",
      "bm sim_cos 5 True 23\n",
      "mrr = 0.16537692404847018, pairs_count = 33\n",
      "\n",
      "bm sim_cos 5 True 24\n",
      "mrr = 0.1541780403286979, pairs_count = 35\n",
      "\n",
      "bm sim_cos 5 True 25\n",
      "mrr = 0.15932000702761448, pairs_count = 36\n",
      "\n",
      "bm sim_cos 5 True 26\n",
      "mrr = 0.15270823474289807, pairs_count = 37\n",
      "\n",
      "bm sim_cos 5 True 27\n",
      "mrr = 0.1509807483259436, pairs_count = 38\n",
      "\n",
      "bm sim_cos 5 True 28\n",
      "mrr = 0.15495588290846468, pairs_count = 39\n",
      "\n",
      "bm sim_cos 5 True 29\n",
      "mrr = 0.15249758186283588, pairs_count = 39\n",
      "\n",
      "bm sim_cos 5 True 30\n",
      "mrr = 0.1407524045357159, pairs_count = 41\n",
      "\n",
      "bm sim_cos 5 True 31\n",
      "mrr = 0.13545313842346685, pairs_count = 42\n",
      "\n",
      "bm sim_cos 5 True 32\n",
      "mrr = 0.1462613637546414, pairs_count = 43\n",
      "\n",
      "bm sim_cos 5 True 33\n",
      "mrr = 0.1407652934853414, pairs_count = 47\n",
      "\n",
      "bm sim_cos 5 True 34\n",
      "mrr = 0.1402764509791406, pairs_count = 47\n",
      "\n",
      "bm sim_cos 5 True 35\n",
      "mrr = 0.14026531570470344, pairs_count = 48\n",
      "\n",
      "bm sim_cos 5 True 36\n",
      "mrr = 0.13115571493878583, pairs_count = 50\n",
      "\n",
      "bm sim_cos 5 True 37\n",
      "mrr = 0.12654042413192645, pairs_count = 52\n",
      "\n",
      "bm sim_cos 5 True 38\n",
      "mrr = 0.12963268359683208, pairs_count = 57\n",
      "\n",
      "bm sim_cos 5 True 39\n",
      "mrr = 0.13594572316022113, pairs_count = 57\n",
      "\n",
      "bm sim_cos 5 True 40\n",
      "mrr = 0.12644255010459482, pairs_count = 59\n",
      "\n",
      "bm sim_cos 5 True 41\n",
      "mrr = 0.1299140157086085, pairs_count = 60\n",
      "\n",
      "bm sim_cos 5 True 42\n",
      "mrr = 0.1349567701778078, pairs_count = 61\n",
      "\n",
      "bm sim_cos 5 True 43\n",
      "mrr = 0.1328610871154076, pairs_count = 66\n",
      "\n",
      "bm sim_cos 5 True 44\n",
      "mrr = 0.13464868692313947, pairs_count = 68\n",
      "\n",
      "bm sim_cos 5 True 45\n",
      "mrr = 0.13321102372433785, pairs_count = 69\n",
      "\n",
      "bm sim_cos 5 True 46\n",
      "mrr = 0.1353072047021674, pairs_count = 69\n",
      "\n",
      "bm sim_cos 5 True 47\n",
      "mrr = 0.12779403907644096, pairs_count = 70\n",
      "\n",
      "bm sim_cos 5 True 48\n",
      "mrr = 0.12521787973326598, pairs_count = 71\n",
      "\n",
      "bm sim_cos 5 True 49\n",
      "mrr = 0.13047754728162803, pairs_count = 71\n",
      "\n",
      "bm sim_cos 5 True 50\n",
      "mrr = 0.13012309833846555, pairs_count = 74\n",
      "\n",
      "bm umap 5 True 20\n",
      "mrr = 0.18110166905103534, pairs_count = 29\n",
      "\n",
      "bm umap 5 True 21\n",
      "mrr = 0.2041657371597361, pairs_count = 29\n",
      "\n",
      "bm umap 5 True 22\n",
      "mrr = 0.18976390547800986, pairs_count = 29\n",
      "\n",
      "bm umap 5 True 23\n",
      "mrr = 0.18241683864899177, pairs_count = 33\n",
      "\n",
      "bm umap 5 True 24\n",
      "mrr = 0.17584714338717947, pairs_count = 35\n",
      "\n",
      "bm umap 5 True 25\n",
      "mrr = 0.18613491926446346, pairs_count = 36\n",
      "\n",
      "bm umap 5 True 26\n",
      "mrr = 0.17578474704492822, pairs_count = 37\n",
      "\n",
      "bm umap 5 True 27\n",
      "mrr = 0.15623847979156827, pairs_count = 38\n",
      "\n",
      "bm umap 5 True 28\n",
      "mrr = 0.15823169041418664, pairs_count = 39\n",
      "\n",
      "bm umap 5 True 29\n",
      "mrr = 0.1638354279407131, pairs_count = 39\n",
      "\n",
      "bm umap 5 True 30\n",
      "mrr = 0.16266159045272285, pairs_count = 41\n",
      "\n",
      "bm umap 5 True 31\n",
      "mrr = 0.14855715713886153, pairs_count = 42\n",
      "\n",
      "bm umap 5 True 32\n",
      "mrr = 0.1603439357021857, pairs_count = 43\n",
      "\n",
      "bm umap 5 True 33\n",
      "mrr = 0.13765227619258621, pairs_count = 47\n",
      "\n",
      "bm umap 5 True 34\n",
      "mrr = 0.14899105073165775, pairs_count = 47\n",
      "\n",
      "bm umap 5 True 35\n",
      "mrr = 0.13880813916573612, pairs_count = 48\n",
      "\n",
      "bm umap 5 True 36\n",
      "mrr = 0.1437538406055502, pairs_count = 50\n",
      "\n",
      "bm umap 5 True 37\n",
      "mrr = 0.13493075976846824, pairs_count = 52\n",
      "\n",
      "bm umap 5 True 38\n",
      "mrr = 0.13042105495618636, pairs_count = 57\n",
      "\n",
      "bm umap 5 True 39\n",
      "mrr = 0.1250981770858028, pairs_count = 57\n",
      "\n",
      "bm umap 5 True 40\n",
      "mrr = 0.12236561154473785, pairs_count = 59\n",
      "\n",
      "bm umap 5 True 41\n",
      "mrr = 0.12164142702333396, pairs_count = 60\n",
      "\n",
      "bm umap 5 True 42\n",
      "mrr = 0.12482210404310484, pairs_count = 61\n",
      "\n",
      "bm umap 5 True 43\n",
      "mrr = 0.1341922925086134, pairs_count = 66\n",
      "\n",
      "bm umap 5 True 44\n",
      "mrr = 0.1361305633203287, pairs_count = 68\n",
      "\n",
      "bm umap 5 True 45\n",
      "mrr = 0.1379898290935412, pairs_count = 69\n",
      "\n",
      "bm umap 5 True 46\n",
      "mrr = 0.12949128095681944, pairs_count = 69\n",
      "\n",
      "bm umap 5 True 47\n",
      "mrr = 0.1349795753393748, pairs_count = 70\n",
      "\n",
      "bm umap 5 True 48\n",
      "mrr = 0.1358536447199735, pairs_count = 71\n",
      "\n",
      "bm umap 5 True 49\n",
      "mrr = 0.13331218145079066, pairs_count = 71\n",
      "\n",
      "bm umap 5 True 50\n",
      "mrr = 0.12474870297377012, pairs_count = 74\n",
      "\n",
      "bm umap 2 False 20\n",
      "mrr = 0.18110166905103534, pairs_count = 29\n",
      "\n",
      "bm umap 2 False 21\n",
      "mrr = 0.2041657371597361, pairs_count = 29\n",
      "\n",
      "bm umap 2 False 22\n",
      "mrr = 0.18976390547800986, pairs_count = 29\n",
      "\n",
      "bm umap 2 False 23\n",
      "mrr = 0.18241683864899177, pairs_count = 33\n",
      "\n",
      "bm umap 2 False 24\n",
      "mrr = 0.17584714338717947, pairs_count = 35\n",
      "\n",
      "bm umap 2 False 25\n",
      "mrr = 0.18613491926446346, pairs_count = 36\n",
      "\n",
      "bm umap 2 False 26\n",
      "mrr = 0.17578474704492822, pairs_count = 37\n",
      "\n",
      "bm umap 2 False 27\n",
      "mrr = 0.15623847979156827, pairs_count = 38\n",
      "\n",
      "bm umap 2 False 28\n",
      "mrr = 0.15823169041418664, pairs_count = 39\n",
      "\n",
      "bm umap 2 False 29\n",
      "mrr = 0.1638354279407131, pairs_count = 39\n",
      "\n",
      "bm umap 2 False 30\n",
      "mrr = 0.16266159045272285, pairs_count = 41\n",
      "\n",
      "bm umap 2 False 31\n",
      "mrr = 0.14855715713886153, pairs_count = 42\n",
      "\n",
      "bm umap 2 False 32\n",
      "mrr = 0.1603439357021857, pairs_count = 43\n",
      "\n",
      "bm umap 2 False 33\n",
      "mrr = 0.13765227619258621, pairs_count = 47\n",
      "\n",
      "bm umap 2 False 34\n",
      "mrr = 0.14899105073165775, pairs_count = 47\n",
      "\n",
      "bm umap 2 False 35\n",
      "mrr = 0.13880813916573612, pairs_count = 48\n",
      "\n",
      "bm umap 2 False 36\n",
      "mrr = 0.1437538406055502, pairs_count = 50\n",
      "\n",
      "bm umap 2 False 37\n",
      "mrr = 0.13493075976846824, pairs_count = 52\n",
      "\n",
      "bm umap 2 False 38\n",
      "mrr = 0.13042105495618636, pairs_count = 57\n",
      "\n",
      "bm umap 2 False 39\n",
      "mrr = 0.1250981770858028, pairs_count = 57\n",
      "\n",
      "bm umap 2 False 40\n",
      "mrr = 0.12236561154473785, pairs_count = 59\n",
      "\n",
      "bm umap 2 False 41\n",
      "mrr = 0.12164142702333396, pairs_count = 60\n",
      "\n",
      "bm umap 2 False 42\n",
      "mrr = 0.12482210404310484, pairs_count = 61\n",
      "\n",
      "bm umap 2 False 43\n",
      "mrr = 0.1341922925086134, pairs_count = 66\n",
      "\n",
      "bm umap 2 False 44\n",
      "mrr = 0.1361305633203287, pairs_count = 68\n",
      "\n",
      "bm umap 2 False 45\n",
      "mrr = 0.1379898290935412, pairs_count = 69\n",
      "\n",
      "bm umap 2 False 46\n",
      "mrr = 0.12949128095681944, pairs_count = 69\n",
      "\n",
      "bm umap 2 False 47\n",
      "mrr = 0.1349795753393748, pairs_count = 70\n",
      "\n",
      "bm umap 2 False 48\n",
      "mrr = 0.1358536447199735, pairs_count = 71\n",
      "\n",
      "bm umap 2 False 49\n",
      "mrr = 0.13331218145079066, pairs_count = 71\n",
      "\n",
      "bm umap 2 False 50\n",
      "mrr = 0.12474870297377012, pairs_count = 74\n",
      "\n",
      "tfidf tsne 5 True 20\n",
      "mrr = 0.15708370760419027, pairs_count = 29\n",
      "\n",
      "tfidf tsne 5 True 21\n",
      "mrr = 0.15944397629112328, pairs_count = 29\n",
      "\n",
      "tfidf tsne 5 True 22\n",
      "mrr = 0.14248589153981053, pairs_count = 29\n",
      "\n",
      "tfidf tsne 5 True 23\n",
      "mrr = 0.16580449226079336, pairs_count = 33\n",
      "\n",
      "tfidf tsne 5 True 24\n",
      "mrr = 0.16152518120617027, pairs_count = 35\n",
      "\n",
      "tfidf tsne 5 True 25\n",
      "mrr = 0.1553831176197138, pairs_count = 36\n",
      "\n",
      "tfidf tsne 5 True 26\n",
      "mrr = 0.15358444922142125, pairs_count = 37\n",
      "\n",
      "tfidf tsne 5 True 27\n",
      "mrr = 0.14960743751139918, pairs_count = 38\n",
      "\n",
      "tfidf tsne 5 True 28\n",
      "mrr = 0.1556324264601453, pairs_count = 39\n",
      "\n",
      "tfidf tsne 5 True 29\n",
      "mrr = 0.12792425209273955, pairs_count = 39\n",
      "\n",
      "tfidf tsne 5 True 30\n",
      "mrr = 0.14185752770775295, pairs_count = 41\n",
      "\n",
      "tfidf tsne 5 True 31\n",
      "mrr = 0.13879389265066724, pairs_count = 42\n",
      "\n",
      "tfidf tsne 5 True 32\n",
      "mrr = 0.15544308472948207, pairs_count = 43\n",
      "\n",
      "tfidf tsne 5 True 33\n",
      "mrr = 0.1444516136049083, pairs_count = 47\n",
      "\n",
      "tfidf tsne 5 True 34\n",
      "mrr = 0.14384053547902645, pairs_count = 47\n",
      "\n",
      "tfidf tsne 5 True 35\n",
      "mrr = 0.13363860935309851, pairs_count = 48\n",
      "\n",
      "tfidf tsne 5 True 36\n",
      "mrr = 0.13121408513163105, pairs_count = 50\n",
      "\n",
      "tfidf tsne 5 True 37\n",
      "mrr = 0.13848410138192893, pairs_count = 52\n",
      "\n",
      "tfidf tsne 5 True 38\n",
      "mrr = 0.1219520526693769, pairs_count = 57\n",
      "\n",
      "tfidf tsne 5 True 39\n",
      "mrr = 0.12889700473528065, pairs_count = 57\n",
      "\n",
      "tfidf tsne 5 True 40\n",
      "mrr = 0.13100851531420954, pairs_count = 59\n",
      "\n",
      "tfidf tsne 5 True 41\n",
      "mrr = 0.13058674024431796, pairs_count = 60\n",
      "\n",
      "tfidf tsne 5 True 42\n",
      "mrr = 0.13255506322495175, pairs_count = 61\n",
      "\n",
      "tfidf tsne 5 True 43\n",
      "mrr = 0.1325559056938423, pairs_count = 66\n",
      "\n",
      "tfidf tsne 5 True 44\n",
      "mrr = 0.11719786105174225, pairs_count = 68\n",
      "\n",
      "tfidf tsne 5 True 45\n",
      "mrr = 0.12845808520747987, pairs_count = 69\n",
      "\n",
      "tfidf tsne 5 True 46\n",
      "mrr = 0.1295262049086372, pairs_count = 69\n",
      "\n",
      "tfidf tsne 5 True 47\n",
      "mrr = 0.12436231682063628, pairs_count = 70\n",
      "\n",
      "tfidf tsne 5 True 48\n",
      "mrr = 0.1311283938791544, pairs_count = 71\n",
      "\n",
      "tfidf tsne 5 True 49\n",
      "mrr = 0.12863907530758656, pairs_count = 71\n",
      "\n",
      "tfidf tsne 5 True 50\n",
      "mrr = 0.126749899895074, pairs_count = 74\n",
      "\n",
      "tfidf als 5 True 20\n",
      "mrr = 0.10303752043763975, pairs_count = 29\n",
      "\n",
      "tfidf als 5 True 21\n",
      "mrr = 0.08248746152783357, pairs_count = 29\n",
      "\n",
      "tfidf als 5 True 22\n",
      "mrr = 0.08434047331882119, pairs_count = 29\n",
      "\n",
      "tfidf als 5 True 23\n",
      "mrr = 0.09053411644802478, pairs_count = 33\n",
      "\n",
      "tfidf als 5 True 24\n",
      "mrr = 0.08352902791607686, pairs_count = 35\n",
      "\n",
      "tfidf als 5 True 25\n",
      "mrr = 0.07547284722287688, pairs_count = 36\n",
      "\n",
      "tfidf als 5 True 26\n",
      "mrr = 0.08987065603950843, pairs_count = 37\n",
      "\n",
      "tfidf als 5 True 27\n",
      "mrr = 0.10522218376617096, pairs_count = 38\n",
      "\n",
      "tfidf als 5 True 28\n",
      "mrr = 0.07235214890072604, pairs_count = 39\n",
      "\n",
      "tfidf als 5 True 29\n",
      "mrr = 0.06563787711982674, pairs_count = 39\n",
      "\n",
      "tfidf als 5 True 30\n",
      "mrr = 0.0805578151443049, pairs_count = 41\n",
      "\n",
      "tfidf als 5 True 31\n",
      "mrr = 0.06477371610635276, pairs_count = 42\n",
      "\n",
      "tfidf als 5 True 32\n",
      "mrr = 0.06816182184979269, pairs_count = 43\n",
      "\n",
      "tfidf als 5 True 33\n",
      "mrr = 0.0678106193899262, pairs_count = 47\n",
      "\n",
      "tfidf als 5 True 34\n",
      "mrr = 0.07337931146467835, pairs_count = 47\n",
      "\n",
      "tfidf als 5 True 35\n",
      "mrr = 0.06975635078749785, pairs_count = 48\n",
      "\n",
      "tfidf als 5 True 36\n",
      "mrr = 0.06590606692897408, pairs_count = 50\n",
      "\n",
      "tfidf als 5 True 37\n",
      "mrr = 0.07175497206222727, pairs_count = 52\n",
      "\n",
      "tfidf als 5 True 38\n",
      "mrr = 0.06785912109084101, pairs_count = 57\n",
      "\n",
      "tfidf als 5 True 39\n",
      "mrr = 0.05947424997498596, pairs_count = 57\n",
      "\n",
      "tfidf als 5 True 40\n",
      "mrr = 0.05370971795055105, pairs_count = 59\n",
      "\n",
      "tfidf als 5 True 41\n",
      "mrr = 0.057141890381571143, pairs_count = 60\n",
      "\n",
      "tfidf als 5 True 42\n",
      "mrr = 0.05838025331521115, pairs_count = 61\n",
      "\n",
      "tfidf als 5 True 43\n",
      "mrr = 0.05959094253097444, pairs_count = 66\n",
      "\n",
      "tfidf als 5 True 44\n",
      "mrr = 0.06657498901958679, pairs_count = 68\n",
      "\n",
      "tfidf als 5 True 45\n",
      "mrr = 0.061458230663031195, pairs_count = 69\n",
      "\n",
      "tfidf als 5 True 46\n",
      "mrr = 0.06163854403759539, pairs_count = 69\n",
      "\n",
      "tfidf als 5 True 47\n",
      "mrr = 0.055064400774260634, pairs_count = 70\n",
      "\n",
      "tfidf als 5 True 48\n",
      "mrr = 0.05267987631688495, pairs_count = 71\n",
      "\n",
      "tfidf als 5 True 49\n",
      "mrr = 0.05437411389623962, pairs_count = 71\n",
      "\n",
      "tfidf als 5 True 50\n",
      "mrr = 0.04906165776731461, pairs_count = 74\n",
      "\n",
      "tfidf svd 5 True 20\n",
      "mrr = 0.13255768582046407, pairs_count = 29\n",
      "\n",
      "tfidf svd 5 True 21\n",
      "mrr = 0.13084309504327857, pairs_count = 29\n",
      "\n",
      "tfidf svd 5 True 22\n",
      "mrr = 0.1281859245775277, pairs_count = 29\n",
      "\n",
      "tfidf svd 5 True 23\n",
      "mrr = 0.11941982839481442, pairs_count = 33\n",
      "\n",
      "tfidf svd 5 True 24\n",
      "mrr = 0.11079357440112542, pairs_count = 35\n",
      "\n",
      "tfidf svd 5 True 25\n",
      "mrr = 0.1063443879342429, pairs_count = 36\n",
      "\n",
      "tfidf svd 5 True 26\n",
      "mrr = 0.10375639985442846, pairs_count = 37\n",
      "\n",
      "tfidf svd 5 True 27\n",
      "mrr = 0.10032663379897297, pairs_count = 38\n",
      "\n",
      "tfidf svd 5 True 28\n",
      "mrr = 0.10084327435028906, pairs_count = 39\n",
      "\n",
      "tfidf svd 5 True 29\n",
      "mrr = 0.09657079833631523, pairs_count = 39\n",
      "\n",
      "tfidf svd 5 True 30\n",
      "mrr = 0.0880746617862507, pairs_count = 41\n",
      "\n",
      "tfidf svd 5 True 31\n",
      "mrr = 0.08557484536072167, pairs_count = 42\n",
      "\n",
      "tfidf svd 5 True 32\n",
      "mrr = 0.08443707774000518, pairs_count = 43\n",
      "\n",
      "tfidf svd 5 True 33\n",
      "mrr = 0.0782197293443382, pairs_count = 47\n",
      "\n",
      "tfidf svd 5 True 34\n",
      "mrr = 0.08522027845317143, pairs_count = 47\n",
      "\n",
      "tfidf svd 5 True 35\n",
      "mrr = 0.08340817400793422, pairs_count = 48\n",
      "\n",
      "tfidf svd 5 True 36\n",
      "mrr = 0.08206890025084186, pairs_count = 50\n",
      "\n",
      "tfidf svd 5 True 37\n",
      "mrr = 0.07984673300514546, pairs_count = 52\n",
      "\n",
      "tfidf svd 5 True 38\n",
      "mrr = 0.07643385974399992, pairs_count = 57\n",
      "\n",
      "tfidf svd 5 True 39\n",
      "mrr = 0.07921727126481416, pairs_count = 57\n",
      "\n",
      "tfidf svd 5 True 40\n",
      "mrr = 0.0792011335055528, pairs_count = 59\n",
      "\n",
      "tfidf svd 5 True 41\n",
      "mrr = 0.07776608306190495, pairs_count = 60\n",
      "\n",
      "tfidf svd 5 True 42\n",
      "mrr = 0.07474634392033791, pairs_count = 61\n",
      "\n",
      "tfidf svd 5 True 43\n",
      "mrr = 0.07507701101649372, pairs_count = 66\n",
      "\n",
      "tfidf svd 5 True 44\n",
      "mrr = 0.06844097357998491, pairs_count = 68\n",
      "\n",
      "tfidf svd 5 True 45\n",
      "mrr = 0.0682101893777267, pairs_count = 69\n",
      "\n",
      "tfidf svd 5 True 46\n",
      "mrr = 0.06819687609639212, pairs_count = 69\n",
      "\n",
      "tfidf svd 5 True 47\n",
      "mrr = 0.06751265994167956, pairs_count = 70\n",
      "\n",
      "tfidf svd 5 True 48\n",
      "mrr = 0.06606354615126775, pairs_count = 71\n",
      "\n",
      "tfidf svd 5 True 49\n",
      "mrr = 0.06732277919932267, pairs_count = 71\n",
      "\n",
      "tfidf svd 5 True 50\n",
      "mrr = 0.06327034814243111, pairs_count = 74\n",
      "\n",
      "tfidf svd 2 False 20\n",
      "mrr = 0.13255768582046407, pairs_count = 29\n",
      "\n",
      "tfidf svd 2 False 21\n",
      "mrr = 0.13084309504327857, pairs_count = 29\n",
      "\n",
      "tfidf svd 2 False 22\n",
      "mrr = 0.1281859245775277, pairs_count = 29\n",
      "\n",
      "tfidf svd 2 False 23\n",
      "mrr = 0.11941982839481442, pairs_count = 33\n",
      "\n",
      "tfidf svd 2 False 24\n",
      "mrr = 0.11079357440112542, pairs_count = 35\n",
      "\n",
      "tfidf svd 2 False 25\n",
      "mrr = 0.1063443879342429, pairs_count = 36\n",
      "\n",
      "tfidf svd 2 False 26\n",
      "mrr = 0.10375639985442846, pairs_count = 37\n",
      "\n",
      "tfidf svd 2 False 27\n",
      "mrr = 0.10032663379897297, pairs_count = 38\n",
      "\n",
      "tfidf svd 2 False 28\n",
      "mrr = 0.10084327435028906, pairs_count = 39\n",
      "\n",
      "tfidf svd 2 False 29\n",
      "mrr = 0.09657079833631523, pairs_count = 39\n",
      "\n",
      "tfidf svd 2 False 30\n",
      "mrr = 0.0880746617862507, pairs_count = 41\n",
      "\n",
      "tfidf svd 2 False 31\n",
      "mrr = 0.08557484536072167, pairs_count = 42\n",
      "\n",
      "tfidf svd 2 False 32\n",
      "mrr = 0.08443707774000518, pairs_count = 43\n",
      "\n",
      "tfidf svd 2 False 33\n",
      "mrr = 0.0782197293443382, pairs_count = 47\n",
      "\n",
      "tfidf svd 2 False 34\n",
      "mrr = 0.08522027845317143, pairs_count = 47\n",
      "\n",
      "tfidf svd 2 False 35\n",
      "mrr = 0.08340817400793422, pairs_count = 48\n",
      "\n",
      "tfidf svd 2 False 36\n",
      "mrr = 0.08206890025084186, pairs_count = 50\n",
      "\n",
      "tfidf svd 2 False 37\n",
      "mrr = 0.07984673300514546, pairs_count = 52\n",
      "\n",
      "tfidf svd 2 False 38\n",
      "mrr = 0.07643385974399992, pairs_count = 57\n",
      "\n",
      "tfidf svd 2 False 39\n",
      "mrr = 0.07921727126481416, pairs_count = 57\n",
      "\n",
      "tfidf svd 2 False 40\n",
      "mrr = 0.0792011335055528, pairs_count = 59\n",
      "\n",
      "tfidf svd 2 False 41\n",
      "mrr = 0.07776608306190495, pairs_count = 60\n",
      "\n",
      "tfidf svd 2 False 42\n",
      "mrr = 0.07474634392033791, pairs_count = 61\n",
      "\n",
      "tfidf svd 2 False 43\n",
      "mrr = 0.07507701101649372, pairs_count = 66\n",
      "\n",
      "tfidf svd 2 False 44\n",
      "mrr = 0.06844097357998491, pairs_count = 68\n",
      "\n",
      "tfidf svd 2 False 45\n",
      "mrr = 0.0682101893777267, pairs_count = 69\n",
      "\n",
      "tfidf svd 2 False 46\n",
      "mrr = 0.06819687609639212, pairs_count = 69\n",
      "\n",
      "tfidf svd 2 False 47\n",
      "mrr = 0.06751265994167956, pairs_count = 70\n",
      "\n",
      "tfidf svd 2 False 48\n",
      "mrr = 0.06606354615126775, pairs_count = 71\n",
      "\n",
      "tfidf svd 2 False 49\n",
      "mrr = 0.06732277919932267, pairs_count = 71\n",
      "\n",
      "tfidf svd 2 False 50\n",
      "mrr = 0.06327034814243111, pairs_count = 74\n",
      "\n",
      "tfidf pca 5 True 20\n",
      "mrr = 0.1558257456730796, pairs_count = 29\n",
      "\n",
      "tfidf pca 5 True 21\n",
      "mrr = 0.14908036548715842, pairs_count = 29\n",
      "\n",
      "tfidf pca 5 True 22\n",
      "mrr = 0.14618355843143246, pairs_count = 29\n",
      "\n",
      "tfidf pca 5 True 23\n",
      "mrr = 0.13192951684519258, pairs_count = 33\n",
      "\n",
      "tfidf pca 5 True 24\n",
      "mrr = 0.1250002657582817, pairs_count = 35\n",
      "\n",
      "tfidf pca 5 True 25\n",
      "mrr = 0.11587726757624435, pairs_count = 36\n",
      "\n",
      "tfidf pca 5 True 26\n",
      "mrr = 0.11056005969221991, pairs_count = 37\n",
      "\n",
      "tfidf pca 5 True 27\n",
      "mrr = 0.10869602881546672, pairs_count = 38\n",
      "\n",
      "tfidf pca 5 True 28\n",
      "mrr = 0.10655834960518945, pairs_count = 39\n",
      "\n",
      "tfidf pca 5 True 29\n",
      "mrr = 0.11108016396269041, pairs_count = 39\n",
      "\n",
      "tfidf pca 5 True 30\n",
      "mrr = 0.10279463610933577, pairs_count = 41\n",
      "\n",
      "tfidf pca 5 True 31\n",
      "mrr = 0.10756229746024795, pairs_count = 42\n",
      "\n",
      "tfidf pca 5 True 32\n",
      "mrr = 0.11269043151678582, pairs_count = 43\n",
      "\n",
      "tfidf pca 5 True 33\n",
      "mrr = 0.09691446187820234, pairs_count = 47\n",
      "\n",
      "tfidf pca 5 True 34\n",
      "mrr = 0.10162632459626376, pairs_count = 47\n",
      "\n",
      "tfidf pca 5 True 35\n",
      "mrr = 0.09525777211511616, pairs_count = 48\n",
      "\n",
      "tfidf pca 5 True 36\n",
      "mrr = 0.09041824384022522, pairs_count = 50\n",
      "\n",
      "tfidf pca 5 True 37\n",
      "mrr = 0.09650726374604748, pairs_count = 52\n",
      "\n",
      "tfidf pca 5 True 38\n",
      "mrr = 0.093297389219704, pairs_count = 57\n",
      "\n",
      "tfidf pca 5 True 39\n",
      "mrr = 0.09015544679332789, pairs_count = 57\n",
      "\n",
      "tfidf pca 5 True 40\n",
      "mrr = 0.09050808983742237, pairs_count = 59\n",
      "\n",
      "tfidf pca 5 True 41\n",
      "mrr = 0.09004434380607837, pairs_count = 60\n",
      "\n",
      "tfidf pca 5 True 42\n",
      "mrr = 0.0907236353105585, pairs_count = 61\n",
      "\n",
      "tfidf pca 5 True 43\n",
      "mrr = 0.08878046559449194, pairs_count = 66\n",
      "\n",
      "tfidf pca 5 True 44\n",
      "mrr = 0.10243180463461989, pairs_count = 68\n",
      "\n",
      "tfidf pca 5 True 45\n",
      "mrr = 0.10174224806881813, pairs_count = 69\n",
      "\n",
      "tfidf pca 5 True 46\n",
      "mrr = 0.10193332942361062, pairs_count = 69\n",
      "\n",
      "tfidf pca 5 True 47\n",
      "mrr = 0.1044813933911622, pairs_count = 70\n",
      "\n",
      "tfidf pca 5 True 48\n",
      "mrr = 0.10603597999555904, pairs_count = 71\n",
      "\n",
      "tfidf pca 5 True 49\n",
      "mrr = 0.10658639825216101, pairs_count = 71\n",
      "\n",
      "tfidf pca 5 True 50\n",
      "mrr = 0.10248201104098309, pairs_count = 74\n",
      "\n",
      "tfidf pca 2 False 20\n",
      "mrr = 0.1558257456730796, pairs_count = 29\n",
      "\n",
      "tfidf pca 2 False 21\n",
      "mrr = 0.14908036548715842, pairs_count = 29\n",
      "\n",
      "tfidf pca 2 False 22\n",
      "mrr = 0.14618355843143246, pairs_count = 29\n",
      "\n",
      "tfidf pca 2 False 23\n",
      "mrr = 0.13192951684519258, pairs_count = 33\n",
      "\n",
      "tfidf pca 2 False 24\n",
      "mrr = 0.1250002657582817, pairs_count = 35\n",
      "\n",
      "tfidf pca 2 False 25\n",
      "mrr = 0.11587726757624435, pairs_count = 36\n",
      "\n",
      "tfidf pca 2 False 26\n",
      "mrr = 0.11056005969221991, pairs_count = 37\n",
      "\n",
      "tfidf pca 2 False 27\n",
      "mrr = 0.10869602881546672, pairs_count = 38\n",
      "\n",
      "tfidf pca 2 False 28\n",
      "mrr = 0.10655834960518945, pairs_count = 39\n",
      "\n",
      "tfidf pca 2 False 29\n",
      "mrr = 0.11108016396269041, pairs_count = 39\n",
      "\n",
      "tfidf pca 2 False 30\n",
      "mrr = 0.10279463610933577, pairs_count = 41\n",
      "\n",
      "tfidf pca 2 False 31\n",
      "mrr = 0.10756229746024795, pairs_count = 42\n",
      "\n",
      "tfidf pca 2 False 32\n",
      "mrr = 0.11269043151678582, pairs_count = 43\n",
      "\n",
      "tfidf pca 2 False 33\n",
      "mrr = 0.09691446187820234, pairs_count = 47\n",
      "\n",
      "tfidf pca 2 False 34\n",
      "mrr = 0.10162632459626376, pairs_count = 47\n",
      "\n",
      "tfidf pca 2 False 35\n",
      "mrr = 0.09525777211511616, pairs_count = 48\n",
      "\n",
      "tfidf pca 2 False 36\n",
      "mrr = 0.09041824384022522, pairs_count = 50\n",
      "\n",
      "tfidf pca 2 False 37\n",
      "mrr = 0.09650726374604748, pairs_count = 52\n",
      "\n",
      "tfidf pca 2 False 38\n",
      "mrr = 0.093297389219704, pairs_count = 57\n",
      "\n",
      "tfidf pca 2 False 39\n",
      "mrr = 0.09015544679332789, pairs_count = 57\n",
      "\n",
      "tfidf pca 2 False 40\n",
      "mrr = 0.09050808983742237, pairs_count = 59\n",
      "\n",
      "tfidf pca 2 False 41\n",
      "mrr = 0.09004434380607837, pairs_count = 60\n",
      "\n",
      "tfidf pca 2 False 42\n",
      "mrr = 0.0907236353105585, pairs_count = 61\n",
      "\n",
      "tfidf pca 2 False 43\n",
      "mrr = 0.08878046559449194, pairs_count = 66\n",
      "\n",
      "tfidf pca 2 False 44\n",
      "mrr = 0.10243180463461989, pairs_count = 68\n",
      "\n",
      "tfidf pca 2 False 45\n",
      "mrr = 0.10174224806881813, pairs_count = 69\n",
      "\n",
      "tfidf pca 2 False 46\n",
      "mrr = 0.10193332942361062, pairs_count = 69\n",
      "\n",
      "tfidf pca 2 False 47\n",
      "mrr = 0.1044813933911622, pairs_count = 70\n",
      "\n",
      "tfidf pca 2 False 48\n",
      "mrr = 0.10603597999555904, pairs_count = 71\n",
      "\n",
      "tfidf pca 2 False 49\n",
      "mrr = 0.10658639825216101, pairs_count = 71\n",
      "\n",
      "tfidf pca 2 False 50\n",
      "mrr = 0.10248201104098309, pairs_count = 74\n",
      "\n",
      "tfidf sim_euclid 5 True 20\n",
      "mrr = 0.1508903952686294, pairs_count = 29\n",
      "\n",
      "tfidf sim_euclid 5 True 21\n",
      "mrr = 0.14287709214046648, pairs_count = 29\n",
      "\n",
      "tfidf sim_euclid 5 True 22\n",
      "mrr = 0.13631410088982948, pairs_count = 29\n",
      "\n",
      "tfidf sim_euclid 5 True 23\n",
      "mrr = 0.10194050028697339, pairs_count = 33\n",
      "\n",
      "tfidf sim_euclid 5 True 24\n",
      "mrr = 0.11367044087786682, pairs_count = 35\n",
      "\n",
      "tfidf sim_euclid 5 True 25\n",
      "mrr = 0.11882765674837989, pairs_count = 36\n",
      "\n",
      "tfidf sim_euclid 5 True 26\n",
      "mrr = 0.11910204435236334, pairs_count = 37\n",
      "\n",
      "tfidf sim_euclid 5 True 27\n",
      "mrr = 0.11861878289766267, pairs_count = 38\n",
      "\n",
      "tfidf sim_euclid 5 True 28\n",
      "mrr = 0.1158208027922495, pairs_count = 39\n",
      "\n",
      "tfidf sim_euclid 5 True 29\n",
      "mrr = 0.11262054508668391, pairs_count = 39\n",
      "\n",
      "tfidf sim_euclid 5 True 30\n",
      "mrr = 0.10833166105412448, pairs_count = 41\n",
      "\n",
      "tfidf sim_euclid 5 True 31\n",
      "mrr = 0.11248649094256015, pairs_count = 42\n",
      "\n",
      "tfidf sim_euclid 5 True 32\n",
      "mrr = 0.11788532801612212, pairs_count = 43\n",
      "\n",
      "tfidf sim_euclid 5 True 33\n",
      "mrr = 0.10958462321854975, pairs_count = 47\n",
      "\n",
      "tfidf sim_euclid 5 True 34\n",
      "mrr = 0.10916709184232891, pairs_count = 47\n",
      "\n",
      "tfidf sim_euclid 5 True 35\n",
      "mrr = 0.11230953936786632, pairs_count = 48\n",
      "\n",
      "tfidf sim_euclid 5 True 36\n",
      "mrr = 0.1061263468523529, pairs_count = 50\n",
      "\n",
      "tfidf sim_euclid 5 True 37\n",
      "mrr = 0.10204993441117717, pairs_count = 52\n",
      "\n",
      "tfidf sim_euclid 5 True 38\n",
      "mrr = 0.09593772541176862, pairs_count = 57\n",
      "\n",
      "tfidf sim_euclid 5 True 39\n",
      "mrr = 0.09346237120802806, pairs_count = 57\n",
      "\n",
      "tfidf sim_euclid 5 True 40\n",
      "mrr = 0.09283733597025413, pairs_count = 59\n",
      "\n",
      "tfidf sim_euclid 5 True 41\n",
      "mrr = 0.09283105625093396, pairs_count = 60\n",
      "\n",
      "tfidf sim_euclid 5 True 42\n",
      "mrr = 0.09691409367180612, pairs_count = 61\n",
      "\n",
      "tfidf sim_euclid 5 True 43\n",
      "mrr = 0.10007917923697493, pairs_count = 66\n",
      "\n",
      "tfidf sim_euclid 5 True 44\n",
      "mrr = 0.10146329404231019, pairs_count = 68\n",
      "\n",
      "tfidf sim_euclid 5 True 45\n",
      "mrr = 0.09851785842401793, pairs_count = 69\n",
      "\n",
      "tfidf sim_euclid 5 True 46\n",
      "mrr = 0.09504586708068695, pairs_count = 69\n",
      "\n",
      "tfidf sim_euclid 5 True 47\n",
      "mrr = 0.09472885106806192, pairs_count = 70\n",
      "\n",
      "tfidf sim_euclid 5 True 48\n",
      "mrr = 0.09204602763638083, pairs_count = 71\n",
      "\n",
      "tfidf sim_euclid 5 True 49\n",
      "mrr = 0.09284010243760496, pairs_count = 71\n",
      "\n",
      "tfidf sim_euclid 5 True 50\n",
      "mrr = 0.0921340415185713, pairs_count = 74\n",
      "\n",
      "tfidf sim_cos 5 True 20\n",
      "mrr = 0.13348719298409958, pairs_count = 29\n",
      "\n",
      "tfidf sim_cos 5 True 21\n",
      "mrr = 0.15295974485551178, pairs_count = 29\n",
      "\n",
      "tfidf sim_cos 5 True 22\n",
      "mrr = 0.14975698207003657, pairs_count = 29\n",
      "\n",
      "tfidf sim_cos 5 True 23\n",
      "mrr = 0.14649399250450962, pairs_count = 33\n",
      "\n",
      "tfidf sim_cos 5 True 24\n",
      "mrr = 0.14643050044160655, pairs_count = 35\n",
      "\n",
      "tfidf sim_cos 5 True 25\n",
      "mrr = 0.131624298032867, pairs_count = 36\n",
      "\n",
      "tfidf sim_cos 5 True 26\n",
      "mrr = 0.11036398880332156, pairs_count = 37\n",
      "\n",
      "tfidf sim_cos 5 True 27\n",
      "mrr = 0.1425453581288357, pairs_count = 38\n",
      "\n",
      "tfidf sim_cos 5 True 28\n",
      "mrr = 0.14178593762210495, pairs_count = 39\n",
      "\n",
      "tfidf sim_cos 5 True 29\n",
      "mrr = 0.12454427991847461, pairs_count = 39\n",
      "\n",
      "tfidf sim_cos 5 True 30\n",
      "mrr = 0.12802086794378253, pairs_count = 41\n",
      "\n",
      "tfidf sim_cos 5 True 31\n",
      "mrr = 0.1203541840247184, pairs_count = 42\n",
      "\n",
      "tfidf sim_cos 5 True 32\n",
      "mrr = 0.1451334139300483, pairs_count = 43\n",
      "\n",
      "tfidf sim_cos 5 True 33\n",
      "mrr = 0.1288241317505098, pairs_count = 47\n",
      "\n",
      "tfidf sim_cos 5 True 34\n",
      "mrr = 0.1323144618238268, pairs_count = 47\n",
      "\n",
      "tfidf sim_cos 5 True 35\n",
      "mrr = 0.12955782143622205, pairs_count = 48\n",
      "\n",
      "tfidf sim_cos 5 True 36\n",
      "mrr = 0.12841538385503712, pairs_count = 50\n",
      "\n",
      "tfidf sim_cos 5 True 37\n",
      "mrr = 0.12164233988002328, pairs_count = 52\n",
      "\n",
      "tfidf sim_cos 5 True 38\n",
      "mrr = 0.12366727904610576, pairs_count = 57\n",
      "\n",
      "tfidf sim_cos 5 True 39\n",
      "mrr = 0.12297191383080716, pairs_count = 57\n",
      "\n",
      "tfidf sim_cos 5 True 40\n",
      "mrr = 0.12486434296493176, pairs_count = 59\n",
      "\n",
      "tfidf sim_cos 5 True 41\n",
      "mrr = 0.12846282046213867, pairs_count = 60\n",
      "\n",
      "tfidf sim_cos 5 True 42\n",
      "mrr = 0.11533509718953155, pairs_count = 61\n",
      "\n",
      "tfidf sim_cos 5 True 43\n",
      "mrr = 0.12158498735679035, pairs_count = 66\n",
      "\n",
      "tfidf sim_cos 5 True 44\n",
      "mrr = 0.11947987465542982, pairs_count = 68\n",
      "\n",
      "tfidf sim_cos 5 True 45\n",
      "mrr = 0.11974562262593408, pairs_count = 69\n",
      "\n",
      "tfidf sim_cos 5 True 46\n",
      "mrr = 0.11738236186425721, pairs_count = 69\n",
      "\n",
      "tfidf sim_cos 5 True 47\n",
      "mrr = 0.11484316343818757, pairs_count = 70\n",
      "\n",
      "tfidf sim_cos 5 True 48\n",
      "mrr = 0.1087006701170171, pairs_count = 71\n",
      "\n",
      "tfidf sim_cos 5 True 49\n",
      "mrr = 0.1186517268320989, pairs_count = 71\n",
      "\n",
      "tfidf sim_cos 5 True 50\n",
      "mrr = 0.11977558117655009, pairs_count = 74\n",
      "\n",
      "tfidf umap 5 True 20\n",
      "mrr = 0.17455184433979323, pairs_count = 29\n",
      "\n",
      "tfidf umap 5 True 21\n",
      "mrr = 0.16825150771652345, pairs_count = 29\n",
      "\n",
      "tfidf umap 5 True 22\n",
      "mrr = 0.1651642632845124, pairs_count = 29\n",
      "\n",
      "tfidf umap 5 True 23\n",
      "mrr = 0.16803248418788855, pairs_count = 33\n",
      "\n",
      "tfidf umap 5 True 24\n",
      "mrr = 0.16237174955778674, pairs_count = 35\n",
      "\n",
      "tfidf umap 5 True 25\n",
      "mrr = 0.16221776291201065, pairs_count = 36\n",
      "\n",
      "tfidf umap 5 True 26\n",
      "mrr = 0.150664254100586, pairs_count = 37\n",
      "\n",
      "tfidf umap 5 True 27\n",
      "mrr = 0.15434542984521915, pairs_count = 38\n",
      "\n",
      "tfidf umap 5 True 28\n",
      "mrr = 0.15286214536955894, pairs_count = 39\n",
      "\n",
      "tfidf umap 5 True 29\n",
      "mrr = 0.14399430501183397, pairs_count = 39\n",
      "\n",
      "tfidf umap 5 True 30\n",
      "mrr = 0.13282910782095175, pairs_count = 41\n",
      "\n",
      "tfidf umap 5 True 31\n",
      "mrr = 0.12720326799396, pairs_count = 42\n",
      "\n",
      "tfidf umap 5 True 32\n",
      "mrr = 0.1438252520828877, pairs_count = 43\n",
      "\n",
      "tfidf umap 5 True 33\n",
      "mrr = 0.1467512118789621, pairs_count = 47\n",
      "\n",
      "tfidf umap 5 True 34\n",
      "mrr = 0.14423397973014915, pairs_count = 47\n",
      "\n",
      "tfidf umap 5 True 35\n",
      "mrr = 0.15267287520745138, pairs_count = 48\n",
      "\n",
      "tfidf umap 5 True 36\n",
      "mrr = 0.14941687908877355, pairs_count = 50\n",
      "\n",
      "tfidf umap 5 True 37\n",
      "mrr = 0.13622544145203888, pairs_count = 52\n",
      "\n",
      "tfidf umap 5 True 38\n",
      "mrr = 0.11932271941099326, pairs_count = 57\n",
      "\n",
      "tfidf umap 5 True 39\n",
      "mrr = 0.11570802195929478, pairs_count = 57\n",
      "\n",
      "tfidf umap 5 True 40\n",
      "mrr = 0.12689106949790946, pairs_count = 59\n",
      "\n",
      "tfidf umap 5 True 41\n",
      "mrr = 0.1191169741436922, pairs_count = 60\n",
      "\n",
      "tfidf umap 5 True 42\n",
      "mrr = 0.13797193639756744, pairs_count = 61\n",
      "\n",
      "tfidf umap 5 True 43\n",
      "mrr = 0.12741581459087734, pairs_count = 66\n",
      "\n",
      "tfidf umap 5 True 44\n",
      "mrr = 0.13023707548578453, pairs_count = 68\n",
      "\n",
      "tfidf umap 5 True 45\n",
      "mrr = 0.12533737069764353, pairs_count = 69\n",
      "\n",
      "tfidf umap 5 True 46\n",
      "mrr = 0.12632892524341124, pairs_count = 69\n",
      "\n",
      "tfidf umap 5 True 47\n",
      "mrr = 0.12053949811979704, pairs_count = 70\n",
      "\n",
      "tfidf umap 5 True 48\n",
      "mrr = 0.1159779017219781, pairs_count = 71\n",
      "\n",
      "tfidf umap 5 True 49\n",
      "mrr = 0.12312100848057406, pairs_count = 71\n",
      "\n",
      "tfidf umap 5 True 50\n",
      "mrr = 0.12411668275083387, pairs_count = 74\n",
      "\n",
      "tfidf umap 2 False 20\n",
      "mrr = 0.17455184433979323, pairs_count = 29\n",
      "\n",
      "tfidf umap 2 False 21\n",
      "mrr = 0.16825150771652345, pairs_count = 29\n",
      "\n",
      "tfidf umap 2 False 22\n",
      "mrr = 0.1651642632845124, pairs_count = 29\n",
      "\n",
      "tfidf umap 2 False 23\n",
      "mrr = 0.16803248418788855, pairs_count = 33\n",
      "\n",
      "tfidf umap 2 False 24\n",
      "mrr = 0.16237174955778674, pairs_count = 35\n",
      "\n",
      "tfidf umap 2 False 25\n",
      "mrr = 0.16221776291201065, pairs_count = 36\n",
      "\n",
      "tfidf umap 2 False 26\n",
      "mrr = 0.150664254100586, pairs_count = 37\n",
      "\n",
      "tfidf umap 2 False 27\n",
      "mrr = 0.15434542984521915, pairs_count = 38\n",
      "\n",
      "tfidf umap 2 False 28\n",
      "mrr = 0.15286214536955894, pairs_count = 39\n",
      "\n",
      "tfidf umap 2 False 29\n",
      "mrr = 0.14399430501183397, pairs_count = 39\n",
      "\n",
      "tfidf umap 2 False 30\n",
      "mrr = 0.13282910782095175, pairs_count = 41\n",
      "\n",
      "tfidf umap 2 False 31\n",
      "mrr = 0.12720326799396, pairs_count = 42\n",
      "\n",
      "tfidf umap 2 False 32\n",
      "mrr = 0.1438252520828877, pairs_count = 43\n",
      "\n",
      "tfidf umap 2 False 33\n",
      "mrr = 0.1467512118789621, pairs_count = 47\n",
      "\n",
      "tfidf umap 2 False 34\n",
      "mrr = 0.14423397973014915, pairs_count = 47\n",
      "\n",
      "tfidf umap 2 False 35\n",
      "mrr = 0.15267287520745138, pairs_count = 48\n",
      "\n",
      "tfidf umap 2 False 36\n",
      "mrr = 0.14941687908877355, pairs_count = 50\n",
      "\n",
      "tfidf umap 2 False 37\n",
      "mrr = 0.13622544145203888, pairs_count = 52\n",
      "\n",
      "tfidf umap 2 False 38\n",
      "mrr = 0.11932271941099326, pairs_count = 57\n",
      "\n",
      "tfidf umap 2 False 39\n",
      "mrr = 0.11570802195929478, pairs_count = 57\n",
      "\n",
      "tfidf umap 2 False 40\n",
      "mrr = 0.12689106949790946, pairs_count = 59\n",
      "\n",
      "tfidf umap 2 False 41\n",
      "mrr = 0.1191169741436922, pairs_count = 60\n",
      "\n",
      "tfidf umap 2 False 42\n",
      "mrr = 0.13797193639756744, pairs_count = 61\n",
      "\n",
      "tfidf umap 2 False 43\n",
      "mrr = 0.12741581459087734, pairs_count = 66\n",
      "\n",
      "tfidf umap 2 False 44\n",
      "mrr = 0.13023707548578453, pairs_count = 68\n",
      "\n",
      "tfidf umap 2 False 45\n",
      "mrr = 0.12533737069764353, pairs_count = 69\n",
      "\n",
      "tfidf umap 2 False 46\n",
      "mrr = 0.12632892524341124, pairs_count = 69\n",
      "\n",
      "tfidf umap 2 False 47\n",
      "mrr = 0.12053949811979704, pairs_count = 70\n",
      "\n",
      "tfidf umap 2 False 48\n",
      "mrr = 0.1159779017219781, pairs_count = 71\n",
      "\n",
      "tfidf umap 2 False 49\n",
      "mrr = 0.12312100848057406, pairs_count = 71\n",
      "\n",
      "tfidf umap 2 False 50\n",
      "mrr = 0.12411668275083387, pairs_count = 74\n",
      "\n",
      "best_mean_reciprocal_rank = 0.16387038138459942\n",
      "best_norm_type = prof\n",
      "best_alg_type = sim_cos\n",
      "best_dim = 5\n",
      "best_use_tsne = True\n",
      "best_top_n_skill_per_profession = 39\n"
     ]
    },
    {
     "data": {
      "application/vnd.plotly.v1+json": {
       "config": {
        "plotlyServerURL": "https://plot.ly"
       },
       "data": [
        {
         "customdata": [
          [
           2.0074303405572675,
           "Data Scientist"
          ],
          [
           10.366563467492252,
           "Data Scientist"
          ],
          [
           6.55851393188854,
           "Data Scientist"
          ],
          [
           4.422291021671817,
           "Data Scientist"
          ],
          [
           0.8928792569659472,
           "Data Scientist"
          ],
          [
           15.8,
           "Data Scientist"
          ],
          [
           3.8185758513931827,
           "Data Scientist"
          ],
          [
           1.0321981424148603,
           "Data Scientist"
          ],
          [
           5.258204334365326,
           "Data Scientist"
          ],
          [
           1.775232198142407,
           "Data Scientist"
          ],
          [
           1.8216718266253882,
           "Data Scientist"
          ],
          [
           1.1715170278637734,
           "Data Scientist"
          ],
          [
           0.846439628482966,
           "Data Scientist"
          ],
          [
           0.846439628482966,
           "Data Scientist"
          ],
          [
           0.8928792569659472,
           "Data Scientist"
          ],
          [
           2.8897832817337425,
           "Data Scientist"
          ],
          [
           12.363467492260064,
           "Data Scientist"
          ],
          [
           1.5430340557275468,
           "Data Scientist"
          ],
          [
           0.846439628482966,
           "Data Scientist"
          ],
          [
           2.843343653250776,
           "Data Scientist"
          ],
          [
           2.6111455108359163,
           "Data Scientist"
          ],
          [
           1.9145510835913355,
           "Data Scientist"
          ],
          [
           0.9857585139318792,
           "Data Scientist"
          ],
          [
           1.9609907120743015,
           "Data Scientist"
          ],
          [
           0.846439628482966,
           "Data Scientist"
          ],
          [
           0.846439628482966,
           "Data Scientist"
          ],
          [
           1.8216718266253882,
           "Data Scientist"
          ],
          [
           2.2860681114551085,
           "Data Scientist"
          ],
          [
           2.936222910216708,
           "Data Scientist"
          ],
          [
           1.589473684210528,
           "Data Scientist"
          ],
          [
           5.165325077399379,
           "Data Scientist"
          ],
          [
           1.4501547987615997,
           "Data Scientist"
          ],
          [
           1.4965944272445808,
           "Data Scientist"
          ],
          [
           2.193188854489162,
           "Data Scientist"
          ],
          [
           0.846439628482966,
           "Data Scientist"
          ],
          [
           2.193188854489162,
           "Data Scientist"
          ],
          [
           2.982662538699689,
           "Data Scientist"
          ],
          [
           0.846439628482966,
           "Data Scientist"
          ],
          [
           0.8,
           "Data Scientist"
          ]
         ],
         "hovertemplate": "<b>%{hovertext}</b><br><br><extra></extra>",
         "hovertext": [
          "Аналитическое мышление",
          "SQL",
          "Английский",
          "Анализ данных",
          "Анализ рынка",
          "Python",
          "Работа с большим объемом информации",
          "Power BI",
          "Математическая статистика",
          "MS SQL",
          "Базы данных",
          "Деловая коммуникация",
          "Грамотная речь",
          "Работа с базами данных",
          "Работа в команде",
          "Математический анализ",
          "Machine Learning",
          "PostgreSQL",
          "ETL",
          "Hadoop",
          "Spark",
          "Linux",
          "Airflow",
          "Docker",
          "Hive",
          "ClickHouse",
          "Git",
          "NLP",
          "PyTorch",
          "Computer Vision",
          "Data Science",
          "Tensorflow",
          "Deep Learning",
          "Scikit-learn",
          "Алгоритмы",
          "Numpy",
          "Pandas",
          "A/B тесты",
          "Нейронные сети"
         ],
         "legendgroup": "Data Scientist",
         "marker": {
          "color": "#F8A19F",
          "line": {
           "color": "DarkSlateGrey",
           "width": 0.5
          },
          "opacity": 0.7,
          "size": [
           2.0074303405572675,
           10.366563467492252,
           6.55851393188854,
           4.422291021671817,
           0.8928792569659472,
           15.8,
           3.8185758513931827,
           1.0321981424148603,
           5.258204334365326,
           1.775232198142407,
           1.8216718266253882,
           1.1715170278637734,
           0.846439628482966,
           0.846439628482966,
           0.8928792569659472,
           2.8897832817337425,
           12.363467492260064,
           1.5430340557275468,
           0.846439628482966,
           2.843343653250776,
           2.6111455108359163,
           1.9145510835913355,
           0.9857585139318792,
           1.9609907120743015,
           0.846439628482966,
           0.846439628482966,
           1.8216718266253882,
           2.2860681114551085,
           2.936222910216708,
           1.589473684210528,
           5.165325077399379,
           1.4501547987615997,
           1.4965944272445808,
           2.193188854489162,
           0.846439628482966,
           2.193188854489162,
           2.982662538699689,
           0.846439628482966,
           0.8
          ],
          "sizemode": "area",
          "sizeref": 0.0395,
          "symbol": "circle"
         },
         "mode": "markers",
         "name": "Data Scientist",
         "orientation": "v",
         "showlegend": true,
         "type": "scatter",
         "x": [
          2.3541963,
          -1.8034787,
          -1.1382192,
          1.0018588,
          0.6804172,
          -2.8485763,
          -2.0147564,
          1.9449463,
          0.7132438,
          -9.493026,
          -10.0811205,
          2.8069592,
          2.0222838,
          -9.483817,
          2.618913,
          -2.6705348,
          -2.960048,
          -9.580861,
          -5.3893723,
          -5.9830446,
          -5.7253194,
          -9.431202,
          -5.198168,
          -6.7520885,
          -5.717642,
          -6.8071046,
          -3.6619935,
          -2.0189776,
          -3.0280194,
          -3.658935,
          -2.791866,
          -3.2614038,
          -3.2048988,
          -3.3035352,
          -3.907771,
          -3.0238922,
          -3.1155114,
          0.013752021,
          -4.050641
         ],
         "xaxis": "x",
         "y": [
          4.155155,
          0.25212887,
          -1.3914798,
          6.3528886,
          5.130175,
          -5.007139,
          0.3795224,
          6.193103,
          6.667867,
          1.0154213,
          0.7525142,
          1.922136,
          3.0233712,
          1.1946265,
          2.190059,
          -4.200936,
          -6.9472494,
          0.18554576,
          -0.562909,
          -0.99356896,
          -1.3267413,
          -0.394604,
          -1.0259289,
          -1.7994869,
          -0.97785425,
          -0.1862305,
          -6.9518332,
          -8.596292,
          -8.318691,
          -8.773716,
          -7.433746,
          -8.178023,
          -7.9256105,
          -7.267084,
          -7.9166718,
          -6.383897,
          -3.960903,
          8.554733,
          -7.660229
         ],
         "yaxis": "y"
        },
        {
         "customdata": [
          [
           1.6128078817733957,
           "ML инженер"
          ],
          [
           8.263054187192123,
           "ML инженер"
          ],
          [
           6.267980295566502,
           "ML инженер"
          ],
          [
           2.1300492610837347,
           "ML инженер"
          ],
          [
           15.8,
           "ML инженер"
          ],
          [
           3.090640394088658,
           "ML инженер"
          ],
          [
           2.203940886699508,
           "ML инженер"
          ],
          [
           1.5389162561576226,
           "ML инженер"
          ],
          [
           1.0216748768472834,
           "ML инженер"
          ],
          [
           0.8738916256157553,
           "ML инженер"
          ],
          [
           0.8,
           "ML инженер"
          ],
          [
           13.804926108374381,
           "ML инженер"
          ],
          [
           1.3172413793103397,
           "ML инженер"
          ],
          [
           3.312315270935959,
           "ML инженер"
          ],
          [
           3.0167487684729037,
           "ML инженер"
          ],
          [
           2.4256157635467908,
           "ML инженер"
          ],
          [
           2.3517241379310363,
           "ML инженер"
          ],
          [
           3.090640394088658,
           "ML инженер"
          ],
          [
           1.3911330049260948,
           "ML инженер"
          ],
          [
           2.4256157635467908,
           "ML инженер"
          ],
          [
           1.6128078817733957,
           "ML инженер"
          ],
          [
           1.2433497536945843,
           "ML инженер"
          ],
          [
           2.795073891625602,
           "ML инженер"
          ],
          [
           1.0216748768472834,
           "ML инженер"
          ],
          [
           1.5389162561576226,
           "ML инженер"
          ],
          [
           3.607881773399016,
           "ML инженер"
          ],
          [
           1.4650246305418673,
           "ML инженер"
          ],
          [
           1.982266009852207,
           "ML инженер"
          ],
          [
           0.9477832512315281,
           "ML инженер"
          ],
          [
           2.0561576354679794,
           "ML инженер"
          ],
          [
           1.8344827586206789,
           "ML инженер"
          ],
          [
           2.3517241379310363,
           "ML инженер"
          ],
          [
           1.0216748768472834,
           "ML инженер"
          ],
          [
           1.3172413793103397,
           "ML инженер"
          ],
          [
           1.3911330049260948,
           "ML инженер"
          ],
          [
           1.2433497536945843,
           "ML инженер"
          ],
          [
           0.9477832512315281,
           "ML инженер"
          ],
          [
           0.9477832512315281,
           "ML инженер"
          ],
          [
           0.8738916256157553,
           "ML инженер"
          ]
         ],
         "hovertemplate": "<b>%{hovertext}</b><br><br><extra></extra>",
         "hovertext": [
          "Аналитическое мышление",
          "SQL",
          "Английский",
          "Анализ данных",
          "Python",
          "Работа с большим объемом информации",
          "Математическая статистика",
          "Базы данных",
          "Грамотная речь",
          "Работа в команде",
          "Математический анализ",
          "Machine Learning",
          "DWH",
          "PostgreSQL",
          "ETL",
          "Hadoop",
          "Spark",
          "Linux",
          "Kafka",
          "Docker",
          "Java",
          "ClickHouse",
          "Git",
          "Kubernetes",
          "NLP",
          "PyTorch",
          "Computer Vision",
          "Data Science",
          "OpenCV",
          "Tensorflow",
          "Deep Learning",
          "C++",
          "Scikit-learn",
          "Алгоритмы",
          "Numpy",
          "Pandas",
          "Нейронные сети",
          "Adobe Photoshop",
          "Высокая скорость печати"
         ],
         "legendgroup": "ML инженер",
         "marker": {
          "color": "#AA0DFE",
          "line": {
           "color": "DarkSlateGrey",
           "width": 0.5
          },
          "opacity": 0.7,
          "size": [
           1.6128078817733957,
           8.263054187192123,
           6.267980295566502,
           2.1300492610837347,
           15.8,
           3.090640394088658,
           2.203940886699508,
           1.5389162561576226,
           1.0216748768472834,
           0.8738916256157553,
           0.8,
           13.804926108374381,
           1.3172413793103397,
           3.312315270935959,
           3.0167487684729037,
           2.4256157635467908,
           2.3517241379310363,
           3.090640394088658,
           1.3911330049260948,
           2.4256157635467908,
           1.6128078817733957,
           1.2433497536945843,
           2.795073891625602,
           1.0216748768472834,
           1.5389162561576226,
           3.607881773399016,
           1.4650246305418673,
           1.982266009852207,
           0.9477832512315281,
           2.0561576354679794,
           1.8344827586206789,
           2.3517241379310363,
           1.0216748768472834,
           1.3172413793103397,
           1.3911330049260948,
           1.2433497536945843,
           0.9477832512315281,
           0.9477832512315281,
           0.8738916256157553
          ],
          "sizemode": "area",
          "sizeref": 0.0395,
          "symbol": "circle"
         },
         "mode": "markers",
         "name": "ML инженер",
         "orientation": "v",
         "showlegend": true,
         "type": "scatter",
         "x": [
          2.3541963,
          -1.8034787,
          -1.1382192,
          1.0018588,
          -2.8485763,
          -2.0147564,
          0.7132438,
          -10.0811205,
          2.0222838,
          2.618913,
          -2.6705348,
          -2.960048,
          -4.8950844,
          -9.580861,
          -5.3893723,
          -5.9830446,
          -5.7253194,
          -9.431202,
          -6.571614,
          -6.7520885,
          -6.288912,
          -6.8071046,
          -3.6619935,
          -5.6203723,
          -2.0189776,
          -3.0280194,
          -3.658935,
          -2.791866,
          -3.8393512,
          -3.2614038,
          -3.2048988,
          -3.4846616,
          -3.3035352,
          -3.907771,
          -3.0238922,
          -3.1155114,
          -4.050641,
          -3.7669344,
          -3.7838833
         ],
         "xaxis": "x",
         "y": [
          4.155155,
          0.25212887,
          -1.3914798,
          6.3528886,
          -5.007139,
          0.3795224,
          6.667867,
          0.7525142,
          3.0233712,
          2.190059,
          -4.200936,
          -6.9472494,
          -0.2723809,
          0.18554576,
          -0.562909,
          -0.99356896,
          -1.3267413,
          -0.394604,
          -0.5872026,
          -1.7994869,
          -1.6099663,
          -0.1862305,
          -6.9518332,
          -1.4491276,
          -8.596292,
          -8.318691,
          -8.773716,
          -7.433746,
          -8.899007,
          -8.178023,
          -7.9256105,
          -7.8883367,
          -7.267084,
          -7.9166718,
          -6.383897,
          -3.960903,
          -7.660229,
          -3.4220982,
          -3.4932954
         ],
         "yaxis": "y"
        },
        {
         "customdata": [
          [
           2.3517241379310327,
           "Computer Vision"
          ],
          [
           8.558620689655164,
           "Computer Vision"
          ],
          [
           11.662068965517232,
           "Computer Vision"
          ],
          [
           2.868965517241377,
           "Computer Vision"
          ],
          [
           15.8,
           "Computer Vision"
          ],
          [
           1.3172413793103444,
           "Computer Vision"
          ],
          [
           0.8,
           "Computer Vision"
          ],
          [
           1.8344827586206884,
           "Computer Vision"
          ],
          [
           1.8344827586206884,
           "Computer Vision"
          ],
          [
           0.8,
           "Computer Vision"
          ],
          [
           1.3172413793103444,
           "Computer Vision"
          ],
          [
           8.558620689655164,
           "Computer Vision"
          ],
          [
           1.8344827586206884,
           "Computer Vision"
          ],
          [
           0.8,
           "Computer Vision"
          ],
          [
           1.8344827586206884,
           "Computer Vision"
          ],
          [
           1.3172413793103444,
           "Computer Vision"
          ],
          [
           1.8344827586206884,
           "Computer Vision"
          ],
          [
           0.8,
           "Computer Vision"
          ],
          [
           0.8,
           "Computer Vision"
          ],
          [
           4.937931034482754,
           "Computer Vision"
          ],
          [
           8.558620689655164,
           "Computer Vision"
          ],
          [
           11.144827586206887,
           "Computer Vision"
          ],
          [
           3.9034482758620657,
           "Computer Vision"
          ],
          [
           9.07586206896551,
           "Computer Vision"
          ],
          [
           4.42068965517241,
           "Computer Vision"
          ],
          [
           3.3862068965517214,
           "Computer Vision"
          ],
          [
           3.3862068965517214,
           "Computer Vision"
          ],
          [
           2.3517241379310327,
           "Computer Vision"
          ],
          [
           3.3862068965517214,
           "Computer Vision"
          ],
          [
           1.3172413793103444,
           "Computer Vision"
          ],
          [
           1.3172413793103444,
           "Computer Vision"
          ],
          [
           1.8344827586206884,
           "Computer Vision"
          ],
          [
           0.8,
           "Computer Vision"
          ],
          [
           1.8344827586206884,
           "Computer Vision"
          ],
          [
           1.3172413793103444,
           "Computer Vision"
          ],
          [
           0.8,
           "Computer Vision"
          ],
          [
           0.8,
           "Computer Vision"
          ],
          [
           0.8,
           "Computer Vision"
          ],
          [
           0.8,
           "Computer Vision"
          ]
         ],
         "hovertemplate": "<b>%{hovertext}</b><br><br><extra></extra>",
         "hovertext": [
          "Аналитическое мышление",
          "SQL",
          "Английский",
          "Анализ данных",
          "Python",
          "Power BI",
          "MS PowerPoint",
          "Математическая статистика",
          "MS SQL",
          "Аналитические исследования",
          "Математический анализ",
          "Machine Learning",
          "PostgreSQL",
          "Power Query",
          "Hadoop",
          "Spark",
          "Linux",
          "Docker",
          "Hive",
          "Git",
          "PyTorch",
          "Computer Vision",
          "Data Science",
          "OpenCV",
          "Tensorflow",
          "Deep Learning",
          "C++",
          "Scikit-learn",
          "Алгоритмы",
          "Numpy",
          "Линейная алгебра",
          "ООП",
          "A/B тесты",
          "Нейронные сети",
          "Jira",
          "cvm",
          "mindbox",
          "Gitlab",
          "Mobilenet"
         ],
         "legendgroup": "Computer Vision",
         "marker": {
          "color": "#3283FE",
          "line": {
           "color": "DarkSlateGrey",
           "width": 0.5
          },
          "opacity": 0.7,
          "size": [
           2.3517241379310327,
           8.558620689655164,
           11.662068965517232,
           2.868965517241377,
           15.8,
           1.3172413793103444,
           0.8,
           1.8344827586206884,
           1.8344827586206884,
           0.8,
           1.3172413793103444,
           8.558620689655164,
           1.8344827586206884,
           0.8,
           1.8344827586206884,
           1.3172413793103444,
           1.8344827586206884,
           0.8,
           0.8,
           4.937931034482754,
           8.558620689655164,
           11.144827586206887,
           3.9034482758620657,
           9.07586206896551,
           4.42068965517241,
           3.3862068965517214,
           3.3862068965517214,
           2.3517241379310327,
           3.3862068965517214,
           1.3172413793103444,
           1.3172413793103444,
           1.8344827586206884,
           0.8,
           1.8344827586206884,
           1.3172413793103444,
           0.8,
           0.8,
           0.8,
           0.8
          ],
          "sizemode": "area",
          "sizeref": 0.0395,
          "symbol": "circle"
         },
         "mode": "markers",
         "name": "Computer Vision",
         "orientation": "v",
         "showlegend": true,
         "type": "scatter",
         "x": [
          2.3541963,
          -1.8034787,
          -1.1382192,
          1.0018588,
          -2.8485763,
          1.9449463,
          1.7354627,
          0.7132438,
          -9.493026,
          0.5494935,
          -2.6705348,
          -2.960048,
          -9.580861,
          1.8605313,
          -5.9830446,
          -5.7253194,
          -9.431202,
          -6.7520885,
          -5.717642,
          -3.6619935,
          -3.0280194,
          -3.658935,
          -2.791866,
          -3.8393512,
          -3.2614038,
          -3.2048988,
          -3.4846616,
          -3.3035352,
          -3.907771,
          -3.0238922,
          -3.381635,
          -3.961403,
          0.013752021,
          -4.050641,
          -0.18748379,
          -4.4313107,
          -4.431318,
          -9.416548,
          -3.3035586
         ],
         "xaxis": "x",
         "y": [
          4.155155,
          0.25212887,
          -1.3914798,
          6.3528886,
          -5.007139,
          6.193103,
          4.260798,
          6.667867,
          1.0154213,
          6.9890885,
          -4.200936,
          -6.9472494,
          0.18554576,
          4.8482914,
          -0.99356896,
          -1.3267413,
          -0.394604,
          -1.7994869,
          -0.97785425,
          -6.9518332,
          -8.318691,
          -8.773716,
          -7.433746,
          -8.899007,
          -8.178023,
          -7.9256105,
          -7.8883367,
          -7.267084,
          -7.9166718,
          -6.383897,
          -8.781,
          -8.02146,
          8.554733,
          -7.660229,
          -1.2244275,
          -9.450526,
          -9.445331,
          -1.392905,
          -9.088846
         ],
         "yaxis": "y"
        },
        {
         "customdata": [
          [
           5.556097560975612,
           "NLP"
          ],
          [
           10.312195121951227,
           "NLP"
          ],
          [
           1.8975609756097627,
           "NLP"
          ],
          [
           15.8,
           "NLP"
          ],
          [
           0.8,
           "NLP"
          ],
          [
           1.1658536585365877,
           "NLP"
          ],
          [
           1.5317073170731752,
           "NLP"
          ],
          [
           1.1658536585365877,
           "NLP"
          ],
          [
           11.775609756097563,
           "NLP"
          ],
          [
           1.5317073170731752,
           "NLP"
          ],
          [
           1.1658536585365877,
           "NLP"
          ],
          [
           0.8,
           "NLP"
          ],
          [
           1.1658536585365877,
           "NLP"
          ],
          [
           1.8975609756097627,
           "NLP"
          ],
          [
           1.5317073170731752,
           "NLP"
          ],
          [
           1.1658536585365877,
           "NLP"
          ],
          [
           3.726829268292687,
           "NLP"
          ],
          [
           9.214634146341464,
           "NLP"
          ],
          [
           8.4829268292683,
           "NLP"
          ],
          [
           7.385365853658536,
           "NLP"
          ],
          [
           5.190243902439025,
           "NLP"
          ],
          [
           5.190243902439025,
           "NLP"
          ],
          [
           3.726829268292687,
           "NLP"
          ],
          [
           2.995121951219512,
           "NLP"
          ],
          [
           2.6292682926829247,
           "NLP"
          ],
          [
           1.8975609756097627,
           "NLP"
          ],
          [
           1.8975609756097627,
           "NLP"
          ],
          [
           1.5317073170731752,
           "NLP"
          ],
          [
           1.5317073170731752,
           "NLP"
          ],
          [
           1.1658536585365877,
           "NLP"
          ],
          [
           1.1658536585365877,
           "NLP"
          ],
          [
           1.1658536585365877,
           "NLP"
          ],
          [
           1.1658536585365877,
           "NLP"
          ],
          [
           0.8,
           "NLP"
          ],
          [
           0.8,
           "NLP"
          ],
          [
           0.8,
           "NLP"
          ],
          [
           0.8,
           "NLP"
          ],
          [
           0.8,
           "NLP"
          ],
          [
           0.8,
           "NLP"
          ]
         ],
         "hovertemplate": "<b>%{hovertext}</b><br><br><extra></extra>",
         "hovertext": [
          "SQL",
          "Английский",
          "Анализ данных",
          "Python",
          "MS PowerPoint",
          "Математическая статистика",
          "MS SQL",
          "Математический анализ",
          "Machine Learning",
          "PostgreSQL",
          "Scrum",
          "MySQL",
          "Hadoop",
          "Linux",
          "Docker",
          "CI/CD",
          "Git",
          "NLP",
          "PyTorch",
          "Computer Vision",
          "Data Science",
          "OpenCV",
          "Tensorflow",
          "Deep Learning",
          "C++",
          "Scikit-learn",
          "Алгоритмы",
          "Numpy",
          "GPT",
          "Keras",
          "Русский",
          "Линейная алгебра",
          "ООП",
          "Elasticsearch",
          "Stable Diffusion",
          "STL",
          "Bert",
          "StyleGan",
          "LLM"
         ],
         "legendgroup": "NLP",
         "marker": {
          "color": "#1CBE4F",
          "line": {
           "color": "DarkSlateGrey",
           "width": 0.5
          },
          "opacity": 0.7,
          "size": [
           5.556097560975612,
           10.312195121951227,
           1.8975609756097627,
           15.8,
           0.8,
           1.1658536585365877,
           1.5317073170731752,
           1.1658536585365877,
           11.775609756097563,
           1.5317073170731752,
           1.1658536585365877,
           0.8,
           1.1658536585365877,
           1.8975609756097627,
           1.5317073170731752,
           1.1658536585365877,
           3.726829268292687,
           9.214634146341464,
           8.4829268292683,
           7.385365853658536,
           5.190243902439025,
           5.190243902439025,
           3.726829268292687,
           2.995121951219512,
           2.6292682926829247,
           1.8975609756097627,
           1.8975609756097627,
           1.5317073170731752,
           1.5317073170731752,
           1.1658536585365877,
           1.1658536585365877,
           1.1658536585365877,
           1.1658536585365877,
           0.8,
           0.8,
           0.8,
           0.8,
           0.8,
           0.8
          ],
          "sizemode": "area",
          "sizeref": 0.0395,
          "symbol": "circle"
         },
         "mode": "markers",
         "name": "NLP",
         "orientation": "v",
         "showlegend": true,
         "type": "scatter",
         "x": [
          -1.8034787,
          -1.1382192,
          1.0018588,
          -2.8485763,
          1.7354627,
          0.7132438,
          -9.493026,
          -2.6705348,
          -2.960048,
          -9.580861,
          0.08011154,
          -10.358845,
          -5.9830446,
          -9.431202,
          -6.7520885,
          -6.710582,
          -3.6619935,
          -2.0189776,
          -3.0280194,
          -3.658935,
          -2.791866,
          -3.8393512,
          -3.2614038,
          -3.2048988,
          -3.4846616,
          -3.3035352,
          -3.907771,
          -3.0238922,
          -1.8691419,
          -2.7781806,
          -1.4950719,
          -3.381635,
          -3.961403,
          -7.447012,
          -1.8296868,
          -3.3451262,
          -1.8808922,
          -1.8296868,
          -1.9492347
         ],
         "xaxis": "x",
         "y": [
          0.25212887,
          -1.3914798,
          6.3528886,
          -5.007139,
          4.260798,
          6.667867,
          1.0154213,
          -4.200936,
          -6.9472494,
          0.18554576,
          -0.9764248,
          0.70089287,
          -0.99356896,
          -0.394604,
          -1.7994869,
          -1.6130344,
          -6.9518332,
          -8.596292,
          -8.318691,
          -8.773716,
          -7.433746,
          -8.899007,
          -8.178023,
          -7.9256105,
          -7.8883367,
          -7.267084,
          -7.9166718,
          -6.383897,
          -8.8492985,
          -7.455371,
          -8.279776,
          -8.781,
          -8.02146,
          -1.6983204,
          -9.041654,
          -9.280082,
          -9.168943,
          -9.041654,
          -8.354886
         ],
         "yaxis": "y"
        },
        {
         "customdata": [
          [
           1.038726790450929,
           "Инженер данных"
          ],
          [
           15.8,
           "Инженер данных"
          ],
          [
           5.693899204244038,
           "Инженер данных"
          ],
          [
           1.7151193633952366,
           "Инженер данных"
          ],
          [
           15.76021220159152,
           "Инженер данных"
          ],
          [
           4.619628647214865,
           "Инженер данных"
          ],
          [
           1.3570291777188346,
           "Инженер данных"
          ],
          [
           3.1474801061008106,
           "Инженер данных"
          ],
          [
           7.046684350132635,
           "Инженер данных"
          ],
          [
           1.7549071618037164,
           "Инженер данных"
          ],
          [
           1.2376657824933783,
           "Инженер данных"
          ],
          [
           1.8344827586206927,
           "Инженер данных"
          ],
          [
           4.579840848806369,
           "Инженер данных"
          ],
          [
           6.768169761273209,
           "Инженер данных"
          ],
          [
           2.2323607427055743,
           "Инженер данных"
          ],
          [
           0.8397877984084967,
           "Инженер данных"
          ],
          [
           9.274801061007974,
           "Инженер данных"
          ],
          [
           7.245623342175067,
           "Инженер данных"
          ],
          [
           6.131564986737415,
           "Инженер данных"
          ],
          [
           3.744297082228125,
           "Инженер данных"
          ],
          [
           2.033421750663142,
           "Инженер данных"
          ],
          [
           4.34111405835544,
           "Инженер данных"
          ],
          [
           2.908753315649882,
           "Инженер данных"
          ],
          [
           2.7893899204244095,
           "Инженер данных"
          ],
          [
           1.7549071618037164,
           "Инженер данных"
          ],
          [
           2.3915119363395267,
           "Инженер данных"
          ],
          [
           2.2721485411140714,
           "Инженер данных"
          ],
          [
           3.863660477453582,
           "Инженер данных"
          ],
          [
           1.3570291777188346,
           "Инженер данных"
          ],
          [
           2.3915119363395267,
           "Инженер данных"
          ],
          [
           1.4763925729443077,
           "Инженер данных"
          ],
          [
           0.8795755968169764,
           "Инженер данных"
          ],
          [
           0.8,
           "Инженер данных"
          ],
          [
           0.8397877984084967,
           "Инженер данных"
          ],
          [
           0.8795755968169764,
           "Инженер данных"
          ],
          [
           0.8397877984084967,
           "Инженер данных"
          ],
          [
           1.4763925729443077,
           "Инженер данных"
          ],
          [
           1.1183023872679057,
           "Инженер данных"
          ],
          [
           0.8397877984084967,
           "Инженер данных"
          ]
         ],
         "hovertemplate": "<b>%{hovertext}</b><br><br><extra></extra>",
         "hovertext": [
          "Аналитическое мышление",
          "SQL",
          "Английский",
          "Анализ данных",
          "Python",
          "Работа с большим объемом информации",
          "Power BI",
          "MS SQL",
          "Базы данных",
          "Работа с базами данных",
          "BI",
          "Machine Learning",
          "DWH",
          "PostgreSQL",
          "Greenplum",
          "MySQL",
          "ETL",
          "Hadoop",
          "Spark",
          "Linux",
          "ORACLE",
          "Airflow",
          "Kafka",
          "Docker",
          "Hive",
          "SCALA",
          "Java",
          "ClickHouse",
          "CI/CD",
          "Git",
          "Kubernetes",
          "Data Science",
          "Elasticsearch",
          "Pandas",
          "Bash",
          "Oracle Pl/SQL",
          "Хранилище данных",
          "NoSQL",
          "NiFi"
         ],
         "legendgroup": "Инженер данных",
         "marker": {
          "color": "#C4451C",
          "line": {
           "color": "DarkSlateGrey",
           "width": 0.5
          },
          "opacity": 0.7,
          "size": [
           1.038726790450929,
           15.8,
           5.693899204244038,
           1.7151193633952366,
           15.76021220159152,
           4.619628647214865,
           1.3570291777188346,
           3.1474801061008106,
           7.046684350132635,
           1.7549071618037164,
           1.2376657824933783,
           1.8344827586206927,
           4.579840848806369,
           6.768169761273209,
           2.2323607427055743,
           0.8397877984084967,
           9.274801061007974,
           7.245623342175067,
           6.131564986737415,
           3.744297082228125,
           2.033421750663142,
           4.34111405835544,
           2.908753315649882,
           2.7893899204244095,
           1.7549071618037164,
           2.3915119363395267,
           2.2721485411140714,
           3.863660477453582,
           1.3570291777188346,
           2.3915119363395267,
           1.4763925729443077,
           0.8795755968169764,
           0.8,
           0.8397877984084967,
           0.8795755968169764,
           0.8397877984084967,
           1.4763925729443077,
           1.1183023872679057,
           0.8397877984084967
          ],
          "sizemode": "area",
          "sizeref": 0.0395,
          "symbol": "circle"
         },
         "mode": "markers",
         "name": "Инженер данных",
         "orientation": "v",
         "showlegend": true,
         "type": "scatter",
         "x": [
          2.3541963,
          -1.8034787,
          -1.1382192,
          1.0018588,
          -2.8485763,
          -2.0147564,
          1.9449463,
          -9.493026,
          -10.0811205,
          -9.483817,
          2.8682284,
          -2.960048,
          -4.8950844,
          -9.580861,
          -5.5129714,
          -10.358845,
          -5.3893723,
          -5.9830446,
          -5.7253194,
          -9.431202,
          -10.044728,
          -5.198168,
          -6.571614,
          -6.7520885,
          -5.717642,
          -4.9821954,
          -6.288912,
          -6.8071046,
          -6.710582,
          -3.6619935,
          -5.6203723,
          -2.791866,
          -7.447012,
          -3.1155114,
          -9.520984,
          -7.662579,
          -5.2303276,
          -7.568456,
          -4.9975586
         ],
         "xaxis": "x",
         "y": [
          4.155155,
          0.25212887,
          -1.3914798,
          6.3528886,
          -5.007139,
          0.3795224,
          6.193103,
          1.0154213,
          0.7525142,
          1.1946265,
          6.3212714,
          -6.9472494,
          -0.2723809,
          0.18554576,
          -0.20365214,
          0.70089287,
          -0.562909,
          -0.99356896,
          -1.3267413,
          -0.394604,
          0.5042161,
          -1.0259289,
          -0.5872026,
          -1.7994869,
          -0.97785425,
          -1.1274796,
          -1.6099663,
          -0.1862305,
          -1.6130344,
          -6.9518332,
          -1.4491276,
          -7.433746,
          -1.6983204,
          -3.960903,
          -0.61713135,
          -0.067011364,
          -1.4371103,
          -1.0290556,
          -1.2761693
         ],
         "yaxis": "y"
        },
        {
         "customdata": [
          [
           2.735483870967734,
           "Big Data"
          ],
          [
           15.8,
           "Big Data"
          ],
          [
           3.6225806451612854,
           "Big Data"
          ],
          [
           2.8967741935483815,
           "Big Data"
          ],
          [
           9.832258064516134,
           "Big Data"
          ],
          [
           7.8967741935483815,
           "Big Data"
          ],
          [
           1.6870967741935519,
           "Big Data"
          ],
          [
           1.2032258064516097,
           "Big Data"
          ],
          [
           2.8967741935483815,
           "Big Data"
          ],
          [
           0.9612903225806474,
           "Big Data"
          ],
          [
           4.509677419354839,
           "Big Data"
          ],
          [
           1.6064516129032196,
           "Big Data"
          ],
          [
           1.2032258064516097,
           "Big Data"
          ],
          [
           2.9774193548387133,
           "Big Data"
          ],
          [
           1.848387096774199,
           "Big Data"
          ],
          [
           2.0903225806451617,
           "Big Data"
          ],
          [
           1.2838709677419247,
           "Big Data"
          ],
          [
           1.2838709677419247,
           "Big Data"
          ],
          [
           7.090322580645162,
           "Big Data"
          ],
          [
           4.34838709677419,
           "Big Data"
          ],
          [
           1.767741935483867,
           "Big Data"
          ],
          [
           0.8,
           "Big Data"
          ],
          [
           7.735483870967734,
           "Big Data"
          ],
          [
           6.0419354838709625,
           "Big Data"
          ],
          [
           4.187096774193543,
           "Big Data"
          ],
          [
           2.4129032258064567,
           "Big Data"
          ],
          [
           2.2516129032258094,
           "Big Data"
          ],
          [
           2.1709677419354767,
           "Big Data"
          ],
          [
           1.767741935483867,
           "Big Data"
          ],
          [
           1.6064516129032196,
           "Big Data"
          ],
          [
           1.5258064516129046,
           "Big Data"
          ],
          [
           1.4451612903225721,
           "Big Data"
          ],
          [
           1.2838709677419247,
           "Big Data"
          ],
          [
           1.2838709677419247,
           "Big Data"
          ],
          [
           1.1225806451612947,
           "Big Data"
          ],
          [
           1.1225806451612947,
           "Big Data"
          ],
          [
           1.1225806451612947,
           "Big Data"
          ],
          [
           0.880645161290315,
           "Big Data"
          ],
          [
           0.8,
           "Big Data"
          ]
         ],
         "hovertemplate": "<b>%{hovertext}</b><br><br><extra></extra>",
         "hovertext": [
          "Аналитическое мышление",
          "SQL",
          "Английский",
          "Анализ данных",
          "Python",
          "Работа с большим объемом информации",
          "Power BI",
          "Математическая статистика",
          "MS SQL",
          "Бизнес-анализ",
          "Базы данных",
          "Деловая коммуникация",
          "Работа с базами данных",
          "BI",
          "Tableau",
          "Системный анализ",
          "Machine Learning",
          "Управление проектами",
          "DWH",
          "PostgreSQL",
          "Greenplum",
          "UML",
          "ETL",
          "Hadoop",
          "Spark",
          "Linux",
          "ORACLE",
          "Airflow",
          "Kafka",
          "Docker",
          "Hive",
          "SCALA",
          "Java",
          "ClickHouse",
          "Agile",
          "CI/CD",
          "Git",
          "Kubernetes",
          "Teradata"
         ],
         "legendgroup": "Big Data",
         "marker": {
          "color": "#F6222E",
          "line": {
           "color": "DarkSlateGrey",
           "width": 0.5
          },
          "opacity": 0.7,
          "size": [
           2.735483870967734,
           15.8,
           3.6225806451612854,
           2.8967741935483815,
           9.832258064516134,
           7.8967741935483815,
           1.6870967741935519,
           1.2032258064516097,
           2.8967741935483815,
           0.9612903225806474,
           4.509677419354839,
           1.6064516129032196,
           1.2032258064516097,
           2.9774193548387133,
           1.848387096774199,
           2.0903225806451617,
           1.2838709677419247,
           1.2838709677419247,
           7.090322580645162,
           4.34838709677419,
           1.767741935483867,
           0.8,
           7.735483870967734,
           6.0419354838709625,
           4.187096774193543,
           2.4129032258064567,
           2.2516129032258094,
           2.1709677419354767,
           1.767741935483867,
           1.6064516129032196,
           1.5258064516129046,
           1.4451612903225721,
           1.2838709677419247,
           1.2838709677419247,
           1.1225806451612947,
           1.1225806451612947,
           1.1225806451612947,
           0.880645161290315,
           0.8
          ],
          "sizemode": "area",
          "sizeref": 0.0395,
          "symbol": "circle"
         },
         "mode": "markers",
         "name": "Big Data",
         "orientation": "v",
         "showlegend": true,
         "type": "scatter",
         "x": [
          2.3541963,
          -1.8034787,
          -1.1382192,
          1.0018588,
          -2.8485763,
          -2.0147564,
          1.9449463,
          0.7132438,
          -9.493026,
          4.9460664,
          -10.0811205,
          2.8069592,
          -9.483817,
          2.8682284,
          2.0089796,
          6.5483274,
          -2.960048,
          3.6570196,
          -4.8950844,
          -9.580861,
          -5.5129714,
          6.056554,
          -5.3893723,
          -5.9830446,
          -5.7253194,
          -9.431202,
          -10.044728,
          -5.198168,
          -6.571614,
          -6.7520885,
          -5.717642,
          -4.9821954,
          -6.288912,
          -6.8071046,
          4.384786,
          -6.710582,
          -3.6619935,
          -5.6203723,
          -4.748201
         ],
         "xaxis": "x",
         "y": [
          4.155155,
          0.25212887,
          -1.3914798,
          6.3528886,
          -5.007139,
          0.3795224,
          6.193103,
          6.667867,
          1.0154213,
          1.4652041,
          0.7525142,
          1.922136,
          1.1946265,
          6.3212714,
          6.8753066,
          -0.47731364,
          -6.9472494,
          1.2543387,
          -0.2723809,
          0.18554576,
          -0.20365214,
          -0.24406052,
          -0.562909,
          -0.99356896,
          -1.3267413,
          -0.394604,
          0.5042161,
          -1.0259289,
          -0.5872026,
          -1.7994869,
          -0.97785425,
          -1.1274796,
          -1.6099663,
          -0.1862305,
          0.10592617,
          -1.6130344,
          -6.9518332,
          -1.4491276,
          -0.5348009
         ],
         "yaxis": "y"
        },
        {
         "customdata": [
          [
           0.8707547169811385,
           "Администратор баз данных"
          ],
          [
           5.399056603773592,
           "Администратор баз данных"
          ],
          [
           3.6301886792452898,
           "Администратор баз данных"
          ],
          [
           1.5075471698113247,
           "Администратор баз данных"
          ],
          [
           2.710377358490569,
           "Администратор баз данных"
          ],
          [
           1.0830188679245338,
           "Администратор баз данных"
          ],
          [
           8.229245283018873,
           "Администратор баз данных"
          ],
          [
           15.8,
           "Администратор баз данных"
          ],
          [
           1.0830188679245338,
           "Администратор баз данных"
          ],
          [
           1.0830188679245338,
           "Администратор баз данных"
          ],
          [
           3.9132075471698142,
           "Администратор баз данных"
          ],
          [
           0.8,
           "Администратор баз данных"
          ],
          [
           1.2245283018867912,
           "Администратор баз данных"
          ],
          [
           10.564150943396234,
           "Администратор баз данных"
          ],
          [
           2.21509433962264,
           "Администратор баз данных"
          ],
          [
           6.389622641509441,
           "Администратор баз данных"
          ],
          [
           4.55,
           "Администратор баз данных"
          ],
          [
           1.1537735849056623,
           "Администратор баз данных"
          ],
          [
           1.0830188679245338,
           "Администратор баз данных"
          ],
          [
           1.5783018867924534,
           "Администратор баз данных"
          ],
          [
           0.8,
           "Администратор баз данных"
          ],
          [
           3.7009433962264175,
           "Администратор баз данных"
          ],
          [
           1.7905660377358492,
           "Администратор баз данных"
          ],
          [
           1.7198113207547203,
           "Администратор баз данных"
          ],
          [
           1.5783018867924534,
           "Администратор баз данных"
          ],
          [
           1.2952830188679294,
           "Администратор баз данных"
          ],
          [
           1.0830188679245338,
           "Администратор баз данных"
          ],
          [
           1.0122641509433956,
           "Администратор баз данных"
          ],
          [
           0.9415094339622669,
           "Администратор баз данных"
          ],
          [
           0.9415094339622669,
           "Администратор баз данных"
          ],
          [
           0.9415094339622669,
           "Администратор баз данных"
          ],
          [
           0.8707547169811385,
           "Администратор баз данных"
          ],
          [
           0.8707547169811385,
           "Администратор баз данных"
          ],
          [
           0.8707547169811385,
           "Администратор баз данных"
          ],
          [
           0.8707547169811385,
           "Администратор баз данных"
          ],
          [
           0.8,
           "Администратор баз данных"
          ],
          [
           0.8,
           "Администратор баз данных"
          ],
          [
           0.8,
           "Администратор баз данных"
          ],
          [
           0.8,
           "Администратор баз данных"
          ]
         ],
         "hovertemplate": "<b>%{hovertext}</b><br><br><extra></extra>",
         "hovertext": [
          "Аналитическое мышление",
          "SQL",
          "Английский",
          "Python",
          "1С: Предприятие 8",
          "Работа с большим объемом информации",
          "MS SQL",
          "Базы данных",
          "Деловая коммуникация",
          "Работа в условиях многозадачности",
          "Работа с базами данных",
          "Работа в команде",
          "Пользователь ПК",
          "PostgreSQL",
          "MySQL",
          "Linux",
          "ORACLE",
          "Kafka",
          "Docker",
          "ClickHouse",
          "Git",
          "Администрирование",
          "Bash",
          "Zabbix",
          "Unix",
          "MongoDB",
          "Grafana",
          "Ansible",
          "Оптимизация запросов",
          "Информационные технологии",
          "Oracle Pl/SQL",
          "Prometheus",
          "Администрирование серверов",
          "Cassandra",
          "MS Access",
          "Windows Os",
          "Высшее образование",
          "Redis",
          "TCP/IP"
         ],
         "legendgroup": "Администратор баз данных",
         "marker": {
          "color": "#FE00FA",
          "line": {
           "color": "DarkSlateGrey",
           "width": 0.5
          },
          "opacity": 0.7,
          "size": [
           0.8707547169811385,
           5.399056603773592,
           3.6301886792452898,
           1.5075471698113247,
           2.710377358490569,
           1.0830188679245338,
           8.229245283018873,
           15.8,
           1.0830188679245338,
           1.0830188679245338,
           3.9132075471698142,
           0.8,
           1.2245283018867912,
           10.564150943396234,
           2.21509433962264,
           6.389622641509441,
           4.55,
           1.1537735849056623,
           1.0830188679245338,
           1.5783018867924534,
           0.8,
           3.7009433962264175,
           1.7905660377358492,
           1.7198113207547203,
           1.5783018867924534,
           1.2952830188679294,
           1.0830188679245338,
           1.0122641509433956,
           0.9415094339622669,
           0.9415094339622669,
           0.9415094339622669,
           0.8707547169811385,
           0.8707547169811385,
           0.8707547169811385,
           0.8707547169811385,
           0.8,
           0.8,
           0.8,
           0.8
          ],
          "sizemode": "area",
          "sizeref": 0.0395,
          "symbol": "circle"
         },
         "mode": "markers",
         "name": "Администратор баз данных",
         "orientation": "v",
         "showlegend": true,
         "type": "scatter",
         "x": [
          2.3541963,
          -1.8034787,
          -1.1382192,
          -2.8485763,
          3.966865,
          -2.0147564,
          -9.493026,
          -10.0811205,
          2.8069592,
          1.4370893,
          -9.483817,
          2.618913,
          -0.07112544,
          -9.580861,
          -10.358845,
          -9.431202,
          -10.044728,
          -6.571614,
          -6.7520885,
          -6.8071046,
          -3.6619935,
          -11.588651,
          -9.520984,
          -11.058879,
          -11.19229,
          -10.0485115,
          -9.106961,
          -9.32147,
          -11.139938,
          -10.587605,
          -7.662579,
          -10.227571,
          -11.27674,
          -8.78677,
          0.24497522,
          -11.6002245,
          -5.1696887,
          -10.161827,
          -11.158253
         ],
         "xaxis": "x",
         "y": [
          4.155155,
          0.25212887,
          -1.3914798,
          -5.007139,
          1.8824304,
          0.3795224,
          1.0154213,
          0.7525142,
          1.922136,
          2.3234835,
          1.1946265,
          2.190059,
          1.7414805,
          0.18554576,
          0.70089287,
          -0.394604,
          0.5042161,
          -0.5872026,
          -1.7994869,
          -0.1862305,
          -6.9518332,
          0.7658282,
          -0.61713135,
          0.9176836,
          0.4147544,
          -0.45208496,
          0.9545506,
          0.25688738,
          0.8480073,
          -0.9434992,
          -0.067011364,
          0.059200887,
          0.37660742,
          -0.8153459,
          1.867401,
          0.6535028,
          -4.476803,
          0.015396267,
          0.0044534914
         ],
         "yaxis": "y"
        },
        {
         "customdata": [
          [
           8.922119815668202,
           "Аналитик данных"
          ],
          [
           15.8,
           "Аналитик данных"
          ],
          [
           5.949769585253455,
           "Аналитик данных"
          ],
          [
           12.89677419354839,
           "Аналитик данных"
          ],
          [
           1.6986175115207387,
           "Аналитик данных"
          ],
          [
           4.774654377880172,
           "Аналитик данных"
          ],
          [
           12.30921658986175,
           "Аналитик данных"
          ],
          [
           4.670967741935484,
           "Аналитик данных"
          ],
          [
           6.260829493087552,
           "Аналитик данных"
          ],
          [
           1.8714285714285632,
           "Аналитик данных"
          ],
          [
           5.051152073732717,
           "Аналитик данных"
          ],
          [
           1.2493087557603695,
           "Аналитик данных"
          ],
          [
           3.323041474654376,
           "Аналитик данных"
          ],
          [
           1.1456221198156649,
           "Аналитик данных"
          ],
          [
           3.634101382488473,
           "Аналитик данных"
          ],
          [
           0.9728110599078245,
           "Аналитик данных"
          ],
          [
           1.5258064516128982,
           "Аналитик данных"
          ],
          [
           0.9036866359446881,
           "Аналитик данных"
          ],
          [
           0.9382488479262563,
           "Аналитик данных"
          ],
          [
           2.009677419354836,
           "Аналитик данных"
          ],
          [
           0.9036866359446881,
           "Аналитик данных"
          ],
          [
           1.1456221198156649,
           "Аналитик данных"
          ],
          [
           1.0073732718893924,
           "Аналитик данных"
          ],
          [
           1.7677419354838588,
           "Аналитик данных"
          ],
          [
           1.7677419354838588,
           "Аналитик данных"
          ],
          [
           2.2170506912442285,
           "Аналитик данных"
          ],
          [
           0.8,
           "Аналитик данных"
          ],
          [
           1.3875576036866257,
           "Аналитик данных"
          ],
          [
           1.3184331797234896,
           "Аналитик данных"
          ],
          [
           2.320737327188932,
           "Аналитик данных"
          ],
          [
           1.3184331797234896,
           "Аналитик данных"
          ],
          [
           1.4912442396313303,
           "Аналитик данных"
          ],
          [
           0.8691244239631363,
           "Аналитик данных"
          ],
          [
           0.8,
           "Аналитик данных"
          ],
          [
           0.9728110599078245,
           "Аналитик данных"
          ],
          [
           1.2147465437788014,
           "Аналитик данных"
          ],
          [
           1.2838709677419375,
           "Аналитик данных"
          ],
          [
           0.9036866359446881,
           "Аналитик данных"
          ],
          [
           0.8691244239631363,
           "Аналитик данных"
          ]
         ],
         "hovertemplate": "<b>%{hovertext}</b><br><br><extra></extra>",
         "hovertext": [
          "Аналитическое мышление",
          "SQL",
          "Английский",
          "Анализ данных",
          "Анализ рынка",
          "MS Excel",
          "Python",
          "Работа с большим объемом информации",
          "Power BI",
          "MS PowerPoint",
          "Математическая статистика",
          "Моделирование бизнес процессов",
          "MS SQL",
          "Бизнес-анализ",
          "Базы данных",
          "Деловая коммуникация",
          "Аналитические исследования",
          "Грамотная речь",
          "Работа в условиях многозадачности",
          "Работа с базами данных",
          "Маркетинговые исследования",
          "Сбор и анализ информации",
          "Работа в команде",
          "BI",
          "Математический анализ",
          "Tableau",
          "Сводные таблицы",
          "Machine Learning",
          "Визуализация данных",
          "PostgreSQL",
          "ETL",
          "Hadoop",
          "Spark",
          "ORACLE",
          "ClickHouse",
          "Pandas",
          "A/B тесты",
          "Google таблицы",
          "VBA"
         ],
         "legendgroup": "Аналитик данных",
         "marker": {
          "color": "#325A9B",
          "line": {
           "color": "DarkSlateGrey",
           "width": 0.5
          },
          "opacity": 0.7,
          "size": [
           8.922119815668202,
           15.8,
           5.949769585253455,
           12.89677419354839,
           1.6986175115207387,
           4.774654377880172,
           12.30921658986175,
           4.670967741935484,
           6.260829493087552,
           1.8714285714285632,
           5.051152073732717,
           1.2493087557603695,
           3.323041474654376,
           1.1456221198156649,
           3.634101382488473,
           0.9728110599078245,
           1.5258064516128982,
           0.9036866359446881,
           0.9382488479262563,
           2.009677419354836,
           0.9036866359446881,
           1.1456221198156649,
           1.0073732718893924,
           1.7677419354838588,
           1.7677419354838588,
           2.2170506912442285,
           0.8,
           1.3875576036866257,
           1.3184331797234896,
           2.320737327188932,
           1.3184331797234896,
           1.4912442396313303,
           0.8691244239631363,
           0.8,
           0.9728110599078245,
           1.2147465437788014,
           1.2838709677419375,
           0.9036866359446881,
           0.8691244239631363
          ],
          "sizemode": "area",
          "sizeref": 0.0395,
          "symbol": "circle"
         },
         "mode": "markers",
         "name": "Аналитик данных",
         "orientation": "v",
         "showlegend": true,
         "type": "scatter",
         "x": [
          2.3541963,
          -1.8034787,
          -1.1382192,
          1.0018588,
          0.6804172,
          1.3803414,
          -2.8485763,
          -2.0147564,
          1.9449463,
          1.7354627,
          0.7132438,
          5.010776,
          -9.493026,
          4.9460664,
          -10.0811205,
          2.8069592,
          0.5494935,
          2.0222838,
          1.4370893,
          -9.483817,
          0.4564272,
          2.5060394,
          2.618913,
          2.8682284,
          -2.6705348,
          2.0089796,
          0.47420052,
          -2.960048,
          2.1148493,
          -9.580861,
          -5.3893723,
          -5.9830446,
          -5.7253194,
          -10.044728,
          -6.8071046,
          -3.1155114,
          0.013752021,
          1.1733979,
          1.2372847
         ],
         "xaxis": "x",
         "y": [
          4.155155,
          0.25212887,
          -1.3914798,
          6.3528886,
          5.130175,
          4.394638,
          -5.007139,
          0.3795224,
          6.193103,
          4.260798,
          6.667867,
          1.6196822,
          1.0154213,
          1.4652041,
          0.7525142,
          1.922136,
          6.9890885,
          3.0233712,
          2.3234835,
          1.1946265,
          5.2147884,
          3.5447118,
          2.190059,
          6.3212714,
          -4.200936,
          6.8753066,
          4.46582,
          -6.9472494,
          6.5298023,
          0.18554576,
          -0.562909,
          -0.99356896,
          -1.3267413,
          0.5042161,
          -0.1862305,
          -3.960903,
          8.554733,
          4.4397993,
          4.2794685
         ],
         "yaxis": "y"
        },
        {
         "customdata": [
          [
           15.8,
           "Аналитик"
          ],
          [
           12.873732718893992,
           "Аналитик"
          ],
          [
           11.859907834101376,
           "Аналитик"
          ],
          [
           10.892165898617511,
           "Аналитик"
          ],
          [
           9.04884792626728,
           "Аналитик"
          ],
          [
           8.680184331797216,
           "Аналитик"
          ],
          [
           7.343778801843315,
           "Аналитик"
          ],
          [
           7.0211981566820265,
           "Аналитик"
          ],
          [
           6.629493087557603,
           "Аналитик"
          ],
          [
           4.924423963133639,
           "Аналитик"
          ],
          [
           4.647926267281099,
           "Аналитик"
          ],
          [
           4.256221198156675,
           "Аналитик"
          ],
          [
           3.8875576036866404,
           "Аналитик"
          ],
          [
           3.3115207373271707,
           "Аналитик"
          ],
          [
           3.0811059907834055,
           "Аналитик"
          ],
          [
           3.0119815668202703,
           "Аналитик"
          ],
          [
           2.7815668202764767,
           "Аналитик"
          ],
          [
           2.620276497695847,
           "Аналитик"
          ],
          [
           2.5050691244239642,
           "Аналитик"
          ],
          [
           2.2976958525345585,
           "Аналитик"
          ],
          [
           2.1824884792626755,
           "Аналитик"
          ],
          [
           1.836866359447,
           "Аналитик"
          ],
          [
           1.813824884792612,
           "Аналитик"
          ],
          [
           1.5834101382488468,
           "Аналитик"
          ],
          [
           1.5142857142857116,
           "Аналитик"
          ],
          [
           1.5142857142857116,
           "Аналитик"
          ],
          [
           1.4682027649769642,
           "Аналитик"
          ],
          [
           1.4451612903225763,
           "Аналитик"
          ],
          [
           1.4451612903225763,
           "Аналитик"
          ],
          [
           1.4221198156681885,
           "Аналитик"
          ],
          [
           1.1456221198156478,
           "Аналитик"
          ],
          [
           1.0995391705069004,
           "Аналитик"
          ],
          [
           1.053456221198153,
           "Аналитик"
          ],
          [
           1.0304147465437654,
           "Аналитик"
          ],
          [
           0.96129032258063,
           "Аналитик"
          ],
          [
           0.9382488479262703,
           "Аналитик"
          ],
          [
           0.9152073732718825,
           "Аналитик"
          ],
          [
           0.8,
           "Аналитик"
          ],
          [
           0.8,
           "Аналитик"
          ]
         ],
         "hovertemplate": "<b>%{hovertext}</b><br><br><extra></extra>",
         "hovertext": [
          "Аналитическое мышление",
          "SQL",
          "Английский",
          "Анализ данных",
          "Анализ рынка",
          "MS Excel",
          "Python",
          "1С: Предприятие 8",
          "Работа с большим объемом информации",
          "Power BI",
          "MS PowerPoint",
          "Математическая статистика",
          "Моделирование бизнес процессов",
          "Финансовый анализ",
          "MS SQL",
          "Бизнес-анализ",
          "Базы данных",
          "Деловая коммуникация",
          "Аналитические исследования",
          "Грамотная речь",
          "Работа в условиях многозадачности",
          "Работа с базами данных",
          "Маркетинговые исследования",
          "Сбор и анализ информации",
          "Работа в команде",
          "BI",
          "Разработка технических заданий",
          "Пользователь ПК",
          "Прогнозирование",
          "Подготовка презентаций",
          "Математический анализ",
          "Бюджетирование",
          "Конкурентная аналитика",
          "Tableau",
          "Системный анализ",
          "Сводные таблицы",
          "BPMN",
          "Machine Learning",
          "Управление проектами"
         ],
         "legendgroup": "Аналитик",
         "marker": {
          "color": "#FEAF16",
          "line": {
           "color": "DarkSlateGrey",
           "width": 0.5
          },
          "opacity": 0.7,
          "size": [
           15.8,
           12.873732718893992,
           11.859907834101376,
           10.892165898617511,
           9.04884792626728,
           8.680184331797216,
           7.343778801843315,
           7.0211981566820265,
           6.629493087557603,
           4.924423963133639,
           4.647926267281099,
           4.256221198156675,
           3.8875576036866404,
           3.3115207373271707,
           3.0811059907834055,
           3.0119815668202703,
           2.7815668202764767,
           2.620276497695847,
           2.5050691244239642,
           2.2976958525345585,
           2.1824884792626755,
           1.836866359447,
           1.813824884792612,
           1.5834101382488468,
           1.5142857142857116,
           1.5142857142857116,
           1.4682027649769642,
           1.4451612903225763,
           1.4451612903225763,
           1.4221198156681885,
           1.1456221198156478,
           1.0995391705069004,
           1.053456221198153,
           1.0304147465437654,
           0.96129032258063,
           0.9382488479262703,
           0.9152073732718825,
           0.8,
           0.8
          ],
          "sizemode": "area",
          "sizeref": 0.0395,
          "symbol": "circle"
         },
         "mode": "markers",
         "name": "Аналитик",
         "orientation": "v",
         "showlegend": true,
         "type": "scatter",
         "x": [
          2.3541963,
          -1.8034787,
          -1.1382192,
          1.0018588,
          0.6804172,
          1.3803414,
          -2.8485763,
          3.966865,
          -2.0147564,
          1.9449463,
          1.7354627,
          0.7132438,
          5.010776,
          0.12199009,
          -9.493026,
          4.9460664,
          -10.0811205,
          2.8069592,
          0.5494935,
          2.0222838,
          1.4370893,
          -9.483817,
          0.4564272,
          2.5060394,
          2.618913,
          2.8682284,
          5.4710636,
          -0.07112544,
          0.9752865,
          1.8691812,
          -2.6705348,
          0.17191291,
          -0.030213999,
          2.0089796,
          6.5483274,
          0.47420052,
          6.13993,
          -2.960048,
          3.6570196
         ],
         "xaxis": "x",
         "y": [
          4.155155,
          0.25212887,
          -1.3914798,
          6.3528886,
          5.130175,
          4.394638,
          -5.007139,
          1.8824304,
          0.3795224,
          6.193103,
          4.260798,
          6.667867,
          1.6196822,
          4.5498395,
          1.0154213,
          1.4652041,
          0.7525142,
          1.922136,
          6.9890885,
          3.0233712,
          2.3234835,
          1.1946265,
          5.2147884,
          3.5447118,
          2.190059,
          6.3212714,
          0.29245022,
          1.7414805,
          5.099741,
          3.8716118,
          -4.200936,
          4.255837,
          7.158867,
          6.8753066,
          -0.47731364,
          4.46582,
          0.35818473,
          -6.9472494,
          1.2543387
         ],
         "yaxis": "y"
        },
        {
         "customdata": [
          [
           11.866176470588234,
           "Бизнес-аналитик"
          ],
          [
           6.094117647058817,
           "Бизнес-аналитик"
          ],
          [
           8.557352941176475,
           "Бизнес-аналитик"
          ],
          [
           3.005882352941182,
           "Бизнес-аналитик"
          ],
          [
           1.241176470588227,
           "Бизнес-аналитик"
          ],
          [
           3.777941176470585,
           "Бизнес-аналитик"
          ],
          [
           1.1308823529411762,
           "Бизнес-аналитик"
          ],
          [
           9.43970588235293,
           "Бизнес-аналитик"
          ],
          [
           2.123529411764704,
           "Бизнес-аналитик"
          ],
          [
           1.645588235294127,
           "Бизнес-аналитик"
          ],
          [
           2.2338235294117554,
           "Бизнес-аналитик"
          ],
          [
           13.814705882352943,
           "Бизнес-аналитик"
          ],
          [
           1.1308823529411762,
           "Бизнес-аналитик"
          ],
          [
           15.8,
           "Бизнес-аналитик"
          ],
          [
           5.432352941176465,
           "Бизнес-аналитик"
          ],
          [
           1.5352941176470531,
           "Бизнес-аналитик"
          ],
          [
           1.7191176470588276,
           "Бизнес-аналитик"
          ],
          [
           1.5720588235294033,
           "Бизнес-аналитик"
          ],
          [
           2.197058823529405,
           "Бизнес-аналитик"
          ],
          [
           5.469117647058815,
           "Бизнес-аналитик"
          ],
          [
           0.8367647058823504,
           "Бизнес-аналитик"
          ],
          [
           2.160294117647055,
           "Бизнес-аналитик"
          ],
          [
           9.770588235294106,
           "Бизнес-аналитик"
          ],
          [
           3.4470588235294084,
           "Бизнес-аналитик"
          ],
          [
           0.8367647058823504,
           "Бизнес-аналитик"
          ],
          [
           0.8,
           "Бизнес-аналитик"
          ],
          [
           4.513235294117638,
           "Бизнес-аналитик"
          ],
          [
           3.594117647058833,
           "Бизнес-аналитик"
          ],
          [
           2.307352941176479,
           "Бизнес-аналитик"
          ],
          [
           1.9029411764705795,
           "Бизнес-аналитик"
          ],
          [
           1.9029411764705795,
           "Бизнес-аналитик"
          ],
          [
           2.160294117647055,
           "Бизнес-аналитик"
          ],
          [
           1.7191176470588276,
           "Бизнес-аналитик"
          ],
          [
           1.0941176470588259,
           "Бизнес-аналитик"
          ],
          [
           1.0573529411764755,
           "Бизнес-аналитик"
          ],
          [
           1.3514705882353013,
           "Бизнес-аналитик"
          ],
          [
           1.9029411764705795,
           "Бизнес-аналитик"
          ],
          [
           1.0941176470588259,
           "Бизнес-аналитик"
          ],
          [
           1.0573529411764755,
           "Бизнес-аналитик"
          ]
         ],
         "hovertemplate": "<b>%{hovertext}</b><br><br><extra></extra>",
         "hovertext": [
          "Аналитическое мышление",
          "SQL",
          "Английский",
          "Анализ данных",
          "Анализ рынка",
          "MS Excel",
          "Python",
          "1С: Предприятие 8",
          "Работа с большим объемом информации",
          "Power BI",
          "MS PowerPoint",
          "Моделирование бизнес процессов",
          "MS SQL",
          "Бизнес-анализ",
          "Деловая коммуникация",
          "Грамотная речь",
          "Работа в условиях многозадачности",
          "Сбор и анализ информации",
          "Работа в команде",
          "Разработка технических заданий",
          "Подготовка презентаций",
          "Системный анализ",
          "BPMN",
          "Управление проектами",
          "SAP",
          "REST",
          "UML",
          "MS Visio",
          "Системное мышление",
          "Agile",
          "Постановка задач разработчикам",
          "Atlassian Jira",
          "Atlassian Confluence",
          "Техническая документация",
          "ERP",
          "IDEF",
          "Автоматизация процессов",
          "EPC",
          "CRM"
         ],
         "legendgroup": "Бизнес-аналитик",
         "marker": {
          "color": "#90AD1C",
          "line": {
           "color": "DarkSlateGrey",
           "width": 0.5
          },
          "opacity": 0.7,
          "size": [
           11.866176470588234,
           6.094117647058817,
           8.557352941176475,
           3.005882352941182,
           1.241176470588227,
           3.777941176470585,
           1.1308823529411762,
           9.43970588235293,
           2.123529411764704,
           1.645588235294127,
           2.2338235294117554,
           13.814705882352943,
           1.1308823529411762,
           15.8,
           5.432352941176465,
           1.5352941176470531,
           1.7191176470588276,
           1.5720588235294033,
           2.197058823529405,
           5.469117647058815,
           0.8367647058823504,
           2.160294117647055,
           9.770588235294106,
           3.4470588235294084,
           0.8367647058823504,
           0.8,
           4.513235294117638,
           3.594117647058833,
           2.307352941176479,
           1.9029411764705795,
           1.9029411764705795,
           2.160294117647055,
           1.7191176470588276,
           1.0941176470588259,
           1.0573529411764755,
           1.3514705882353013,
           1.9029411764705795,
           1.0941176470588259,
           1.0573529411764755
          ],
          "sizemode": "area",
          "sizeref": 0.0395,
          "symbol": "circle"
         },
         "mode": "markers",
         "name": "Бизнес-аналитик",
         "orientation": "v",
         "showlegend": true,
         "type": "scatter",
         "x": [
          2.3541963,
          -1.8034787,
          -1.1382192,
          1.0018588,
          0.6804172,
          1.3803414,
          -2.8485763,
          3.966865,
          -2.0147564,
          1.9449463,
          1.7354627,
          5.010776,
          -9.493026,
          4.9460664,
          2.8069592,
          2.0222838,
          1.4370893,
          2.5060394,
          2.618913,
          5.4710636,
          1.8691812,
          6.5483274,
          6.13993,
          3.6570196,
          2.597641,
          6.36536,
          6.056554,
          5.192597,
          4.744864,
          4.384786,
          5.9513397,
          5.0789633,
          5.2998095,
          4.922906,
          5.7105837,
          5.847172,
          4.5577784,
          5.791407,
          3.3630297
         ],
         "xaxis": "x",
         "y": [
          4.155155,
          0.25212887,
          -1.3914798,
          6.3528886,
          5.130175,
          4.394638,
          -5.007139,
          1.8824304,
          0.3795224,
          6.193103,
          4.260798,
          1.6196822,
          1.0154213,
          1.4652041,
          1.922136,
          3.0233712,
          2.3234835,
          3.5447118,
          2.190059,
          0.29245022,
          3.8716118,
          -0.47731364,
          0.35818473,
          1.2543387,
          5.2315574,
          -0.78711724,
          -0.24406052,
          1.1303774,
          0.74,
          0.10592617,
          -0.059739184,
          -0.21238971,
          0.015379869,
          0.2640276,
          0.6209351,
          0.9677551,
          1.798096,
          1.9159839,
          1.3073264
         ],
         "yaxis": "y"
        },
        {
         "customdata": [
          [
           10.657142857142857,
           "Продуктовый аналитик"
          ],
          [
           15.8,
           "Продуктовый аналитик"
          ],
          [
           4.442857142857147,
           "Продуктовый аналитик"
          ],
          [
           12.157142857142857,
           "Продуктовый аналитик"
          ],
          [
           2.299999999999997,
           "Продуктовый аналитик"
          ],
          [
           1.4428571428571373,
           "Продуктовый аналитик"
          ],
          [
           12.585714285714285,
           "Продуктовый аналитик"
          ],
          [
           2.08571428571429,
           "Продуктовый аналитик"
          ],
          [
           5.514285714285714,
           "Продуктовый аналитик"
          ],
          [
           7.228571428571434,
           "Продуктовый аналитик"
          ],
          [
           1.0142857142857076,
           "Продуктовый аналитик"
          ],
          [
           2.942857142857135,
           "Продуктовый аналитик"
          ],
          [
           1.22857142857143,
           "Продуктовый аналитик"
          ],
          [
           1.8714285714285672,
           "Продуктовый аналитик"
          ],
          [
           3.7999999999999936,
           "Продуктовый аналитик"
          ],
          [
           1.4428571428571373,
           "Продуктовый аналитик"
          ],
          [
           1.4428571428571373,
           "Продуктовый аналитик"
          ],
          [
           1.8714285714285672,
           "Продуктовый аналитик"
          ],
          [
           0.8,
           "Продуктовый аналитик"
          ],
          [
           1.22857142857143,
           "Продуктовый аналитик"
          ],
          [
           1.65714285714286,
           "Продуктовый аналитик"
          ],
          [
           4.871428571428576,
           "Продуктовый аналитик"
          ],
          [
           1.65714285714286,
           "Продуктовый аналитик"
          ],
          [
           1.22857142857143,
           "Продуктовый аналитик"
          ],
          [
           1.8714285714285672,
           "Продуктовый аналитик"
          ],
          [
           1.8714285714285672,
           "Продуктовый аналитик"
          ],
          [
           1.22857142857143,
           "Продуктовый аналитик"
          ],
          [
           1.22857142857143,
           "Продуктовый аналитик"
          ],
          [
           7.228571428571434,
           "Продуктовый аналитик"
          ],
          [
           3.371428571428565,
           "Продуктовый аналитик"
          ],
          [
           1.8714285714285672,
           "Продуктовый аналитик"
          ],
          [
           1.8714285714285672,
           "Продуктовый аналитик"
          ],
          [
           1.4428571428571373,
           "Продуктовый аналитик"
          ],
          [
           1.22857142857143,
           "Продуктовый аналитик"
          ],
          [
           1.22857142857143,
           "Продуктовый аналитик"
          ],
          [
           1.22857142857143,
           "Продуктовый аналитик"
          ],
          [
           1.0142857142857076,
           "Продуктовый аналитик"
          ],
          [
           1.0142857142857076,
           "Продуктовый аналитик"
          ],
          [
           0.8,
           "Продуктовый аналитик"
          ]
         ],
         "hovertemplate": "<b>%{hovertext}</b><br><br><extra></extra>",
         "hovertext": [
          "Аналитическое мышление",
          "SQL",
          "Английский",
          "Анализ данных",
          "Анализ рынка",
          "MS Excel",
          "Python",
          "Работа с большим объемом информации",
          "Power BI",
          "Математическая статистика",
          "Моделирование бизнес процессов",
          "MS SQL",
          "Бизнес-анализ",
          "Базы данных",
          "Аналитические исследования",
          "Работа с базами данных",
          "Сбор и анализ информации",
          "BI",
          "Разработка технических заданий",
          "Математический анализ",
          "Конкурентная аналитика",
          "Tableau",
          "Machine Learning",
          "Визуализация данных",
          "PostgreSQL",
          "ETL",
          "Hadoop",
          "ClickHouse",
          "A/B тесты",
          "Продуктовая аналитика",
          "Управление продуктом",
          "Google Analytics",
          "Проведение презентаций",
          "Firebase",
          "Яндекс.Метрика",
          "R",
          "Amplitude",
          "Appsflyer",
          "SaaS"
         ],
         "legendgroup": "Продуктовый аналитик",
         "marker": {
          "color": "#2ED9FF",
          "line": {
           "color": "DarkSlateGrey",
           "width": 0.5
          },
          "opacity": 0.7,
          "size": [
           10.657142857142857,
           15.8,
           4.442857142857147,
           12.157142857142857,
           2.299999999999997,
           1.4428571428571373,
           12.585714285714285,
           2.08571428571429,
           5.514285714285714,
           7.228571428571434,
           1.0142857142857076,
           2.942857142857135,
           1.22857142857143,
           1.8714285714285672,
           3.7999999999999936,
           1.4428571428571373,
           1.4428571428571373,
           1.8714285714285672,
           0.8,
           1.22857142857143,
           1.65714285714286,
           4.871428571428576,
           1.65714285714286,
           1.22857142857143,
           1.8714285714285672,
           1.8714285714285672,
           1.22857142857143,
           1.22857142857143,
           7.228571428571434,
           3.371428571428565,
           1.8714285714285672,
           1.8714285714285672,
           1.4428571428571373,
           1.22857142857143,
           1.22857142857143,
           1.22857142857143,
           1.0142857142857076,
           1.0142857142857076,
           0.8
          ],
          "sizemode": "area",
          "sizeref": 0.0395,
          "symbol": "circle"
         },
         "mode": "markers",
         "name": "Продуктовый аналитик",
         "orientation": "v",
         "showlegend": true,
         "type": "scatter",
         "x": [
          2.3541963,
          -1.8034787,
          -1.1382192,
          1.0018588,
          0.6804172,
          1.3803414,
          -2.8485763,
          -2.0147564,
          1.9449463,
          0.7132438,
          5.010776,
          -9.493026,
          4.9460664,
          -10.0811205,
          0.5494935,
          -9.483817,
          2.5060394,
          2.8682284,
          5.4710636,
          -2.6705348,
          -0.030213999,
          2.0089796,
          -2.960048,
          2.1148493,
          -9.580861,
          -5.3893723,
          -5.9830446,
          -6.8071046,
          0.013752021,
          0.08885151,
          -0.16476826,
          0.19370711,
          -0.02110156,
          0.057012014,
          0.07201238,
          0.3417872,
          0.7160457,
          0.122618824,
          0.28280747
         ],
         "xaxis": "x",
         "y": [
          4.155155,
          0.25212887,
          -1.3914798,
          6.3528886,
          5.130175,
          4.394638,
          -5.007139,
          0.3795224,
          6.193103,
          6.667867,
          1.6196822,
          1.0154213,
          1.4652041,
          0.7525142,
          6.9890885,
          1.1946265,
          3.5447118,
          6.3212714,
          0.29245022,
          -4.200936,
          7.158867,
          6.8753066,
          -6.9472494,
          6.5298023,
          0.18554576,
          -0.562909,
          -0.99356896,
          -0.1862305,
          8.554733,
          9.08139,
          8.456427,
          8.215248,
          7.342452,
          9.133667,
          7.9796095,
          7.8079925,
          8.452917,
          8.969278,
          8.803643
         ],
         "yaxis": "y"
        },
        {
         "customdata": [
          [
           10.44285714285715,
           "Аналитик BI"
          ],
          [
           15.8,
           "Аналитик BI"
          ],
          [
           8.300000000000008,
           "Аналитик BI"
          ],
          [
           7.2285714285714295,
           "Аналитик BI"
          ],
          [
           1.5142857142857093,
           "Аналитик BI"
          ],
          [
           2.942857142857143,
           "Аналитик BI"
          ],
          [
           4.371428571428576,
           "Аналитик BI"
          ],
          [
           4.371428571428576,
           "Аналитик BI"
          ],
          [
           9.01428571428572,
           "Аналитик BI"
          ],
          [
           2.5857142857142885,
           "Аналитик BI"
          ],
          [
           2.5857142857142885,
           "Аналитик BI"
          ],
          [
           2.228571428571434,
           "Аналитик BI"
          ],
          [
           1.8714285714285643,
           "Аналитик BI"
          ],
          [
           4.371428571428576,
           "Аналитик BI"
          ],
          [
           1.1571428571428548,
           "Аналитик BI"
          ],
          [
           1.1571428571428548,
           "Аналитик BI"
          ],
          [
           1.1571428571428548,
           "Аналитик BI"
          ],
          [
           8.657142857142864,
           "Аналитик BI"
          ],
          [
           1.1571428571428548,
           "Аналитик BI"
          ],
          [
           5.799999999999995,
           "Аналитик BI"
          ],
          [
           3.299999999999998,
           "Аналитик BI"
          ],
          [
           2.5857142857142885,
           "Аналитик BI"
          ],
          [
           1.8714285714285643,
           "Аналитик BI"
          ],
          [
           1.5142857142857093,
           "Аналитик BI"
          ],
          [
           1.5142857142857093,
           "Аналитик BI"
          ],
          [
           1.1571428571428548,
           "Аналитик BI"
          ],
          [
           1.1571428571428548,
           "Аналитик BI"
          ],
          [
           1.1571428571428548,
           "Аналитик BI"
          ],
          [
           1.1571428571428548,
           "Аналитик BI"
          ],
          [
           1.1571428571428548,
           "Аналитик BI"
          ],
          [
           1.1571428571428548,
           "Аналитик BI"
          ],
          [
           0.8,
           "Аналитик BI"
          ],
          [
           0.8,
           "Аналитик BI"
          ],
          [
           0.8,
           "Аналитик BI"
          ],
          [
           0.8,
           "Аналитик BI"
          ],
          [
           0.8,
           "Аналитик BI"
          ],
          [
           0.8,
           "Аналитик BI"
          ],
          [
           0.8,
           "Аналитик BI"
          ],
          [
           0.8,
           "Аналитик BI"
          ]
         ],
         "hovertemplate": "<b>%{hovertext}</b><br><br><extra></extra>",
         "hovertext": [
          "Аналитическое мышление",
          "SQL",
          "Английский",
          "Анализ данных",
          "Анализ рынка",
          "MS Excel",
          "Python",
          "Работа с большим объемом информации",
          "Power BI",
          "MS PowerPoint",
          "Математическая статистика",
          "MS SQL",
          "Бизнес-анализ",
          "Базы данных",
          "Деловая коммуникация",
          "Аналитические исследования",
          "Работа в условиях многозадачности",
          "BI",
          "Подготовка презентаций",
          "Tableau",
          "Qlik Sense",
          "DWH",
          "Визуализация данных",
          "OLAP",
          "SAP",
          "PostgreSQL",
          "REST",
          "Отчетность",
          "Greenplum",
          "UML",
          "XML",
          "SOAP",
          "Power Query",
          "Scrum",
          "MySQL",
          "MS Visio",
          "Системное мышление",
          "Apache NiFi",
          "MS Power Builder"
         ],
         "legendgroup": "Аналитик BI",
         "marker": {
          "color": "#B10DA1",
          "line": {
           "color": "DarkSlateGrey",
           "width": 0.5
          },
          "opacity": 0.7,
          "size": [
           10.44285714285715,
           15.8,
           8.300000000000008,
           7.2285714285714295,
           1.5142857142857093,
           2.942857142857143,
           4.371428571428576,
           4.371428571428576,
           9.01428571428572,
           2.5857142857142885,
           2.5857142857142885,
           2.228571428571434,
           1.8714285714285643,
           4.371428571428576,
           1.1571428571428548,
           1.1571428571428548,
           1.1571428571428548,
           8.657142857142864,
           1.1571428571428548,
           5.799999999999995,
           3.299999999999998,
           2.5857142857142885,
           1.8714285714285643,
           1.5142857142857093,
           1.5142857142857093,
           1.1571428571428548,
           1.1571428571428548,
           1.1571428571428548,
           1.1571428571428548,
           1.1571428571428548,
           1.1571428571428548,
           0.8,
           0.8,
           0.8,
           0.8,
           0.8,
           0.8,
           0.8,
           0.8
          ],
          "sizemode": "area",
          "sizeref": 0.0395,
          "symbol": "circle"
         },
         "mode": "markers",
         "name": "Аналитик BI",
         "orientation": "v",
         "showlegend": true,
         "type": "scatter",
         "x": [
          2.3541963,
          -1.8034787,
          -1.1382192,
          1.0018588,
          0.6804172,
          1.3803414,
          -2.8485763,
          -2.0147564,
          1.9449463,
          1.7354627,
          0.7132438,
          -9.493026,
          4.9460664,
          -10.0811205,
          2.8069592,
          0.5494935,
          1.4370893,
          2.8682284,
          1.8691812,
          2.0089796,
          3.0925562,
          -4.8950844,
          2.1148493,
          -1.6473596,
          2.597641,
          -9.580861,
          6.36536,
          3.1666465,
          -5.5129714,
          6.056554,
          6.0040455,
          6.40379,
          1.8605313,
          0.08011154,
          -10.358845,
          5.192597,
          4.744864,
          -4.066441,
          3.4056034
         ],
         "xaxis": "x",
         "y": [
          4.155155,
          0.25212887,
          -1.3914798,
          6.3528886,
          5.130175,
          4.394638,
          -5.007139,
          0.3795224,
          6.193103,
          4.260798,
          6.667867,
          1.0154213,
          1.4652041,
          0.7525142,
          1.922136,
          6.9890885,
          2.3234835,
          6.3212714,
          3.8716118,
          6.8753066,
          6.5084567,
          -0.2723809,
          6.5298023,
          0.0068491246,
          5.2315574,
          0.18554576,
          -0.78711724,
          6.38227,
          -0.20365214,
          -0.24406052,
          -0.9528796,
          -1.0241598,
          4.8482914,
          -0.9764248,
          0.70089287,
          1.1303774,
          0.74,
          0.074075274,
          6.6355042
         ],
         "yaxis": "y"
        },
        {
         "customdata": [
          [
           6.350660792951542,
           "Системный аналитик"
          ],
          [
           15.8,
           "Системный аналитик"
          ],
          [
           4.434361233480168,
           "Системный аналитик"
          ],
          [
           1.3947136563876508,
           "Системный аналитик"
          ],
          [
           1.0643171806167246,
           "Системный аналитик"
          ],
          [
           2.91453744493392,
           "Системный аналитик"
          ],
          [
           1.1964757709251073,
           "Системный аналитик"
          ],
          [
           3.707488986784134,
           "Системный аналитик"
          ],
          [
           2.0555066079295035,
           "Системный аналитик"
          ],
          [
           4.632599118942732,
           "Системный аналитик"
          ],
          [
           3.707488986784134,
           "Системный аналитик"
          ],
          [
           0.9321585903083623,
           "Системный аналитик"
          ],
          [
           0.8,
           "Системный аналитик"
          ],
          [
           0.9982378854625436,
           "Системный аналитик"
          ],
          [
           6.945374449339194,
           "Системный аналитик"
          ],
          [
           12.760352422907484,
           "Системный аналитик"
          ],
          [
           12.165638766519834,
           "Системный аналитик"
          ],
          [
           0.9321585903083623,
           "Системный аналитик"
          ],
          [
           1.3286343612334697,
           "Системный аналитик"
          ],
          [
           1.7911894273127582,
           "Системный аналитик"
          ],
          [
           6.945374449339194,
           "Системный аналитик"
          ],
          [
           10.711894273127744,
           "Системный аналитик"
          ],
          [
           4.236123348017625,
           "Системный аналитик"
          ],
          [
           3.971806167400879,
           "Системный аналитик"
          ],
          [
           1.592951541850215,
           "Системный аналитик"
          ],
          [
           2.0555066079295035,
           "Системный аналитик"
          ],
          [
           1.3947136563876508,
           "Системный аналитик"
          ],
          [
           0.8660792951541814,
           "Системный аналитик"
          ],
          [
           1.725110132158577,
           "Системный аналитик"
          ],
          [
           3.971806167400879,
           "Системный аналитик"
          ],
          [
           3.5753303964757723,
           "Системный аналитик"
          ],
          [
           3.3110132158590266,
           "Системный аналитик"
          ],
          [
           2.518061674008812,
           "Системный аналитик"
          ],
          [
           2.3859030837004296,
           "Системный аналитик"
          ],
          [
           1.592951541850215,
           "Системный аналитик"
          ],
          [
           1.1303964757709264,
           "Системный аналитик"
          ],
          [
           0.9321585903083623,
           "Системный аналитик"
          ],
          [
           0.8,
           "Системный аналитик"
          ],
          [
           0.8,
           "Системный аналитик"
          ]
         ],
         "hovertemplate": "<b>%{hovertext}</b><br><br><extra></extra>",
         "hovertext": [
          "Аналитическое мышление",
          "SQL",
          "Английский",
          "Анализ данных",
          "Python",
          "1С: Предприятие 8",
          "Работа с большим объемом информации",
          "Моделирование бизнес процессов",
          "MS SQL",
          "Бизнес-анализ",
          "Базы данных",
          "Деловая коммуникация",
          "Сбор и анализ информации",
          "Работа в команде",
          "Разработка технических заданий",
          "Системный анализ",
          "BPMN",
          "Управление проектами",
          "DWH",
          "PostgreSQL",
          "REST",
          "UML",
          "XML",
          "SOAP",
          "MS Visio",
          "Системное мышление",
          "ETL",
          "ORACLE",
          "Agile",
          "Постановка задач разработчикам",
          "JSON API",
          "Atlassian Jira",
          "API",
          "Atlassian Confluence",
          "Техническая документация",
          "ERP",
          "IDEF",
          "Use Case Analysis",
          "Системная интеграция"
         ],
         "legendgroup": "Системный аналитик",
         "marker": {
          "color": "#909090",
          "line": {
           "color": "DarkSlateGrey",
           "width": 0.5
          },
          "opacity": 0.7,
          "size": [
           6.350660792951542,
           15.8,
           4.434361233480168,
           1.3947136563876508,
           1.0643171806167246,
           2.91453744493392,
           1.1964757709251073,
           3.707488986784134,
           2.0555066079295035,
           4.632599118942732,
           3.707488986784134,
           0.9321585903083623,
           0.8,
           0.9982378854625436,
           6.945374449339194,
           12.760352422907484,
           12.165638766519834,
           0.9321585903083623,
           1.3286343612334697,
           1.7911894273127582,
           6.945374449339194,
           10.711894273127744,
           4.236123348017625,
           3.971806167400879,
           1.592951541850215,
           2.0555066079295035,
           1.3947136563876508,
           0.8660792951541814,
           1.725110132158577,
           3.971806167400879,
           3.5753303964757723,
           3.3110132158590266,
           2.518061674008812,
           2.3859030837004296,
           1.592951541850215,
           1.1303964757709264,
           0.9321585903083623,
           0.8,
           0.8
          ],
          "sizemode": "area",
          "sizeref": 0.0395,
          "symbol": "circle"
         },
         "mode": "markers",
         "name": "Системный аналитик",
         "orientation": "v",
         "showlegend": true,
         "type": "scatter",
         "x": [
          2.3541963,
          -1.8034787,
          -1.1382192,
          1.0018588,
          -2.8485763,
          3.966865,
          -2.0147564,
          5.010776,
          -9.493026,
          4.9460664,
          -10.0811205,
          2.8069592,
          2.5060394,
          2.618913,
          5.4710636,
          6.5483274,
          6.13993,
          3.6570196,
          -4.8950844,
          -9.580861,
          6.36536,
          6.056554,
          6.0040455,
          6.40379,
          5.192597,
          4.744864,
          -5.3893723,
          -10.044728,
          4.384786,
          5.9513397,
          6.02941,
          5.0789633,
          6.940761,
          5.2998095,
          4.922906,
          5.7105837,
          5.847172,
          6.415285,
          6.759476
         ],
         "xaxis": "x",
         "y": [
          4.155155,
          0.25212887,
          -1.3914798,
          6.3528886,
          -5.007139,
          1.8824304,
          0.3795224,
          1.6196822,
          1.0154213,
          1.4652041,
          0.7525142,
          1.922136,
          3.5447118,
          2.190059,
          0.29245022,
          -0.47731364,
          0.35818473,
          1.2543387,
          -0.2723809,
          0.18554576,
          -0.78711724,
          -0.24406052,
          -0.9528796,
          -1.0241598,
          1.1303774,
          0.74,
          -0.562909,
          0.5042161,
          0.10592617,
          -0.059739184,
          -0.90842545,
          -0.21238971,
          -0.35510692,
          0.015379869,
          0.2640276,
          0.6209351,
          0.9677551,
          0.45786825,
          -0.69895744
         ],
         "yaxis": "y"
        }
       ],
       "layout": {
        "height": 600,
        "legend": {
         "itemsizing": "constant",
         "title": {
          "text": "Профессия"
         },
         "tracegroupgap": 0
        },
        "margin": {
         "t": 60
        },
        "template": {
         "data": {
          "bar": [
           {
            "error_x": {
             "color": "#2a3f5f"
            },
            "error_y": {
             "color": "#2a3f5f"
            },
            "marker": {
             "line": {
              "color": "#E5ECF6",
              "width": 0.5
             },
             "pattern": {
              "fillmode": "overlay",
              "size": 10,
              "solidity": 0.2
             }
            },
            "type": "bar"
           }
          ],
          "barpolar": [
           {
            "marker": {
             "line": {
              "color": "#E5ECF6",
              "width": 0.5
             },
             "pattern": {
              "fillmode": "overlay",
              "size": 10,
              "solidity": 0.2
             }
            },
            "type": "barpolar"
           }
          ],
          "carpet": [
           {
            "aaxis": {
             "endlinecolor": "#2a3f5f",
             "gridcolor": "white",
             "linecolor": "white",
             "minorgridcolor": "white",
             "startlinecolor": "#2a3f5f"
            },
            "baxis": {
             "endlinecolor": "#2a3f5f",
             "gridcolor": "white",
             "linecolor": "white",
             "minorgridcolor": "white",
             "startlinecolor": "#2a3f5f"
            },
            "type": "carpet"
           }
          ],
          "choropleth": [
           {
            "colorbar": {
             "outlinewidth": 0,
             "ticks": ""
            },
            "type": "choropleth"
           }
          ],
          "contour": [
           {
            "colorbar": {
             "outlinewidth": 0,
             "ticks": ""
            },
            "colorscale": [
             [
              0,
              "#0d0887"
             ],
             [
              0.1111111111111111,
              "#46039f"
             ],
             [
              0.2222222222222222,
              "#7201a8"
             ],
             [
              0.3333333333333333,
              "#9c179e"
             ],
             [
              0.4444444444444444,
              "#bd3786"
             ],
             [
              0.5555555555555556,
              "#d8576b"
             ],
             [
              0.6666666666666666,
              "#ed7953"
             ],
             [
              0.7777777777777778,
              "#fb9f3a"
             ],
             [
              0.8888888888888888,
              "#fdca26"
             ],
             [
              1,
              "#f0f921"
             ]
            ],
            "type": "contour"
           }
          ],
          "contourcarpet": [
           {
            "colorbar": {
             "outlinewidth": 0,
             "ticks": ""
            },
            "type": "contourcarpet"
           }
          ],
          "heatmap": [
           {
            "colorbar": {
             "outlinewidth": 0,
             "ticks": ""
            },
            "colorscale": [
             [
              0,
              "#0d0887"
             ],
             [
              0.1111111111111111,
              "#46039f"
             ],
             [
              0.2222222222222222,
              "#7201a8"
             ],
             [
              0.3333333333333333,
              "#9c179e"
             ],
             [
              0.4444444444444444,
              "#bd3786"
             ],
             [
              0.5555555555555556,
              "#d8576b"
             ],
             [
              0.6666666666666666,
              "#ed7953"
             ],
             [
              0.7777777777777778,
              "#fb9f3a"
             ],
             [
              0.8888888888888888,
              "#fdca26"
             ],
             [
              1,
              "#f0f921"
             ]
            ],
            "type": "heatmap"
           }
          ],
          "heatmapgl": [
           {
            "colorbar": {
             "outlinewidth": 0,
             "ticks": ""
            },
            "colorscale": [
             [
              0,
              "#0d0887"
             ],
             [
              0.1111111111111111,
              "#46039f"
             ],
             [
              0.2222222222222222,
              "#7201a8"
             ],
             [
              0.3333333333333333,
              "#9c179e"
             ],
             [
              0.4444444444444444,
              "#bd3786"
             ],
             [
              0.5555555555555556,
              "#d8576b"
             ],
             [
              0.6666666666666666,
              "#ed7953"
             ],
             [
              0.7777777777777778,
              "#fb9f3a"
             ],
             [
              0.8888888888888888,
              "#fdca26"
             ],
             [
              1,
              "#f0f921"
             ]
            ],
            "type": "heatmapgl"
           }
          ],
          "histogram": [
           {
            "marker": {
             "pattern": {
              "fillmode": "overlay",
              "size": 10,
              "solidity": 0.2
             }
            },
            "type": "histogram"
           }
          ],
          "histogram2d": [
           {
            "colorbar": {
             "outlinewidth": 0,
             "ticks": ""
            },
            "colorscale": [
             [
              0,
              "#0d0887"
             ],
             [
              0.1111111111111111,
              "#46039f"
             ],
             [
              0.2222222222222222,
              "#7201a8"
             ],
             [
              0.3333333333333333,
              "#9c179e"
             ],
             [
              0.4444444444444444,
              "#bd3786"
             ],
             [
              0.5555555555555556,
              "#d8576b"
             ],
             [
              0.6666666666666666,
              "#ed7953"
             ],
             [
              0.7777777777777778,
              "#fb9f3a"
             ],
             [
              0.8888888888888888,
              "#fdca26"
             ],
             [
              1,
              "#f0f921"
             ]
            ],
            "type": "histogram2d"
           }
          ],
          "histogram2dcontour": [
           {
            "colorbar": {
             "outlinewidth": 0,
             "ticks": ""
            },
            "colorscale": [
             [
              0,
              "#0d0887"
             ],
             [
              0.1111111111111111,
              "#46039f"
             ],
             [
              0.2222222222222222,
              "#7201a8"
             ],
             [
              0.3333333333333333,
              "#9c179e"
             ],
             [
              0.4444444444444444,
              "#bd3786"
             ],
             [
              0.5555555555555556,
              "#d8576b"
             ],
             [
              0.6666666666666666,
              "#ed7953"
             ],
             [
              0.7777777777777778,
              "#fb9f3a"
             ],
             [
              0.8888888888888888,
              "#fdca26"
             ],
             [
              1,
              "#f0f921"
             ]
            ],
            "type": "histogram2dcontour"
           }
          ],
          "mesh3d": [
           {
            "colorbar": {
             "outlinewidth": 0,
             "ticks": ""
            },
            "type": "mesh3d"
           }
          ],
          "parcoords": [
           {
            "line": {
             "colorbar": {
              "outlinewidth": 0,
              "ticks": ""
             }
            },
            "type": "parcoords"
           }
          ],
          "pie": [
           {
            "automargin": true,
            "type": "pie"
           }
          ],
          "scatter": [
           {
            "fillpattern": {
             "fillmode": "overlay",
             "size": 10,
             "solidity": 0.2
            },
            "type": "scatter"
           }
          ],
          "scatter3d": [
           {
            "line": {
             "colorbar": {
              "outlinewidth": 0,
              "ticks": ""
             }
            },
            "marker": {
             "colorbar": {
              "outlinewidth": 0,
              "ticks": ""
             }
            },
            "type": "scatter3d"
           }
          ],
          "scattercarpet": [
           {
            "marker": {
             "colorbar": {
              "outlinewidth": 0,
              "ticks": ""
             }
            },
            "type": "scattercarpet"
           }
          ],
          "scattergeo": [
           {
            "marker": {
             "colorbar": {
              "outlinewidth": 0,
              "ticks": ""
             }
            },
            "type": "scattergeo"
           }
          ],
          "scattergl": [
           {
            "marker": {
             "colorbar": {
              "outlinewidth": 0,
              "ticks": ""
             }
            },
            "type": "scattergl"
           }
          ],
          "scattermapbox": [
           {
            "marker": {
             "colorbar": {
              "outlinewidth": 0,
              "ticks": ""
             }
            },
            "type": "scattermapbox"
           }
          ],
          "scatterpolar": [
           {
            "marker": {
             "colorbar": {
              "outlinewidth": 0,
              "ticks": ""
             }
            },
            "type": "scatterpolar"
           }
          ],
          "scatterpolargl": [
           {
            "marker": {
             "colorbar": {
              "outlinewidth": 0,
              "ticks": ""
             }
            },
            "type": "scatterpolargl"
           }
          ],
          "scatterternary": [
           {
            "marker": {
             "colorbar": {
              "outlinewidth": 0,
              "ticks": ""
             }
            },
            "type": "scatterternary"
           }
          ],
          "surface": [
           {
            "colorbar": {
             "outlinewidth": 0,
             "ticks": ""
            },
            "colorscale": [
             [
              0,
              "#0d0887"
             ],
             [
              0.1111111111111111,
              "#46039f"
             ],
             [
              0.2222222222222222,
              "#7201a8"
             ],
             [
              0.3333333333333333,
              "#9c179e"
             ],
             [
              0.4444444444444444,
              "#bd3786"
             ],
             [
              0.5555555555555556,
              "#d8576b"
             ],
             [
              0.6666666666666666,
              "#ed7953"
             ],
             [
              0.7777777777777778,
              "#fb9f3a"
             ],
             [
              0.8888888888888888,
              "#fdca26"
             ],
             [
              1,
              "#f0f921"
             ]
            ],
            "type": "surface"
           }
          ],
          "table": [
           {
            "cells": {
             "fill": {
              "color": "#EBF0F8"
             },
             "line": {
              "color": "white"
             }
            },
            "header": {
             "fill": {
              "color": "#C8D4E3"
             },
             "line": {
              "color": "white"
             }
            },
            "type": "table"
           }
          ]
         },
         "layout": {
          "annotationdefaults": {
           "arrowcolor": "#2a3f5f",
           "arrowhead": 0,
           "arrowwidth": 1
          },
          "autotypenumbers": "strict",
          "coloraxis": {
           "colorbar": {
            "outlinewidth": 0,
            "ticks": ""
           }
          },
          "colorscale": {
           "diverging": [
            [
             0,
             "#8e0152"
            ],
            [
             0.1,
             "#c51b7d"
            ],
            [
             0.2,
             "#de77ae"
            ],
            [
             0.3,
             "#f1b6da"
            ],
            [
             0.4,
             "#fde0ef"
            ],
            [
             0.5,
             "#f7f7f7"
            ],
            [
             0.6,
             "#e6f5d0"
            ],
            [
             0.7,
             "#b8e186"
            ],
            [
             0.8,
             "#7fbc41"
            ],
            [
             0.9,
             "#4d9221"
            ],
            [
             1,
             "#276419"
            ]
           ],
           "sequential": [
            [
             0,
             "#0d0887"
            ],
            [
             0.1111111111111111,
             "#46039f"
            ],
            [
             0.2222222222222222,
             "#7201a8"
            ],
            [
             0.3333333333333333,
             "#9c179e"
            ],
            [
             0.4444444444444444,
             "#bd3786"
            ],
            [
             0.5555555555555556,
             "#d8576b"
            ],
            [
             0.6666666666666666,
             "#ed7953"
            ],
            [
             0.7777777777777778,
             "#fb9f3a"
            ],
            [
             0.8888888888888888,
             "#fdca26"
            ],
            [
             1,
             "#f0f921"
            ]
           ],
           "sequentialminus": [
            [
             0,
             "#0d0887"
            ],
            [
             0.1111111111111111,
             "#46039f"
            ],
            [
             0.2222222222222222,
             "#7201a8"
            ],
            [
             0.3333333333333333,
             "#9c179e"
            ],
            [
             0.4444444444444444,
             "#bd3786"
            ],
            [
             0.5555555555555556,
             "#d8576b"
            ],
            [
             0.6666666666666666,
             "#ed7953"
            ],
            [
             0.7777777777777778,
             "#fb9f3a"
            ],
            [
             0.8888888888888888,
             "#fdca26"
            ],
            [
             1,
             "#f0f921"
            ]
           ]
          },
          "colorway": [
           "#636efa",
           "#EF553B",
           "#00cc96",
           "#ab63fa",
           "#FFA15A",
           "#19d3f3",
           "#FF6692",
           "#B6E880",
           "#FF97FF",
           "#FECB52"
          ],
          "font": {
           "color": "#2a3f5f"
          },
          "geo": {
           "bgcolor": "white",
           "lakecolor": "white",
           "landcolor": "#E5ECF6",
           "showlakes": true,
           "showland": true,
           "subunitcolor": "white"
          },
          "hoverlabel": {
           "align": "left"
          },
          "hovermode": "closest",
          "mapbox": {
           "style": "light"
          },
          "paper_bgcolor": "white",
          "plot_bgcolor": "#E5ECF6",
          "polar": {
           "angularaxis": {
            "gridcolor": "white",
            "linecolor": "white",
            "ticks": ""
           },
           "bgcolor": "#E5ECF6",
           "radialaxis": {
            "gridcolor": "white",
            "linecolor": "white",
            "ticks": ""
           }
          },
          "scene": {
           "xaxis": {
            "backgroundcolor": "#E5ECF6",
            "gridcolor": "white",
            "gridwidth": 2,
            "linecolor": "white",
            "showbackground": true,
            "ticks": "",
            "zerolinecolor": "white"
           },
           "yaxis": {
            "backgroundcolor": "#E5ECF6",
            "gridcolor": "white",
            "gridwidth": 2,
            "linecolor": "white",
            "showbackground": true,
            "ticks": "",
            "zerolinecolor": "white"
           },
           "zaxis": {
            "backgroundcolor": "#E5ECF6",
            "gridcolor": "white",
            "gridwidth": 2,
            "linecolor": "white",
            "showbackground": true,
            "ticks": "",
            "zerolinecolor": "white"
           }
          },
          "shapedefaults": {
           "line": {
            "color": "#2a3f5f"
           }
          },
          "ternary": {
           "aaxis": {
            "gridcolor": "white",
            "linecolor": "white",
            "ticks": ""
           },
           "baxis": {
            "gridcolor": "white",
            "linecolor": "white",
            "ticks": ""
           },
           "bgcolor": "#E5ECF6",
           "caxis": {
            "gridcolor": "white",
            "linecolor": "white",
            "ticks": ""
           }
          },
          "title": {
           "x": 0.05
          },
          "xaxis": {
           "automargin": true,
           "gridcolor": "white",
           "linecolor": "white",
           "ticks": "",
           "title": {
            "standoff": 15
           },
           "zerolinecolor": "white",
           "zerolinewidth": 2
          },
          "yaxis": {
           "automargin": true,
           "gridcolor": "white",
           "linecolor": "white",
           "ticks": "",
           "title": {
            "standoff": 15
           },
           "zerolinecolor": "white",
           "zerolinewidth": 2
          }
         }
        },
        "width": 1000,
        "xaxis": {
         "anchor": "y",
         "domain": [
          0,
          1
         ],
         "title": {
          "text": "x"
         },
         "visible": false
        },
        "yaxis": {
         "anchor": "x",
         "domain": [
          0,
          1
         ],
         "title": {
          "text": "y"
         },
         "visible": false
        }
       }
      }
     },
     "metadata": {},
     "output_type": "display_data"
    }
   ],
   "source": [
    "# оптимизация\n",
    "k = 50\n",
    "best_norm_type = ''\n",
    "best_alg_type = ''\n",
    "best_top_n_skill_per_profession = -1\n",
    "best_mean_reciprocal_rank = 0\n",
    "best_dim = 0\n",
    "best_use_tsne = False\n",
    "stat = []\n",
    "for norm_type in ['none', 'skill', 'prof', 'bm', 'tfidf']:\n",
    "    for alg_type, dim, use_tsne in \\\n",
    "        [('tsne', 5, True),\n",
    "         ('als', 5, True),\n",
    "         ('svd', 5, True),\n",
    "         ('svd', 2, False),\n",
    "         ('pca', 5, True),\n",
    "         ('pca', 2, False),\n",
    "         ('sim_euclid', 5, True),\n",
    "         ('sim_cos', 5, True),\n",
    "         ('umap', 5, True),\n",
    "         ('umap', 2, False), ]:\n",
    "\n",
    "        for top_n_skill_per_profession in range(20, 51, 1):\n",
    "            df, _ = prepare_plot_df(skill_df, matrix, skill_index_to_corrected,\n",
    "                                    prof_index_to_prof_name, \n",
    "                                    top_n_skill_per_profession=top_n_skill_per_profession,\n",
    "                                    norm_type=norm_type,\n",
    "                                    factor_alg_type=alg_type)\n",
    "            mrr, pairs_count = get_mean_reciprocal_rank(df, skill_pairs)\n",
    "\n",
    "            print()\n",
    "            print(norm_type, alg_type, dim, use_tsne, top_n_skill_per_profession)\n",
    "            print(f'mrr = {mrr}, pairs_count = {pairs_count}')\n",
    "            stat.append((norm_type, alg_type, dim, use_tsne, top_n_skill_per_profession, mrr, pairs_count))\n",
    "\n",
    "            if pairs_count > k and mrr > best_mean_reciprocal_rank:\n",
    "                best_mean_reciprocal_rank = mrr\n",
    "                best_norm_type = norm_type\n",
    "                best_alg_type = alg_type\n",
    "                best_top_n_skill_per_profession = top_n_skill_per_profession\n",
    "                best_dim = dim\n",
    "                best_use_tsne = use_tsne\n",
    "\n",
    "print()\n",
    "print('best_mean_reciprocal_rank =', best_mean_reciprocal_rank)\n",
    "print('best_norm_type =', best_norm_type)\n",
    "print('best_alg_type =', best_alg_type)\n",
    "print('best_dim =', best_dim)\n",
    "print('best_use_tsne =', best_use_tsne)\n",
    "print('best_top_n_skill_per_profession =', best_top_n_skill_per_profession)\n",
    "\n",
    "df, _ = prepare_plot_df(skill_df, matrix, skill_index_to_corrected,\n",
    "                                    prof_index_to_prof_name, \n",
    "                                    top_n_skill_per_profession=best_top_n_skill_per_profession,\n",
    "                                    norm_type=best_norm_type,\n",
    "                                    factor_alg_type=best_alg_type,\n",
    "                                    dim=best_dim,\n",
    "                                    use_tsne=best_use_tsne)\n",
    "\n",
    "plot_skill_map(df).show()\n",
    "\n",
    "##!!! Возможно нужно иметь топ-н алгоритмов, потому что есть алгоритмы с одинаковой метрикой или близкой..."
   ]
  },
  {
   "cell_type": "code",
   "execution_count": null,
   "metadata": {},
   "outputs": [],
   "source": []
  },
  {
   "cell_type": "code",
   "execution_count": 35,
   "metadata": {},
   "outputs": [],
   "source": [
    "# Сравнить построение графика\n",
    "\n",
    "# norm_type skill это плохо?\n",
    "\n",
    "# очень интересно про косинусное растояние"
   ]
  },
  {
   "cell_type": "code",
   "execution_count": null,
   "metadata": {},
   "outputs": [],
   "source": []
  },
  {
   "cell_type": "code",
   "execution_count": 36,
   "metadata": {},
   "outputs": [],
   "source": [
    "# plot_skill_map(df_plot_skill).show()"
   ]
  },
  {
   "cell_type": "code",
   "execution_count": 37,
   "metadata": {},
   "outputs": [
    {
     "data": {
      "application/vnd.plotly.v1+json": {
       "config": {
        "plotlyServerURL": "https://plot.ly"
       },
       "data": [
        {
         "customdata": [
          [
           2.0074303405572675,
           "Data Scientist"
          ],
          [
           10.366563467492252,
           "Data Scientist"
          ],
          [
           6.55851393188854,
           "Data Scientist"
          ],
          [
           4.422291021671817,
           "Data Scientist"
          ],
          [
           0.8928792569659472,
           "Data Scientist"
          ],
          [
           15.8,
           "Data Scientist"
          ],
          [
           3.8185758513931827,
           "Data Scientist"
          ],
          [
           1.0321981424148603,
           "Data Scientist"
          ],
          [
           5.258204334365326,
           "Data Scientist"
          ],
          [
           1.775232198142407,
           "Data Scientist"
          ],
          [
           1.8216718266253882,
           "Data Scientist"
          ],
          [
           1.1715170278637734,
           "Data Scientist"
          ],
          [
           0.846439628482966,
           "Data Scientist"
          ],
          [
           0.846439628482966,
           "Data Scientist"
          ],
          [
           0.8928792569659472,
           "Data Scientist"
          ],
          [
           2.8897832817337425,
           "Data Scientist"
          ],
          [
           12.363467492260064,
           "Data Scientist"
          ],
          [
           1.5430340557275468,
           "Data Scientist"
          ],
          [
           0.846439628482966,
           "Data Scientist"
          ],
          [
           2.843343653250776,
           "Data Scientist"
          ],
          [
           2.6111455108359163,
           "Data Scientist"
          ],
          [
           1.9145510835913355,
           "Data Scientist"
          ],
          [
           0.9857585139318792,
           "Data Scientist"
          ],
          [
           1.9609907120743015,
           "Data Scientist"
          ],
          [
           0.846439628482966,
           "Data Scientist"
          ],
          [
           0.846439628482966,
           "Data Scientist"
          ],
          [
           1.8216718266253882,
           "Data Scientist"
          ],
          [
           2.2860681114551085,
           "Data Scientist"
          ],
          [
           2.936222910216708,
           "Data Scientist"
          ],
          [
           1.589473684210528,
           "Data Scientist"
          ],
          [
           5.165325077399379,
           "Data Scientist"
          ],
          [
           1.4501547987615997,
           "Data Scientist"
          ],
          [
           1.4965944272445808,
           "Data Scientist"
          ],
          [
           2.193188854489162,
           "Data Scientist"
          ],
          [
           0.846439628482966,
           "Data Scientist"
          ],
          [
           2.193188854489162,
           "Data Scientist"
          ],
          [
           2.982662538699689,
           "Data Scientist"
          ],
          [
           0.846439628482966,
           "Data Scientist"
          ],
          [
           0.8,
           "Data Scientist"
          ]
         ],
         "hovertemplate": "<b>%{hovertext}</b><br><br><extra></extra>",
         "hovertext": [
          "Аналитическое мышление",
          "SQL",
          "Английский",
          "Анализ данных",
          "Анализ рынка",
          "Python",
          "Работа с большим объемом информации",
          "Power BI",
          "Математическая статистика",
          "MS SQL",
          "Базы данных",
          "Деловая коммуникация",
          "Грамотная речь",
          "Работа с базами данных",
          "Работа в команде",
          "Математический анализ",
          "Machine Learning",
          "PostgreSQL",
          "ETL",
          "Hadoop",
          "Spark",
          "Linux",
          "Airflow",
          "Docker",
          "Hive",
          "ClickHouse",
          "Git",
          "NLP",
          "PyTorch",
          "Computer Vision",
          "Data Science",
          "Tensorflow",
          "Deep Learning",
          "Scikit-learn",
          "Алгоритмы",
          "Numpy",
          "Pandas",
          "A/B тесты",
          "Нейронные сети"
         ],
         "legendgroup": "Data Scientist",
         "marker": {
          "color": "#F8A19F",
          "line": {
           "color": "DarkSlateGrey",
           "width": 0.5
          },
          "opacity": 0.7,
          "size": [
           2.0074303405572675,
           10.366563467492252,
           6.55851393188854,
           4.422291021671817,
           0.8928792569659472,
           15.8,
           3.8185758513931827,
           1.0321981424148603,
           5.258204334365326,
           1.775232198142407,
           1.8216718266253882,
           1.1715170278637734,
           0.846439628482966,
           0.846439628482966,
           0.8928792569659472,
           2.8897832817337425,
           12.363467492260064,
           1.5430340557275468,
           0.846439628482966,
           2.843343653250776,
           2.6111455108359163,
           1.9145510835913355,
           0.9857585139318792,
           1.9609907120743015,
           0.846439628482966,
           0.846439628482966,
           1.8216718266253882,
           2.2860681114551085,
           2.936222910216708,
           1.589473684210528,
           5.165325077399379,
           1.4501547987615997,
           1.4965944272445808,
           2.193188854489162,
           0.846439628482966,
           2.193188854489162,
           2.982662538699689,
           0.846439628482966,
           0.8
          ],
          "sizemode": "area",
          "sizeref": 0.0395,
          "symbol": "circle"
         },
         "mode": "markers",
         "name": "Data Scientist",
         "orientation": "v",
         "showlegend": true,
         "type": "scatter",
         "x": [
          2.3541963,
          -1.8034787,
          -1.1382192,
          1.0018588,
          0.6804172,
          -2.8485763,
          -2.0147564,
          1.9449463,
          0.7132438,
          -9.493026,
          -10.0811205,
          2.8069592,
          2.0222838,
          -9.483817,
          2.618913,
          -2.6705348,
          -2.960048,
          -9.580861,
          -5.3893723,
          -5.9830446,
          -5.7253194,
          -9.431202,
          -5.198168,
          -6.7520885,
          -5.717642,
          -6.8071046,
          -3.6619935,
          -2.0189776,
          -3.0280194,
          -3.658935,
          -2.791866,
          -3.2614038,
          -3.2048988,
          -3.3035352,
          -3.907771,
          -3.0238922,
          -3.1155114,
          0.013752021,
          -4.050641
         ],
         "xaxis": "x",
         "y": [
          4.155155,
          0.25212887,
          -1.3914798,
          6.3528886,
          5.130175,
          -5.007139,
          0.3795224,
          6.193103,
          6.667867,
          1.0154213,
          0.7525142,
          1.922136,
          3.0233712,
          1.1946265,
          2.190059,
          -4.200936,
          -6.9472494,
          0.18554576,
          -0.562909,
          -0.99356896,
          -1.3267413,
          -0.394604,
          -1.0259289,
          -1.7994869,
          -0.97785425,
          -0.1862305,
          -6.9518332,
          -8.596292,
          -8.318691,
          -8.773716,
          -7.433746,
          -8.178023,
          -7.9256105,
          -7.267084,
          -7.9166718,
          -6.383897,
          -3.960903,
          8.554733,
          -7.660229
         ],
         "yaxis": "y"
        },
        {
         "customdata": [
          [
           1.6128078817733957,
           "ML инженер"
          ],
          [
           8.263054187192123,
           "ML инженер"
          ],
          [
           6.267980295566502,
           "ML инженер"
          ],
          [
           2.1300492610837347,
           "ML инженер"
          ],
          [
           15.8,
           "ML инженер"
          ],
          [
           3.090640394088658,
           "ML инженер"
          ],
          [
           2.203940886699508,
           "ML инженер"
          ],
          [
           1.5389162561576226,
           "ML инженер"
          ],
          [
           1.0216748768472834,
           "ML инженер"
          ],
          [
           0.8738916256157553,
           "ML инженер"
          ],
          [
           0.8,
           "ML инженер"
          ],
          [
           13.804926108374381,
           "ML инженер"
          ],
          [
           1.3172413793103397,
           "ML инженер"
          ],
          [
           3.312315270935959,
           "ML инженер"
          ],
          [
           3.0167487684729037,
           "ML инженер"
          ],
          [
           2.4256157635467908,
           "ML инженер"
          ],
          [
           2.3517241379310363,
           "ML инженер"
          ],
          [
           3.090640394088658,
           "ML инженер"
          ],
          [
           1.3911330049260948,
           "ML инженер"
          ],
          [
           2.4256157635467908,
           "ML инженер"
          ],
          [
           1.6128078817733957,
           "ML инженер"
          ],
          [
           1.2433497536945843,
           "ML инженер"
          ],
          [
           2.795073891625602,
           "ML инженер"
          ],
          [
           1.0216748768472834,
           "ML инженер"
          ],
          [
           1.5389162561576226,
           "ML инженер"
          ],
          [
           3.607881773399016,
           "ML инженер"
          ],
          [
           1.4650246305418673,
           "ML инженер"
          ],
          [
           1.982266009852207,
           "ML инженер"
          ],
          [
           0.9477832512315281,
           "ML инженер"
          ],
          [
           2.0561576354679794,
           "ML инженер"
          ],
          [
           1.8344827586206789,
           "ML инженер"
          ],
          [
           2.3517241379310363,
           "ML инженер"
          ],
          [
           1.0216748768472834,
           "ML инженер"
          ],
          [
           1.3172413793103397,
           "ML инженер"
          ],
          [
           1.3911330049260948,
           "ML инженер"
          ],
          [
           1.2433497536945843,
           "ML инженер"
          ],
          [
           0.9477832512315281,
           "ML инженер"
          ],
          [
           0.9477832512315281,
           "ML инженер"
          ],
          [
           0.8738916256157553,
           "ML инженер"
          ]
         ],
         "hovertemplate": "<b>%{hovertext}</b><br><br><extra></extra>",
         "hovertext": [
          "Аналитическое мышление",
          "SQL",
          "Английский",
          "Анализ данных",
          "Python",
          "Работа с большим объемом информации",
          "Математическая статистика",
          "Базы данных",
          "Грамотная речь",
          "Работа в команде",
          "Математический анализ",
          "Machine Learning",
          "DWH",
          "PostgreSQL",
          "ETL",
          "Hadoop",
          "Spark",
          "Linux",
          "Kafka",
          "Docker",
          "Java",
          "ClickHouse",
          "Git",
          "Kubernetes",
          "NLP",
          "PyTorch",
          "Computer Vision",
          "Data Science",
          "OpenCV",
          "Tensorflow",
          "Deep Learning",
          "C++",
          "Scikit-learn",
          "Алгоритмы",
          "Numpy",
          "Pandas",
          "Нейронные сети",
          "Adobe Photoshop",
          "Высокая скорость печати"
         ],
         "legendgroup": "ML инженер",
         "marker": {
          "color": "#AA0DFE",
          "line": {
           "color": "DarkSlateGrey",
           "width": 0.5
          },
          "opacity": 0.7,
          "size": [
           1.6128078817733957,
           8.263054187192123,
           6.267980295566502,
           2.1300492610837347,
           15.8,
           3.090640394088658,
           2.203940886699508,
           1.5389162561576226,
           1.0216748768472834,
           0.8738916256157553,
           0.8,
           13.804926108374381,
           1.3172413793103397,
           3.312315270935959,
           3.0167487684729037,
           2.4256157635467908,
           2.3517241379310363,
           3.090640394088658,
           1.3911330049260948,
           2.4256157635467908,
           1.6128078817733957,
           1.2433497536945843,
           2.795073891625602,
           1.0216748768472834,
           1.5389162561576226,
           3.607881773399016,
           1.4650246305418673,
           1.982266009852207,
           0.9477832512315281,
           2.0561576354679794,
           1.8344827586206789,
           2.3517241379310363,
           1.0216748768472834,
           1.3172413793103397,
           1.3911330049260948,
           1.2433497536945843,
           0.9477832512315281,
           0.9477832512315281,
           0.8738916256157553
          ],
          "sizemode": "area",
          "sizeref": 0.0395,
          "symbol": "circle"
         },
         "mode": "markers",
         "name": "ML инженер",
         "orientation": "v",
         "showlegend": true,
         "type": "scatter",
         "x": [
          2.3541963,
          -1.8034787,
          -1.1382192,
          1.0018588,
          -2.8485763,
          -2.0147564,
          0.7132438,
          -10.0811205,
          2.0222838,
          2.618913,
          -2.6705348,
          -2.960048,
          -4.8950844,
          -9.580861,
          -5.3893723,
          -5.9830446,
          -5.7253194,
          -9.431202,
          -6.571614,
          -6.7520885,
          -6.288912,
          -6.8071046,
          -3.6619935,
          -5.6203723,
          -2.0189776,
          -3.0280194,
          -3.658935,
          -2.791866,
          -3.8393512,
          -3.2614038,
          -3.2048988,
          -3.4846616,
          -3.3035352,
          -3.907771,
          -3.0238922,
          -3.1155114,
          -4.050641,
          -3.7669344,
          -3.7838833
         ],
         "xaxis": "x",
         "y": [
          4.155155,
          0.25212887,
          -1.3914798,
          6.3528886,
          -5.007139,
          0.3795224,
          6.667867,
          0.7525142,
          3.0233712,
          2.190059,
          -4.200936,
          -6.9472494,
          -0.2723809,
          0.18554576,
          -0.562909,
          -0.99356896,
          -1.3267413,
          -0.394604,
          -0.5872026,
          -1.7994869,
          -1.6099663,
          -0.1862305,
          -6.9518332,
          -1.4491276,
          -8.596292,
          -8.318691,
          -8.773716,
          -7.433746,
          -8.899007,
          -8.178023,
          -7.9256105,
          -7.8883367,
          -7.267084,
          -7.9166718,
          -6.383897,
          -3.960903,
          -7.660229,
          -3.4220982,
          -3.4932954
         ],
         "yaxis": "y"
        },
        {
         "customdata": [
          [
           2.3517241379310327,
           "Computer Vision"
          ],
          [
           8.558620689655164,
           "Computer Vision"
          ],
          [
           11.662068965517232,
           "Computer Vision"
          ],
          [
           2.868965517241377,
           "Computer Vision"
          ],
          [
           15.8,
           "Computer Vision"
          ],
          [
           1.3172413793103444,
           "Computer Vision"
          ],
          [
           0.8,
           "Computer Vision"
          ],
          [
           1.8344827586206884,
           "Computer Vision"
          ],
          [
           1.8344827586206884,
           "Computer Vision"
          ],
          [
           0.8,
           "Computer Vision"
          ],
          [
           1.3172413793103444,
           "Computer Vision"
          ],
          [
           8.558620689655164,
           "Computer Vision"
          ],
          [
           1.8344827586206884,
           "Computer Vision"
          ],
          [
           0.8,
           "Computer Vision"
          ],
          [
           1.8344827586206884,
           "Computer Vision"
          ],
          [
           1.3172413793103444,
           "Computer Vision"
          ],
          [
           1.8344827586206884,
           "Computer Vision"
          ],
          [
           0.8,
           "Computer Vision"
          ],
          [
           0.8,
           "Computer Vision"
          ],
          [
           4.937931034482754,
           "Computer Vision"
          ],
          [
           8.558620689655164,
           "Computer Vision"
          ],
          [
           11.144827586206887,
           "Computer Vision"
          ],
          [
           3.9034482758620657,
           "Computer Vision"
          ],
          [
           9.07586206896551,
           "Computer Vision"
          ],
          [
           4.42068965517241,
           "Computer Vision"
          ],
          [
           3.3862068965517214,
           "Computer Vision"
          ],
          [
           3.3862068965517214,
           "Computer Vision"
          ],
          [
           2.3517241379310327,
           "Computer Vision"
          ],
          [
           3.3862068965517214,
           "Computer Vision"
          ],
          [
           1.3172413793103444,
           "Computer Vision"
          ],
          [
           1.3172413793103444,
           "Computer Vision"
          ],
          [
           1.8344827586206884,
           "Computer Vision"
          ],
          [
           0.8,
           "Computer Vision"
          ],
          [
           1.8344827586206884,
           "Computer Vision"
          ],
          [
           1.3172413793103444,
           "Computer Vision"
          ],
          [
           0.8,
           "Computer Vision"
          ],
          [
           0.8,
           "Computer Vision"
          ],
          [
           0.8,
           "Computer Vision"
          ],
          [
           0.8,
           "Computer Vision"
          ]
         ],
         "hovertemplate": "<b>%{hovertext}</b><br><br><extra></extra>",
         "hovertext": [
          "Аналитическое мышление",
          "SQL",
          "Английский",
          "Анализ данных",
          "Python",
          "Power BI",
          "MS PowerPoint",
          "Математическая статистика",
          "MS SQL",
          "Аналитические исследования",
          "Математический анализ",
          "Machine Learning",
          "PostgreSQL",
          "Power Query",
          "Hadoop",
          "Spark",
          "Linux",
          "Docker",
          "Hive",
          "Git",
          "PyTorch",
          "Computer Vision",
          "Data Science",
          "OpenCV",
          "Tensorflow",
          "Deep Learning",
          "C++",
          "Scikit-learn",
          "Алгоритмы",
          "Numpy",
          "Линейная алгебра",
          "ООП",
          "A/B тесты",
          "Нейронные сети",
          "Jira",
          "cvm",
          "mindbox",
          "Gitlab",
          "Mobilenet"
         ],
         "legendgroup": "Computer Vision",
         "marker": {
          "color": "#3283FE",
          "line": {
           "color": "DarkSlateGrey",
           "width": 0.5
          },
          "opacity": 0.7,
          "size": [
           2.3517241379310327,
           8.558620689655164,
           11.662068965517232,
           2.868965517241377,
           15.8,
           1.3172413793103444,
           0.8,
           1.8344827586206884,
           1.8344827586206884,
           0.8,
           1.3172413793103444,
           8.558620689655164,
           1.8344827586206884,
           0.8,
           1.8344827586206884,
           1.3172413793103444,
           1.8344827586206884,
           0.8,
           0.8,
           4.937931034482754,
           8.558620689655164,
           11.144827586206887,
           3.9034482758620657,
           9.07586206896551,
           4.42068965517241,
           3.3862068965517214,
           3.3862068965517214,
           2.3517241379310327,
           3.3862068965517214,
           1.3172413793103444,
           1.3172413793103444,
           1.8344827586206884,
           0.8,
           1.8344827586206884,
           1.3172413793103444,
           0.8,
           0.8,
           0.8,
           0.8
          ],
          "sizemode": "area",
          "sizeref": 0.0395,
          "symbol": "circle"
         },
         "mode": "markers",
         "name": "Computer Vision",
         "orientation": "v",
         "showlegend": true,
         "type": "scatter",
         "x": [
          2.3541963,
          -1.8034787,
          -1.1382192,
          1.0018588,
          -2.8485763,
          1.9449463,
          1.7354627,
          0.7132438,
          -9.493026,
          0.5494935,
          -2.6705348,
          -2.960048,
          -9.580861,
          1.8605313,
          -5.9830446,
          -5.7253194,
          -9.431202,
          -6.7520885,
          -5.717642,
          -3.6619935,
          -3.0280194,
          -3.658935,
          -2.791866,
          -3.8393512,
          -3.2614038,
          -3.2048988,
          -3.4846616,
          -3.3035352,
          -3.907771,
          -3.0238922,
          -3.381635,
          -3.961403,
          0.013752021,
          -4.050641,
          -0.18748379,
          -4.4313107,
          -4.431318,
          -9.416548,
          -3.3035586
         ],
         "xaxis": "x",
         "y": [
          4.155155,
          0.25212887,
          -1.3914798,
          6.3528886,
          -5.007139,
          6.193103,
          4.260798,
          6.667867,
          1.0154213,
          6.9890885,
          -4.200936,
          -6.9472494,
          0.18554576,
          4.8482914,
          -0.99356896,
          -1.3267413,
          -0.394604,
          -1.7994869,
          -0.97785425,
          -6.9518332,
          -8.318691,
          -8.773716,
          -7.433746,
          -8.899007,
          -8.178023,
          -7.9256105,
          -7.8883367,
          -7.267084,
          -7.9166718,
          -6.383897,
          -8.781,
          -8.02146,
          8.554733,
          -7.660229,
          -1.2244275,
          -9.450526,
          -9.445331,
          -1.392905,
          -9.088846
         ],
         "yaxis": "y"
        },
        {
         "customdata": [
          [
           5.556097560975612,
           "NLP"
          ],
          [
           10.312195121951227,
           "NLP"
          ],
          [
           1.8975609756097627,
           "NLP"
          ],
          [
           15.8,
           "NLP"
          ],
          [
           0.8,
           "NLP"
          ],
          [
           1.1658536585365877,
           "NLP"
          ],
          [
           1.5317073170731752,
           "NLP"
          ],
          [
           1.1658536585365877,
           "NLP"
          ],
          [
           11.775609756097563,
           "NLP"
          ],
          [
           1.5317073170731752,
           "NLP"
          ],
          [
           1.1658536585365877,
           "NLP"
          ],
          [
           0.8,
           "NLP"
          ],
          [
           1.1658536585365877,
           "NLP"
          ],
          [
           1.8975609756097627,
           "NLP"
          ],
          [
           1.5317073170731752,
           "NLP"
          ],
          [
           1.1658536585365877,
           "NLP"
          ],
          [
           3.726829268292687,
           "NLP"
          ],
          [
           9.214634146341464,
           "NLP"
          ],
          [
           8.4829268292683,
           "NLP"
          ],
          [
           7.385365853658536,
           "NLP"
          ],
          [
           5.190243902439025,
           "NLP"
          ],
          [
           5.190243902439025,
           "NLP"
          ],
          [
           3.726829268292687,
           "NLP"
          ],
          [
           2.995121951219512,
           "NLP"
          ],
          [
           2.6292682926829247,
           "NLP"
          ],
          [
           1.8975609756097627,
           "NLP"
          ],
          [
           1.8975609756097627,
           "NLP"
          ],
          [
           1.5317073170731752,
           "NLP"
          ],
          [
           1.5317073170731752,
           "NLP"
          ],
          [
           1.1658536585365877,
           "NLP"
          ],
          [
           1.1658536585365877,
           "NLP"
          ],
          [
           1.1658536585365877,
           "NLP"
          ],
          [
           1.1658536585365877,
           "NLP"
          ],
          [
           0.8,
           "NLP"
          ],
          [
           0.8,
           "NLP"
          ],
          [
           0.8,
           "NLP"
          ],
          [
           0.8,
           "NLP"
          ],
          [
           0.8,
           "NLP"
          ],
          [
           0.8,
           "NLP"
          ]
         ],
         "hovertemplate": "<b>%{hovertext}</b><br><br><extra></extra>",
         "hovertext": [
          "SQL",
          "Английский",
          "Анализ данных",
          "Python",
          "MS PowerPoint",
          "Математическая статистика",
          "MS SQL",
          "Математический анализ",
          "Machine Learning",
          "PostgreSQL",
          "Scrum",
          "MySQL",
          "Hadoop",
          "Linux",
          "Docker",
          "CI/CD",
          "Git",
          "NLP",
          "PyTorch",
          "Computer Vision",
          "Data Science",
          "OpenCV",
          "Tensorflow",
          "Deep Learning",
          "C++",
          "Scikit-learn",
          "Алгоритмы",
          "Numpy",
          "GPT",
          "Keras",
          "Русский",
          "Линейная алгебра",
          "ООП",
          "Elasticsearch",
          "Stable Diffusion",
          "STL",
          "Bert",
          "StyleGan",
          "LLM"
         ],
         "legendgroup": "NLP",
         "marker": {
          "color": "#1CBE4F",
          "line": {
           "color": "DarkSlateGrey",
           "width": 0.5
          },
          "opacity": 0.7,
          "size": [
           5.556097560975612,
           10.312195121951227,
           1.8975609756097627,
           15.8,
           0.8,
           1.1658536585365877,
           1.5317073170731752,
           1.1658536585365877,
           11.775609756097563,
           1.5317073170731752,
           1.1658536585365877,
           0.8,
           1.1658536585365877,
           1.8975609756097627,
           1.5317073170731752,
           1.1658536585365877,
           3.726829268292687,
           9.214634146341464,
           8.4829268292683,
           7.385365853658536,
           5.190243902439025,
           5.190243902439025,
           3.726829268292687,
           2.995121951219512,
           2.6292682926829247,
           1.8975609756097627,
           1.8975609756097627,
           1.5317073170731752,
           1.5317073170731752,
           1.1658536585365877,
           1.1658536585365877,
           1.1658536585365877,
           1.1658536585365877,
           0.8,
           0.8,
           0.8,
           0.8,
           0.8,
           0.8
          ],
          "sizemode": "area",
          "sizeref": 0.0395,
          "symbol": "circle"
         },
         "mode": "markers",
         "name": "NLP",
         "orientation": "v",
         "showlegend": true,
         "type": "scatter",
         "x": [
          -1.8034787,
          -1.1382192,
          1.0018588,
          -2.8485763,
          1.7354627,
          0.7132438,
          -9.493026,
          -2.6705348,
          -2.960048,
          -9.580861,
          0.08011154,
          -10.358845,
          -5.9830446,
          -9.431202,
          -6.7520885,
          -6.710582,
          -3.6619935,
          -2.0189776,
          -3.0280194,
          -3.658935,
          -2.791866,
          -3.8393512,
          -3.2614038,
          -3.2048988,
          -3.4846616,
          -3.3035352,
          -3.907771,
          -3.0238922,
          -1.8691419,
          -2.7781806,
          -1.4950719,
          -3.381635,
          -3.961403,
          -7.447012,
          -1.8296868,
          -3.3451262,
          -1.8808922,
          -1.8296868,
          -1.9492347
         ],
         "xaxis": "x",
         "y": [
          0.25212887,
          -1.3914798,
          6.3528886,
          -5.007139,
          4.260798,
          6.667867,
          1.0154213,
          -4.200936,
          -6.9472494,
          0.18554576,
          -0.9764248,
          0.70089287,
          -0.99356896,
          -0.394604,
          -1.7994869,
          -1.6130344,
          -6.9518332,
          -8.596292,
          -8.318691,
          -8.773716,
          -7.433746,
          -8.899007,
          -8.178023,
          -7.9256105,
          -7.8883367,
          -7.267084,
          -7.9166718,
          -6.383897,
          -8.8492985,
          -7.455371,
          -8.279776,
          -8.781,
          -8.02146,
          -1.6983204,
          -9.041654,
          -9.280082,
          -9.168943,
          -9.041654,
          -8.354886
         ],
         "yaxis": "y"
        },
        {
         "customdata": [
          [
           1.038726790450929,
           "Инженер данных"
          ],
          [
           15.8,
           "Инженер данных"
          ],
          [
           5.693899204244038,
           "Инженер данных"
          ],
          [
           1.7151193633952366,
           "Инженер данных"
          ],
          [
           15.76021220159152,
           "Инженер данных"
          ],
          [
           4.619628647214865,
           "Инженер данных"
          ],
          [
           1.3570291777188346,
           "Инженер данных"
          ],
          [
           3.1474801061008106,
           "Инженер данных"
          ],
          [
           7.046684350132635,
           "Инженер данных"
          ],
          [
           1.7549071618037164,
           "Инженер данных"
          ],
          [
           1.2376657824933783,
           "Инженер данных"
          ],
          [
           1.8344827586206927,
           "Инженер данных"
          ],
          [
           4.579840848806369,
           "Инженер данных"
          ],
          [
           6.768169761273209,
           "Инженер данных"
          ],
          [
           2.2323607427055743,
           "Инженер данных"
          ],
          [
           0.8397877984084967,
           "Инженер данных"
          ],
          [
           9.274801061007974,
           "Инженер данных"
          ],
          [
           7.245623342175067,
           "Инженер данных"
          ],
          [
           6.131564986737415,
           "Инженер данных"
          ],
          [
           3.744297082228125,
           "Инженер данных"
          ],
          [
           2.033421750663142,
           "Инженер данных"
          ],
          [
           4.34111405835544,
           "Инженер данных"
          ],
          [
           2.908753315649882,
           "Инженер данных"
          ],
          [
           2.7893899204244095,
           "Инженер данных"
          ],
          [
           1.7549071618037164,
           "Инженер данных"
          ],
          [
           2.3915119363395267,
           "Инженер данных"
          ],
          [
           2.2721485411140714,
           "Инженер данных"
          ],
          [
           3.863660477453582,
           "Инженер данных"
          ],
          [
           1.3570291777188346,
           "Инженер данных"
          ],
          [
           2.3915119363395267,
           "Инженер данных"
          ],
          [
           1.4763925729443077,
           "Инженер данных"
          ],
          [
           0.8795755968169764,
           "Инженер данных"
          ],
          [
           0.8,
           "Инженер данных"
          ],
          [
           0.8397877984084967,
           "Инженер данных"
          ],
          [
           0.8795755968169764,
           "Инженер данных"
          ],
          [
           0.8397877984084967,
           "Инженер данных"
          ],
          [
           1.4763925729443077,
           "Инженер данных"
          ],
          [
           1.1183023872679057,
           "Инженер данных"
          ],
          [
           0.8397877984084967,
           "Инженер данных"
          ]
         ],
         "hovertemplate": "<b>%{hovertext}</b><br><br><extra></extra>",
         "hovertext": [
          "Аналитическое мышление",
          "SQL",
          "Английский",
          "Анализ данных",
          "Python",
          "Работа с большим объемом информации",
          "Power BI",
          "MS SQL",
          "Базы данных",
          "Работа с базами данных",
          "BI",
          "Machine Learning",
          "DWH",
          "PostgreSQL",
          "Greenplum",
          "MySQL",
          "ETL",
          "Hadoop",
          "Spark",
          "Linux",
          "ORACLE",
          "Airflow",
          "Kafka",
          "Docker",
          "Hive",
          "SCALA",
          "Java",
          "ClickHouse",
          "CI/CD",
          "Git",
          "Kubernetes",
          "Data Science",
          "Elasticsearch",
          "Pandas",
          "Bash",
          "Oracle Pl/SQL",
          "Хранилище данных",
          "NoSQL",
          "NiFi"
         ],
         "legendgroup": "Инженер данных",
         "marker": {
          "color": "#C4451C",
          "line": {
           "color": "DarkSlateGrey",
           "width": 0.5
          },
          "opacity": 0.7,
          "size": [
           1.038726790450929,
           15.8,
           5.693899204244038,
           1.7151193633952366,
           15.76021220159152,
           4.619628647214865,
           1.3570291777188346,
           3.1474801061008106,
           7.046684350132635,
           1.7549071618037164,
           1.2376657824933783,
           1.8344827586206927,
           4.579840848806369,
           6.768169761273209,
           2.2323607427055743,
           0.8397877984084967,
           9.274801061007974,
           7.245623342175067,
           6.131564986737415,
           3.744297082228125,
           2.033421750663142,
           4.34111405835544,
           2.908753315649882,
           2.7893899204244095,
           1.7549071618037164,
           2.3915119363395267,
           2.2721485411140714,
           3.863660477453582,
           1.3570291777188346,
           2.3915119363395267,
           1.4763925729443077,
           0.8795755968169764,
           0.8,
           0.8397877984084967,
           0.8795755968169764,
           0.8397877984084967,
           1.4763925729443077,
           1.1183023872679057,
           0.8397877984084967
          ],
          "sizemode": "area",
          "sizeref": 0.0395,
          "symbol": "circle"
         },
         "mode": "markers",
         "name": "Инженер данных",
         "orientation": "v",
         "showlegend": true,
         "type": "scatter",
         "x": [
          2.3541963,
          -1.8034787,
          -1.1382192,
          1.0018588,
          -2.8485763,
          -2.0147564,
          1.9449463,
          -9.493026,
          -10.0811205,
          -9.483817,
          2.8682284,
          -2.960048,
          -4.8950844,
          -9.580861,
          -5.5129714,
          -10.358845,
          -5.3893723,
          -5.9830446,
          -5.7253194,
          -9.431202,
          -10.044728,
          -5.198168,
          -6.571614,
          -6.7520885,
          -5.717642,
          -4.9821954,
          -6.288912,
          -6.8071046,
          -6.710582,
          -3.6619935,
          -5.6203723,
          -2.791866,
          -7.447012,
          -3.1155114,
          -9.520984,
          -7.662579,
          -5.2303276,
          -7.568456,
          -4.9975586
         ],
         "xaxis": "x",
         "y": [
          4.155155,
          0.25212887,
          -1.3914798,
          6.3528886,
          -5.007139,
          0.3795224,
          6.193103,
          1.0154213,
          0.7525142,
          1.1946265,
          6.3212714,
          -6.9472494,
          -0.2723809,
          0.18554576,
          -0.20365214,
          0.70089287,
          -0.562909,
          -0.99356896,
          -1.3267413,
          -0.394604,
          0.5042161,
          -1.0259289,
          -0.5872026,
          -1.7994869,
          -0.97785425,
          -1.1274796,
          -1.6099663,
          -0.1862305,
          -1.6130344,
          -6.9518332,
          -1.4491276,
          -7.433746,
          -1.6983204,
          -3.960903,
          -0.61713135,
          -0.067011364,
          -1.4371103,
          -1.0290556,
          -1.2761693
         ],
         "yaxis": "y"
        },
        {
         "customdata": [
          [
           2.735483870967734,
           "Big Data"
          ],
          [
           15.8,
           "Big Data"
          ],
          [
           3.6225806451612854,
           "Big Data"
          ],
          [
           2.8967741935483815,
           "Big Data"
          ],
          [
           9.832258064516134,
           "Big Data"
          ],
          [
           7.8967741935483815,
           "Big Data"
          ],
          [
           1.6870967741935519,
           "Big Data"
          ],
          [
           1.2032258064516097,
           "Big Data"
          ],
          [
           2.8967741935483815,
           "Big Data"
          ],
          [
           0.9612903225806474,
           "Big Data"
          ],
          [
           4.509677419354839,
           "Big Data"
          ],
          [
           1.6064516129032196,
           "Big Data"
          ],
          [
           1.2032258064516097,
           "Big Data"
          ],
          [
           2.9774193548387133,
           "Big Data"
          ],
          [
           1.848387096774199,
           "Big Data"
          ],
          [
           2.0903225806451617,
           "Big Data"
          ],
          [
           1.2838709677419247,
           "Big Data"
          ],
          [
           1.2838709677419247,
           "Big Data"
          ],
          [
           7.090322580645162,
           "Big Data"
          ],
          [
           4.34838709677419,
           "Big Data"
          ],
          [
           1.767741935483867,
           "Big Data"
          ],
          [
           0.8,
           "Big Data"
          ],
          [
           7.735483870967734,
           "Big Data"
          ],
          [
           6.0419354838709625,
           "Big Data"
          ],
          [
           4.187096774193543,
           "Big Data"
          ],
          [
           2.4129032258064567,
           "Big Data"
          ],
          [
           2.2516129032258094,
           "Big Data"
          ],
          [
           2.1709677419354767,
           "Big Data"
          ],
          [
           1.767741935483867,
           "Big Data"
          ],
          [
           1.6064516129032196,
           "Big Data"
          ],
          [
           1.5258064516129046,
           "Big Data"
          ],
          [
           1.4451612903225721,
           "Big Data"
          ],
          [
           1.2838709677419247,
           "Big Data"
          ],
          [
           1.2838709677419247,
           "Big Data"
          ],
          [
           1.1225806451612947,
           "Big Data"
          ],
          [
           1.1225806451612947,
           "Big Data"
          ],
          [
           1.1225806451612947,
           "Big Data"
          ],
          [
           0.880645161290315,
           "Big Data"
          ],
          [
           0.8,
           "Big Data"
          ]
         ],
         "hovertemplate": "<b>%{hovertext}</b><br><br><extra></extra>",
         "hovertext": [
          "Аналитическое мышление",
          "SQL",
          "Английский",
          "Анализ данных",
          "Python",
          "Работа с большим объемом информации",
          "Power BI",
          "Математическая статистика",
          "MS SQL",
          "Бизнес-анализ",
          "Базы данных",
          "Деловая коммуникация",
          "Работа с базами данных",
          "BI",
          "Tableau",
          "Системный анализ",
          "Machine Learning",
          "Управление проектами",
          "DWH",
          "PostgreSQL",
          "Greenplum",
          "UML",
          "ETL",
          "Hadoop",
          "Spark",
          "Linux",
          "ORACLE",
          "Airflow",
          "Kafka",
          "Docker",
          "Hive",
          "SCALA",
          "Java",
          "ClickHouse",
          "Agile",
          "CI/CD",
          "Git",
          "Kubernetes",
          "Teradata"
         ],
         "legendgroup": "Big Data",
         "marker": {
          "color": "#F6222E",
          "line": {
           "color": "DarkSlateGrey",
           "width": 0.5
          },
          "opacity": 0.7,
          "size": [
           2.735483870967734,
           15.8,
           3.6225806451612854,
           2.8967741935483815,
           9.832258064516134,
           7.8967741935483815,
           1.6870967741935519,
           1.2032258064516097,
           2.8967741935483815,
           0.9612903225806474,
           4.509677419354839,
           1.6064516129032196,
           1.2032258064516097,
           2.9774193548387133,
           1.848387096774199,
           2.0903225806451617,
           1.2838709677419247,
           1.2838709677419247,
           7.090322580645162,
           4.34838709677419,
           1.767741935483867,
           0.8,
           7.735483870967734,
           6.0419354838709625,
           4.187096774193543,
           2.4129032258064567,
           2.2516129032258094,
           2.1709677419354767,
           1.767741935483867,
           1.6064516129032196,
           1.5258064516129046,
           1.4451612903225721,
           1.2838709677419247,
           1.2838709677419247,
           1.1225806451612947,
           1.1225806451612947,
           1.1225806451612947,
           0.880645161290315,
           0.8
          ],
          "sizemode": "area",
          "sizeref": 0.0395,
          "symbol": "circle"
         },
         "mode": "markers",
         "name": "Big Data",
         "orientation": "v",
         "showlegend": true,
         "type": "scatter",
         "x": [
          2.3541963,
          -1.8034787,
          -1.1382192,
          1.0018588,
          -2.8485763,
          -2.0147564,
          1.9449463,
          0.7132438,
          -9.493026,
          4.9460664,
          -10.0811205,
          2.8069592,
          -9.483817,
          2.8682284,
          2.0089796,
          6.5483274,
          -2.960048,
          3.6570196,
          -4.8950844,
          -9.580861,
          -5.5129714,
          6.056554,
          -5.3893723,
          -5.9830446,
          -5.7253194,
          -9.431202,
          -10.044728,
          -5.198168,
          -6.571614,
          -6.7520885,
          -5.717642,
          -4.9821954,
          -6.288912,
          -6.8071046,
          4.384786,
          -6.710582,
          -3.6619935,
          -5.6203723,
          -4.748201
         ],
         "xaxis": "x",
         "y": [
          4.155155,
          0.25212887,
          -1.3914798,
          6.3528886,
          -5.007139,
          0.3795224,
          6.193103,
          6.667867,
          1.0154213,
          1.4652041,
          0.7525142,
          1.922136,
          1.1946265,
          6.3212714,
          6.8753066,
          -0.47731364,
          -6.9472494,
          1.2543387,
          -0.2723809,
          0.18554576,
          -0.20365214,
          -0.24406052,
          -0.562909,
          -0.99356896,
          -1.3267413,
          -0.394604,
          0.5042161,
          -1.0259289,
          -0.5872026,
          -1.7994869,
          -0.97785425,
          -1.1274796,
          -1.6099663,
          -0.1862305,
          0.10592617,
          -1.6130344,
          -6.9518332,
          -1.4491276,
          -0.5348009
         ],
         "yaxis": "y"
        },
        {
         "customdata": [
          [
           0.8707547169811385,
           "Администратор баз данных"
          ],
          [
           5.399056603773592,
           "Администратор баз данных"
          ],
          [
           3.6301886792452898,
           "Администратор баз данных"
          ],
          [
           1.5075471698113247,
           "Администратор баз данных"
          ],
          [
           2.710377358490569,
           "Администратор баз данных"
          ],
          [
           1.0830188679245338,
           "Администратор баз данных"
          ],
          [
           8.229245283018873,
           "Администратор баз данных"
          ],
          [
           15.8,
           "Администратор баз данных"
          ],
          [
           1.0830188679245338,
           "Администратор баз данных"
          ],
          [
           1.0830188679245338,
           "Администратор баз данных"
          ],
          [
           3.9132075471698142,
           "Администратор баз данных"
          ],
          [
           0.8,
           "Администратор баз данных"
          ],
          [
           1.2245283018867912,
           "Администратор баз данных"
          ],
          [
           10.564150943396234,
           "Администратор баз данных"
          ],
          [
           2.21509433962264,
           "Администратор баз данных"
          ],
          [
           6.389622641509441,
           "Администратор баз данных"
          ],
          [
           4.55,
           "Администратор баз данных"
          ],
          [
           1.1537735849056623,
           "Администратор баз данных"
          ],
          [
           1.0830188679245338,
           "Администратор баз данных"
          ],
          [
           1.5783018867924534,
           "Администратор баз данных"
          ],
          [
           0.8,
           "Администратор баз данных"
          ],
          [
           3.7009433962264175,
           "Администратор баз данных"
          ],
          [
           1.7905660377358492,
           "Администратор баз данных"
          ],
          [
           1.7198113207547203,
           "Администратор баз данных"
          ],
          [
           1.5783018867924534,
           "Администратор баз данных"
          ],
          [
           1.2952830188679294,
           "Администратор баз данных"
          ],
          [
           1.0830188679245338,
           "Администратор баз данных"
          ],
          [
           1.0122641509433956,
           "Администратор баз данных"
          ],
          [
           0.9415094339622669,
           "Администратор баз данных"
          ],
          [
           0.9415094339622669,
           "Администратор баз данных"
          ],
          [
           0.9415094339622669,
           "Администратор баз данных"
          ],
          [
           0.8707547169811385,
           "Администратор баз данных"
          ],
          [
           0.8707547169811385,
           "Администратор баз данных"
          ],
          [
           0.8707547169811385,
           "Администратор баз данных"
          ],
          [
           0.8707547169811385,
           "Администратор баз данных"
          ],
          [
           0.8,
           "Администратор баз данных"
          ],
          [
           0.8,
           "Администратор баз данных"
          ],
          [
           0.8,
           "Администратор баз данных"
          ],
          [
           0.8,
           "Администратор баз данных"
          ]
         ],
         "hovertemplate": "<b>%{hovertext}</b><br><br><extra></extra>",
         "hovertext": [
          "Аналитическое мышление",
          "SQL",
          "Английский",
          "Python",
          "1С: Предприятие 8",
          "Работа с большим объемом информации",
          "MS SQL",
          "Базы данных",
          "Деловая коммуникация",
          "Работа в условиях многозадачности",
          "Работа с базами данных",
          "Работа в команде",
          "Пользователь ПК",
          "PostgreSQL",
          "MySQL",
          "Linux",
          "ORACLE",
          "Kafka",
          "Docker",
          "ClickHouse",
          "Git",
          "Администрирование",
          "Bash",
          "Zabbix",
          "Unix",
          "MongoDB",
          "Grafana",
          "Ansible",
          "Оптимизация запросов",
          "Информационные технологии",
          "Oracle Pl/SQL",
          "Prometheus",
          "Администрирование серверов",
          "Cassandra",
          "MS Access",
          "Windows Os",
          "Высшее образование",
          "Redis",
          "TCP/IP"
         ],
         "legendgroup": "Администратор баз данных",
         "marker": {
          "color": "#FE00FA",
          "line": {
           "color": "DarkSlateGrey",
           "width": 0.5
          },
          "opacity": 0.7,
          "size": [
           0.8707547169811385,
           5.399056603773592,
           3.6301886792452898,
           1.5075471698113247,
           2.710377358490569,
           1.0830188679245338,
           8.229245283018873,
           15.8,
           1.0830188679245338,
           1.0830188679245338,
           3.9132075471698142,
           0.8,
           1.2245283018867912,
           10.564150943396234,
           2.21509433962264,
           6.389622641509441,
           4.55,
           1.1537735849056623,
           1.0830188679245338,
           1.5783018867924534,
           0.8,
           3.7009433962264175,
           1.7905660377358492,
           1.7198113207547203,
           1.5783018867924534,
           1.2952830188679294,
           1.0830188679245338,
           1.0122641509433956,
           0.9415094339622669,
           0.9415094339622669,
           0.9415094339622669,
           0.8707547169811385,
           0.8707547169811385,
           0.8707547169811385,
           0.8707547169811385,
           0.8,
           0.8,
           0.8,
           0.8
          ],
          "sizemode": "area",
          "sizeref": 0.0395,
          "symbol": "circle"
         },
         "mode": "markers",
         "name": "Администратор баз данных",
         "orientation": "v",
         "showlegend": true,
         "type": "scatter",
         "x": [
          2.3541963,
          -1.8034787,
          -1.1382192,
          -2.8485763,
          3.966865,
          -2.0147564,
          -9.493026,
          -10.0811205,
          2.8069592,
          1.4370893,
          -9.483817,
          2.618913,
          -0.07112544,
          -9.580861,
          -10.358845,
          -9.431202,
          -10.044728,
          -6.571614,
          -6.7520885,
          -6.8071046,
          -3.6619935,
          -11.588651,
          -9.520984,
          -11.058879,
          -11.19229,
          -10.0485115,
          -9.106961,
          -9.32147,
          -11.139938,
          -10.587605,
          -7.662579,
          -10.227571,
          -11.27674,
          -8.78677,
          0.24497522,
          -11.6002245,
          -5.1696887,
          -10.161827,
          -11.158253
         ],
         "xaxis": "x",
         "y": [
          4.155155,
          0.25212887,
          -1.3914798,
          -5.007139,
          1.8824304,
          0.3795224,
          1.0154213,
          0.7525142,
          1.922136,
          2.3234835,
          1.1946265,
          2.190059,
          1.7414805,
          0.18554576,
          0.70089287,
          -0.394604,
          0.5042161,
          -0.5872026,
          -1.7994869,
          -0.1862305,
          -6.9518332,
          0.7658282,
          -0.61713135,
          0.9176836,
          0.4147544,
          -0.45208496,
          0.9545506,
          0.25688738,
          0.8480073,
          -0.9434992,
          -0.067011364,
          0.059200887,
          0.37660742,
          -0.8153459,
          1.867401,
          0.6535028,
          -4.476803,
          0.015396267,
          0.0044534914
         ],
         "yaxis": "y"
        },
        {
         "customdata": [
          [
           8.922119815668202,
           "Аналитик данных"
          ],
          [
           15.8,
           "Аналитик данных"
          ],
          [
           5.949769585253455,
           "Аналитик данных"
          ],
          [
           12.89677419354839,
           "Аналитик данных"
          ],
          [
           1.6986175115207387,
           "Аналитик данных"
          ],
          [
           4.774654377880172,
           "Аналитик данных"
          ],
          [
           12.30921658986175,
           "Аналитик данных"
          ],
          [
           4.670967741935484,
           "Аналитик данных"
          ],
          [
           6.260829493087552,
           "Аналитик данных"
          ],
          [
           1.8714285714285632,
           "Аналитик данных"
          ],
          [
           5.051152073732717,
           "Аналитик данных"
          ],
          [
           1.2493087557603695,
           "Аналитик данных"
          ],
          [
           3.323041474654376,
           "Аналитик данных"
          ],
          [
           1.1456221198156649,
           "Аналитик данных"
          ],
          [
           3.634101382488473,
           "Аналитик данных"
          ],
          [
           0.9728110599078245,
           "Аналитик данных"
          ],
          [
           1.5258064516128982,
           "Аналитик данных"
          ],
          [
           0.9036866359446881,
           "Аналитик данных"
          ],
          [
           0.9382488479262563,
           "Аналитик данных"
          ],
          [
           2.009677419354836,
           "Аналитик данных"
          ],
          [
           0.9036866359446881,
           "Аналитик данных"
          ],
          [
           1.1456221198156649,
           "Аналитик данных"
          ],
          [
           1.0073732718893924,
           "Аналитик данных"
          ],
          [
           1.7677419354838588,
           "Аналитик данных"
          ],
          [
           1.7677419354838588,
           "Аналитик данных"
          ],
          [
           2.2170506912442285,
           "Аналитик данных"
          ],
          [
           0.8,
           "Аналитик данных"
          ],
          [
           1.3875576036866257,
           "Аналитик данных"
          ],
          [
           1.3184331797234896,
           "Аналитик данных"
          ],
          [
           2.320737327188932,
           "Аналитик данных"
          ],
          [
           1.3184331797234896,
           "Аналитик данных"
          ],
          [
           1.4912442396313303,
           "Аналитик данных"
          ],
          [
           0.8691244239631363,
           "Аналитик данных"
          ],
          [
           0.8,
           "Аналитик данных"
          ],
          [
           0.9728110599078245,
           "Аналитик данных"
          ],
          [
           1.2147465437788014,
           "Аналитик данных"
          ],
          [
           1.2838709677419375,
           "Аналитик данных"
          ],
          [
           0.9036866359446881,
           "Аналитик данных"
          ],
          [
           0.8691244239631363,
           "Аналитик данных"
          ]
         ],
         "hovertemplate": "<b>%{hovertext}</b><br><br><extra></extra>",
         "hovertext": [
          "Аналитическое мышление",
          "SQL",
          "Английский",
          "Анализ данных",
          "Анализ рынка",
          "MS Excel",
          "Python",
          "Работа с большим объемом информации",
          "Power BI",
          "MS PowerPoint",
          "Математическая статистика",
          "Моделирование бизнес процессов",
          "MS SQL",
          "Бизнес-анализ",
          "Базы данных",
          "Деловая коммуникация",
          "Аналитические исследования",
          "Грамотная речь",
          "Работа в условиях многозадачности",
          "Работа с базами данных",
          "Маркетинговые исследования",
          "Сбор и анализ информации",
          "Работа в команде",
          "BI",
          "Математический анализ",
          "Tableau",
          "Сводные таблицы",
          "Machine Learning",
          "Визуализация данных",
          "PostgreSQL",
          "ETL",
          "Hadoop",
          "Spark",
          "ORACLE",
          "ClickHouse",
          "Pandas",
          "A/B тесты",
          "Google таблицы",
          "VBA"
         ],
         "legendgroup": "Аналитик данных",
         "marker": {
          "color": "#325A9B",
          "line": {
           "color": "DarkSlateGrey",
           "width": 0.5
          },
          "opacity": 0.7,
          "size": [
           8.922119815668202,
           15.8,
           5.949769585253455,
           12.89677419354839,
           1.6986175115207387,
           4.774654377880172,
           12.30921658986175,
           4.670967741935484,
           6.260829493087552,
           1.8714285714285632,
           5.051152073732717,
           1.2493087557603695,
           3.323041474654376,
           1.1456221198156649,
           3.634101382488473,
           0.9728110599078245,
           1.5258064516128982,
           0.9036866359446881,
           0.9382488479262563,
           2.009677419354836,
           0.9036866359446881,
           1.1456221198156649,
           1.0073732718893924,
           1.7677419354838588,
           1.7677419354838588,
           2.2170506912442285,
           0.8,
           1.3875576036866257,
           1.3184331797234896,
           2.320737327188932,
           1.3184331797234896,
           1.4912442396313303,
           0.8691244239631363,
           0.8,
           0.9728110599078245,
           1.2147465437788014,
           1.2838709677419375,
           0.9036866359446881,
           0.8691244239631363
          ],
          "sizemode": "area",
          "sizeref": 0.0395,
          "symbol": "circle"
         },
         "mode": "markers",
         "name": "Аналитик данных",
         "orientation": "v",
         "showlegend": true,
         "type": "scatter",
         "x": [
          2.3541963,
          -1.8034787,
          -1.1382192,
          1.0018588,
          0.6804172,
          1.3803414,
          -2.8485763,
          -2.0147564,
          1.9449463,
          1.7354627,
          0.7132438,
          5.010776,
          -9.493026,
          4.9460664,
          -10.0811205,
          2.8069592,
          0.5494935,
          2.0222838,
          1.4370893,
          -9.483817,
          0.4564272,
          2.5060394,
          2.618913,
          2.8682284,
          -2.6705348,
          2.0089796,
          0.47420052,
          -2.960048,
          2.1148493,
          -9.580861,
          -5.3893723,
          -5.9830446,
          -5.7253194,
          -10.044728,
          -6.8071046,
          -3.1155114,
          0.013752021,
          1.1733979,
          1.2372847
         ],
         "xaxis": "x",
         "y": [
          4.155155,
          0.25212887,
          -1.3914798,
          6.3528886,
          5.130175,
          4.394638,
          -5.007139,
          0.3795224,
          6.193103,
          4.260798,
          6.667867,
          1.6196822,
          1.0154213,
          1.4652041,
          0.7525142,
          1.922136,
          6.9890885,
          3.0233712,
          2.3234835,
          1.1946265,
          5.2147884,
          3.5447118,
          2.190059,
          6.3212714,
          -4.200936,
          6.8753066,
          4.46582,
          -6.9472494,
          6.5298023,
          0.18554576,
          -0.562909,
          -0.99356896,
          -1.3267413,
          0.5042161,
          -0.1862305,
          -3.960903,
          8.554733,
          4.4397993,
          4.2794685
         ],
         "yaxis": "y"
        },
        {
         "customdata": [
          [
           15.8,
           "Аналитик"
          ],
          [
           12.873732718893992,
           "Аналитик"
          ],
          [
           11.859907834101376,
           "Аналитик"
          ],
          [
           10.892165898617511,
           "Аналитик"
          ],
          [
           9.04884792626728,
           "Аналитик"
          ],
          [
           8.680184331797216,
           "Аналитик"
          ],
          [
           7.343778801843315,
           "Аналитик"
          ],
          [
           7.0211981566820265,
           "Аналитик"
          ],
          [
           6.629493087557603,
           "Аналитик"
          ],
          [
           4.924423963133639,
           "Аналитик"
          ],
          [
           4.647926267281099,
           "Аналитик"
          ],
          [
           4.256221198156675,
           "Аналитик"
          ],
          [
           3.8875576036866404,
           "Аналитик"
          ],
          [
           3.3115207373271707,
           "Аналитик"
          ],
          [
           3.0811059907834055,
           "Аналитик"
          ],
          [
           3.0119815668202703,
           "Аналитик"
          ],
          [
           2.7815668202764767,
           "Аналитик"
          ],
          [
           2.620276497695847,
           "Аналитик"
          ],
          [
           2.5050691244239642,
           "Аналитик"
          ],
          [
           2.2976958525345585,
           "Аналитик"
          ],
          [
           2.1824884792626755,
           "Аналитик"
          ],
          [
           1.836866359447,
           "Аналитик"
          ],
          [
           1.813824884792612,
           "Аналитик"
          ],
          [
           1.5834101382488468,
           "Аналитик"
          ],
          [
           1.5142857142857116,
           "Аналитик"
          ],
          [
           1.5142857142857116,
           "Аналитик"
          ],
          [
           1.4682027649769642,
           "Аналитик"
          ],
          [
           1.4451612903225763,
           "Аналитик"
          ],
          [
           1.4451612903225763,
           "Аналитик"
          ],
          [
           1.4221198156681885,
           "Аналитик"
          ],
          [
           1.1456221198156478,
           "Аналитик"
          ],
          [
           1.0995391705069004,
           "Аналитик"
          ],
          [
           1.053456221198153,
           "Аналитик"
          ],
          [
           1.0304147465437654,
           "Аналитик"
          ],
          [
           0.96129032258063,
           "Аналитик"
          ],
          [
           0.9382488479262703,
           "Аналитик"
          ],
          [
           0.9152073732718825,
           "Аналитик"
          ],
          [
           0.8,
           "Аналитик"
          ],
          [
           0.8,
           "Аналитик"
          ]
         ],
         "hovertemplate": "<b>%{hovertext}</b><br><br><extra></extra>",
         "hovertext": [
          "Аналитическое мышление",
          "SQL",
          "Английский",
          "Анализ данных",
          "Анализ рынка",
          "MS Excel",
          "Python",
          "1С: Предприятие 8",
          "Работа с большим объемом информации",
          "Power BI",
          "MS PowerPoint",
          "Математическая статистика",
          "Моделирование бизнес процессов",
          "Финансовый анализ",
          "MS SQL",
          "Бизнес-анализ",
          "Базы данных",
          "Деловая коммуникация",
          "Аналитические исследования",
          "Грамотная речь",
          "Работа в условиях многозадачности",
          "Работа с базами данных",
          "Маркетинговые исследования",
          "Сбор и анализ информации",
          "Работа в команде",
          "BI",
          "Разработка технических заданий",
          "Пользователь ПК",
          "Прогнозирование",
          "Подготовка презентаций",
          "Математический анализ",
          "Бюджетирование",
          "Конкурентная аналитика",
          "Tableau",
          "Системный анализ",
          "Сводные таблицы",
          "BPMN",
          "Machine Learning",
          "Управление проектами"
         ],
         "legendgroup": "Аналитик",
         "marker": {
          "color": "#FEAF16",
          "line": {
           "color": "DarkSlateGrey",
           "width": 0.5
          },
          "opacity": 0.7,
          "size": [
           15.8,
           12.873732718893992,
           11.859907834101376,
           10.892165898617511,
           9.04884792626728,
           8.680184331797216,
           7.343778801843315,
           7.0211981566820265,
           6.629493087557603,
           4.924423963133639,
           4.647926267281099,
           4.256221198156675,
           3.8875576036866404,
           3.3115207373271707,
           3.0811059907834055,
           3.0119815668202703,
           2.7815668202764767,
           2.620276497695847,
           2.5050691244239642,
           2.2976958525345585,
           2.1824884792626755,
           1.836866359447,
           1.813824884792612,
           1.5834101382488468,
           1.5142857142857116,
           1.5142857142857116,
           1.4682027649769642,
           1.4451612903225763,
           1.4451612903225763,
           1.4221198156681885,
           1.1456221198156478,
           1.0995391705069004,
           1.053456221198153,
           1.0304147465437654,
           0.96129032258063,
           0.9382488479262703,
           0.9152073732718825,
           0.8,
           0.8
          ],
          "sizemode": "area",
          "sizeref": 0.0395,
          "symbol": "circle"
         },
         "mode": "markers",
         "name": "Аналитик",
         "orientation": "v",
         "showlegend": true,
         "type": "scatter",
         "x": [
          2.3541963,
          -1.8034787,
          -1.1382192,
          1.0018588,
          0.6804172,
          1.3803414,
          -2.8485763,
          3.966865,
          -2.0147564,
          1.9449463,
          1.7354627,
          0.7132438,
          5.010776,
          0.12199009,
          -9.493026,
          4.9460664,
          -10.0811205,
          2.8069592,
          0.5494935,
          2.0222838,
          1.4370893,
          -9.483817,
          0.4564272,
          2.5060394,
          2.618913,
          2.8682284,
          5.4710636,
          -0.07112544,
          0.9752865,
          1.8691812,
          -2.6705348,
          0.17191291,
          -0.030213999,
          2.0089796,
          6.5483274,
          0.47420052,
          6.13993,
          -2.960048,
          3.6570196
         ],
         "xaxis": "x",
         "y": [
          4.155155,
          0.25212887,
          -1.3914798,
          6.3528886,
          5.130175,
          4.394638,
          -5.007139,
          1.8824304,
          0.3795224,
          6.193103,
          4.260798,
          6.667867,
          1.6196822,
          4.5498395,
          1.0154213,
          1.4652041,
          0.7525142,
          1.922136,
          6.9890885,
          3.0233712,
          2.3234835,
          1.1946265,
          5.2147884,
          3.5447118,
          2.190059,
          6.3212714,
          0.29245022,
          1.7414805,
          5.099741,
          3.8716118,
          -4.200936,
          4.255837,
          7.158867,
          6.8753066,
          -0.47731364,
          4.46582,
          0.35818473,
          -6.9472494,
          1.2543387
         ],
         "yaxis": "y"
        },
        {
         "customdata": [
          [
           11.866176470588234,
           "Бизнес-аналитик"
          ],
          [
           6.094117647058817,
           "Бизнес-аналитик"
          ],
          [
           8.557352941176475,
           "Бизнес-аналитик"
          ],
          [
           3.005882352941182,
           "Бизнес-аналитик"
          ],
          [
           1.241176470588227,
           "Бизнес-аналитик"
          ],
          [
           3.777941176470585,
           "Бизнес-аналитик"
          ],
          [
           1.1308823529411762,
           "Бизнес-аналитик"
          ],
          [
           9.43970588235293,
           "Бизнес-аналитик"
          ],
          [
           2.123529411764704,
           "Бизнес-аналитик"
          ],
          [
           1.645588235294127,
           "Бизнес-аналитик"
          ],
          [
           2.2338235294117554,
           "Бизнес-аналитик"
          ],
          [
           13.814705882352943,
           "Бизнес-аналитик"
          ],
          [
           1.1308823529411762,
           "Бизнес-аналитик"
          ],
          [
           15.8,
           "Бизнес-аналитик"
          ],
          [
           5.432352941176465,
           "Бизнес-аналитик"
          ],
          [
           1.5352941176470531,
           "Бизнес-аналитик"
          ],
          [
           1.7191176470588276,
           "Бизнес-аналитик"
          ],
          [
           1.5720588235294033,
           "Бизнес-аналитик"
          ],
          [
           2.197058823529405,
           "Бизнес-аналитик"
          ],
          [
           5.469117647058815,
           "Бизнес-аналитик"
          ],
          [
           0.8367647058823504,
           "Бизнес-аналитик"
          ],
          [
           2.160294117647055,
           "Бизнес-аналитик"
          ],
          [
           9.770588235294106,
           "Бизнес-аналитик"
          ],
          [
           3.4470588235294084,
           "Бизнес-аналитик"
          ],
          [
           0.8367647058823504,
           "Бизнес-аналитик"
          ],
          [
           0.8,
           "Бизнес-аналитик"
          ],
          [
           4.513235294117638,
           "Бизнес-аналитик"
          ],
          [
           3.594117647058833,
           "Бизнес-аналитик"
          ],
          [
           2.307352941176479,
           "Бизнес-аналитик"
          ],
          [
           1.9029411764705795,
           "Бизнес-аналитик"
          ],
          [
           1.9029411764705795,
           "Бизнес-аналитик"
          ],
          [
           2.160294117647055,
           "Бизнес-аналитик"
          ],
          [
           1.7191176470588276,
           "Бизнес-аналитик"
          ],
          [
           1.0941176470588259,
           "Бизнес-аналитик"
          ],
          [
           1.0573529411764755,
           "Бизнес-аналитик"
          ],
          [
           1.3514705882353013,
           "Бизнес-аналитик"
          ],
          [
           1.9029411764705795,
           "Бизнес-аналитик"
          ],
          [
           1.0941176470588259,
           "Бизнес-аналитик"
          ],
          [
           1.0573529411764755,
           "Бизнес-аналитик"
          ]
         ],
         "hovertemplate": "<b>%{hovertext}</b><br><br><extra></extra>",
         "hovertext": [
          "Аналитическое мышление",
          "SQL",
          "Английский",
          "Анализ данных",
          "Анализ рынка",
          "MS Excel",
          "Python",
          "1С: Предприятие 8",
          "Работа с большим объемом информации",
          "Power BI",
          "MS PowerPoint",
          "Моделирование бизнес процессов",
          "MS SQL",
          "Бизнес-анализ",
          "Деловая коммуникация",
          "Грамотная речь",
          "Работа в условиях многозадачности",
          "Сбор и анализ информации",
          "Работа в команде",
          "Разработка технических заданий",
          "Подготовка презентаций",
          "Системный анализ",
          "BPMN",
          "Управление проектами",
          "SAP",
          "REST",
          "UML",
          "MS Visio",
          "Системное мышление",
          "Agile",
          "Постановка задач разработчикам",
          "Atlassian Jira",
          "Atlassian Confluence",
          "Техническая документация",
          "ERP",
          "IDEF",
          "Автоматизация процессов",
          "EPC",
          "CRM"
         ],
         "legendgroup": "Бизнес-аналитик",
         "marker": {
          "color": "#90AD1C",
          "line": {
           "color": "DarkSlateGrey",
           "width": 0.5
          },
          "opacity": 0.7,
          "size": [
           11.866176470588234,
           6.094117647058817,
           8.557352941176475,
           3.005882352941182,
           1.241176470588227,
           3.777941176470585,
           1.1308823529411762,
           9.43970588235293,
           2.123529411764704,
           1.645588235294127,
           2.2338235294117554,
           13.814705882352943,
           1.1308823529411762,
           15.8,
           5.432352941176465,
           1.5352941176470531,
           1.7191176470588276,
           1.5720588235294033,
           2.197058823529405,
           5.469117647058815,
           0.8367647058823504,
           2.160294117647055,
           9.770588235294106,
           3.4470588235294084,
           0.8367647058823504,
           0.8,
           4.513235294117638,
           3.594117647058833,
           2.307352941176479,
           1.9029411764705795,
           1.9029411764705795,
           2.160294117647055,
           1.7191176470588276,
           1.0941176470588259,
           1.0573529411764755,
           1.3514705882353013,
           1.9029411764705795,
           1.0941176470588259,
           1.0573529411764755
          ],
          "sizemode": "area",
          "sizeref": 0.0395,
          "symbol": "circle"
         },
         "mode": "markers",
         "name": "Бизнес-аналитик",
         "orientation": "v",
         "showlegend": true,
         "type": "scatter",
         "x": [
          2.3541963,
          -1.8034787,
          -1.1382192,
          1.0018588,
          0.6804172,
          1.3803414,
          -2.8485763,
          3.966865,
          -2.0147564,
          1.9449463,
          1.7354627,
          5.010776,
          -9.493026,
          4.9460664,
          2.8069592,
          2.0222838,
          1.4370893,
          2.5060394,
          2.618913,
          5.4710636,
          1.8691812,
          6.5483274,
          6.13993,
          3.6570196,
          2.597641,
          6.36536,
          6.056554,
          5.192597,
          4.744864,
          4.384786,
          5.9513397,
          5.0789633,
          5.2998095,
          4.922906,
          5.7105837,
          5.847172,
          4.5577784,
          5.791407,
          3.3630297
         ],
         "xaxis": "x",
         "y": [
          4.155155,
          0.25212887,
          -1.3914798,
          6.3528886,
          5.130175,
          4.394638,
          -5.007139,
          1.8824304,
          0.3795224,
          6.193103,
          4.260798,
          1.6196822,
          1.0154213,
          1.4652041,
          1.922136,
          3.0233712,
          2.3234835,
          3.5447118,
          2.190059,
          0.29245022,
          3.8716118,
          -0.47731364,
          0.35818473,
          1.2543387,
          5.2315574,
          -0.78711724,
          -0.24406052,
          1.1303774,
          0.74,
          0.10592617,
          -0.059739184,
          -0.21238971,
          0.015379869,
          0.2640276,
          0.6209351,
          0.9677551,
          1.798096,
          1.9159839,
          1.3073264
         ],
         "yaxis": "y"
        },
        {
         "customdata": [
          [
           10.657142857142857,
           "Продуктовый аналитик"
          ],
          [
           15.8,
           "Продуктовый аналитик"
          ],
          [
           4.442857142857147,
           "Продуктовый аналитик"
          ],
          [
           12.157142857142857,
           "Продуктовый аналитик"
          ],
          [
           2.299999999999997,
           "Продуктовый аналитик"
          ],
          [
           1.4428571428571373,
           "Продуктовый аналитик"
          ],
          [
           12.585714285714285,
           "Продуктовый аналитик"
          ],
          [
           2.08571428571429,
           "Продуктовый аналитик"
          ],
          [
           5.514285714285714,
           "Продуктовый аналитик"
          ],
          [
           7.228571428571434,
           "Продуктовый аналитик"
          ],
          [
           1.0142857142857076,
           "Продуктовый аналитик"
          ],
          [
           2.942857142857135,
           "Продуктовый аналитик"
          ],
          [
           1.22857142857143,
           "Продуктовый аналитик"
          ],
          [
           1.8714285714285672,
           "Продуктовый аналитик"
          ],
          [
           3.7999999999999936,
           "Продуктовый аналитик"
          ],
          [
           1.4428571428571373,
           "Продуктовый аналитик"
          ],
          [
           1.4428571428571373,
           "Продуктовый аналитик"
          ],
          [
           1.8714285714285672,
           "Продуктовый аналитик"
          ],
          [
           0.8,
           "Продуктовый аналитик"
          ],
          [
           1.22857142857143,
           "Продуктовый аналитик"
          ],
          [
           1.65714285714286,
           "Продуктовый аналитик"
          ],
          [
           4.871428571428576,
           "Продуктовый аналитик"
          ],
          [
           1.65714285714286,
           "Продуктовый аналитик"
          ],
          [
           1.22857142857143,
           "Продуктовый аналитик"
          ],
          [
           1.8714285714285672,
           "Продуктовый аналитик"
          ],
          [
           1.8714285714285672,
           "Продуктовый аналитик"
          ],
          [
           1.22857142857143,
           "Продуктовый аналитик"
          ],
          [
           1.22857142857143,
           "Продуктовый аналитик"
          ],
          [
           7.228571428571434,
           "Продуктовый аналитик"
          ],
          [
           3.371428571428565,
           "Продуктовый аналитик"
          ],
          [
           1.8714285714285672,
           "Продуктовый аналитик"
          ],
          [
           1.8714285714285672,
           "Продуктовый аналитик"
          ],
          [
           1.4428571428571373,
           "Продуктовый аналитик"
          ],
          [
           1.22857142857143,
           "Продуктовый аналитик"
          ],
          [
           1.22857142857143,
           "Продуктовый аналитик"
          ],
          [
           1.22857142857143,
           "Продуктовый аналитик"
          ],
          [
           1.0142857142857076,
           "Продуктовый аналитик"
          ],
          [
           1.0142857142857076,
           "Продуктовый аналитик"
          ],
          [
           0.8,
           "Продуктовый аналитик"
          ]
         ],
         "hovertemplate": "<b>%{hovertext}</b><br><br><extra></extra>",
         "hovertext": [
          "Аналитическое мышление",
          "SQL",
          "Английский",
          "Анализ данных",
          "Анализ рынка",
          "MS Excel",
          "Python",
          "Работа с большим объемом информации",
          "Power BI",
          "Математическая статистика",
          "Моделирование бизнес процессов",
          "MS SQL",
          "Бизнес-анализ",
          "Базы данных",
          "Аналитические исследования",
          "Работа с базами данных",
          "Сбор и анализ информации",
          "BI",
          "Разработка технических заданий",
          "Математический анализ",
          "Конкурентная аналитика",
          "Tableau",
          "Machine Learning",
          "Визуализация данных",
          "PostgreSQL",
          "ETL",
          "Hadoop",
          "ClickHouse",
          "A/B тесты",
          "Продуктовая аналитика",
          "Управление продуктом",
          "Google Analytics",
          "Проведение презентаций",
          "Firebase",
          "Яндекс.Метрика",
          "R",
          "Amplitude",
          "Appsflyer",
          "SaaS"
         ],
         "legendgroup": "Продуктовый аналитик",
         "marker": {
          "color": "#2ED9FF",
          "line": {
           "color": "DarkSlateGrey",
           "width": 0.5
          },
          "opacity": 0.7,
          "size": [
           10.657142857142857,
           15.8,
           4.442857142857147,
           12.157142857142857,
           2.299999999999997,
           1.4428571428571373,
           12.585714285714285,
           2.08571428571429,
           5.514285714285714,
           7.228571428571434,
           1.0142857142857076,
           2.942857142857135,
           1.22857142857143,
           1.8714285714285672,
           3.7999999999999936,
           1.4428571428571373,
           1.4428571428571373,
           1.8714285714285672,
           0.8,
           1.22857142857143,
           1.65714285714286,
           4.871428571428576,
           1.65714285714286,
           1.22857142857143,
           1.8714285714285672,
           1.8714285714285672,
           1.22857142857143,
           1.22857142857143,
           7.228571428571434,
           3.371428571428565,
           1.8714285714285672,
           1.8714285714285672,
           1.4428571428571373,
           1.22857142857143,
           1.22857142857143,
           1.22857142857143,
           1.0142857142857076,
           1.0142857142857076,
           0.8
          ],
          "sizemode": "area",
          "sizeref": 0.0395,
          "symbol": "circle"
         },
         "mode": "markers",
         "name": "Продуктовый аналитик",
         "orientation": "v",
         "showlegend": true,
         "type": "scatter",
         "x": [
          2.3541963,
          -1.8034787,
          -1.1382192,
          1.0018588,
          0.6804172,
          1.3803414,
          -2.8485763,
          -2.0147564,
          1.9449463,
          0.7132438,
          5.010776,
          -9.493026,
          4.9460664,
          -10.0811205,
          0.5494935,
          -9.483817,
          2.5060394,
          2.8682284,
          5.4710636,
          -2.6705348,
          -0.030213999,
          2.0089796,
          -2.960048,
          2.1148493,
          -9.580861,
          -5.3893723,
          -5.9830446,
          -6.8071046,
          0.013752021,
          0.08885151,
          -0.16476826,
          0.19370711,
          -0.02110156,
          0.057012014,
          0.07201238,
          0.3417872,
          0.7160457,
          0.122618824,
          0.28280747
         ],
         "xaxis": "x",
         "y": [
          4.155155,
          0.25212887,
          -1.3914798,
          6.3528886,
          5.130175,
          4.394638,
          -5.007139,
          0.3795224,
          6.193103,
          6.667867,
          1.6196822,
          1.0154213,
          1.4652041,
          0.7525142,
          6.9890885,
          1.1946265,
          3.5447118,
          6.3212714,
          0.29245022,
          -4.200936,
          7.158867,
          6.8753066,
          -6.9472494,
          6.5298023,
          0.18554576,
          -0.562909,
          -0.99356896,
          -0.1862305,
          8.554733,
          9.08139,
          8.456427,
          8.215248,
          7.342452,
          9.133667,
          7.9796095,
          7.8079925,
          8.452917,
          8.969278,
          8.803643
         ],
         "yaxis": "y"
        },
        {
         "customdata": [
          [
           10.44285714285715,
           "Аналитик BI"
          ],
          [
           15.8,
           "Аналитик BI"
          ],
          [
           8.300000000000008,
           "Аналитик BI"
          ],
          [
           7.2285714285714295,
           "Аналитик BI"
          ],
          [
           1.5142857142857093,
           "Аналитик BI"
          ],
          [
           2.942857142857143,
           "Аналитик BI"
          ],
          [
           4.371428571428576,
           "Аналитик BI"
          ],
          [
           4.371428571428576,
           "Аналитик BI"
          ],
          [
           9.01428571428572,
           "Аналитик BI"
          ],
          [
           2.5857142857142885,
           "Аналитик BI"
          ],
          [
           2.5857142857142885,
           "Аналитик BI"
          ],
          [
           2.228571428571434,
           "Аналитик BI"
          ],
          [
           1.8714285714285643,
           "Аналитик BI"
          ],
          [
           4.371428571428576,
           "Аналитик BI"
          ],
          [
           1.1571428571428548,
           "Аналитик BI"
          ],
          [
           1.1571428571428548,
           "Аналитик BI"
          ],
          [
           1.1571428571428548,
           "Аналитик BI"
          ],
          [
           8.657142857142864,
           "Аналитик BI"
          ],
          [
           1.1571428571428548,
           "Аналитик BI"
          ],
          [
           5.799999999999995,
           "Аналитик BI"
          ],
          [
           3.299999999999998,
           "Аналитик BI"
          ],
          [
           2.5857142857142885,
           "Аналитик BI"
          ],
          [
           1.8714285714285643,
           "Аналитик BI"
          ],
          [
           1.5142857142857093,
           "Аналитик BI"
          ],
          [
           1.5142857142857093,
           "Аналитик BI"
          ],
          [
           1.1571428571428548,
           "Аналитик BI"
          ],
          [
           1.1571428571428548,
           "Аналитик BI"
          ],
          [
           1.1571428571428548,
           "Аналитик BI"
          ],
          [
           1.1571428571428548,
           "Аналитик BI"
          ],
          [
           1.1571428571428548,
           "Аналитик BI"
          ],
          [
           1.1571428571428548,
           "Аналитик BI"
          ],
          [
           0.8,
           "Аналитик BI"
          ],
          [
           0.8,
           "Аналитик BI"
          ],
          [
           0.8,
           "Аналитик BI"
          ],
          [
           0.8,
           "Аналитик BI"
          ],
          [
           0.8,
           "Аналитик BI"
          ],
          [
           0.8,
           "Аналитик BI"
          ],
          [
           0.8,
           "Аналитик BI"
          ],
          [
           0.8,
           "Аналитик BI"
          ]
         ],
         "hovertemplate": "<b>%{hovertext}</b><br><br><extra></extra>",
         "hovertext": [
          "Аналитическое мышление",
          "SQL",
          "Английский",
          "Анализ данных",
          "Анализ рынка",
          "MS Excel",
          "Python",
          "Работа с большим объемом информации",
          "Power BI",
          "MS PowerPoint",
          "Математическая статистика",
          "MS SQL",
          "Бизнес-анализ",
          "Базы данных",
          "Деловая коммуникация",
          "Аналитические исследования",
          "Работа в условиях многозадачности",
          "BI",
          "Подготовка презентаций",
          "Tableau",
          "Qlik Sense",
          "DWH",
          "Визуализация данных",
          "OLAP",
          "SAP",
          "PostgreSQL",
          "REST",
          "Отчетность",
          "Greenplum",
          "UML",
          "XML",
          "SOAP",
          "Power Query",
          "Scrum",
          "MySQL",
          "MS Visio",
          "Системное мышление",
          "Apache NiFi",
          "MS Power Builder"
         ],
         "legendgroup": "Аналитик BI",
         "marker": {
          "color": "#B10DA1",
          "line": {
           "color": "DarkSlateGrey",
           "width": 0.5
          },
          "opacity": 0.7,
          "size": [
           10.44285714285715,
           15.8,
           8.300000000000008,
           7.2285714285714295,
           1.5142857142857093,
           2.942857142857143,
           4.371428571428576,
           4.371428571428576,
           9.01428571428572,
           2.5857142857142885,
           2.5857142857142885,
           2.228571428571434,
           1.8714285714285643,
           4.371428571428576,
           1.1571428571428548,
           1.1571428571428548,
           1.1571428571428548,
           8.657142857142864,
           1.1571428571428548,
           5.799999999999995,
           3.299999999999998,
           2.5857142857142885,
           1.8714285714285643,
           1.5142857142857093,
           1.5142857142857093,
           1.1571428571428548,
           1.1571428571428548,
           1.1571428571428548,
           1.1571428571428548,
           1.1571428571428548,
           1.1571428571428548,
           0.8,
           0.8,
           0.8,
           0.8,
           0.8,
           0.8,
           0.8,
           0.8
          ],
          "sizemode": "area",
          "sizeref": 0.0395,
          "symbol": "circle"
         },
         "mode": "markers",
         "name": "Аналитик BI",
         "orientation": "v",
         "showlegend": true,
         "type": "scatter",
         "x": [
          2.3541963,
          -1.8034787,
          -1.1382192,
          1.0018588,
          0.6804172,
          1.3803414,
          -2.8485763,
          -2.0147564,
          1.9449463,
          1.7354627,
          0.7132438,
          -9.493026,
          4.9460664,
          -10.0811205,
          2.8069592,
          0.5494935,
          1.4370893,
          2.8682284,
          1.8691812,
          2.0089796,
          3.0925562,
          -4.8950844,
          2.1148493,
          -1.6473596,
          2.597641,
          -9.580861,
          6.36536,
          3.1666465,
          -5.5129714,
          6.056554,
          6.0040455,
          6.40379,
          1.8605313,
          0.08011154,
          -10.358845,
          5.192597,
          4.744864,
          -4.066441,
          3.4056034
         ],
         "xaxis": "x",
         "y": [
          4.155155,
          0.25212887,
          -1.3914798,
          6.3528886,
          5.130175,
          4.394638,
          -5.007139,
          0.3795224,
          6.193103,
          4.260798,
          6.667867,
          1.0154213,
          1.4652041,
          0.7525142,
          1.922136,
          6.9890885,
          2.3234835,
          6.3212714,
          3.8716118,
          6.8753066,
          6.5084567,
          -0.2723809,
          6.5298023,
          0.0068491246,
          5.2315574,
          0.18554576,
          -0.78711724,
          6.38227,
          -0.20365214,
          -0.24406052,
          -0.9528796,
          -1.0241598,
          4.8482914,
          -0.9764248,
          0.70089287,
          1.1303774,
          0.74,
          0.074075274,
          6.6355042
         ],
         "yaxis": "y"
        },
        {
         "customdata": [
          [
           6.350660792951542,
           "Системный аналитик"
          ],
          [
           15.8,
           "Системный аналитик"
          ],
          [
           4.434361233480168,
           "Системный аналитик"
          ],
          [
           1.3947136563876508,
           "Системный аналитик"
          ],
          [
           1.0643171806167246,
           "Системный аналитик"
          ],
          [
           2.91453744493392,
           "Системный аналитик"
          ],
          [
           1.1964757709251073,
           "Системный аналитик"
          ],
          [
           3.707488986784134,
           "Системный аналитик"
          ],
          [
           2.0555066079295035,
           "Системный аналитик"
          ],
          [
           4.632599118942732,
           "Системный аналитик"
          ],
          [
           3.707488986784134,
           "Системный аналитик"
          ],
          [
           0.9321585903083623,
           "Системный аналитик"
          ],
          [
           0.8,
           "Системный аналитик"
          ],
          [
           0.9982378854625436,
           "Системный аналитик"
          ],
          [
           6.945374449339194,
           "Системный аналитик"
          ],
          [
           12.760352422907484,
           "Системный аналитик"
          ],
          [
           12.165638766519834,
           "Системный аналитик"
          ],
          [
           0.9321585903083623,
           "Системный аналитик"
          ],
          [
           1.3286343612334697,
           "Системный аналитик"
          ],
          [
           1.7911894273127582,
           "Системный аналитик"
          ],
          [
           6.945374449339194,
           "Системный аналитик"
          ],
          [
           10.711894273127744,
           "Системный аналитик"
          ],
          [
           4.236123348017625,
           "Системный аналитик"
          ],
          [
           3.971806167400879,
           "Системный аналитик"
          ],
          [
           1.592951541850215,
           "Системный аналитик"
          ],
          [
           2.0555066079295035,
           "Системный аналитик"
          ],
          [
           1.3947136563876508,
           "Системный аналитик"
          ],
          [
           0.8660792951541814,
           "Системный аналитик"
          ],
          [
           1.725110132158577,
           "Системный аналитик"
          ],
          [
           3.971806167400879,
           "Системный аналитик"
          ],
          [
           3.5753303964757723,
           "Системный аналитик"
          ],
          [
           3.3110132158590266,
           "Системный аналитик"
          ],
          [
           2.518061674008812,
           "Системный аналитик"
          ],
          [
           2.3859030837004296,
           "Системный аналитик"
          ],
          [
           1.592951541850215,
           "Системный аналитик"
          ],
          [
           1.1303964757709264,
           "Системный аналитик"
          ],
          [
           0.9321585903083623,
           "Системный аналитик"
          ],
          [
           0.8,
           "Системный аналитик"
          ],
          [
           0.8,
           "Системный аналитик"
          ]
         ],
         "hovertemplate": "<b>%{hovertext}</b><br><br><extra></extra>",
         "hovertext": [
          "Аналитическое мышление",
          "SQL",
          "Английский",
          "Анализ данных",
          "Python",
          "1С: Предприятие 8",
          "Работа с большим объемом информации",
          "Моделирование бизнес процессов",
          "MS SQL",
          "Бизнес-анализ",
          "Базы данных",
          "Деловая коммуникация",
          "Сбор и анализ информации",
          "Работа в команде",
          "Разработка технических заданий",
          "Системный анализ",
          "BPMN",
          "Управление проектами",
          "DWH",
          "PostgreSQL",
          "REST",
          "UML",
          "XML",
          "SOAP",
          "MS Visio",
          "Системное мышление",
          "ETL",
          "ORACLE",
          "Agile",
          "Постановка задач разработчикам",
          "JSON API",
          "Atlassian Jira",
          "API",
          "Atlassian Confluence",
          "Техническая документация",
          "ERP",
          "IDEF",
          "Use Case Analysis",
          "Системная интеграция"
         ],
         "legendgroup": "Системный аналитик",
         "marker": {
          "color": "#909090",
          "line": {
           "color": "DarkSlateGrey",
           "width": 0.5
          },
          "opacity": 0.7,
          "size": [
           6.350660792951542,
           15.8,
           4.434361233480168,
           1.3947136563876508,
           1.0643171806167246,
           2.91453744493392,
           1.1964757709251073,
           3.707488986784134,
           2.0555066079295035,
           4.632599118942732,
           3.707488986784134,
           0.9321585903083623,
           0.8,
           0.9982378854625436,
           6.945374449339194,
           12.760352422907484,
           12.165638766519834,
           0.9321585903083623,
           1.3286343612334697,
           1.7911894273127582,
           6.945374449339194,
           10.711894273127744,
           4.236123348017625,
           3.971806167400879,
           1.592951541850215,
           2.0555066079295035,
           1.3947136563876508,
           0.8660792951541814,
           1.725110132158577,
           3.971806167400879,
           3.5753303964757723,
           3.3110132158590266,
           2.518061674008812,
           2.3859030837004296,
           1.592951541850215,
           1.1303964757709264,
           0.9321585903083623,
           0.8,
           0.8
          ],
          "sizemode": "area",
          "sizeref": 0.0395,
          "symbol": "circle"
         },
         "mode": "markers",
         "name": "Системный аналитик",
         "orientation": "v",
         "showlegend": true,
         "type": "scatter",
         "x": [
          2.3541963,
          -1.8034787,
          -1.1382192,
          1.0018588,
          -2.8485763,
          3.966865,
          -2.0147564,
          5.010776,
          -9.493026,
          4.9460664,
          -10.0811205,
          2.8069592,
          2.5060394,
          2.618913,
          5.4710636,
          6.5483274,
          6.13993,
          3.6570196,
          -4.8950844,
          -9.580861,
          6.36536,
          6.056554,
          6.0040455,
          6.40379,
          5.192597,
          4.744864,
          -5.3893723,
          -10.044728,
          4.384786,
          5.9513397,
          6.02941,
          5.0789633,
          6.940761,
          5.2998095,
          4.922906,
          5.7105837,
          5.847172,
          6.415285,
          6.759476
         ],
         "xaxis": "x",
         "y": [
          4.155155,
          0.25212887,
          -1.3914798,
          6.3528886,
          -5.007139,
          1.8824304,
          0.3795224,
          1.6196822,
          1.0154213,
          1.4652041,
          0.7525142,
          1.922136,
          3.5447118,
          2.190059,
          0.29245022,
          -0.47731364,
          0.35818473,
          1.2543387,
          -0.2723809,
          0.18554576,
          -0.78711724,
          -0.24406052,
          -0.9528796,
          -1.0241598,
          1.1303774,
          0.74,
          -0.562909,
          0.5042161,
          0.10592617,
          -0.059739184,
          -0.90842545,
          -0.21238971,
          -0.35510692,
          0.015379869,
          0.2640276,
          0.6209351,
          0.9677551,
          0.45786825,
          -0.69895744
         ],
         "yaxis": "y"
        }
       ],
       "layout": {
        "height": 600,
        "legend": {
         "itemsizing": "constant",
         "title": {
          "text": "Профессия"
         },
         "tracegroupgap": 0
        },
        "margin": {
         "t": 60
        },
        "template": {
         "data": {
          "bar": [
           {
            "error_x": {
             "color": "#2a3f5f"
            },
            "error_y": {
             "color": "#2a3f5f"
            },
            "marker": {
             "line": {
              "color": "#E5ECF6",
              "width": 0.5
             },
             "pattern": {
              "fillmode": "overlay",
              "size": 10,
              "solidity": 0.2
             }
            },
            "type": "bar"
           }
          ],
          "barpolar": [
           {
            "marker": {
             "line": {
              "color": "#E5ECF6",
              "width": 0.5
             },
             "pattern": {
              "fillmode": "overlay",
              "size": 10,
              "solidity": 0.2
             }
            },
            "type": "barpolar"
           }
          ],
          "carpet": [
           {
            "aaxis": {
             "endlinecolor": "#2a3f5f",
             "gridcolor": "white",
             "linecolor": "white",
             "minorgridcolor": "white",
             "startlinecolor": "#2a3f5f"
            },
            "baxis": {
             "endlinecolor": "#2a3f5f",
             "gridcolor": "white",
             "linecolor": "white",
             "minorgridcolor": "white",
             "startlinecolor": "#2a3f5f"
            },
            "type": "carpet"
           }
          ],
          "choropleth": [
           {
            "colorbar": {
             "outlinewidth": 0,
             "ticks": ""
            },
            "type": "choropleth"
           }
          ],
          "contour": [
           {
            "colorbar": {
             "outlinewidth": 0,
             "ticks": ""
            },
            "colorscale": [
             [
              0,
              "#0d0887"
             ],
             [
              0.1111111111111111,
              "#46039f"
             ],
             [
              0.2222222222222222,
              "#7201a8"
             ],
             [
              0.3333333333333333,
              "#9c179e"
             ],
             [
              0.4444444444444444,
              "#bd3786"
             ],
             [
              0.5555555555555556,
              "#d8576b"
             ],
             [
              0.6666666666666666,
              "#ed7953"
             ],
             [
              0.7777777777777778,
              "#fb9f3a"
             ],
             [
              0.8888888888888888,
              "#fdca26"
             ],
             [
              1,
              "#f0f921"
             ]
            ],
            "type": "contour"
           }
          ],
          "contourcarpet": [
           {
            "colorbar": {
             "outlinewidth": 0,
             "ticks": ""
            },
            "type": "contourcarpet"
           }
          ],
          "heatmap": [
           {
            "colorbar": {
             "outlinewidth": 0,
             "ticks": ""
            },
            "colorscale": [
             [
              0,
              "#0d0887"
             ],
             [
              0.1111111111111111,
              "#46039f"
             ],
             [
              0.2222222222222222,
              "#7201a8"
             ],
             [
              0.3333333333333333,
              "#9c179e"
             ],
             [
              0.4444444444444444,
              "#bd3786"
             ],
             [
              0.5555555555555556,
              "#d8576b"
             ],
             [
              0.6666666666666666,
              "#ed7953"
             ],
             [
              0.7777777777777778,
              "#fb9f3a"
             ],
             [
              0.8888888888888888,
              "#fdca26"
             ],
             [
              1,
              "#f0f921"
             ]
            ],
            "type": "heatmap"
           }
          ],
          "heatmapgl": [
           {
            "colorbar": {
             "outlinewidth": 0,
             "ticks": ""
            },
            "colorscale": [
             [
              0,
              "#0d0887"
             ],
             [
              0.1111111111111111,
              "#46039f"
             ],
             [
              0.2222222222222222,
              "#7201a8"
             ],
             [
              0.3333333333333333,
              "#9c179e"
             ],
             [
              0.4444444444444444,
              "#bd3786"
             ],
             [
              0.5555555555555556,
              "#d8576b"
             ],
             [
              0.6666666666666666,
              "#ed7953"
             ],
             [
              0.7777777777777778,
              "#fb9f3a"
             ],
             [
              0.8888888888888888,
              "#fdca26"
             ],
             [
              1,
              "#f0f921"
             ]
            ],
            "type": "heatmapgl"
           }
          ],
          "histogram": [
           {
            "marker": {
             "pattern": {
              "fillmode": "overlay",
              "size": 10,
              "solidity": 0.2
             }
            },
            "type": "histogram"
           }
          ],
          "histogram2d": [
           {
            "colorbar": {
             "outlinewidth": 0,
             "ticks": ""
            },
            "colorscale": [
             [
              0,
              "#0d0887"
             ],
             [
              0.1111111111111111,
              "#46039f"
             ],
             [
              0.2222222222222222,
              "#7201a8"
             ],
             [
              0.3333333333333333,
              "#9c179e"
             ],
             [
              0.4444444444444444,
              "#bd3786"
             ],
             [
              0.5555555555555556,
              "#d8576b"
             ],
             [
              0.6666666666666666,
              "#ed7953"
             ],
             [
              0.7777777777777778,
              "#fb9f3a"
             ],
             [
              0.8888888888888888,
              "#fdca26"
             ],
             [
              1,
              "#f0f921"
             ]
            ],
            "type": "histogram2d"
           }
          ],
          "histogram2dcontour": [
           {
            "colorbar": {
             "outlinewidth": 0,
             "ticks": ""
            },
            "colorscale": [
             [
              0,
              "#0d0887"
             ],
             [
              0.1111111111111111,
              "#46039f"
             ],
             [
              0.2222222222222222,
              "#7201a8"
             ],
             [
              0.3333333333333333,
              "#9c179e"
             ],
             [
              0.4444444444444444,
              "#bd3786"
             ],
             [
              0.5555555555555556,
              "#d8576b"
             ],
             [
              0.6666666666666666,
              "#ed7953"
             ],
             [
              0.7777777777777778,
              "#fb9f3a"
             ],
             [
              0.8888888888888888,
              "#fdca26"
             ],
             [
              1,
              "#f0f921"
             ]
            ],
            "type": "histogram2dcontour"
           }
          ],
          "mesh3d": [
           {
            "colorbar": {
             "outlinewidth": 0,
             "ticks": ""
            },
            "type": "mesh3d"
           }
          ],
          "parcoords": [
           {
            "line": {
             "colorbar": {
              "outlinewidth": 0,
              "ticks": ""
             }
            },
            "type": "parcoords"
           }
          ],
          "pie": [
           {
            "automargin": true,
            "type": "pie"
           }
          ],
          "scatter": [
           {
            "fillpattern": {
             "fillmode": "overlay",
             "size": 10,
             "solidity": 0.2
            },
            "type": "scatter"
           }
          ],
          "scatter3d": [
           {
            "line": {
             "colorbar": {
              "outlinewidth": 0,
              "ticks": ""
             }
            },
            "marker": {
             "colorbar": {
              "outlinewidth": 0,
              "ticks": ""
             }
            },
            "type": "scatter3d"
           }
          ],
          "scattercarpet": [
           {
            "marker": {
             "colorbar": {
              "outlinewidth": 0,
              "ticks": ""
             }
            },
            "type": "scattercarpet"
           }
          ],
          "scattergeo": [
           {
            "marker": {
             "colorbar": {
              "outlinewidth": 0,
              "ticks": ""
             }
            },
            "type": "scattergeo"
           }
          ],
          "scattergl": [
           {
            "marker": {
             "colorbar": {
              "outlinewidth": 0,
              "ticks": ""
             }
            },
            "type": "scattergl"
           }
          ],
          "scattermapbox": [
           {
            "marker": {
             "colorbar": {
              "outlinewidth": 0,
              "ticks": ""
             }
            },
            "type": "scattermapbox"
           }
          ],
          "scatterpolar": [
           {
            "marker": {
             "colorbar": {
              "outlinewidth": 0,
              "ticks": ""
             }
            },
            "type": "scatterpolar"
           }
          ],
          "scatterpolargl": [
           {
            "marker": {
             "colorbar": {
              "outlinewidth": 0,
              "ticks": ""
             }
            },
            "type": "scatterpolargl"
           }
          ],
          "scatterternary": [
           {
            "marker": {
             "colorbar": {
              "outlinewidth": 0,
              "ticks": ""
             }
            },
            "type": "scatterternary"
           }
          ],
          "surface": [
           {
            "colorbar": {
             "outlinewidth": 0,
             "ticks": ""
            },
            "colorscale": [
             [
              0,
              "#0d0887"
             ],
             [
              0.1111111111111111,
              "#46039f"
             ],
             [
              0.2222222222222222,
              "#7201a8"
             ],
             [
              0.3333333333333333,
              "#9c179e"
             ],
             [
              0.4444444444444444,
              "#bd3786"
             ],
             [
              0.5555555555555556,
              "#d8576b"
             ],
             [
              0.6666666666666666,
              "#ed7953"
             ],
             [
              0.7777777777777778,
              "#fb9f3a"
             ],
             [
              0.8888888888888888,
              "#fdca26"
             ],
             [
              1,
              "#f0f921"
             ]
            ],
            "type": "surface"
           }
          ],
          "table": [
           {
            "cells": {
             "fill": {
              "color": "#EBF0F8"
             },
             "line": {
              "color": "white"
             }
            },
            "header": {
             "fill": {
              "color": "#C8D4E3"
             },
             "line": {
              "color": "white"
             }
            },
            "type": "table"
           }
          ]
         },
         "layout": {
          "annotationdefaults": {
           "arrowcolor": "#2a3f5f",
           "arrowhead": 0,
           "arrowwidth": 1
          },
          "autotypenumbers": "strict",
          "coloraxis": {
           "colorbar": {
            "outlinewidth": 0,
            "ticks": ""
           }
          },
          "colorscale": {
           "diverging": [
            [
             0,
             "#8e0152"
            ],
            [
             0.1,
             "#c51b7d"
            ],
            [
             0.2,
             "#de77ae"
            ],
            [
             0.3,
             "#f1b6da"
            ],
            [
             0.4,
             "#fde0ef"
            ],
            [
             0.5,
             "#f7f7f7"
            ],
            [
             0.6,
             "#e6f5d0"
            ],
            [
             0.7,
             "#b8e186"
            ],
            [
             0.8,
             "#7fbc41"
            ],
            [
             0.9,
             "#4d9221"
            ],
            [
             1,
             "#276419"
            ]
           ],
           "sequential": [
            [
             0,
             "#0d0887"
            ],
            [
             0.1111111111111111,
             "#46039f"
            ],
            [
             0.2222222222222222,
             "#7201a8"
            ],
            [
             0.3333333333333333,
             "#9c179e"
            ],
            [
             0.4444444444444444,
             "#bd3786"
            ],
            [
             0.5555555555555556,
             "#d8576b"
            ],
            [
             0.6666666666666666,
             "#ed7953"
            ],
            [
             0.7777777777777778,
             "#fb9f3a"
            ],
            [
             0.8888888888888888,
             "#fdca26"
            ],
            [
             1,
             "#f0f921"
            ]
           ],
           "sequentialminus": [
            [
             0,
             "#0d0887"
            ],
            [
             0.1111111111111111,
             "#46039f"
            ],
            [
             0.2222222222222222,
             "#7201a8"
            ],
            [
             0.3333333333333333,
             "#9c179e"
            ],
            [
             0.4444444444444444,
             "#bd3786"
            ],
            [
             0.5555555555555556,
             "#d8576b"
            ],
            [
             0.6666666666666666,
             "#ed7953"
            ],
            [
             0.7777777777777778,
             "#fb9f3a"
            ],
            [
             0.8888888888888888,
             "#fdca26"
            ],
            [
             1,
             "#f0f921"
            ]
           ]
          },
          "colorway": [
           "#636efa",
           "#EF553B",
           "#00cc96",
           "#ab63fa",
           "#FFA15A",
           "#19d3f3",
           "#FF6692",
           "#B6E880",
           "#FF97FF",
           "#FECB52"
          ],
          "font": {
           "color": "#2a3f5f"
          },
          "geo": {
           "bgcolor": "white",
           "lakecolor": "white",
           "landcolor": "#E5ECF6",
           "showlakes": true,
           "showland": true,
           "subunitcolor": "white"
          },
          "hoverlabel": {
           "align": "left"
          },
          "hovermode": "closest",
          "mapbox": {
           "style": "light"
          },
          "paper_bgcolor": "white",
          "plot_bgcolor": "#E5ECF6",
          "polar": {
           "angularaxis": {
            "gridcolor": "white",
            "linecolor": "white",
            "ticks": ""
           },
           "bgcolor": "#E5ECF6",
           "radialaxis": {
            "gridcolor": "white",
            "linecolor": "white",
            "ticks": ""
           }
          },
          "scene": {
           "xaxis": {
            "backgroundcolor": "#E5ECF6",
            "gridcolor": "white",
            "gridwidth": 2,
            "linecolor": "white",
            "showbackground": true,
            "ticks": "",
            "zerolinecolor": "white"
           },
           "yaxis": {
            "backgroundcolor": "#E5ECF6",
            "gridcolor": "white",
            "gridwidth": 2,
            "linecolor": "white",
            "showbackground": true,
            "ticks": "",
            "zerolinecolor": "white"
           },
           "zaxis": {
            "backgroundcolor": "#E5ECF6",
            "gridcolor": "white",
            "gridwidth": 2,
            "linecolor": "white",
            "showbackground": true,
            "ticks": "",
            "zerolinecolor": "white"
           }
          },
          "shapedefaults": {
           "line": {
            "color": "#2a3f5f"
           }
          },
          "ternary": {
           "aaxis": {
            "gridcolor": "white",
            "linecolor": "white",
            "ticks": ""
           },
           "baxis": {
            "gridcolor": "white",
            "linecolor": "white",
            "ticks": ""
           },
           "bgcolor": "#E5ECF6",
           "caxis": {
            "gridcolor": "white",
            "linecolor": "white",
            "ticks": ""
           }
          },
          "title": {
           "x": 0.05
          },
          "xaxis": {
           "automargin": true,
           "gridcolor": "white",
           "linecolor": "white",
           "ticks": "",
           "title": {
            "standoff": 15
           },
           "zerolinecolor": "white",
           "zerolinewidth": 2
          },
          "yaxis": {
           "automargin": true,
           "gridcolor": "white",
           "linecolor": "white",
           "ticks": "",
           "title": {
            "standoff": 15
           },
           "zerolinecolor": "white",
           "zerolinewidth": 2
          }
         }
        },
        "width": 1000,
        "xaxis": {
         "anchor": "y",
         "domain": [
          0,
          1
         ],
         "title": {
          "text": "x"
         },
         "visible": false
        },
        "yaxis": {
         "anchor": "x",
         "domain": [
          0,
          1
         ],
         "title": {
          "text": "y"
         },
         "visible": false
        }
       }
      }
     },
     "metadata": {},
     "output_type": "display_data"
    }
   ],
   "source": [
    "df, _ = prepare_plot_df(skill_df, matrix, skill_index_to_corrected,\n",
    "                                    prof_index_to_prof_name, \n",
    "                                    top_n_skill_per_profession=best_top_n_skill_per_profession,\n",
    "                                    norm_type=best_norm_type,\n",
    "                                    factor_alg_type=best_alg_type,\n",
    "                                    dim=best_dim,\n",
    "                                    use_tsne=best_use_tsne)\n",
    "\n",
    "plot_skill_map(df).show()"
   ]
  },
  {
   "cell_type": "code",
   "execution_count": 38,
   "metadata": {},
   "outputs": [],
   "source": [
    "df.to_csv(f'../notebooks/docker/front/data/best.csv')"
   ]
  },
  {
   "cell_type": "code",
   "execution_count": null,
   "metadata": {},
   "outputs": [],
   "source": []
  }
 ],
 "metadata": {
  "kernelspec": {
   "display_name": "base",
   "language": "python",
   "name": "python3"
  },
  "language_info": {
   "codemirror_mode": {
    "name": "ipython",
    "version": 3
   },
   "file_extension": ".py",
   "mimetype": "text/x-python",
   "name": "python",
   "nbconvert_exporter": "python",
   "pygments_lexer": "ipython3",
   "version": "3.9.15"
  },
  "orig_nbformat": 4
 },
 "nbformat": 4,
 "nbformat_minor": 2
}
