{
 "cells": [
  {
   "cell_type": "code",
   "execution_count": 3,
   "metadata": {},
   "outputs": [
    {
     "name": "stderr",
     "output_type": "stream",
     "text": [
      "/Users/dima/opt/anaconda3/lib/python3.9/site-packages/umap/distances.py:1063: NumbaDeprecationWarning: \u001b[1mThe 'nopython' keyword argument was not supplied to the 'numba.jit' decorator. The implicit default value for this argument is currently False, but it will be changed to True in Numba 0.59.0. See https://numba.readthedocs.io/en/stable/reference/deprecation.html#deprecation-of-object-mode-fall-back-behaviour-when-using-jit for details.\u001b[0m\n",
      "  @numba.jit()\n",
      "/Users/dima/opt/anaconda3/lib/python3.9/site-packages/umap/distances.py:1071: NumbaDeprecationWarning: \u001b[1mThe 'nopython' keyword argument was not supplied to the 'numba.jit' decorator. The implicit default value for this argument is currently False, but it will be changed to True in Numba 0.59.0. See https://numba.readthedocs.io/en/stable/reference/deprecation.html#deprecation-of-object-mode-fall-back-behaviour-when-using-jit for details.\u001b[0m\n",
      "  @numba.jit()\n",
      "/Users/dima/opt/anaconda3/lib/python3.9/site-packages/umap/distances.py:1086: NumbaDeprecationWarning: \u001b[1mThe 'nopython' keyword argument was not supplied to the 'numba.jit' decorator. The implicit default value for this argument is currently False, but it will be changed to True in Numba 0.59.0. See https://numba.readthedocs.io/en/stable/reference/deprecation.html#deprecation-of-object-mode-fall-back-behaviour-when-using-jit for details.\u001b[0m\n",
      "  @numba.jit()\n",
      "/Users/dima/opt/anaconda3/lib/python3.9/site-packages/umap/umap_.py:660: NumbaDeprecationWarning: \u001b[1mThe 'nopython' keyword argument was not supplied to the 'numba.jit' decorator. The implicit default value for this argument is currently False, but it will be changed to True in Numba 0.59.0. See https://numba.readthedocs.io/en/stable/reference/deprecation.html#deprecation-of-object-mode-fall-back-behaviour-when-using-jit for details.\u001b[0m\n",
      "  @numba.jit()\n"
     ]
    }
   ],
   "source": [
    "import pandas as pd\n",
    "import os\n",
    "import jsonpickle\n",
    "\n",
    "from typing import Tuple, Dict, Union, List\n",
    "import pandas as pd\n",
    "import numpy as np\n",
    "import pickle\n",
    "from sklearn.manifold import TSNE\n",
    "import plotly.express as px\n",
    "import plotly\n",
    "from sklearn.preprocessing import MinMaxScaler\n",
    "from scipy.sparse import csr_matrix\n",
    "import implicit\n",
    "from implicit.nearest_neighbours import bm25_weight, tfidf_weight\n",
    "from scipy.spatial.distance import cdist\n",
    "\n",
    "import umap\n",
    "from sklearn.metrics.pairwise import cosine_similarity, euclidean_distances\n",
    "from scipy.sparse.linalg import svds\n",
    "from sklearn.decomposition import PCA\n"
   ]
  },
  {
   "cell_type": "code",
   "execution_count": 4,
   "metadata": {},
   "outputs": [],
   "source": [
    "import warnings\n",
    "warnings.filterwarnings(\"ignore\")"
   ]
  },
  {
   "cell_type": "code",
   "execution_count": 5,
   "metadata": {},
   "outputs": [],
   "source": [
    "RANDOM_STATE = 42"
   ]
  },
  {
   "cell_type": "code",
   "execution_count": 6,
   "metadata": {},
   "outputs": [],
   "source": [
    "def load(config_path : str) -> object:\n",
    "    \"\"\"load config from file\n",
    "    exsabple of using: \n",
    "        self.config : ParserConfig = config.load(config_path) or ParserConfig()\n",
    "        \"\"\"\n",
    "\n",
    "    jsonpickle.set_preferred_backend('json')\n",
    "    jsonpickle.set_encoder_options('json', ensure_ascii=False)\n",
    "\n",
    "    if config_path is not None and os.path.isfile(config_path):\n",
    "        with open(config_path, 'r', encoding='utf-8') as f:\n",
    "            return jsonpickle.decode(f.read())\n",
    "    else:\n",
    "        return None\n"
   ]
  },
  {
   "cell_type": "code",
   "execution_count": 7,
   "metadata": {},
   "outputs": [
    {
     "name": "stdout",
     "output_type": "stream",
     "text": [
      "all pairs count = 215\n",
      "unique pairs count = 165\n"
     ]
    }
   ],
   "source": [
    "# load reference pairs\n",
    "skill_pairs : List[List[str]] = load(\"../cnf/skill_pairs.json\")\n",
    "\n",
    "# remove duplicates\n",
    "print('all pairs count =', len(skill_pairs))\n",
    "skill_pairs = [x for x in skill_pairs if [x[1], x[0]] not in skill_pairs]\n",
    "print('unique pairs count =', len(skill_pairs))"
   ]
  },
  {
   "cell_type": "code",
   "execution_count": 8,
   "metadata": {},
   "outputs": [],
   "source": [
    "## Load data from APP DATA folder\n",
    "\n",
    "with open('../data/features/matrix.pkl', 'rb') as f:\n",
    "#with open('../data/features/matrix_name_tfidf.pkl', 'rb') as f:\n",
    "#with open('../data/features/matrix_description_name_tfidf.pkl', 'rb') as f:\n",
    "    matrix = pickle.load(f)\n",
    "\n",
    "with open('../data/features/prof_index_to_prof_name.pkl', 'rb') as f:\n",
    "    prof_index_to_prof_name = pickle.load(f)\n",
    "\n",
    "# with open('../data/features/quety_to_prof_index.pkl', 'rb') as f:\n",
    "#     quety_to_prof_index = pickle.load(f)\n",
    "\n",
    "with open('../data/features/skill_index_to_corrected.pkl', 'rb') as f:\n",
    "    skill_index_to_corrected = pickle.load(f)\n",
    "    \n",
    "with open('../data/features/skill_original_to_index.pkl', 'rb') as f:\n",
    "    skill_original_to_index = pickle.load(f)\n",
    "    \n",
    "skill_df = pd.read_csv('../data/features/skills.csv')\n",
    "prof_df = pd.read_csv('../data/features/prof.csv')"
   ]
  },
  {
   "cell_type": "code",
   "execution_count": 14,
   "metadata": {},
   "outputs": [],
   "source": [
    "def prepare_plot_df(skill_df: pd.DataFrame,\n",
    "                    matrix: np.array,\n",
    "                    skill_index_to_corrected: Dict[int, str],\n",
    "                    prof_index_to_corrected: Dict[int, str], \n",
    "                    top_n_skill_per_profession: int = 200, \n",
    "                    salary: Union[Tuple[float, float], None] = None,\n",
    "                    norm_type: str = 'none',\n",
    "                    factor_alg_type: str = 'none',\n",
    "                    perplexity: int = 30,\n",
    "                    early_exaggeration=12,\n",
    "                    learning_rate=200,\n",
    "                    dim: int = 5,\n",
    "                    use_tsne: bool = True\n",
    "                    ) -> Tuple[pd.DataFrame, pd.DataFrame]:\n",
    "    \"\"\"Prepare datafame for plotting\n",
    "    \n",
    "        Parameters\n",
    "        ----------\n",
    "        skill_df: pd.DataFrame\n",
    "            Data frame of skills\n",
    "        matrix: np.array\n",
    "            Skill to Profession matrix (skill in rows, professions in columns)\n",
    "        skill_index_to_corrected: Dict[int, str]\n",
    "            Dictionary from index to skill name\n",
    "        prof_index_to_corrected: Dict[int, str]\n",
    "            Dictionary from index to profession name\n",
    "        top_n_skill_per_profession: int\n",
    "            maximum skills for each profession\n",
    "        salary: Tuple[float, float]:\n",
    "            filter by salary, from and to, or None\n",
    "            !!! do not set because too low vacancies whith salary\n",
    "        norm_type: str\n",
    "            How normalize skill-prof matrix ('none', 'skill', 'prof', 'bm', 'tfidf')\n",
    "        factor_alg_type: str\n",
    "            Type of algorithm for skill map ('tsne', 'als', 'svd', 'pca', 'sim_euclid', 'sim_cos')\n",
    "\n",
    "        Returns\n",
    "        -------\n",
    "        Tuple[pd.DataFrame, pd.DataFrame] : \n",
    "            - DataFrame for skill map plot\n",
    "            - DataFrame for profession map plot\n",
    "    \n",
    "    \n",
    "    \"\"\"\n",
    "\n",
    "    def apply_filter(df, top_n_skill_per_profession, salary):\n",
    "        if salary is not None:\n",
    "            df = df[(df.salary_q75 > salary[0]) & (df.salary_q25 <= salary[1])]\n",
    "        if top_n_skill_per_profession is not None:\n",
    "            df = df.head(top_n_skill_per_profession)\n",
    "        return df\n",
    "\n",
    "    # skill_filter_indexes - skills for plot\n",
    "    skill_filter_indexes = []\n",
    "    for p in prof_index_to_corrected.values():\n",
    "        skills_per_profession = skill_df.sort_values(p, ascending=False)\n",
    "        skills_per_profession = apply_filter(skills_per_profession, top_n_skill_per_profession, salary)\n",
    "\n",
    "        skill_filter_indexes = skill_filter_indexes + \\\n",
    "            [x for x in skills_per_profession.skill_id if x not in skill_filter_indexes]\n",
    "\n",
    "    # Normalization\n",
    "    m = matrix[skill_filter_indexes, :].T\n",
    "\n",
    "    if norm_type == 'skill':\n",
    "        # norm for earch skill\n",
    "        m = m / np.sum(m, axis=0, keepdims=True)\n",
    "    elif norm_type == 'prof':\n",
    "        # norm for each prof\n",
    "        m = m / np.sum(m, axis=1, keepdims=True)\n",
    "    elif norm_type == 'bm':\n",
    "        m = np.asarray(bm25_weight(m).todense())\n",
    "    elif norm_type == 'tfidf':\n",
    "        m = np.asarray(tfidf_weight(m).todense())\n",
    "    elif norm_type != 'none':\n",
    "        raise ValueError(\"norm_type parametr must be ('none', 'skill', 'prof')\")\n",
    "\n",
    "    # als is needed for professions because T-NSE doesn't work with few objects\n",
    "    csr = csr_matrix(m)\n",
    "    model = implicit.als.AlternatingLeastSquares(factors=2, regularization=0.0, \n",
    "        iterations=20, alpha=10, random_state=RANDOM_STATE)\n",
    "    model.fit(csr, show_progress=False)\n",
    "    profs_xy = model.user_factors\n",
    "\n",
    "    use_tsne = False\n",
    "\n",
    "    if factor_alg_type == 'svd':\n",
    "        skills_xy, _, _ = svds(csr.T, k=dim, random_state=RANDOM_STATE)\n",
    "    elif factor_alg_type == 'pca':\n",
    "        pca = PCA(n_components=dim)\n",
    "        skills_xy = pca.fit_transform(m.T)\n",
    "    elif factor_alg_type == 'tsne':\n",
    "        #skills_xy = TSNE(n_components=2, random_state=RANDOM_STATE).fit_transform(m.T)\n",
    "        skills_xy = m.T.copy()\n",
    "        use_tsne = True\n",
    "    elif factor_alg_type == 'als':\n",
    "        skills_xy = model.item_factors\n",
    "        use_tsne = True\n",
    "    elif factor_alg_type == 'sim_euclid':\n",
    "        skills_xy = euclidean_distances(m.T)\n",
    "        use_tsne = True\n",
    "    elif factor_alg_type == 'sim_cos':     \n",
    "        skills_xy = cosine_similarity(m.T)\n",
    "        use_tsne = True\n",
    "    elif factor_alg_type == 'umap':\n",
    "#         skills_xy = cosine_similarity(m.T)\n",
    "        skills_xy = umap.UMAP(n_neighbors=10,\n",
    "                              transform_seed=RANDOM_STATE,\n",
    "                              random_state=RANDOM_STATE).fit_transform(m.T)\n",
    "    else:\n",
    "        raise ValueError(\"skills_xy parametr must be ('tsne', 'als', 'svd', 'pca', 'sim_euclid', 'sim_cos')\")\n",
    "    \n",
    "    if use_tsne:\n",
    "        skills_xy = TSNE(n_components=2, \n",
    "                         perplexity=perplexity, \n",
    "                         early_exaggeration=early_exaggeration,\n",
    "                         learning_rate=learning_rate,\n",
    "                         random_state=RANDOM_STATE).fit_transform(skills_xy)\n",
    "\n",
    "\n",
    "    df = pd.DataFrame(skills_xy).rename(columns={0:'x',1:'y'})\n",
    "    df['skill_id'] = list(skill_filter_indexes)\n",
    "    df['Навык'] = df.skill_id.apply(lambda x: skill_index_to_corrected[x])\n",
    "\n",
    "    # be ensure that for every profession has skill point \n",
    "    # (one skill may be in severall professions)\n",
    "    df_plot_skill = None\n",
    "    for p in prof_index_to_corrected.values():\n",
    "\n",
    "        skills_per_profession = skill_df.sort_values(p, ascending=False)\n",
    "        skills_per_profession = apply_filter(skills_per_profession, top_n_skill_per_profession, salary)\n",
    "        ids = skills_per_profession.skill_id.to_numpy()\n",
    "\n",
    "        df_for_prof = df[df.skill_id.isin(ids)]\n",
    "        df_for_prof['Профессия'] = p\n",
    "\n",
    "        min_f = skills_per_profession[p].min()\n",
    "        max_f = skills_per_profession[p].max()\n",
    "        if max_f - min_f < 1e-10:\n",
    "            max_f += 1\n",
    "        size_series = skills_per_profession[p].apply(lambda x: (x - min_f) / (max_f - min_f))\n",
    "        size_dict = pd.Series(size_series.values, index=skills_per_profession.skill_id).to_dict()\n",
    "        df_for_prof['size'] = df_for_prof.skill_id.apply(lambda x: 15 * size_dict[x] + 0.8)\n",
    "\n",
    "        if df_plot_skill is None:\n",
    "            df_plot_skill = df_for_prof\n",
    "        else:\n",
    "            df_plot_skill = pd.concat([df_plot_skill, df_for_prof])\n",
    "\n",
    "    if profs_xy.shape[0] < 1000:\n",
    "        df_plot_prof = pd.DataFrame(profs_xy).rename(columns={0:'x',1:'y'})\n",
    "        df_plot_prof['Профессия'] = pd.Series(df_plot_prof.index).apply(lambda x: prof_index_to_corrected[x])\n",
    "    else:\n",
    "        # это потроение по th-idf признакам, а не профессиям -> нельзя построить карту профессий\n",
    "        df_plot_prof = None\n",
    "\n",
    "    return df_plot_skill, df_plot_prof"
   ]
  },
  {
   "cell_type": "code",
   "execution_count": 36,
   "metadata": {},
   "outputs": [
    {
     "data": {
      "text/plain": [
       "dict_values(['Аналитик данных', 'Инженер данных', 'Data Scientist', 'Продуктовый аналитик', 'ML инженер', 'Computer Vision', 'Администратор баз данных', 'Аналитик BI', 'NLP', 'Аналитик', 'Big Data', 'Системный аналитик', 'Бизнес-аналитик'])"
      ]
     },
     "execution_count": 36,
     "metadata": {},
     "output_type": "execute_result"
    }
   ],
   "source": [
    "prof_index_to_prof_name.values()"
   ]
  },
  {
   "cell_type": "code",
   "execution_count": 87,
   "metadata": {},
   "outputs": [],
   "source": [
    "def plot_skill_map(df: pd.DataFrame, width=1000, height=600) -> plotly.graph_objs.Figure:\n",
    "\n",
    "\n",
    "\n",
    "    color_list = [\n",
    "        '#F8A19F', '#AA0DFE', '#3283FE', '#1CBE4F', '#C4451C', '#F6222E', \n",
    "        '#FE00FA', '#325A9B', '#FEAF16', \n",
    "        '#90AD1C', '#2ED9FF', '#B10DA1',\n",
    "         '#909090', '#FBE426',\n",
    "        '#FA0087', '#C075A6', '#FC1CBF'\n",
    "    ]\n",
    "\n",
    "\n",
    "    \n",
    "    # custom visualization order\n",
    "    # for better reproducability\n",
    "    prof_order = [\n",
    "        'Data Scientist', 'ML инженер', 'Computer Vision', 'NLP',\n",
    "        'Инженер данных', 'Big Data', 'Администратор баз данных', 'Аналитик данных',\n",
    "        'Аналитик', 'Бизнес-аналитик', 'Продуктовый аналитик', 'Аналитик BI',\n",
    "        'Системный аналитик' ]\n",
    "\n",
    "    fig = px.scatter(df, x='x', y='y',\n",
    "                    color='Профессия', hover_name='Навык', \n",
    "                    hover_data= {'x':False, 'y':False, 'size':False, 'Профессия': False},\n",
    "                    size='size', category_orders={'Профессия': prof_order},\n",
    "                    #color_discrete_sequence=px.colors.qualitative.Plotly,\n",
    "                    color_discrete_sequence=color_list,\n",
    "                    title = None, width=width, height=height)\n",
    "\n",
    "    fig.update_traces(marker=dict(opacity=0.7, line=dict(width=0.5, color='DarkSlateGrey')), \n",
    "                  selector=dict(mode='markers'))\n",
    "\n",
    "    fig.update_xaxes(visible=False)\n",
    "    fig.update_yaxes(visible=False)\n",
    "\n",
    "    return fig"
   ]
  },
  {
   "cell_type": "code",
   "execution_count": 16,
   "metadata": {},
   "outputs": [],
   "source": [
    "df_plot_skill, _ = prepare_plot_df(skill_df, matrix, skill_index_to_corrected,\n",
    "                                              prof_index_to_prof_name, \n",
    "                                              top_n_skill_per_profession=100,\n",
    "                                              norm_type='none', factor_alg_type='tsne')\n",
    "\n"
   ]
  },
  {
   "cell_type": "code",
   "execution_count": 17,
   "metadata": {},
   "outputs": [
    {
     "data": {
      "text/html": [
       "<div>\n",
       "<style scoped>\n",
       "    .dataframe tbody tr th:only-of-type {\n",
       "        vertical-align: middle;\n",
       "    }\n",
       "\n",
       "    .dataframe tbody tr th {\n",
       "        vertical-align: top;\n",
       "    }\n",
       "\n",
       "    .dataframe thead th {\n",
       "        text-align: right;\n",
       "    }\n",
       "</style>\n",
       "<table border=\"1\" class=\"dataframe\">\n",
       "  <thead>\n",
       "    <tr style=\"text-align: right;\">\n",
       "      <th></th>\n",
       "      <th>x</th>\n",
       "      <th>y</th>\n",
       "      <th>skill_id</th>\n",
       "      <th>Навык</th>\n",
       "      <th>Профессия</th>\n",
       "      <th>size</th>\n",
       "    </tr>\n",
       "  </thead>\n",
       "  <tbody>\n",
       "    <tr>\n",
       "      <th>0</th>\n",
       "      <td>22.293934</td>\n",
       "      <td>-24.052641</td>\n",
       "      <td>192</td>\n",
       "      <td>SQL</td>\n",
       "      <td>Аналитик данных</td>\n",
       "      <td>15.800000</td>\n",
       "    </tr>\n",
       "    <tr>\n",
       "      <th>1</th>\n",
       "      <td>22.105703</td>\n",
       "      <td>-22.695189</td>\n",
       "      <td>102</td>\n",
       "      <td>Анализ данных</td>\n",
       "      <td>Аналитик данных</td>\n",
       "      <td>12.638235</td>\n",
       "    </tr>\n",
       "    <tr>\n",
       "      <th>2</th>\n",
       "      <td>22.001261</td>\n",
       "      <td>-24.314520</td>\n",
       "      <td>417</td>\n",
       "      <td>Python</td>\n",
       "      <td>Аналитик данных</td>\n",
       "      <td>12.527941</td>\n",
       "    </tr>\n",
       "    <tr>\n",
       "      <th>3</th>\n",
       "      <td>23.052017</td>\n",
       "      <td>-22.392492</td>\n",
       "      <td>125</td>\n",
       "      <td>Аналитическое мышление</td>\n",
       "      <td>Аналитик данных</td>\n",
       "      <td>8.925000</td>\n",
       "    </tr>\n",
       "    <tr>\n",
       "      <th>4</th>\n",
       "      <td>22.658695</td>\n",
       "      <td>-22.654797</td>\n",
       "      <td>67</td>\n",
       "      <td>Английский</td>\n",
       "      <td>Аналитик данных</td>\n",
       "      <td>6.535294</td>\n",
       "    </tr>\n",
       "    <tr>\n",
       "      <th>...</th>\n",
       "      <td>...</td>\n",
       "      <td>...</td>\n",
       "      <td>...</td>\n",
       "      <td>...</td>\n",
       "      <td>...</td>\n",
       "      <td>...</td>\n",
       "    </tr>\n",
       "    <tr>\n",
       "      <th>417</th>\n",
       "      <td>13.207355</td>\n",
       "      <td>-4.644777</td>\n",
       "      <td>1749</td>\n",
       "      <td>Системный подход</td>\n",
       "      <td>Бизнес-аналитик</td>\n",
       "      <td>0.905140</td>\n",
       "    </tr>\n",
       "    <tr>\n",
       "      <th>418</th>\n",
       "      <td>11.878820</td>\n",
       "      <td>-5.666501</td>\n",
       "      <td>121</td>\n",
       "      <td>стрессоустойчивость</td>\n",
       "      <td>Бизнес-аналитик</td>\n",
       "      <td>0.835047</td>\n",
       "    </tr>\n",
       "    <tr>\n",
       "      <th>419</th>\n",
       "      <td>12.910498</td>\n",
       "      <td>-3.753454</td>\n",
       "      <td>139</td>\n",
       "      <td>MS Project</td>\n",
       "      <td>Бизнес-аналитик</td>\n",
       "      <td>0.835047</td>\n",
       "    </tr>\n",
       "    <tr>\n",
       "      <th>420</th>\n",
       "      <td>12.286419</td>\n",
       "      <td>-4.085643</td>\n",
       "      <td>2010</td>\n",
       "      <td>Обучение персонала</td>\n",
       "      <td>Бизнес-аналитик</td>\n",
       "      <td>0.800000</td>\n",
       "    </tr>\n",
       "    <tr>\n",
       "      <th>421</th>\n",
       "      <td>11.715988</td>\n",
       "      <td>-5.058052</td>\n",
       "      <td>1015</td>\n",
       "      <td>Стратегическое мышление</td>\n",
       "      <td>Бизнес-аналитик</td>\n",
       "      <td>0.800000</td>\n",
       "    </tr>\n",
       "  </tbody>\n",
       "</table>\n",
       "<p>422 rows × 6 columns</p>\n",
       "</div>"
      ],
      "text/plain": [
       "             x          y  skill_id                    Навык        Профессия  \\\n",
       "0    22.293934 -24.052641       192                      SQL  Аналитик данных   \n",
       "1    22.105703 -22.695189       102            Анализ данных  Аналитик данных   \n",
       "2    22.001261 -24.314520       417                   Python  Аналитик данных   \n",
       "3    23.052017 -22.392492       125   Аналитическое мышление  Аналитик данных   \n",
       "4    22.658695 -22.654797        67               Английский  Аналитик данных   \n",
       "..         ...        ...       ...                      ...              ...   \n",
       "417  13.207355  -4.644777      1749         Системный подход  Бизнес-аналитик   \n",
       "418  11.878820  -5.666501       121      стрессоустойчивость  Бизнес-аналитик   \n",
       "419  12.910498  -3.753454       139               MS Project  Бизнес-аналитик   \n",
       "420  12.286419  -4.085643      2010       Обучение персонала  Бизнес-аналитик   \n",
       "421  11.715988  -5.058052      1015  Стратегическое мышление  Бизнес-аналитик   \n",
       "\n",
       "          size  \n",
       "0    15.800000  \n",
       "1    12.638235  \n",
       "2    12.527941  \n",
       "3     8.925000  \n",
       "4     6.535294  \n",
       "..         ...  \n",
       "417   0.905140  \n",
       "418   0.835047  \n",
       "419   0.835047  \n",
       "420   0.800000  \n",
       "421   0.800000  \n",
       "\n",
       "[422 rows x 6 columns]"
      ]
     },
     "execution_count": 17,
     "metadata": {},
     "output_type": "execute_result"
    }
   ],
   "source": [
    "df_plot_skill.drop_duplicates(subset=['x', 'y', 'skill_id', 'Навык'])"
   ]
  },
  {
   "cell_type": "code",
   "execution_count": 18,
   "metadata": {},
   "outputs": [
    {
     "data": {
      "text/plain": [
       "(422, 6)"
      ]
     },
     "execution_count": 18,
     "metadata": {},
     "output_type": "execute_result"
    }
   ],
   "source": [
    "df = df_plot_skill.drop_duplicates(subset=['x', 'y', 'skill_id'])\n",
    "df.shape"
   ]
  },
  {
   "cell_type": "code",
   "execution_count": 19,
   "metadata": {},
   "outputs": [
    {
     "data": {
      "text/html": [
       "<div>\n",
       "<style scoped>\n",
       "    .dataframe tbody tr th:only-of-type {\n",
       "        vertical-align: middle;\n",
       "    }\n",
       "\n",
       "    .dataframe tbody tr th {\n",
       "        vertical-align: top;\n",
       "    }\n",
       "\n",
       "    .dataframe thead th {\n",
       "        text-align: right;\n",
       "    }\n",
       "</style>\n",
       "<table border=\"1\" class=\"dataframe\">\n",
       "  <thead>\n",
       "    <tr style=\"text-align: right;\">\n",
       "      <th></th>\n",
       "      <th>x</th>\n",
       "      <th>y</th>\n",
       "      <th>skill_id</th>\n",
       "      <th>Навык</th>\n",
       "      <th>Профессия</th>\n",
       "      <th>size</th>\n",
       "    </tr>\n",
       "  </thead>\n",
       "  <tbody>\n",
       "    <tr>\n",
       "      <th>174</th>\n",
       "      <td>-5.489097</td>\n",
       "      <td>-0.535138</td>\n",
       "      <td>1429</td>\n",
       "      <td>PD</td>\n",
       "      <td>Data Scientist</td>\n",
       "      <td>0.848860</td>\n",
       "    </tr>\n",
       "    <tr>\n",
       "      <th>175</th>\n",
       "      <td>-5.489097</td>\n",
       "      <td>-0.535138</td>\n",
       "      <td>1732</td>\n",
       "      <td>Information Technology</td>\n",
       "      <td>Data Scientist</td>\n",
       "      <td>0.848860</td>\n",
       "    </tr>\n",
       "    <tr>\n",
       "      <th>299</th>\n",
       "      <td>-20.986427</td>\n",
       "      <td>4.173079</td>\n",
       "      <td>1615</td>\n",
       "      <td>barman</td>\n",
       "      <td>Администратор баз данных</td>\n",
       "      <td>0.948515</td>\n",
       "    </tr>\n",
       "    <tr>\n",
       "      <th>300</th>\n",
       "      <td>-20.986427</td>\n",
       "      <td>4.173079</td>\n",
       "      <td>52</td>\n",
       "      <td>Oracle RAC</td>\n",
       "      <td>Администратор баз данных</td>\n",
       "      <td>0.948515</td>\n",
       "    </tr>\n",
       "  </tbody>\n",
       "</table>\n",
       "</div>"
      ],
      "text/plain": [
       "             x         y  skill_id                   Навык  \\\n",
       "174  -5.489097 -0.535138      1429                      PD   \n",
       "175  -5.489097 -0.535138      1732  Information Technology   \n",
       "299 -20.986427  4.173079      1615                  barman   \n",
       "300 -20.986427  4.173079        52              Oracle RAC   \n",
       "\n",
       "                    Профессия      size  \n",
       "174            Data Scientist  0.848860  \n",
       "175            Data Scientist  0.848860  \n",
       "299  Администратор баз данных  0.948515  \n",
       "300  Администратор баз данных  0.948515  "
      ]
     },
     "execution_count": 19,
     "metadata": {},
     "output_type": "execute_result"
    }
   ],
   "source": [
    "df.groupby(['x', 'y']).filter(lambda x: len(x) > 1)"
   ]
  },
  {
   "attachments": {},
   "cell_type": "markdown",
   "metadata": {},
   "source": [
    "Это очень странно (выше, что разные навыки получили одну и ту же точку)"
   ]
  },
  {
   "cell_type": "code",
   "execution_count": 20,
   "metadata": {},
   "outputs": [
    {
     "data": {
      "text/plain": [
       "(2070, 13)"
      ]
     },
     "execution_count": 20,
     "metadata": {},
     "output_type": "execute_result"
    }
   ],
   "source": [
    "matrix.shape"
   ]
  },
  {
   "cell_type": "code",
   "execution_count": 21,
   "metadata": {},
   "outputs": [
    {
     "data": {
      "text/plain": [
       "(694, 13)"
      ]
     },
     "execution_count": 21,
     "metadata": {},
     "output_type": "execute_result"
    }
   ],
   "source": [
    "np.unique(matrix, axis=0).shape"
   ]
  },
  {
   "attachments": {},
   "cell_type": "markdown",
   "metadata": {},
   "source": [
    "Думаю объяснение выше: есть множество навыков, которые имеют абсолютно одиниковое предстваление в профессиях"
   ]
  },
  {
   "attachments": {},
   "cell_type": "markdown",
   "metadata": {},
   "source": [
    "Mean reciprocal rank https://en.wikipedia.org/wiki/Mean_reciprocal_rank"
   ]
  },
  {
   "cell_type": "code",
   "execution_count": 22,
   "metadata": {},
   "outputs": [
    {
     "ename": "TypeError",
     "evalue": "prepare_plot_df() got an unexpected keyword argument 'alg_type'",
     "output_type": "error",
     "traceback": [
      "\u001b[0;31m---------------------------------------------------------------------------\u001b[0m",
      "\u001b[0;31mTypeError\u001b[0m                                 Traceback (most recent call last)",
      "Cell \u001b[0;32mIn[22], line 1\u001b[0m\n\u001b[0;32m----> 1\u001b[0m df_plot_skill, _ \u001b[39m=\u001b[39m prepare_plot_df(skill_df, matrix, skill_index_to_corrected,\n\u001b[1;32m      2\u001b[0m                                               prof_index_to_prof_name, \n\u001b[1;32m      3\u001b[0m                                               top_n_skill_per_profession\u001b[39m=\u001b[39;49m\u001b[39m30\u001b[39;49m,\n\u001b[1;32m      4\u001b[0m                                               norm_type\u001b[39m=\u001b[39;49m\u001b[39m'\u001b[39;49m\u001b[39mskill\u001b[39;49m\u001b[39m'\u001b[39;49m, alg_type\u001b[39m=\u001b[39;49m\u001b[39m'\u001b[39;49m\u001b[39mtnse\u001b[39;49m\u001b[39m'\u001b[39;49m)\n",
      "\u001b[0;31mTypeError\u001b[0m: prepare_plot_df() got an unexpected keyword argument 'alg_type'"
     ]
    }
   ],
   "source": [
    "df_plot_skill, _ = prepare_plot_df(skill_df, matrix, skill_index_to_corrected,\n",
    "                                              prof_index_to_prof_name, \n",
    "                                              top_n_skill_per_profession=30,\n",
    "                                              norm_type='skill', alg_type='tnse')"
   ]
  },
  {
   "cell_type": "code",
   "execution_count": 23,
   "metadata": {},
   "outputs": [
    {
     "data": {
      "text/plain": [
       "(0.07670512033734432, 109)"
      ]
     },
     "execution_count": 23,
     "metadata": {},
     "output_type": "execute_result"
    }
   ],
   "source": [
    "def get_mean_reciprocal_rank(df: pd.DataFrame, pairs: List[List[str]]) -> Tuple[float, int]:\n",
    "    \"\"\"Mean reciprocal rank https://en.wikipedia.org/wiki/Mean_reciprocal_rank\n",
    "        \n",
    "        Parameters\n",
    "        ----------\n",
    "        df: pd.DataFrame\n",
    "            Data frame with columns ['x', 'y', 'Навык']\n",
    "        pairs: List[List[str]]\n",
    "            Target nearest skills pairs\n",
    "   \n",
    "        Returns\n",
    "        -------\n",
    "        Tuple[float, int] : \n",
    "            - mean_reciprocal_rank\n",
    "            - pairs count\n",
    "    \"\"\"\n",
    "\n",
    "    df = df.drop_duplicates(subset=['x', 'y', 'Навык'])\n",
    "\n",
    "    # берем только те строки, которые есть в тестовых парах\n",
    "    # берем только те пары, навыки которых есть в данных\n",
    "\n",
    "    skills_test_set = set([])\n",
    "    for p in skill_pairs:\n",
    "        skills_test_set = skills_test_set.union(set(p))\n",
    "\n",
    "    df = df[df['Навык'].apply(lambda x: x in skills_test_set)]\n",
    "    df = df.reset_index(drop=True)\n",
    "\n",
    "    su = df['Навык'].unique()\n",
    "    pairs = [x for x in pairs if x[0] in su and x[1] in su]\n",
    "\n",
    "    # считаем расстояния в наших данных\n",
    "    x = df[['x', 'y']].to_numpy()\n",
    "    dist = cdist(x, x, 'sqeuclidean')\n",
    "\n",
    "    cs = 0\n",
    "    for p in pairs:\n",
    "        ind_p0 = df[df['Навык'] == p[0]].index[0]\n",
    "        ind_p1 = df[df['Навык'] == p[1]].index[0]\n",
    "\n",
    "        nn = np.argsort(dist[ind_p0, :])\n",
    "        rank = np.where(nn==ind_p1)[0][0]\n",
    "        cs += 1/(rank+1)\n",
    "\n",
    "        nn = np.argsort(dist[ind_p1, :])\n",
    "        rank = np.where(nn==ind_p0)[0][0]\n",
    "        cs += 1/(rank+1)\n",
    "\n",
    "    mean_reciprocal_rank = cs / (2 * len(pairs))\n",
    "    return mean_reciprocal_rank, len(pairs)\n",
    "\n",
    "get_mean_reciprocal_rank(df_plot_skill, skill_pairs)"
   ]
  },
  {
   "attachments": {},
   "cell_type": "markdown",
   "metadata": {},
   "source": [
    "Метрика **mean_reciprocal_rank@pairs=50**. Стремимся увеличить метрику, но сохранив количество пар, которые встречаются в данных, на уровне не менее 50\n",
    "\n",
    "\n"
   ]
  },
  {
   "cell_type": "code",
   "execution_count": 29,
   "metadata": {},
   "outputs": [
    {
     "name": "stdout",
     "output_type": "stream",
     "text": [
      "\n",
      "none tsne 5 True 20\n",
      "mrr = 0.17403902727019424, pairs_count = 28\n",
      "\n",
      "none tsne 5 True 21\n",
      "mrr = 0.17949549419311522, pairs_count = 29\n",
      "\n",
      "none tsne 5 True 22\n",
      "mrr = 0.1529737608871668, pairs_count = 33\n",
      "\n",
      "none tsne 5 True 23\n",
      "mrr = 0.15435881603018523, pairs_count = 34\n",
      "\n",
      "none tsne 5 True 24\n",
      "mrr = 0.15702991745392317, pairs_count = 36\n",
      "\n",
      "none tsne 5 True 25\n",
      "mrr = 0.15602466064390003, pairs_count = 37\n",
      "\n",
      "none tsne 5 True 26\n",
      "mrr = 0.15570784252569778, pairs_count = 38\n",
      "\n",
      "none tsne 5 True 27\n",
      "mrr = 0.14157304830703787, pairs_count = 39\n",
      "\n",
      "none tsne 5 True 28\n",
      "mrr = 0.14023652403686046, pairs_count = 40\n",
      "\n",
      "none tsne 5 True 29\n",
      "mrr = 0.1407546793960927, pairs_count = 40\n",
      "\n",
      "none tsne 5 True 30\n",
      "mrr = 0.14632369482422172, pairs_count = 42\n",
      "\n",
      "none tsne 5 True 31\n",
      "mrr = 0.13979980247651547, pairs_count = 45\n",
      "\n",
      "none tsne 5 True 32\n",
      "mrr = 0.1349965236448364, pairs_count = 45\n",
      "\n",
      "none tsne 5 True 33\n",
      "mrr = 0.1485273129882634, pairs_count = 46\n",
      "\n",
      "none tsne 5 True 34\n",
      "mrr = 0.13261113244700923, pairs_count = 46\n",
      "\n",
      "none tsne 5 True 35\n",
      "mrr = 0.13237971893662073, pairs_count = 46\n",
      "\n",
      "none tsne 5 True 36\n",
      "mrr = 0.12747638102294348, pairs_count = 53\n",
      "\n",
      "none tsne 5 True 37\n",
      "mrr = 0.13265469270119182, pairs_count = 55\n",
      "\n",
      "none tsne 5 True 38\n",
      "mrr = 0.1258862154179917, pairs_count = 55\n",
      "\n",
      "none tsne 5 True 39\n",
      "mrr = 0.12000249782286584, pairs_count = 58\n",
      "\n",
      "none tsne 5 True 40\n",
      "mrr = 0.12337247231929543, pairs_count = 59\n",
      "\n",
      "none tsne 5 True 41\n",
      "mrr = 0.10940220437914554, pairs_count = 59\n",
      "\n",
      "none tsne 5 True 42\n",
      "mrr = 0.12345448587062016, pairs_count = 59\n",
      "\n",
      "none tsne 5 True 43\n",
      "mrr = 0.12347679449214967, pairs_count = 60\n",
      "\n",
      "none tsne 5 True 44\n",
      "mrr = 0.13159428892709332, pairs_count = 61\n",
      "\n",
      "none tsne 5 True 45\n",
      "mrr = 0.11799688753436849, pairs_count = 67\n",
      "\n",
      "none tsne 5 True 46\n",
      "mrr = 0.11491557423091976, pairs_count = 69\n",
      "\n",
      "none tsne 5 True 47\n",
      "mrr = 0.10633763512314583, pairs_count = 72\n",
      "\n",
      "none tsne 5 True 48\n",
      "mrr = 0.11030916419239489, pairs_count = 73\n",
      "\n",
      "none tsne 5 True 49\n",
      "mrr = 0.10831433100931637, pairs_count = 73\n",
      "\n",
      "none tsne 5 True 50\n",
      "mrr = 0.11067639202055735, pairs_count = 77\n",
      "\n",
      "none als 5 True 20\n",
      "mrr = 0.09344929063576728, pairs_count = 28\n",
      "\n",
      "none als 5 True 21\n",
      "mrr = 0.09833626138374282, pairs_count = 29\n",
      "\n",
      "none als 5 True 22\n",
      "mrr = 0.09114975262262866, pairs_count = 33\n",
      "\n",
      "none als 5 True 23\n",
      "mrr = 0.0875559615167144, pairs_count = 34\n",
      "\n",
      "none als 5 True 24\n",
      "mrr = 0.0992746090307695, pairs_count = 36\n",
      "\n",
      "none als 5 True 25\n",
      "mrr = 0.09078022022363494, pairs_count = 37\n",
      "\n",
      "none als 5 True 26\n",
      "mrr = 0.07539217151286332, pairs_count = 38\n",
      "\n",
      "none als 5 True 27\n",
      "mrr = 0.07460843506907706, pairs_count = 39\n",
      "\n",
      "none als 5 True 28\n",
      "mrr = 0.07328266300545352, pairs_count = 40\n",
      "\n",
      "none als 5 True 29\n",
      "mrr = 0.0859942303047639, pairs_count = 40\n",
      "\n",
      "none als 5 True 30\n",
      "mrr = 0.08059219211720271, pairs_count = 42\n",
      "\n",
      "none als 5 True 31\n",
      "mrr = 0.07722290175093248, pairs_count = 45\n",
      "\n",
      "none als 5 True 32\n",
      "mrr = 0.07379916314682576, pairs_count = 45\n",
      "\n",
      "none als 5 True 33\n",
      "mrr = 0.07627711260050594, pairs_count = 46\n",
      "\n",
      "none als 5 True 34\n",
      "mrr = 0.07758956523852605, pairs_count = 46\n",
      "\n",
      "none als 5 True 35\n",
      "mrr = 0.09299851049828158, pairs_count = 46\n",
      "\n",
      "none als 5 True 36\n",
      "mrr = 0.0790680496429156, pairs_count = 53\n",
      "\n",
      "none als 5 True 37\n",
      "mrr = 0.07077631645184002, pairs_count = 55\n",
      "\n",
      "none als 5 True 38\n",
      "mrr = 0.07072560287428396, pairs_count = 55\n",
      "\n",
      "none als 5 True 39\n",
      "mrr = 0.08497526743044488, pairs_count = 58\n",
      "\n",
      "none als 5 True 40\n",
      "mrr = 0.07424723086410565, pairs_count = 59\n",
      "\n",
      "none als 5 True 41\n",
      "mrr = 0.07336481206972507, pairs_count = 59\n",
      "\n",
      "none als 5 True 42\n",
      "mrr = 0.077045534090673, pairs_count = 59\n",
      "\n",
      "none als 5 True 43\n",
      "mrr = 0.07150847157755119, pairs_count = 60\n",
      "\n",
      "none als 5 True 44\n",
      "mrr = 0.07192583541668983, pairs_count = 61\n",
      "\n",
      "none als 5 True 45\n",
      "mrr = 0.061895953454330396, pairs_count = 67\n",
      "\n",
      "none als 5 True 46\n",
      "mrr = 0.05782143137411661, pairs_count = 69\n",
      "\n",
      "none als 5 True 47\n",
      "mrr = 0.057561445939058396, pairs_count = 72\n",
      "\n",
      "none als 5 True 48\n",
      "mrr = 0.06508005035635535, pairs_count = 73\n",
      "\n",
      "none als 5 True 49\n",
      "mrr = 0.0564307328710845, pairs_count = 73\n",
      "\n",
      "none als 5 True 50\n",
      "mrr = 0.049717715168070546, pairs_count = 77\n",
      "\n",
      "none svd 5 True 20\n",
      "mrr = 0.1220986921572171, pairs_count = 28\n",
      "\n",
      "none svd 5 True 21\n",
      "mrr = 0.11754548076871436, pairs_count = 29\n",
      "\n",
      "none svd 5 True 22\n",
      "mrr = 0.11141772122914977, pairs_count = 33\n",
      "\n",
      "none svd 5 True 23\n",
      "mrr = 0.10711907571184238, pairs_count = 34\n",
      "\n",
      "none svd 5 True 24\n",
      "mrr = 0.10194534784922077, pairs_count = 36\n",
      "\n",
      "none svd 5 True 25\n",
      "mrr = 0.09810251757393433, pairs_count = 37\n",
      "\n",
      "none svd 5 True 26\n",
      "mrr = 0.09555352368814392, pairs_count = 38\n",
      "\n",
      "none svd 5 True 27\n",
      "mrr = 0.09636234060407765, pairs_count = 39\n",
      "\n",
      "none svd 5 True 28\n",
      "mrr = 0.0944083156514415, pairs_count = 40\n",
      "\n",
      "none svd 5 True 29\n",
      "mrr = 0.09427833321244754, pairs_count = 40\n",
      "\n",
      "none svd 5 True 30\n",
      "mrr = 0.09426599255589993, pairs_count = 42\n",
      "\n",
      "none svd 5 True 31\n",
      "mrr = 0.0905672373195799, pairs_count = 45\n",
      "\n",
      "none svd 5 True 32\n",
      "mrr = 0.09037966367763042, pairs_count = 45\n",
      "\n",
      "none svd 5 True 33\n",
      "mrr = 0.09421113555305105, pairs_count = 46\n",
      "\n",
      "none svd 5 True 34\n",
      "mrr = 0.09406016936947617, pairs_count = 46\n",
      "\n",
      "none svd 5 True 35\n",
      "mrr = 0.09286032537536446, pairs_count = 46\n",
      "\n",
      "none svd 5 True 36\n",
      "mrr = 0.09036505485747719, pairs_count = 53\n",
      "\n",
      "none svd 5 True 37\n",
      "mrr = 0.08631566308145043, pairs_count = 55\n",
      "\n",
      "none svd 5 True 38\n",
      "mrr = 0.08599831625236684, pairs_count = 55\n",
      "\n",
      "none svd 5 True 39\n",
      "mrr = 0.08201129543570664, pairs_count = 58\n",
      "\n",
      "none svd 5 True 40\n",
      "mrr = 0.08047681499891783, pairs_count = 59\n",
      "\n",
      "none svd 5 True 41\n",
      "mrr = 0.07999275887781471, pairs_count = 59\n",
      "\n",
      "none svd 5 True 42\n",
      "mrr = 0.07987131905648748, pairs_count = 59\n",
      "\n",
      "none svd 5 True 43\n",
      "mrr = 0.08028957520771624, pairs_count = 60\n",
      "\n",
      "none svd 5 True 44\n",
      "mrr = 0.08666856575262374, pairs_count = 61\n",
      "\n",
      "none svd 5 True 45\n",
      "mrr = 0.08028242040225549, pairs_count = 67\n",
      "\n",
      "none svd 5 True 46\n",
      "mrr = 0.07827937239645168, pairs_count = 69\n",
      "\n",
      "none svd 5 True 47\n",
      "mrr = 0.07557123651562986, pairs_count = 72\n",
      "\n",
      "none svd 5 True 48\n",
      "mrr = 0.07452481030085052, pairs_count = 73\n",
      "\n",
      "none svd 5 True 49\n",
      "mrr = 0.07403473587228636, pairs_count = 73\n",
      "\n",
      "none svd 5 True 50\n",
      "mrr = 0.07065391699984727, pairs_count = 77\n",
      "\n",
      "none svd 2 False 20\n",
      "mrr = 0.1220986921572171, pairs_count = 28\n",
      "\n",
      "none svd 2 False 21\n",
      "mrr = 0.11754548076871436, pairs_count = 29\n",
      "\n",
      "none svd 2 False 22\n",
      "mrr = 0.11141772122914977, pairs_count = 33\n",
      "\n",
      "none svd 2 False 23\n",
      "mrr = 0.10711907571184238, pairs_count = 34\n",
      "\n",
      "none svd 2 False 24\n",
      "mrr = 0.10194534784922077, pairs_count = 36\n",
      "\n",
      "none svd 2 False 25\n",
      "mrr = 0.09810251757393433, pairs_count = 37\n",
      "\n",
      "none svd 2 False 26\n",
      "mrr = 0.09555352368814392, pairs_count = 38\n",
      "\n",
      "none svd 2 False 27\n",
      "mrr = 0.09636234060407765, pairs_count = 39\n",
      "\n",
      "none svd 2 False 28\n",
      "mrr = 0.0944083156514415, pairs_count = 40\n",
      "\n",
      "none svd 2 False 29\n",
      "mrr = 0.09427833321244754, pairs_count = 40\n",
      "\n",
      "none svd 2 False 30\n",
      "mrr = 0.09426599255589993, pairs_count = 42\n",
      "\n",
      "none svd 2 False 31\n",
      "mrr = 0.0905672373195799, pairs_count = 45\n",
      "\n",
      "none svd 2 False 32\n",
      "mrr = 0.09037966367763042, pairs_count = 45\n",
      "\n",
      "none svd 2 False 33\n",
      "mrr = 0.09421113555305105, pairs_count = 46\n",
      "\n",
      "none svd 2 False 34\n",
      "mrr = 0.09406016936947617, pairs_count = 46\n",
      "\n",
      "none svd 2 False 35\n",
      "mrr = 0.09286032537536446, pairs_count = 46\n",
      "\n",
      "none svd 2 False 36\n",
      "mrr = 0.09036505485747719, pairs_count = 53\n",
      "\n",
      "none svd 2 False 37\n",
      "mrr = 0.08631566308145043, pairs_count = 55\n",
      "\n",
      "none svd 2 False 38\n",
      "mrr = 0.08599831625236684, pairs_count = 55\n",
      "\n",
      "none svd 2 False 39\n",
      "mrr = 0.08201129543570664, pairs_count = 58\n",
      "\n",
      "none svd 2 False 40\n",
      "mrr = 0.08047681499891783, pairs_count = 59\n",
      "\n",
      "none svd 2 False 41\n",
      "mrr = 0.07999275887781471, pairs_count = 59\n",
      "\n",
      "none svd 2 False 42\n",
      "mrr = 0.07987131905648748, pairs_count = 59\n",
      "\n",
      "none svd 2 False 43\n",
      "mrr = 0.08028957520771624, pairs_count = 60\n",
      "\n",
      "none svd 2 False 44\n",
      "mrr = 0.08666856575262374, pairs_count = 61\n",
      "\n",
      "none svd 2 False 45\n",
      "mrr = 0.08028242040225549, pairs_count = 67\n",
      "\n",
      "none svd 2 False 46\n",
      "mrr = 0.07827937239645168, pairs_count = 69\n",
      "\n",
      "none svd 2 False 47\n",
      "mrr = 0.07557123651562986, pairs_count = 72\n",
      "\n",
      "none svd 2 False 48\n",
      "mrr = 0.07452481030085052, pairs_count = 73\n",
      "\n",
      "none svd 2 False 49\n",
      "mrr = 0.07403473587228636, pairs_count = 73\n",
      "\n",
      "none svd 2 False 50\n",
      "mrr = 0.07065391699984727, pairs_count = 77\n",
      "\n",
      "none pca 5 True 20\n",
      "mrr = 0.15187664843498472, pairs_count = 28\n",
      "\n",
      "none pca 5 True 21\n",
      "mrr = 0.14444167399386978, pairs_count = 29\n",
      "\n",
      "none pca 5 True 22\n",
      "mrr = 0.13462621548909612, pairs_count = 33\n",
      "\n",
      "none pca 5 True 23\n",
      "mrr = 0.12645176441989917, pairs_count = 34\n",
      "\n",
      "none pca 5 True 24\n",
      "mrr = 0.12035152074674575, pairs_count = 36\n",
      "\n",
      "none pca 5 True 25\n",
      "mrr = 0.11471716361111317, pairs_count = 37\n",
      "\n",
      "none pca 5 True 26\n",
      "mrr = 0.11065786794957395, pairs_count = 38\n",
      "\n",
      "none pca 5 True 27\n",
      "mrr = 0.10967898144670887, pairs_count = 39\n",
      "\n",
      "none pca 5 True 28\n",
      "mrr = 0.10697317039649439, pairs_count = 40\n",
      "\n",
      "none pca 5 True 29\n",
      "mrr = 0.10603894538566379, pairs_count = 40\n",
      "\n",
      "none pca 5 True 30\n",
      "mrr = 0.10763895098183042, pairs_count = 42\n",
      "\n",
      "none pca 5 True 31\n",
      "mrr = 0.10231428294287959, pairs_count = 45\n",
      "\n",
      "none pca 5 True 32\n",
      "mrr = 0.10168060457162273, pairs_count = 45\n",
      "\n",
      "none pca 5 True 33\n",
      "mrr = 0.10006532864426819, pairs_count = 46\n",
      "\n",
      "none pca 5 True 34\n",
      "mrr = 0.10041184696871616, pairs_count = 46\n",
      "\n",
      "none pca 5 True 35\n",
      "mrr = 0.09505226226132882, pairs_count = 46\n",
      "\n",
      "none pca 5 True 36\n",
      "mrr = 0.09184905545592544, pairs_count = 53\n",
      "\n",
      "none pca 5 True 37\n",
      "mrr = 0.08964340974278852, pairs_count = 55\n",
      "\n",
      "none pca 5 True 38\n",
      "mrr = 0.08953393996347189, pairs_count = 55\n",
      "\n",
      "none pca 5 True 39\n",
      "mrr = 0.0862169580884247, pairs_count = 58\n",
      "\n",
      "none pca 5 True 40\n",
      "mrr = 0.08500084395526525, pairs_count = 59\n",
      "\n",
      "none pca 5 True 41\n",
      "mrr = 0.08478500461829133, pairs_count = 59\n",
      "\n",
      "none pca 5 True 42\n",
      "mrr = 0.08451445134147924, pairs_count = 59\n",
      "\n",
      "none pca 5 True 43\n",
      "mrr = 0.08486822711386859, pairs_count = 60\n",
      "\n",
      "none pca 5 True 44\n",
      "mrr = 0.08694521483281843, pairs_count = 61\n",
      "\n",
      "none pca 5 True 45\n",
      "mrr = 0.08007757899268417, pairs_count = 67\n",
      "\n",
      "none pca 5 True 46\n",
      "mrr = 0.07787200798651732, pairs_count = 69\n",
      "\n",
      "none pca 5 True 47\n",
      "mrr = 0.0738128185896969, pairs_count = 72\n",
      "\n",
      "none pca 5 True 48\n",
      "mrr = 0.07277860510923148, pairs_count = 73\n",
      "\n",
      "none pca 5 True 49\n",
      "mrr = 0.07261152073410775, pairs_count = 73\n",
      "\n",
      "none pca 5 True 50\n",
      "mrr = 0.06951196882363854, pairs_count = 77\n",
      "\n",
      "none pca 2 False 20\n",
      "mrr = 0.15187664843498472, pairs_count = 28\n",
      "\n",
      "none pca 2 False 21\n",
      "mrr = 0.14444167399386978, pairs_count = 29\n",
      "\n",
      "none pca 2 False 22\n",
      "mrr = 0.13462621548909612, pairs_count = 33\n",
      "\n",
      "none pca 2 False 23\n",
      "mrr = 0.12645176441989917, pairs_count = 34\n",
      "\n",
      "none pca 2 False 24\n",
      "mrr = 0.12035152074674575, pairs_count = 36\n",
      "\n",
      "none pca 2 False 25\n",
      "mrr = 0.11471716361111317, pairs_count = 37\n",
      "\n",
      "none pca 2 False 26\n",
      "mrr = 0.11065786794957395, pairs_count = 38\n",
      "\n",
      "none pca 2 False 27\n",
      "mrr = 0.10967898144670887, pairs_count = 39\n",
      "\n",
      "none pca 2 False 28\n",
      "mrr = 0.10697317039649439, pairs_count = 40\n",
      "\n",
      "none pca 2 False 29\n",
      "mrr = 0.10603894538566379, pairs_count = 40\n",
      "\n",
      "none pca 2 False 30\n",
      "mrr = 0.10763895098183042, pairs_count = 42\n",
      "\n",
      "none pca 2 False 31\n",
      "mrr = 0.10231428294287959, pairs_count = 45\n",
      "\n",
      "none pca 2 False 32\n",
      "mrr = 0.10168060457162273, pairs_count = 45\n",
      "\n",
      "none pca 2 False 33\n",
      "mrr = 0.10006532864426819, pairs_count = 46\n",
      "\n",
      "none pca 2 False 34\n",
      "mrr = 0.10041184696871616, pairs_count = 46\n",
      "\n",
      "none pca 2 False 35\n",
      "mrr = 0.09505226226132882, pairs_count = 46\n",
      "\n",
      "none pca 2 False 36\n",
      "mrr = 0.09184905545592544, pairs_count = 53\n",
      "\n",
      "none pca 2 False 37\n",
      "mrr = 0.08964340974278852, pairs_count = 55\n",
      "\n",
      "none pca 2 False 38\n",
      "mrr = 0.08953393996347189, pairs_count = 55\n",
      "\n",
      "none pca 2 False 39\n",
      "mrr = 0.0862169580884247, pairs_count = 58\n",
      "\n",
      "none pca 2 False 40\n",
      "mrr = 0.08500084395526525, pairs_count = 59\n",
      "\n",
      "none pca 2 False 41\n",
      "mrr = 0.08478500461829133, pairs_count = 59\n",
      "\n",
      "none pca 2 False 42\n",
      "mrr = 0.08451445134147924, pairs_count = 59\n",
      "\n",
      "none pca 2 False 43\n",
      "mrr = 0.08486822711386859, pairs_count = 60\n",
      "\n",
      "none pca 2 False 44\n",
      "mrr = 0.08694521483281843, pairs_count = 61\n",
      "\n",
      "none pca 2 False 45\n",
      "mrr = 0.08007757899268417, pairs_count = 67\n",
      "\n",
      "none pca 2 False 46\n",
      "mrr = 0.07787200798651732, pairs_count = 69\n",
      "\n",
      "none pca 2 False 47\n",
      "mrr = 0.0738128185896969, pairs_count = 72\n",
      "\n",
      "none pca 2 False 48\n",
      "mrr = 0.07277860510923148, pairs_count = 73\n",
      "\n",
      "none pca 2 False 49\n",
      "mrr = 0.07261152073410775, pairs_count = 73\n",
      "\n",
      "none pca 2 False 50\n",
      "mrr = 0.06951196882363854, pairs_count = 77\n",
      "\n",
      "none sim_euclid 5 True 20\n",
      "mrr = 0.15497712509706035, pairs_count = 28\n",
      "\n",
      "none sim_euclid 5 True 21\n",
      "mrr = 0.1402903499855613, pairs_count = 29\n",
      "\n",
      "none sim_euclid 5 True 22\n",
      "mrr = 0.13958623475440687, pairs_count = 33\n",
      "\n",
      "none sim_euclid 5 True 23\n",
      "mrr = 0.13592834537531542, pairs_count = 34\n",
      "\n",
      "none sim_euclid 5 True 24\n",
      "mrr = 0.12675889736846258, pairs_count = 36\n",
      "\n",
      "none sim_euclid 5 True 25\n",
      "mrr = 0.11351128255500002, pairs_count = 37\n",
      "\n",
      "none sim_euclid 5 True 26\n",
      "mrr = 0.11417226356623193, pairs_count = 38\n",
      "\n",
      "none sim_euclid 5 True 27\n",
      "mrr = 0.11565724838084473, pairs_count = 39\n",
      "\n",
      "none sim_euclid 5 True 28\n",
      "mrr = 0.1140723313431409, pairs_count = 40\n",
      "\n",
      "none sim_euclid 5 True 29\n",
      "mrr = 0.11418993537886421, pairs_count = 40\n",
      "\n",
      "none sim_euclid 5 True 30\n",
      "mrr = 0.11239184323284504, pairs_count = 42\n",
      "\n",
      "none sim_euclid 5 True 31\n",
      "mrr = 0.1087238480775142, pairs_count = 45\n",
      "\n",
      "none sim_euclid 5 True 32\n",
      "mrr = 0.10620154244141976, pairs_count = 45\n",
      "\n",
      "none sim_euclid 5 True 33\n",
      "mrr = 0.102358656978261, pairs_count = 46\n",
      "\n",
      "none sim_euclid 5 True 34\n",
      "mrr = 0.09835992845298215, pairs_count = 46\n",
      "\n",
      "none sim_euclid 5 True 35\n",
      "mrr = 0.10243735662720811, pairs_count = 46\n",
      "\n",
      "none sim_euclid 5 True 36\n",
      "mrr = 0.099209877811851, pairs_count = 53\n",
      "\n",
      "none sim_euclid 5 True 37\n",
      "mrr = 0.09714918487494068, pairs_count = 55\n",
      "\n",
      "none sim_euclid 5 True 38\n",
      "mrr = 0.09745758898114132, pairs_count = 55\n",
      "\n",
      "none sim_euclid 5 True 39\n",
      "mrr = 0.09296908418907365, pairs_count = 58\n",
      "\n",
      "none sim_euclid 5 True 40\n",
      "mrr = 0.08818265568546434, pairs_count = 59\n",
      "\n",
      "none sim_euclid 5 True 41\n",
      "mrr = 0.09144834094395264, pairs_count = 59\n",
      "\n",
      "none sim_euclid 5 True 42\n",
      "mrr = 0.0896301236190826, pairs_count = 59\n",
      "\n",
      "none sim_euclid 5 True 43\n",
      "mrr = 0.09124620640022865, pairs_count = 60\n",
      "\n",
      "none sim_euclid 5 True 44\n",
      "mrr = 0.09360843702603526, pairs_count = 61\n",
      "\n",
      "none sim_euclid 5 True 45\n",
      "mrr = 0.08561886599681591, pairs_count = 67\n",
      "\n",
      "none sim_euclid 5 True 46\n",
      "mrr = 0.08360357362783592, pairs_count = 69\n",
      "\n",
      "none sim_euclid 5 True 47\n",
      "mrr = 0.07730362569300722, pairs_count = 72\n",
      "\n",
      "none sim_euclid 5 True 48\n",
      "mrr = 0.07641397513587518, pairs_count = 73\n",
      "\n",
      "none sim_euclid 5 True 49\n",
      "mrr = 0.07032903926659147, pairs_count = 73\n",
      "\n",
      "none sim_euclid 5 True 50\n",
      "mrr = 0.06497293626898439, pairs_count = 77\n",
      "\n",
      "none sim_cos 5 True 20\n",
      "mrr = 0.19078218147319634, pairs_count = 28\n",
      "\n",
      "none sim_cos 5 True 21\n",
      "mrr = 0.1871520305080855, pairs_count = 29\n",
      "\n",
      "none sim_cos 5 True 22\n",
      "mrr = 0.17950316338574632, pairs_count = 33\n",
      "\n",
      "none sim_cos 5 True 23\n",
      "mrr = 0.1693916592935191, pairs_count = 34\n",
      "\n",
      "none sim_cos 5 True 24\n",
      "mrr = 0.1710487033264571, pairs_count = 36\n",
      "\n",
      "none sim_cos 5 True 25\n",
      "mrr = 0.17785358207720353, pairs_count = 37\n",
      "\n",
      "none sim_cos 5 True 26\n",
      "mrr = 0.16471754164737953, pairs_count = 38\n",
      "\n",
      "none sim_cos 5 True 27\n",
      "mrr = 0.1640266998457178, pairs_count = 39\n",
      "\n",
      "none sim_cos 5 True 28\n",
      "mrr = 0.1544591754825706, pairs_count = 40\n",
      "\n",
      "none sim_cos 5 True 29\n",
      "mrr = 0.1585320175324265, pairs_count = 40\n",
      "\n",
      "none sim_cos 5 True 30\n",
      "mrr = 0.15438281952062688, pairs_count = 42\n",
      "\n",
      "none sim_cos 5 True 31\n",
      "mrr = 0.15377635057862404, pairs_count = 45\n",
      "\n",
      "none sim_cos 5 True 32\n",
      "mrr = 0.15280704568859796, pairs_count = 45\n",
      "\n",
      "none sim_cos 5 True 33\n",
      "mrr = 0.14587228646348224, pairs_count = 46\n",
      "\n",
      "none sim_cos 5 True 34\n",
      "mrr = 0.16096995903931746, pairs_count = 46\n",
      "\n",
      "none sim_cos 5 True 35\n",
      "mrr = 0.15848614610356518, pairs_count = 46\n",
      "\n",
      "none sim_cos 5 True 36\n",
      "mrr = 0.142585879972455, pairs_count = 53\n",
      "\n",
      "none sim_cos 5 True 37\n",
      "mrr = 0.1473940564161707, pairs_count = 55\n",
      "\n",
      "none sim_cos 5 True 38\n",
      "mrr = 0.14719985136919397, pairs_count = 55\n",
      "\n",
      "none sim_cos 5 True 39\n",
      "mrr = 0.14548245487309935, pairs_count = 58\n",
      "\n",
      "none sim_cos 5 True 40\n",
      "mrr = 0.14916158360529652, pairs_count = 59\n",
      "\n",
      "none sim_cos 5 True 41\n",
      "mrr = 0.14748049391267384, pairs_count = 59\n",
      "\n",
      "none sim_cos 5 True 42\n",
      "mrr = 0.14435127597587188, pairs_count = 59\n",
      "\n",
      "none sim_cos 5 True 43\n",
      "mrr = 0.14050676568617645, pairs_count = 60\n",
      "\n",
      "none sim_cos 5 True 44\n",
      "mrr = 0.14116714946110798, pairs_count = 61\n",
      "\n",
      "none sim_cos 5 True 45\n",
      "mrr = 0.1369895095144777, pairs_count = 67\n",
      "\n",
      "none sim_cos 5 True 46\n",
      "mrr = 0.1348547236761556, pairs_count = 69\n",
      "\n",
      "none sim_cos 5 True 47\n",
      "mrr = 0.13259976747070568, pairs_count = 72\n",
      "\n",
      "none sim_cos 5 True 48\n",
      "mrr = 0.13204925078624546, pairs_count = 73\n",
      "\n",
      "none sim_cos 5 True 49\n",
      "mrr = 0.12949700527367286, pairs_count = 73\n",
      "\n",
      "none sim_cos 5 True 50\n",
      "mrr = 0.13640561333425036, pairs_count = 77\n",
      "\n",
      "none umap 5 True 20\n",
      "mrr = 0.1977491885212926, pairs_count = 28\n",
      "\n",
      "none umap 5 True 21\n",
      "mrr = 0.17982404705825333, pairs_count = 29\n",
      "\n",
      "none umap 5 True 22\n",
      "mrr = 0.17476537337661424, pairs_count = 33\n",
      "\n",
      "none umap 5 True 23\n",
      "mrr = 0.18527932871575825, pairs_count = 34\n",
      "\n",
      "none umap 5 True 24\n",
      "mrr = 0.15122020695606037, pairs_count = 36\n",
      "\n",
      "none umap 5 True 25\n",
      "mrr = 0.14920758985608587, pairs_count = 37\n",
      "\n",
      "none umap 5 True 26\n",
      "mrr = 0.14876707340012327, pairs_count = 38\n",
      "\n",
      "none umap 5 True 27\n",
      "mrr = 0.14715272348051572, pairs_count = 39\n",
      "\n",
      "none umap 5 True 28\n",
      "mrr = 0.1315092636518006, pairs_count = 40\n",
      "\n",
      "none umap 5 True 29\n",
      "mrr = 0.14526361130109008, pairs_count = 40\n",
      "\n",
      "none umap 5 True 30\n",
      "mrr = 0.14223154923684495, pairs_count = 42\n",
      "\n",
      "none umap 5 True 31\n",
      "mrr = 0.12816065689773504, pairs_count = 45\n",
      "\n",
      "none umap 5 True 32\n",
      "mrr = 0.13654189464171712, pairs_count = 45\n",
      "\n",
      "none umap 5 True 33\n",
      "mrr = 0.12363056148221163, pairs_count = 46\n",
      "\n",
      "none umap 5 True 34\n",
      "mrr = 0.11822797328705162, pairs_count = 46\n",
      "\n",
      "none umap 5 True 35\n",
      "mrr = 0.12842101231617528, pairs_count = 46\n",
      "\n",
      "none umap 5 True 36\n",
      "mrr = 0.12133624275534748, pairs_count = 53\n",
      "\n",
      "none umap 5 True 37\n",
      "mrr = 0.11400349097758287, pairs_count = 55\n",
      "\n",
      "none umap 5 True 38\n",
      "mrr = 0.11333562153766566, pairs_count = 55\n",
      "\n",
      "none umap 5 True 39\n",
      "mrr = 0.11486746887438563, pairs_count = 58\n",
      "\n",
      "none umap 5 True 40\n",
      "mrr = 0.12209295146729465, pairs_count = 59\n",
      "\n",
      "none umap 5 True 41\n",
      "mrr = 0.11769749968155419, pairs_count = 59\n",
      "\n",
      "none umap 5 True 42\n",
      "mrr = 0.11131528539792591, pairs_count = 59\n",
      "\n",
      "none umap 5 True 43\n",
      "mrr = 0.11014965163833777, pairs_count = 60\n",
      "\n",
      "none umap 5 True 44\n",
      "mrr = 0.12986591289206245, pairs_count = 61\n",
      "\n",
      "none umap 5 True 45\n",
      "mrr = 0.11496787584721793, pairs_count = 67\n",
      "\n",
      "none umap 5 True 46\n",
      "mrr = 0.10838686332223584, pairs_count = 69\n",
      "\n",
      "none umap 5 True 47\n",
      "mrr = 0.12077417931146643, pairs_count = 72\n",
      "\n",
      "none umap 5 True 48\n",
      "mrr = 0.09825632229562938, pairs_count = 73\n",
      "\n",
      "none umap 5 True 49\n",
      "mrr = 0.1047669656453578, pairs_count = 73\n",
      "\n",
      "none umap 5 True 50\n",
      "mrr = 0.09377072756929393, pairs_count = 77\n",
      "\n",
      "none umap 2 False 20\n",
      "mrr = 0.1977491885212926, pairs_count = 28\n",
      "\n",
      "none umap 2 False 21\n",
      "mrr = 0.17982404705825333, pairs_count = 29\n",
      "\n",
      "none umap 2 False 22\n",
      "mrr = 0.17476537337661424, pairs_count = 33\n",
      "\n",
      "none umap 2 False 23\n",
      "mrr = 0.18527932871575825, pairs_count = 34\n",
      "\n",
      "none umap 2 False 24\n",
      "mrr = 0.15122020695606037, pairs_count = 36\n",
      "\n",
      "none umap 2 False 25\n",
      "mrr = 0.14920758985608587, pairs_count = 37\n",
      "\n",
      "none umap 2 False 26\n",
      "mrr = 0.14876707340012327, pairs_count = 38\n",
      "\n",
      "none umap 2 False 27\n",
      "mrr = 0.14715272348051572, pairs_count = 39\n",
      "\n",
      "none umap 2 False 28\n",
      "mrr = 0.1315092636518006, pairs_count = 40\n",
      "\n",
      "none umap 2 False 29\n",
      "mrr = 0.14526361130109008, pairs_count = 40\n",
      "\n",
      "none umap 2 False 30\n",
      "mrr = 0.14223154923684495, pairs_count = 42\n",
      "\n",
      "none umap 2 False 31\n",
      "mrr = 0.12816065689773504, pairs_count = 45\n",
      "\n",
      "none umap 2 False 32\n",
      "mrr = 0.13654189464171712, pairs_count = 45\n",
      "\n",
      "none umap 2 False 33\n",
      "mrr = 0.12363056148221163, pairs_count = 46\n",
      "\n",
      "none umap 2 False 34\n",
      "mrr = 0.11822797328705162, pairs_count = 46\n",
      "\n",
      "none umap 2 False 35\n",
      "mrr = 0.12842101231617528, pairs_count = 46\n",
      "\n",
      "none umap 2 False 36\n",
      "mrr = 0.12133624275534748, pairs_count = 53\n",
      "\n",
      "none umap 2 False 37\n",
      "mrr = 0.11400349097758287, pairs_count = 55\n",
      "\n",
      "none umap 2 False 38\n",
      "mrr = 0.11333562153766566, pairs_count = 55\n",
      "\n",
      "none umap 2 False 39\n",
      "mrr = 0.11486746887438563, pairs_count = 58\n",
      "\n",
      "none umap 2 False 40\n",
      "mrr = 0.12209295146729465, pairs_count = 59\n",
      "\n",
      "none umap 2 False 41\n",
      "mrr = 0.11769749968155419, pairs_count = 59\n",
      "\n",
      "none umap 2 False 42\n",
      "mrr = 0.11131528539792591, pairs_count = 59\n",
      "\n",
      "none umap 2 False 43\n",
      "mrr = 0.11014965163833777, pairs_count = 60\n",
      "\n",
      "none umap 2 False 44\n",
      "mrr = 0.12986591289206245, pairs_count = 61\n",
      "\n",
      "none umap 2 False 45\n",
      "mrr = 0.11496787584721793, pairs_count = 67\n",
      "\n",
      "none umap 2 False 46\n",
      "mrr = 0.10838686332223584, pairs_count = 69\n",
      "\n",
      "none umap 2 False 47\n",
      "mrr = 0.12077417931146643, pairs_count = 72\n",
      "\n",
      "none umap 2 False 48\n",
      "mrr = 0.09825632229562938, pairs_count = 73\n",
      "\n",
      "none umap 2 False 49\n",
      "mrr = 0.1047669656453578, pairs_count = 73\n",
      "\n",
      "none umap 2 False 50\n",
      "mrr = 0.09377072756929393, pairs_count = 77\n",
      "\n",
      "skill tsne 5 True 20\n",
      "mrr = 0.19635499474218637, pairs_count = 28\n",
      "\n",
      "skill tsne 5 True 21\n",
      "mrr = 0.1853764069881091, pairs_count = 29\n",
      "\n",
      "skill tsne 5 True 22\n",
      "mrr = 0.19011425436283513, pairs_count = 33\n",
      "\n",
      "skill tsne 5 True 23\n",
      "mrr = 0.19821054991520415, pairs_count = 34\n",
      "\n",
      "skill tsne 5 True 24\n",
      "mrr = 0.1961254922093512, pairs_count = 36\n",
      "\n",
      "skill tsne 5 True 25\n",
      "mrr = 0.20354375072379838, pairs_count = 37\n",
      "\n",
      "skill tsne 5 True 26\n",
      "mrr = 0.19501956534291778, pairs_count = 38\n",
      "\n",
      "skill tsne 5 True 27\n",
      "mrr = 0.19313206374708863, pairs_count = 39\n",
      "\n",
      "skill tsne 5 True 28\n",
      "mrr = 0.18901424834105274, pairs_count = 40\n",
      "\n",
      "skill tsne 5 True 29\n",
      "mrr = 0.18934869396754667, pairs_count = 40\n",
      "\n",
      "skill tsne 5 True 30\n",
      "mrr = 0.18701929133221962, pairs_count = 42\n",
      "\n",
      "skill tsne 5 True 31\n",
      "mrr = 0.16514744710913043, pairs_count = 45\n",
      "\n",
      "skill tsne 5 True 32\n",
      "mrr = 0.16916057993744749, pairs_count = 45\n",
      "\n",
      "skill tsne 5 True 33\n",
      "mrr = 0.17020103073571052, pairs_count = 46\n",
      "\n",
      "skill tsne 5 True 34\n",
      "mrr = 0.1803865568773977, pairs_count = 46\n",
      "\n",
      "skill tsne 5 True 35\n",
      "mrr = 0.17410526379225477, pairs_count = 46\n",
      "\n",
      "skill tsne 5 True 36\n",
      "mrr = 0.14754216879104012, pairs_count = 53\n",
      "\n",
      "skill tsne 5 True 37\n",
      "mrr = 0.15086114778383905, pairs_count = 55\n",
      "\n",
      "skill tsne 5 True 38\n",
      "mrr = 0.1395248272164438, pairs_count = 55\n",
      "\n",
      "skill tsne 5 True 39\n",
      "mrr = 0.1435131480781725, pairs_count = 58\n",
      "\n",
      "skill tsne 5 True 40\n",
      "mrr = 0.14143734646090006, pairs_count = 59\n",
      "\n",
      "skill tsne 5 True 41\n",
      "mrr = 0.1395306859678307, pairs_count = 59\n",
      "\n",
      "skill tsne 5 True 42\n",
      "mrr = 0.1458652619685676, pairs_count = 59\n",
      "\n",
      "skill tsne 5 True 43\n",
      "mrr = 0.1426199824799804, pairs_count = 60\n",
      "\n",
      "skill tsne 5 True 44\n",
      "mrr = 0.14728297714071553, pairs_count = 61\n",
      "\n",
      "skill tsne 5 True 45\n",
      "mrr = 0.1358451217588793, pairs_count = 67\n",
      "\n",
      "skill tsne 5 True 46\n",
      "mrr = 0.13378585979404573, pairs_count = 69\n",
      "\n",
      "skill tsne 5 True 47\n",
      "mrr = 0.13698884447198897, pairs_count = 72\n",
      "\n",
      "skill tsne 5 True 48\n",
      "mrr = 0.12514780567153588, pairs_count = 73\n",
      "\n",
      "skill tsne 5 True 49\n",
      "mrr = 0.12670484404532423, pairs_count = 73\n",
      "\n",
      "skill tsne 5 True 50\n",
      "mrr = 0.13814139850322005, pairs_count = 77\n",
      "\n",
      "skill als 5 True 20\n",
      "mrr = 0.1592392743373168, pairs_count = 28\n",
      "\n",
      "skill als 5 True 21\n",
      "mrr = 0.14075752320902216, pairs_count = 29\n",
      "\n",
      "skill als 5 True 22\n",
      "mrr = 0.11200894799008092, pairs_count = 33\n",
      "\n",
      "skill als 5 True 23\n",
      "mrr = 0.13345186809113135, pairs_count = 34\n",
      "\n",
      "skill als 5 True 24\n",
      "mrr = 0.11834214747903125, pairs_count = 36\n",
      "\n",
      "skill als 5 True 25\n",
      "mrr = 0.11235525866797684, pairs_count = 37\n",
      "\n",
      "skill als 5 True 26\n",
      "mrr = 0.1026381948476613, pairs_count = 38\n",
      "\n",
      "skill als 5 True 27\n",
      "mrr = 0.09925907192022186, pairs_count = 39\n",
      "\n",
      "skill als 5 True 28\n",
      "mrr = 0.10735439606200106, pairs_count = 40\n",
      "\n",
      "skill als 5 True 29\n",
      "mrr = 0.10294864154484859, pairs_count = 40\n",
      "\n",
      "skill als 5 True 30\n",
      "mrr = 0.09293550767087415, pairs_count = 42\n",
      "\n",
      "skill als 5 True 31\n",
      "mrr = 0.09204494591739802, pairs_count = 45\n",
      "\n",
      "skill als 5 True 32\n",
      "mrr = 0.09673439734129254, pairs_count = 45\n",
      "\n",
      "skill als 5 True 33\n",
      "mrr = 0.10171959483495722, pairs_count = 46\n",
      "\n",
      "skill als 5 True 34\n",
      "mrr = 0.10200692275421419, pairs_count = 46\n",
      "\n",
      "skill als 5 True 35\n",
      "mrr = 0.09677738530399167, pairs_count = 46\n",
      "\n",
      "skill als 5 True 36\n",
      "mrr = 0.0911720563004357, pairs_count = 53\n",
      "\n",
      "skill als 5 True 37\n",
      "mrr = 0.0860540441244586, pairs_count = 55\n",
      "\n",
      "skill als 5 True 38\n",
      "mrr = 0.08350993101852301, pairs_count = 55\n",
      "\n",
      "skill als 5 True 39\n",
      "mrr = 0.0790969188492139, pairs_count = 58\n",
      "\n",
      "skill als 5 True 40\n",
      "mrr = 0.0772269202517783, pairs_count = 59\n",
      "\n",
      "skill als 5 True 41\n",
      "mrr = 0.08866663469212661, pairs_count = 59\n",
      "\n",
      "skill als 5 True 42\n",
      "mrr = 0.08519701604873016, pairs_count = 59\n",
      "\n",
      "skill als 5 True 43\n",
      "mrr = 0.08325406238056181, pairs_count = 60\n",
      "\n",
      "skill als 5 True 44\n",
      "mrr = 0.07761418520793703, pairs_count = 61\n",
      "\n",
      "skill als 5 True 45\n",
      "mrr = 0.08378544170605862, pairs_count = 67\n",
      "\n",
      "skill als 5 True 46\n",
      "mrr = 0.08137434587089312, pairs_count = 69\n",
      "\n",
      "skill als 5 True 47\n",
      "mrr = 0.07773237183997345, pairs_count = 72\n",
      "\n",
      "skill als 5 True 48\n",
      "mrr = 0.06951110372739241, pairs_count = 73\n",
      "\n",
      "skill als 5 True 49\n",
      "mrr = 0.07405647554004288, pairs_count = 73\n",
      "\n",
      "skill als 5 True 50\n",
      "mrr = 0.07034344320312773, pairs_count = 77\n",
      "\n",
      "skill svd 5 True 20\n",
      "mrr = 0.16504563948212506, pairs_count = 28\n",
      "\n",
      "skill svd 5 True 21\n",
      "mrr = 0.16030702545297346, pairs_count = 29\n",
      "\n",
      "skill svd 5 True 22\n",
      "mrr = 0.16160431432415207, pairs_count = 33\n",
      "\n",
      "skill svd 5 True 23\n",
      "mrr = 0.14890232534560774, pairs_count = 34\n",
      "\n",
      "skill svd 5 True 24\n",
      "mrr = 0.1442019341260181, pairs_count = 36\n",
      "\n",
      "skill svd 5 True 25\n",
      "mrr = 0.14761183556452045, pairs_count = 37\n",
      "\n",
      "skill svd 5 True 26\n",
      "mrr = 0.14793077526794632, pairs_count = 38\n",
      "\n",
      "skill svd 5 True 27\n",
      "mrr = 0.13157632568519506, pairs_count = 39\n",
      "\n",
      "skill svd 5 True 28\n",
      "mrr = 0.1303696900032568, pairs_count = 40\n",
      "\n",
      "skill svd 5 True 29\n",
      "mrr = 0.13170190083323524, pairs_count = 40\n",
      "\n",
      "skill svd 5 True 30\n",
      "mrr = 0.1380017405160947, pairs_count = 42\n",
      "\n",
      "skill svd 5 True 31\n",
      "mrr = 0.1418618446276957, pairs_count = 45\n",
      "\n",
      "skill svd 5 True 32\n",
      "mrr = 0.13731681244835614, pairs_count = 45\n",
      "\n",
      "skill svd 5 True 33\n",
      "mrr = 0.14170621277924056, pairs_count = 46\n",
      "\n",
      "skill svd 5 True 34\n",
      "mrr = 0.1470457229791341, pairs_count = 46\n",
      "\n",
      "skill svd 5 True 35\n",
      "mrr = 0.152639183376766, pairs_count = 46\n",
      "\n",
      "skill svd 5 True 36\n",
      "mrr = 0.12581797755947027, pairs_count = 53\n",
      "\n",
      "skill svd 5 True 37\n",
      "mrr = 0.12001003214869746, pairs_count = 55\n",
      "\n",
      "skill svd 5 True 38\n",
      "mrr = 0.11694331243753159, pairs_count = 55\n",
      "\n",
      "skill svd 5 True 39\n",
      "mrr = 0.11370513986296539, pairs_count = 58\n",
      "\n",
      "skill svd 5 True 40\n",
      "mrr = 0.11006057433622851, pairs_count = 59\n",
      "\n",
      "skill svd 5 True 41\n",
      "mrr = 0.12202978806727402, pairs_count = 59\n",
      "\n",
      "skill svd 5 True 42\n",
      "mrr = 0.12104440372158083, pairs_count = 59\n",
      "\n",
      "skill svd 5 True 43\n",
      "mrr = 0.11784340683967548, pairs_count = 60\n",
      "\n",
      "skill svd 5 True 44\n",
      "mrr = 0.11240842305362175, pairs_count = 61\n",
      "\n",
      "skill svd 5 True 45\n",
      "mrr = 0.10699733968866591, pairs_count = 67\n",
      "\n",
      "skill svd 5 True 46\n",
      "mrr = 0.1032213638191756, pairs_count = 69\n",
      "\n",
      "skill svd 5 True 47\n",
      "mrr = 0.09889061721002076, pairs_count = 72\n",
      "\n",
      "skill svd 5 True 48\n",
      "mrr = 0.09548752782966334, pairs_count = 73\n",
      "\n",
      "skill svd 5 True 49\n",
      "mrr = 0.09486078233460257, pairs_count = 73\n",
      "\n",
      "skill svd 5 True 50\n",
      "mrr = 0.1061380934373299, pairs_count = 77\n",
      "\n",
      "skill svd 2 False 20\n",
      "mrr = 0.16504563948212506, pairs_count = 28\n",
      "\n",
      "skill svd 2 False 21\n",
      "mrr = 0.16030702545297346, pairs_count = 29\n",
      "\n",
      "skill svd 2 False 22\n",
      "mrr = 0.16160431432415207, pairs_count = 33\n",
      "\n",
      "skill svd 2 False 23\n",
      "mrr = 0.14890232534560774, pairs_count = 34\n",
      "\n",
      "skill svd 2 False 24\n",
      "mrr = 0.1442019341260181, pairs_count = 36\n",
      "\n",
      "skill svd 2 False 25\n",
      "mrr = 0.14761183556452045, pairs_count = 37\n",
      "\n",
      "skill svd 2 False 26\n",
      "mrr = 0.14793077526794632, pairs_count = 38\n",
      "\n",
      "skill svd 2 False 27\n",
      "mrr = 0.13157632568519506, pairs_count = 39\n",
      "\n",
      "skill svd 2 False 28\n",
      "mrr = 0.1303696900032568, pairs_count = 40\n",
      "\n",
      "skill svd 2 False 29\n",
      "mrr = 0.13170190083323524, pairs_count = 40\n",
      "\n",
      "skill svd 2 False 30\n",
      "mrr = 0.1380017405160947, pairs_count = 42\n",
      "\n",
      "skill svd 2 False 31\n",
      "mrr = 0.1418618446276957, pairs_count = 45\n",
      "\n",
      "skill svd 2 False 32\n",
      "mrr = 0.13731681244835614, pairs_count = 45\n",
      "\n",
      "skill svd 2 False 33\n",
      "mrr = 0.14170621277924056, pairs_count = 46\n",
      "\n",
      "skill svd 2 False 34\n",
      "mrr = 0.1470457229791341, pairs_count = 46\n",
      "\n",
      "skill svd 2 False 35\n",
      "mrr = 0.152639183376766, pairs_count = 46\n",
      "\n",
      "skill svd 2 False 36\n",
      "mrr = 0.12581797755947027, pairs_count = 53\n",
      "\n",
      "skill svd 2 False 37\n",
      "mrr = 0.12001003214869746, pairs_count = 55\n",
      "\n",
      "skill svd 2 False 38\n",
      "mrr = 0.11694331243753159, pairs_count = 55\n",
      "\n",
      "skill svd 2 False 39\n",
      "mrr = 0.11370513986296539, pairs_count = 58\n",
      "\n",
      "skill svd 2 False 40\n",
      "mrr = 0.11006057433622851, pairs_count = 59\n",
      "\n",
      "skill svd 2 False 41\n",
      "mrr = 0.12202978806727402, pairs_count = 59\n",
      "\n",
      "skill svd 2 False 42\n",
      "mrr = 0.12104440372158083, pairs_count = 59\n",
      "\n",
      "skill svd 2 False 43\n",
      "mrr = 0.11784340683967548, pairs_count = 60\n",
      "\n",
      "skill svd 2 False 44\n",
      "mrr = 0.11240842305362175, pairs_count = 61\n",
      "\n",
      "skill svd 2 False 45\n",
      "mrr = 0.10699733968866591, pairs_count = 67\n",
      "\n",
      "skill svd 2 False 46\n",
      "mrr = 0.1032213638191756, pairs_count = 69\n",
      "\n",
      "skill svd 2 False 47\n",
      "mrr = 0.09889061721002076, pairs_count = 72\n",
      "\n",
      "skill svd 2 False 48\n",
      "mrr = 0.09548752782966334, pairs_count = 73\n",
      "\n",
      "skill svd 2 False 49\n",
      "mrr = 0.09486078233460257, pairs_count = 73\n",
      "\n",
      "skill svd 2 False 50\n",
      "mrr = 0.1061380934373299, pairs_count = 77\n",
      "\n",
      "skill pca 5 True 20\n",
      "mrr = 0.16947234132753503, pairs_count = 28\n",
      "\n",
      "skill pca 5 True 21\n",
      "mrr = 0.16080901917946597, pairs_count = 29\n",
      "\n",
      "skill pca 5 True 22\n",
      "mrr = 0.16387887957654979, pairs_count = 33\n",
      "\n",
      "skill pca 5 True 23\n",
      "mrr = 0.15860114145435808, pairs_count = 34\n",
      "\n",
      "skill pca 5 True 24\n",
      "mrr = 0.1596880349571926, pairs_count = 36\n",
      "\n",
      "skill pca 5 True 25\n",
      "mrr = 0.16030470021329213, pairs_count = 37\n",
      "\n",
      "skill pca 5 True 26\n",
      "mrr = 0.1518618636653616, pairs_count = 38\n",
      "\n",
      "skill pca 5 True 27\n",
      "mrr = 0.14892821573496895, pairs_count = 39\n",
      "\n",
      "skill pca 5 True 28\n",
      "mrr = 0.14635357435779134, pairs_count = 40\n",
      "\n",
      "skill pca 5 True 29\n",
      "mrr = 0.14366248992249908, pairs_count = 40\n",
      "\n",
      "skill pca 5 True 30\n",
      "mrr = 0.1356069176474523, pairs_count = 42\n",
      "\n",
      "skill pca 5 True 31\n",
      "mrr = 0.1365121398939132, pairs_count = 45\n",
      "\n",
      "skill pca 5 True 32\n",
      "mrr = 0.13624425097183485, pairs_count = 45\n",
      "\n",
      "skill pca 5 True 33\n",
      "mrr = 0.14356464593558127, pairs_count = 46\n",
      "\n",
      "skill pca 5 True 34\n",
      "mrr = 0.14347061026745359, pairs_count = 46\n",
      "\n",
      "skill pca 5 True 35\n",
      "mrr = 0.13951505021538174, pairs_count = 46\n",
      "\n",
      "skill pca 5 True 36\n",
      "mrr = 0.13602538511746418, pairs_count = 53\n",
      "\n",
      "skill pca 5 True 37\n",
      "mrr = 0.13182879354904029, pairs_count = 55\n",
      "\n",
      "skill pca 5 True 38\n",
      "mrr = 0.1287753675870113, pairs_count = 55\n",
      "\n",
      "skill pca 5 True 39\n",
      "mrr = 0.13114194647084093, pairs_count = 58\n",
      "\n",
      "skill pca 5 True 40\n",
      "mrr = 0.12958365395842553, pairs_count = 59\n",
      "\n",
      "skill pca 5 True 41\n",
      "mrr = 0.12846945954761804, pairs_count = 59\n",
      "\n",
      "skill pca 5 True 42\n",
      "mrr = 0.13288135756152256, pairs_count = 59\n",
      "\n",
      "skill pca 5 True 43\n",
      "mrr = 0.13628364728111592, pairs_count = 60\n",
      "\n",
      "skill pca 5 True 44\n",
      "mrr = 0.14070140451420227, pairs_count = 61\n",
      "\n",
      "skill pca 5 True 45\n",
      "mrr = 0.13400535069606345, pairs_count = 67\n",
      "\n",
      "skill pca 5 True 46\n",
      "mrr = 0.1319446620302522, pairs_count = 69\n",
      "\n",
      "skill pca 5 True 47\n",
      "mrr = 0.12678480359155148, pairs_count = 72\n",
      "\n",
      "skill pca 5 True 48\n",
      "mrr = 0.12284525463044385, pairs_count = 73\n",
      "\n",
      "skill pca 5 True 49\n",
      "mrr = 0.12631392594799223, pairs_count = 73\n",
      "\n",
      "skill pca 5 True 50\n",
      "mrr = 0.12648836248792297, pairs_count = 77\n",
      "\n",
      "skill pca 2 False 20\n",
      "mrr = 0.16947234132753503, pairs_count = 28\n",
      "\n",
      "skill pca 2 False 21\n",
      "mrr = 0.16080901917946597, pairs_count = 29\n",
      "\n",
      "skill pca 2 False 22\n",
      "mrr = 0.16387887957654979, pairs_count = 33\n",
      "\n",
      "skill pca 2 False 23\n",
      "mrr = 0.15860114145435808, pairs_count = 34\n",
      "\n",
      "skill pca 2 False 24\n",
      "mrr = 0.1596880349571926, pairs_count = 36\n",
      "\n",
      "skill pca 2 False 25\n",
      "mrr = 0.16030470021329213, pairs_count = 37\n",
      "\n",
      "skill pca 2 False 26\n",
      "mrr = 0.1518618636653616, pairs_count = 38\n",
      "\n",
      "skill pca 2 False 27\n",
      "mrr = 0.14892821573496895, pairs_count = 39\n",
      "\n",
      "skill pca 2 False 28\n",
      "mrr = 0.14635357435779134, pairs_count = 40\n",
      "\n",
      "skill pca 2 False 29\n",
      "mrr = 0.14366248992249908, pairs_count = 40\n",
      "\n",
      "skill pca 2 False 30\n",
      "mrr = 0.1356069176474523, pairs_count = 42\n",
      "\n",
      "skill pca 2 False 31\n",
      "mrr = 0.1365121398939132, pairs_count = 45\n",
      "\n",
      "skill pca 2 False 32\n",
      "mrr = 0.13624425097183485, pairs_count = 45\n",
      "\n",
      "skill pca 2 False 33\n",
      "mrr = 0.14356464593558127, pairs_count = 46\n",
      "\n",
      "skill pca 2 False 34\n",
      "mrr = 0.14347061026745359, pairs_count = 46\n",
      "\n",
      "skill pca 2 False 35\n",
      "mrr = 0.13951505021538174, pairs_count = 46\n",
      "\n",
      "skill pca 2 False 36\n",
      "mrr = 0.13602538511746418, pairs_count = 53\n",
      "\n",
      "skill pca 2 False 37\n",
      "mrr = 0.13182879354904029, pairs_count = 55\n",
      "\n",
      "skill pca 2 False 38\n",
      "mrr = 0.1287753675870113, pairs_count = 55\n",
      "\n",
      "skill pca 2 False 39\n",
      "mrr = 0.13114194647084093, pairs_count = 58\n",
      "\n",
      "skill pca 2 False 40\n",
      "mrr = 0.12958365395842553, pairs_count = 59\n",
      "\n",
      "skill pca 2 False 41\n",
      "mrr = 0.12846945954761804, pairs_count = 59\n",
      "\n",
      "skill pca 2 False 42\n",
      "mrr = 0.13288135756152256, pairs_count = 59\n",
      "\n",
      "skill pca 2 False 43\n",
      "mrr = 0.13628364728111592, pairs_count = 60\n",
      "\n",
      "skill pca 2 False 44\n",
      "mrr = 0.14070140451420227, pairs_count = 61\n",
      "\n",
      "skill pca 2 False 45\n",
      "mrr = 0.13400535069606345, pairs_count = 67\n",
      "\n",
      "skill pca 2 False 46\n",
      "mrr = 0.1319446620302522, pairs_count = 69\n",
      "\n",
      "skill pca 2 False 47\n",
      "mrr = 0.12678480359155148, pairs_count = 72\n",
      "\n",
      "skill pca 2 False 48\n",
      "mrr = 0.12284525463044385, pairs_count = 73\n",
      "\n",
      "skill pca 2 False 49\n",
      "mrr = 0.12631392594799223, pairs_count = 73\n",
      "\n",
      "skill pca 2 False 50\n",
      "mrr = 0.12648836248792297, pairs_count = 77\n",
      "\n",
      "skill sim_euclid 5 True 20\n",
      "mrr = 0.20414358981772499, pairs_count = 28\n",
      "\n",
      "skill sim_euclid 5 True 21\n",
      "mrr = 0.1761313143920469, pairs_count = 29\n",
      "\n",
      "skill sim_euclid 5 True 22\n",
      "mrr = 0.1784501636974899, pairs_count = 33\n",
      "\n",
      "skill sim_euclid 5 True 23\n",
      "mrr = 0.1812967791094314, pairs_count = 34\n",
      "\n",
      "skill sim_euclid 5 True 24\n",
      "mrr = 0.17800028456349845, pairs_count = 36\n",
      "\n",
      "skill sim_euclid 5 True 25\n",
      "mrr = 0.1806747072339154, pairs_count = 37\n",
      "\n",
      "skill sim_euclid 5 True 26\n",
      "mrr = 0.18608519061585324, pairs_count = 38\n",
      "\n",
      "skill sim_euclid 5 True 27\n",
      "mrr = 0.18736825470950164, pairs_count = 39\n",
      "\n",
      "skill sim_euclid 5 True 28\n",
      "mrr = 0.1710663409399401, pairs_count = 40\n",
      "\n",
      "skill sim_euclid 5 True 29\n",
      "mrr = 0.17183673290003249, pairs_count = 40\n",
      "\n",
      "skill sim_euclid 5 True 30\n",
      "mrr = 0.1587477598558867, pairs_count = 42\n",
      "\n",
      "skill sim_euclid 5 True 31\n",
      "mrr = 0.16135112556819772, pairs_count = 45\n",
      "\n",
      "skill sim_euclid 5 True 32\n",
      "mrr = 0.16072632809628432, pairs_count = 45\n",
      "\n",
      "skill sim_euclid 5 True 33\n",
      "mrr = 0.1554153623833048, pairs_count = 46\n",
      "\n",
      "skill sim_euclid 5 True 34\n",
      "mrr = 0.16365515778474507, pairs_count = 46\n",
      "\n",
      "skill sim_euclid 5 True 35\n",
      "mrr = 0.1562295576233518, pairs_count = 46\n",
      "\n",
      "skill sim_euclid 5 True 36\n",
      "mrr = 0.14915780141180537, pairs_count = 53\n",
      "\n",
      "skill sim_euclid 5 True 37\n",
      "mrr = 0.142120190239927, pairs_count = 55\n",
      "\n",
      "skill sim_euclid 5 True 38\n",
      "mrr = 0.1345332252774743, pairs_count = 55\n",
      "\n",
      "skill sim_euclid 5 True 39\n",
      "mrr = 0.146641087555991, pairs_count = 58\n",
      "\n",
      "skill sim_euclid 5 True 40\n",
      "mrr = 0.14030690079835062, pairs_count = 59\n",
      "\n",
      "skill sim_euclid 5 True 41\n",
      "mrr = 0.14419076438183778, pairs_count = 59\n",
      "\n",
      "skill sim_euclid 5 True 42\n",
      "mrr = 0.1387970285376486, pairs_count = 59\n",
      "\n",
      "skill sim_euclid 5 True 43\n",
      "mrr = 0.13917476221598332, pairs_count = 60\n",
      "\n",
      "skill sim_euclid 5 True 44\n",
      "mrr = 0.14290300479742318, pairs_count = 61\n",
      "\n",
      "skill sim_euclid 5 True 45\n",
      "mrr = 0.13589634647830412, pairs_count = 67\n",
      "\n",
      "skill sim_euclid 5 True 46\n",
      "mrr = 0.12372581661970432, pairs_count = 69\n",
      "\n",
      "skill sim_euclid 5 True 47\n",
      "mrr = 0.12627626989179547, pairs_count = 72\n",
      "\n",
      "skill sim_euclid 5 True 48\n",
      "mrr = 0.12696774929561075, pairs_count = 73\n",
      "\n",
      "skill sim_euclid 5 True 49\n",
      "mrr = 0.12271935806231236, pairs_count = 73\n",
      "\n",
      "skill sim_euclid 5 True 50\n",
      "mrr = 0.13095362352534898, pairs_count = 77\n",
      "\n",
      "skill sim_cos 5 True 20\n",
      "mrr = 0.19078218147319634, pairs_count = 28\n",
      "\n",
      "skill sim_cos 5 True 21\n",
      "mrr = 0.1871520305080855, pairs_count = 29\n",
      "\n",
      "skill sim_cos 5 True 22\n",
      "mrr = 0.17950316338574632, pairs_count = 33\n",
      "\n",
      "skill sim_cos 5 True 23\n",
      "mrr = 0.1693916592935191, pairs_count = 34\n",
      "\n",
      "skill sim_cos 5 True 24\n",
      "mrr = 0.1710487033264571, pairs_count = 36\n",
      "\n",
      "skill sim_cos 5 True 25\n",
      "mrr = 0.17785358207720353, pairs_count = 37\n",
      "\n",
      "skill sim_cos 5 True 26\n",
      "mrr = 0.16471754164737953, pairs_count = 38\n",
      "\n",
      "skill sim_cos 5 True 27\n",
      "mrr = 0.1640266998457178, pairs_count = 39\n",
      "\n",
      "skill sim_cos 5 True 28\n",
      "mrr = 0.1544591754825706, pairs_count = 40\n",
      "\n",
      "skill sim_cos 5 True 29\n",
      "mrr = 0.1585320175324265, pairs_count = 40\n",
      "\n",
      "skill sim_cos 5 True 30\n",
      "mrr = 0.15438281952062688, pairs_count = 42\n",
      "\n",
      "skill sim_cos 5 True 31\n",
      "mrr = 0.15377635057862404, pairs_count = 45\n",
      "\n",
      "skill sim_cos 5 True 32\n",
      "mrr = 0.15280704568859796, pairs_count = 45\n",
      "\n",
      "skill sim_cos 5 True 33\n",
      "mrr = 0.14587228646348224, pairs_count = 46\n",
      "\n",
      "skill sim_cos 5 True 34\n",
      "mrr = 0.16096995903931746, pairs_count = 46\n",
      "\n",
      "skill sim_cos 5 True 35\n",
      "mrr = 0.15848614610356518, pairs_count = 46\n",
      "\n",
      "skill sim_cos 5 True 36\n",
      "mrr = 0.142585879972455, pairs_count = 53\n",
      "\n",
      "skill sim_cos 5 True 37\n",
      "mrr = 0.1473940564161707, pairs_count = 55\n",
      "\n",
      "skill sim_cos 5 True 38\n",
      "mrr = 0.14719985136919397, pairs_count = 55\n",
      "\n",
      "skill sim_cos 5 True 39\n",
      "mrr = 0.14548245487309935, pairs_count = 58\n",
      "\n",
      "skill sim_cos 5 True 40\n",
      "mrr = 0.14916158360529652, pairs_count = 59\n",
      "\n",
      "skill sim_cos 5 True 41\n",
      "mrr = 0.14748049391267384, pairs_count = 59\n",
      "\n",
      "skill sim_cos 5 True 42\n",
      "mrr = 0.14435127597587188, pairs_count = 59\n",
      "\n",
      "skill sim_cos 5 True 43\n",
      "mrr = 0.14050676568617645, pairs_count = 60\n",
      "\n",
      "skill sim_cos 5 True 44\n",
      "mrr = 0.14116714946110798, pairs_count = 61\n",
      "\n",
      "skill sim_cos 5 True 45\n",
      "mrr = 0.1369895095144777, pairs_count = 67\n",
      "\n",
      "skill sim_cos 5 True 46\n",
      "mrr = 0.1348547236761556, pairs_count = 69\n",
      "\n",
      "skill sim_cos 5 True 47\n",
      "mrr = 0.13259976747070568, pairs_count = 72\n",
      "\n",
      "skill sim_cos 5 True 48\n",
      "mrr = 0.13204925078624546, pairs_count = 73\n",
      "\n",
      "skill sim_cos 5 True 49\n",
      "mrr = 0.12949700527367286, pairs_count = 73\n",
      "\n",
      "skill sim_cos 5 True 50\n",
      "mrr = 0.13640561333425036, pairs_count = 77\n",
      "\n",
      "skill umap 5 True 20\n",
      "mrr = 0.21178716282640703, pairs_count = 28\n",
      "\n",
      "skill umap 5 True 21\n",
      "mrr = 0.18914185171364478, pairs_count = 29\n",
      "\n",
      "skill umap 5 True 22\n",
      "mrr = 0.18616099603230257, pairs_count = 33\n",
      "\n",
      "skill umap 5 True 23\n",
      "mrr = 0.1729543354615551, pairs_count = 34\n",
      "\n",
      "skill umap 5 True 24\n",
      "mrr = 0.1792996783920808, pairs_count = 36\n",
      "\n",
      "skill umap 5 True 25\n",
      "mrr = 0.15256683946189883, pairs_count = 37\n",
      "\n",
      "skill umap 5 True 26\n",
      "mrr = 0.15928982792693516, pairs_count = 38\n",
      "\n",
      "skill umap 5 True 27\n",
      "mrr = 0.17948610817847885, pairs_count = 39\n",
      "\n",
      "skill umap 5 True 28\n",
      "mrr = 0.1626213641766481, pairs_count = 40\n",
      "\n",
      "skill umap 5 True 29\n",
      "mrr = 0.15982921963897453, pairs_count = 40\n",
      "\n",
      "skill umap 5 True 30\n",
      "mrr = 0.15602627712439615, pairs_count = 42\n",
      "\n",
      "skill umap 5 True 31\n",
      "mrr = 0.155243814562745, pairs_count = 45\n",
      "\n",
      "skill umap 5 True 32\n",
      "mrr = 0.14498922375486248, pairs_count = 45\n",
      "\n",
      "skill umap 5 True 33\n",
      "mrr = 0.14991082812196493, pairs_count = 46\n",
      "\n",
      "skill umap 5 True 34\n",
      "mrr = 0.15676193692190205, pairs_count = 46\n",
      "\n",
      "skill umap 5 True 35\n",
      "mrr = 0.1526383588930661, pairs_count = 46\n",
      "\n",
      "skill umap 5 True 36\n",
      "mrr = 0.1399753555081782, pairs_count = 53\n",
      "\n",
      "skill umap 5 True 37\n",
      "mrr = 0.13506059431811704, pairs_count = 55\n",
      "\n",
      "skill umap 5 True 38\n",
      "mrr = 0.1389243560319118, pairs_count = 55\n",
      "\n",
      "skill umap 5 True 39\n",
      "mrr = 0.14090690274909312, pairs_count = 58\n",
      "\n",
      "skill umap 5 True 40\n",
      "mrr = 0.14379785429040992, pairs_count = 59\n",
      "\n",
      "skill umap 5 True 41\n",
      "mrr = 0.1443717970111478, pairs_count = 59\n",
      "\n",
      "skill umap 5 True 42\n",
      "mrr = 0.13363651550148695, pairs_count = 59\n",
      "\n",
      "skill umap 5 True 43\n",
      "mrr = 0.14378469932550803, pairs_count = 60\n",
      "\n",
      "skill umap 5 True 44\n",
      "mrr = 0.13335510069689827, pairs_count = 61\n",
      "\n",
      "skill umap 5 True 45\n",
      "mrr = 0.13759627511401434, pairs_count = 67\n",
      "\n",
      "skill umap 5 True 46\n",
      "mrr = 0.13407014685788152, pairs_count = 69\n",
      "\n",
      "skill umap 5 True 47\n",
      "mrr = 0.13404492632763176, pairs_count = 72\n",
      "\n",
      "skill umap 5 True 48\n",
      "mrr = 0.1330965440595182, pairs_count = 73\n",
      "\n",
      "skill umap 5 True 49\n",
      "mrr = 0.12421146395944421, pairs_count = 73\n",
      "\n",
      "skill umap 5 True 50\n",
      "mrr = 0.12374156888713062, pairs_count = 77\n",
      "\n",
      "skill umap 2 False 20\n",
      "mrr = 0.21178716282640703, pairs_count = 28\n",
      "\n",
      "skill umap 2 False 21\n",
      "mrr = 0.18914185171364478, pairs_count = 29\n",
      "\n",
      "skill umap 2 False 22\n",
      "mrr = 0.18616099603230257, pairs_count = 33\n",
      "\n",
      "skill umap 2 False 23\n",
      "mrr = 0.1729543354615551, pairs_count = 34\n",
      "\n",
      "skill umap 2 False 24\n",
      "mrr = 0.1792996783920808, pairs_count = 36\n",
      "\n",
      "skill umap 2 False 25\n",
      "mrr = 0.15256683946189883, pairs_count = 37\n",
      "\n",
      "skill umap 2 False 26\n",
      "mrr = 0.15928982792693516, pairs_count = 38\n",
      "\n",
      "skill umap 2 False 27\n",
      "mrr = 0.17948610817847885, pairs_count = 39\n",
      "\n",
      "skill umap 2 False 28\n",
      "mrr = 0.1626213641766481, pairs_count = 40\n",
      "\n",
      "skill umap 2 False 29\n",
      "mrr = 0.15982921963897453, pairs_count = 40\n",
      "\n",
      "skill umap 2 False 30\n",
      "mrr = 0.15602627712439615, pairs_count = 42\n",
      "\n",
      "skill umap 2 False 31\n",
      "mrr = 0.155243814562745, pairs_count = 45\n",
      "\n",
      "skill umap 2 False 32\n",
      "mrr = 0.14498922375486248, pairs_count = 45\n",
      "\n",
      "skill umap 2 False 33\n",
      "mrr = 0.14991082812196493, pairs_count = 46\n",
      "\n",
      "skill umap 2 False 34\n",
      "mrr = 0.15676193692190205, pairs_count = 46\n",
      "\n",
      "skill umap 2 False 35\n",
      "mrr = 0.1526383588930661, pairs_count = 46\n",
      "\n",
      "skill umap 2 False 36\n",
      "mrr = 0.1399753555081782, pairs_count = 53\n",
      "\n",
      "skill umap 2 False 37\n",
      "mrr = 0.13506059431811704, pairs_count = 55\n",
      "\n",
      "skill umap 2 False 38\n",
      "mrr = 0.1389243560319118, pairs_count = 55\n",
      "\n",
      "skill umap 2 False 39\n",
      "mrr = 0.14090690274909312, pairs_count = 58\n",
      "\n",
      "skill umap 2 False 40\n",
      "mrr = 0.14379785429040992, pairs_count = 59\n",
      "\n",
      "skill umap 2 False 41\n",
      "mrr = 0.1443717970111478, pairs_count = 59\n",
      "\n",
      "skill umap 2 False 42\n",
      "mrr = 0.13363651550148695, pairs_count = 59\n",
      "\n",
      "skill umap 2 False 43\n",
      "mrr = 0.14378469932550803, pairs_count = 60\n",
      "\n",
      "skill umap 2 False 44\n",
      "mrr = 0.13335510069689827, pairs_count = 61\n",
      "\n",
      "skill umap 2 False 45\n",
      "mrr = 0.13759627511401434, pairs_count = 67\n",
      "\n",
      "skill umap 2 False 46\n",
      "mrr = 0.13407014685788152, pairs_count = 69\n",
      "\n",
      "skill umap 2 False 47\n",
      "mrr = 0.13404492632763176, pairs_count = 72\n",
      "\n",
      "skill umap 2 False 48\n",
      "mrr = 0.1330965440595182, pairs_count = 73\n",
      "\n",
      "skill umap 2 False 49\n",
      "mrr = 0.12421146395944421, pairs_count = 73\n",
      "\n",
      "skill umap 2 False 50\n",
      "mrr = 0.12374156888713062, pairs_count = 77\n",
      "\n",
      "prof tsne 5 True 20\n",
      "mrr = 0.17239447317548162, pairs_count = 28\n",
      "\n",
      "prof tsne 5 True 21\n",
      "mrr = 0.1531912667261977, pairs_count = 29\n",
      "\n",
      "prof tsne 5 True 22\n",
      "mrr = 0.15580715095052208, pairs_count = 33\n",
      "\n",
      "prof tsne 5 True 23\n",
      "mrr = 0.15352536023912253, pairs_count = 34\n",
      "\n",
      "prof tsne 5 True 24\n",
      "mrr = 0.15330238490486067, pairs_count = 36\n",
      "\n",
      "prof tsne 5 True 25\n",
      "mrr = 0.15278689865870007, pairs_count = 37\n",
      "\n",
      "prof tsne 5 True 26\n",
      "mrr = 0.1450675780467737, pairs_count = 38\n",
      "\n",
      "prof tsne 5 True 27\n",
      "mrr = 0.14604456167320679, pairs_count = 39\n",
      "\n",
      "prof tsne 5 True 28\n",
      "mrr = 0.15286512570350944, pairs_count = 40\n",
      "\n",
      "prof tsne 5 True 29\n",
      "mrr = 0.135501190722133, pairs_count = 40\n",
      "\n",
      "prof tsne 5 True 30\n",
      "mrr = 0.13037128469724846, pairs_count = 42\n",
      "\n",
      "prof tsne 5 True 31\n",
      "mrr = 0.12318928788242604, pairs_count = 45\n",
      "\n",
      "prof tsne 5 True 32\n",
      "mrr = 0.1370264469684616, pairs_count = 45\n",
      "\n",
      "prof tsne 5 True 33\n",
      "mrr = 0.1336463951500023, pairs_count = 46\n",
      "\n",
      "prof tsne 5 True 34\n",
      "mrr = 0.1275891672643692, pairs_count = 46\n",
      "\n",
      "prof tsne 5 True 35\n",
      "mrr = 0.13306246107843703, pairs_count = 46\n",
      "\n",
      "prof tsne 5 True 36\n",
      "mrr = 0.12185863220154416, pairs_count = 53\n",
      "\n",
      "prof tsne 5 True 37\n",
      "mrr = 0.12209689953524866, pairs_count = 55\n",
      "\n",
      "prof tsne 5 True 38\n",
      "mrr = 0.12831719222251592, pairs_count = 55\n",
      "\n",
      "prof tsne 5 True 39\n",
      "mrr = 0.13102543118980542, pairs_count = 58\n",
      "\n",
      "prof tsne 5 True 40\n",
      "mrr = 0.12308613708928103, pairs_count = 59\n",
      "\n",
      "prof tsne 5 True 41\n",
      "mrr = 0.12070924316238085, pairs_count = 59\n",
      "\n",
      "prof tsne 5 True 42\n",
      "mrr = 0.1259520507432806, pairs_count = 59\n",
      "\n",
      "prof tsne 5 True 43\n",
      "mrr = 0.1374754834697286, pairs_count = 60\n",
      "\n",
      "prof tsne 5 True 44\n",
      "mrr = 0.13077468952450663, pairs_count = 61\n",
      "\n",
      "prof tsne 5 True 45\n",
      "mrr = 0.12743866224754777, pairs_count = 67\n",
      "\n",
      "prof tsne 5 True 46\n",
      "mrr = 0.12419404611989357, pairs_count = 69\n",
      "\n",
      "prof tsne 5 True 47\n",
      "mrr = 0.11835210974771575, pairs_count = 72\n",
      "\n",
      "prof tsne 5 True 48\n",
      "mrr = 0.11031018539593908, pairs_count = 73\n",
      "\n",
      "prof tsne 5 True 49\n",
      "mrr = 0.09895061021523083, pairs_count = 73\n",
      "\n",
      "prof tsne 5 True 50\n",
      "mrr = 0.10531214569028877, pairs_count = 77\n",
      "\n",
      "prof als 5 True 20\n",
      "mrr = 0.08378615713414926, pairs_count = 28\n",
      "\n",
      "prof als 5 True 21\n",
      "mrr = 0.08659684393533208, pairs_count = 29\n",
      "\n",
      "prof als 5 True 22\n",
      "mrr = 0.11694194324894695, pairs_count = 33\n",
      "\n",
      "prof als 5 True 23\n",
      "mrr = 0.11350473684628148, pairs_count = 34\n",
      "\n",
      "prof als 5 True 24\n",
      "mrr = 0.09634291793684654, pairs_count = 36\n",
      "\n",
      "prof als 5 True 25\n",
      "mrr = 0.09962189748535831, pairs_count = 37\n",
      "\n",
      "prof als 5 True 26\n",
      "mrr = 0.07886363069889668, pairs_count = 38\n",
      "\n",
      "prof als 5 True 27\n",
      "mrr = 0.090501504506088, pairs_count = 39\n",
      "\n",
      "prof als 5 True 28\n",
      "mrr = 0.08877432925544917, pairs_count = 40\n",
      "\n",
      "prof als 5 True 29\n",
      "mrr = 0.09345273152169192, pairs_count = 40\n",
      "\n",
      "prof als 5 True 30\n",
      "mrr = 0.08068802937690664, pairs_count = 42\n",
      "\n",
      "prof als 5 True 31\n",
      "mrr = 0.09362728978901268, pairs_count = 45\n",
      "\n",
      "prof als 5 True 32\n",
      "mrr = 0.07471169424899787, pairs_count = 45\n",
      "\n",
      "prof als 5 True 33\n",
      "mrr = 0.0793293351751256, pairs_count = 46\n",
      "\n",
      "prof als 5 True 34\n",
      "mrr = 0.0855949845046861, pairs_count = 46\n",
      "\n",
      "prof als 5 True 35\n",
      "mrr = 0.0917242412572749, pairs_count = 46\n",
      "\n",
      "prof als 5 True 36\n",
      "mrr = 0.08018256216658544, pairs_count = 53\n",
      "\n",
      "prof als 5 True 37\n",
      "mrr = 0.07753314518375047, pairs_count = 55\n",
      "\n",
      "prof als 5 True 38\n",
      "mrr = 0.07031604565444785, pairs_count = 55\n",
      "\n",
      "prof als 5 True 39\n",
      "mrr = 0.07531584981810875, pairs_count = 58\n",
      "\n",
      "prof als 5 True 40\n",
      "mrr = 0.06900655641367791, pairs_count = 59\n",
      "\n",
      "prof als 5 True 41\n",
      "mrr = 0.0768333218772767, pairs_count = 59\n",
      "\n",
      "prof als 5 True 42\n",
      "mrr = 0.07571829470861592, pairs_count = 59\n",
      "\n",
      "prof als 5 True 43\n",
      "mrr = 0.06496272379120903, pairs_count = 60\n",
      "\n",
      "prof als 5 True 44\n",
      "mrr = 0.07423221971439284, pairs_count = 61\n",
      "\n",
      "prof als 5 True 45\n",
      "mrr = 0.07523971844159567, pairs_count = 67\n",
      "\n",
      "prof als 5 True 46\n",
      "mrr = 0.06381585490136173, pairs_count = 69\n",
      "\n",
      "prof als 5 True 47\n",
      "mrr = 0.0647898096273116, pairs_count = 72\n",
      "\n",
      "prof als 5 True 48\n",
      "mrr = 0.061860234843726145, pairs_count = 73\n",
      "\n",
      "prof als 5 True 49\n",
      "mrr = 0.060677738721225435, pairs_count = 73\n",
      "\n",
      "prof als 5 True 50\n",
      "mrr = 0.05908366989013478, pairs_count = 77\n",
      "\n",
      "prof svd 5 True 20\n",
      "mrr = 0.11749944111631638, pairs_count = 28\n",
      "\n",
      "prof svd 5 True 21\n",
      "mrr = 0.11330786888696515, pairs_count = 29\n",
      "\n",
      "prof svd 5 True 22\n",
      "mrr = 0.11175803866624266, pairs_count = 33\n",
      "\n",
      "prof svd 5 True 23\n",
      "mrr = 0.10638692166844252, pairs_count = 34\n",
      "\n",
      "prof svd 5 True 24\n",
      "mrr = 0.10208037372362554, pairs_count = 36\n",
      "\n",
      "prof svd 5 True 25\n",
      "mrr = 0.09697666217610602, pairs_count = 37\n",
      "\n",
      "prof svd 5 True 26\n",
      "mrr = 0.09316708802438972, pairs_count = 38\n",
      "\n",
      "prof svd 5 True 27\n",
      "mrr = 0.09254435792972822, pairs_count = 39\n",
      "\n",
      "prof svd 5 True 28\n",
      "mrr = 0.09074548722192656, pairs_count = 40\n",
      "\n",
      "prof svd 5 True 29\n",
      "mrr = 0.0907593124062692, pairs_count = 40\n",
      "\n",
      "prof svd 5 True 30\n",
      "mrr = 0.09091001400190972, pairs_count = 42\n",
      "\n",
      "prof svd 5 True 31\n",
      "mrr = 0.08786541054820586, pairs_count = 45\n",
      "\n",
      "prof svd 5 True 32\n",
      "mrr = 0.08741687050189927, pairs_count = 45\n",
      "\n",
      "prof svd 5 True 33\n",
      "mrr = 0.08598284205002367, pairs_count = 46\n",
      "\n",
      "prof svd 5 True 34\n",
      "mrr = 0.08713237366077742, pairs_count = 46\n",
      "\n",
      "prof svd 5 True 35\n",
      "mrr = 0.08541192390880922, pairs_count = 46\n",
      "\n",
      "prof svd 5 True 36\n",
      "mrr = 0.08758729615472989, pairs_count = 53\n",
      "\n",
      "prof svd 5 True 37\n",
      "mrr = 0.08991457795177178, pairs_count = 55\n",
      "\n",
      "prof svd 5 True 38\n",
      "mrr = 0.0894878104562943, pairs_count = 55\n",
      "\n",
      "prof svd 5 True 39\n",
      "mrr = 0.08721911965952273, pairs_count = 58\n",
      "\n",
      "prof svd 5 True 40\n",
      "mrr = 0.08300368281076577, pairs_count = 59\n",
      "\n",
      "prof svd 5 True 41\n",
      "mrr = 0.08154739295678232, pairs_count = 59\n",
      "\n",
      "prof svd 5 True 42\n",
      "mrr = 0.07947308435365016, pairs_count = 59\n",
      "\n",
      "prof svd 5 True 43\n",
      "mrr = 0.08525249195447214, pairs_count = 60\n",
      "\n",
      "prof svd 5 True 44\n",
      "mrr = 0.08618223004342704, pairs_count = 61\n",
      "\n",
      "prof svd 5 True 45\n",
      "mrr = 0.0795682344490681, pairs_count = 67\n",
      "\n",
      "prof svd 5 True 46\n",
      "mrr = 0.07617046263303133, pairs_count = 69\n",
      "\n",
      "prof svd 5 True 47\n",
      "mrr = 0.07550098882404892, pairs_count = 72\n",
      "\n",
      "prof svd 5 True 48\n",
      "mrr = 0.07420290475956645, pairs_count = 73\n",
      "\n",
      "prof svd 5 True 49\n",
      "mrr = 0.07413665712914852, pairs_count = 73\n",
      "\n",
      "prof svd 5 True 50\n",
      "mrr = 0.07141406964166733, pairs_count = 77\n",
      "\n",
      "prof svd 2 False 20\n",
      "mrr = 0.11749944111631638, pairs_count = 28\n",
      "\n",
      "prof svd 2 False 21\n",
      "mrr = 0.11330786888696515, pairs_count = 29\n",
      "\n",
      "prof svd 2 False 22\n",
      "mrr = 0.11175803866624266, pairs_count = 33\n",
      "\n",
      "prof svd 2 False 23\n",
      "mrr = 0.10638692166844252, pairs_count = 34\n",
      "\n",
      "prof svd 2 False 24\n",
      "mrr = 0.10208037372362554, pairs_count = 36\n",
      "\n",
      "prof svd 2 False 25\n",
      "mrr = 0.09697666217610602, pairs_count = 37\n",
      "\n",
      "prof svd 2 False 26\n",
      "mrr = 0.09316708802438972, pairs_count = 38\n",
      "\n",
      "prof svd 2 False 27\n",
      "mrr = 0.09254435792972822, pairs_count = 39\n",
      "\n",
      "prof svd 2 False 28\n",
      "mrr = 0.09074548722192656, pairs_count = 40\n",
      "\n",
      "prof svd 2 False 29\n",
      "mrr = 0.0907593124062692, pairs_count = 40\n",
      "\n",
      "prof svd 2 False 30\n",
      "mrr = 0.09091001400190972, pairs_count = 42\n",
      "\n",
      "prof svd 2 False 31\n",
      "mrr = 0.08786541054820586, pairs_count = 45\n",
      "\n",
      "prof svd 2 False 32\n",
      "mrr = 0.08741687050189927, pairs_count = 45\n",
      "\n",
      "prof svd 2 False 33\n",
      "mrr = 0.08598284205002367, pairs_count = 46\n",
      "\n",
      "prof svd 2 False 34\n",
      "mrr = 0.08713237366077742, pairs_count = 46\n",
      "\n",
      "prof svd 2 False 35\n",
      "mrr = 0.08541192390880922, pairs_count = 46\n",
      "\n",
      "prof svd 2 False 36\n",
      "mrr = 0.08758729615472989, pairs_count = 53\n",
      "\n",
      "prof svd 2 False 37\n",
      "mrr = 0.08991457795177178, pairs_count = 55\n",
      "\n",
      "prof svd 2 False 38\n",
      "mrr = 0.0894878104562943, pairs_count = 55\n",
      "\n",
      "prof svd 2 False 39\n",
      "mrr = 0.08721911965952273, pairs_count = 58\n",
      "\n",
      "prof svd 2 False 40\n",
      "mrr = 0.08300368281076577, pairs_count = 59\n",
      "\n",
      "prof svd 2 False 41\n",
      "mrr = 0.08154739295678232, pairs_count = 59\n",
      "\n",
      "prof svd 2 False 42\n",
      "mrr = 0.07947308435365016, pairs_count = 59\n",
      "\n",
      "prof svd 2 False 43\n",
      "mrr = 0.08525249195447214, pairs_count = 60\n",
      "\n",
      "prof svd 2 False 44\n",
      "mrr = 0.08618223004342704, pairs_count = 61\n",
      "\n",
      "prof svd 2 False 45\n",
      "mrr = 0.0795682344490681, pairs_count = 67\n",
      "\n",
      "prof svd 2 False 46\n",
      "mrr = 0.07617046263303133, pairs_count = 69\n",
      "\n",
      "prof svd 2 False 47\n",
      "mrr = 0.07550098882404892, pairs_count = 72\n",
      "\n",
      "prof svd 2 False 48\n",
      "mrr = 0.07420290475956645, pairs_count = 73\n",
      "\n",
      "prof svd 2 False 49\n",
      "mrr = 0.07413665712914852, pairs_count = 73\n",
      "\n",
      "prof svd 2 False 50\n",
      "mrr = 0.07141406964166733, pairs_count = 77\n",
      "\n",
      "prof pca 5 True 20\n",
      "mrr = 0.11044910887565089, pairs_count = 28\n",
      "\n",
      "prof pca 5 True 21\n",
      "mrr = 0.10745840139896524, pairs_count = 29\n",
      "\n",
      "prof pca 5 True 22\n",
      "mrr = 0.10268593778247247, pairs_count = 33\n",
      "\n",
      "prof pca 5 True 23\n",
      "mrr = 0.09838463188418664, pairs_count = 34\n",
      "\n",
      "prof pca 5 True 24\n",
      "mrr = 0.09315567919622988, pairs_count = 36\n",
      "\n",
      "prof pca 5 True 25\n",
      "mrr = 0.09324968646152709, pairs_count = 37\n",
      "\n",
      "prof pca 5 True 26\n",
      "mrr = 0.09060257935773905, pairs_count = 38\n",
      "\n",
      "prof pca 5 True 27\n",
      "mrr = 0.08878373807146432, pairs_count = 39\n",
      "\n",
      "prof pca 5 True 28\n",
      "mrr = 0.08691296905624708, pairs_count = 40\n",
      "\n",
      "prof pca 5 True 29\n",
      "mrr = 0.08636584363273433, pairs_count = 40\n",
      "\n",
      "prof pca 5 True 30\n",
      "mrr = 0.0836467026966937, pairs_count = 42\n",
      "\n",
      "prof pca 5 True 31\n",
      "mrr = 0.08658099828888932, pairs_count = 45\n",
      "\n",
      "prof pca 5 True 32\n",
      "mrr = 0.08446140198857605, pairs_count = 45\n",
      "\n",
      "prof pca 5 True 33\n",
      "mrr = 0.08313551112038053, pairs_count = 46\n",
      "\n",
      "prof pca 5 True 34\n",
      "mrr = 0.08313769807644966, pairs_count = 46\n",
      "\n",
      "prof pca 5 True 35\n",
      "mrr = 0.08168882227629372, pairs_count = 46\n",
      "\n",
      "prof pca 5 True 36\n",
      "mrr = 0.07656532654578581, pairs_count = 53\n",
      "\n",
      "prof pca 5 True 37\n",
      "mrr = 0.0742148469894322, pairs_count = 55\n",
      "\n",
      "prof pca 5 True 38\n",
      "mrr = 0.074064958881741, pairs_count = 55\n",
      "\n",
      "prof pca 5 True 39\n",
      "mrr = 0.0708394314119238, pairs_count = 58\n",
      "\n",
      "prof pca 5 True 40\n",
      "mrr = 0.06943741678958787, pairs_count = 59\n",
      "\n",
      "prof pca 5 True 41\n",
      "mrr = 0.06946366318768643, pairs_count = 59\n",
      "\n",
      "prof pca 5 True 42\n",
      "mrr = 0.06917285376321398, pairs_count = 59\n",
      "\n",
      "prof pca 5 True 43\n",
      "mrr = 0.07356665602596794, pairs_count = 60\n",
      "\n",
      "prof pca 5 True 44\n",
      "mrr = 0.07969733616654374, pairs_count = 61\n",
      "\n",
      "prof pca 5 True 45\n",
      "mrr = 0.07218920959302738, pairs_count = 67\n",
      "\n",
      "prof pca 5 True 46\n",
      "mrr = 0.06983240905576711, pairs_count = 69\n",
      "\n",
      "prof pca 5 True 47\n",
      "mrr = 0.06668953063019259, pairs_count = 72\n",
      "\n",
      "prof pca 5 True 48\n",
      "mrr = 0.06562545185425459, pairs_count = 73\n",
      "\n",
      "prof pca 5 True 49\n",
      "mrr = 0.06557523499839002, pairs_count = 73\n",
      "\n",
      "prof pca 5 True 50\n",
      "mrr = 0.06252661133428834, pairs_count = 77\n",
      "\n",
      "prof pca 2 False 20\n",
      "mrr = 0.11044910887565089, pairs_count = 28\n",
      "\n",
      "prof pca 2 False 21\n",
      "mrr = 0.10745840139896524, pairs_count = 29\n",
      "\n",
      "prof pca 2 False 22\n",
      "mrr = 0.10268593778247247, pairs_count = 33\n",
      "\n",
      "prof pca 2 False 23\n",
      "mrr = 0.09838463188418664, pairs_count = 34\n",
      "\n",
      "prof pca 2 False 24\n",
      "mrr = 0.09315567919622988, pairs_count = 36\n",
      "\n",
      "prof pca 2 False 25\n",
      "mrr = 0.09324968646152709, pairs_count = 37\n",
      "\n",
      "prof pca 2 False 26\n",
      "mrr = 0.09060257935773905, pairs_count = 38\n",
      "\n",
      "prof pca 2 False 27\n",
      "mrr = 0.08878373807146432, pairs_count = 39\n",
      "\n",
      "prof pca 2 False 28\n",
      "mrr = 0.08691296905624708, pairs_count = 40\n",
      "\n",
      "prof pca 2 False 29\n",
      "mrr = 0.08636584363273433, pairs_count = 40\n",
      "\n",
      "prof pca 2 False 30\n",
      "mrr = 0.0836467026966937, pairs_count = 42\n",
      "\n",
      "prof pca 2 False 31\n",
      "mrr = 0.08658099828888932, pairs_count = 45\n",
      "\n",
      "prof pca 2 False 32\n",
      "mrr = 0.08446140198857605, pairs_count = 45\n",
      "\n",
      "prof pca 2 False 33\n",
      "mrr = 0.08313551112038053, pairs_count = 46\n",
      "\n",
      "prof pca 2 False 34\n",
      "mrr = 0.08313769807644966, pairs_count = 46\n",
      "\n",
      "prof pca 2 False 35\n",
      "mrr = 0.08168882227629372, pairs_count = 46\n",
      "\n",
      "prof pca 2 False 36\n",
      "mrr = 0.07656532654578581, pairs_count = 53\n",
      "\n",
      "prof pca 2 False 37\n",
      "mrr = 0.0742148469894322, pairs_count = 55\n",
      "\n",
      "prof pca 2 False 38\n",
      "mrr = 0.074064958881741, pairs_count = 55\n",
      "\n",
      "prof pca 2 False 39\n",
      "mrr = 0.0708394314119238, pairs_count = 58\n",
      "\n",
      "prof pca 2 False 40\n",
      "mrr = 0.06943741678958787, pairs_count = 59\n",
      "\n",
      "prof pca 2 False 41\n",
      "mrr = 0.06946366318768643, pairs_count = 59\n",
      "\n",
      "prof pca 2 False 42\n",
      "mrr = 0.06917285376321398, pairs_count = 59\n",
      "\n",
      "prof pca 2 False 43\n",
      "mrr = 0.07356665602596794, pairs_count = 60\n",
      "\n",
      "prof pca 2 False 44\n",
      "mrr = 0.07969733616654374, pairs_count = 61\n",
      "\n",
      "prof pca 2 False 45\n",
      "mrr = 0.07218920959302738, pairs_count = 67\n",
      "\n",
      "prof pca 2 False 46\n",
      "mrr = 0.06983240905576711, pairs_count = 69\n",
      "\n",
      "prof pca 2 False 47\n",
      "mrr = 0.06668953063019259, pairs_count = 72\n",
      "\n",
      "prof pca 2 False 48\n",
      "mrr = 0.06562545185425459, pairs_count = 73\n",
      "\n",
      "prof pca 2 False 49\n",
      "mrr = 0.06557523499839002, pairs_count = 73\n",
      "\n",
      "prof pca 2 False 50\n",
      "mrr = 0.06252661133428834, pairs_count = 77\n",
      "\n",
      "prof sim_euclid 5 True 20\n",
      "mrr = 0.13363884591376146, pairs_count = 28\n",
      "\n",
      "prof sim_euclid 5 True 21\n",
      "mrr = 0.12461235704088573, pairs_count = 29\n",
      "\n",
      "prof sim_euclid 5 True 22\n",
      "mrr = 0.12951578314141557, pairs_count = 33\n",
      "\n",
      "prof sim_euclid 5 True 23\n",
      "mrr = 0.12387882246772249, pairs_count = 34\n",
      "\n",
      "prof sim_euclid 5 True 24\n",
      "mrr = 0.12438009425123638, pairs_count = 36\n",
      "\n",
      "prof sim_euclid 5 True 25\n",
      "mrr = 0.11744170469744374, pairs_count = 37\n",
      "\n",
      "prof sim_euclid 5 True 26\n",
      "mrr = 0.11181318478701004, pairs_count = 38\n",
      "\n",
      "prof sim_euclid 5 True 27\n",
      "mrr = 0.11030327076419834, pairs_count = 39\n",
      "\n",
      "prof sim_euclid 5 True 28\n",
      "mrr = 0.1066550551116757, pairs_count = 40\n",
      "\n",
      "prof sim_euclid 5 True 29\n",
      "mrr = 0.1059821300668274, pairs_count = 40\n",
      "\n",
      "prof sim_euclid 5 True 30\n",
      "mrr = 0.10400483104360973, pairs_count = 42\n",
      "\n",
      "prof sim_euclid 5 True 31\n",
      "mrr = 0.10250112638614224, pairs_count = 45\n",
      "\n",
      "prof sim_euclid 5 True 32\n",
      "mrr = 0.09966188539229527, pairs_count = 45\n",
      "\n",
      "prof sim_euclid 5 True 33\n",
      "mrr = 0.09290652922866385, pairs_count = 46\n",
      "\n",
      "prof sim_euclid 5 True 34\n",
      "mrr = 0.09466761260598469, pairs_count = 46\n",
      "\n",
      "prof sim_euclid 5 True 35\n",
      "mrr = 0.08667040482159534, pairs_count = 46\n",
      "\n",
      "prof sim_euclid 5 True 36\n",
      "mrr = 0.09205505352982903, pairs_count = 53\n",
      "\n",
      "prof sim_euclid 5 True 37\n",
      "mrr = 0.08449226718640657, pairs_count = 55\n",
      "\n",
      "prof sim_euclid 5 True 38\n",
      "mrr = 0.08125044092526451, pairs_count = 55\n",
      "\n",
      "prof sim_euclid 5 True 39\n",
      "mrr = 0.08269001187903727, pairs_count = 58\n",
      "\n",
      "prof sim_euclid 5 True 40\n",
      "mrr = 0.0694869594524422, pairs_count = 59\n",
      "\n",
      "prof sim_euclid 5 True 41\n",
      "mrr = 0.07395457932646946, pairs_count = 59\n",
      "\n",
      "prof sim_euclid 5 True 42\n",
      "mrr = 0.07447608274044942, pairs_count = 59\n",
      "\n",
      "prof sim_euclid 5 True 43\n",
      "mrr = 0.07838866562010781, pairs_count = 60\n",
      "\n",
      "prof sim_euclid 5 True 44\n",
      "mrr = 0.0790351509831537, pairs_count = 61\n",
      "\n",
      "prof sim_euclid 5 True 45\n",
      "mrr = 0.07086779800261232, pairs_count = 67\n",
      "\n",
      "prof sim_euclid 5 True 46\n",
      "mrr = 0.07124792836331051, pairs_count = 69\n",
      "\n",
      "prof sim_euclid 5 True 47\n",
      "mrr = 0.06565689302591343, pairs_count = 72\n",
      "\n",
      "prof sim_euclid 5 True 48\n",
      "mrr = 0.0655583294161708, pairs_count = 73\n",
      "\n",
      "prof sim_euclid 5 True 49\n",
      "mrr = 0.06529435739130578, pairs_count = 73\n",
      "\n",
      "prof sim_euclid 5 True 50\n",
      "mrr = 0.06775451750404105, pairs_count = 77\n",
      "\n",
      "prof sim_cos 5 True 20\n",
      "mrr = 0.15932741761141386, pairs_count = 28\n",
      "\n",
      "prof sim_cos 5 True 21\n",
      "mrr = 0.18757811354720133, pairs_count = 29\n",
      "\n",
      "prof sim_cos 5 True 22\n",
      "mrr = 0.22224208868496537, pairs_count = 33\n",
      "\n",
      "prof sim_cos 5 True 23\n",
      "mrr = 0.19304875174441902, pairs_count = 34\n",
      "\n",
      "prof sim_cos 5 True 24\n",
      "mrr = 0.19820265348074903, pairs_count = 36\n",
      "\n",
      "prof sim_cos 5 True 25\n",
      "mrr = 0.18991029986238153, pairs_count = 37\n",
      "\n",
      "prof sim_cos 5 True 26\n",
      "mrr = 0.17964521407713277, pairs_count = 38\n",
      "\n",
      "prof sim_cos 5 True 27\n",
      "mrr = 0.1741205739505041, pairs_count = 39\n",
      "\n",
      "prof sim_cos 5 True 28\n",
      "mrr = 0.17055969022883788, pairs_count = 40\n",
      "\n",
      "prof sim_cos 5 True 29\n",
      "mrr = 0.16392145812661396, pairs_count = 40\n",
      "\n",
      "prof sim_cos 5 True 30\n",
      "mrr = 0.16725375695147418, pairs_count = 42\n",
      "\n",
      "prof sim_cos 5 True 31\n",
      "mrr = 0.16637880370949942, pairs_count = 45\n",
      "\n",
      "prof sim_cos 5 True 32\n",
      "mrr = 0.17332215703012865, pairs_count = 45\n",
      "\n",
      "prof sim_cos 5 True 33\n",
      "mrr = 0.17155748877727967, pairs_count = 46\n",
      "\n",
      "prof sim_cos 5 True 34\n",
      "mrr = 0.16695783426822508, pairs_count = 46\n",
      "\n",
      "prof sim_cos 5 True 35\n",
      "mrr = 0.16707263844296888, pairs_count = 46\n",
      "\n",
      "prof sim_cos 5 True 36\n",
      "mrr = 0.17467540146308835, pairs_count = 53\n",
      "\n",
      "prof sim_cos 5 True 37\n",
      "mrr = 0.1688730960189452, pairs_count = 55\n",
      "\n",
      "prof sim_cos 5 True 38\n",
      "mrr = 0.16004738164753377, pairs_count = 55\n",
      "\n",
      "prof sim_cos 5 True 39\n",
      "mrr = 0.16138135354589758, pairs_count = 58\n",
      "\n",
      "prof sim_cos 5 True 40\n",
      "mrr = 0.16208026054264205, pairs_count = 59\n",
      "\n",
      "prof sim_cos 5 True 41\n",
      "mrr = 0.1696313478758494, pairs_count = 59\n",
      "\n",
      "prof sim_cos 5 True 42\n",
      "mrr = 0.15203768330440995, pairs_count = 59\n",
      "\n",
      "prof sim_cos 5 True 43\n",
      "mrr = 0.15910516664038812, pairs_count = 60\n",
      "\n",
      "prof sim_cos 5 True 44\n",
      "mrr = 0.1618030221935372, pairs_count = 61\n",
      "\n",
      "prof sim_cos 5 True 45\n",
      "mrr = 0.14901806396588954, pairs_count = 67\n",
      "\n",
      "prof sim_cos 5 True 46\n",
      "mrr = 0.15001047269051945, pairs_count = 69\n",
      "\n",
      "prof sim_cos 5 True 47\n",
      "mrr = 0.14519840886988672, pairs_count = 72\n",
      "\n",
      "prof sim_cos 5 True 48\n",
      "mrr = 0.1430289336316111, pairs_count = 73\n",
      "\n",
      "prof sim_cos 5 True 49\n",
      "mrr = 0.14449946796218552, pairs_count = 73\n",
      "\n",
      "prof sim_cos 5 True 50\n",
      "mrr = 0.14066487187397309, pairs_count = 77\n",
      "\n",
      "prof umap 5 True 20\n",
      "mrr = 0.20303273558036664, pairs_count = 28\n",
      "\n",
      "prof umap 5 True 21\n",
      "mrr = 0.18403114620383818, pairs_count = 29\n",
      "\n",
      "prof umap 5 True 22\n",
      "mrr = 0.1633111535576323, pairs_count = 33\n",
      "\n",
      "prof umap 5 True 23\n",
      "mrr = 0.17639276877836987, pairs_count = 34\n",
      "\n",
      "prof umap 5 True 24\n",
      "mrr = 0.16522197030208302, pairs_count = 36\n",
      "\n",
      "prof umap 5 True 25\n",
      "mrr = 0.14179572730055465, pairs_count = 37\n",
      "\n",
      "prof umap 5 True 26\n",
      "mrr = 0.14744866539762436, pairs_count = 38\n",
      "\n",
      "prof umap 5 True 27\n",
      "mrr = 0.15485362671019728, pairs_count = 39\n",
      "\n",
      "prof umap 5 True 28\n",
      "mrr = 0.14190421133164752, pairs_count = 40\n",
      "\n",
      "prof umap 5 True 29\n",
      "mrr = 0.14888082722256055, pairs_count = 40\n",
      "\n",
      "prof umap 5 True 30\n",
      "mrr = 0.14900633184543352, pairs_count = 42\n",
      "\n",
      "prof umap 5 True 31\n",
      "mrr = 0.15367612249765036, pairs_count = 45\n",
      "\n",
      "prof umap 5 True 32\n",
      "mrr = 0.13175732333905504, pairs_count = 45\n",
      "\n",
      "prof umap 5 True 33\n",
      "mrr = 0.1398247652133852, pairs_count = 46\n",
      "\n",
      "prof umap 5 True 34\n",
      "mrr = 0.13777338665831798, pairs_count = 46\n",
      "\n",
      "prof umap 5 True 35\n",
      "mrr = 0.12179634730518338, pairs_count = 46\n",
      "\n",
      "prof umap 5 True 36\n",
      "mrr = 0.13074593336140233, pairs_count = 53\n",
      "\n",
      "prof umap 5 True 37\n",
      "mrr = 0.11907683728411035, pairs_count = 55\n",
      "\n",
      "prof umap 5 True 38\n",
      "mrr = 0.12899106530410334, pairs_count = 55\n",
      "\n",
      "prof umap 5 True 39\n",
      "mrr = 0.1253029909156109, pairs_count = 58\n",
      "\n",
      "prof umap 5 True 40\n",
      "mrr = 0.12541776788725167, pairs_count = 59\n",
      "\n",
      "prof umap 5 True 41\n",
      "mrr = 0.12522074264964236, pairs_count = 59\n",
      "\n",
      "prof umap 5 True 42\n",
      "mrr = 0.12802817194040222, pairs_count = 59\n",
      "\n",
      "prof umap 5 True 43\n",
      "mrr = 0.13377321722437027, pairs_count = 60\n",
      "\n",
      "prof umap 5 True 44\n",
      "mrr = 0.136266760953374, pairs_count = 61\n",
      "\n",
      "prof umap 5 True 45\n",
      "mrr = 0.13000319002455155, pairs_count = 67\n",
      "\n",
      "prof umap 5 True 46\n",
      "mrr = 0.125888031354812, pairs_count = 69\n",
      "\n",
      "prof umap 5 True 47\n",
      "mrr = 0.11446758258592683, pairs_count = 72\n",
      "\n",
      "prof umap 5 True 48\n",
      "mrr = 0.11753083588751914, pairs_count = 73\n",
      "\n",
      "prof umap 5 True 49\n",
      "mrr = 0.12315389223027305, pairs_count = 73\n",
      "\n",
      "prof umap 5 True 50\n",
      "mrr = 0.10555597971478108, pairs_count = 77\n",
      "\n",
      "prof umap 2 False 20\n",
      "mrr = 0.20303273558036664, pairs_count = 28\n",
      "\n",
      "prof umap 2 False 21\n",
      "mrr = 0.18403114620383818, pairs_count = 29\n",
      "\n",
      "prof umap 2 False 22\n",
      "mrr = 0.1633111535576323, pairs_count = 33\n",
      "\n",
      "prof umap 2 False 23\n",
      "mrr = 0.17639276877836987, pairs_count = 34\n",
      "\n",
      "prof umap 2 False 24\n",
      "mrr = 0.16522197030208302, pairs_count = 36\n",
      "\n",
      "prof umap 2 False 25\n",
      "mrr = 0.14179572730055465, pairs_count = 37\n",
      "\n",
      "prof umap 2 False 26\n",
      "mrr = 0.14744866539762436, pairs_count = 38\n",
      "\n",
      "prof umap 2 False 27\n",
      "mrr = 0.15485362671019728, pairs_count = 39\n",
      "\n",
      "prof umap 2 False 28\n",
      "mrr = 0.14190421133164752, pairs_count = 40\n",
      "\n",
      "prof umap 2 False 29\n",
      "mrr = 0.14888082722256055, pairs_count = 40\n",
      "\n",
      "prof umap 2 False 30\n",
      "mrr = 0.14900633184543352, pairs_count = 42\n",
      "\n",
      "prof umap 2 False 31\n",
      "mrr = 0.15367612249765036, pairs_count = 45\n",
      "\n",
      "prof umap 2 False 32\n",
      "mrr = 0.13175732333905504, pairs_count = 45\n",
      "\n",
      "prof umap 2 False 33\n",
      "mrr = 0.1398247652133852, pairs_count = 46\n",
      "\n",
      "prof umap 2 False 34\n",
      "mrr = 0.13777338665831798, pairs_count = 46\n",
      "\n",
      "prof umap 2 False 35\n",
      "mrr = 0.12179634730518338, pairs_count = 46\n",
      "\n",
      "prof umap 2 False 36\n",
      "mrr = 0.13074593336140233, pairs_count = 53\n",
      "\n",
      "prof umap 2 False 37\n",
      "mrr = 0.11907683728411035, pairs_count = 55\n",
      "\n",
      "prof umap 2 False 38\n",
      "mrr = 0.12899106530410334, pairs_count = 55\n",
      "\n",
      "prof umap 2 False 39\n",
      "mrr = 0.1253029909156109, pairs_count = 58\n",
      "\n",
      "prof umap 2 False 40\n",
      "mrr = 0.12541776788725167, pairs_count = 59\n",
      "\n",
      "prof umap 2 False 41\n",
      "mrr = 0.12522074264964236, pairs_count = 59\n",
      "\n",
      "prof umap 2 False 42\n",
      "mrr = 0.12802817194040222, pairs_count = 59\n",
      "\n",
      "prof umap 2 False 43\n",
      "mrr = 0.13377321722437027, pairs_count = 60\n",
      "\n",
      "prof umap 2 False 44\n",
      "mrr = 0.136266760953374, pairs_count = 61\n",
      "\n",
      "prof umap 2 False 45\n",
      "mrr = 0.13000319002455155, pairs_count = 67\n",
      "\n",
      "prof umap 2 False 46\n",
      "mrr = 0.125888031354812, pairs_count = 69\n",
      "\n",
      "prof umap 2 False 47\n",
      "mrr = 0.11446758258592683, pairs_count = 72\n",
      "\n",
      "prof umap 2 False 48\n",
      "mrr = 0.11753083588751914, pairs_count = 73\n",
      "\n",
      "prof umap 2 False 49\n",
      "mrr = 0.12315389223027305, pairs_count = 73\n",
      "\n",
      "prof umap 2 False 50\n",
      "mrr = 0.10555597971478108, pairs_count = 77\n",
      "\n",
      "bm tsne 5 True 20\n",
      "mrr = 0.13214912142031696, pairs_count = 28\n",
      "\n",
      "bm tsne 5 True 21\n",
      "mrr = 0.188373679655521, pairs_count = 29\n",
      "\n",
      "bm tsne 5 True 22\n",
      "mrr = 0.18223720811640118, pairs_count = 33\n",
      "\n",
      "bm tsne 5 True 23\n",
      "mrr = 0.17507170699342525, pairs_count = 34\n",
      "\n",
      "bm tsne 5 True 24\n",
      "mrr = 0.14266069925647118, pairs_count = 36\n",
      "\n",
      "bm tsne 5 True 25\n",
      "mrr = 0.16602730719331, pairs_count = 37\n",
      "\n",
      "bm tsne 5 True 26\n",
      "mrr = 0.16153777069703007, pairs_count = 38\n",
      "\n",
      "bm tsne 5 True 27\n",
      "mrr = 0.14854820999421997, pairs_count = 39\n",
      "\n",
      "bm tsne 5 True 28\n",
      "mrr = 0.1307602691066371, pairs_count = 40\n",
      "\n",
      "bm tsne 5 True 29\n",
      "mrr = 0.157956412630163, pairs_count = 40\n",
      "\n",
      "bm tsne 5 True 30\n",
      "mrr = 0.1428342081742168, pairs_count = 42\n",
      "\n",
      "bm tsne 5 True 31\n",
      "mrr = 0.1412842524412704, pairs_count = 45\n",
      "\n",
      "bm tsne 5 True 32\n",
      "mrr = 0.14511783853596585, pairs_count = 45\n",
      "\n",
      "bm tsne 5 True 33\n",
      "mrr = 0.1581613318182245, pairs_count = 46\n",
      "\n",
      "bm tsne 5 True 34\n",
      "mrr = 0.15481502046388437, pairs_count = 46\n",
      "\n",
      "bm tsne 5 True 35\n",
      "mrr = 0.13971705062530512, pairs_count = 46\n",
      "\n",
      "bm tsne 5 True 36\n",
      "mrr = 0.12946828876994657, pairs_count = 53\n",
      "\n",
      "bm tsne 5 True 37\n",
      "mrr = 0.1372729070408177, pairs_count = 55\n",
      "\n",
      "bm tsne 5 True 38\n",
      "mrr = 0.12459782297986276, pairs_count = 55\n",
      "\n",
      "bm tsne 5 True 39\n",
      "mrr = 0.14546326791658457, pairs_count = 58\n",
      "\n",
      "bm tsne 5 True 40\n",
      "mrr = 0.13793767782434735, pairs_count = 59\n",
      "\n",
      "bm tsne 5 True 41\n",
      "mrr = 0.14077284058138653, pairs_count = 59\n",
      "\n",
      "bm tsne 5 True 42\n",
      "mrr = 0.14459172524107114, pairs_count = 59\n",
      "\n",
      "bm tsne 5 True 43\n",
      "mrr = 0.1429358369013762, pairs_count = 60\n",
      "\n",
      "bm tsne 5 True 44\n",
      "mrr = 0.14092526721281956, pairs_count = 61\n",
      "\n",
      "bm tsne 5 True 45\n",
      "mrr = 0.14103518040010435, pairs_count = 67\n",
      "\n",
      "bm tsne 5 True 46\n",
      "mrr = 0.13209645153396674, pairs_count = 69\n",
      "\n",
      "bm tsne 5 True 47\n",
      "mrr = 0.13475571908400025, pairs_count = 72\n",
      "\n",
      "bm tsne 5 True 48\n",
      "mrr = 0.12680019127941125, pairs_count = 73\n",
      "\n",
      "bm tsne 5 True 49\n",
      "mrr = 0.13478135864797378, pairs_count = 73\n",
      "\n",
      "bm tsne 5 True 50\n",
      "mrr = 0.12451762139912854, pairs_count = 77\n",
      "\n",
      "bm als 5 True 20\n",
      "mrr = 0.07249368931951714, pairs_count = 28\n",
      "\n",
      "bm als 5 True 21\n",
      "mrr = 0.10778879900298803, pairs_count = 29\n",
      "\n",
      "bm als 5 True 22\n",
      "mrr = 0.08707181652361644, pairs_count = 33\n",
      "\n",
      "bm als 5 True 23\n",
      "mrr = 0.06326837679897426, pairs_count = 34\n",
      "\n",
      "bm als 5 True 24\n",
      "mrr = 0.08761515935989467, pairs_count = 36\n",
      "\n",
      "bm als 5 True 25\n",
      "mrr = 0.06184608697875378, pairs_count = 37\n",
      "\n",
      "bm als 5 True 26\n",
      "mrr = 0.11038879087174966, pairs_count = 38\n",
      "\n",
      "bm als 5 True 27\n",
      "mrr = 0.08926527546702903, pairs_count = 39\n",
      "\n",
      "bm als 5 True 28\n",
      "mrr = 0.0736034071785199, pairs_count = 40\n",
      "\n",
      "bm als 5 True 29\n",
      "mrr = 0.061672023874745296, pairs_count = 40\n",
      "\n",
      "bm als 5 True 30\n",
      "mrr = 0.10958583313300965, pairs_count = 42\n",
      "\n",
      "bm als 5 True 31\n",
      "mrr = 0.07147809016858318, pairs_count = 45\n",
      "\n",
      "bm als 5 True 32\n",
      "mrr = 0.10419361603152127, pairs_count = 45\n",
      "\n",
      "bm als 5 True 33\n",
      "mrr = 0.0625204354492125, pairs_count = 46\n",
      "\n",
      "bm als 5 True 34\n",
      "mrr = 0.10037308861759432, pairs_count = 46\n",
      "\n",
      "bm als 5 True 35\n",
      "mrr = 0.09585092109177239, pairs_count = 46\n",
      "\n",
      "bm als 5 True 36\n",
      "mrr = 0.07640007629454851, pairs_count = 53\n",
      "\n",
      "bm als 5 True 37\n",
      "mrr = 0.08370292612843631, pairs_count = 55\n",
      "\n",
      "bm als 5 True 38\n",
      "mrr = 0.07489841835332631, pairs_count = 55\n",
      "\n",
      "bm als 5 True 39\n",
      "mrr = 0.08073398223585763, pairs_count = 58\n",
      "\n",
      "bm als 5 True 40\n",
      "mrr = 0.06978968752923656, pairs_count = 59\n",
      "\n",
      "bm als 5 True 41\n",
      "mrr = 0.06731457578996641, pairs_count = 59\n",
      "\n",
      "bm als 5 True 42\n",
      "mrr = 0.082853042069345, pairs_count = 59\n",
      "\n",
      "bm als 5 True 43\n",
      "mrr = 0.07209759143738524, pairs_count = 60\n",
      "\n",
      "bm als 5 True 44\n",
      "mrr = 0.06490211170760836, pairs_count = 61\n",
      "\n",
      "bm als 5 True 45\n",
      "mrr = 0.06619225614990638, pairs_count = 67\n",
      "\n",
      "bm als 5 True 46\n",
      "mrr = 0.07513058179227192, pairs_count = 69\n",
      "\n",
      "bm als 5 True 47\n",
      "mrr = 0.06874429954169742, pairs_count = 72\n",
      "\n",
      "bm als 5 True 48\n",
      "mrr = 0.05054013945858861, pairs_count = 73\n",
      "\n",
      "bm als 5 True 49\n",
      "mrr = 0.05757925415009738, pairs_count = 73\n",
      "\n",
      "bm als 5 True 50\n",
      "mrr = 0.05764238042016968, pairs_count = 77\n",
      "\n",
      "bm svd 5 True 20\n",
      "mrr = 0.12521924692429975, pairs_count = 28\n",
      "\n",
      "bm svd 5 True 21\n",
      "mrr = 0.11766003900740714, pairs_count = 29\n",
      "\n",
      "bm svd 5 True 22\n",
      "mrr = 0.1249922409706681, pairs_count = 33\n",
      "\n",
      "bm svd 5 True 23\n",
      "mrr = 0.1265478027155968, pairs_count = 34\n",
      "\n",
      "bm svd 5 True 24\n",
      "mrr = 0.12245980718236421, pairs_count = 36\n",
      "\n",
      "bm svd 5 True 25\n",
      "mrr = 0.11323608192567094, pairs_count = 37\n",
      "\n",
      "bm svd 5 True 26\n",
      "mrr = 0.10529754075556541, pairs_count = 38\n",
      "\n",
      "bm svd 5 True 27\n",
      "mrr = 0.11071129224445603, pairs_count = 39\n",
      "\n",
      "bm svd 5 True 28\n",
      "mrr = 0.11138393053070683, pairs_count = 40\n",
      "\n",
      "bm svd 5 True 29\n",
      "mrr = 0.1040988385289859, pairs_count = 40\n",
      "\n",
      "bm svd 5 True 30\n",
      "mrr = 0.09640718027978432, pairs_count = 42\n",
      "\n",
      "bm svd 5 True 31\n",
      "mrr = 0.09539574882469586, pairs_count = 45\n",
      "\n",
      "bm svd 5 True 32\n",
      "mrr = 0.09510745149391335, pairs_count = 45\n",
      "\n",
      "bm svd 5 True 33\n",
      "mrr = 0.10066373283527487, pairs_count = 46\n",
      "\n",
      "bm svd 5 True 34\n",
      "mrr = 0.09289176071651417, pairs_count = 46\n",
      "\n",
      "bm svd 5 True 35\n",
      "mrr = 0.09693226709532013, pairs_count = 46\n",
      "\n",
      "bm svd 5 True 36\n",
      "mrr = 0.08253671553642576, pairs_count = 53\n",
      "\n",
      "bm svd 5 True 37\n",
      "mrr = 0.08841811367648363, pairs_count = 55\n",
      "\n",
      "bm svd 5 True 38\n",
      "mrr = 0.08347814016870263, pairs_count = 55\n",
      "\n",
      "bm svd 5 True 39\n",
      "mrr = 0.09288351245776445, pairs_count = 58\n",
      "\n",
      "bm svd 5 True 40\n",
      "mrr = 0.09003215445454152, pairs_count = 59\n",
      "\n",
      "bm svd 5 True 41\n",
      "mrr = 0.08575694196502764, pairs_count = 59\n",
      "\n",
      "bm svd 5 True 42\n",
      "mrr = 0.08499303798452468, pairs_count = 59\n",
      "\n",
      "bm svd 5 True 43\n",
      "mrr = 0.086463132703306, pairs_count = 60\n",
      "\n",
      "bm svd 5 True 44\n",
      "mrr = 0.08367817435756755, pairs_count = 61\n",
      "\n",
      "bm svd 5 True 45\n",
      "mrr = 0.08632864104677816, pairs_count = 67\n",
      "\n",
      "bm svd 5 True 46\n",
      "mrr = 0.08020049574819918, pairs_count = 69\n",
      "\n",
      "bm svd 5 True 47\n",
      "mrr = 0.0796102158650279, pairs_count = 72\n",
      "\n",
      "bm svd 5 True 48\n",
      "mrr = 0.0784942133097157, pairs_count = 73\n",
      "\n",
      "bm svd 5 True 49\n",
      "mrr = 0.07898373381637548, pairs_count = 73\n",
      "\n",
      "bm svd 5 True 50\n",
      "mrr = 0.073852124700874, pairs_count = 77\n",
      "\n",
      "bm svd 2 False 20\n",
      "mrr = 0.12521924692429975, pairs_count = 28\n",
      "\n",
      "bm svd 2 False 21\n",
      "mrr = 0.11766003900740714, pairs_count = 29\n",
      "\n",
      "bm svd 2 False 22\n",
      "mrr = 0.1249922409706681, pairs_count = 33\n",
      "\n",
      "bm svd 2 False 23\n",
      "mrr = 0.1265478027155968, pairs_count = 34\n",
      "\n",
      "bm svd 2 False 24\n",
      "mrr = 0.12245980718236421, pairs_count = 36\n",
      "\n",
      "bm svd 2 False 25\n",
      "mrr = 0.11323608192567094, pairs_count = 37\n",
      "\n",
      "bm svd 2 False 26\n",
      "mrr = 0.10529754075556541, pairs_count = 38\n",
      "\n",
      "bm svd 2 False 27\n",
      "mrr = 0.11071129224445603, pairs_count = 39\n",
      "\n",
      "bm svd 2 False 28\n",
      "mrr = 0.11138393053070683, pairs_count = 40\n",
      "\n",
      "bm svd 2 False 29\n",
      "mrr = 0.1040988385289859, pairs_count = 40\n",
      "\n",
      "bm svd 2 False 30\n",
      "mrr = 0.09640718027978432, pairs_count = 42\n",
      "\n",
      "bm svd 2 False 31\n",
      "mrr = 0.09539574882469586, pairs_count = 45\n",
      "\n",
      "bm svd 2 False 32\n",
      "mrr = 0.09510745149391335, pairs_count = 45\n",
      "\n",
      "bm svd 2 False 33\n",
      "mrr = 0.10066373283527487, pairs_count = 46\n",
      "\n",
      "bm svd 2 False 34\n",
      "mrr = 0.09289176071651417, pairs_count = 46\n",
      "\n",
      "bm svd 2 False 35\n",
      "mrr = 0.09693226709532013, pairs_count = 46\n",
      "\n",
      "bm svd 2 False 36\n",
      "mrr = 0.08253671553642576, pairs_count = 53\n",
      "\n",
      "bm svd 2 False 37\n",
      "mrr = 0.08841811367648363, pairs_count = 55\n",
      "\n",
      "bm svd 2 False 38\n",
      "mrr = 0.08347814016870263, pairs_count = 55\n",
      "\n",
      "bm svd 2 False 39\n",
      "mrr = 0.09288351245776445, pairs_count = 58\n",
      "\n",
      "bm svd 2 False 40\n",
      "mrr = 0.09003215445454152, pairs_count = 59\n",
      "\n",
      "bm svd 2 False 41\n",
      "mrr = 0.08575694196502764, pairs_count = 59\n",
      "\n",
      "bm svd 2 False 42\n",
      "mrr = 0.08499303798452468, pairs_count = 59\n",
      "\n",
      "bm svd 2 False 43\n",
      "mrr = 0.086463132703306, pairs_count = 60\n",
      "\n",
      "bm svd 2 False 44\n",
      "mrr = 0.08367817435756755, pairs_count = 61\n",
      "\n",
      "bm svd 2 False 45\n",
      "mrr = 0.08632864104677816, pairs_count = 67\n",
      "\n",
      "bm svd 2 False 46\n",
      "mrr = 0.08020049574819918, pairs_count = 69\n",
      "\n",
      "bm svd 2 False 47\n",
      "mrr = 0.0796102158650279, pairs_count = 72\n",
      "\n",
      "bm svd 2 False 48\n",
      "mrr = 0.0784942133097157, pairs_count = 73\n",
      "\n",
      "bm svd 2 False 49\n",
      "mrr = 0.07898373381637548, pairs_count = 73\n",
      "\n",
      "bm svd 2 False 50\n",
      "mrr = 0.073852124700874, pairs_count = 77\n",
      "\n",
      "bm pca 5 True 20\n",
      "mrr = 0.14980588385745902, pairs_count = 28\n",
      "\n",
      "bm pca 5 True 21\n",
      "mrr = 0.1405950114185688, pairs_count = 29\n",
      "\n",
      "bm pca 5 True 22\n",
      "mrr = 0.12942383650068628, pairs_count = 33\n",
      "\n",
      "bm pca 5 True 23\n",
      "mrr = 0.13101221685922124, pairs_count = 34\n",
      "\n",
      "bm pca 5 True 24\n",
      "mrr = 0.12644782317547346, pairs_count = 36\n",
      "\n",
      "bm pca 5 True 25\n",
      "mrr = 0.12206278243511604, pairs_count = 37\n",
      "\n",
      "bm pca 5 True 26\n",
      "mrr = 0.11732551517234659, pairs_count = 38\n",
      "\n",
      "bm pca 5 True 27\n",
      "mrr = 0.11602206836341171, pairs_count = 39\n",
      "\n",
      "bm pca 5 True 28\n",
      "mrr = 0.11426936893966513, pairs_count = 40\n",
      "\n",
      "bm pca 5 True 29\n",
      "mrr = 0.1144722878029089, pairs_count = 40\n",
      "\n",
      "bm pca 5 True 30\n",
      "mrr = 0.10876251655747919, pairs_count = 42\n",
      "\n",
      "bm pca 5 True 31\n",
      "mrr = 0.11273634791715105, pairs_count = 45\n",
      "\n",
      "bm pca 5 True 32\n",
      "mrr = 0.11244758540094314, pairs_count = 45\n",
      "\n",
      "bm pca 5 True 33\n",
      "mrr = 0.11048303223148992, pairs_count = 46\n",
      "\n",
      "bm pca 5 True 34\n",
      "mrr = 0.11019347471462144, pairs_count = 46\n",
      "\n",
      "bm pca 5 True 35\n",
      "mrr = 0.10928998626233814, pairs_count = 46\n",
      "\n",
      "bm pca 5 True 36\n",
      "mrr = 0.10039120171440287, pairs_count = 53\n",
      "\n",
      "bm pca 5 True 37\n",
      "mrr = 0.09489662346096031, pairs_count = 55\n",
      "\n",
      "bm pca 5 True 38\n",
      "mrr = 0.09537747735771863, pairs_count = 55\n",
      "\n",
      "bm pca 5 True 39\n",
      "mrr = 0.09590434531332222, pairs_count = 58\n",
      "\n",
      "bm pca 5 True 40\n",
      "mrr = 0.10115976461176358, pairs_count = 59\n",
      "\n",
      "bm pca 5 True 41\n",
      "mrr = 0.10180119349189086, pairs_count = 59\n",
      "\n",
      "bm pca 5 True 42\n",
      "mrr = 0.10253215089626462, pairs_count = 59\n",
      "\n",
      "bm pca 5 True 43\n",
      "mrr = 0.10879971014557792, pairs_count = 60\n",
      "\n",
      "bm pca 5 True 44\n",
      "mrr = 0.10597721658530088, pairs_count = 61\n",
      "\n",
      "bm pca 5 True 45\n",
      "mrr = 0.10021407537031642, pairs_count = 67\n",
      "\n",
      "bm pca 5 True 46\n",
      "mrr = 0.09433443357573808, pairs_count = 69\n",
      "\n",
      "bm pca 5 True 47\n",
      "mrr = 0.0917227946927117, pairs_count = 72\n",
      "\n",
      "bm pca 5 True 48\n",
      "mrr = 0.09335373510857724, pairs_count = 73\n",
      "\n",
      "bm pca 5 True 49\n",
      "mrr = 0.09213388146670488, pairs_count = 73\n",
      "\n",
      "bm pca 5 True 50\n",
      "mrr = 0.08802428754676776, pairs_count = 77\n",
      "\n",
      "bm pca 2 False 20\n",
      "mrr = 0.14980588385745902, pairs_count = 28\n",
      "\n",
      "bm pca 2 False 21\n",
      "mrr = 0.1405950114185688, pairs_count = 29\n",
      "\n",
      "bm pca 2 False 22\n",
      "mrr = 0.12942383650068628, pairs_count = 33\n",
      "\n",
      "bm pca 2 False 23\n",
      "mrr = 0.13101221685922124, pairs_count = 34\n",
      "\n",
      "bm pca 2 False 24\n",
      "mrr = 0.12644782317547346, pairs_count = 36\n",
      "\n",
      "bm pca 2 False 25\n",
      "mrr = 0.12206278243511604, pairs_count = 37\n",
      "\n",
      "bm pca 2 False 26\n",
      "mrr = 0.11732551517234659, pairs_count = 38\n",
      "\n",
      "bm pca 2 False 27\n",
      "mrr = 0.11602206836341171, pairs_count = 39\n",
      "\n",
      "bm pca 2 False 28\n",
      "mrr = 0.11426936893966513, pairs_count = 40\n",
      "\n",
      "bm pca 2 False 29\n",
      "mrr = 0.1144722878029089, pairs_count = 40\n",
      "\n",
      "bm pca 2 False 30\n",
      "mrr = 0.10876251655747919, pairs_count = 42\n",
      "\n",
      "bm pca 2 False 31\n",
      "mrr = 0.11273634791715105, pairs_count = 45\n",
      "\n",
      "bm pca 2 False 32\n",
      "mrr = 0.11244758540094314, pairs_count = 45\n",
      "\n",
      "bm pca 2 False 33\n",
      "mrr = 0.11048303223148992, pairs_count = 46\n",
      "\n",
      "bm pca 2 False 34\n",
      "mrr = 0.11019347471462144, pairs_count = 46\n",
      "\n",
      "bm pca 2 False 35\n",
      "mrr = 0.10928998626233814, pairs_count = 46\n",
      "\n",
      "bm pca 2 False 36\n",
      "mrr = 0.10039120171440287, pairs_count = 53\n",
      "\n",
      "bm pca 2 False 37\n",
      "mrr = 0.09489662346096031, pairs_count = 55\n",
      "\n",
      "bm pca 2 False 38\n",
      "mrr = 0.09537747735771863, pairs_count = 55\n",
      "\n",
      "bm pca 2 False 39\n",
      "mrr = 0.09590434531332222, pairs_count = 58\n",
      "\n",
      "bm pca 2 False 40\n",
      "mrr = 0.10115976461176358, pairs_count = 59\n",
      "\n",
      "bm pca 2 False 41\n",
      "mrr = 0.10180119349189086, pairs_count = 59\n",
      "\n",
      "bm pca 2 False 42\n",
      "mrr = 0.10253215089626462, pairs_count = 59\n",
      "\n",
      "bm pca 2 False 43\n",
      "mrr = 0.10879971014557792, pairs_count = 60\n",
      "\n",
      "bm pca 2 False 44\n",
      "mrr = 0.10597721658530088, pairs_count = 61\n",
      "\n",
      "bm pca 2 False 45\n",
      "mrr = 0.10021407537031642, pairs_count = 67\n",
      "\n",
      "bm pca 2 False 46\n",
      "mrr = 0.09433443357573808, pairs_count = 69\n",
      "\n",
      "bm pca 2 False 47\n",
      "mrr = 0.0917227946927117, pairs_count = 72\n",
      "\n",
      "bm pca 2 False 48\n",
      "mrr = 0.09335373510857724, pairs_count = 73\n",
      "\n",
      "bm pca 2 False 49\n",
      "mrr = 0.09213388146670488, pairs_count = 73\n",
      "\n",
      "bm pca 2 False 50\n",
      "mrr = 0.08802428754676776, pairs_count = 77\n",
      "\n",
      "bm sim_euclid 5 True 20\n",
      "mrr = 0.17416994797013238, pairs_count = 28\n",
      "\n",
      "bm sim_euclid 5 True 21\n",
      "mrr = 0.15159728866669453, pairs_count = 29\n",
      "\n",
      "bm sim_euclid 5 True 22\n",
      "mrr = 0.12570900986044872, pairs_count = 33\n",
      "\n",
      "bm sim_euclid 5 True 23\n",
      "mrr = 0.13472112123570457, pairs_count = 34\n",
      "\n",
      "bm sim_euclid 5 True 24\n",
      "mrr = 0.14310680182038307, pairs_count = 36\n",
      "\n",
      "bm sim_euclid 5 True 25\n",
      "mrr = 0.13516061320564693, pairs_count = 37\n",
      "\n",
      "bm sim_euclid 5 True 26\n",
      "mrr = 0.12455123262391048, pairs_count = 38\n",
      "\n",
      "bm sim_euclid 5 True 27\n",
      "mrr = 0.12764465488166016, pairs_count = 39\n",
      "\n",
      "bm sim_euclid 5 True 28\n",
      "mrr = 0.12142244543519165, pairs_count = 40\n",
      "\n",
      "bm sim_euclid 5 True 29\n",
      "mrr = 0.1237933917950423, pairs_count = 40\n",
      "\n",
      "bm sim_euclid 5 True 30\n",
      "mrr = 0.12229772714691962, pairs_count = 42\n",
      "\n",
      "bm sim_euclid 5 True 31\n",
      "mrr = 0.12120233330954126, pairs_count = 45\n",
      "\n",
      "bm sim_euclid 5 True 32\n",
      "mrr = 0.11440972920295828, pairs_count = 45\n",
      "\n",
      "bm sim_euclid 5 True 33\n",
      "mrr = 0.1118903824912688, pairs_count = 46\n",
      "\n",
      "bm sim_euclid 5 True 34\n",
      "mrr = 0.1232232290131932, pairs_count = 46\n",
      "\n",
      "bm sim_euclid 5 True 35\n",
      "mrr = 0.12373020432523789, pairs_count = 46\n",
      "\n",
      "bm sim_euclid 5 True 36\n",
      "mrr = 0.1115007385439776, pairs_count = 53\n",
      "\n",
      "bm sim_euclid 5 True 37\n",
      "mrr = 0.10514442842630178, pairs_count = 55\n",
      "\n",
      "bm sim_euclid 5 True 38\n",
      "mrr = 0.10702357063992256, pairs_count = 55\n",
      "\n",
      "bm sim_euclid 5 True 39\n",
      "mrr = 0.10441214584707087, pairs_count = 58\n",
      "\n",
      "bm sim_euclid 5 True 40\n",
      "mrr = 0.10114020047440615, pairs_count = 59\n",
      "\n",
      "bm sim_euclid 5 True 41\n",
      "mrr = 0.10821670272638122, pairs_count = 59\n",
      "\n",
      "bm sim_euclid 5 True 42\n",
      "mrr = 0.11315651215176632, pairs_count = 59\n",
      "\n",
      "bm sim_euclid 5 True 43\n",
      "mrr = 0.10133092398511313, pairs_count = 60\n",
      "\n",
      "bm sim_euclid 5 True 44\n",
      "mrr = 0.10522229552828587, pairs_count = 61\n",
      "\n",
      "bm sim_euclid 5 True 45\n",
      "mrr = 0.10819018725783176, pairs_count = 67\n",
      "\n",
      "bm sim_euclid 5 True 46\n",
      "mrr = 0.09959211689132608, pairs_count = 69\n",
      "\n",
      "bm sim_euclid 5 True 47\n",
      "mrr = 0.09571647682651802, pairs_count = 72\n",
      "\n",
      "bm sim_euclid 5 True 48\n",
      "mrr = 0.0961891746463109, pairs_count = 73\n",
      "\n",
      "bm sim_euclid 5 True 49\n",
      "mrr = 0.09631716505845923, pairs_count = 73\n",
      "\n",
      "bm sim_euclid 5 True 50\n",
      "mrr = 0.09381782164726449, pairs_count = 77\n",
      "\n",
      "bm sim_cos 5 True 20\n",
      "mrr = 0.15596304501196687, pairs_count = 28\n",
      "\n",
      "bm sim_cos 5 True 21\n",
      "mrr = 0.18241424087667438, pairs_count = 29\n",
      "\n",
      "bm sim_cos 5 True 22\n",
      "mrr = 0.1730857910839241, pairs_count = 33\n",
      "\n",
      "bm sim_cos 5 True 23\n",
      "mrr = 0.14066960977066362, pairs_count = 34\n",
      "\n",
      "bm sim_cos 5 True 24\n",
      "mrr = 0.1693906442505488, pairs_count = 36\n",
      "\n",
      "bm sim_cos 5 True 25\n",
      "mrr = 0.17780349850710522, pairs_count = 37\n",
      "\n",
      "bm sim_cos 5 True 26\n",
      "mrr = 0.15034423018854084, pairs_count = 38\n",
      "\n",
      "bm sim_cos 5 True 27\n",
      "mrr = 0.14429850201626934, pairs_count = 39\n",
      "\n",
      "bm sim_cos 5 True 28\n",
      "mrr = 0.14293566477536196, pairs_count = 40\n",
      "\n",
      "bm sim_cos 5 True 29\n",
      "mrr = 0.14040176563837128, pairs_count = 40\n",
      "\n",
      "bm sim_cos 5 True 30\n",
      "mrr = 0.1377611541015892, pairs_count = 42\n",
      "\n",
      "bm sim_cos 5 True 31\n",
      "mrr = 0.15002510237383707, pairs_count = 45\n",
      "\n",
      "bm sim_cos 5 True 32\n",
      "mrr = 0.14011412982586466, pairs_count = 45\n",
      "\n",
      "bm sim_cos 5 True 33\n",
      "mrr = 0.15177408278873614, pairs_count = 46\n",
      "\n",
      "bm sim_cos 5 True 34\n",
      "mrr = 0.15359735479550654, pairs_count = 46\n",
      "\n",
      "bm sim_cos 5 True 35\n",
      "mrr = 0.15093493858809295, pairs_count = 46\n",
      "\n",
      "bm sim_cos 5 True 36\n",
      "mrr = 0.15240813546084078, pairs_count = 53\n",
      "\n",
      "bm sim_cos 5 True 37\n",
      "mrr = 0.1426877779673621, pairs_count = 55\n",
      "\n",
      "bm sim_cos 5 True 38\n",
      "mrr = 0.14568175818297405, pairs_count = 55\n",
      "\n",
      "bm sim_cos 5 True 39\n",
      "mrr = 0.1439713243472695, pairs_count = 58\n",
      "\n",
      "bm sim_cos 5 True 40\n",
      "mrr = 0.1449338714579657, pairs_count = 59\n",
      "\n",
      "bm sim_cos 5 True 41\n",
      "mrr = 0.1477572973021594, pairs_count = 59\n",
      "\n",
      "bm sim_cos 5 True 42\n",
      "mrr = 0.14333148867420675, pairs_count = 59\n",
      "\n",
      "bm sim_cos 5 True 43\n",
      "mrr = 0.14068997457041993, pairs_count = 60\n",
      "\n",
      "bm sim_cos 5 True 44\n",
      "mrr = 0.13806003872620684, pairs_count = 61\n",
      "\n",
      "bm sim_cos 5 True 45\n",
      "mrr = 0.13190440864203895, pairs_count = 67\n",
      "\n",
      "bm sim_cos 5 True 46\n",
      "mrr = 0.1313640483602721, pairs_count = 69\n",
      "\n",
      "bm sim_cos 5 True 47\n",
      "mrr = 0.13152031271937692, pairs_count = 72\n",
      "\n",
      "bm sim_cos 5 True 48\n",
      "mrr = 0.1277900147915259, pairs_count = 73\n",
      "\n",
      "bm sim_cos 5 True 49\n",
      "mrr = 0.12896924135153406, pairs_count = 73\n",
      "\n",
      "bm sim_cos 5 True 50\n",
      "mrr = 0.1256765228541288, pairs_count = 77\n",
      "\n",
      "bm umap 5 True 20\n",
      "mrr = 0.19359611153207545, pairs_count = 28\n",
      "\n",
      "bm umap 5 True 21\n",
      "mrr = 0.18436006712053335, pairs_count = 29\n",
      "\n",
      "bm umap 5 True 22\n",
      "mrr = 0.18119489892546678, pairs_count = 33\n",
      "\n",
      "bm umap 5 True 23\n",
      "mrr = 0.18002464800525253, pairs_count = 34\n",
      "\n",
      "bm umap 5 True 24\n",
      "mrr = 0.17300613589780803, pairs_count = 36\n",
      "\n",
      "bm umap 5 True 25\n",
      "mrr = 0.15862190871966694, pairs_count = 37\n",
      "\n",
      "bm umap 5 True 26\n",
      "mrr = 0.1660421473477276, pairs_count = 38\n",
      "\n",
      "bm umap 5 True 27\n",
      "mrr = 0.15213386632612372, pairs_count = 39\n",
      "\n",
      "bm umap 5 True 28\n",
      "mrr = 0.14954374042714771, pairs_count = 40\n",
      "\n",
      "bm umap 5 True 29\n",
      "mrr = 0.15683405771456, pairs_count = 40\n",
      "\n",
      "bm umap 5 True 30\n",
      "mrr = 0.1375024959369478, pairs_count = 42\n",
      "\n",
      "bm umap 5 True 31\n",
      "mrr = 0.1543852235999645, pairs_count = 45\n",
      "\n",
      "bm umap 5 True 32\n",
      "mrr = 0.15416965102832275, pairs_count = 45\n",
      "\n",
      "bm umap 5 True 33\n",
      "mrr = 0.1492088956495145, pairs_count = 46\n",
      "\n",
      "bm umap 5 True 34\n",
      "mrr = 0.15251121689198266, pairs_count = 46\n",
      "\n",
      "bm umap 5 True 35\n",
      "mrr = 0.1545616594996886, pairs_count = 46\n",
      "\n",
      "bm umap 5 True 36\n",
      "mrr = 0.14830364426218398, pairs_count = 53\n",
      "\n",
      "bm umap 5 True 37\n",
      "mrr = 0.13578973194439556, pairs_count = 55\n",
      "\n",
      "bm umap 5 True 38\n",
      "mrr = 0.12710927490976773, pairs_count = 55\n",
      "\n",
      "bm umap 5 True 39\n",
      "mrr = 0.13000852238678895, pairs_count = 58\n",
      "\n",
      "bm umap 5 True 40\n",
      "mrr = 0.12790420251726614, pairs_count = 59\n",
      "\n",
      "bm umap 5 True 41\n",
      "mrr = 0.13722182458367171, pairs_count = 59\n",
      "\n",
      "bm umap 5 True 42\n",
      "mrr = 0.13218646547678903, pairs_count = 59\n",
      "\n",
      "bm umap 5 True 43\n",
      "mrr = 0.1397767668415801, pairs_count = 60\n",
      "\n",
      "bm umap 5 True 44\n",
      "mrr = 0.14002000095021572, pairs_count = 61\n",
      "\n",
      "bm umap 5 True 45\n",
      "mrr = 0.13047845241846107, pairs_count = 67\n",
      "\n",
      "bm umap 5 True 46\n",
      "mrr = 0.12560345322556057, pairs_count = 69\n",
      "\n",
      "bm umap 5 True 47\n",
      "mrr = 0.12940757074458886, pairs_count = 72\n",
      "\n",
      "bm umap 5 True 48\n",
      "mrr = 0.12804692602303383, pairs_count = 73\n",
      "\n",
      "bm umap 5 True 49\n",
      "mrr = 0.12662791474707621, pairs_count = 73\n",
      "\n",
      "bm umap 5 True 50\n",
      "mrr = 0.13495485475610475, pairs_count = 77\n",
      "\n",
      "bm umap 2 False 20\n",
      "mrr = 0.19359611153207545, pairs_count = 28\n",
      "\n",
      "bm umap 2 False 21\n",
      "mrr = 0.18436006712053335, pairs_count = 29\n",
      "\n",
      "bm umap 2 False 22\n",
      "mrr = 0.18119489892546678, pairs_count = 33\n",
      "\n",
      "bm umap 2 False 23\n",
      "mrr = 0.18002464800525253, pairs_count = 34\n",
      "\n",
      "bm umap 2 False 24\n",
      "mrr = 0.17300613589780803, pairs_count = 36\n",
      "\n",
      "bm umap 2 False 25\n",
      "mrr = 0.15862190871966694, pairs_count = 37\n",
      "\n",
      "bm umap 2 False 26\n",
      "mrr = 0.1660421473477276, pairs_count = 38\n",
      "\n",
      "bm umap 2 False 27\n",
      "mrr = 0.15213386632612372, pairs_count = 39\n",
      "\n",
      "bm umap 2 False 28\n",
      "mrr = 0.14954374042714771, pairs_count = 40\n",
      "\n",
      "bm umap 2 False 29\n",
      "mrr = 0.15683405771456, pairs_count = 40\n",
      "\n",
      "bm umap 2 False 30\n",
      "mrr = 0.1375024959369478, pairs_count = 42\n",
      "\n",
      "bm umap 2 False 31\n",
      "mrr = 0.1543852235999645, pairs_count = 45\n",
      "\n",
      "bm umap 2 False 32\n",
      "mrr = 0.15416965102832275, pairs_count = 45\n",
      "\n",
      "bm umap 2 False 33\n",
      "mrr = 0.1492088956495145, pairs_count = 46\n",
      "\n",
      "bm umap 2 False 34\n",
      "mrr = 0.15251121689198266, pairs_count = 46\n",
      "\n",
      "bm umap 2 False 35\n",
      "mrr = 0.1545616594996886, pairs_count = 46\n",
      "\n",
      "bm umap 2 False 36\n",
      "mrr = 0.14830364426218398, pairs_count = 53\n",
      "\n",
      "bm umap 2 False 37\n",
      "mrr = 0.13578973194439556, pairs_count = 55\n",
      "\n",
      "bm umap 2 False 38\n",
      "mrr = 0.12710927490976773, pairs_count = 55\n",
      "\n",
      "bm umap 2 False 39\n",
      "mrr = 0.13000852238678895, pairs_count = 58\n",
      "\n",
      "bm umap 2 False 40\n",
      "mrr = 0.12790420251726614, pairs_count = 59\n",
      "\n",
      "bm umap 2 False 41\n",
      "mrr = 0.13722182458367171, pairs_count = 59\n",
      "\n",
      "bm umap 2 False 42\n",
      "mrr = 0.13218646547678903, pairs_count = 59\n",
      "\n",
      "bm umap 2 False 43\n",
      "mrr = 0.1397767668415801, pairs_count = 60\n",
      "\n",
      "bm umap 2 False 44\n",
      "mrr = 0.14002000095021572, pairs_count = 61\n",
      "\n",
      "bm umap 2 False 45\n",
      "mrr = 0.13047845241846107, pairs_count = 67\n",
      "\n",
      "bm umap 2 False 46\n",
      "mrr = 0.12560345322556057, pairs_count = 69\n",
      "\n",
      "bm umap 2 False 47\n",
      "mrr = 0.12940757074458886, pairs_count = 72\n",
      "\n",
      "bm umap 2 False 48\n",
      "mrr = 0.12804692602303383, pairs_count = 73\n",
      "\n",
      "bm umap 2 False 49\n",
      "mrr = 0.12662791474707621, pairs_count = 73\n",
      "\n",
      "bm umap 2 False 50\n",
      "mrr = 0.13495485475610475, pairs_count = 77\n",
      "\n",
      "tfidf tsne 5 True 20\n",
      "mrr = 0.18308084565971847, pairs_count = 28\n",
      "\n",
      "tfidf tsne 5 True 21\n",
      "mrr = 0.18378836506292281, pairs_count = 29\n",
      "\n",
      "tfidf tsne 5 True 22\n",
      "mrr = 0.1527578077606494, pairs_count = 33\n",
      "\n",
      "tfidf tsne 5 True 23\n",
      "mrr = 0.14506235637974485, pairs_count = 34\n",
      "\n",
      "tfidf tsne 5 True 24\n",
      "mrr = 0.13660375353982993, pairs_count = 36\n",
      "\n",
      "tfidf tsne 5 True 25\n",
      "mrr = 0.16168030192407493, pairs_count = 37\n",
      "\n",
      "tfidf tsne 5 True 26\n",
      "mrr = 0.10933809082591078, pairs_count = 38\n",
      "\n",
      "tfidf tsne 5 True 27\n",
      "mrr = 0.13743662020526498, pairs_count = 39\n",
      "\n",
      "tfidf tsne 5 True 28\n",
      "mrr = 0.13934370095006088, pairs_count = 40\n",
      "\n",
      "tfidf tsne 5 True 29\n",
      "mrr = 0.13957527525696117, pairs_count = 40\n",
      "\n",
      "tfidf tsne 5 True 30\n",
      "mrr = 0.13149077282841445, pairs_count = 42\n",
      "\n",
      "tfidf tsne 5 True 31\n",
      "mrr = 0.14751564788483199, pairs_count = 45\n",
      "\n",
      "tfidf tsne 5 True 32\n",
      "mrr = 0.14967290595577012, pairs_count = 45\n",
      "\n",
      "tfidf tsne 5 True 33\n",
      "mrr = 0.15598028619810023, pairs_count = 46\n",
      "\n",
      "tfidf tsne 5 True 34\n",
      "mrr = 0.15297679999112535, pairs_count = 46\n",
      "\n",
      "tfidf tsne 5 True 35\n",
      "mrr = 0.15569422876911135, pairs_count = 46\n",
      "\n",
      "tfidf tsne 5 True 36\n",
      "mrr = 0.14544109078981363, pairs_count = 53\n",
      "\n",
      "tfidf tsne 5 True 37\n",
      "mrr = 0.1431717567475681, pairs_count = 55\n",
      "\n",
      "tfidf tsne 5 True 38\n",
      "mrr = 0.14261245312753268, pairs_count = 55\n",
      "\n",
      "tfidf tsne 5 True 39\n",
      "mrr = 0.14483043263266765, pairs_count = 58\n",
      "\n",
      "tfidf tsne 5 True 40\n",
      "mrr = 0.1389965248088535, pairs_count = 59\n",
      "\n",
      "tfidf tsne 5 True 41\n",
      "mrr = 0.1446022297469878, pairs_count = 59\n",
      "\n",
      "tfidf tsne 5 True 42\n",
      "mrr = 0.14060608639813427, pairs_count = 59\n",
      "\n",
      "tfidf tsne 5 True 43\n",
      "mrr = 0.1322308919973756, pairs_count = 60\n",
      "\n",
      "tfidf tsne 5 True 44\n",
      "mrr = 0.1252381967865283, pairs_count = 61\n",
      "\n",
      "tfidf tsne 5 True 45\n",
      "mrr = 0.1393388378311314, pairs_count = 67\n",
      "\n",
      "tfidf tsne 5 True 46\n",
      "mrr = 0.13781195002871155, pairs_count = 69\n",
      "\n",
      "tfidf tsne 5 True 47\n",
      "mrr = 0.13366212697499197, pairs_count = 72\n",
      "\n",
      "tfidf tsne 5 True 48\n",
      "mrr = 0.13095220583625664, pairs_count = 73\n",
      "\n",
      "tfidf tsne 5 True 49\n",
      "mrr = 0.13645850170317916, pairs_count = 73\n",
      "\n",
      "tfidf tsne 5 True 50\n",
      "mrr = 0.1300212003708621, pairs_count = 77\n",
      "\n",
      "tfidf als 5 True 20\n",
      "mrr = 0.08074833640959381, pairs_count = 28\n",
      "\n",
      "tfidf als 5 True 21\n",
      "mrr = 0.09728798027142373, pairs_count = 29\n",
      "\n",
      "tfidf als 5 True 22\n",
      "mrr = 0.08952031667006476, pairs_count = 33\n",
      "\n",
      "tfidf als 5 True 23\n",
      "mrr = 0.06660085498172312, pairs_count = 34\n",
      "\n",
      "tfidf als 5 True 24\n",
      "mrr = 0.10299574818925462, pairs_count = 36\n",
      "\n",
      "tfidf als 5 True 25\n",
      "mrr = 0.09000863102059242, pairs_count = 37\n",
      "\n",
      "tfidf als 5 True 26\n",
      "mrr = 0.08316554184910267, pairs_count = 38\n",
      "\n",
      "tfidf als 5 True 27\n",
      "mrr = 0.09063478371563696, pairs_count = 39\n",
      "\n",
      "tfidf als 5 True 28\n",
      "mrr = 0.08935019020321808, pairs_count = 40\n",
      "\n",
      "tfidf als 5 True 29\n",
      "mrr = 0.08367883596606825, pairs_count = 40\n",
      "\n",
      "tfidf als 5 True 30\n",
      "mrr = 0.09550575812539702, pairs_count = 42\n",
      "\n",
      "tfidf als 5 True 31\n",
      "mrr = 0.07011685094990468, pairs_count = 45\n",
      "\n",
      "tfidf als 5 True 32\n",
      "mrr = 0.08112079405253725, pairs_count = 45\n",
      "\n",
      "tfidf als 5 True 33\n",
      "mrr = 0.07145284961376601, pairs_count = 46\n",
      "\n",
      "tfidf als 5 True 34\n",
      "mrr = 0.07628824826131876, pairs_count = 46\n",
      "\n",
      "tfidf als 5 True 35\n",
      "mrr = 0.0805521268840782, pairs_count = 46\n",
      "\n",
      "tfidf als 5 True 36\n",
      "mrr = 0.07022259326992236, pairs_count = 53\n",
      "\n",
      "tfidf als 5 True 37\n",
      "mrr = 0.07629017832930438, pairs_count = 55\n",
      "\n",
      "tfidf als 5 True 38\n",
      "mrr = 0.05624204250732827, pairs_count = 55\n",
      "\n",
      "tfidf als 5 True 39\n",
      "mrr = 0.07070230722815078, pairs_count = 58\n",
      "\n",
      "tfidf als 5 True 40\n",
      "mrr = 0.07353336233538824, pairs_count = 59\n",
      "\n",
      "tfidf als 5 True 41\n",
      "mrr = 0.0725242917313063, pairs_count = 59\n",
      "\n",
      "tfidf als 5 True 42\n",
      "mrr = 0.07093086209475626, pairs_count = 59\n",
      "\n",
      "tfidf als 5 True 43\n",
      "mrr = 0.06479547762050601, pairs_count = 60\n",
      "\n",
      "tfidf als 5 True 44\n",
      "mrr = 0.07456306616443464, pairs_count = 61\n",
      "\n",
      "tfidf als 5 True 45\n",
      "mrr = 0.07978558227346451, pairs_count = 67\n",
      "\n",
      "tfidf als 5 True 46\n",
      "mrr = 0.06307348667816076, pairs_count = 69\n",
      "\n",
      "tfidf als 5 True 47\n",
      "mrr = 0.06143627880624046, pairs_count = 72\n",
      "\n",
      "tfidf als 5 True 48\n",
      "mrr = 0.05674314805487004, pairs_count = 73\n",
      "\n",
      "tfidf als 5 True 49\n",
      "mrr = 0.07484149844803377, pairs_count = 73\n",
      "\n",
      "tfidf als 5 True 50\n",
      "mrr = 0.06059093657393359, pairs_count = 77\n",
      "\n",
      "tfidf svd 5 True 20\n",
      "mrr = 0.11473580459576446, pairs_count = 28\n",
      "\n",
      "tfidf svd 5 True 21\n",
      "mrr = 0.1135312436448548, pairs_count = 29\n",
      "\n",
      "tfidf svd 5 True 22\n",
      "mrr = 0.11069147533285481, pairs_count = 33\n",
      "\n",
      "tfidf svd 5 True 23\n",
      "mrr = 0.1071115882850904, pairs_count = 34\n",
      "\n",
      "tfidf svd 5 True 24\n",
      "mrr = 0.10250849470222227, pairs_count = 36\n",
      "\n",
      "tfidf svd 5 True 25\n",
      "mrr = 0.10063375013042596, pairs_count = 37\n",
      "\n",
      "tfidf svd 5 True 26\n",
      "mrr = 0.09843167599390819, pairs_count = 38\n",
      "\n",
      "tfidf svd 5 True 27\n",
      "mrr = 0.09970314124965769, pairs_count = 39\n",
      "\n",
      "tfidf svd 5 True 28\n",
      "mrr = 0.09711605157391037, pairs_count = 40\n",
      "\n",
      "tfidf svd 5 True 29\n",
      "mrr = 0.09650485989690999, pairs_count = 40\n",
      "\n",
      "tfidf svd 5 True 30\n",
      "mrr = 0.0932934982486114, pairs_count = 42\n",
      "\n",
      "tfidf svd 5 True 31\n",
      "mrr = 0.08509188682045993, pairs_count = 45\n",
      "\n",
      "tfidf svd 5 True 32\n",
      "mrr = 0.08463633477380807, pairs_count = 45\n",
      "\n",
      "tfidf svd 5 True 33\n",
      "mrr = 0.08664036050593193, pairs_count = 46\n",
      "\n",
      "tfidf svd 5 True 34\n",
      "mrr = 0.08970185209768218, pairs_count = 46\n",
      "\n",
      "tfidf svd 5 True 35\n",
      "mrr = 0.08802412428038743, pairs_count = 46\n",
      "\n",
      "tfidf svd 5 True 36\n",
      "mrr = 0.0864074455139342, pairs_count = 53\n",
      "\n",
      "tfidf svd 5 True 37\n",
      "mrr = 0.08453073079744237, pairs_count = 55\n",
      "\n",
      "tfidf svd 5 True 38\n",
      "mrr = 0.0824352968042954, pairs_count = 55\n",
      "\n",
      "tfidf svd 5 True 39\n",
      "mrr = 0.07755142227243833, pairs_count = 58\n",
      "\n",
      "tfidf svd 5 True 40\n",
      "mrr = 0.0829324143172521, pairs_count = 59\n",
      "\n",
      "tfidf svd 5 True 41\n",
      "mrr = 0.08467695922816322, pairs_count = 59\n",
      "\n",
      "tfidf svd 5 True 42\n",
      "mrr = 0.08614066257533577, pairs_count = 59\n",
      "\n",
      "tfidf svd 5 True 43\n",
      "mrr = 0.08329533872289369, pairs_count = 60\n",
      "\n",
      "tfidf svd 5 True 44\n",
      "mrr = 0.07697288267638984, pairs_count = 61\n",
      "\n",
      "tfidf svd 5 True 45\n",
      "mrr = 0.07473270210913882, pairs_count = 67\n",
      "\n",
      "tfidf svd 5 True 46\n",
      "mrr = 0.07504459212874004, pairs_count = 69\n",
      "\n",
      "tfidf svd 5 True 47\n",
      "mrr = 0.06825853636139417, pairs_count = 72\n",
      "\n",
      "tfidf svd 5 True 48\n",
      "mrr = 0.06549105312463126, pairs_count = 73\n",
      "\n",
      "tfidf svd 5 True 49\n",
      "mrr = 0.06678682075850588, pairs_count = 73\n",
      "\n",
      "tfidf svd 5 True 50\n",
      "mrr = 0.06366184370404605, pairs_count = 77\n",
      "\n",
      "tfidf svd 2 False 20\n",
      "mrr = 0.11473580459576446, pairs_count = 28\n",
      "\n",
      "tfidf svd 2 False 21\n",
      "mrr = 0.1135312436448548, pairs_count = 29\n",
      "\n",
      "tfidf svd 2 False 22\n",
      "mrr = 0.11069147533285481, pairs_count = 33\n",
      "\n",
      "tfidf svd 2 False 23\n",
      "mrr = 0.1071115882850904, pairs_count = 34\n",
      "\n",
      "tfidf svd 2 False 24\n",
      "mrr = 0.10250849470222227, pairs_count = 36\n",
      "\n",
      "tfidf svd 2 False 25\n",
      "mrr = 0.10063375013042596, pairs_count = 37\n",
      "\n",
      "tfidf svd 2 False 26\n",
      "mrr = 0.09843167599390819, pairs_count = 38\n",
      "\n",
      "tfidf svd 2 False 27\n",
      "mrr = 0.09970314124965769, pairs_count = 39\n",
      "\n",
      "tfidf svd 2 False 28\n",
      "mrr = 0.09711605157391037, pairs_count = 40\n",
      "\n",
      "tfidf svd 2 False 29\n",
      "mrr = 0.09650485989690999, pairs_count = 40\n",
      "\n",
      "tfidf svd 2 False 30\n",
      "mrr = 0.0932934982486114, pairs_count = 42\n",
      "\n",
      "tfidf svd 2 False 31\n",
      "mrr = 0.08509188682045993, pairs_count = 45\n",
      "\n",
      "tfidf svd 2 False 32\n",
      "mrr = 0.08463633477380807, pairs_count = 45\n",
      "\n",
      "tfidf svd 2 False 33\n",
      "mrr = 0.08664036050593193, pairs_count = 46\n",
      "\n",
      "tfidf svd 2 False 34\n",
      "mrr = 0.08970185209768218, pairs_count = 46\n",
      "\n",
      "tfidf svd 2 False 35\n",
      "mrr = 0.08802412428038743, pairs_count = 46\n",
      "\n",
      "tfidf svd 2 False 36\n",
      "mrr = 0.0864074455139342, pairs_count = 53\n",
      "\n",
      "tfidf svd 2 False 37\n",
      "mrr = 0.08453073079744237, pairs_count = 55\n",
      "\n",
      "tfidf svd 2 False 38\n",
      "mrr = 0.0824352968042954, pairs_count = 55\n",
      "\n",
      "tfidf svd 2 False 39\n",
      "mrr = 0.07755142227243833, pairs_count = 58\n",
      "\n",
      "tfidf svd 2 False 40\n",
      "mrr = 0.0829324143172521, pairs_count = 59\n",
      "\n",
      "tfidf svd 2 False 41\n",
      "mrr = 0.08467695922816322, pairs_count = 59\n",
      "\n",
      "tfidf svd 2 False 42\n",
      "mrr = 0.08614066257533577, pairs_count = 59\n",
      "\n",
      "tfidf svd 2 False 43\n",
      "mrr = 0.08329533872289369, pairs_count = 60\n",
      "\n",
      "tfidf svd 2 False 44\n",
      "mrr = 0.07697288267638984, pairs_count = 61\n",
      "\n",
      "tfidf svd 2 False 45\n",
      "mrr = 0.07473270210913882, pairs_count = 67\n",
      "\n",
      "tfidf svd 2 False 46\n",
      "mrr = 0.07504459212874004, pairs_count = 69\n",
      "\n",
      "tfidf svd 2 False 47\n",
      "mrr = 0.06825853636139417, pairs_count = 72\n",
      "\n",
      "tfidf svd 2 False 48\n",
      "mrr = 0.06549105312463126, pairs_count = 73\n",
      "\n",
      "tfidf svd 2 False 49\n",
      "mrr = 0.06678682075850588, pairs_count = 73\n",
      "\n",
      "tfidf svd 2 False 50\n",
      "mrr = 0.06366184370404605, pairs_count = 77\n",
      "\n",
      "tfidf pca 5 True 20\n",
      "mrr = 0.15215400558067158, pairs_count = 28\n",
      "\n",
      "tfidf pca 5 True 21\n",
      "mrr = 0.147106717249267, pairs_count = 29\n",
      "\n",
      "tfidf pca 5 True 22\n",
      "mrr = 0.1345256521303119, pairs_count = 33\n",
      "\n",
      "tfidf pca 5 True 23\n",
      "mrr = 0.12610395296435808, pairs_count = 34\n",
      "\n",
      "tfidf pca 5 True 24\n",
      "mrr = 0.11588710070219976, pairs_count = 36\n",
      "\n",
      "tfidf pca 5 True 25\n",
      "mrr = 0.10764198058487848, pairs_count = 37\n",
      "\n",
      "tfidf pca 5 True 26\n",
      "mrr = 0.10172597582811509, pairs_count = 38\n",
      "\n",
      "tfidf pca 5 True 27\n",
      "mrr = 0.0991240411375276, pairs_count = 39\n",
      "\n",
      "tfidf pca 5 True 28\n",
      "mrr = 0.09695733077747487, pairs_count = 40\n",
      "\n",
      "tfidf pca 5 True 29\n",
      "mrr = 0.10153799531873328, pairs_count = 40\n",
      "\n",
      "tfidf pca 5 True 30\n",
      "mrr = 0.0905432780980281, pairs_count = 42\n",
      "\n",
      "tfidf pca 5 True 31\n",
      "mrr = 0.10822233560809467, pairs_count = 45\n",
      "\n",
      "tfidf pca 5 True 32\n",
      "mrr = 0.10870262164081114, pairs_count = 45\n",
      "\n",
      "tfidf pca 5 True 33\n",
      "mrr = 0.10904501057607895, pairs_count = 46\n",
      "\n",
      "tfidf pca 5 True 34\n",
      "mrr = 0.11109426280313466, pairs_count = 46\n",
      "\n",
      "tfidf pca 5 True 35\n",
      "mrr = 0.10400567054714413, pairs_count = 46\n",
      "\n",
      "tfidf pca 5 True 36\n",
      "mrr = 0.09805944143362418, pairs_count = 53\n",
      "\n",
      "tfidf pca 5 True 37\n",
      "mrr = 0.09275983378950137, pairs_count = 55\n",
      "\n",
      "tfidf pca 5 True 38\n",
      "mrr = 0.09188738508944622, pairs_count = 55\n",
      "\n",
      "tfidf pca 5 True 39\n",
      "mrr = 0.1049059450470108, pairs_count = 58\n",
      "\n",
      "tfidf pca 5 True 40\n",
      "mrr = 0.10408426865164822, pairs_count = 59\n",
      "\n",
      "tfidf pca 5 True 41\n",
      "mrr = 0.10250760639242827, pairs_count = 59\n",
      "\n",
      "tfidf pca 5 True 42\n",
      "mrr = 0.10147132521838116, pairs_count = 59\n",
      "\n",
      "tfidf pca 5 True 43\n",
      "mrr = 0.10304837854860648, pairs_count = 60\n",
      "\n",
      "tfidf pca 5 True 44\n",
      "mrr = 0.1022367957188782, pairs_count = 61\n",
      "\n",
      "tfidf pca 5 True 45\n",
      "mrr = 0.09792415983049878, pairs_count = 67\n",
      "\n",
      "tfidf pca 5 True 46\n",
      "mrr = 0.09442670109071061, pairs_count = 69\n",
      "\n",
      "tfidf pca 5 True 47\n",
      "mrr = 0.09783528527181383, pairs_count = 72\n",
      "\n",
      "tfidf pca 5 True 48\n",
      "mrr = 0.0990680247334936, pairs_count = 73\n",
      "\n",
      "tfidf pca 5 True 49\n",
      "mrr = 0.09974019637519936, pairs_count = 73\n",
      "\n",
      "tfidf pca 5 True 50\n",
      "mrr = 0.09506878930887755, pairs_count = 77\n",
      "\n",
      "tfidf pca 2 False 20\n",
      "mrr = 0.15215400558067158, pairs_count = 28\n",
      "\n",
      "tfidf pca 2 False 21\n",
      "mrr = 0.147106717249267, pairs_count = 29\n",
      "\n",
      "tfidf pca 2 False 22\n",
      "mrr = 0.1345256521303119, pairs_count = 33\n",
      "\n",
      "tfidf pca 2 False 23\n",
      "mrr = 0.12610395296435808, pairs_count = 34\n",
      "\n",
      "tfidf pca 2 False 24\n",
      "mrr = 0.11588710070219976, pairs_count = 36\n",
      "\n",
      "tfidf pca 2 False 25\n",
      "mrr = 0.10764198058487848, pairs_count = 37\n",
      "\n",
      "tfidf pca 2 False 26\n",
      "mrr = 0.10172597582811509, pairs_count = 38\n",
      "\n",
      "tfidf pca 2 False 27\n",
      "mrr = 0.0991240411375276, pairs_count = 39\n",
      "\n",
      "tfidf pca 2 False 28\n",
      "mrr = 0.09695733077747487, pairs_count = 40\n",
      "\n",
      "tfidf pca 2 False 29\n",
      "mrr = 0.10153799531873328, pairs_count = 40\n",
      "\n",
      "tfidf pca 2 False 30\n",
      "mrr = 0.0905432780980281, pairs_count = 42\n",
      "\n",
      "tfidf pca 2 False 31\n",
      "mrr = 0.10822233560809467, pairs_count = 45\n",
      "\n",
      "tfidf pca 2 False 32\n",
      "mrr = 0.10870262164081114, pairs_count = 45\n",
      "\n",
      "tfidf pca 2 False 33\n",
      "mrr = 0.10904501057607895, pairs_count = 46\n",
      "\n",
      "tfidf pca 2 False 34\n",
      "mrr = 0.11109426280313466, pairs_count = 46\n",
      "\n",
      "tfidf pca 2 False 35\n",
      "mrr = 0.10400567054714413, pairs_count = 46\n",
      "\n",
      "tfidf pca 2 False 36\n",
      "mrr = 0.09805944143362418, pairs_count = 53\n",
      "\n",
      "tfidf pca 2 False 37\n",
      "mrr = 0.09275983378950137, pairs_count = 55\n",
      "\n",
      "tfidf pca 2 False 38\n",
      "mrr = 0.09188738508944622, pairs_count = 55\n",
      "\n",
      "tfidf pca 2 False 39\n",
      "mrr = 0.1049059450470108, pairs_count = 58\n",
      "\n",
      "tfidf pca 2 False 40\n",
      "mrr = 0.10408426865164822, pairs_count = 59\n",
      "\n",
      "tfidf pca 2 False 41\n",
      "mrr = 0.10250760639242827, pairs_count = 59\n",
      "\n",
      "tfidf pca 2 False 42\n",
      "mrr = 0.10147132521838116, pairs_count = 59\n",
      "\n",
      "tfidf pca 2 False 43\n",
      "mrr = 0.10304837854860648, pairs_count = 60\n",
      "\n",
      "tfidf pca 2 False 44\n",
      "mrr = 0.1022367957188782, pairs_count = 61\n",
      "\n",
      "tfidf pca 2 False 45\n",
      "mrr = 0.09792415983049878, pairs_count = 67\n",
      "\n",
      "tfidf pca 2 False 46\n",
      "mrr = 0.09442670109071061, pairs_count = 69\n",
      "\n",
      "tfidf pca 2 False 47\n",
      "mrr = 0.09783528527181383, pairs_count = 72\n",
      "\n",
      "tfidf pca 2 False 48\n",
      "mrr = 0.0990680247334936, pairs_count = 73\n",
      "\n",
      "tfidf pca 2 False 49\n",
      "mrr = 0.09974019637519936, pairs_count = 73\n",
      "\n",
      "tfidf pca 2 False 50\n",
      "mrr = 0.09506878930887755, pairs_count = 77\n",
      "\n",
      "tfidf sim_euclid 5 True 20\n",
      "mrr = 0.15439430301434373, pairs_count = 28\n",
      "\n",
      "tfidf sim_euclid 5 True 21\n",
      "mrr = 0.1598374487466313, pairs_count = 29\n",
      "\n",
      "tfidf sim_euclid 5 True 22\n",
      "mrr = 0.1468461844738649, pairs_count = 33\n",
      "\n",
      "tfidf sim_euclid 5 True 23\n",
      "mrr = 0.13845393639467776, pairs_count = 34\n",
      "\n",
      "tfidf sim_euclid 5 True 24\n",
      "mrr = 0.13547758789525413, pairs_count = 36\n",
      "\n",
      "tfidf sim_euclid 5 True 25\n",
      "mrr = 0.12516787985651107, pairs_count = 37\n",
      "\n",
      "tfidf sim_euclid 5 True 26\n",
      "mrr = 0.11296018082134018, pairs_count = 38\n",
      "\n",
      "tfidf sim_euclid 5 True 27\n",
      "mrr = 0.1155931176553317, pairs_count = 39\n",
      "\n",
      "tfidf sim_euclid 5 True 28\n",
      "mrr = 0.1136997521490252, pairs_count = 40\n",
      "\n",
      "tfidf sim_euclid 5 True 29\n",
      "mrr = 0.11421192214739936, pairs_count = 40\n",
      "\n",
      "tfidf sim_euclid 5 True 30\n",
      "mrr = 0.11125420626194876, pairs_count = 42\n",
      "\n",
      "tfidf sim_euclid 5 True 31\n",
      "mrr = 0.11766151783977581, pairs_count = 45\n",
      "\n",
      "tfidf sim_euclid 5 True 32\n",
      "mrr = 0.11848270199668878, pairs_count = 45\n",
      "\n",
      "tfidf sim_euclid 5 True 33\n",
      "mrr = 0.11159524876366787, pairs_count = 46\n",
      "\n",
      "tfidf sim_euclid 5 True 34\n",
      "mrr = 0.12023407507744249, pairs_count = 46\n",
      "\n",
      "tfidf sim_euclid 5 True 35\n",
      "mrr = 0.1184080592144996, pairs_count = 46\n",
      "\n",
      "tfidf sim_euclid 5 True 36\n",
      "mrr = 0.11507356340041115, pairs_count = 53\n",
      "\n",
      "tfidf sim_euclid 5 True 37\n",
      "mrr = 0.10402829106163904, pairs_count = 55\n",
      "\n",
      "tfidf sim_euclid 5 True 38\n",
      "mrr = 0.10787214766500071, pairs_count = 55\n",
      "\n",
      "tfidf sim_euclid 5 True 39\n",
      "mrr = 0.0989920867715513, pairs_count = 58\n",
      "\n",
      "tfidf sim_euclid 5 True 40\n",
      "mrr = 0.10247821163869461, pairs_count = 59\n",
      "\n",
      "tfidf sim_euclid 5 True 41\n",
      "mrr = 0.10670383301701956, pairs_count = 59\n",
      "\n",
      "tfidf sim_euclid 5 True 42\n",
      "mrr = 0.1029428440962665, pairs_count = 59\n",
      "\n",
      "tfidf sim_euclid 5 True 43\n",
      "mrr = 0.09780366871166522, pairs_count = 60\n",
      "\n",
      "tfidf sim_euclid 5 True 44\n",
      "mrr = 0.08975018353202076, pairs_count = 61\n",
      "\n",
      "tfidf sim_euclid 5 True 45\n",
      "mrr = 0.10383902335085951, pairs_count = 67\n",
      "\n",
      "tfidf sim_euclid 5 True 46\n",
      "mrr = 0.09726165907491235, pairs_count = 69\n",
      "\n",
      "tfidf sim_euclid 5 True 47\n",
      "mrr = 0.09430128504752161, pairs_count = 72\n",
      "\n",
      "tfidf sim_euclid 5 True 48\n",
      "mrr = 0.09353549257151712, pairs_count = 73\n",
      "\n",
      "tfidf sim_euclid 5 True 49\n",
      "mrr = 0.0927426175030574, pairs_count = 73\n",
      "\n",
      "tfidf sim_euclid 5 True 50\n",
      "mrr = 0.09294970198219064, pairs_count = 77\n",
      "\n",
      "tfidf sim_cos 5 True 20\n",
      "mrr = 0.12160444342434171, pairs_count = 28\n",
      "\n",
      "tfidf sim_cos 5 True 21\n",
      "mrr = 0.12832318168196777, pairs_count = 29\n",
      "\n",
      "tfidf sim_cos 5 True 22\n",
      "mrr = 0.1424709810095434, pairs_count = 33\n",
      "\n",
      "tfidf sim_cos 5 True 23\n",
      "mrr = 0.11886272357617077, pairs_count = 34\n",
      "\n",
      "tfidf sim_cos 5 True 24\n",
      "mrr = 0.12414654281057283, pairs_count = 36\n",
      "\n",
      "tfidf sim_cos 5 True 25\n",
      "mrr = 0.1208744796289633, pairs_count = 37\n",
      "\n",
      "tfidf sim_cos 5 True 26\n",
      "mrr = 0.1468804570332406, pairs_count = 38\n",
      "\n",
      "tfidf sim_cos 5 True 27\n",
      "mrr = 0.150400131230452, pairs_count = 39\n",
      "\n",
      "tfidf sim_cos 5 True 28\n",
      "mrr = 0.13260455988096437, pairs_count = 40\n",
      "\n",
      "tfidf sim_cos 5 True 29\n",
      "mrr = 0.11197199553502771, pairs_count = 40\n",
      "\n",
      "tfidf sim_cos 5 True 30\n",
      "mrr = 0.12453290957171534, pairs_count = 42\n",
      "\n",
      "tfidf sim_cos 5 True 31\n",
      "mrr = 0.13884050787159039, pairs_count = 45\n",
      "\n",
      "tfidf sim_cos 5 True 32\n",
      "mrr = 0.13663244024098367, pairs_count = 45\n",
      "\n",
      "tfidf sim_cos 5 True 33\n",
      "mrr = 0.13493764026252558, pairs_count = 46\n",
      "\n",
      "tfidf sim_cos 5 True 34\n",
      "mrr = 0.11180015880613843, pairs_count = 46\n",
      "\n",
      "tfidf sim_cos 5 True 35\n",
      "mrr = 0.12156504689628417, pairs_count = 46\n",
      "\n",
      "tfidf sim_cos 5 True 36\n",
      "mrr = 0.14123204464661546, pairs_count = 53\n",
      "\n",
      "tfidf sim_cos 5 True 37\n",
      "mrr = 0.14079629796861054, pairs_count = 55\n",
      "\n",
      "tfidf sim_cos 5 True 38\n",
      "mrr = 0.14083674311451852, pairs_count = 55\n",
      "\n",
      "tfidf sim_cos 5 True 39\n",
      "mrr = 0.13057230321880892, pairs_count = 58\n",
      "\n",
      "tfidf sim_cos 5 True 40\n",
      "mrr = 0.12956090347329466, pairs_count = 59\n",
      "\n",
      "tfidf sim_cos 5 True 41\n",
      "mrr = 0.1308495605440366, pairs_count = 59\n",
      "\n",
      "tfidf sim_cos 5 True 42\n",
      "mrr = 0.13272742803715346, pairs_count = 59\n",
      "\n",
      "tfidf sim_cos 5 True 43\n",
      "mrr = 0.12966906972612283, pairs_count = 60\n",
      "\n",
      "tfidf sim_cos 5 True 44\n",
      "mrr = 0.1217690973912596, pairs_count = 61\n",
      "\n",
      "tfidf sim_cos 5 True 45\n",
      "mrr = 0.12770546168651986, pairs_count = 67\n",
      "\n",
      "tfidf sim_cos 5 True 46\n",
      "mrr = 0.12863801246524853, pairs_count = 69\n",
      "\n",
      "tfidf sim_cos 5 True 47\n",
      "mrr = 0.12291826196382886, pairs_count = 72\n",
      "\n",
      "tfidf sim_cos 5 True 48\n",
      "mrr = 0.11783146637994765, pairs_count = 73\n",
      "\n",
      "tfidf sim_cos 5 True 49\n",
      "mrr = 0.11919109572377135, pairs_count = 73\n",
      "\n",
      "tfidf sim_cos 5 True 50\n",
      "mrr = 0.11908225586461268, pairs_count = 77\n",
      "\n",
      "tfidf umap 5 True 20\n",
      "mrr = 0.18269337909814223, pairs_count = 28\n",
      "\n",
      "tfidf umap 5 True 21\n",
      "mrr = 0.1715327107607622, pairs_count = 29\n",
      "\n",
      "tfidf umap 5 True 22\n",
      "mrr = 0.1737701816547887, pairs_count = 33\n",
      "\n",
      "tfidf umap 5 True 23\n",
      "mrr = 0.15965351105271008, pairs_count = 34\n",
      "\n",
      "tfidf umap 5 True 24\n",
      "mrr = 0.17002087564814153, pairs_count = 36\n",
      "\n",
      "tfidf umap 5 True 25\n",
      "mrr = 0.15504283912532218, pairs_count = 37\n",
      "\n",
      "tfidf umap 5 True 26\n",
      "mrr = 0.15787472067068745, pairs_count = 38\n",
      "\n",
      "tfidf umap 5 True 27\n",
      "mrr = 0.15006979149247518, pairs_count = 39\n",
      "\n",
      "tfidf umap 5 True 28\n",
      "mrr = 0.1513211536916956, pairs_count = 40\n",
      "\n",
      "tfidf umap 5 True 29\n",
      "mrr = 0.1305836540839162, pairs_count = 40\n",
      "\n",
      "tfidf umap 5 True 30\n",
      "mrr = 0.14147625543413106, pairs_count = 42\n",
      "\n",
      "tfidf umap 5 True 31\n",
      "mrr = 0.14701988411112762, pairs_count = 45\n",
      "\n",
      "tfidf umap 5 True 32\n",
      "mrr = 0.13846925136282032, pairs_count = 45\n",
      "\n",
      "tfidf umap 5 True 33\n",
      "mrr = 0.1432808811238015, pairs_count = 46\n",
      "\n",
      "tfidf umap 5 True 34\n",
      "mrr = 0.14587131015222085, pairs_count = 46\n",
      "\n",
      "tfidf umap 5 True 35\n",
      "mrr = 0.15345382230901505, pairs_count = 46\n",
      "\n",
      "tfidf umap 5 True 36\n",
      "mrr = 0.1571414468718106, pairs_count = 53\n",
      "\n",
      "tfidf umap 5 True 37\n",
      "mrr = 0.1467926980680155, pairs_count = 55\n",
      "\n",
      "tfidf umap 5 True 38\n",
      "mrr = 0.13764058854173172, pairs_count = 55\n",
      "\n",
      "tfidf umap 5 True 39\n",
      "mrr = 0.14249540642499928, pairs_count = 58\n",
      "\n",
      "tfidf umap 5 True 40\n",
      "mrr = 0.12868990954440346, pairs_count = 59\n",
      "\n",
      "tfidf umap 5 True 41\n",
      "mrr = 0.13283446755273612, pairs_count = 59\n",
      "\n",
      "tfidf umap 5 True 42\n",
      "mrr = 0.13210202095839663, pairs_count = 59\n",
      "\n",
      "tfidf umap 5 True 43\n",
      "mrr = 0.14056232961601045, pairs_count = 60\n",
      "\n",
      "tfidf umap 5 True 44\n",
      "mrr = 0.12408368832346468, pairs_count = 61\n",
      "\n",
      "tfidf umap 5 True 45\n",
      "mrr = 0.1437210808647365, pairs_count = 67\n",
      "\n",
      "tfidf umap 5 True 46\n",
      "mrr = 0.131262301639668, pairs_count = 69\n",
      "\n",
      "tfidf umap 5 True 47\n",
      "mrr = 0.12590996730206624, pairs_count = 72\n",
      "\n",
      "tfidf umap 5 True 48\n",
      "mrr = 0.12678113440225686, pairs_count = 73\n",
      "\n",
      "tfidf umap 5 True 49\n",
      "mrr = 0.132187895392668, pairs_count = 73\n",
      "\n",
      "tfidf umap 5 True 50\n",
      "mrr = 0.12699832212719103, pairs_count = 77\n",
      "\n",
      "tfidf umap 2 False 20\n",
      "mrr = 0.18269337909814223, pairs_count = 28\n",
      "\n",
      "tfidf umap 2 False 21\n",
      "mrr = 0.1715327107607622, pairs_count = 29\n",
      "\n",
      "tfidf umap 2 False 22\n",
      "mrr = 0.1737701816547887, pairs_count = 33\n",
      "\n",
      "tfidf umap 2 False 23\n",
      "mrr = 0.15965351105271008, pairs_count = 34\n",
      "\n",
      "tfidf umap 2 False 24\n",
      "mrr = 0.17002087564814153, pairs_count = 36\n",
      "\n",
      "tfidf umap 2 False 25\n",
      "mrr = 0.15504283912532218, pairs_count = 37\n",
      "\n",
      "tfidf umap 2 False 26\n",
      "mrr = 0.15787472067068745, pairs_count = 38\n",
      "\n",
      "tfidf umap 2 False 27\n",
      "mrr = 0.15006979149247518, pairs_count = 39\n",
      "\n",
      "tfidf umap 2 False 28\n",
      "mrr = 0.1513211536916956, pairs_count = 40\n",
      "\n",
      "tfidf umap 2 False 29\n",
      "mrr = 0.1305836540839162, pairs_count = 40\n",
      "\n",
      "tfidf umap 2 False 30\n",
      "mrr = 0.14147625543413106, pairs_count = 42\n",
      "\n",
      "tfidf umap 2 False 31\n",
      "mrr = 0.14701988411112762, pairs_count = 45\n",
      "\n",
      "tfidf umap 2 False 32\n",
      "mrr = 0.13846925136282032, pairs_count = 45\n",
      "\n",
      "tfidf umap 2 False 33\n",
      "mrr = 0.1432808811238015, pairs_count = 46\n",
      "\n",
      "tfidf umap 2 False 34\n",
      "mrr = 0.14587131015222085, pairs_count = 46\n",
      "\n",
      "tfidf umap 2 False 35\n",
      "mrr = 0.15345382230901505, pairs_count = 46\n",
      "\n",
      "tfidf umap 2 False 36\n",
      "mrr = 0.1571414468718106, pairs_count = 53\n",
      "\n",
      "tfidf umap 2 False 37\n",
      "mrr = 0.1467926980680155, pairs_count = 55\n",
      "\n",
      "tfidf umap 2 False 38\n",
      "mrr = 0.13764058854173172, pairs_count = 55\n",
      "\n",
      "tfidf umap 2 False 39\n",
      "mrr = 0.14249540642499928, pairs_count = 58\n",
      "\n",
      "tfidf umap 2 False 40\n",
      "mrr = 0.12868990954440346, pairs_count = 59\n",
      "\n",
      "tfidf umap 2 False 41\n",
      "mrr = 0.13283446755273612, pairs_count = 59\n",
      "\n",
      "tfidf umap 2 False 42\n",
      "mrr = 0.13210202095839663, pairs_count = 59\n",
      "\n",
      "tfidf umap 2 False 43\n",
      "mrr = 0.14056232961601045, pairs_count = 60\n",
      "\n",
      "tfidf umap 2 False 44\n",
      "mrr = 0.12408368832346468, pairs_count = 61\n",
      "\n",
      "tfidf umap 2 False 45\n",
      "mrr = 0.1437210808647365, pairs_count = 67\n",
      "\n",
      "tfidf umap 2 False 46\n",
      "mrr = 0.131262301639668, pairs_count = 69\n",
      "\n",
      "tfidf umap 2 False 47\n",
      "mrr = 0.12590996730206624, pairs_count = 72\n",
      "\n",
      "tfidf umap 2 False 48\n",
      "mrr = 0.12678113440225686, pairs_count = 73\n",
      "\n",
      "tfidf umap 2 False 49\n",
      "mrr = 0.132187895392668, pairs_count = 73\n",
      "\n",
      "tfidf umap 2 False 50\n",
      "mrr = 0.12699832212719103, pairs_count = 77\n",
      "\n",
      "best_mean_reciprocal_rank = 0.17467540146308835\n",
      "best_norm_type = prof\n",
      "best_alg_type = sim_cos\n",
      "best_dim = 5\n",
      "best_use_tsne = True\n",
      "best_top_n_skill_per_profession = 36\n"
     ]
    },
    {
     "data": {
      "application/vnd.plotly.v1+json": {
       "config": {
        "plotlyServerURL": "https://plot.ly"
       },
       "data": [
        {
         "customdata": [
          [
           15.8,
           "Аналитик данных"
          ],
          [
           12.500767263427116,
           "Аналитик данных"
          ],
          [
           12.38567774936062,
           "Аналитик данных"
          ],
          [
           8.626086956521737,
           "Аналитик данных"
          ],
          [
           6.132480818414329,
           "Аналитик данных"
          ],
          [
           5.979028132992326,
           "Аналитик данных"
          ],
          [
           4.789769820971871,
           "Аналитик данных"
          ],
          [
           4.713043478260869,
           "Аналитик данных"
          ],
          [
           4.291048593350382,
           "Аналитик данных"
          ],
          [
           3.293606138107423,
           "Аналитик данных"
          ],
          [
           3.1401534526854356,
           "Аналитик данных"
          ],
          [
           2.3345268542199564,
           "Аналитик данных"
          ],
          [
           2.181074168797969,
           "Аналитик данных"
          ],
          [
           1.8741687979539776,
           "Аналитик данных"
          ],
          [
           1.7974424552429755,
           "Аналитик данных"
          ],
          [
           1.759079283887483,
           "Аналитик данных"
          ],
          [
           1.643989769820972,
           "Аналитик данных"
          ],
          [
           1.6056265984654794,
           "Аналитик данных"
          ],
          [
           1.4138107416879826,
           "Аналитик данных"
          ],
          [
           1.37544757033249,
           "Аналитик данных"
          ],
          [
           1.37544757033249,
           "Аналитик данных"
          ],
          [
           1.337084398976997,
           "Аналитик данных"
          ],
          [
           1.298721227621488,
           "Аналитик данных"
          ],
          [
           1.260358056265995,
           "Аналитик данных"
          ],
          [
           1.1069053708439913,
           "Аналитик данных"
          ],
          [
           1.0685421994884985,
           "Аналитик данных"
          ],
          [
           1.0685421994884985,
           "Аналитик данных"
          ],
          [
           1.0301790281330057,
           "Аналитик данных"
          ],
          [
           0.9534526854220038,
           "Аналитик данных"
          ],
          [
           0.9534526854220038,
           "Аналитик данных"
          ],
          [
           0.9150895140665107,
           "Аналитик данных"
          ],
          [
           0.9150895140665107,
           "Аналитик данных"
          ],
          [
           0.9150895140665107,
           "Аналитик данных"
          ],
          [
           0.8767263427110019,
           "Аналитик данных"
          ],
          [
           0.8,
           "Аналитик данных"
          ],
          [
           0.8,
           "Аналитик данных"
          ]
         ],
         "hovertemplate": "<b>%{hovertext}</b><br><br><extra></extra>",
         "hovertext": [
          "SQL",
          "Анализ данных",
          "Python",
          "Аналитическое мышление",
          "Английский",
          "Power BI",
          "MS Excel",
          "Математическая статистика",
          "Работа с большим объемом информации",
          "Базы данных",
          "MS SQL",
          "PostgreSQL",
          "Tableau",
          "BI",
          "MS PowerPoint",
          "Математический анализ",
          "Анализ рынка",
          "Работа с базами данных",
          "Hadoop",
          "Аналитические исследования",
          "Machine Learning",
          "ETL",
          "A/B тесты",
          "Визуализация данных",
          "Моделирование бизнес процессов",
          "Pandas",
          "Бизнес-анализ",
          "Деловая коммуникация",
          "Работа в команде",
          "ClickHouse",
          "Сбор и анализ информации",
          "Маркетинговые исследования",
          "Грамотная речь",
          "Работа в условиях многозадачности",
          "Google таблицы",
          "Spark"
         ],
         "legendgroup": "Аналитик данных",
         "marker": {
          "color": "#636EFA",
          "line": {
           "color": "DarkSlateGrey",
           "width": 0.5
          },
          "opacity": 0.7,
          "size": [
           15.8,
           12.500767263427116,
           12.38567774936062,
           8.626086956521737,
           6.132480818414329,
           5.979028132992326,
           4.789769820971871,
           4.713043478260869,
           4.291048593350382,
           3.293606138107423,
           3.1401534526854356,
           2.3345268542199564,
           2.181074168797969,
           1.8741687979539776,
           1.7974424552429755,
           1.759079283887483,
           1.643989769820972,
           1.6056265984654794,
           1.4138107416879826,
           1.37544757033249,
           1.37544757033249,
           1.337084398976997,
           1.298721227621488,
           1.260358056265995,
           1.1069053708439913,
           1.0685421994884985,
           1.0685421994884985,
           1.0301790281330057,
           0.9534526854220038,
           0.9534526854220038,
           0.9150895140665107,
           0.9150895140665107,
           0.9150895140665107,
           0.8767263427110019,
           0.8,
           0.8
          ],
          "sizemode": "area",
          "sizeref": 0.0395,
          "symbol": "circle"
         },
         "mode": "markers",
         "name": "Аналитик данных",
         "orientation": "v",
         "showlegend": true,
         "type": "scatter",
         "x": [
          -1.9015582,
          2.992307,
          -7.059627,
          2.3750093,
          -7.738176,
          1.9207754,
          2.7709851,
          3.1730678,
          -2.0643375,
          -6.452937,
          -5.5314364,
          -6.1000686,
          1.9390707,
          0.9357036,
          2.215806,
          -6.565654,
          3.4741106,
          -5.481136,
          -5.4513583,
          3.7357502,
          -7.9384155,
          -4.681412,
          4.788628,
          1.726175,
          2.578041,
          -5.8623123,
          2.7587852,
          2.459547,
          2.6694598,
          -5.0341144,
          2.8895845,
          3.6461155,
          2.7797341,
          1.9015218,
          2.7604034,
          -5.3888226
         ],
         "xaxis": "x",
         "y": [
          -1.0125526,
          -0.48733655,
          4.8266582,
          -2.5353866,
          4.1878214,
          -0.64606833,
          -2.2328215,
          -0.05109836,
          -0.9565579,
          -3.5613413,
          -3.4655328,
          -3.4371636,
          -0.11066767,
          -0.42512548,
          -2.3870094,
          4.3949304,
          -1.8619812,
          -3.360685,
          0.31573728,
          -0.23277983,
          6.7439203,
          0.31795093,
          1.0735217,
          -0.38920763,
          -6.6905527,
          3.662952,
          -6.578157,
          -4.720073,
          -4.3682303,
          -0.81335855,
          -3.2050264,
          -1.6193123,
          -3.4986496,
          -3.8328404,
          -2.1515727,
          0.7331908
         ],
         "yaxis": "y"
        },
        {
         "customdata": [
          [
           15.713544668587895,
           "Инженер данных"
          ],
          [
           1.6213256484149887,
           "Инженер данных"
          ],
          [
           15.8,
           "Инженер данных"
          ],
          [
           0.9729106628242046,
           "Инженер данных"
          ],
          [
           5.3821325648415055,
           "Инженер данных"
          ],
          [
           1.3187319884726307,
           "Инженер данных"
          ],
          [
           4.6904899135446705,
           "Инженер данных"
          ],
          [
           6.981556195965414,
           "Инженер данных"
          ],
          [
           3.134293948126812,
           "Инженер данных"
          ],
          [
           6.722190201729107,
           "Инженер данных"
          ],
          [
           1.1458213256484262,
           "Инженер данных"
          ],
          [
           1.7510086455331422,
           "Инженер данных"
          ],
          [
           7.586743515850147,
           "Инженер данных"
          ],
          [
           1.8374639769452445,
           "Инженер данных"
          ],
          [
           9.44553314121038,
           "Инженер данных"
          ],
          [
           3.8691642651296814,
           "Инженер данных"
          ],
          [
           6.246685878962545,
           "Инженер данных"
          ],
          [
           4.6904899135446705,
           "Инженер данных"
          ],
          [
           4.171757925072057,
           "Инженер данных"
          ],
          [
           3.566570605187324,
           "Инженер данных"
          ],
          [
           2.874927953890489,
           "Инженер данных"
          ],
          [
           2.874927953890489,
           "Инженер данных"
          ],
          [
           2.356195965417875,
           "Инженер данных"
          ],
          [
           2.312968299711824,
           "Инженер данных"
          ],
          [
           2.312968299711824,
           "Инженер данных"
          ],
          [
           2.096829971181568,
           "Инженер данных"
          ],
          [
           2.053602305475517,
           "Инженер данных"
          ],
          [
           1.6213256484149887,
           "Инженер данных"
          ],
          [
           1.4916426512968353,
           "Инженер данных"
          ],
          [
           1.405187319884733,
           "Инженер данных"
          ],
          [
           1.3619596541786818,
           "Инженер данных"
          ],
          [
           1.0593659942363238,
           "Инженер данных"
          ],
          [
           0.8432276657060511,
           "Инженер данных"
          ],
          [
           0.8432276657060511,
           "Инженер данных"
          ],
          [
           0.8,
           "Инженер данных"
          ],
          [
           0.8,
           "Инженер данных"
          ]
         ],
         "hovertemplate": "<b>%{hovertext}</b><br><br><extra></extra>",
         "hovertext": [
          "SQL",
          "Анализ данных",
          "Python",
          "Аналитическое мышление",
          "Английский",
          "Power BI",
          "Работа с большим объемом информации",
          "Базы данных",
          "MS SQL",
          "PostgreSQL",
          "BI",
          "Работа с базами данных",
          "Hadoop",
          "Machine Learning",
          "ETL",
          "ClickHouse",
          "Spark",
          "DWH",
          "Airflow",
          "Linux",
          "Docker",
          "Kafka",
          "Git",
          "Java",
          "SCALA",
          "Greenplum",
          "ORACLE",
          "Hive",
          "Kubernetes",
          "Хранилище данных",
          "CI/CD",
          "NoSQL",
          "Bash",
          "Data Science",
          "NiFi",
          "Oracle Pl/SQL"
         ],
         "legendgroup": "Инженер данных",
         "marker": {
          "color": "#EF553B",
          "line": {
           "color": "DarkSlateGrey",
           "width": 0.5
          },
          "opacity": 0.7,
          "size": [
           15.713544668587895,
           1.6213256484149887,
           15.8,
           0.9729106628242046,
           5.3821325648415055,
           1.3187319884726307,
           4.6904899135446705,
           6.981556195965414,
           3.134293948126812,
           6.722190201729107,
           1.1458213256484262,
           1.7510086455331422,
           7.586743515850147,
           1.8374639769452445,
           9.44553314121038,
           3.8691642651296814,
           6.246685878962545,
           4.6904899135446705,
           4.171757925072057,
           3.566570605187324,
           2.874927953890489,
           2.874927953890489,
           2.356195965417875,
           2.312968299711824,
           2.312968299711824,
           2.096829971181568,
           2.053602305475517,
           1.6213256484149887,
           1.4916426512968353,
           1.405187319884733,
           1.3619596541786818,
           1.0593659942363238,
           0.8432276657060511,
           0.8432276657060511,
           0.8,
           0.8
          ],
          "sizemode": "area",
          "sizeref": 0.0395,
          "symbol": "circle"
         },
         "mode": "markers",
         "name": "Инженер данных",
         "orientation": "v",
         "showlegend": true,
         "type": "scatter",
         "x": [
          -1.9015582,
          2.992307,
          -7.059627,
          2.3750093,
          -7.738176,
          1.9207754,
          -2.0643375,
          -6.452937,
          -5.5314364,
          -6.1000686,
          0.9357036,
          -5.481136,
          -5.4513583,
          -7.9384155,
          -4.681412,
          -5.0341144,
          -5.3888226,
          -4.174119,
          -4.736818,
          -5.9254403,
          -6.314046,
          -5.3096476,
          -8.594334,
          -5.980641,
          -4.499589,
          -4.461493,
          -6.4734817,
          -5.406886,
          -5.292282,
          -4.938723,
          -6.0794253,
          -5.8774147,
          -5.931741,
          -7.8381276,
          -4.656071,
          -5.221384
         ],
         "xaxis": "x",
         "y": [
          -1.0125526,
          -0.48733655,
          4.8266582,
          -2.5353866,
          4.1878214,
          -0.64606833,
          -0.9565579,
          -3.5613413,
          -3.4655328,
          -3.4371636,
          -0.42512548,
          -3.360685,
          0.31573728,
          6.7439203,
          0.31795093,
          -0.81335855,
          0.7331908,
          0.25380117,
          0.763916,
          -3.990992,
          0.5481362,
          -0.4659885,
          6.3212767,
          0.5143446,
          0.95519704,
          -0.08968138,
          -3.3832765,
          0.5791216,
          0.8758866,
          1.0313246,
          0.20929225,
          -0.5393175,
          -4.18999,
          7.1273623,
          1.0733242,
          -1.7621993
         ],
         "yaxis": "y"
        },
        {
         "customdata": [
          [
           10.464429530201338,
           "Data Scientist"
          ],
          [
           4.273154362416099,
           "Data Scientist"
          ],
          [
           15.8,
           "Data Scientist"
          ],
          [
           1.907382550335575,
           "Data Scientist"
          ],
          [
           6.085234899328857,
           "Data Scientist"
          ],
          [
           0.951006711409389,
           "Data Scientist"
          ],
          [
           5.2798657718120765,
           "Data Scientist"
          ],
          [
           3.618791946308721,
           "Data Scientist"
          ],
          [
           1.655704697986573,
           "Data Scientist"
          ],
          [
           1.6053691275167816,
           "Data Scientist"
          ],
          [
           1.5046979865771841,
           "Data Scientist"
          ],
          [
           2.763087248322148,
           "Data Scientist"
          ],
          [
           0.8503355704697914,
           "Data Scientist"
          ],
          [
           2.863758389261746,
           "Data Scientist"
          ],
          [
           12.628859060402679,
           "Data Scientist"
          ],
          [
           0.8503355704697914,
           "Data Scientist"
          ],
          [
           3.0147651006711342,
           "Data Scientist"
          ],
          [
           1.1523489932885846,
           "Data Scientist"
          ],
          [
           0.8,
           "Data Scientist"
          ],
          [
           0.8503355704697914,
           "Data Scientist"
          ],
          [
           0.8503355704697914,
           "Data Scientist"
          ],
          [
           2.5114093959731463,
           "Data Scientist"
          ],
          [
           0.951006711409389,
           "Data Scientist"
          ],
          [
           1.907382550335575,
           "Data Scientist"
          ],
          [
           1.907382550335575,
           "Data Scientist"
          ],
          [
           1.806711409395977,
           "Data Scientist"
          ],
          [
           5.179194630872478,
           "Data Scientist"
          ],
          [
           2.9644295302013433,
           "Data Scientist"
          ],
          [
           2.209395973154353,
           "Data Scientist"
          ],
          [
           2.1087248322147554,
           "Data Scientist"
          ],
          [
           2.1087248322147554,
           "Data Scientist"
          ],
          [
           1.4543624161073776,
           "Data Scientist"
          ],
          [
           1.4543624161073776,
           "Data Scientist"
          ],
          [
           1.4543624161073776,
           "Data Scientist"
          ],
          [
           0.8503355704697914,
           "Data Scientist"
          ],
          [
           0.8,
           "Data Scientist"
          ]
         ],
         "hovertemplate": "<b>%{hovertext}</b><br><br><extra></extra>",
         "hovertext": [
          "SQL",
          "Анализ данных",
          "Python",
          "Аналитическое мышление",
          "Английский",
          "Power BI",
          "Математическая статистика",
          "Работа с большим объемом информации",
          "Базы данных",
          "MS SQL",
          "PostgreSQL",
          "Математический анализ",
          "Анализ рынка",
          "Hadoop",
          "Machine Learning",
          "ETL",
          "Pandas",
          "Деловая коммуникация",
          "Работа в команде",
          "ClickHouse",
          "Грамотная речь",
          "Spark",
          "Airflow",
          "Linux",
          "Docker",
          "Git",
          "Data Science",
          "PyTorch",
          "Scikit-learn",
          "NLP",
          "Numpy",
          "Computer Vision",
          "Tensorflow",
          "Deep Learning",
          "Алгоритмы",
          "Нейронные сети"
         ],
         "legendgroup": "Data Scientist",
         "marker": {
          "color": "#00CC96",
          "line": {
           "color": "DarkSlateGrey",
           "width": 0.5
          },
          "opacity": 0.7,
          "size": [
           10.464429530201338,
           4.273154362416099,
           15.8,
           1.907382550335575,
           6.085234899328857,
           0.951006711409389,
           5.2798657718120765,
           3.618791946308721,
           1.655704697986573,
           1.6053691275167816,
           1.5046979865771841,
           2.763087248322148,
           0.8503355704697914,
           2.863758389261746,
           12.628859060402679,
           0.8503355704697914,
           3.0147651006711342,
           1.1523489932885846,
           0.8,
           0.8503355704697914,
           0.8503355704697914,
           2.5114093959731463,
           0.951006711409389,
           1.907382550335575,
           1.907382550335575,
           1.806711409395977,
           5.179194630872478,
           2.9644295302013433,
           2.209395973154353,
           2.1087248322147554,
           2.1087248322147554,
           1.4543624161073776,
           1.4543624161073776,
           1.4543624161073776,
           0.8503355704697914,
           0.8
          ],
          "sizemode": "area",
          "sizeref": 0.0395,
          "symbol": "circle"
         },
         "mode": "markers",
         "name": "Data Scientist",
         "orientation": "v",
         "showlegend": true,
         "type": "scatter",
         "x": [
          -1.9015582,
          2.992307,
          -7.059627,
          2.3750093,
          -7.738176,
          1.9207754,
          3.1730678,
          -2.0643375,
          -6.452937,
          -5.5314364,
          -6.1000686,
          -6.565654,
          3.4741106,
          -5.4513583,
          -7.9384155,
          -4.681412,
          -5.8623123,
          2.459547,
          2.6694598,
          -5.0341144,
          2.7797341,
          -5.3888226,
          -4.736818,
          -5.9254403,
          -6.314046,
          -8.594334,
          -7.8381276,
          -8.449671,
          -8.388615,
          -7.682028,
          -7.700296,
          -8.8785,
          -8.9210415,
          -8.597171,
          -9.340909,
          -8.52319
         ],
         "xaxis": "x",
         "y": [
          -1.0125526,
          -0.48733655,
          4.8266582,
          -2.5353866,
          4.1878214,
          -0.64606833,
          -0.05109836,
          -0.9565579,
          -3.5613413,
          -3.4655328,
          -3.4371636,
          4.3949304,
          -1.8619812,
          0.31573728,
          6.7439203,
          0.31795093,
          3.662952,
          -4.720073,
          -4.3682303,
          -0.81335855,
          -3.4986496,
          0.7331908,
          0.763916,
          -3.990992,
          0.5481362,
          6.3212767,
          7.1273623,
          8.093156,
          6.9904013,
          8.571319,
          6.2545247,
          8.49915,
          7.826223,
          7.8230824,
          7.4475603,
          6.882213
         ],
         "yaxis": "y"
        },
        {
         "customdata": [
          [
           15.8,
           "Продуктовый аналитик"
          ],
          [
           11.646153846153853,
           "Продуктовый аналитик"
          ],
          [
           12.569230769230776,
           "Продуктовый аналитик"
          ],
          [
           10.492307692307701,
           "Продуктовый аналитик"
          ],
          [
           4.7230769230769205,
           "Продуктовый аналитик"
          ],
          [
           5.184615384615388,
           "Продуктовый аналитик"
          ],
          [
           1.4923076923076963,
           "Продуктовый аналитик"
          ],
          [
           6.80000000000001,
           "Продуктовый аналитик"
          ],
          [
           1.7230769230769236,
           "Продуктовый аналитик"
          ],
          [
           1.9538461538461505,
           "Продуктовый аналитик"
          ],
          [
           2.4153846153846192,
           "Продуктовый аналитик"
          ],
          [
           1.4923076923076963,
           "Продуктовый аналитик"
          ],
          [
           4.492307692307694,
           "Продуктовый аналитик"
          ],
          [
           1.9538461538461505,
           "Продуктовый аналитик"
          ],
          [
           1.261538461538469,
           "Продуктовый аналитик"
          ],
          [
           1.9538461538461505,
           "Продуктовый аналитик"
          ],
          [
           1.261538461538469,
           "Продуктовый аналитик"
          ],
          [
           1.261538461538469,
           "Продуктовый аналитик"
          ],
          [
           3.56923076923077,
           "Продуктовый аналитик"
          ],
          [
           1.9538461538461505,
           "Продуктовый аналитик"
          ],
          [
           7.492307692307691,
           "Продуктовый аналитик"
          ],
          [
           1.0307692307692273,
           "Продуктовый аналитик"
          ],
          [
           1.261538461538469,
           "Продуктовый аналитик"
          ],
          [
           1.261538461538469,
           "Продуктовый аналитик"
          ],
          [
           1.261538461538469,
           "Продуктовый аналитик"
          ],
          [
           3.3384615384615426,
           "Продуктовый аналитик"
          ],
          [
           1.9538461538461505,
           "Продуктовый аналитик"
          ],
          [
           1.9538461538461505,
           "Продуктовый аналитик"
          ],
          [
           1.7230769230769236,
           "Продуктовый аналитик"
          ],
          [
           1.261538461538469,
           "Продуктовый аналитик"
          ],
          [
           1.261538461538469,
           "Продуктовый аналитик"
          ],
          [
           1.261538461538469,
           "Продуктовый аналитик"
          ],
          [
           1.0307692307692273,
           "Продуктовый аналитик"
          ],
          [
           1.0307692307692273,
           "Продуктовый аналитик"
          ],
          [
           1.0307692307692273,
           "Продуктовый аналитик"
          ],
          [
           0.8,
           "Продуктовый аналитик"
          ]
         ],
         "hovertemplate": "<b>%{hovertext}</b><br><br><extra></extra>",
         "hovertext": [
          "SQL",
          "Анализ данных",
          "Python",
          "Аналитическое мышление",
          "Английский",
          "Power BI",
          "MS Excel",
          "Математическая статистика",
          "Работа с большим объемом информации",
          "Базы данных",
          "MS SQL",
          "PostgreSQL",
          "Tableau",
          "BI",
          "Математический анализ",
          "Анализ рынка",
          "Работа с базами данных",
          "Hadoop",
          "Аналитические исследования",
          "ETL",
          "A/B тесты",
          "Визуализация данных",
          "Бизнес-анализ",
          "ClickHouse",
          "Сбор и анализ информации",
          "Продуктовая аналитика",
          "Управление продуктом",
          "Google Analytics",
          "Конкурентная аналитика",
          "Яндекс.Метрика",
          "Firebase",
          "R",
          "Amplitude",
          "Appsflyer",
          "Проведение презентаций",
          "Веб-аналитика"
         ],
         "legendgroup": "Продуктовый аналитик",
         "marker": {
          "color": "#AB63FA",
          "line": {
           "color": "DarkSlateGrey",
           "width": 0.5
          },
          "opacity": 0.7,
          "size": [
           15.8,
           11.646153846153853,
           12.569230769230776,
           10.492307692307701,
           4.7230769230769205,
           5.184615384615388,
           1.4923076923076963,
           6.80000000000001,
           1.7230769230769236,
           1.9538461538461505,
           2.4153846153846192,
           1.4923076923076963,
           4.492307692307694,
           1.9538461538461505,
           1.261538461538469,
           1.9538461538461505,
           1.261538461538469,
           1.261538461538469,
           3.56923076923077,
           1.9538461538461505,
           7.492307692307691,
           1.0307692307692273,
           1.261538461538469,
           1.261538461538469,
           1.261538461538469,
           3.3384615384615426,
           1.9538461538461505,
           1.9538461538461505,
           1.7230769230769236,
           1.261538461538469,
           1.261538461538469,
           1.261538461538469,
           1.0307692307692273,
           1.0307692307692273,
           1.0307692307692273,
           0.8
          ],
          "sizemode": "area",
          "sizeref": 0.0395,
          "symbol": "circle"
         },
         "mode": "markers",
         "name": "Продуктовый аналитик",
         "orientation": "v",
         "showlegend": true,
         "type": "scatter",
         "x": [
          -1.9015582,
          2.992307,
          -7.059627,
          2.3750093,
          -7.738176,
          1.9207754,
          2.7709851,
          3.1730678,
          -2.0643375,
          -6.452937,
          -5.5314364,
          -6.1000686,
          1.9390707,
          0.9357036,
          -6.565654,
          3.4741106,
          -5.481136,
          -5.4513583,
          3.7357502,
          -4.681412,
          4.788628,
          1.726175,
          2.7587852,
          -5.0341144,
          2.8895845,
          5.1441445,
          4.7044277,
          4.848716,
          4.5100083,
          4.7645116,
          5.173178,
          4.317051,
          4.3791633,
          5.193007,
          4.0854983,
          5.124568
         ],
         "xaxis": "x",
         "y": [
          -1.0125526,
          -0.48733655,
          4.8266582,
          -2.5353866,
          4.1878214,
          -0.64606833,
          -2.2328215,
          -0.05109836,
          -0.9565579,
          -3.5613413,
          -3.4655328,
          -3.4371636,
          -0.11066767,
          -0.42512548,
          4.3949304,
          -1.8619812,
          -3.360685,
          0.31573728,
          -0.23277983,
          0.31795093,
          1.0735217,
          -0.38920763,
          -6.578157,
          -0.81335855,
          -3.2050264,
          1.414552,
          1.2020929,
          0.6469279,
          -0.22827996,
          0.47260514,
          1.4641199,
          0.51951075,
          1.135216,
          1.2496507,
          -0.77314305,
          0.81550324
         ],
         "yaxis": "y"
        },
        {
         "customdata": [
          [
           8.101587301587303,
           "ML инженер"
          ],
          [
           2.06984126984127,
           "ML инженер"
          ],
          [
           15.8,
           "ML инженер"
          ],
          [
           1.3555555555555556,
           "ML инженер"
          ],
          [
           5.8,
           "ML инженер"
          ],
          [
           2.3079365079365086,
           "ML инженер"
          ],
          [
           3.180952380952381,
           "ML инженер"
          ],
          [
           1.5142857142857142,
           "ML инженер"
          ],
          [
           3.2603174603174603,
           "ML инженер"
          ],
          [
           2.466666666666667,
           "ML инженер"
          ],
          [
           13.895238095238096,
           "ML инженер"
          ],
          [
           3.022222222222222,
           "ML инженер"
          ],
          [
           1.276190476190476,
           "ML инженер"
          ],
          [
           1.1174603174603175,
           "ML инженер"
          ],
          [
           1.0380952380952382,
           "ML инженер"
          ],
          [
           2.3079365079365086,
           "ML инженер"
          ],
          [
           1.3555555555555556,
           "ML инженер"
          ],
          [
           3.2603174603174603,
           "ML инженер"
          ],
          [
           2.546031746031746,
           "ML инженер"
          ],
          [
           1.3555555555555556,
           "ML инженер"
          ],
          [
           2.625396825396826,
           "ML инженер"
          ],
          [
           1.4349206349206352,
           "ML инженер"
          ],
          [
           1.0380952380952382,
           "ML инженер"
          ],
          [
           1.9111111111111112,
           "ML инженер"
          ],
          [
           3.2603174603174603,
           "ML инженер"
          ],
          [
           1.0380952380952382,
           "ML инженер"
          ],
          [
           1.3555555555555556,
           "ML инженер"
          ],
          [
           1.4349206349206352,
           "ML инженер"
          ],
          [
           1.276190476190476,
           "ML инженер"
          ],
          [
           1.9111111111111112,
           "ML инженер"
          ],
          [
           1.6730158730158733,
           "ML инженер"
          ],
          [
           1.276190476190476,
           "ML инженер"
          ],
          [
           0.8793650793650793,
           "ML инженер"
          ],
          [
           2.2285714285714286,
           "ML инженер"
          ],
          [
           0.9587301587301589,
           "ML инженер"
          ],
          [
           0.8,
           "ML инженер"
          ]
         ],
         "hovertemplate": "<b>%{hovertext}</b><br><br><extra></extra>",
         "hovertext": [
          "SQL",
          "Анализ данных",
          "Python",
          "Аналитическое мышление",
          "Английский",
          "Математическая статистика",
          "Работа с большим объемом информации",
          "Базы данных",
          "PostgreSQL",
          "Hadoop",
          "Machine Learning",
          "ETL",
          "Pandas",
          "ClickHouse",
          "Грамотная речь",
          "Spark",
          "DWH",
          "Linux",
          "Docker",
          "Kafka",
          "Git",
          "Java",
          "Kubernetes",
          "Data Science",
          "PyTorch",
          "Scikit-learn",
          "NLP",
          "Numpy",
          "Computer Vision",
          "Tensorflow",
          "Deep Learning",
          "Алгоритмы",
          "Нейронные сети",
          "C++",
          "Adobe Photoshop",
          "Высокая скорость печати"
         ],
         "legendgroup": "ML инженер",
         "marker": {
          "color": "#FFA15A",
          "line": {
           "color": "DarkSlateGrey",
           "width": 0.5
          },
          "opacity": 0.7,
          "size": [
           8.101587301587303,
           2.06984126984127,
           15.8,
           1.3555555555555556,
           5.8,
           2.3079365079365086,
           3.180952380952381,
           1.5142857142857142,
           3.2603174603174603,
           2.466666666666667,
           13.895238095238096,
           3.022222222222222,
           1.276190476190476,
           1.1174603174603175,
           1.0380952380952382,
           2.3079365079365086,
           1.3555555555555556,
           3.2603174603174603,
           2.546031746031746,
           1.3555555555555556,
           2.625396825396826,
           1.4349206349206352,
           1.0380952380952382,
           1.9111111111111112,
           3.2603174603174603,
           1.0380952380952382,
           1.3555555555555556,
           1.4349206349206352,
           1.276190476190476,
           1.9111111111111112,
           1.6730158730158733,
           1.276190476190476,
           0.8793650793650793,
           2.2285714285714286,
           0.9587301587301589,
           0.8
          ],
          "sizemode": "area",
          "sizeref": 0.0395,
          "symbol": "circle"
         },
         "mode": "markers",
         "name": "ML инженер",
         "orientation": "v",
         "showlegend": true,
         "type": "scatter",
         "x": [
          -1.9015582,
          2.992307,
          -7.059627,
          2.3750093,
          -7.738176,
          3.1730678,
          -2.0643375,
          -6.452937,
          -6.1000686,
          -5.4513583,
          -7.9384155,
          -4.681412,
          -5.8623123,
          -5.0341144,
          2.7797341,
          -5.3888226,
          -4.174119,
          -5.9254403,
          -6.314046,
          -5.3096476,
          -8.594334,
          -5.980641,
          -5.292282,
          -7.8381276,
          -8.449671,
          -8.388615,
          -7.682028,
          -7.700296,
          -8.8785,
          -8.9210415,
          -8.597171,
          -9.340909,
          -8.52319,
          -8.601262,
          -5.370956,
          -5.388101
         ],
         "xaxis": "x",
         "y": [
          -1.0125526,
          -0.48733655,
          4.8266582,
          -2.5353866,
          4.1878214,
          -0.05109836,
          -0.9565579,
          -3.5613413,
          -3.4371636,
          0.31573728,
          6.7439203,
          0.31795093,
          3.662952,
          -0.81335855,
          -3.4986496,
          0.7331908,
          0.25380117,
          -3.990992,
          0.5481362,
          -0.4659885,
          6.3212767,
          0.5143446,
          0.8758866,
          7.1273623,
          8.093156,
          6.9904013,
          8.571319,
          6.2545247,
          8.49915,
          7.826223,
          7.8230824,
          7.4475603,
          6.882213,
          7.5059304,
          3.141676,
          3.195448
         ],
         "yaxis": "y"
        },
        {
         "customdata": [
          [
           8.6,
           "Computer Vision"
          ],
          [
           2.5999999999999965,
           "Computer Vision"
          ],
          [
           15.8,
           "Computer Vision"
          ],
          [
           1.9999999999999978,
           "Computer Vision"
          ],
          [
           12.199999999999994,
           "Computer Vision"
          ],
          [
           1.3999999999999988,
           "Computer Vision"
          ],
          [
           1.9999999999999978,
           "Computer Vision"
          ],
          [
           1.9999999999999978,
           "Computer Vision"
          ],
          [
           1.3999999999999988,
           "Computer Vision"
          ],
          [
           1.9999999999999978,
           "Computer Vision"
          ],
          [
           0.8,
           "Computer Vision"
          ],
          [
           9.199999999999998,
           "Computer Vision"
          ],
          [
           1.3999999999999988,
           "Computer Vision"
          ],
          [
           1.9999999999999978,
           "Computer Vision"
          ],
          [
           4.399999999999993,
           "Computer Vision"
          ],
          [
           3.1999999999999957,
           "Computer Vision"
          ],
          [
           7.999999999999999,
           "Computer Vision"
          ],
          [
           2.5999999999999965,
           "Computer Vision"
          ],
          [
           1.3999999999999988,
           "Computer Vision"
          ],
          [
           11.599999999999993,
           "Computer Vision"
          ],
          [
           4.399999999999993,
           "Computer Vision"
          ],
          [
           3.7999999999999945,
           "Computer Vision"
          ],
          [
           3.7999999999999945,
           "Computer Vision"
          ],
          [
           1.3999999999999988,
           "Computer Vision"
          ],
          [
           3.1999999999999957,
           "Computer Vision"
          ],
          [
           9.199999999999998,
           "Computer Vision"
          ],
          [
           1.3999999999999988,
           "Computer Vision"
          ],
          [
           1.3999999999999988,
           "Computer Vision"
          ],
          [
           1.3999999999999988,
           "Computer Vision"
          ],
          [
           0.8,
           "Computer Vision"
          ],
          [
           0.8,
           "Computer Vision"
          ],
          [
           0.8,
           "Computer Vision"
          ],
          [
           0.8,
           "Computer Vision"
          ],
          [
           0.8,
           "Computer Vision"
          ],
          [
           0.8,
           "Computer Vision"
          ],
          [
           0.8,
           "Computer Vision"
          ]
         ],
         "hovertemplate": "<b>%{hovertext}</b><br><br><extra></extra>",
         "hovertext": [
          "SQL",
          "Анализ данных",
          "Python",
          "Аналитическое мышление",
          "Английский",
          "Математическая статистика",
          "MS SQL",
          "PostgreSQL",
          "Математический анализ",
          "Hadoop",
          "Аналитические исследования",
          "Machine Learning",
          "Spark",
          "Linux",
          "Git",
          "Data Science",
          "PyTorch",
          "Scikit-learn",
          "Numpy",
          "Computer Vision",
          "Tensorflow",
          "Deep Learning",
          "Алгоритмы",
          "Нейронные сети",
          "C++",
          "OpenCV",
          "Линейная алгебра",
          "Jira",
          "ООП",
          "Matplotlib",
          "Deeplab",
          "Keras",
          "3D",
          "Qt",
          "GitHub",
          "синтетические данные"
         ],
         "legendgroup": "Computer Vision",
         "marker": {
          "color": "#19D3F3",
          "line": {
           "color": "DarkSlateGrey",
           "width": 0.5
          },
          "opacity": 0.7,
          "size": [
           8.6,
           2.5999999999999965,
           15.8,
           1.9999999999999978,
           12.199999999999994,
           1.3999999999999988,
           1.9999999999999978,
           1.9999999999999978,
           1.3999999999999988,
           1.9999999999999978,
           0.8,
           9.199999999999998,
           1.3999999999999988,
           1.9999999999999978,
           4.399999999999993,
           3.1999999999999957,
           7.999999999999999,
           2.5999999999999965,
           1.3999999999999988,
           11.599999999999993,
           4.399999999999993,
           3.7999999999999945,
           3.7999999999999945,
           1.3999999999999988,
           3.1999999999999957,
           9.199999999999998,
           1.3999999999999988,
           1.3999999999999988,
           1.3999999999999988,
           0.8,
           0.8,
           0.8,
           0.8,
           0.8,
           0.8,
           0.8
          ],
          "sizemode": "area",
          "sizeref": 0.0395,
          "symbol": "circle"
         },
         "mode": "markers",
         "name": "Computer Vision",
         "orientation": "v",
         "showlegend": true,
         "type": "scatter",
         "x": [
          -1.9015582,
          2.992307,
          -7.059627,
          2.3750093,
          -7.738176,
          3.1730678,
          -5.5314364,
          -6.1000686,
          -6.565654,
          -5.4513583,
          3.7357502,
          -7.9384155,
          -5.3888226,
          -5.9254403,
          -8.594334,
          -7.8381276,
          -8.449671,
          -8.388615,
          -7.700296,
          -8.8785,
          -8.9210415,
          -8.597171,
          -9.340909,
          -8.52319,
          -8.601262,
          -9.624628,
          -9.451129,
          -8.321957,
          -9.164565,
          -8.952333,
          -9.358226,
          -7.9532256,
          -8.797972,
          -8.797972,
          -9.358226,
          -9.279539
         ],
         "xaxis": "x",
         "y": [
          -1.0125526,
          -0.48733655,
          4.8266582,
          -2.5353866,
          4.1878214,
          -0.05109836,
          -3.4655328,
          -3.4371636,
          4.3949304,
          0.31573728,
          -0.23277983,
          6.7439203,
          0.7331908,
          -3.990992,
          6.3212767,
          7.1273623,
          8.093156,
          6.9904013,
          6.2545247,
          8.49915,
          7.826223,
          7.8230824,
          7.4475603,
          6.882213,
          7.5059304,
          8.446747,
          8.195486,
          4.11291,
          7.0938563,
          7.383775,
          8.669,
          7.26682,
          9.131328,
          9.131328,
          8.669,
          9.081689
         ],
         "yaxis": "y"
        },
        {
         "customdata": [
          [
           5.26969696969697,
           "Администратор баз данных"
          ],
          [
           1.481818181818186,
           "Администратор баз данных"
          ],
          [
           0.8,
           "Администратор баз данных"
          ],
          [
           3.6030303030302973,
           "Администратор баз данных"
          ],
          [
           0.9515151515151556,
           "Администратор баз данных"
          ],
          [
           15.8,
           "Администратор баз данных"
          ],
          [
           8.37575757575758,
           "Администратор баз данных"
          ],
          [
           10.4969696969697,
           "Администратор баз данных"
          ],
          [
           3.8303030303030257,
           "Администратор баз данных"
          ],
          [
           1.0272727272727287,
           "Администратор баз данных"
          ],
          [
           0.8,
           "Администратор баз данных"
          ],
          [
           1.481818181818186,
           "Администратор баз данных"
          ],
          [
           0.9515151515151556,
           "Администратор баз данных"
          ],
          [
           6.33030303030303,
           "Администратор баз данных"
          ],
          [
           1.0272727272727287,
           "Администратор баз данных"
          ],
          [
           1.1787878787878747,
           "Администратор баз данных"
          ],
          [
           0.8,
           "Администратор баз данных"
          ],
          [
           4.436363636363638,
           "Администратор баз данных"
          ],
          [
           1.7848484848484873,
           "Администратор баз данных"
          ],
          [
           0.9515151515151556,
           "Администратор баз данных"
          ],
          [
           3.527272727272724,
           "Администратор баз данных"
          ],
          [
           2.618181818181819,
           "Администратор баз данных"
          ],
          [
           2.239393939393935,
           "Администратор баз данных"
          ],
          [
           1.7848484848484873,
           "Администратор баз данных"
          ],
          [
           1.557575757575759,
           "Администратор баз данных"
          ],
          [
           1.2545454545454573,
           "Администратор баз данных"
          ],
          [
           1.1787878787878747,
           "Администратор баз данных"
          ],
          [
           1.1030303030303017,
           "Администратор баз данных"
          ],
          [
           1.0272727272727287,
           "Администратор баз данных"
          ],
          [
           0.9515151515151556,
           "Администратор баз данных"
          ],
          [
           0.8757575757575731,
           "Администратор баз данных"
          ],
          [
           0.8757575757575731,
           "Администратор баз данных"
          ],
          [
           0.8757575757575731,
           "Администратор баз данных"
          ],
          [
           0.8,
           "Администратор баз данных"
          ],
          [
           0.8,
           "Администратор баз данных"
          ],
          [
           0.8,
           "Администратор баз данных"
          ]
         ],
         "hovertemplate": "<b>%{hovertext}</b><br><br><extra></extra>",
         "hovertext": [
          "SQL",
          "Python",
          "Аналитическое мышление",
          "Английский",
          "Работа с большим объемом информации",
          "Базы данных",
          "MS SQL",
          "PostgreSQL",
          "Работа с базами данных",
          "Деловая коммуникация",
          "Работа в команде",
          "ClickHouse",
          "Работа в условиях многозадачности",
          "Linux",
          "Docker",
          "Kafka",
          "Git",
          "ORACLE",
          "Bash",
          "Oracle Pl/SQL",
          "Администрирование",
          "1С: Предприятие 8",
          "MySQL",
          "Zabbix",
          "Unix",
          "MongoDB",
          "Пользователь ПК",
          "Grafana",
          "Ansible",
          "Оптимизация запросов",
          "MS Access",
          "Администрирование серверов",
          "Prometheus",
          "Высшее образование",
          "Информационные технологии",
          "TCP/IP"
         ],
         "legendgroup": "Администратор баз данных",
         "marker": {
          "color": "#FF6692",
          "line": {
           "color": "DarkSlateGrey",
           "width": 0.5
          },
          "opacity": 0.7,
          "size": [
           5.26969696969697,
           1.481818181818186,
           0.8,
           3.6030303030302973,
           0.9515151515151556,
           15.8,
           8.37575757575758,
           10.4969696969697,
           3.8303030303030257,
           1.0272727272727287,
           0.8,
           1.481818181818186,
           0.9515151515151556,
           6.33030303030303,
           1.0272727272727287,
           1.1787878787878747,
           0.8,
           4.436363636363638,
           1.7848484848484873,
           0.9515151515151556,
           3.527272727272724,
           2.618181818181819,
           2.239393939393935,
           1.7848484848484873,
           1.557575757575759,
           1.2545454545454573,
           1.1787878787878747,
           1.1030303030303017,
           1.0272727272727287,
           0.9515151515151556,
           0.8757575757575731,
           0.8757575757575731,
           0.8757575757575731,
           0.8,
           0.8,
           0.8
          ],
          "sizemode": "area",
          "sizeref": 0.0395,
          "symbol": "circle"
         },
         "mode": "markers",
         "name": "Администратор баз данных",
         "orientation": "v",
         "showlegend": true,
         "type": "scatter",
         "x": [
          -1.9015582,
          -7.059627,
          2.3750093,
          -7.738176,
          -2.0643375,
          -6.452937,
          -5.5314364,
          -6.1000686,
          -5.481136,
          2.459547,
          2.6694598,
          -5.0341144,
          1.9015218,
          -5.9254403,
          -6.314046,
          -5.3096476,
          -8.594334,
          -6.4734817,
          -5.931741,
          -5.221384,
          -7.592748,
          2.3660343,
          -6.6520257,
          -7.131835,
          -7.3288145,
          -6.1466284,
          -2.7195024,
          -5.820248,
          -6.328727,
          -7.4059877,
          -2.4815054,
          -7.2277017,
          -6.9375863,
          -8.509686,
          -4.4700794,
          -7.462769
         ],
         "xaxis": "x",
         "y": [
          -1.0125526,
          4.8266582,
          -2.5353866,
          4.1878214,
          -0.9565579,
          -3.5613413,
          -3.4655328,
          -3.4371636,
          -3.360685,
          -4.720073,
          -4.3682303,
          -0.81335855,
          -3.8328404,
          -3.990992,
          0.5481362,
          -0.4659885,
          6.3212767,
          -3.3832765,
          -4.18999,
          -1.7621993,
          -4.458631,
          -5.792941,
          -3.9635072,
          -4.427093,
          -4.136427,
          -4.231077,
          -3.2364213,
          -2.8756382,
          -2.9685884,
          -4.1506004,
          -3.237204,
          -4.455,
          -3.3053622,
          4.0882053,
          -3.0536487,
          -3.8612413
         ],
         "yaxis": "y"
        },
        {
         "customdata": [
          [
           15.8,
           "Аналитик BI"
          ],
          [
           7.2285714285714215,
           "Аналитик BI"
          ],
          [
           4.371428571428568,
           "Аналитик BI"
          ],
          [
           10.442857142857132,
           "Аналитик BI"
          ],
          [
           7.585714285714278,
           "Аналитик BI"
          ],
          [
           9.014285714285705,
           "Аналитик BI"
          ],
          [
           2.9428571428571404,
           "Аналитик BI"
          ],
          [
           2.5857142857142845,
           "Аналитик BI"
          ],
          [
           4.371428571428568,
           "Аналитик BI"
          ],
          [
           4.371428571428568,
           "Аналитик BI"
          ],
          [
           2.2285714285714273,
           "Аналитик BI"
          ],
          [
           1.1571428571428568,
           "Аналитик BI"
          ],
          [
           5.799999999999994,
           "Аналитик BI"
          ],
          [
           8.657142857142848,
           "Аналитик BI"
          ],
          [
           2.5857142857142845,
           "Аналитик BI"
          ],
          [
           1.5142857142857136,
           "Аналитик BI"
          ],
          [
           1.1571428571428568,
           "Аналитик BI"
          ],
          [
           1.8714285714285703,
           "Аналитик BI"
          ],
          [
           1.8714285714285703,
           "Аналитик BI"
          ],
          [
           1.1571428571428568,
           "Аналитик BI"
          ],
          [
           1.1571428571428568,
           "Аналитик BI"
          ],
          [
           2.5857142857142845,
           "Аналитик BI"
          ],
          [
           1.1571428571428568,
           "Аналитик BI"
          ],
          [
           3.299999999999997,
           "Аналитик BI"
          ],
          [
           1.5142857142857136,
           "Аналитик BI"
          ],
          [
           1.5142857142857136,
           "Аналитик BI"
          ],
          [
           1.1571428571428568,
           "Аналитик BI"
          ],
          [
           1.1571428571428568,
           "Аналитик BI"
          ],
          [
           1.1571428571428568,
           "Аналитик BI"
          ],
          [
           1.1571428571428568,
           "Аналитик BI"
          ],
          [
           1.1571428571428568,
           "Аналитик BI"
          ],
          [
           0.8,
           "Аналитик BI"
          ],
          [
           0.8,
           "Аналитик BI"
          ],
          [
           0.8,
           "Аналитик BI"
          ],
          [
           0.8,
           "Аналитик BI"
          ],
          [
           0.8,
           "Аналитик BI"
          ]
         ],
         "hovertemplate": "<b>%{hovertext}</b><br><br><extra></extra>",
         "hovertext": [
          "SQL",
          "Анализ данных",
          "Python",
          "Аналитическое мышление",
          "Английский",
          "Power BI",
          "MS Excel",
          "Математическая статистика",
          "Работа с большим объемом информации",
          "Базы данных",
          "MS SQL",
          "PostgreSQL",
          "Tableau",
          "BI",
          "MS PowerPoint",
          "Анализ рынка",
          "Аналитические исследования",
          "Визуализация данных",
          "Бизнес-анализ",
          "Деловая коммуникация",
          "Работа в условиях многозадачности",
          "DWH",
          "Greenplum",
          "Qlik Sense",
          "OLAP",
          "SAP",
          "Подготовка презентаций",
          "Отчетность",
          "XML",
          "REST",
          "UML",
          "Atlassian Confluence",
          "DAX",
          "Системный анализ",
          "MS Power Builder",
          "Apache NiFi"
         ],
         "legendgroup": "Аналитик BI",
         "marker": {
          "color": "#B6E880",
          "line": {
           "color": "DarkSlateGrey",
           "width": 0.5
          },
          "opacity": 0.7,
          "size": [
           15.8,
           7.2285714285714215,
           4.371428571428568,
           10.442857142857132,
           7.585714285714278,
           9.014285714285705,
           2.9428571428571404,
           2.5857142857142845,
           4.371428571428568,
           4.371428571428568,
           2.2285714285714273,
           1.1571428571428568,
           5.799999999999994,
           8.657142857142848,
           2.5857142857142845,
           1.5142857142857136,
           1.1571428571428568,
           1.8714285714285703,
           1.8714285714285703,
           1.1571428571428568,
           1.1571428571428568,
           2.5857142857142845,
           1.1571428571428568,
           3.299999999999997,
           1.5142857142857136,
           1.5142857142857136,
           1.1571428571428568,
           1.1571428571428568,
           1.1571428571428568,
           1.1571428571428568,
           1.1571428571428568,
           0.8,
           0.8,
           0.8,
           0.8,
           0.8
          ],
          "sizemode": "area",
          "sizeref": 0.0395,
          "symbol": "circle"
         },
         "mode": "markers",
         "name": "Аналитик BI",
         "orientation": "v",
         "showlegend": true,
         "type": "scatter",
         "x": [
          -1.9015582,
          2.992307,
          -7.059627,
          2.3750093,
          -7.738176,
          1.9207754,
          2.7709851,
          3.1730678,
          -2.0643375,
          -6.452937,
          -5.5314364,
          -6.1000686,
          1.9390707,
          0.9357036,
          2.215806,
          3.4741106,
          3.7357502,
          1.726175,
          2.7587852,
          2.459547,
          1.9015218,
          -4.174119,
          -4.461493,
          0.9229755,
          -1.6346636,
          1.6155347,
          1.818693,
          0.81274444,
          4.4855175,
          4.549208,
          3.915828,
          3.9588509,
          0.52848166,
          4.578725,
          0.7086038,
          -3.313115
         ],
         "xaxis": "x",
         "y": [
          -1.0125526,
          -0.48733655,
          4.8266582,
          -2.5353866,
          4.1878214,
          -0.64606833,
          -2.2328215,
          -0.05109836,
          -0.9565579,
          -3.5613413,
          -3.4655328,
          -3.4371636,
          -0.11066767,
          -0.42512548,
          -2.3870094,
          -1.8619812,
          -0.23277983,
          -0.38920763,
          -6.578157,
          -4.720073,
          -3.8328404,
          0.25380117,
          -0.08968138,
          -0.12044979,
          -0.80768484,
          -1.5733067,
          -2.65611,
          -0.22907378,
          -8.388435,
          -8.276998,
          -8.06206,
          -7.257543,
          -0.75616705,
          -8.047886,
          0.17235139,
          -0.112427905
         ],
         "yaxis": "y"
        },
        {
         "customdata": [
          [
           5.7999999999999945,
           "NLP"
          ],
          [
           1.9538461538461527,
           "NLP"
          ],
          [
           15.8,
           "NLP"
          ],
          [
           10.800000000000004,
           "NLP"
          ],
          [
           1.1846153846153844,
           "NLP"
          ],
          [
           1.5692307692307685,
           "NLP"
          ],
          [
           1.5692307692307685,
           "NLP"
          ],
          [
           0.8,
           "NLP"
          ],
          [
           1.1846153846153844,
           "NLP"
          ],
          [
           1.1846153846153844,
           "NLP"
          ],
          [
           12.338461538461543,
           "NLP"
          ],
          [
           1.9538461538461527,
           "NLP"
          ],
          [
           1.5692307692307685,
           "NLP"
          ],
          [
           3.4923076923076897,
           "NLP"
          ],
          [
           1.1846153846153844,
           "NLP"
          ],
          [
           4.646153846153842,
           "NLP"
          ],
          [
           8.492307692307685,
           "NLP"
          ],
          [
           1.9538461538461527,
           "NLP"
          ],
          [
           9.261538461538455,
           "NLP"
          ],
          [
           1.5692307692307685,
           "NLP"
          ],
          [
           7.338461538461532,
           "NLP"
          ],
          [
           3.4923076923076897,
           "NLP"
          ],
          [
           3.1076923076923055,
           "NLP"
          ],
          [
           1.9538461538461527,
           "NLP"
          ],
          [
           2.3384615384615373,
           "NLP"
          ],
          [
           5.030769230769226,
           "NLP"
          ],
          [
           1.1846153846153844,
           "NLP"
          ],
          [
           1.1846153846153844,
           "NLP"
          ],
          [
           1.1846153846153844,
           "NLP"
          ],
          [
           1.5692307692307685,
           "NLP"
          ],
          [
           1.1846153846153844,
           "NLP"
          ],
          [
           1.1846153846153844,
           "NLP"
          ],
          [
           0.8,
           "NLP"
          ],
          [
           0.8,
           "NLP"
          ],
          [
           0.8,
           "NLP"
          ],
          [
           0.8,
           "NLP"
          ]
         ],
         "hovertemplate": "<b>%{hovertext}</b><br><br><extra></extra>",
         "hovertext": [
          "SQL",
          "Анализ данных",
          "Python",
          "Английский",
          "Математическая статистика",
          "MS SQL",
          "PostgreSQL",
          "MS PowerPoint",
          "Математический анализ",
          "Hadoop",
          "Machine Learning",
          "Linux",
          "Docker",
          "Git",
          "CI/CD",
          "Data Science",
          "PyTorch",
          "Scikit-learn",
          "NLP",
          "Numpy",
          "Computer Vision",
          "Tensorflow",
          "Deep Learning",
          "Алгоритмы",
          "C++",
          "OpenCV",
          "Линейная алгебра",
          "ООП",
          "Keras",
          "GPT",
          "Русский",
          "Scrum",
          "Разработка технических заданий",
          "Программирование 3D-графики",
          "Навыки презентации",
          "Transformer"
         ],
         "legendgroup": "NLP",
         "marker": {
          "color": "#FF97FF",
          "line": {
           "color": "DarkSlateGrey",
           "width": 0.5
          },
          "opacity": 0.7,
          "size": [
           5.7999999999999945,
           1.9538461538461527,
           15.8,
           10.800000000000004,
           1.1846153846153844,
           1.5692307692307685,
           1.5692307692307685,
           0.8,
           1.1846153846153844,
           1.1846153846153844,
           12.338461538461543,
           1.9538461538461527,
           1.5692307692307685,
           3.4923076923076897,
           1.1846153846153844,
           4.646153846153842,
           8.492307692307685,
           1.9538461538461527,
           9.261538461538455,
           1.5692307692307685,
           7.338461538461532,
           3.4923076923076897,
           3.1076923076923055,
           1.9538461538461527,
           2.3384615384615373,
           5.030769230769226,
           1.1846153846153844,
           1.1846153846153844,
           1.1846153846153844,
           1.5692307692307685,
           1.1846153846153844,
           1.1846153846153844,
           0.8,
           0.8,
           0.8,
           0.8
          ],
          "sizemode": "area",
          "sizeref": 0.0395,
          "symbol": "circle"
         },
         "mode": "markers",
         "name": "NLP",
         "orientation": "v",
         "showlegend": true,
         "type": "scatter",
         "x": [
          -1.9015582,
          2.992307,
          -7.059627,
          -7.738176,
          3.1730678,
          -5.5314364,
          -6.1000686,
          2.215806,
          -6.565654,
          -5.4513583,
          -7.9384155,
          -5.9254403,
          -6.314046,
          -8.594334,
          -6.0794253,
          -7.8381276,
          -8.449671,
          -8.388615,
          -7.682028,
          -7.700296,
          -8.8785,
          -8.9210415,
          -8.597171,
          -9.340909,
          -8.601262,
          -9.624628,
          -9.451129,
          -9.164565,
          -7.9532256,
          -7.6008124,
          -7.077487,
          0.3222378,
          3.6831558,
          -8.686151,
          -8.297784,
          -7.4890103
         ],
         "xaxis": "x",
         "y": [
          -1.0125526,
          -0.48733655,
          4.8266582,
          4.1878214,
          -0.05109836,
          -3.4655328,
          -3.4371636,
          -2.3870094,
          4.3949304,
          0.31573728,
          6.7439203,
          -3.990992,
          0.5481362,
          6.3212767,
          0.20929225,
          7.1273623,
          8.093156,
          6.9904013,
          8.571319,
          6.2545247,
          8.49915,
          7.826223,
          7.8230824,
          7.4475603,
          7.5059304,
          8.446747,
          8.195486,
          7.0938563,
          7.26682,
          8.739979,
          8.215585,
          -4.3942747,
          -7.255935,
          8.81585,
          4.4598627,
          8.2404
         ],
         "yaxis": "y"
        },
        {
         "customdata": [
          [
           12.838834951456304,
           "Аналитик"
          ],
          [
           10.79999999999999,
           "Аналитик"
          ],
          [
           7.134951456310671,
           "Аналитик"
          ],
          [
           15.8,
           "Аналитик"
          ],
          [
           11.79514563106796,
           "Аналитик"
          ],
          [
           4.829126213592227,
           "Аналитик"
          ],
          [
           8.688349514563109,
           "Аналитик"
          ],
          [
           4.14951456310679,
           "Аналитик"
          ],
          [
           6.528155339805824,
           "Аналитик"
          ],
          [
           2.6689320388349422,
           "Аналитик"
          ],
          [
           2.887378640776692,
           "Аналитик"
          ],
          [
           0.872815533980593,
           "Аналитик"
          ],
          [
           1.3825242718446575,
           "Аналитик"
          ],
          [
           4.562135922330102,
           "Аналитик"
          ],
          [
           0.9456310679611573,
           "Аналитик"
          ],
          [
           8.979611650485424,
           "Аналитик"
          ],
          [
           1.6495145631067838,
           "Аналитик"
          ],
          [
           2.377669902912628,
           "Аналитик"
          ],
          [
           3.833980582524286,
           "Аналитик"
          ],
          [
           2.9601941747572855,
           "Аналитик"
          ],
          [
           2.499029126213597,
           "Аналитик"
          ],
          [
           1.4310679611650623,
           "Аналитик"
          ],
          [
           1.3582524271844694,
           "Аналитик"
          ],
          [
           1.6495145631067838,
           "Аналитик"
          ],
          [
           2.207766990291254,
           "Аналитик"
          ],
          [
           2.0621359223300963,
           "Аналитик"
          ],
          [
           0.8970873786407811,
           "Аналитик"
          ],
          [
           7.134951456310671,
           "Аналитик"
          ],
          [
           1.3097087378640935,
           "Аналитик"
          ],
          [
           1.2611650485436885,
           "Аналитик"
          ],
          [
           0.824271844660188,
           "Аналитик"
          ],
          [
           1.3582524271844694,
           "Аналитик"
          ],
          [
           3.227184466019412,
           "Аналитик"
          ],
          [
           1.2854368932038767,
           "Аналитик"
          ],
          [
           0.9699029126213741,
           "Аналитик"
          ],
          [
           0.8,
           "Аналитик"
          ]
         ],
         "hovertemplate": "<b>%{hovertext}</b><br><br><extra></extra>",
         "hovertext": [
          "SQL",
          "Анализ данных",
          "Python",
          "Аналитическое мышление",
          "Английский",
          "Power BI",
          "MS Excel",
          "Математическая статистика",
          "Работа с большим объемом информации",
          "Базы данных",
          "MS SQL",
          "Tableau",
          "BI",
          "MS PowerPoint",
          "Математический анализ",
          "Анализ рынка",
          "Работа с базами данных",
          "Аналитические исследования",
          "Моделирование бизнес процессов",
          "Бизнес-анализ",
          "Деловая коммуникация",
          "Работа в команде",
          "Сбор и анализ информации",
          "Маркетинговые исследования",
          "Грамотная речь",
          "Работа в условиях многозадачности",
          "Конкурентная аналитика",
          "1С: Предприятие 8",
          "Пользователь ПК",
          "Подготовка презентаций",
          "Системный анализ",
          "Разработка технических заданий",
          "Финансовый анализ",
          "Прогнозирование",
          "Бюджетирование",
          "BPMN"
         ],
         "legendgroup": "Аналитик",
         "marker": {
          "color": "#FECB52",
          "line": {
           "color": "DarkSlateGrey",
           "width": 0.5
          },
          "opacity": 0.7,
          "size": [
           12.838834951456304,
           10.79999999999999,
           7.134951456310671,
           15.8,
           11.79514563106796,
           4.829126213592227,
           8.688349514563109,
           4.14951456310679,
           6.528155339805824,
           2.6689320388349422,
           2.887378640776692,
           0.872815533980593,
           1.3825242718446575,
           4.562135922330102,
           0.9456310679611573,
           8.979611650485424,
           1.6495145631067838,
           2.377669902912628,
           3.833980582524286,
           2.9601941747572855,
           2.499029126213597,
           1.4310679611650623,
           1.3582524271844694,
           1.6495145631067838,
           2.207766990291254,
           2.0621359223300963,
           0.8970873786407811,
           7.134951456310671,
           1.3097087378640935,
           1.2611650485436885,
           0.824271844660188,
           1.3582524271844694,
           3.227184466019412,
           1.2854368932038767,
           0.9699029126213741,
           0.8
          ],
          "sizemode": "area",
          "sizeref": 0.0395,
          "symbol": "circle"
         },
         "mode": "markers",
         "name": "Аналитик",
         "orientation": "v",
         "showlegend": true,
         "type": "scatter",
         "x": [
          -1.9015582,
          2.992307,
          -7.059627,
          2.3750093,
          -7.738176,
          1.9207754,
          2.7709851,
          3.1730678,
          -2.0643375,
          -6.452937,
          -5.5314364,
          1.9390707,
          0.9357036,
          2.215806,
          -6.565654,
          3.4741106,
          -5.481136,
          3.7357502,
          2.578041,
          2.7587852,
          2.459547,
          2.6694598,
          2.8895845,
          3.6461155,
          2.7797341,
          1.9015218,
          4.5100083,
          2.3660343,
          -2.7195024,
          1.818693,
          4.578725,
          3.6831558,
          4.06381,
          3.2054582,
          4.0621614,
          3.4208498
         ],
         "xaxis": "x",
         "y": [
          -1.0125526,
          -0.48733655,
          4.8266582,
          -2.5353866,
          4.1878214,
          -0.64606833,
          -2.2328215,
          -0.05109836,
          -0.9565579,
          -3.5613413,
          -3.4655328,
          -0.11066767,
          -0.42512548,
          -2.3870094,
          4.3949304,
          -1.8619812,
          -3.360685,
          -0.23277983,
          -6.6905527,
          -6.578157,
          -4.720073,
          -4.3682303,
          -3.2050264,
          -1.6193123,
          -3.4986496,
          -3.8328404,
          -0.22827996,
          -5.792941,
          -3.2364213,
          -2.65611,
          -8.047886,
          -7.255935,
          -2.3585684,
          -2.0011947,
          -2.597372,
          -7.9579825
         ],
         "yaxis": "y"
        },
        {
         "customdata": [
          [
           15.8,
           "Big Data"
          ],
          [
           2.72982456140351,
           "Big Data"
          ],
          [
           9.659649122807025,
           "Big Data"
          ],
          [
           2.3789473684210614,
           "Big Data"
          ],
          [
           3.4315789473684237,
           "Big Data"
          ],
          [
           1.501754385964914,
           "Big Data"
          ],
          [
           1.150877192982466,
           "Big Data"
          ],
          [
           7.7298245614035155,
           "Big Data"
          ],
          [
           4.484210526315804,
           "Big Data"
          ],
          [
           2.72982456140351,
           "Big Data"
          ],
          [
           4.396491228070178,
           "Big Data"
          ],
          [
           1.7649122807017548,
           "Big Data"
          ],
          [
           2.8175438596491347,
           "Big Data"
          ],
          [
           6.23859649122808,
           "Big Data"
          ],
          [
           1.2385964912280736,
           "Big Data"
          ],
          [
           7.817543859649123,
           "Big Data"
          ],
          [
           0.8877192982456255,
           "Big Data"
          ],
          [
           1.5894736842105395,
           "Big Data"
          ],
          [
           1.150877192982466,
           "Big Data"
          ],
          [
           4.396491228070178,
           "Big Data"
          ],
          [
           7.378947368421049,
           "Big Data"
          ],
          [
           1.9403508771929876,
           "Big Data"
          ],
          [
           2.2912280701754533,
           "Big Data"
          ],
          [
           1.5894736842105395,
           "Big Data"
          ],
          [
           1.6771929824561473,
           "Big Data"
          ],
          [
           1.0631578947368583,
           "Big Data"
          ],
          [
           1.2385964912280736,
           "Big Data"
          ],
          [
           1.4140350877193066,
           "Big Data"
          ],
          [
           1.501754385964914,
           "Big Data"
          ],
          [
           2.2035087719298283,
           "Big Data"
          ],
          [
           1.4140350877193066,
           "Big Data"
          ],
          [
           0.8,
           "Big Data"
          ],
          [
           1.0631578947368583,
           "Big Data"
          ],
          [
           2.0280701754385952,
           "Big Data"
          ],
          [
           1.0631578947368583,
           "Big Data"
          ],
          [
           0.8,
           "Big Data"
          ]
         ],
         "hovertemplate": "<b>%{hovertext}</b><br><br><extra></extra>",
         "hovertext": [
          "SQL",
          "Анализ данных",
          "Python",
          "Аналитическое мышление",
          "Английский",
          "Power BI",
          "Математическая статистика",
          "Работа с большим объемом информации",
          "Базы данных",
          "MS SQL",
          "PostgreSQL",
          "Tableau",
          "BI",
          "Hadoop",
          "Machine Learning",
          "ETL",
          "Бизнес-анализ",
          "Деловая коммуникация",
          "ClickHouse",
          "Spark",
          "DWH",
          "Airflow",
          "Linux",
          "Docker",
          "Kafka",
          "Git",
          "Java",
          "SCALA",
          "Greenplum",
          "ORACLE",
          "Hive",
          "Kubernetes",
          "CI/CD",
          "Системный анализ",
          "Управление проектами",
          "Agile"
         ],
         "legendgroup": "Big Data",
         "marker": {
          "color": "#636EFA",
          "line": {
           "color": "DarkSlateGrey",
           "width": 0.5
          },
          "opacity": 0.7,
          "size": [
           15.8,
           2.72982456140351,
           9.659649122807025,
           2.3789473684210614,
           3.4315789473684237,
           1.501754385964914,
           1.150877192982466,
           7.7298245614035155,
           4.484210526315804,
           2.72982456140351,
           4.396491228070178,
           1.7649122807017548,
           2.8175438596491347,
           6.23859649122808,
           1.2385964912280736,
           7.817543859649123,
           0.8877192982456255,
           1.5894736842105395,
           1.150877192982466,
           4.396491228070178,
           7.378947368421049,
           1.9403508771929876,
           2.2912280701754533,
           1.5894736842105395,
           1.6771929824561473,
           1.0631578947368583,
           1.2385964912280736,
           1.4140350877193066,
           1.501754385964914,
           2.2035087719298283,
           1.4140350877193066,
           0.8,
           1.0631578947368583,
           2.0280701754385952,
           1.0631578947368583,
           0.8
          ],
          "sizemode": "area",
          "sizeref": 0.0395,
          "symbol": "circle"
         },
         "mode": "markers",
         "name": "Big Data",
         "orientation": "v",
         "showlegend": true,
         "type": "scatter",
         "x": [
          -1.9015582,
          2.992307,
          -7.059627,
          2.3750093,
          -7.738176,
          1.9207754,
          3.1730678,
          -2.0643375,
          -6.452937,
          -5.5314364,
          -6.1000686,
          1.9390707,
          0.9357036,
          -5.4513583,
          -7.9384155,
          -4.681412,
          2.7587852,
          2.459547,
          -5.0341144,
          -5.3888226,
          -4.174119,
          -4.736818,
          -5.9254403,
          -6.314046,
          -5.3096476,
          -8.594334,
          -5.980641,
          -4.499589,
          -4.461493,
          -6.4734817,
          -5.406886,
          -5.292282,
          -6.0794253,
          4.578725,
          2.937884,
          4.0119243
         ],
         "xaxis": "x",
         "y": [
          -1.0125526,
          -0.48733655,
          4.8266582,
          -2.5353866,
          4.1878214,
          -0.64606833,
          -0.05109836,
          -0.9565579,
          -3.5613413,
          -3.4655328,
          -3.4371636,
          -0.11066767,
          -0.42512548,
          0.31573728,
          6.7439203,
          0.31795093,
          -6.578157,
          -4.720073,
          -0.81335855,
          0.7331908,
          0.25380117,
          0.763916,
          -3.990992,
          0.5481362,
          -0.4659885,
          6.3212767,
          0.5143446,
          0.95519704,
          -0.08968138,
          -3.3832765,
          0.5791216,
          0.8758866,
          0.20929225,
          -8.047886,
          -5.488286,
          -6.3922977
         ],
         "yaxis": "y"
        },
        {
         "customdata": [
          [
           15.8,
           "Системный аналитик"
          ],
          [
           1.272972972972979,
           "Системный аналитик"
          ],
          [
           1.0027027027027025,
           "Системный аналитик"
          ],
          [
           6.20540540540541,
           "Системный аналитик"
          ],
          [
           4.448648648648644,
           "Системный аналитик"
          ],
          [
           1.1378378378378304,
           "Системный аналитик"
          ],
          [
           3.7054054054054086,
           "Системный аналитик"
          ],
          [
           2.0162162162162147,
           "Системный аналитик"
          ],
          [
           1.7459459459459379,
           "Системный аналитик"
          ],
          [
           1.3405405405405328,
           "Системный аналитик"
          ],
          [
           3.7054054054054086,
           "Системный аналитик"
          ],
          [
           4.583783783783793,
           "Системный аналитик"
          ],
          [
           0.8675675675675742,
           "Системный аналитик"
          ],
          [
           0.9351351351351282,
           "Системный аналитик"
          ],
          [
           1.272972972972979,
           "Системный аналитик"
          ],
          [
           0.8,
           "Системный аналитик"
          ],
          [
           2.894594594594598,
           "Системный аналитик"
          ],
          [
           4.245945945945942,
           "Системный аналитик"
          ],
          [
           6.813513513513517,
           "Системный аналитик"
          ],
          [
           10.664864864864866,
           "Системный аналитик"
          ],
          [
           2.3540540540540453,
           "Системный аналитик"
          ],
          [
           12.69189189189189,
           "Системный аналитик"
          ],
          [
           6.8810810810810725,
           "Системный аналитик"
          ],
          [
           12.151351351351355,
           "Системный аналитик"
          ],
          [
           0.8675675675675742,
           "Системный аналитик"
          ],
          [
           1.678378378378384,
           "Системный аналитик"
          ],
          [
           3.8405405405405357,
           "Системный аналитик"
          ],
          [
           3.772972972972962,
           "Системный аналитик"
          ],
          [
           3.5702702702702798,
           "Системный аналитик"
          ],
          [
           3.3000000000000034,
           "Системный аналитик"
          ],
          [
           2.421621621621619,
           "Системный аналитик"
          ],
          [
           1.9486486486486403,
           "Системный аналитик"
          ],
          [
           1.5432432432432353,
           "Системный аналитик"
          ],
          [
           1.4756756756756817,
           "Системный аналитик"
          ],
          [
           1.0702702702702769,
           "Системный аналитик"
          ],
          [
           0.8675675675675742,
           "Системный аналитик"
          ]
         ],
         "hovertemplate": "<b>%{hovertext}</b><br><br><extra></extra>",
         "hovertext": [
          "SQL",
          "Анализ данных",
          "Python",
          "Аналитическое мышление",
          "Английский",
          "Работа с большим объемом информации",
          "Базы данных",
          "MS SQL",
          "PostgreSQL",
          "ETL",
          "Моделирование бизнес процессов",
          "Бизнес-анализ",
          "Деловая коммуникация",
          "Работа в команде",
          "DWH",
          "ORACLE",
          "1С: Предприятие 8",
          "XML",
          "REST",
          "UML",
          "Atlassian Confluence",
          "Системный анализ",
          "Разработка технических заданий",
          "BPMN",
          "Управление проектами",
          "Agile",
          "Постановка задач разработчикам",
          "SOAP",
          "JSON API",
          "Atlassian Jira",
          "API",
          "Системное мышление",
          "MS Visio",
          "Техническая документация",
          "ERP",
          "IDEF"
         ],
         "legendgroup": "Системный аналитик",
         "marker": {
          "color": "#EF553B",
          "line": {
           "color": "DarkSlateGrey",
           "width": 0.5
          },
          "opacity": 0.7,
          "size": [
           15.8,
           1.272972972972979,
           1.0027027027027025,
           6.20540540540541,
           4.448648648648644,
           1.1378378378378304,
           3.7054054054054086,
           2.0162162162162147,
           1.7459459459459379,
           1.3405405405405328,
           3.7054054054054086,
           4.583783783783793,
           0.8675675675675742,
           0.9351351351351282,
           1.272972972972979,
           0.8,
           2.894594594594598,
           4.245945945945942,
           6.813513513513517,
           10.664864864864866,
           2.3540540540540453,
           12.69189189189189,
           6.8810810810810725,
           12.151351351351355,
           0.8675675675675742,
           1.678378378378384,
           3.8405405405405357,
           3.772972972972962,
           3.5702702702702798,
           3.3000000000000034,
           2.421621621621619,
           1.9486486486486403,
           1.5432432432432353,
           1.4756756756756817,
           1.0702702702702769,
           0.8675675675675742
          ],
          "sizemode": "area",
          "sizeref": 0.0395,
          "symbol": "circle"
         },
         "mode": "markers",
         "name": "Системный аналитик",
         "orientation": "v",
         "showlegend": true,
         "type": "scatter",
         "x": [
          -1.9015582,
          2.992307,
          -7.059627,
          2.3750093,
          -7.738176,
          -2.0643375,
          -6.452937,
          -5.5314364,
          -6.1000686,
          -4.681412,
          2.578041,
          2.7587852,
          2.459547,
          2.6694598,
          -4.174119,
          -6.4734817,
          2.3660343,
          4.4855175,
          4.549208,
          3.915828,
          3.9588509,
          4.578725,
          3.6831558,
          3.4208498,
          2.937884,
          4.0119243,
          3.7887917,
          4.298542,
          4.256158,
          4.218857,
          4.9076962,
          3.4164112,
          2.9845772,
          3.8200312,
          3.34614,
          2.9701111
         ],
         "xaxis": "x",
         "y": [
          -1.0125526,
          -0.48733655,
          4.8266582,
          -2.5353866,
          4.1878214,
          -0.9565579,
          -3.5613413,
          -3.4655328,
          -3.4371636,
          0.31795093,
          -6.6905527,
          -6.578157,
          -4.720073,
          -4.3682303,
          0.25380117,
          -3.3832765,
          -5.792941,
          -8.388435,
          -8.276998,
          -8.06206,
          -7.257543,
          -8.047886,
          -7.255935,
          -7.9579825,
          -5.488286,
          -6.3922977,
          -7.882257,
          -8.623947,
          -8.486887,
          -7.1143327,
          -7.671777,
          -6.5122123,
          -6.8973207,
          -6.8668933,
          -7.478148,
          -7.5422263
         ],
         "yaxis": "y"
        },
        {
         "customdata": [
          [
           5.963316582914571,
           "Бизнес-аналитик"
          ],
          [
           2.7597989949748785,
           "Бизнес-аналитик"
          ],
          [
           0.8753768844221168,
           "Бизнес-аналитик"
          ],
          [
           11.767336683417092,
           "Бизнес-аналитик"
          ],
          [
           8.262311557788953,
           "Бизнес-аналитик"
          ],
          [
           1.4407035175879477,
           "Бизнес-аналитик"
          ],
          [
           3.5135678391959786,
           "Бизнес-аналитик"
          ],
          [
           1.8175879396985093,
           "Бизнес-аналитик"
          ],
          [
           0.8753768844221168,
           "Бизнес-аналитик"
          ],
          [
           1.9306532663316613,
           "Бизнес-аналитик"
          ],
          [
           1.063819095477386,
           "Бизнес-аналитик"
          ],
          [
           13.802512562814087,
           "Бизнес-аналитик"
          ],
          [
           15.8,
           "Бизнес-аналитик"
          ],
          [
           5.284924623115587,
           "Бизнес-аналитик"
          ],
          [
           2.0060301507537783,
           "Бизнес-аналитик"
          ],
          [
           1.2145728643216196,
           "Бизнес-аналитик"
          ],
          [
           1.3276381909547723,
           "Бизнес-аналитик"
          ],
          [
           1.4783919597990063,
           "Бизнес-аналитик"
          ],
          [
           9.392964824120615,
           "Бизнес-аналитик"
          ],
          [
           4.380402010050253,
           "Бизнес-аналитик"
          ],
          [
           1.553768844221123,
           "Бизнес-аналитик"
          ],
          [
           1.96834170854272,
           "Бизнес-аналитик"
          ],
          [
           5.360301507537706,
           "Бизнес-аналитик"
          ],
          [
           9.69447236180906,
           "Бизнес-аналитик"
          ],
          [
           3.287437185929651,
           "Бизнес-аналитик"
          ],
          [
           1.704522613065334,
           "Бизнес-аналитик"
          ],
          [
           1.7422110552763925,
           "Бизнес-аналитик"
          ],
          [
           2.0060301507537783,
           "Бизнес-аналитик"
          ],
          [
           2.1567839195979897,
           "Бизнес-аналитик"
          ],
          [
           3.4005025125628263,
           "Бизнес-аналитик"
          ],
          [
           0.8376884422110584,
           "Бизнес-аналитик"
          ],
          [
           0.8,
           "Бизнес-аналитик"
          ],
          [
           1.1768844221105614,
           "Бизнес-аналитик"
          ],
          [
           1.704522613065334,
           "Бизнес-аналитик"
          ],
          [
           0.9130653266331753,
           "Бизнес-аналитик"
          ],
          [
           0.8,
           "Бизнес-аналитик"
          ]
         ],
         "hovertemplate": "<b>%{hovertext}</b><br><br><extra></extra>",
         "hovertext": [
          "SQL",
          "Анализ данных",
          "Python",
          "Аналитическое мышление",
          "Английский",
          "Power BI",
          "MS Excel",
          "Работа с большим объемом информации",
          "MS SQL",
          "MS PowerPoint",
          "Анализ рынка",
          "Моделирование бизнес процессов",
          "Бизнес-анализ",
          "Деловая коммуникация",
          "Работа в команде",
          "Сбор и анализ информации",
          "Грамотная речь",
          "Работа в условиях многозадачности",
          "1С: Предприятие 8",
          "UML",
          "Atlassian Confluence",
          "Системный анализ",
          "Разработка технических заданий",
          "BPMN",
          "Управление проектами",
          "Agile",
          "Постановка задач разработчикам",
          "Atlassian Jira",
          "Системное мышление",
          "MS Visio",
          "Техническая документация",
          "ERP",
          "IDEF",
          "Автоматизация процессов",
          "EPC",
          "CRM"
         ],
         "legendgroup": "Бизнес-аналитик",
         "marker": {
          "color": "#00CC96",
          "line": {
           "color": "DarkSlateGrey",
           "width": 0.5
          },
          "opacity": 0.7,
          "size": [
           5.963316582914571,
           2.7597989949748785,
           0.8753768844221168,
           11.767336683417092,
           8.262311557788953,
           1.4407035175879477,
           3.5135678391959786,
           1.8175879396985093,
           0.8753768844221168,
           1.9306532663316613,
           1.063819095477386,
           13.802512562814087,
           15.8,
           5.284924623115587,
           2.0060301507537783,
           1.2145728643216196,
           1.3276381909547723,
           1.4783919597990063,
           9.392964824120615,
           4.380402010050253,
           1.553768844221123,
           1.96834170854272,
           5.360301507537706,
           9.69447236180906,
           3.287437185929651,
           1.704522613065334,
           1.7422110552763925,
           2.0060301507537783,
           2.1567839195979897,
           3.4005025125628263,
           0.8376884422110584,
           0.8,
           1.1768844221105614,
           1.704522613065334,
           0.9130653266331753,
           0.8
          ],
          "sizemode": "area",
          "sizeref": 0.0395,
          "symbol": "circle"
         },
         "mode": "markers",
         "name": "Бизнес-аналитик",
         "orientation": "v",
         "showlegend": true,
         "type": "scatter",
         "x": [
          -1.9015582,
          2.992307,
          -7.059627,
          2.3750093,
          -7.738176,
          1.9207754,
          2.7709851,
          -2.0643375,
          -5.5314364,
          2.215806,
          3.4741106,
          2.578041,
          2.7587852,
          2.459547,
          2.6694598,
          2.8895845,
          2.7797341,
          1.9015218,
          2.3660343,
          3.915828,
          3.9588509,
          4.578725,
          3.6831558,
          3.4208498,
          2.937884,
          4.0119243,
          3.7887917,
          4.218857,
          3.4164112,
          2.9845772,
          3.8200312,
          3.34614,
          2.9701111,
          2.569408,
          2.1440518,
          3.4038143
         ],
         "xaxis": "x",
         "y": [
          -1.0125526,
          -0.48733655,
          4.8266582,
          -2.5353866,
          4.1878214,
          -0.64606833,
          -2.2328215,
          -0.9565579,
          -3.4655328,
          -2.3870094,
          -1.8619812,
          -6.6905527,
          -6.578157,
          -4.720073,
          -4.3682303,
          -3.2050264,
          -3.4986496,
          -3.8328404,
          -5.792941,
          -8.06206,
          -7.257543,
          -8.047886,
          -7.255935,
          -7.9579825,
          -5.488286,
          -6.3922977,
          -7.882257,
          -7.1143327,
          -6.5122123,
          -6.8973207,
          -6.8668933,
          -7.478148,
          -7.5422263,
          -6.191671,
          -7.355021,
          -5.3314524
         ],
         "yaxis": "y"
        }
       ],
       "layout": {
        "height": 600,
        "legend": {
         "itemsizing": "constant",
         "title": {
          "text": "Профессия"
         },
         "tracegroupgap": 0
        },
        "margin": {
         "t": 60
        },
        "template": {
         "data": {
          "bar": [
           {
            "error_x": {
             "color": "#2a3f5f"
            },
            "error_y": {
             "color": "#2a3f5f"
            },
            "marker": {
             "line": {
              "color": "#E5ECF6",
              "width": 0.5
             },
             "pattern": {
              "fillmode": "overlay",
              "size": 10,
              "solidity": 0.2
             }
            },
            "type": "bar"
           }
          ],
          "barpolar": [
           {
            "marker": {
             "line": {
              "color": "#E5ECF6",
              "width": 0.5
             },
             "pattern": {
              "fillmode": "overlay",
              "size": 10,
              "solidity": 0.2
             }
            },
            "type": "barpolar"
           }
          ],
          "carpet": [
           {
            "aaxis": {
             "endlinecolor": "#2a3f5f",
             "gridcolor": "white",
             "linecolor": "white",
             "minorgridcolor": "white",
             "startlinecolor": "#2a3f5f"
            },
            "baxis": {
             "endlinecolor": "#2a3f5f",
             "gridcolor": "white",
             "linecolor": "white",
             "minorgridcolor": "white",
             "startlinecolor": "#2a3f5f"
            },
            "type": "carpet"
           }
          ],
          "choropleth": [
           {
            "colorbar": {
             "outlinewidth": 0,
             "ticks": ""
            },
            "type": "choropleth"
           }
          ],
          "contour": [
           {
            "colorbar": {
             "outlinewidth": 0,
             "ticks": ""
            },
            "colorscale": [
             [
              0,
              "#0d0887"
             ],
             [
              0.1111111111111111,
              "#46039f"
             ],
             [
              0.2222222222222222,
              "#7201a8"
             ],
             [
              0.3333333333333333,
              "#9c179e"
             ],
             [
              0.4444444444444444,
              "#bd3786"
             ],
             [
              0.5555555555555556,
              "#d8576b"
             ],
             [
              0.6666666666666666,
              "#ed7953"
             ],
             [
              0.7777777777777778,
              "#fb9f3a"
             ],
             [
              0.8888888888888888,
              "#fdca26"
             ],
             [
              1,
              "#f0f921"
             ]
            ],
            "type": "contour"
           }
          ],
          "contourcarpet": [
           {
            "colorbar": {
             "outlinewidth": 0,
             "ticks": ""
            },
            "type": "contourcarpet"
           }
          ],
          "heatmap": [
           {
            "colorbar": {
             "outlinewidth": 0,
             "ticks": ""
            },
            "colorscale": [
             [
              0,
              "#0d0887"
             ],
             [
              0.1111111111111111,
              "#46039f"
             ],
             [
              0.2222222222222222,
              "#7201a8"
             ],
             [
              0.3333333333333333,
              "#9c179e"
             ],
             [
              0.4444444444444444,
              "#bd3786"
             ],
             [
              0.5555555555555556,
              "#d8576b"
             ],
             [
              0.6666666666666666,
              "#ed7953"
             ],
             [
              0.7777777777777778,
              "#fb9f3a"
             ],
             [
              0.8888888888888888,
              "#fdca26"
             ],
             [
              1,
              "#f0f921"
             ]
            ],
            "type": "heatmap"
           }
          ],
          "heatmapgl": [
           {
            "colorbar": {
             "outlinewidth": 0,
             "ticks": ""
            },
            "colorscale": [
             [
              0,
              "#0d0887"
             ],
             [
              0.1111111111111111,
              "#46039f"
             ],
             [
              0.2222222222222222,
              "#7201a8"
             ],
             [
              0.3333333333333333,
              "#9c179e"
             ],
             [
              0.4444444444444444,
              "#bd3786"
             ],
             [
              0.5555555555555556,
              "#d8576b"
             ],
             [
              0.6666666666666666,
              "#ed7953"
             ],
             [
              0.7777777777777778,
              "#fb9f3a"
             ],
             [
              0.8888888888888888,
              "#fdca26"
             ],
             [
              1,
              "#f0f921"
             ]
            ],
            "type": "heatmapgl"
           }
          ],
          "histogram": [
           {
            "marker": {
             "pattern": {
              "fillmode": "overlay",
              "size": 10,
              "solidity": 0.2
             }
            },
            "type": "histogram"
           }
          ],
          "histogram2d": [
           {
            "colorbar": {
             "outlinewidth": 0,
             "ticks": ""
            },
            "colorscale": [
             [
              0,
              "#0d0887"
             ],
             [
              0.1111111111111111,
              "#46039f"
             ],
             [
              0.2222222222222222,
              "#7201a8"
             ],
             [
              0.3333333333333333,
              "#9c179e"
             ],
             [
              0.4444444444444444,
              "#bd3786"
             ],
             [
              0.5555555555555556,
              "#d8576b"
             ],
             [
              0.6666666666666666,
              "#ed7953"
             ],
             [
              0.7777777777777778,
              "#fb9f3a"
             ],
             [
              0.8888888888888888,
              "#fdca26"
             ],
             [
              1,
              "#f0f921"
             ]
            ],
            "type": "histogram2d"
           }
          ],
          "histogram2dcontour": [
           {
            "colorbar": {
             "outlinewidth": 0,
             "ticks": ""
            },
            "colorscale": [
             [
              0,
              "#0d0887"
             ],
             [
              0.1111111111111111,
              "#46039f"
             ],
             [
              0.2222222222222222,
              "#7201a8"
             ],
             [
              0.3333333333333333,
              "#9c179e"
             ],
             [
              0.4444444444444444,
              "#bd3786"
             ],
             [
              0.5555555555555556,
              "#d8576b"
             ],
             [
              0.6666666666666666,
              "#ed7953"
             ],
             [
              0.7777777777777778,
              "#fb9f3a"
             ],
             [
              0.8888888888888888,
              "#fdca26"
             ],
             [
              1,
              "#f0f921"
             ]
            ],
            "type": "histogram2dcontour"
           }
          ],
          "mesh3d": [
           {
            "colorbar": {
             "outlinewidth": 0,
             "ticks": ""
            },
            "type": "mesh3d"
           }
          ],
          "parcoords": [
           {
            "line": {
             "colorbar": {
              "outlinewidth": 0,
              "ticks": ""
             }
            },
            "type": "parcoords"
           }
          ],
          "pie": [
           {
            "automargin": true,
            "type": "pie"
           }
          ],
          "scatter": [
           {
            "fillpattern": {
             "fillmode": "overlay",
             "size": 10,
             "solidity": 0.2
            },
            "type": "scatter"
           }
          ],
          "scatter3d": [
           {
            "line": {
             "colorbar": {
              "outlinewidth": 0,
              "ticks": ""
             }
            },
            "marker": {
             "colorbar": {
              "outlinewidth": 0,
              "ticks": ""
             }
            },
            "type": "scatter3d"
           }
          ],
          "scattercarpet": [
           {
            "marker": {
             "colorbar": {
              "outlinewidth": 0,
              "ticks": ""
             }
            },
            "type": "scattercarpet"
           }
          ],
          "scattergeo": [
           {
            "marker": {
             "colorbar": {
              "outlinewidth": 0,
              "ticks": ""
             }
            },
            "type": "scattergeo"
           }
          ],
          "scattergl": [
           {
            "marker": {
             "colorbar": {
              "outlinewidth": 0,
              "ticks": ""
             }
            },
            "type": "scattergl"
           }
          ],
          "scattermapbox": [
           {
            "marker": {
             "colorbar": {
              "outlinewidth": 0,
              "ticks": ""
             }
            },
            "type": "scattermapbox"
           }
          ],
          "scatterpolar": [
           {
            "marker": {
             "colorbar": {
              "outlinewidth": 0,
              "ticks": ""
             }
            },
            "type": "scatterpolar"
           }
          ],
          "scatterpolargl": [
           {
            "marker": {
             "colorbar": {
              "outlinewidth": 0,
              "ticks": ""
             }
            },
            "type": "scatterpolargl"
           }
          ],
          "scatterternary": [
           {
            "marker": {
             "colorbar": {
              "outlinewidth": 0,
              "ticks": ""
             }
            },
            "type": "scatterternary"
           }
          ],
          "surface": [
           {
            "colorbar": {
             "outlinewidth": 0,
             "ticks": ""
            },
            "colorscale": [
             [
              0,
              "#0d0887"
             ],
             [
              0.1111111111111111,
              "#46039f"
             ],
             [
              0.2222222222222222,
              "#7201a8"
             ],
             [
              0.3333333333333333,
              "#9c179e"
             ],
             [
              0.4444444444444444,
              "#bd3786"
             ],
             [
              0.5555555555555556,
              "#d8576b"
             ],
             [
              0.6666666666666666,
              "#ed7953"
             ],
             [
              0.7777777777777778,
              "#fb9f3a"
             ],
             [
              0.8888888888888888,
              "#fdca26"
             ],
             [
              1,
              "#f0f921"
             ]
            ],
            "type": "surface"
           }
          ],
          "table": [
           {
            "cells": {
             "fill": {
              "color": "#EBF0F8"
             },
             "line": {
              "color": "white"
             }
            },
            "header": {
             "fill": {
              "color": "#C8D4E3"
             },
             "line": {
              "color": "white"
             }
            },
            "type": "table"
           }
          ]
         },
         "layout": {
          "annotationdefaults": {
           "arrowcolor": "#2a3f5f",
           "arrowhead": 0,
           "arrowwidth": 1
          },
          "autotypenumbers": "strict",
          "coloraxis": {
           "colorbar": {
            "outlinewidth": 0,
            "ticks": ""
           }
          },
          "colorscale": {
           "diverging": [
            [
             0,
             "#8e0152"
            ],
            [
             0.1,
             "#c51b7d"
            ],
            [
             0.2,
             "#de77ae"
            ],
            [
             0.3,
             "#f1b6da"
            ],
            [
             0.4,
             "#fde0ef"
            ],
            [
             0.5,
             "#f7f7f7"
            ],
            [
             0.6,
             "#e6f5d0"
            ],
            [
             0.7,
             "#b8e186"
            ],
            [
             0.8,
             "#7fbc41"
            ],
            [
             0.9,
             "#4d9221"
            ],
            [
             1,
             "#276419"
            ]
           ],
           "sequential": [
            [
             0,
             "#0d0887"
            ],
            [
             0.1111111111111111,
             "#46039f"
            ],
            [
             0.2222222222222222,
             "#7201a8"
            ],
            [
             0.3333333333333333,
             "#9c179e"
            ],
            [
             0.4444444444444444,
             "#bd3786"
            ],
            [
             0.5555555555555556,
             "#d8576b"
            ],
            [
             0.6666666666666666,
             "#ed7953"
            ],
            [
             0.7777777777777778,
             "#fb9f3a"
            ],
            [
             0.8888888888888888,
             "#fdca26"
            ],
            [
             1,
             "#f0f921"
            ]
           ],
           "sequentialminus": [
            [
             0,
             "#0d0887"
            ],
            [
             0.1111111111111111,
             "#46039f"
            ],
            [
             0.2222222222222222,
             "#7201a8"
            ],
            [
             0.3333333333333333,
             "#9c179e"
            ],
            [
             0.4444444444444444,
             "#bd3786"
            ],
            [
             0.5555555555555556,
             "#d8576b"
            ],
            [
             0.6666666666666666,
             "#ed7953"
            ],
            [
             0.7777777777777778,
             "#fb9f3a"
            ],
            [
             0.8888888888888888,
             "#fdca26"
            ],
            [
             1,
             "#f0f921"
            ]
           ]
          },
          "colorway": [
           "#636efa",
           "#EF553B",
           "#00cc96",
           "#ab63fa",
           "#FFA15A",
           "#19d3f3",
           "#FF6692",
           "#B6E880",
           "#FF97FF",
           "#FECB52"
          ],
          "font": {
           "color": "#2a3f5f"
          },
          "geo": {
           "bgcolor": "white",
           "lakecolor": "white",
           "landcolor": "#E5ECF6",
           "showlakes": true,
           "showland": true,
           "subunitcolor": "white"
          },
          "hoverlabel": {
           "align": "left"
          },
          "hovermode": "closest",
          "mapbox": {
           "style": "light"
          },
          "paper_bgcolor": "white",
          "plot_bgcolor": "#E5ECF6",
          "polar": {
           "angularaxis": {
            "gridcolor": "white",
            "linecolor": "white",
            "ticks": ""
           },
           "bgcolor": "#E5ECF6",
           "radialaxis": {
            "gridcolor": "white",
            "linecolor": "white",
            "ticks": ""
           }
          },
          "scene": {
           "xaxis": {
            "backgroundcolor": "#E5ECF6",
            "gridcolor": "white",
            "gridwidth": 2,
            "linecolor": "white",
            "showbackground": true,
            "ticks": "",
            "zerolinecolor": "white"
           },
           "yaxis": {
            "backgroundcolor": "#E5ECF6",
            "gridcolor": "white",
            "gridwidth": 2,
            "linecolor": "white",
            "showbackground": true,
            "ticks": "",
            "zerolinecolor": "white"
           },
           "zaxis": {
            "backgroundcolor": "#E5ECF6",
            "gridcolor": "white",
            "gridwidth": 2,
            "linecolor": "white",
            "showbackground": true,
            "ticks": "",
            "zerolinecolor": "white"
           }
          },
          "shapedefaults": {
           "line": {
            "color": "#2a3f5f"
           }
          },
          "ternary": {
           "aaxis": {
            "gridcolor": "white",
            "linecolor": "white",
            "ticks": ""
           },
           "baxis": {
            "gridcolor": "white",
            "linecolor": "white",
            "ticks": ""
           },
           "bgcolor": "#E5ECF6",
           "caxis": {
            "gridcolor": "white",
            "linecolor": "white",
            "ticks": ""
           }
          },
          "title": {
           "x": 0.05
          },
          "xaxis": {
           "automargin": true,
           "gridcolor": "white",
           "linecolor": "white",
           "ticks": "",
           "title": {
            "standoff": 15
           },
           "zerolinecolor": "white",
           "zerolinewidth": 2
          },
          "yaxis": {
           "automargin": true,
           "gridcolor": "white",
           "linecolor": "white",
           "ticks": "",
           "title": {
            "standoff": 15
           },
           "zerolinecolor": "white",
           "zerolinewidth": 2
          }
         }
        },
        "width": 1000,
        "xaxis": {
         "anchor": "y",
         "domain": [
          0,
          1
         ],
         "title": {
          "text": "x"
         },
         "visible": false
        },
        "yaxis": {
         "anchor": "x",
         "domain": [
          0,
          1
         ],
         "title": {
          "text": "y"
         },
         "visible": false
        }
       }
      }
     },
     "metadata": {},
     "output_type": "display_data"
    }
   ],
   "source": [
    "# оптимизация\n",
    "k = 50\n",
    "best_norm_type = ''\n",
    "best_alg_type = ''\n",
    "best_top_n_skill_per_profession = -1\n",
    "best_mean_reciprocal_rank = 0\n",
    "best_dim = 0\n",
    "best_use_tsne = False\n",
    "stat = []\n",
    "for norm_type in ['none', 'skill', 'prof', 'bm', 'tfidf']:\n",
    "    for alg_type, dim, use_tsne in \\\n",
    "        [('tsne', 5, True),\n",
    "         ('als', 5, True),\n",
    "         ('svd', 5, True),\n",
    "         ('svd', 2, False),\n",
    "         ('pca', 5, True),\n",
    "         ('pca', 2, False),\n",
    "         ('sim_euclid', 5, True),\n",
    "         ('sim_cos', 5, True),\n",
    "         ('umap', 5, True),\n",
    "         ('umap', 2, False), ]:\n",
    "\n",
    "        for top_n_skill_per_profession in range(20, 51, 1):\n",
    "            df, _ = prepare_plot_df(skill_df, matrix, skill_index_to_corrected,\n",
    "                                    prof_index_to_prof_name, \n",
    "                                    top_n_skill_per_profession=top_n_skill_per_profession,\n",
    "                                    norm_type=norm_type,\n",
    "                                    factor_alg_type=alg_type)\n",
    "            mrr, pairs_count = get_mean_reciprocal_rank(df, skill_pairs)\n",
    "\n",
    "            print()\n",
    "            print(norm_type, alg_type, dim, use_tsne, top_n_skill_per_profession)\n",
    "            print(f'mrr = {mrr}, pairs_count = {pairs_count}')\n",
    "            stat.append((norm_type, alg_type, dim, use_tsne, top_n_skill_per_profession, mrr, pairs_count))\n",
    "\n",
    "            if pairs_count > k and mrr > best_mean_reciprocal_rank:\n",
    "                best_mean_reciprocal_rank = mrr\n",
    "                best_norm_type = norm_type\n",
    "                best_alg_type = alg_type\n",
    "                best_top_n_skill_per_profession = top_n_skill_per_profession\n",
    "                best_dim = dim\n",
    "                best_use_tsne = use_tsne\n",
    "\n",
    "print()\n",
    "print('best_mean_reciprocal_rank =', best_mean_reciprocal_rank)\n",
    "print('best_norm_type =', best_norm_type)\n",
    "print('best_alg_type =', best_alg_type)\n",
    "print('best_dim =', best_dim)\n",
    "print('best_use_tsne =', best_use_tsne)\n",
    "print('best_top_n_skill_per_profession =', best_top_n_skill_per_profession)\n",
    "\n",
    "df, _ = prepare_plot_df(skill_df, matrix, skill_index_to_corrected,\n",
    "                                    prof_index_to_prof_name, \n",
    "                                    top_n_skill_per_profession=best_top_n_skill_per_profession,\n",
    "                                    norm_type=best_norm_type,\n",
    "                                    factor_alg_type=best_alg_type,\n",
    "                                    dim=best_dim,\n",
    "                                    use_tsne=best_use_tsne)\n",
    "\n",
    "plot_skill_map(df).show()\n",
    "\n",
    "##!!! Возможно нужно иметь топ-н алгоритмов, потому что есть алгоритмы с одинаковой метрикой или близкой..."
   ]
  },
  {
   "cell_type": "code",
   "execution_count": null,
   "metadata": {},
   "outputs": [],
   "source": []
  },
  {
   "cell_type": "code",
   "execution_count": null,
   "metadata": {},
   "outputs": [],
   "source": [
    "Сравнить построение графика\n",
    "\n",
    "norm_type skill это плохо?\n",
    "\n",
    "очень интересно про косинусное растояние"
   ]
  },
  {
   "cell_type": "code",
   "execution_count": null,
   "metadata": {},
   "outputs": [],
   "source": []
  },
  {
   "cell_type": "code",
   "execution_count": 118,
   "metadata": {},
   "outputs": [
    {
     "data": {
      "application/vnd.plotly.v1+json": {
       "config": {
        "plotlyServerURL": "https://plot.ly"
       },
       "data": [
        {
         "customdata": [
          [
           15.8,
           "Аналитик данных"
          ],
          [
           12.466666666666669,
           "Аналитик данных"
          ],
          [
           12.350387596899228,
           "Аналитик данных"
          ],
          [
           8.551937984496119,
           "Аналитик данных"
          ],
          [
           6.032558139534886,
           "Аналитик данных"
          ],
          [
           5.877519379844955,
           "Аналитик данных"
          ],
          [
           4.675968992248059,
           "Аналитик данных"
          ],
          [
           4.598449612403093,
           "Аналитик данных"
          ],
          [
           4.1720930232558056,
           "Аналитик данных"
          ],
          [
           3.1643410852713165,
           "Аналитик данных"
          ],
          [
           3.0093023255814018,
           "Аналитик данных"
          ],
          [
           2.195348837209302,
           "Аналитик данных"
          ],
          [
           2.0403100775193863,
           "Аналитик данных"
          ],
          [
           1.73023255813954,
           "Аналитик данных"
          ],
          [
           1.652713178294574,
           "Аналитик данных"
          ],
          [
           1.6139534883720996,
           "Аналитик данных"
          ],
          [
           1.4976744186046427,
           "Аналитик данных"
          ],
          [
           1.4589147286821682,
           "Аналитик данных"
          ],
          [
           1.2651162790697619,
           "Аналитик данных"
          ],
          [
           1.2263565891472872,
           "Аналитик данных"
          ],
          [
           1.2263565891472872,
           "Аналитик данных"
          ],
          [
           1.1875968992248125,
           "Аналитик данных"
          ],
          [
           1.1488372093023216,
           "Аналитик данных"
          ],
          [
           1.1100775193798467,
           "Аналитик данных"
          ],
          [
           0.9550387596899153,
           "Аналитик данных"
          ],
          [
           0.9162790697674404,
           "Аналитик данных"
          ],
          [
           0.9162790697674404,
           "Аналитик данных"
          ],
          [
           0.8775193798449658,
           "Аналитик данных"
          ],
          [
           0.8,
           "Аналитик данных"
          ],
          [
           0.8,
           "Аналитик данных"
          ]
         ],
         "hovertemplate": "<b>%{hovertext}</b><br><br><extra></extra>",
         "hovertext": [
          "SQL",
          "Анализ данных",
          "Python",
          "Аналитическое мышление",
          "Английский",
          "Power BI",
          "MS Excel",
          "Математическая статистика",
          "Работа с большим объемом информации",
          "Базы данных",
          "MS SQL",
          "PostgreSQL",
          "Tableau",
          "BI",
          "MS PowerPoint",
          "Математический анализ",
          "Анализ рынка",
          "Работа с базами данных",
          "Hadoop",
          "Аналитические исследования",
          "Machine Learning",
          "ETL",
          "A/B тесты",
          "Визуализация данных",
          "Моделирование бизнес процессов",
          "Pandas",
          "Бизнес-анализ",
          "Деловая коммуникация",
          "Работа в команде",
          "ClickHouse"
         ],
         "legendgroup": "Аналитик данных",
         "marker": {
          "color": "#636EFA",
          "line": {
           "color": "DarkSlateGrey",
           "width": 0.5
          },
          "opacity": 0.7,
          "size": [
           15.8,
           12.466666666666669,
           12.350387596899228,
           8.551937984496119,
           6.032558139534886,
           5.877519379844955,
           4.675968992248059,
           4.598449612403093,
           4.1720930232558056,
           3.1643410852713165,
           3.0093023255814018,
           2.195348837209302,
           2.0403100775193863,
           1.73023255813954,
           1.652713178294574,
           1.6139534883720996,
           1.4976744186046427,
           1.4589147286821682,
           1.2651162790697619,
           1.2263565891472872,
           1.2263565891472872,
           1.1875968992248125,
           1.1488372093023216,
           1.1100775193798467,
           0.9550387596899153,
           0.9162790697674404,
           0.9162790697674404,
           0.8775193798449658,
           0.8,
           0.8
          ],
          "sizemode": "area",
          "sizeref": 0.0395,
          "symbol": "circle"
         },
         "mode": "markers",
         "name": "Аналитик данных",
         "orientation": "v",
         "showlegend": true,
         "type": "scatter",
         "x": [
          2.523932,
          4.8250494,
          1.4557124,
          5.939461,
          4.0028777,
          4.9134264,
          4.990093,
          4.15878,
          3.499786,
          -0.56805634,
          1.9655734,
          -1.1224052,
          4.7387805,
          3.8560758,
          5.2471113,
          3.960939,
          4.4894967,
          2.633525,
          -1.8113353,
          4.681686,
          2.5722833,
          -2.6682813,
          4.9541955,
          5.400155,
          9.630489,
          2.999101,
          10.035568,
          8.364871,
          7.1760154,
          -1.2614932
         ],
         "xaxis": "x",
         "y": [
          0.5294965,
          -0.8773924,
          1.3468373,
          -2.3304603,
          -1.4060575,
          -1.045139,
          -3.2796593,
          0.16318122,
          -0.7022488,
          2.00473,
          0.12850004,
          1.696942,
          -0.2386237,
          -0.49630287,
          -3.597834,
          0.5146835,
          -4.5193,
          -0.41120362,
          -0.5201308,
          -2.8763971,
          5.4699597,
          -0.6662453,
          0.5051372,
          -0.15860671,
          -2.529131,
          4.340504,
          -2.4696448,
          -3.0457513,
          -2.6456676,
          -0.28575107
         ],
         "yaxis": "y"
        },
        {
         "customdata": [
          [
           15.711504424778763,
           "Инженер данных"
          ],
          [
           1.2867256637168065,
           "Инженер данных"
          ],
          [
           15.8,
           "Инженер данных"
          ],
          [
           5.136283185840707,
           "Инженер данных"
          ],
          [
           0.9769911504424751,
           "Инженер данных"
          ],
          [
           4.42831858407079,
           "Инженер данных"
          ],
          [
           6.7734513274336186,
           "Инженер данных"
          ],
          [
           2.8353982300884972,
           "Инженер данных"
          ],
          [
           6.507964601769906,
           "Инженер данных"
          ],
          [
           0.8,
           "Инженер данных"
          ],
          [
           1.4194690265486627,
           "Инженер данных"
          ],
          [
           7.392920353982299,
           "Инженер данных"
          ],
          [
           1.5079646017699002,
           "Инженер данных"
          ],
          [
           9.295575221238941,
           "Инженер данных"
          ],
          [
           3.5876106194690163,
           "Инженер данных"
          ],
          [
           6.0212389380530995,
           "Инженер данных"
          ],
          [
           4.42831858407079,
           "Инженер данных"
          ],
          [
           3.8973451327433644,
           "Инженер данных"
          ],
          [
           3.277876106194684,
           "Инженер данных"
          ],
          [
           2.5699115044247676,
           "Инженер данных"
          ],
          [
           2.5699115044247676,
           "Инженер данных"
          ],
          [
           2.0389380530973424,
           "Инженер данных"
          ],
          [
           1.9946902654867238,
           "Инженер данных"
          ],
          [
           1.9946902654867238,
           "Инженер данных"
          ],
          [
           1.77345132743363,
           "Инженер данных"
          ],
          [
           1.7292035398230112,
           "Инженер данных"
          ],
          [
           1.2867256637168065,
           "Инженер данных"
          ],
          [
           1.1539823008849501,
           "Инженер данных"
          ],
          [
           1.0654867256637126,
           "Инженер данных"
          ],
          [
           1.0212389380530937,
           "Инженер данных"
          ]
         ],
         "hovertemplate": "<b>%{hovertext}</b><br><br><extra></extra>",
         "hovertext": [
          "SQL",
          "Анализ данных",
          "Python",
          "Английский",
          "Power BI",
          "Работа с большим объемом информации",
          "Базы данных",
          "MS SQL",
          "PostgreSQL",
          "BI",
          "Работа с базами данных",
          "Hadoop",
          "Machine Learning",
          "ETL",
          "ClickHouse",
          "Spark",
          "DWH",
          "Airflow",
          "Linux",
          "Docker",
          "Kafka",
          "Git",
          "Java",
          "SCALA",
          "Greenplum",
          "ORACLE",
          "Hive",
          "Kubernetes",
          "Хранилище данных",
          "CI/CD"
         ],
         "legendgroup": "Инженер данных",
         "marker": {
          "color": "#EF553B",
          "line": {
           "color": "DarkSlateGrey",
           "width": 0.5
          },
          "opacity": 0.7,
          "size": [
           15.711504424778763,
           1.2867256637168065,
           15.8,
           5.136283185840707,
           0.9769911504424751,
           4.42831858407079,
           6.7734513274336186,
           2.8353982300884972,
           6.507964601769906,
           0.8,
           1.4194690265486627,
           7.392920353982299,
           1.5079646017699002,
           9.295575221238941,
           3.5876106194690163,
           6.0212389380530995,
           4.42831858407079,
           3.8973451327433644,
           3.277876106194684,
           2.5699115044247676,
           2.5699115044247676,
           2.0389380530973424,
           1.9946902654867238,
           1.9946902654867238,
           1.77345132743363,
           1.7292035398230112,
           1.2867256637168065,
           1.1539823008849501,
           1.0654867256637126,
           1.0212389380530937
          ],
          "sizemode": "area",
          "sizeref": 0.0395,
          "symbol": "circle"
         },
         "mode": "markers",
         "name": "Инженер данных",
         "orientation": "v",
         "showlegend": true,
         "type": "scatter",
         "x": [
          2.523932,
          4.8250494,
          1.4557124,
          4.0028777,
          4.9134264,
          3.499786,
          -0.56805634,
          1.9655734,
          -1.1224052,
          3.8560758,
          2.633525,
          -1.8113353,
          2.5722833,
          -2.6682813,
          -1.2614932,
          -2.0693417,
          -3.120793,
          -2.69981,
          -1.7805768,
          -1.5405713,
          -2.742069,
          -0.68574256,
          -2.1722202,
          -3.2210774,
          -2.905726,
          -0.88383335,
          -1.8215461,
          -2.3526914,
          -2.2320125,
          -2.022634
         ],
         "xaxis": "x",
         "y": [
          0.5294965,
          -0.8773924,
          1.3468373,
          -1.4060575,
          -1.045139,
          -0.7022488,
          2.00473,
          0.12850004,
          1.696942,
          -0.49630287,
          -0.41120362,
          -0.5201308,
          5.4699597,
          -0.6662453,
          -0.28575107,
          -0.6963862,
          -0.1764716,
          -1.2315611,
          1.7927992,
          0.19128302,
          0.08166334,
          0.46647692,
          0.017532758,
          -1.2662067,
          -0.573978,
          1.9099925,
          -0.6500939,
          -0.22936139,
          -1.3248098,
          0.18602385
         ],
         "yaxis": "y"
        },
        {
         "customdata": [
          [
           10.446464646464642,
           "Data Scientist"
          ],
          [
           4.234343434343431,
           "Data Scientist"
          ],
          [
           15.8,
           "Data Scientist"
          ],
          [
           1.8606060606060721,
           "Data Scientist"
          ],
          [
           6.052525252525255,
           "Data Scientist"
          ],
          [
           0.9010101010101013,
           "Data Scientist"
          ],
          [
           5.244444444444445,
           "Data Scientist"
          ],
          [
           3.57777777777778,
           "Data Scientist"
          ],
          [
           1.6080808080808109,
           "Data Scientist"
          ],
          [
           1.5575757575757678,
           "Data Scientist"
          ],
          [
           1.4565656565656666,
           "Data Scientist"
          ],
          [
           2.7191919191919265,
           "Data Scientist"
          ],
          [
           2.8202020202020277,
           "Data Scientist"
          ],
          [
           12.618181818181816,
           "Data Scientist"
          ],
          [
           0.8,
           "Data Scientist"
          ],
          [
           2.971717171717172,
           "Data Scientist"
          ],
          [
           1.1030303030303041,
           "Data Scientist"
          ],
          [
           2.466666666666665,
           "Data Scientist"
          ],
          [
           0.9010101010101013,
           "Data Scientist"
          ],
          [
           1.8606060606060721,
           "Data Scientist"
          ],
          [
           1.8606060606060721,
           "Data Scientist"
          ],
          [
           1.7595959595959707,
           "Data Scientist"
          ],
          [
           5.143434343434344,
           "Data Scientist"
          ],
          [
           2.921212121212129,
           "Data Scientist"
          ],
          [
           2.163636363636361,
           "Data Scientist"
          ],
          [
           2.0626262626262593,
           "Data Scientist"
          ],
          [
           2.0626262626262593,
           "Data Scientist"
          ],
          [
           1.406060606060608,
           "Data Scientist"
          ],
          [
           1.406060606060608,
           "Data Scientist"
          ],
          [
           1.406060606060608,
           "Data Scientist"
          ]
         ],
         "hovertemplate": "<b>%{hovertext}</b><br><br><extra></extra>",
         "hovertext": [
          "SQL",
          "Анализ данных",
          "Python",
          "Аналитическое мышление",
          "Английский",
          "Power BI",
          "Математическая статистика",
          "Работа с большим объемом информации",
          "Базы данных",
          "MS SQL",
          "PostgreSQL",
          "Математический анализ",
          "Hadoop",
          "Machine Learning",
          "ETL",
          "Pandas",
          "Деловая коммуникация",
          "Spark",
          "Airflow",
          "Linux",
          "Docker",
          "Git",
          "Data Science",
          "PyTorch",
          "Scikit-learn",
          "NLP",
          "Numpy",
          "Computer Vision",
          "Tensorflow",
          "Deep Learning"
         ],
         "legendgroup": "Data Scientist",
         "marker": {
          "color": "#00CC96",
          "line": {
           "color": "DarkSlateGrey",
           "width": 0.5
          },
          "opacity": 0.7,
          "size": [
           10.446464646464642,
           4.234343434343431,
           15.8,
           1.8606060606060721,
           6.052525252525255,
           0.9010101010101013,
           5.244444444444445,
           3.57777777777778,
           1.6080808080808109,
           1.5575757575757678,
           1.4565656565656666,
           2.7191919191919265,
           2.8202020202020277,
           12.618181818181816,
           0.8,
           2.971717171717172,
           1.1030303030303041,
           2.466666666666665,
           0.9010101010101013,
           1.8606060606060721,
           1.8606060606060721,
           1.7595959595959707,
           5.143434343434344,
           2.921212121212129,
           2.163636363636361,
           2.0626262626262593,
           2.0626262626262593,
           1.406060606060608,
           1.406060606060608,
           1.406060606060608
          ],
          "sizemode": "area",
          "sizeref": 0.0395,
          "symbol": "circle"
         },
         "mode": "markers",
         "name": "Data Scientist",
         "orientation": "v",
         "showlegend": true,
         "type": "scatter",
         "x": [
          2.523932,
          4.8250494,
          1.4557124,
          5.939461,
          4.0028777,
          4.9134264,
          4.15878,
          3.499786,
          -0.56805634,
          1.9655734,
          -1.1224052,
          3.960939,
          -1.8113353,
          2.5722833,
          -2.6682813,
          2.999101,
          8.364871,
          -2.0693417,
          -2.69981,
          -1.7805768,
          -1.5405713,
          -0.68574256,
          3.0626352,
          2.0252,
          2.9297144,
          1.9875865,
          2.695145,
          1.1856114,
          2.0308712,
          2.1554368
         ],
         "xaxis": "x",
         "y": [
          0.5294965,
          -0.8773924,
          1.3468373,
          -2.3304603,
          -1.4060575,
          -1.045139,
          0.16318122,
          -0.7022488,
          2.00473,
          0.12850004,
          1.696942,
          0.5146835,
          -0.5201308,
          5.4699597,
          -0.6662453,
          4.340504,
          -3.0457513,
          -0.6963862,
          -1.2315611,
          1.7927992,
          0.19128302,
          0.46647692,
          5.1932774,
          5.87731,
          5.118383,
          5.3643208,
          4.726989,
          5.9105024,
          6.193117,
          5.9567385
         ],
         "yaxis": "y"
        },
        {
         "customdata": [
          [
           15.8,
           "Продуктовый аналитик"
          ],
          [
           11.514285714285718,
           "Продуктовый аналитик"
          ],
          [
           12.466666666666672,
           "Продуктовый аналитик"
          ],
          [
           10.323809523809532,
           "Продуктовый аналитик"
          ],
          [
           4.371428571428562,
           "Продуктовый аналитик"
          ],
          [
           4.847619047619046,
           "Продуктовый аналитик"
          ],
          [
           1.0380952380952346,
           "Продуктовый аналитик"
          ],
          [
           6.514285714285717,
           "Продуктовый аналитик"
          ],
          [
           1.276190476190469,
           "Продуктовый аналитик"
          ],
          [
           1.5142857142857031,
           "Продуктовый аналитик"
          ],
          [
           1.9904761904761876,
           "Продуктовый аналитик"
          ],
          [
           1.0380952380952346,
           "Продуктовый аналитик"
          ],
          [
           4.133333333333328,
           "Продуктовый аналитик"
          ],
          [
           1.5142857142857031,
           "Продуктовый аналитик"
          ],
          [
           0.8,
           "Продуктовый аналитик"
          ],
          [
           1.5142857142857031,
           "Продуктовый аналитик"
          ],
          [
           0.8,
           "Продуктовый аналитик"
          ],
          [
           0.8,
           "Продуктовый аналитик"
          ],
          [
           3.180952380952375,
           "Продуктовый аналитик"
          ],
          [
           1.5142857142857031,
           "Продуктовый аналитик"
          ],
          [
           7.2285714285714215,
           "Продуктовый аналитик"
          ],
          [
           0.8,
           "Продуктовый аналитик"
          ],
          [
           0.8,
           "Продуктовый аналитик"
          ],
          [
           2.9428571428571404,
           "Продуктовый аналитик"
          ],
          [
           1.5142857142857031,
           "Продуктовый аналитик"
          ],
          [
           1.5142857142857031,
           "Продуктовый аналитик"
          ],
          [
           1.276190476190469,
           "Продуктовый аналитик"
          ],
          [
           0.8,
           "Продуктовый аналитик"
          ],
          [
           0.8,
           "Продуктовый аналитик"
          ],
          [
           0.8,
           "Продуктовый аналитик"
          ]
         ],
         "hovertemplate": "<b>%{hovertext}</b><br><br><extra></extra>",
         "hovertext": [
          "SQL",
          "Анализ данных",
          "Python",
          "Аналитическое мышление",
          "Английский",
          "Power BI",
          "MS Excel",
          "Математическая статистика",
          "Работа с большим объемом информации",
          "Базы данных",
          "MS SQL",
          "PostgreSQL",
          "Tableau",
          "BI",
          "Математический анализ",
          "Анализ рынка",
          "Работа с базами данных",
          "Hadoop",
          "Аналитические исследования",
          "ETL",
          "A/B тесты",
          "Бизнес-анализ",
          "ClickHouse",
          "Продуктовая аналитика",
          "Управление продуктом",
          "Google Analytics",
          "Конкурентная аналитика",
          "Яндекс.Метрика",
          "Firebase",
          "Сбор и анализ информации"
         ],
         "legendgroup": "Продуктовый аналитик",
         "marker": {
          "color": "#AB63FA",
          "line": {
           "color": "DarkSlateGrey",
           "width": 0.5
          },
          "opacity": 0.7,
          "size": [
           15.8,
           11.514285714285718,
           12.466666666666672,
           10.323809523809532,
           4.371428571428562,
           4.847619047619046,
           1.0380952380952346,
           6.514285714285717,
           1.276190476190469,
           1.5142857142857031,
           1.9904761904761876,
           1.0380952380952346,
           4.133333333333328,
           1.5142857142857031,
           0.8,
           1.5142857142857031,
           0.8,
           0.8,
           3.180952380952375,
           1.5142857142857031,
           7.2285714285714215,
           0.8,
           0.8,
           2.9428571428571404,
           1.5142857142857031,
           1.5142857142857031,
           1.276190476190469,
           0.8,
           0.8,
           0.8
          ],
          "sizemode": "area",
          "sizeref": 0.0395,
          "symbol": "circle"
         },
         "mode": "markers",
         "name": "Продуктовый аналитик",
         "orientation": "v",
         "showlegend": true,
         "type": "scatter",
         "x": [
          2.523932,
          4.8250494,
          1.4557124,
          5.939461,
          4.0028777,
          4.9134264,
          4.990093,
          4.15878,
          3.499786,
          -0.56805634,
          1.9655734,
          -1.1224052,
          4.7387805,
          3.8560758,
          3.960939,
          4.4894967,
          2.633525,
          -1.8113353,
          4.681686,
          -2.6682813,
          4.9541955,
          10.035568,
          -1.2614932,
          6.2555532,
          5.144089,
          4.064344,
          5.442971,
          4.3299737,
          6.341163,
          6.403501
         ],
         "xaxis": "x",
         "y": [
          0.5294965,
          -0.8773924,
          1.3468373,
          -2.3304603,
          -1.4060575,
          -1.045139,
          -3.2796593,
          0.16318122,
          -0.7022488,
          2.00473,
          0.12850004,
          1.696942,
          -0.2386237,
          -0.49630287,
          0.5146835,
          -4.5193,
          -0.41120362,
          -0.5201308,
          -2.8763971,
          -0.6662453,
          0.5051372,
          -2.4696448,
          -0.28575107,
          1.7674538,
          1.3264921,
          -3.3194985,
          -3.798673,
          -3.5752854,
          1.8221422,
          -2.763984
         ],
         "yaxis": "y"
        },
        {
         "customdata": [
          [
           7.935135135135135,
           "ML инженер"
          ],
          [
           1.772972972972973,
           "ML инженер"
          ],
          [
           15.8,
           "ML инженер"
          ],
          [
           1.0432432432432432,
           "ML инженер"
          ],
          [
           5.583783783783784,
           "ML инженер"
          ],
          [
           2.0162162162162165,
           "ML инженер"
          ],
          [
           2.9081081081081086,
           "ML инженер"
          ],
          [
           1.2054054054054055,
           "ML инженер"
          ],
          [
           2.9891891891891893,
           "ML инженер"
          ],
          [
           2.1783783783783788,
           "ML инженер"
          ],
          [
           13.854054054054055,
           "ML инженер"
          ],
          [
           2.7459459459459463,
           "ML инженер"
          ],
          [
           0.9621621621621621,
           "ML инженер"
          ],
          [
           0.8,
           "ML инженер"
          ],
          [
           2.0162162162162165,
           "ML инженер"
          ],
          [
           1.0432432432432432,
           "ML инженер"
          ],
          [
           2.9891891891891893,
           "ML инженер"
          ],
          [
           2.2594594594594595,
           "ML инженер"
          ],
          [
           1.0432432432432432,
           "ML инженер"
          ],
          [
           2.340540540540541,
           "ML инженер"
          ],
          [
           1.1243243243243244,
           "ML инженер"
          ],
          [
           1.6108108108108112,
           "ML инженер"
          ],
          [
           2.9891891891891893,
           "ML инженер"
          ],
          [
           1.0432432432432432,
           "ML инженер"
          ],
          [
           1.1243243243243244,
           "ML инженер"
          ],
          [
           0.9621621621621621,
           "ML инженер"
          ],
          [
           1.6108108108108112,
           "ML инженер"
          ],
          [
           1.3675675675675678,
           "ML инженер"
          ],
          [
           1.9351351351351351,
           "ML инженер"
          ],
          [
           0.9621621621621621,
           "ML инженер"
          ]
         ],
         "hovertemplate": "<b>%{hovertext}</b><br><br><extra></extra>",
         "hovertext": [
          "SQL",
          "Анализ данных",
          "Python",
          "Аналитическое мышление",
          "Английский",
          "Математическая статистика",
          "Работа с большим объемом информации",
          "Базы данных",
          "PostgreSQL",
          "Hadoop",
          "Machine Learning",
          "ETL",
          "Pandas",
          "ClickHouse",
          "Spark",
          "DWH",
          "Linux",
          "Docker",
          "Kafka",
          "Git",
          "Java",
          "Data Science",
          "PyTorch",
          "NLP",
          "Numpy",
          "Computer Vision",
          "Tensorflow",
          "Deep Learning",
          "C++",
          "Алгоритмы"
         ],
         "legendgroup": "ML инженер",
         "marker": {
          "color": "#FFA15A",
          "line": {
           "color": "DarkSlateGrey",
           "width": 0.5
          },
          "opacity": 0.7,
          "size": [
           7.935135135135135,
           1.772972972972973,
           15.8,
           1.0432432432432432,
           5.583783783783784,
           2.0162162162162165,
           2.9081081081081086,
           1.2054054054054055,
           2.9891891891891893,
           2.1783783783783788,
           13.854054054054055,
           2.7459459459459463,
           0.9621621621621621,
           0.8,
           2.0162162162162165,
           1.0432432432432432,
           2.9891891891891893,
           2.2594594594594595,
           1.0432432432432432,
           2.340540540540541,
           1.1243243243243244,
           1.6108108108108112,
           2.9891891891891893,
           1.0432432432432432,
           1.1243243243243244,
           0.9621621621621621,
           1.6108108108108112,
           1.3675675675675678,
           1.9351351351351351,
           0.9621621621621621
          ],
          "sizemode": "area",
          "sizeref": 0.0395,
          "symbol": "circle"
         },
         "mode": "markers",
         "name": "ML инженер",
         "orientation": "v",
         "showlegend": true,
         "type": "scatter",
         "x": [
          2.523932,
          4.8250494,
          1.4557124,
          5.939461,
          4.0028777,
          4.15878,
          3.499786,
          -0.56805634,
          -1.1224052,
          -1.8113353,
          2.5722833,
          -2.6682813,
          2.999101,
          -1.2614932,
          -2.0693417,
          -3.120793,
          -1.7805768,
          -1.5405713,
          -2.742069,
          -0.68574256,
          -2.1722202,
          3.0626352,
          2.0252,
          1.9875865,
          2.695145,
          1.1856114,
          2.0308712,
          2.1554368,
          1.6488599,
          1.3036143
         ],
         "xaxis": "x",
         "y": [
          0.5294965,
          -0.8773924,
          1.3468373,
          -2.3304603,
          -1.4060575,
          0.16318122,
          -0.7022488,
          2.00473,
          1.696942,
          -0.5201308,
          5.4699597,
          -0.6662453,
          4.340504,
          -0.28575107,
          -0.6963862,
          -0.1764716,
          1.7927992,
          0.19128302,
          0.08166334,
          0.46647692,
          0.017532758,
          5.1932774,
          5.87731,
          5.3643208,
          4.726989,
          5.9105024,
          6.193117,
          5.9567385,
          6.6616044,
          4.7346196
         ],
         "yaxis": "y"
        },
        {
         "customdata": [
          [
           8.6,
           "Computer Vision"
          ],
          [
           2.5999999999999965,
           "Computer Vision"
          ],
          [
           15.8,
           "Computer Vision"
          ],
          [
           1.9999999999999978,
           "Computer Vision"
          ],
          [
           12.199999999999994,
           "Computer Vision"
          ],
          [
           1.3999999999999988,
           "Computer Vision"
          ],
          [
           1.9999999999999978,
           "Computer Vision"
          ],
          [
           1.9999999999999978,
           "Computer Vision"
          ],
          [
           1.3999999999999988,
           "Computer Vision"
          ],
          [
           1.9999999999999978,
           "Computer Vision"
          ],
          [
           9.199999999999998,
           "Computer Vision"
          ],
          [
           1.3999999999999988,
           "Computer Vision"
          ],
          [
           1.9999999999999978,
           "Computer Vision"
          ],
          [
           4.399999999999993,
           "Computer Vision"
          ],
          [
           3.1999999999999957,
           "Computer Vision"
          ],
          [
           7.999999999999999,
           "Computer Vision"
          ],
          [
           2.5999999999999965,
           "Computer Vision"
          ],
          [
           1.3999999999999988,
           "Computer Vision"
          ],
          [
           11.599999999999993,
           "Computer Vision"
          ],
          [
           4.399999999999993,
           "Computer Vision"
          ],
          [
           3.7999999999999945,
           "Computer Vision"
          ],
          [
           3.1999999999999957,
           "Computer Vision"
          ],
          [
           3.7999999999999945,
           "Computer Vision"
          ],
          [
           9.199999999999998,
           "Computer Vision"
          ],
          [
           1.3999999999999988,
           "Computer Vision"
          ],
          [
           1.3999999999999988,
           "Computer Vision"
          ],
          [
           1.3999999999999988,
           "Computer Vision"
          ],
          [
           1.3999999999999988,
           "Computer Vision"
          ],
          [
           0.8,
           "Computer Vision"
          ],
          [
           0.8,
           "Computer Vision"
          ]
         ],
         "hovertemplate": "<b>%{hovertext}</b><br><br><extra></extra>",
         "hovertext": [
          "SQL",
          "Анализ данных",
          "Python",
          "Аналитическое мышление",
          "Английский",
          "Математическая статистика",
          "MS SQL",
          "PostgreSQL",
          "Математический анализ",
          "Hadoop",
          "Machine Learning",
          "Spark",
          "Linux",
          "Git",
          "Data Science",
          "PyTorch",
          "Scikit-learn",
          "Numpy",
          "Computer Vision",
          "Tensorflow",
          "Deep Learning",
          "C++",
          "Алгоритмы",
          "OpenCV",
          "Линейная алгебра",
          "Нейронные сети",
          "Jira",
          "ООП",
          "Matplotlib",
          "Deeplab"
         ],
         "legendgroup": "Computer Vision",
         "marker": {
          "color": "#19D3F3",
          "line": {
           "color": "DarkSlateGrey",
           "width": 0.5
          },
          "opacity": 0.7,
          "size": [
           8.6,
           2.5999999999999965,
           15.8,
           1.9999999999999978,
           12.199999999999994,
           1.3999999999999988,
           1.9999999999999978,
           1.9999999999999978,
           1.3999999999999988,
           1.9999999999999978,
           9.199999999999998,
           1.3999999999999988,
           1.9999999999999978,
           4.399999999999993,
           3.1999999999999957,
           7.999999999999999,
           2.5999999999999965,
           1.3999999999999988,
           11.599999999999993,
           4.399999999999993,
           3.7999999999999945,
           3.1999999999999957,
           3.7999999999999945,
           9.199999999999998,
           1.3999999999999988,
           1.3999999999999988,
           1.3999999999999988,
           1.3999999999999988,
           0.8,
           0.8
          ],
          "sizemode": "area",
          "sizeref": 0.0395,
          "symbol": "circle"
         },
         "mode": "markers",
         "name": "Computer Vision",
         "orientation": "v",
         "showlegend": true,
         "type": "scatter",
         "x": [
          2.523932,
          4.8250494,
          1.4557124,
          5.939461,
          4.0028777,
          4.15878,
          1.9655734,
          -1.1224052,
          3.960939,
          -1.8113353,
          2.5722833,
          -2.0693417,
          -1.7805768,
          -0.68574256,
          3.0626352,
          2.0252,
          2.9297144,
          2.695145,
          1.1856114,
          2.0308712,
          2.1554368,
          1.6488599,
          1.3036143,
          0.56240624,
          0.62571025,
          2.5060768,
          9.130611,
          1.0879213,
          3.0142198,
          0.30773953
         ],
         "xaxis": "x",
         "y": [
          0.5294965,
          -0.8773924,
          1.3468373,
          -2.3304603,
          -1.4060575,
          0.16318122,
          0.12850004,
          1.696942,
          0.5146835,
          -0.5201308,
          5.4699597,
          -0.6963862,
          1.7927992,
          0.46647692,
          5.1932774,
          5.87731,
          5.118383,
          4.726989,
          5.9105024,
          6.193117,
          5.9567385,
          6.6616044,
          4.7346196,
          6.3682504,
          6.4699907,
          6.4477377,
          -4.19017,
          3.7539828,
          4.3113365,
          6.5973053
         ],
         "yaxis": "y"
        },
        {
         "customdata": [
          [
           5.216243654822338,
           "Администратор баз данных"
          ],
          [
           1.40913705583757,
           "Администратор баз данных"
          ],
          [
           3.5411167512690325,
           "Администратор баз данных"
          ],
          [
           0.8761421319797024,
           "Администратор баз данных"
          ],
          [
           15.8,
           "Администратор баз данных"
          ],
          [
           8.338071065989853,
           "Администратор баз данных"
          ],
          [
           10.470050761421325,
           "Администратор баз данных"
          ],
          [
           3.769543147208119,
           "Администратор баз данных"
          ],
          [
           0.952284263959395,
           "Администратор баз данных"
          ],
          [
           1.40913705583757,
           "Администратор баз данных"
          ],
          [
           6.282233502538073,
           "Администратор баз данных"
          ],
          [
           0.952284263959395,
           "Администратор баз данных"
          ],
          [
           1.1045685279187802,
           "Администратор баз данных"
          ],
          [
           4.37868020304569,
           "Администратор баз данных"
          ],
          [
           3.4649746192893396,
           "Администратор баз данных"
          ],
          [
           2.5512690355329988,
           "Администратор баз данных"
          ],
          [
           2.170558375634516,
           "Администратор баз данных"
          ],
          [
           1.7137055837563504,
           "Администратор баз данных"
          ],
          [
           1.7137055837563504,
           "Администратор баз данных"
          ],
          [
           1.4852791878172629,
           "Администратор баз данных"
          ],
          [
           1.1807106598984827,
           "Администратор баз данных"
          ],
          [
           1.1045685279187802,
           "Администратор баз данных"
          ],
          [
           1.0284263959390876,
           "Администратор баз данных"
          ],
          [
           0.952284263959395,
           "Администратор баз данных"
          ],
          [
           0.8761421319797024,
           "Администратор баз данных"
          ],
          [
           0.8761421319797024,
           "Администратор баз данных"
          ],
          [
           0.8761421319797024,
           "Администратор баз данных"
          ],
          [
           0.8,
           "Администратор баз данных"
          ],
          [
           0.8,
           "Администратор баз данных"
          ],
          [
           0.8,
           "Администратор баз данных"
          ]
         ],
         "hovertemplate": "<b>%{hovertext}</b><br><br><extra></extra>",
         "hovertext": [
          "SQL",
          "Python",
          "Английский",
          "Работа с большим объемом информации",
          "Базы данных",
          "MS SQL",
          "PostgreSQL",
          "Работа с базами данных",
          "Деловая коммуникация",
          "ClickHouse",
          "Linux",
          "Docker",
          "Kafka",
          "ORACLE",
          "Администрирование",
          "1С: Предприятие 8",
          "MySQL",
          "Bash",
          "Zabbix",
          "Unix",
          "MongoDB",
          "Пользователь ПК",
          "Grafana",
          "Ansible",
          "Оптимизация запросов",
          "Oracle Pl/SQL",
          "Работа в условиях многозадачности",
          "MS Access",
          "Администрирование серверов",
          "Prometheus"
         ],
         "legendgroup": "Администратор баз данных",
         "marker": {
          "color": "#FF6692",
          "line": {
           "color": "DarkSlateGrey",
           "width": 0.5
          },
          "opacity": 0.7,
          "size": [
           5.216243654822338,
           1.40913705583757,
           3.5411167512690325,
           0.8761421319797024,
           15.8,
           8.338071065989853,
           10.470050761421325,
           3.769543147208119,
           0.952284263959395,
           1.40913705583757,
           6.282233502538073,
           0.952284263959395,
           1.1045685279187802,
           4.37868020304569,
           3.4649746192893396,
           2.5512690355329988,
           2.170558375634516,
           1.7137055837563504,
           1.7137055837563504,
           1.4852791878172629,
           1.1807106598984827,
           1.1045685279187802,
           1.0284263959390876,
           0.952284263959395,
           0.8761421319797024,
           0.8761421319797024,
           0.8761421319797024,
           0.8,
           0.8,
           0.8
          ],
          "sizemode": "area",
          "sizeref": 0.0395,
          "symbol": "circle"
         },
         "mode": "markers",
         "name": "Администратор баз данных",
         "orientation": "v",
         "showlegend": true,
         "type": "scatter",
         "x": [
          2.523932,
          1.4557124,
          4.0028777,
          3.499786,
          -0.56805634,
          1.9655734,
          -1.1224052,
          2.633525,
          8.364871,
          -1.2614932,
          -1.7805768,
          -1.5405713,
          -2.742069,
          -0.88383335,
          -2.6621985,
          7.581452,
          -0.8276538,
          -1.6318704,
          -2.4298494,
          -2.5703793,
          -1.9391736,
          4.8983808,
          -1.169125,
          -2.2016249,
          -1.619932,
          0.6870763,
          6.0186954,
          5.1757855,
          -2.6264718,
          -2.7047257
         ],
         "xaxis": "x",
         "y": [
          0.5294965,
          1.3468373,
          -1.4060575,
          -0.7022488,
          2.00473,
          0.12850004,
          1.696942,
          -0.41120362,
          -3.0457513,
          -0.28575107,
          1.7927992,
          0.19128302,
          0.08166334,
          1.9099925,
          3.9563046,
          -3.2071128,
          2.4690683,
          1.845266,
          3.6527157,
          3.3123965,
          2.4443958,
          -3.0819361,
          1.4806195,
          1.5285257,
          3.423695,
          1.0497531,
          -2.8641317,
          -2.4901624,
          3.4630911,
          1.614759
         ],
         "yaxis": "y"
        },
        {
         "customdata": [
          [
           15.8,
           "Аналитик BI"
          ],
          [
           7.019512195121945,
           "Аналитик BI"
          ],
          [
           4.092682926829265,
           "Аналитик BI"
          ],
          [
           10.31219512195121,
           "Аналитик BI"
          ],
          [
           7.38536585365853,
           "Аналитик BI"
          ],
          [
           8.84878048780487,
           "Аналитик BI"
          ],
          [
           2.6292682926829247,
           "Аналитик BI"
          ],
          [
           2.26341463414634,
           "Аналитик BI"
          ],
          [
           4.092682926829265,
           "Аналитик BI"
          ],
          [
           4.092682926829265,
           "Аналитик BI"
          ],
          [
           1.8975609756097551,
           "Аналитик BI"
          ],
          [
           0.8,
           "Аналитик BI"
          ],
          [
           5.556097560975604,
           "Аналитик BI"
          ],
          [
           8.482926829268285,
           "Аналитик BI"
          ],
          [
           2.26341463414634,
           "Аналитик BI"
          ],
          [
           1.165853658536585,
           "Аналитик BI"
          ],
          [
           0.8,
           "Аналитик BI"
          ],
          [
           1.53170731707317,
           "Аналитик BI"
          ],
          [
           1.53170731707317,
           "Аналитик BI"
          ],
          [
           0.8,
           "Аналитик BI"
          ],
          [
           2.26341463414634,
           "Аналитик BI"
          ],
          [
           0.8,
           "Аналитик BI"
          ],
          [
           2.9951219512195104,
           "Аналитик BI"
          ],
          [
           1.165853658536585,
           "Аналитик BI"
          ],
          [
           1.165853658536585,
           "Аналитик BI"
          ],
          [
           0.8,
           "Аналитик BI"
          ],
          [
           0.8,
           "Аналитик BI"
          ],
          [
           0.8,
           "Аналитик BI"
          ],
          [
           0.8,
           "Аналитик BI"
          ],
          [
           0.8,
           "Аналитик BI"
          ]
         ],
         "hovertemplate": "<b>%{hovertext}</b><br><br><extra></extra>",
         "hovertext": [
          "SQL",
          "Анализ данных",
          "Python",
          "Аналитическое мышление",
          "Английский",
          "Power BI",
          "MS Excel",
          "Математическая статистика",
          "Работа с большим объемом информации",
          "Базы данных",
          "MS SQL",
          "PostgreSQL",
          "Tableau",
          "BI",
          "MS PowerPoint",
          "Анализ рынка",
          "Аналитические исследования",
          "Визуализация данных",
          "Бизнес-анализ",
          "Деловая коммуникация",
          "DWH",
          "Работа в условиях многозадачности",
          "Qlik Sense",
          "OLAP",
          "SAP",
          "Подготовка презентаций",
          "Отчетность",
          "XML",
          "REST",
          "UML"
         ],
         "legendgroup": "Аналитик BI",
         "marker": {
          "color": "#B6E880",
          "line": {
           "color": "DarkSlateGrey",
           "width": 0.5
          },
          "opacity": 0.7,
          "size": [
           15.8,
           7.019512195121945,
           4.092682926829265,
           10.31219512195121,
           7.38536585365853,
           8.84878048780487,
           2.6292682926829247,
           2.26341463414634,
           4.092682926829265,
           4.092682926829265,
           1.8975609756097551,
           0.8,
           5.556097560975604,
           8.482926829268285,
           2.26341463414634,
           1.165853658536585,
           0.8,
           1.53170731707317,
           1.53170731707317,
           0.8,
           2.26341463414634,
           0.8,
           2.9951219512195104,
           1.165853658536585,
           1.165853658536585,
           0.8,
           0.8,
           0.8,
           0.8,
           0.8
          ],
          "sizemode": "area",
          "sizeref": 0.0395,
          "symbol": "circle"
         },
         "mode": "markers",
         "name": "Аналитик BI",
         "orientation": "v",
         "showlegend": true,
         "type": "scatter",
         "x": [
          2.523932,
          4.8250494,
          1.4557124,
          5.939461,
          4.0028777,
          4.9134264,
          4.990093,
          4.15878,
          3.499786,
          -0.56805634,
          1.9655734,
          -1.1224052,
          4.7387805,
          3.8560758,
          5.2471113,
          4.4894967,
          4.681686,
          5.400155,
          10.035568,
          8.364871,
          -3.120793,
          6.0186954,
          4.584166,
          3.6092763,
          7.872611,
          5.6863127,
          5.5175653,
          12.145219,
          12.097387,
          11.409275
         ],
         "xaxis": "x",
         "y": [
          0.5294965,
          -0.8773924,
          1.3468373,
          -2.3304603,
          -1.4060575,
          -1.045139,
          -3.2796593,
          0.16318122,
          -0.7022488,
          2.00473,
          0.12850004,
          1.696942,
          -0.2386237,
          -0.49630287,
          -3.597834,
          -4.5193,
          -2.8763971,
          -0.15860671,
          -2.4696448,
          -3.0457513,
          -0.1764716,
          -2.8641317,
          -0.79806703,
          -1.1673125,
          -2.885007,
          -3.4678533,
          -0.26518568,
          -5.680423,
          -5.567892,
          -4.6423264
         ],
         "yaxis": "y"
        },
        {
         "customdata": [
          [
           5.536842105263153,
           "NLP"
          ],
          [
           1.5894736842105257,
           "NLP"
          ],
          [
           15.8,
           "NLP"
          ],
          [
           10.668421052631583,
           "NLP"
          ],
          [
           0.8,
           "NLP"
          ],
          [
           1.1947368421052629,
           "NLP"
          ],
          [
           1.1947368421052629,
           "NLP"
          ],
          [
           0.8,
           "NLP"
          ],
          [
           12.247368421052636,
           "NLP"
          ],
          [
           1.5894736842105257,
           "NLP"
          ],
          [
           1.1947368421052629,
           "NLP"
          ],
          [
           3.168421052631577,
           "NLP"
          ],
          [
           0.8,
           "NLP"
          ],
          [
           4.352631578947365,
           "NLP"
          ],
          [
           8.299999999999994,
           "NLP"
          ],
          [
           1.5894736842105257,
           "NLP"
          ],
          [
           9.089473684210521,
           "NLP"
          ],
          [
           1.1947368421052629,
           "NLP"
          ],
          [
           7.115789473684205,
           "NLP"
          ],
          [
           3.168421052631577,
           "NLP"
          ],
          [
           2.773684210526314,
           "NLP"
          ],
          [
           1.9842105263157883,
           "NLP"
          ],
          [
           1.5894736842105257,
           "NLP"
          ],
          [
           4.747368421052628,
           "NLP"
          ],
          [
           0.8,
           "NLP"
          ],
          [
           0.8,
           "NLP"
          ],
          [
           1.1947368421052629,
           "NLP"
          ],
          [
           0.8,
           "NLP"
          ],
          [
           0.8,
           "NLP"
          ],
          [
           0.8,
           "NLP"
          ]
         ],
         "hovertemplate": "<b>%{hovertext}</b><br><br><extra></extra>",
         "hovertext": [
          "SQL",
          "Анализ данных",
          "Python",
          "Английский",
          "Математическая статистика",
          "MS SQL",
          "PostgreSQL",
          "Hadoop",
          "Machine Learning",
          "Linux",
          "Docker",
          "Git",
          "CI/CD",
          "Data Science",
          "PyTorch",
          "Scikit-learn",
          "NLP",
          "Numpy",
          "Computer Vision",
          "Tensorflow",
          "Deep Learning",
          "C++",
          "Алгоритмы",
          "OpenCV",
          "Линейная алгебра",
          "ООП",
          "GPT",
          "Keras",
          "Русский",
          "Scrum"
         ],
         "legendgroup": "NLP",
         "marker": {
          "color": "#FF97FF",
          "line": {
           "color": "DarkSlateGrey",
           "width": 0.5
          },
          "opacity": 0.7,
          "size": [
           5.536842105263153,
           1.5894736842105257,
           15.8,
           10.668421052631583,
           0.8,
           1.1947368421052629,
           1.1947368421052629,
           0.8,
           12.247368421052636,
           1.5894736842105257,
           1.1947368421052629,
           3.168421052631577,
           0.8,
           4.352631578947365,
           8.299999999999994,
           1.5894736842105257,
           9.089473684210521,
           1.1947368421052629,
           7.115789473684205,
           3.168421052631577,
           2.773684210526314,
           1.9842105263157883,
           1.5894736842105257,
           4.747368421052628,
           0.8,
           0.8,
           1.1947368421052629,
           0.8,
           0.8,
           0.8
          ],
          "sizemode": "area",
          "sizeref": 0.0395,
          "symbol": "circle"
         },
         "mode": "markers",
         "name": "NLP",
         "orientation": "v",
         "showlegend": true,
         "type": "scatter",
         "x": [
          2.523932,
          4.8250494,
          1.4557124,
          4.0028777,
          4.15878,
          1.9655734,
          -1.1224052,
          -1.8113353,
          2.5722833,
          -1.7805768,
          -1.5405713,
          -0.68574256,
          -2.022634,
          3.0626352,
          2.0252,
          2.9297144,
          1.9875865,
          2.695145,
          1.1856114,
          2.0308712,
          2.1554368,
          1.6488599,
          1.3036143,
          0.56240624,
          0.62571025,
          1.0879213,
          1.776084,
          2.7209647,
          2.7456243,
          9.735676
         ],
         "xaxis": "x",
         "y": [
          0.5294965,
          -0.8773924,
          1.3468373,
          -1.4060575,
          0.16318122,
          0.12850004,
          1.696942,
          -0.5201308,
          5.4699597,
          1.7927992,
          0.19128302,
          0.46647692,
          0.18602385,
          5.1932774,
          5.87731,
          5.118383,
          5.3643208,
          4.726989,
          5.9105024,
          6.193117,
          5.9567385,
          6.6616044,
          4.7346196,
          6.3682504,
          6.4699907,
          3.7539828,
          5.396336,
          6.1256504,
          1.4701725,
          -4.2665296
         ],
         "yaxis": "y"
        },
        {
         "customdata": [
          [
           12.744908180300495,
           "Аналитик"
          ],
          [
           10.641402337228705,
           "Аналитик"
          ],
          [
           6.860100166944899,
           "Аналитик"
          ],
          [
           15.8,
           "Аналитик"
          ],
          [
           11.668113522537563,
           "Аналитик"
          ],
          [
           4.481135225375621,
           "Аналитик"
          ],
          [
           8.462771285475796,
           "Аналитик"
          ],
          [
           3.7799666110183576,
           "Аналитик"
          ],
          [
           6.234056761268781,
           "Аналитик"
          ],
          [
           2.2524207011686057,
           "Аналитик"
          ],
          [
           2.4777963272120136,
           "Аналитик"
          ],
          [
           0.9252086811352238,
           "Аналитик"
          ],
          [
           4.205676126878135,
           "Аналитик"
          ],
          [
           8.763272120200321,
           "Аналитик"
          ],
          [
           1.2006677796327094,
           "Аналитик"
          ],
          [
           1.9519198664440809,
           "Аналитик"
          ],
          [
           3.454424040066793,
           "Аналитик"
          ],
          [
           2.55292153589316,
           "Аналитик"
          ],
          [
           2.0771285475793047,
           "Аналитик"
          ],
          [
           0.9752921535893309,
           "Аналитик"
          ],
          [
           0.9001669449081848,
           "Аналитик"
          ],
          [
           6.860100166944899,
           "Аналитик"
          ],
          [
           0.8500834724541074,
           "Аналитик"
          ],
          [
           1.6263772954924876,
           "Аналитик"
          ],
          [
           0.8,
           "Аналитик"
          ],
          [
           2.828380634390646,
           "Аналитик"
          ],
          [
           1.7766277128547499,
           "Аналитик"
          ],
          [
           1.2006677796327094,
           "Аналитик"
          ],
          [
           0.9001669449081848,
           "Аналитик"
          ],
          [
           0.8250417362270389,
           "Аналитик"
          ]
         ],
         "hovertemplate": "<b>%{hovertext}</b><br><br><extra></extra>",
         "hovertext": [
          "SQL",
          "Анализ данных",
          "Python",
          "Аналитическое мышление",
          "Английский",
          "Power BI",
          "MS Excel",
          "Математическая статистика",
          "Работа с большим объемом информации",
          "Базы данных",
          "MS SQL",
          "BI",
          "MS PowerPoint",
          "Анализ рынка",
          "Работа с базами данных",
          "Аналитические исследования",
          "Моделирование бизнес процессов",
          "Бизнес-анализ",
          "Деловая коммуникация",
          "Работа в команде",
          "Сбор и анализ информации",
          "1С: Предприятие 8",
          "Пользователь ПК",
          "Работа в условиях многозадачности",
          "Подготовка презентаций",
          "Финансовый анализ",
          "Грамотная речь",
          "Маркетинговые исследования",
          "Разработка технических заданий",
          "Прогнозирование"
         ],
         "legendgroup": "Аналитик",
         "marker": {
          "color": "#FECB52",
          "line": {
           "color": "DarkSlateGrey",
           "width": 0.5
          },
          "opacity": 0.7,
          "size": [
           12.744908180300495,
           10.641402337228705,
           6.860100166944899,
           15.8,
           11.668113522537563,
           4.481135225375621,
           8.462771285475796,
           3.7799666110183576,
           6.234056761268781,
           2.2524207011686057,
           2.4777963272120136,
           0.9252086811352238,
           4.205676126878135,
           8.763272120200321,
           1.2006677796327094,
           1.9519198664440809,
           3.454424040066793,
           2.55292153589316,
           2.0771285475793047,
           0.9752921535893309,
           0.9001669449081848,
           6.860100166944899,
           0.8500834724541074,
           1.6263772954924876,
           0.8,
           2.828380634390646,
           1.7766277128547499,
           1.2006677796327094,
           0.9001669449081848,
           0.8250417362270389
          ],
          "sizemode": "area",
          "sizeref": 0.0395,
          "symbol": "circle"
         },
         "mode": "markers",
         "name": "Аналитик",
         "orientation": "v",
         "showlegend": true,
         "type": "scatter",
         "x": [
          2.523932,
          4.8250494,
          1.4557124,
          5.939461,
          4.0028777,
          4.9134264,
          4.990093,
          4.15878,
          3.499786,
          -0.56805634,
          1.9655734,
          3.8560758,
          5.2471113,
          4.4894967,
          2.633525,
          4.681686,
          9.630489,
          10.035568,
          8.364871,
          7.1760154,
          6.403501,
          7.581452,
          4.8983808,
          6.0186954,
          5.6863127,
          4.531249,
          5.721521,
          4.0737395,
          10.510789,
          4.6718893
         ],
         "xaxis": "x",
         "y": [
          0.5294965,
          -0.8773924,
          1.3468373,
          -2.3304603,
          -1.4060575,
          -1.045139,
          -3.2796593,
          0.16318122,
          -0.7022488,
          2.00473,
          0.12850004,
          -0.49630287,
          -3.597834,
          -4.5193,
          -0.41120362,
          -2.8763971,
          -2.529131,
          -2.4696448,
          -3.0457513,
          -2.6456676,
          -2.763984,
          -3.2071128,
          -3.0819361,
          -2.8641317,
          -3.4678533,
          -4.8560452,
          -2.7770395,
          -4.121965,
          -3.854575,
          -4.2435822
         ],
         "yaxis": "y"
        },
        {
         "customdata": [
          [
           15.8,
           "Big Data"
          ],
          [
           2.41676646706586,
           "Big Data"
          ],
          [
           9.512574850299405,
           "Big Data"
          ],
          [
           2.057485029940119,
           "Big Data"
          ],
          [
           3.135329341317359,
           "Big Data"
          ],
          [
           1.1592814371257405,
           "Big Data"
          ],
          [
           0.8,
           "Big Data"
          ],
          [
           7.536526946107785,
           "Big Data"
          ],
          [
           4.213173652694618,
           "Big Data"
          ],
          [
           2.41676646706586,
           "Big Data"
          ],
          [
           4.123353293413168,
           "Big Data"
          ],
          [
           1.4287425149700508,
           "Big Data"
          ],
          [
           2.506586826347309,
           "Big Data"
          ],
          [
           6.009580838323357,
           "Big Data"
          ],
          [
           0.8898203592814306,
           "Big Data"
          ],
          [
           7.626347305389217,
           "Big Data"
          ],
          [
           1.2491017964071893,
           "Big Data"
          ],
          [
           0.8,
           "Big Data"
          ],
          [
           4.123353293413168,
           "Big Data"
          ],
          [
           7.177245508982027,
           "Big Data"
          ],
          [
           1.6083832335329298,
           "Big Data"
          ],
          [
           1.9676646706586884,
           "Big Data"
          ],
          [
           1.2491017964071893,
           "Big Data"
          ],
          [
           1.33892215568862,
           "Big Data"
          ],
          [
           0.8898203592814306,
           "Big Data"
          ],
          [
           1.0694610778443099,
           "Big Data"
          ],
          [
           1.1592814371257405,
           "Big Data"
          ],
          [
           1.8778443113772398,
           "Big Data"
          ],
          [
           1.0694610778443099,
           "Big Data"
          ],
          [
           1.6982035928143606,
           "Big Data"
          ]
         ],
         "hovertemplate": "<b>%{hovertext}</b><br><br><extra></extra>",
         "hovertext": [
          "SQL",
          "Анализ данных",
          "Python",
          "Аналитическое мышление",
          "Английский",
          "Power BI",
          "Математическая статистика",
          "Работа с большим объемом информации",
          "Базы данных",
          "MS SQL",
          "PostgreSQL",
          "Tableau",
          "BI",
          "Hadoop",
          "Machine Learning",
          "ETL",
          "Деловая коммуникация",
          "ClickHouse",
          "Spark",
          "DWH",
          "Airflow",
          "Linux",
          "Docker",
          "Kafka",
          "Java",
          "SCALA",
          "Greenplum",
          "ORACLE",
          "Hive",
          "Системный анализ"
         ],
         "legendgroup": "Big Data",
         "marker": {
          "color": "#636EFA",
          "line": {
           "color": "DarkSlateGrey",
           "width": 0.5
          },
          "opacity": 0.7,
          "size": [
           15.8,
           2.41676646706586,
           9.512574850299405,
           2.057485029940119,
           3.135329341317359,
           1.1592814371257405,
           0.8,
           7.536526946107785,
           4.213173652694618,
           2.41676646706586,
           4.123353293413168,
           1.4287425149700508,
           2.506586826347309,
           6.009580838323357,
           0.8898203592814306,
           7.626347305389217,
           1.2491017964071893,
           0.8,
           4.123353293413168,
           7.177245508982027,
           1.6083832335329298,
           1.9676646706586884,
           1.2491017964071893,
           1.33892215568862,
           0.8898203592814306,
           1.0694610778443099,
           1.1592814371257405,
           1.8778443113772398,
           1.0694610778443099,
           1.6982035928143606
          ],
          "sizemode": "area",
          "sizeref": 0.0395,
          "symbol": "circle"
         },
         "mode": "markers",
         "name": "Big Data",
         "orientation": "v",
         "showlegend": true,
         "type": "scatter",
         "x": [
          2.523932,
          4.8250494,
          1.4557124,
          5.939461,
          4.0028777,
          4.9134264,
          4.15878,
          3.499786,
          -0.56805634,
          1.9655734,
          -1.1224052,
          4.7387805,
          3.8560758,
          -1.8113353,
          2.5722833,
          -2.6682813,
          8.364871,
          -1.2614932,
          -2.0693417,
          -3.120793,
          -2.69981,
          -1.7805768,
          -1.5405713,
          -2.742069,
          -2.1722202,
          -3.2210774,
          -2.905726,
          -0.88383335,
          -1.8215461,
          11.823402
         ],
         "xaxis": "x",
         "y": [
          0.5294965,
          -0.8773924,
          1.3468373,
          -2.3304603,
          -1.4060575,
          -1.045139,
          0.16318122,
          -0.7022488,
          2.00473,
          0.12850004,
          1.696942,
          -0.2386237,
          -0.49630287,
          -0.5201308,
          5.4699597,
          -0.6662453,
          -3.0457513,
          -0.28575107,
          -0.6963862,
          -0.1764716,
          -1.2315611,
          1.7927992,
          0.19128302,
          0.08166334,
          0.017532758,
          -1.2662067,
          -0.573978,
          1.9099925,
          -0.6500939,
          -5.4388103
         ],
         "yaxis": "y"
        },
        {
         "customdata": [
          [
           15.8,
           "Системный аналитик"
          ],
          [
           1.0064220183486234,
           "Системный аналитик"
          ],
          [
           6.029357798165139,
           "Системный аналитик"
          ],
          [
           4.240366972477054,
           "Системный аналитик"
          ],
          [
           0.8688073394495273,
           "Системный аналитик"
          ],
          [
           3.483486238532108,
           "Системный аналитик"
          ],
          [
           1.76330275229357,
           "Системный аналитик"
          ],
          [
           1.4880733944953985,
           "Системный аналитик"
          ],
          [
           1.0752293577981509,
           "Системный аналитик"
          ],
          [
           3.483486238532108,
           "Системный аналитик"
          ],
          [
           4.3779816513761505,
           "Системный аналитик"
          ],
          [
           1.0064220183486234,
           "Системный аналитик"
          ],
          [
           2.6577981651376126,
           "Системный аналитик"
          ],
          [
           4.033944954128431,
           "Системный аналитик"
          ],
          [
           6.648623853211011,
           "Системный аналитик"
          ],
          [
           10.570642201834861,
           "Системный аналитик"
          ],
          [
           6.717431192660539,
           "Системный аналитик"
          ],
          [
           12.634862385321098,
           "Системный аналитик"
          ],
          [
           12.084403669724775,
           "Системный аналитик"
          ],
          [
           3.621100917431183,
           "Системный аналитик"
          ],
          [
           3.5522935779816356,
           "Системный аналитик"
          ],
          [
           3.345871559633032,
           "Системный аналитик"
          ],
          [
           3.0706422018348603,
           "Системный аналитик"
          ],
          [
           2.1761467889908177,
           "Системный аналитик"
          ],
          [
           2.1073394495412696,
           "Системный аналитик"
          ],
          [
           1.6944954128440222,
           "Системный аналитик"
          ],
          [
           1.4192660550458711,
           "Системный аналитик"
          ],
          [
           1.2816513761467745,
           "Системный аналитик"
          ],
          [
           1.2128440366972475,
           "Системный аналитик"
          ],
          [
           0.8,
           "Системный аналитик"
          ]
         ],
         "hovertemplate": "<b>%{hovertext}</b><br><br><extra></extra>",
         "hovertext": [
          "SQL",
          "Анализ данных",
          "Аналитическое мышление",
          "Английский",
          "Работа с большим объемом информации",
          "Базы данных",
          "MS SQL",
          "PostgreSQL",
          "ETL",
          "Моделирование бизнес процессов",
          "Бизнес-анализ",
          "DWH",
          "1С: Предприятие 8",
          "XML",
          "REST",
          "UML",
          "Разработка технических заданий",
          "Системный анализ",
          "BPMN",
          "Постановка задач разработчикам",
          "SOAP",
          "JSON API",
          "Atlassian Jira",
          "API",
          "Atlassian Confluence",
          "Системное мышление",
          "Agile",
          "MS Visio",
          "Техническая документация",
          "ERP"
         ],
         "legendgroup": "Системный аналитик",
         "marker": {
          "color": "#EF553B",
          "line": {
           "color": "DarkSlateGrey",
           "width": 0.5
          },
          "opacity": 0.7,
          "size": [
           15.8,
           1.0064220183486234,
           6.029357798165139,
           4.240366972477054,
           0.8688073394495273,
           3.483486238532108,
           1.76330275229357,
           1.4880733944953985,
           1.0752293577981509,
           3.483486238532108,
           4.3779816513761505,
           1.0064220183486234,
           2.6577981651376126,
           4.033944954128431,
           6.648623853211011,
           10.570642201834861,
           6.717431192660539,
           12.634862385321098,
           12.084403669724775,
           3.621100917431183,
           3.5522935779816356,
           3.345871559633032,
           3.0706422018348603,
           2.1761467889908177,
           2.1073394495412696,
           1.6944954128440222,
           1.4192660550458711,
           1.2816513761467745,
           1.2128440366972475,
           0.8
          ],
          "sizemode": "area",
          "sizeref": 0.0395,
          "symbol": "circle"
         },
         "mode": "markers",
         "name": "Системный аналитик",
         "orientation": "v",
         "showlegend": true,
         "type": "scatter",
         "x": [
          2.523932,
          4.8250494,
          5.939461,
          4.0028777,
          3.499786,
          -0.56805634,
          1.9655734,
          -1.1224052,
          -2.6682813,
          9.630489,
          10.035568,
          -3.120793,
          7.581452,
          12.145219,
          12.097387,
          11.409275,
          10.510789,
          11.823402,
          11.187711,
          10.883531,
          12.264087,
          12.155777,
          10.586715,
          11.4082775,
          10.942733,
          9.386298,
          10.097852,
          10.377798,
          9.803993,
          10.307666
         ],
         "xaxis": "x",
         "y": [
          0.5294965,
          -0.8773924,
          -2.3304603,
          -1.4060575,
          -0.7022488,
          2.00473,
          0.12850004,
          1.696942,
          -0.6662453,
          -2.529131,
          -2.4696448,
          -0.1764716,
          -3.2071128,
          -5.680423,
          -5.567892,
          -4.6423264,
          -3.854575,
          -5.4388103,
          -3.57746,
          -4.492537,
          -5.7145224,
          -5.66197,
          -4.3125844,
          -5.3901877,
          -3.8154256,
          -3.5353384,
          -3.800383,
          -2.6397846,
          -4.137015,
          -3.567311
         ],
         "yaxis": "y"
        },
        {
         "customdata": [
          [
           5.787212276214832,
           "Бизнес-аналитик"
          ],
          [
           2.5263427109974472,
           "Бизнес-аналитик"
          ],
          [
           11.695140664961643,
           "Бизнес-аналитик"
          ],
          [
           8.127365728900264,
           "Бизнес-аналитик"
          ],
          [
           1.183631713554996,
           "Бизнес-аналитик"
          ],
          [
           3.2936061381074158,
           "Бизнес-аналитик"
          ],
          [
           1.5672634271099921,
           "Бизнес-аналитик"
          ],
          [
           1.6823529411764746,
           "Бизнес-аналитик"
          ],
          [
           0.8,
           "Бизнес-аналитик"
          ],
          [
           13.766751918158585,
           "Бизнес-аналитик"
          ],
          [
           15.8,
           "Бизнес-аналитик"
          ],
          [
           5.0966751918158675,
           "Бизнес-аналитик"
          ],
          [
           1.7590792838874787,
           "Бизнес-аналитик"
          ],
          [
           0.9534526854220075,
           "Бизнес-аналитик"
          ],
          [
           9.27826086956523,
           "Бизнес-аналитик"
          ],
          [
           1.2219948849104982,
           "Бизнес-аналитик"
          ],
          [
           4.17595907928389,
           "Бизнес-аналитик"
          ],
          [
           1.0685421994884903,
           "Бизнес-аналитик"
          ],
          [
           5.173401534526872,
           "Бизнес-аналитик"
          ],
          [
           1.7207161125319765,
           "Бизнес-аналитик"
          ],
          [
           9.585166240409222,
           "Бизнес-аналитик"
          ],
          [
           1.4905370843989885,
           "Бизнес-аналитик"
          ],
          [
           1.7590792838874787,
           "Бизнес-аналитик"
          ],
          [
           1.2987212276215019,
           "Бизнес-аналитик"
          ],
          [
           1.9125319693094631,
           "Бизнес-аналитик"
          ],
          [
           1.4521739130434863,
           "Бизнес-аналитик"
          ],
          [
           3.1785166240409337,
           "Бизнес-аналитик"
          ],
          [
           3.0634271099744286,
           "Бизнес-аналитик"
          ],
          [
           1.4521739130434863,
           "Бизнес-аналитик"
          ],
          [
           0.9150895140665058,
           "Бизнес-аналитик"
          ]
         ],
         "hovertemplate": "<b>%{hovertext}</b><br><br><extra></extra>",
         "hovertext": [
          "SQL",
          "Анализ данных",
          "Аналитическое мышление",
          "Английский",
          "Power BI",
          "MS Excel",
          "Работа с большим объемом информации",
          "MS PowerPoint",
          "Анализ рынка",
          "Моделирование бизнес процессов",
          "Бизнес-анализ",
          "Деловая коммуникация",
          "Работа в команде",
          "Сбор и анализ информации",
          "1С: Предприятие 8",
          "Работа в условиях многозадачности",
          "UML",
          "Грамотная речь",
          "Разработка технических заданий",
          "Системный анализ",
          "BPMN",
          "Постановка задач разработчикам",
          "Atlassian Jira",
          "Atlassian Confluence",
          "Системное мышление",
          "Agile",
          "MS Visio",
          "Управление проектами",
          "Автоматизация процессов",
          "IDEF"
         ],
         "legendgroup": "Бизнес-аналитик",
         "marker": {
          "color": "#00CC96",
          "line": {
           "color": "DarkSlateGrey",
           "width": 0.5
          },
          "opacity": 0.7,
          "size": [
           5.787212276214832,
           2.5263427109974472,
           11.695140664961643,
           8.127365728900264,
           1.183631713554996,
           3.2936061381074158,
           1.5672634271099921,
           1.6823529411764746,
           0.8,
           13.766751918158585,
           15.8,
           5.0966751918158675,
           1.7590792838874787,
           0.9534526854220075,
           9.27826086956523,
           1.2219948849104982,
           4.17595907928389,
           1.0685421994884903,
           5.173401534526872,
           1.7207161125319765,
           9.585166240409222,
           1.4905370843989885,
           1.7590792838874787,
           1.2987212276215019,
           1.9125319693094631,
           1.4521739130434863,
           3.1785166240409337,
           3.0634271099744286,
           1.4521739130434863,
           0.9150895140665058
          ],
          "sizemode": "area",
          "sizeref": 0.0395,
          "symbol": "circle"
         },
         "mode": "markers",
         "name": "Бизнес-аналитик",
         "orientation": "v",
         "showlegend": true,
         "type": "scatter",
         "x": [
          2.523932,
          4.8250494,
          5.939461,
          4.0028777,
          4.9134264,
          4.990093,
          3.499786,
          5.2471113,
          4.4894967,
          9.630489,
          10.035568,
          8.364871,
          7.1760154,
          6.403501,
          7.581452,
          6.0186954,
          11.409275,
          5.721521,
          10.510789,
          11.823402,
          11.187711,
          10.883531,
          10.586715,
          10.942733,
          9.386298,
          10.097852,
          10.377798,
          9.1845665,
          8.624736,
          10.528521
         ],
         "xaxis": "x",
         "y": [
          0.5294965,
          -0.8773924,
          -2.3304603,
          -1.4060575,
          -1.045139,
          -3.2796593,
          -0.7022488,
          -3.597834,
          -4.5193,
          -2.529131,
          -2.4696448,
          -3.0457513,
          -2.6456676,
          -2.763984,
          -3.2071128,
          -2.8641317,
          -4.6423264,
          -2.7770395,
          -3.854575,
          -5.4388103,
          -3.57746,
          -4.492537,
          -4.3125844,
          -3.8154256,
          -3.5353384,
          -3.800383,
          -2.6397846,
          -3.0735276,
          -2.7106967,
          -2.921238
         ],
         "yaxis": "y"
        }
       ],
       "layout": {
        "height": 600,
        "legend": {
         "itemsizing": "constant",
         "title": {
          "text": "Профессия"
         },
         "tracegroupgap": 0
        },
        "margin": {
         "t": 60
        },
        "template": {
         "data": {
          "bar": [
           {
            "error_x": {
             "color": "#2a3f5f"
            },
            "error_y": {
             "color": "#2a3f5f"
            },
            "marker": {
             "line": {
              "color": "#E5ECF6",
              "width": 0.5
             },
             "pattern": {
              "fillmode": "overlay",
              "size": 10,
              "solidity": 0.2
             }
            },
            "type": "bar"
           }
          ],
          "barpolar": [
           {
            "marker": {
             "line": {
              "color": "#E5ECF6",
              "width": 0.5
             },
             "pattern": {
              "fillmode": "overlay",
              "size": 10,
              "solidity": 0.2
             }
            },
            "type": "barpolar"
           }
          ],
          "carpet": [
           {
            "aaxis": {
             "endlinecolor": "#2a3f5f",
             "gridcolor": "white",
             "linecolor": "white",
             "minorgridcolor": "white",
             "startlinecolor": "#2a3f5f"
            },
            "baxis": {
             "endlinecolor": "#2a3f5f",
             "gridcolor": "white",
             "linecolor": "white",
             "minorgridcolor": "white",
             "startlinecolor": "#2a3f5f"
            },
            "type": "carpet"
           }
          ],
          "choropleth": [
           {
            "colorbar": {
             "outlinewidth": 0,
             "ticks": ""
            },
            "type": "choropleth"
           }
          ],
          "contour": [
           {
            "colorbar": {
             "outlinewidth": 0,
             "ticks": ""
            },
            "colorscale": [
             [
              0,
              "#0d0887"
             ],
             [
              0.1111111111111111,
              "#46039f"
             ],
             [
              0.2222222222222222,
              "#7201a8"
             ],
             [
              0.3333333333333333,
              "#9c179e"
             ],
             [
              0.4444444444444444,
              "#bd3786"
             ],
             [
              0.5555555555555556,
              "#d8576b"
             ],
             [
              0.6666666666666666,
              "#ed7953"
             ],
             [
              0.7777777777777778,
              "#fb9f3a"
             ],
             [
              0.8888888888888888,
              "#fdca26"
             ],
             [
              1,
              "#f0f921"
             ]
            ],
            "type": "contour"
           }
          ],
          "contourcarpet": [
           {
            "colorbar": {
             "outlinewidth": 0,
             "ticks": ""
            },
            "type": "contourcarpet"
           }
          ],
          "heatmap": [
           {
            "colorbar": {
             "outlinewidth": 0,
             "ticks": ""
            },
            "colorscale": [
             [
              0,
              "#0d0887"
             ],
             [
              0.1111111111111111,
              "#46039f"
             ],
             [
              0.2222222222222222,
              "#7201a8"
             ],
             [
              0.3333333333333333,
              "#9c179e"
             ],
             [
              0.4444444444444444,
              "#bd3786"
             ],
             [
              0.5555555555555556,
              "#d8576b"
             ],
             [
              0.6666666666666666,
              "#ed7953"
             ],
             [
              0.7777777777777778,
              "#fb9f3a"
             ],
             [
              0.8888888888888888,
              "#fdca26"
             ],
             [
              1,
              "#f0f921"
             ]
            ],
            "type": "heatmap"
           }
          ],
          "heatmapgl": [
           {
            "colorbar": {
             "outlinewidth": 0,
             "ticks": ""
            },
            "colorscale": [
             [
              0,
              "#0d0887"
             ],
             [
              0.1111111111111111,
              "#46039f"
             ],
             [
              0.2222222222222222,
              "#7201a8"
             ],
             [
              0.3333333333333333,
              "#9c179e"
             ],
             [
              0.4444444444444444,
              "#bd3786"
             ],
             [
              0.5555555555555556,
              "#d8576b"
             ],
             [
              0.6666666666666666,
              "#ed7953"
             ],
             [
              0.7777777777777778,
              "#fb9f3a"
             ],
             [
              0.8888888888888888,
              "#fdca26"
             ],
             [
              1,
              "#f0f921"
             ]
            ],
            "type": "heatmapgl"
           }
          ],
          "histogram": [
           {
            "marker": {
             "pattern": {
              "fillmode": "overlay",
              "size": 10,
              "solidity": 0.2
             }
            },
            "type": "histogram"
           }
          ],
          "histogram2d": [
           {
            "colorbar": {
             "outlinewidth": 0,
             "ticks": ""
            },
            "colorscale": [
             [
              0,
              "#0d0887"
             ],
             [
              0.1111111111111111,
              "#46039f"
             ],
             [
              0.2222222222222222,
              "#7201a8"
             ],
             [
              0.3333333333333333,
              "#9c179e"
             ],
             [
              0.4444444444444444,
              "#bd3786"
             ],
             [
              0.5555555555555556,
              "#d8576b"
             ],
             [
              0.6666666666666666,
              "#ed7953"
             ],
             [
              0.7777777777777778,
              "#fb9f3a"
             ],
             [
              0.8888888888888888,
              "#fdca26"
             ],
             [
              1,
              "#f0f921"
             ]
            ],
            "type": "histogram2d"
           }
          ],
          "histogram2dcontour": [
           {
            "colorbar": {
             "outlinewidth": 0,
             "ticks": ""
            },
            "colorscale": [
             [
              0,
              "#0d0887"
             ],
             [
              0.1111111111111111,
              "#46039f"
             ],
             [
              0.2222222222222222,
              "#7201a8"
             ],
             [
              0.3333333333333333,
              "#9c179e"
             ],
             [
              0.4444444444444444,
              "#bd3786"
             ],
             [
              0.5555555555555556,
              "#d8576b"
             ],
             [
              0.6666666666666666,
              "#ed7953"
             ],
             [
              0.7777777777777778,
              "#fb9f3a"
             ],
             [
              0.8888888888888888,
              "#fdca26"
             ],
             [
              1,
              "#f0f921"
             ]
            ],
            "type": "histogram2dcontour"
           }
          ],
          "mesh3d": [
           {
            "colorbar": {
             "outlinewidth": 0,
             "ticks": ""
            },
            "type": "mesh3d"
           }
          ],
          "parcoords": [
           {
            "line": {
             "colorbar": {
              "outlinewidth": 0,
              "ticks": ""
             }
            },
            "type": "parcoords"
           }
          ],
          "pie": [
           {
            "automargin": true,
            "type": "pie"
           }
          ],
          "scatter": [
           {
            "fillpattern": {
             "fillmode": "overlay",
             "size": 10,
             "solidity": 0.2
            },
            "type": "scatter"
           }
          ],
          "scatter3d": [
           {
            "line": {
             "colorbar": {
              "outlinewidth": 0,
              "ticks": ""
             }
            },
            "marker": {
             "colorbar": {
              "outlinewidth": 0,
              "ticks": ""
             }
            },
            "type": "scatter3d"
           }
          ],
          "scattercarpet": [
           {
            "marker": {
             "colorbar": {
              "outlinewidth": 0,
              "ticks": ""
             }
            },
            "type": "scattercarpet"
           }
          ],
          "scattergeo": [
           {
            "marker": {
             "colorbar": {
              "outlinewidth": 0,
              "ticks": ""
             }
            },
            "type": "scattergeo"
           }
          ],
          "scattergl": [
           {
            "marker": {
             "colorbar": {
              "outlinewidth": 0,
              "ticks": ""
             }
            },
            "type": "scattergl"
           }
          ],
          "scattermapbox": [
           {
            "marker": {
             "colorbar": {
              "outlinewidth": 0,
              "ticks": ""
             }
            },
            "type": "scattermapbox"
           }
          ],
          "scatterpolar": [
           {
            "marker": {
             "colorbar": {
              "outlinewidth": 0,
              "ticks": ""
             }
            },
            "type": "scatterpolar"
           }
          ],
          "scatterpolargl": [
           {
            "marker": {
             "colorbar": {
              "outlinewidth": 0,
              "ticks": ""
             }
            },
            "type": "scatterpolargl"
           }
          ],
          "scatterternary": [
           {
            "marker": {
             "colorbar": {
              "outlinewidth": 0,
              "ticks": ""
             }
            },
            "type": "scatterternary"
           }
          ],
          "surface": [
           {
            "colorbar": {
             "outlinewidth": 0,
             "ticks": ""
            },
            "colorscale": [
             [
              0,
              "#0d0887"
             ],
             [
              0.1111111111111111,
              "#46039f"
             ],
             [
              0.2222222222222222,
              "#7201a8"
             ],
             [
              0.3333333333333333,
              "#9c179e"
             ],
             [
              0.4444444444444444,
              "#bd3786"
             ],
             [
              0.5555555555555556,
              "#d8576b"
             ],
             [
              0.6666666666666666,
              "#ed7953"
             ],
             [
              0.7777777777777778,
              "#fb9f3a"
             ],
             [
              0.8888888888888888,
              "#fdca26"
             ],
             [
              1,
              "#f0f921"
             ]
            ],
            "type": "surface"
           }
          ],
          "table": [
           {
            "cells": {
             "fill": {
              "color": "#EBF0F8"
             },
             "line": {
              "color": "white"
             }
            },
            "header": {
             "fill": {
              "color": "#C8D4E3"
             },
             "line": {
              "color": "white"
             }
            },
            "type": "table"
           }
          ]
         },
         "layout": {
          "annotationdefaults": {
           "arrowcolor": "#2a3f5f",
           "arrowhead": 0,
           "arrowwidth": 1
          },
          "autotypenumbers": "strict",
          "coloraxis": {
           "colorbar": {
            "outlinewidth": 0,
            "ticks": ""
           }
          },
          "colorscale": {
           "diverging": [
            [
             0,
             "#8e0152"
            ],
            [
             0.1,
             "#c51b7d"
            ],
            [
             0.2,
             "#de77ae"
            ],
            [
             0.3,
             "#f1b6da"
            ],
            [
             0.4,
             "#fde0ef"
            ],
            [
             0.5,
             "#f7f7f7"
            ],
            [
             0.6,
             "#e6f5d0"
            ],
            [
             0.7,
             "#b8e186"
            ],
            [
             0.8,
             "#7fbc41"
            ],
            [
             0.9,
             "#4d9221"
            ],
            [
             1,
             "#276419"
            ]
           ],
           "sequential": [
            [
             0,
             "#0d0887"
            ],
            [
             0.1111111111111111,
             "#46039f"
            ],
            [
             0.2222222222222222,
             "#7201a8"
            ],
            [
             0.3333333333333333,
             "#9c179e"
            ],
            [
             0.4444444444444444,
             "#bd3786"
            ],
            [
             0.5555555555555556,
             "#d8576b"
            ],
            [
             0.6666666666666666,
             "#ed7953"
            ],
            [
             0.7777777777777778,
             "#fb9f3a"
            ],
            [
             0.8888888888888888,
             "#fdca26"
            ],
            [
             1,
             "#f0f921"
            ]
           ],
           "sequentialminus": [
            [
             0,
             "#0d0887"
            ],
            [
             0.1111111111111111,
             "#46039f"
            ],
            [
             0.2222222222222222,
             "#7201a8"
            ],
            [
             0.3333333333333333,
             "#9c179e"
            ],
            [
             0.4444444444444444,
             "#bd3786"
            ],
            [
             0.5555555555555556,
             "#d8576b"
            ],
            [
             0.6666666666666666,
             "#ed7953"
            ],
            [
             0.7777777777777778,
             "#fb9f3a"
            ],
            [
             0.8888888888888888,
             "#fdca26"
            ],
            [
             1,
             "#f0f921"
            ]
           ]
          },
          "colorway": [
           "#636efa",
           "#EF553B",
           "#00cc96",
           "#ab63fa",
           "#FFA15A",
           "#19d3f3",
           "#FF6692",
           "#B6E880",
           "#FF97FF",
           "#FECB52"
          ],
          "font": {
           "color": "#2a3f5f"
          },
          "geo": {
           "bgcolor": "white",
           "lakecolor": "white",
           "landcolor": "#E5ECF6",
           "showlakes": true,
           "showland": true,
           "subunitcolor": "white"
          },
          "hoverlabel": {
           "align": "left"
          },
          "hovermode": "closest",
          "mapbox": {
           "style": "light"
          },
          "paper_bgcolor": "white",
          "plot_bgcolor": "#E5ECF6",
          "polar": {
           "angularaxis": {
            "gridcolor": "white",
            "linecolor": "white",
            "ticks": ""
           },
           "bgcolor": "#E5ECF6",
           "radialaxis": {
            "gridcolor": "white",
            "linecolor": "white",
            "ticks": ""
           }
          },
          "scene": {
           "xaxis": {
            "backgroundcolor": "#E5ECF6",
            "gridcolor": "white",
            "gridwidth": 2,
            "linecolor": "white",
            "showbackground": true,
            "ticks": "",
            "zerolinecolor": "white"
           },
           "yaxis": {
            "backgroundcolor": "#E5ECF6",
            "gridcolor": "white",
            "gridwidth": 2,
            "linecolor": "white",
            "showbackground": true,
            "ticks": "",
            "zerolinecolor": "white"
           },
           "zaxis": {
            "backgroundcolor": "#E5ECF6",
            "gridcolor": "white",
            "gridwidth": 2,
            "linecolor": "white",
            "showbackground": true,
            "ticks": "",
            "zerolinecolor": "white"
           }
          },
          "shapedefaults": {
           "line": {
            "color": "#2a3f5f"
           }
          },
          "ternary": {
           "aaxis": {
            "gridcolor": "white",
            "linecolor": "white",
            "ticks": ""
           },
           "baxis": {
            "gridcolor": "white",
            "linecolor": "white",
            "ticks": ""
           },
           "bgcolor": "#E5ECF6",
           "caxis": {
            "gridcolor": "white",
            "linecolor": "white",
            "ticks": ""
           }
          },
          "title": {
           "x": 0.05
          },
          "xaxis": {
           "automargin": true,
           "gridcolor": "white",
           "linecolor": "white",
           "ticks": "",
           "title": {
            "standoff": 15
           },
           "zerolinecolor": "white",
           "zerolinewidth": 2
          },
          "yaxis": {
           "automargin": true,
           "gridcolor": "white",
           "linecolor": "white",
           "ticks": "",
           "title": {
            "standoff": 15
           },
           "zerolinecolor": "white",
           "zerolinewidth": 2
          }
         }
        },
        "width": 1000,
        "xaxis": {
         "anchor": "y",
         "domain": [
          0,
          1
         ],
         "title": {
          "text": "x"
         },
         "visible": false
        },
        "yaxis": {
         "anchor": "x",
         "domain": [
          0,
          1
         ],
         "title": {
          "text": "y"
         },
         "visible": false
        }
       }
      }
     },
     "metadata": {},
     "output_type": "display_data"
    }
   ],
   "source": [
    "plot_skill_map(df_plot_skill).show()"
   ]
  },
  {
   "cell_type": "code",
   "execution_count": 89,
   "metadata": {},
   "outputs": [
    {
     "data": {
      "application/vnd.plotly.v1+json": {
       "config": {
        "plotlyServerURL": "https://plot.ly"
       },
       "data": [
        {
         "customdata": [
          [
           10.464429530201338,
           "Data Scientist"
          ],
          [
           4.273154362416099,
           "Data Scientist"
          ],
          [
           15.8,
           "Data Scientist"
          ],
          [
           1.907382550335575,
           "Data Scientist"
          ],
          [
           6.085234899328857,
           "Data Scientist"
          ],
          [
           0.951006711409389,
           "Data Scientist"
          ],
          [
           5.2798657718120765,
           "Data Scientist"
          ],
          [
           3.618791946308721,
           "Data Scientist"
          ],
          [
           1.655704697986573,
           "Data Scientist"
          ],
          [
           1.6053691275167816,
           "Data Scientist"
          ],
          [
           1.5046979865771841,
           "Data Scientist"
          ],
          [
           2.763087248322148,
           "Data Scientist"
          ],
          [
           0.8503355704697914,
           "Data Scientist"
          ],
          [
           2.863758389261746,
           "Data Scientist"
          ],
          [
           12.628859060402679,
           "Data Scientist"
          ],
          [
           0.8503355704697914,
           "Data Scientist"
          ],
          [
           3.0147651006711342,
           "Data Scientist"
          ],
          [
           1.1523489932885846,
           "Data Scientist"
          ],
          [
           0.8,
           "Data Scientist"
          ],
          [
           0.8503355704697914,
           "Data Scientist"
          ],
          [
           0.8503355704697914,
           "Data Scientist"
          ],
          [
           2.5114093959731463,
           "Data Scientist"
          ],
          [
           0.951006711409389,
           "Data Scientist"
          ],
          [
           1.907382550335575,
           "Data Scientist"
          ],
          [
           1.907382550335575,
           "Data Scientist"
          ],
          [
           1.806711409395977,
           "Data Scientist"
          ],
          [
           5.179194630872478,
           "Data Scientist"
          ],
          [
           2.9644295302013433,
           "Data Scientist"
          ],
          [
           2.209395973154353,
           "Data Scientist"
          ],
          [
           2.1087248322147554,
           "Data Scientist"
          ],
          [
           2.1087248322147554,
           "Data Scientist"
          ],
          [
           1.4543624161073776,
           "Data Scientist"
          ],
          [
           1.4543624161073776,
           "Data Scientist"
          ],
          [
           1.4543624161073776,
           "Data Scientist"
          ],
          [
           0.8503355704697914,
           "Data Scientist"
          ],
          [
           0.8,
           "Data Scientist"
          ]
         ],
         "hovertemplate": "<b>%{hovertext}</b><br><br><extra></extra>",
         "hovertext": [
          "SQL",
          "Анализ данных",
          "Python",
          "Аналитическое мышление",
          "Английский",
          "Power BI",
          "Математическая статистика",
          "Работа с большим объемом информации",
          "Базы данных",
          "MS SQL",
          "PostgreSQL",
          "Математический анализ",
          "Анализ рынка",
          "Hadoop",
          "Machine Learning",
          "ETL",
          "Pandas",
          "Деловая коммуникация",
          "Работа в команде",
          "ClickHouse",
          "Грамотная речь",
          "Spark",
          "Airflow",
          "Linux",
          "Docker",
          "Git",
          "Data Science",
          "PyTorch",
          "Scikit-learn",
          "NLP",
          "Numpy",
          "Computer Vision",
          "Tensorflow",
          "Deep Learning",
          "Алгоритмы",
          "Нейронные сети"
         ],
         "legendgroup": "Data Scientist",
         "marker": {
          "color": "#F8A19F",
          "line": {
           "color": "DarkSlateGrey",
           "width": 0.5
          },
          "opacity": 0.7,
          "size": [
           10.464429530201338,
           4.273154362416099,
           15.8,
           1.907382550335575,
           6.085234899328857,
           0.951006711409389,
           5.2798657718120765,
           3.618791946308721,
           1.655704697986573,
           1.6053691275167816,
           1.5046979865771841,
           2.763087248322148,
           0.8503355704697914,
           2.863758389261746,
           12.628859060402679,
           0.8503355704697914,
           3.0147651006711342,
           1.1523489932885846,
           0.8,
           0.8503355704697914,
           0.8503355704697914,
           2.5114093959731463,
           0.951006711409389,
           1.907382550335575,
           1.907382550335575,
           1.806711409395977,
           5.179194630872478,
           2.9644295302013433,
           2.209395973154353,
           2.1087248322147554,
           2.1087248322147554,
           1.4543624161073776,
           1.4543624161073776,
           1.4543624161073776,
           0.8503355704697914,
           0.8
          ],
          "sizemode": "area",
          "sizeref": 0.0395,
          "symbol": "circle"
         },
         "mode": "markers",
         "name": "Data Scientist",
         "orientation": "v",
         "showlegend": true,
         "type": "scatter",
         "x": [
          -1.9015582,
          2.992307,
          -7.059627,
          2.3750093,
          -7.738176,
          1.9207754,
          3.1730678,
          -2.0643375,
          -6.452937,
          -5.5314364,
          -6.1000686,
          -6.565654,
          3.4741106,
          -5.4513583,
          -7.9384155,
          -4.681412,
          -5.8623123,
          2.459547,
          2.6694598,
          -5.0341144,
          2.7797341,
          -5.3888226,
          -4.736818,
          -5.9254403,
          -6.314046,
          -8.594334,
          -7.8381276,
          -8.449671,
          -8.388615,
          -7.682028,
          -7.700296,
          -8.8785,
          -8.9210415,
          -8.597171,
          -9.340909,
          -8.52319
         ],
         "xaxis": "x",
         "y": [
          -1.0125526,
          -0.48733655,
          4.8266582,
          -2.5353866,
          4.1878214,
          -0.64606833,
          -0.05109836,
          -0.9565579,
          -3.5613413,
          -3.4655328,
          -3.4371636,
          4.3949304,
          -1.8619812,
          0.31573728,
          6.7439203,
          0.31795093,
          3.662952,
          -4.720073,
          -4.3682303,
          -0.81335855,
          -3.4986496,
          0.7331908,
          0.763916,
          -3.990992,
          0.5481362,
          6.3212767,
          7.1273623,
          8.093156,
          6.9904013,
          8.571319,
          6.2545247,
          8.49915,
          7.826223,
          7.8230824,
          7.4475603,
          6.882213
         ],
         "yaxis": "y"
        },
        {
         "customdata": [
          [
           8.101587301587303,
           "ML инженер"
          ],
          [
           2.06984126984127,
           "ML инженер"
          ],
          [
           15.8,
           "ML инженер"
          ],
          [
           1.3555555555555556,
           "ML инженер"
          ],
          [
           5.8,
           "ML инженер"
          ],
          [
           2.3079365079365086,
           "ML инженер"
          ],
          [
           3.180952380952381,
           "ML инженер"
          ],
          [
           1.5142857142857142,
           "ML инженер"
          ],
          [
           3.2603174603174603,
           "ML инженер"
          ],
          [
           2.466666666666667,
           "ML инженер"
          ],
          [
           13.895238095238096,
           "ML инженер"
          ],
          [
           3.022222222222222,
           "ML инженер"
          ],
          [
           1.276190476190476,
           "ML инженер"
          ],
          [
           1.1174603174603175,
           "ML инженер"
          ],
          [
           1.0380952380952382,
           "ML инженер"
          ],
          [
           2.3079365079365086,
           "ML инженер"
          ],
          [
           1.3555555555555556,
           "ML инженер"
          ],
          [
           3.2603174603174603,
           "ML инженер"
          ],
          [
           2.546031746031746,
           "ML инженер"
          ],
          [
           1.3555555555555556,
           "ML инженер"
          ],
          [
           2.625396825396826,
           "ML инженер"
          ],
          [
           1.4349206349206352,
           "ML инженер"
          ],
          [
           1.0380952380952382,
           "ML инженер"
          ],
          [
           1.9111111111111112,
           "ML инженер"
          ],
          [
           3.2603174603174603,
           "ML инженер"
          ],
          [
           1.0380952380952382,
           "ML инженер"
          ],
          [
           1.3555555555555556,
           "ML инженер"
          ],
          [
           1.4349206349206352,
           "ML инженер"
          ],
          [
           1.276190476190476,
           "ML инженер"
          ],
          [
           1.9111111111111112,
           "ML инженер"
          ],
          [
           1.6730158730158733,
           "ML инженер"
          ],
          [
           1.276190476190476,
           "ML инженер"
          ],
          [
           0.8793650793650793,
           "ML инженер"
          ],
          [
           2.2285714285714286,
           "ML инженер"
          ],
          [
           0.9587301587301589,
           "ML инженер"
          ],
          [
           0.8,
           "ML инженер"
          ]
         ],
         "hovertemplate": "<b>%{hovertext}</b><br><br><extra></extra>",
         "hovertext": [
          "SQL",
          "Анализ данных",
          "Python",
          "Аналитическое мышление",
          "Английский",
          "Математическая статистика",
          "Работа с большим объемом информации",
          "Базы данных",
          "PostgreSQL",
          "Hadoop",
          "Machine Learning",
          "ETL",
          "Pandas",
          "ClickHouse",
          "Грамотная речь",
          "Spark",
          "DWH",
          "Linux",
          "Docker",
          "Kafka",
          "Git",
          "Java",
          "Kubernetes",
          "Data Science",
          "PyTorch",
          "Scikit-learn",
          "NLP",
          "Numpy",
          "Computer Vision",
          "Tensorflow",
          "Deep Learning",
          "Алгоритмы",
          "Нейронные сети",
          "C++",
          "Adobe Photoshop",
          "Высокая скорость печати"
         ],
         "legendgroup": "ML инженер",
         "marker": {
          "color": "#AA0DFE",
          "line": {
           "color": "DarkSlateGrey",
           "width": 0.5
          },
          "opacity": 0.7,
          "size": [
           8.101587301587303,
           2.06984126984127,
           15.8,
           1.3555555555555556,
           5.8,
           2.3079365079365086,
           3.180952380952381,
           1.5142857142857142,
           3.2603174603174603,
           2.466666666666667,
           13.895238095238096,
           3.022222222222222,
           1.276190476190476,
           1.1174603174603175,
           1.0380952380952382,
           2.3079365079365086,
           1.3555555555555556,
           3.2603174603174603,
           2.546031746031746,
           1.3555555555555556,
           2.625396825396826,
           1.4349206349206352,
           1.0380952380952382,
           1.9111111111111112,
           3.2603174603174603,
           1.0380952380952382,
           1.3555555555555556,
           1.4349206349206352,
           1.276190476190476,
           1.9111111111111112,
           1.6730158730158733,
           1.276190476190476,
           0.8793650793650793,
           2.2285714285714286,
           0.9587301587301589,
           0.8
          ],
          "sizemode": "area",
          "sizeref": 0.0395,
          "symbol": "circle"
         },
         "mode": "markers",
         "name": "ML инженер",
         "orientation": "v",
         "showlegend": true,
         "type": "scatter",
         "x": [
          -1.9015582,
          2.992307,
          -7.059627,
          2.3750093,
          -7.738176,
          3.1730678,
          -2.0643375,
          -6.452937,
          -6.1000686,
          -5.4513583,
          -7.9384155,
          -4.681412,
          -5.8623123,
          -5.0341144,
          2.7797341,
          -5.3888226,
          -4.174119,
          -5.9254403,
          -6.314046,
          -5.3096476,
          -8.594334,
          -5.980641,
          -5.292282,
          -7.8381276,
          -8.449671,
          -8.388615,
          -7.682028,
          -7.700296,
          -8.8785,
          -8.9210415,
          -8.597171,
          -9.340909,
          -8.52319,
          -8.601262,
          -5.370956,
          -5.388101
         ],
         "xaxis": "x",
         "y": [
          -1.0125526,
          -0.48733655,
          4.8266582,
          -2.5353866,
          4.1878214,
          -0.05109836,
          -0.9565579,
          -3.5613413,
          -3.4371636,
          0.31573728,
          6.7439203,
          0.31795093,
          3.662952,
          -0.81335855,
          -3.4986496,
          0.7331908,
          0.25380117,
          -3.990992,
          0.5481362,
          -0.4659885,
          6.3212767,
          0.5143446,
          0.8758866,
          7.1273623,
          8.093156,
          6.9904013,
          8.571319,
          6.2545247,
          8.49915,
          7.826223,
          7.8230824,
          7.4475603,
          6.882213,
          7.5059304,
          3.141676,
          3.195448
         ],
         "yaxis": "y"
        },
        {
         "customdata": [
          [
           8.6,
           "Computer Vision"
          ],
          [
           2.5999999999999965,
           "Computer Vision"
          ],
          [
           15.8,
           "Computer Vision"
          ],
          [
           1.9999999999999978,
           "Computer Vision"
          ],
          [
           12.199999999999994,
           "Computer Vision"
          ],
          [
           1.3999999999999988,
           "Computer Vision"
          ],
          [
           1.9999999999999978,
           "Computer Vision"
          ],
          [
           1.9999999999999978,
           "Computer Vision"
          ],
          [
           1.3999999999999988,
           "Computer Vision"
          ],
          [
           1.9999999999999978,
           "Computer Vision"
          ],
          [
           0.8,
           "Computer Vision"
          ],
          [
           9.199999999999998,
           "Computer Vision"
          ],
          [
           1.3999999999999988,
           "Computer Vision"
          ],
          [
           1.9999999999999978,
           "Computer Vision"
          ],
          [
           4.399999999999993,
           "Computer Vision"
          ],
          [
           3.1999999999999957,
           "Computer Vision"
          ],
          [
           7.999999999999999,
           "Computer Vision"
          ],
          [
           2.5999999999999965,
           "Computer Vision"
          ],
          [
           1.3999999999999988,
           "Computer Vision"
          ],
          [
           11.599999999999993,
           "Computer Vision"
          ],
          [
           4.399999999999993,
           "Computer Vision"
          ],
          [
           3.7999999999999945,
           "Computer Vision"
          ],
          [
           3.7999999999999945,
           "Computer Vision"
          ],
          [
           1.3999999999999988,
           "Computer Vision"
          ],
          [
           3.1999999999999957,
           "Computer Vision"
          ],
          [
           9.199999999999998,
           "Computer Vision"
          ],
          [
           1.3999999999999988,
           "Computer Vision"
          ],
          [
           1.3999999999999988,
           "Computer Vision"
          ],
          [
           1.3999999999999988,
           "Computer Vision"
          ],
          [
           0.8,
           "Computer Vision"
          ],
          [
           0.8,
           "Computer Vision"
          ],
          [
           0.8,
           "Computer Vision"
          ],
          [
           0.8,
           "Computer Vision"
          ],
          [
           0.8,
           "Computer Vision"
          ],
          [
           0.8,
           "Computer Vision"
          ],
          [
           0.8,
           "Computer Vision"
          ]
         ],
         "hovertemplate": "<b>%{hovertext}</b><br><br><extra></extra>",
         "hovertext": [
          "SQL",
          "Анализ данных",
          "Python",
          "Аналитическое мышление",
          "Английский",
          "Математическая статистика",
          "MS SQL",
          "PostgreSQL",
          "Математический анализ",
          "Hadoop",
          "Аналитические исследования",
          "Machine Learning",
          "Spark",
          "Linux",
          "Git",
          "Data Science",
          "PyTorch",
          "Scikit-learn",
          "Numpy",
          "Computer Vision",
          "Tensorflow",
          "Deep Learning",
          "Алгоритмы",
          "Нейронные сети",
          "C++",
          "OpenCV",
          "Линейная алгебра",
          "Jira",
          "ООП",
          "Matplotlib",
          "Deeplab",
          "Keras",
          "3D",
          "Qt",
          "GitHub",
          "синтетические данные"
         ],
         "legendgroup": "Computer Vision",
         "marker": {
          "color": "#3283FE",
          "line": {
           "color": "DarkSlateGrey",
           "width": 0.5
          },
          "opacity": 0.7,
          "size": [
           8.6,
           2.5999999999999965,
           15.8,
           1.9999999999999978,
           12.199999999999994,
           1.3999999999999988,
           1.9999999999999978,
           1.9999999999999978,
           1.3999999999999988,
           1.9999999999999978,
           0.8,
           9.199999999999998,
           1.3999999999999988,
           1.9999999999999978,
           4.399999999999993,
           3.1999999999999957,
           7.999999999999999,
           2.5999999999999965,
           1.3999999999999988,
           11.599999999999993,
           4.399999999999993,
           3.7999999999999945,
           3.7999999999999945,
           1.3999999999999988,
           3.1999999999999957,
           9.199999999999998,
           1.3999999999999988,
           1.3999999999999988,
           1.3999999999999988,
           0.8,
           0.8,
           0.8,
           0.8,
           0.8,
           0.8,
           0.8
          ],
          "sizemode": "area",
          "sizeref": 0.0395,
          "symbol": "circle"
         },
         "mode": "markers",
         "name": "Computer Vision",
         "orientation": "v",
         "showlegend": true,
         "type": "scatter",
         "x": [
          -1.9015582,
          2.992307,
          -7.059627,
          2.3750093,
          -7.738176,
          3.1730678,
          -5.5314364,
          -6.1000686,
          -6.565654,
          -5.4513583,
          3.7357502,
          -7.9384155,
          -5.3888226,
          -5.9254403,
          -8.594334,
          -7.8381276,
          -8.449671,
          -8.388615,
          -7.700296,
          -8.8785,
          -8.9210415,
          -8.597171,
          -9.340909,
          -8.52319,
          -8.601262,
          -9.624628,
          -9.451129,
          -8.321957,
          -9.164565,
          -8.952333,
          -9.358226,
          -7.9532256,
          -8.797972,
          -8.797972,
          -9.358226,
          -9.279539
         ],
         "xaxis": "x",
         "y": [
          -1.0125526,
          -0.48733655,
          4.8266582,
          -2.5353866,
          4.1878214,
          -0.05109836,
          -3.4655328,
          -3.4371636,
          4.3949304,
          0.31573728,
          -0.23277983,
          6.7439203,
          0.7331908,
          -3.990992,
          6.3212767,
          7.1273623,
          8.093156,
          6.9904013,
          6.2545247,
          8.49915,
          7.826223,
          7.8230824,
          7.4475603,
          6.882213,
          7.5059304,
          8.446747,
          8.195486,
          4.11291,
          7.0938563,
          7.383775,
          8.669,
          7.26682,
          9.131328,
          9.131328,
          8.669,
          9.081689
         ],
         "yaxis": "y"
        },
        {
         "customdata": [
          [
           5.7999999999999945,
           "NLP"
          ],
          [
           1.9538461538461527,
           "NLP"
          ],
          [
           15.8,
           "NLP"
          ],
          [
           10.800000000000004,
           "NLP"
          ],
          [
           1.1846153846153844,
           "NLP"
          ],
          [
           1.5692307692307685,
           "NLP"
          ],
          [
           1.5692307692307685,
           "NLP"
          ],
          [
           0.8,
           "NLP"
          ],
          [
           1.1846153846153844,
           "NLP"
          ],
          [
           1.1846153846153844,
           "NLP"
          ],
          [
           12.338461538461543,
           "NLP"
          ],
          [
           1.9538461538461527,
           "NLP"
          ],
          [
           1.5692307692307685,
           "NLP"
          ],
          [
           3.4923076923076897,
           "NLP"
          ],
          [
           1.1846153846153844,
           "NLP"
          ],
          [
           4.646153846153842,
           "NLP"
          ],
          [
           8.492307692307685,
           "NLP"
          ],
          [
           1.9538461538461527,
           "NLP"
          ],
          [
           9.261538461538455,
           "NLP"
          ],
          [
           1.5692307692307685,
           "NLP"
          ],
          [
           7.338461538461532,
           "NLP"
          ],
          [
           3.4923076923076897,
           "NLP"
          ],
          [
           3.1076923076923055,
           "NLP"
          ],
          [
           1.9538461538461527,
           "NLP"
          ],
          [
           2.3384615384615373,
           "NLP"
          ],
          [
           5.030769230769226,
           "NLP"
          ],
          [
           1.1846153846153844,
           "NLP"
          ],
          [
           1.1846153846153844,
           "NLP"
          ],
          [
           1.1846153846153844,
           "NLP"
          ],
          [
           1.5692307692307685,
           "NLP"
          ],
          [
           1.1846153846153844,
           "NLP"
          ],
          [
           1.1846153846153844,
           "NLP"
          ],
          [
           0.8,
           "NLP"
          ],
          [
           0.8,
           "NLP"
          ],
          [
           0.8,
           "NLP"
          ],
          [
           0.8,
           "NLP"
          ]
         ],
         "hovertemplate": "<b>%{hovertext}</b><br><br><extra></extra>",
         "hovertext": [
          "SQL",
          "Анализ данных",
          "Python",
          "Английский",
          "Математическая статистика",
          "MS SQL",
          "PostgreSQL",
          "MS PowerPoint",
          "Математический анализ",
          "Hadoop",
          "Machine Learning",
          "Linux",
          "Docker",
          "Git",
          "CI/CD",
          "Data Science",
          "PyTorch",
          "Scikit-learn",
          "NLP",
          "Numpy",
          "Computer Vision",
          "Tensorflow",
          "Deep Learning",
          "Алгоритмы",
          "C++",
          "OpenCV",
          "Линейная алгебра",
          "ООП",
          "Keras",
          "GPT",
          "Русский",
          "Scrum",
          "Разработка технических заданий",
          "Программирование 3D-графики",
          "Навыки презентации",
          "Transformer"
         ],
         "legendgroup": "NLP",
         "marker": {
          "color": "#1CBE4F",
          "line": {
           "color": "DarkSlateGrey",
           "width": 0.5
          },
          "opacity": 0.7,
          "size": [
           5.7999999999999945,
           1.9538461538461527,
           15.8,
           10.800000000000004,
           1.1846153846153844,
           1.5692307692307685,
           1.5692307692307685,
           0.8,
           1.1846153846153844,
           1.1846153846153844,
           12.338461538461543,
           1.9538461538461527,
           1.5692307692307685,
           3.4923076923076897,
           1.1846153846153844,
           4.646153846153842,
           8.492307692307685,
           1.9538461538461527,
           9.261538461538455,
           1.5692307692307685,
           7.338461538461532,
           3.4923076923076897,
           3.1076923076923055,
           1.9538461538461527,
           2.3384615384615373,
           5.030769230769226,
           1.1846153846153844,
           1.1846153846153844,
           1.1846153846153844,
           1.5692307692307685,
           1.1846153846153844,
           1.1846153846153844,
           0.8,
           0.8,
           0.8,
           0.8
          ],
          "sizemode": "area",
          "sizeref": 0.0395,
          "symbol": "circle"
         },
         "mode": "markers",
         "name": "NLP",
         "orientation": "v",
         "showlegend": true,
         "type": "scatter",
         "x": [
          -1.9015582,
          2.992307,
          -7.059627,
          -7.738176,
          3.1730678,
          -5.5314364,
          -6.1000686,
          2.215806,
          -6.565654,
          -5.4513583,
          -7.9384155,
          -5.9254403,
          -6.314046,
          -8.594334,
          -6.0794253,
          -7.8381276,
          -8.449671,
          -8.388615,
          -7.682028,
          -7.700296,
          -8.8785,
          -8.9210415,
          -8.597171,
          -9.340909,
          -8.601262,
          -9.624628,
          -9.451129,
          -9.164565,
          -7.9532256,
          -7.6008124,
          -7.077487,
          0.3222378,
          3.6831558,
          -8.686151,
          -8.297784,
          -7.4890103
         ],
         "xaxis": "x",
         "y": [
          -1.0125526,
          -0.48733655,
          4.8266582,
          4.1878214,
          -0.05109836,
          -3.4655328,
          -3.4371636,
          -2.3870094,
          4.3949304,
          0.31573728,
          6.7439203,
          -3.990992,
          0.5481362,
          6.3212767,
          0.20929225,
          7.1273623,
          8.093156,
          6.9904013,
          8.571319,
          6.2545247,
          8.49915,
          7.826223,
          7.8230824,
          7.4475603,
          7.5059304,
          8.446747,
          8.195486,
          7.0938563,
          7.26682,
          8.739979,
          8.215585,
          -4.3942747,
          -7.255935,
          8.81585,
          4.4598627,
          8.2404
         ],
         "yaxis": "y"
        },
        {
         "customdata": [
          [
           15.713544668587895,
           "Инженер данных"
          ],
          [
           1.6213256484149887,
           "Инженер данных"
          ],
          [
           15.8,
           "Инженер данных"
          ],
          [
           0.9729106628242046,
           "Инженер данных"
          ],
          [
           5.3821325648415055,
           "Инженер данных"
          ],
          [
           1.3187319884726307,
           "Инженер данных"
          ],
          [
           4.6904899135446705,
           "Инженер данных"
          ],
          [
           6.981556195965414,
           "Инженер данных"
          ],
          [
           3.134293948126812,
           "Инженер данных"
          ],
          [
           6.722190201729107,
           "Инженер данных"
          ],
          [
           1.1458213256484262,
           "Инженер данных"
          ],
          [
           1.7510086455331422,
           "Инженер данных"
          ],
          [
           7.586743515850147,
           "Инженер данных"
          ],
          [
           1.8374639769452445,
           "Инженер данных"
          ],
          [
           9.44553314121038,
           "Инженер данных"
          ],
          [
           3.8691642651296814,
           "Инженер данных"
          ],
          [
           6.246685878962545,
           "Инженер данных"
          ],
          [
           4.6904899135446705,
           "Инженер данных"
          ],
          [
           4.171757925072057,
           "Инженер данных"
          ],
          [
           3.566570605187324,
           "Инженер данных"
          ],
          [
           2.874927953890489,
           "Инженер данных"
          ],
          [
           2.874927953890489,
           "Инженер данных"
          ],
          [
           2.356195965417875,
           "Инженер данных"
          ],
          [
           2.312968299711824,
           "Инженер данных"
          ],
          [
           2.312968299711824,
           "Инженер данных"
          ],
          [
           2.096829971181568,
           "Инженер данных"
          ],
          [
           2.053602305475517,
           "Инженер данных"
          ],
          [
           1.6213256484149887,
           "Инженер данных"
          ],
          [
           1.4916426512968353,
           "Инженер данных"
          ],
          [
           1.405187319884733,
           "Инженер данных"
          ],
          [
           1.3619596541786818,
           "Инженер данных"
          ],
          [
           1.0593659942363238,
           "Инженер данных"
          ],
          [
           0.8432276657060511,
           "Инженер данных"
          ],
          [
           0.8432276657060511,
           "Инженер данных"
          ],
          [
           0.8,
           "Инженер данных"
          ],
          [
           0.8,
           "Инженер данных"
          ]
         ],
         "hovertemplate": "<b>%{hovertext}</b><br><br><extra></extra>",
         "hovertext": [
          "SQL",
          "Анализ данных",
          "Python",
          "Аналитическое мышление",
          "Английский",
          "Power BI",
          "Работа с большим объемом информации",
          "Базы данных",
          "MS SQL",
          "PostgreSQL",
          "BI",
          "Работа с базами данных",
          "Hadoop",
          "Machine Learning",
          "ETL",
          "ClickHouse",
          "Spark",
          "DWH",
          "Airflow",
          "Linux",
          "Docker",
          "Kafka",
          "Git",
          "Java",
          "SCALA",
          "Greenplum",
          "ORACLE",
          "Hive",
          "Kubernetes",
          "Хранилище данных",
          "CI/CD",
          "NoSQL",
          "Bash",
          "Data Science",
          "NiFi",
          "Oracle Pl/SQL"
         ],
         "legendgroup": "Инженер данных",
         "marker": {
          "color": "#C4451C",
          "line": {
           "color": "DarkSlateGrey",
           "width": 0.5
          },
          "opacity": 0.7,
          "size": [
           15.713544668587895,
           1.6213256484149887,
           15.8,
           0.9729106628242046,
           5.3821325648415055,
           1.3187319884726307,
           4.6904899135446705,
           6.981556195965414,
           3.134293948126812,
           6.722190201729107,
           1.1458213256484262,
           1.7510086455331422,
           7.586743515850147,
           1.8374639769452445,
           9.44553314121038,
           3.8691642651296814,
           6.246685878962545,
           4.6904899135446705,
           4.171757925072057,
           3.566570605187324,
           2.874927953890489,
           2.874927953890489,
           2.356195965417875,
           2.312968299711824,
           2.312968299711824,
           2.096829971181568,
           2.053602305475517,
           1.6213256484149887,
           1.4916426512968353,
           1.405187319884733,
           1.3619596541786818,
           1.0593659942363238,
           0.8432276657060511,
           0.8432276657060511,
           0.8,
           0.8
          ],
          "sizemode": "area",
          "sizeref": 0.0395,
          "symbol": "circle"
         },
         "mode": "markers",
         "name": "Инженер данных",
         "orientation": "v",
         "showlegend": true,
         "type": "scatter",
         "x": [
          -1.9015582,
          2.992307,
          -7.059627,
          2.3750093,
          -7.738176,
          1.9207754,
          -2.0643375,
          -6.452937,
          -5.5314364,
          -6.1000686,
          0.9357036,
          -5.481136,
          -5.4513583,
          -7.9384155,
          -4.681412,
          -5.0341144,
          -5.3888226,
          -4.174119,
          -4.736818,
          -5.9254403,
          -6.314046,
          -5.3096476,
          -8.594334,
          -5.980641,
          -4.499589,
          -4.461493,
          -6.4734817,
          -5.406886,
          -5.292282,
          -4.938723,
          -6.0794253,
          -5.8774147,
          -5.931741,
          -7.8381276,
          -4.656071,
          -5.221384
         ],
         "xaxis": "x",
         "y": [
          -1.0125526,
          -0.48733655,
          4.8266582,
          -2.5353866,
          4.1878214,
          -0.64606833,
          -0.9565579,
          -3.5613413,
          -3.4655328,
          -3.4371636,
          -0.42512548,
          -3.360685,
          0.31573728,
          6.7439203,
          0.31795093,
          -0.81335855,
          0.7331908,
          0.25380117,
          0.763916,
          -3.990992,
          0.5481362,
          -0.4659885,
          6.3212767,
          0.5143446,
          0.95519704,
          -0.08968138,
          -3.3832765,
          0.5791216,
          0.8758866,
          1.0313246,
          0.20929225,
          -0.5393175,
          -4.18999,
          7.1273623,
          1.0733242,
          -1.7621993
         ],
         "yaxis": "y"
        },
        {
         "customdata": [
          [
           15.8,
           "Big Data"
          ],
          [
           2.72982456140351,
           "Big Data"
          ],
          [
           9.659649122807025,
           "Big Data"
          ],
          [
           2.3789473684210614,
           "Big Data"
          ],
          [
           3.4315789473684237,
           "Big Data"
          ],
          [
           1.501754385964914,
           "Big Data"
          ],
          [
           1.150877192982466,
           "Big Data"
          ],
          [
           7.7298245614035155,
           "Big Data"
          ],
          [
           4.484210526315804,
           "Big Data"
          ],
          [
           2.72982456140351,
           "Big Data"
          ],
          [
           4.396491228070178,
           "Big Data"
          ],
          [
           1.7649122807017548,
           "Big Data"
          ],
          [
           2.8175438596491347,
           "Big Data"
          ],
          [
           6.23859649122808,
           "Big Data"
          ],
          [
           1.2385964912280736,
           "Big Data"
          ],
          [
           7.817543859649123,
           "Big Data"
          ],
          [
           0.8877192982456255,
           "Big Data"
          ],
          [
           1.5894736842105395,
           "Big Data"
          ],
          [
           1.150877192982466,
           "Big Data"
          ],
          [
           4.396491228070178,
           "Big Data"
          ],
          [
           7.378947368421049,
           "Big Data"
          ],
          [
           1.9403508771929876,
           "Big Data"
          ],
          [
           2.2912280701754533,
           "Big Data"
          ],
          [
           1.5894736842105395,
           "Big Data"
          ],
          [
           1.6771929824561473,
           "Big Data"
          ],
          [
           1.0631578947368583,
           "Big Data"
          ],
          [
           1.2385964912280736,
           "Big Data"
          ],
          [
           1.4140350877193066,
           "Big Data"
          ],
          [
           1.501754385964914,
           "Big Data"
          ],
          [
           2.2035087719298283,
           "Big Data"
          ],
          [
           1.4140350877193066,
           "Big Data"
          ],
          [
           0.8,
           "Big Data"
          ],
          [
           1.0631578947368583,
           "Big Data"
          ],
          [
           2.0280701754385952,
           "Big Data"
          ],
          [
           1.0631578947368583,
           "Big Data"
          ],
          [
           0.8,
           "Big Data"
          ]
         ],
         "hovertemplate": "<b>%{hovertext}</b><br><br><extra></extra>",
         "hovertext": [
          "SQL",
          "Анализ данных",
          "Python",
          "Аналитическое мышление",
          "Английский",
          "Power BI",
          "Математическая статистика",
          "Работа с большим объемом информации",
          "Базы данных",
          "MS SQL",
          "PostgreSQL",
          "Tableau",
          "BI",
          "Hadoop",
          "Machine Learning",
          "ETL",
          "Бизнес-анализ",
          "Деловая коммуникация",
          "ClickHouse",
          "Spark",
          "DWH",
          "Airflow",
          "Linux",
          "Docker",
          "Kafka",
          "Git",
          "Java",
          "SCALA",
          "Greenplum",
          "ORACLE",
          "Hive",
          "Kubernetes",
          "CI/CD",
          "Системный анализ",
          "Управление проектами",
          "Agile"
         ],
         "legendgroup": "Big Data",
         "marker": {
          "color": "#F6222E",
          "line": {
           "color": "DarkSlateGrey",
           "width": 0.5
          },
          "opacity": 0.7,
          "size": [
           15.8,
           2.72982456140351,
           9.659649122807025,
           2.3789473684210614,
           3.4315789473684237,
           1.501754385964914,
           1.150877192982466,
           7.7298245614035155,
           4.484210526315804,
           2.72982456140351,
           4.396491228070178,
           1.7649122807017548,
           2.8175438596491347,
           6.23859649122808,
           1.2385964912280736,
           7.817543859649123,
           0.8877192982456255,
           1.5894736842105395,
           1.150877192982466,
           4.396491228070178,
           7.378947368421049,
           1.9403508771929876,
           2.2912280701754533,
           1.5894736842105395,
           1.6771929824561473,
           1.0631578947368583,
           1.2385964912280736,
           1.4140350877193066,
           1.501754385964914,
           2.2035087719298283,
           1.4140350877193066,
           0.8,
           1.0631578947368583,
           2.0280701754385952,
           1.0631578947368583,
           0.8
          ],
          "sizemode": "area",
          "sizeref": 0.0395,
          "symbol": "circle"
         },
         "mode": "markers",
         "name": "Big Data",
         "orientation": "v",
         "showlegend": true,
         "type": "scatter",
         "x": [
          -1.9015582,
          2.992307,
          -7.059627,
          2.3750093,
          -7.738176,
          1.9207754,
          3.1730678,
          -2.0643375,
          -6.452937,
          -5.5314364,
          -6.1000686,
          1.9390707,
          0.9357036,
          -5.4513583,
          -7.9384155,
          -4.681412,
          2.7587852,
          2.459547,
          -5.0341144,
          -5.3888226,
          -4.174119,
          -4.736818,
          -5.9254403,
          -6.314046,
          -5.3096476,
          -8.594334,
          -5.980641,
          -4.499589,
          -4.461493,
          -6.4734817,
          -5.406886,
          -5.292282,
          -6.0794253,
          4.578725,
          2.937884,
          4.0119243
         ],
         "xaxis": "x",
         "y": [
          -1.0125526,
          -0.48733655,
          4.8266582,
          -2.5353866,
          4.1878214,
          -0.64606833,
          -0.05109836,
          -0.9565579,
          -3.5613413,
          -3.4655328,
          -3.4371636,
          -0.11066767,
          -0.42512548,
          0.31573728,
          6.7439203,
          0.31795093,
          -6.578157,
          -4.720073,
          -0.81335855,
          0.7331908,
          0.25380117,
          0.763916,
          -3.990992,
          0.5481362,
          -0.4659885,
          6.3212767,
          0.5143446,
          0.95519704,
          -0.08968138,
          -3.3832765,
          0.5791216,
          0.8758866,
          0.20929225,
          -8.047886,
          -5.488286,
          -6.3922977
         ],
         "yaxis": "y"
        },
        {
         "customdata": [
          [
           5.26969696969697,
           "Администратор баз данных"
          ],
          [
           1.481818181818186,
           "Администратор баз данных"
          ],
          [
           0.8,
           "Администратор баз данных"
          ],
          [
           3.6030303030302973,
           "Администратор баз данных"
          ],
          [
           0.9515151515151556,
           "Администратор баз данных"
          ],
          [
           15.8,
           "Администратор баз данных"
          ],
          [
           8.37575757575758,
           "Администратор баз данных"
          ],
          [
           10.4969696969697,
           "Администратор баз данных"
          ],
          [
           3.8303030303030257,
           "Администратор баз данных"
          ],
          [
           1.0272727272727287,
           "Администратор баз данных"
          ],
          [
           0.8,
           "Администратор баз данных"
          ],
          [
           1.481818181818186,
           "Администратор баз данных"
          ],
          [
           0.9515151515151556,
           "Администратор баз данных"
          ],
          [
           6.33030303030303,
           "Администратор баз данных"
          ],
          [
           1.0272727272727287,
           "Администратор баз данных"
          ],
          [
           1.1787878787878747,
           "Администратор баз данных"
          ],
          [
           0.8,
           "Администратор баз данных"
          ],
          [
           4.436363636363638,
           "Администратор баз данных"
          ],
          [
           1.7848484848484873,
           "Администратор баз данных"
          ],
          [
           0.9515151515151556,
           "Администратор баз данных"
          ],
          [
           3.527272727272724,
           "Администратор баз данных"
          ],
          [
           2.618181818181819,
           "Администратор баз данных"
          ],
          [
           2.239393939393935,
           "Администратор баз данных"
          ],
          [
           1.7848484848484873,
           "Администратор баз данных"
          ],
          [
           1.557575757575759,
           "Администратор баз данных"
          ],
          [
           1.2545454545454573,
           "Администратор баз данных"
          ],
          [
           1.1787878787878747,
           "Администратор баз данных"
          ],
          [
           1.1030303030303017,
           "Администратор баз данных"
          ],
          [
           1.0272727272727287,
           "Администратор баз данных"
          ],
          [
           0.9515151515151556,
           "Администратор баз данных"
          ],
          [
           0.8757575757575731,
           "Администратор баз данных"
          ],
          [
           0.8757575757575731,
           "Администратор баз данных"
          ],
          [
           0.8757575757575731,
           "Администратор баз данных"
          ],
          [
           0.8,
           "Администратор баз данных"
          ],
          [
           0.8,
           "Администратор баз данных"
          ],
          [
           0.8,
           "Администратор баз данных"
          ]
         ],
         "hovertemplate": "<b>%{hovertext}</b><br><br><extra></extra>",
         "hovertext": [
          "SQL",
          "Python",
          "Аналитическое мышление",
          "Английский",
          "Работа с большим объемом информации",
          "Базы данных",
          "MS SQL",
          "PostgreSQL",
          "Работа с базами данных",
          "Деловая коммуникация",
          "Работа в команде",
          "ClickHouse",
          "Работа в условиях многозадачности",
          "Linux",
          "Docker",
          "Kafka",
          "Git",
          "ORACLE",
          "Bash",
          "Oracle Pl/SQL",
          "Администрирование",
          "1С: Предприятие 8",
          "MySQL",
          "Zabbix",
          "Unix",
          "MongoDB",
          "Пользователь ПК",
          "Grafana",
          "Ansible",
          "Оптимизация запросов",
          "MS Access",
          "Администрирование серверов",
          "Prometheus",
          "Высшее образование",
          "Информационные технологии",
          "TCP/IP"
         ],
         "legendgroup": "Администратор баз данных",
         "marker": {
          "color": "#FE00FA",
          "line": {
           "color": "DarkSlateGrey",
           "width": 0.5
          },
          "opacity": 0.7,
          "size": [
           5.26969696969697,
           1.481818181818186,
           0.8,
           3.6030303030302973,
           0.9515151515151556,
           15.8,
           8.37575757575758,
           10.4969696969697,
           3.8303030303030257,
           1.0272727272727287,
           0.8,
           1.481818181818186,
           0.9515151515151556,
           6.33030303030303,
           1.0272727272727287,
           1.1787878787878747,
           0.8,
           4.436363636363638,
           1.7848484848484873,
           0.9515151515151556,
           3.527272727272724,
           2.618181818181819,
           2.239393939393935,
           1.7848484848484873,
           1.557575757575759,
           1.2545454545454573,
           1.1787878787878747,
           1.1030303030303017,
           1.0272727272727287,
           0.9515151515151556,
           0.8757575757575731,
           0.8757575757575731,
           0.8757575757575731,
           0.8,
           0.8,
           0.8
          ],
          "sizemode": "area",
          "sizeref": 0.0395,
          "symbol": "circle"
         },
         "mode": "markers",
         "name": "Администратор баз данных",
         "orientation": "v",
         "showlegend": true,
         "type": "scatter",
         "x": [
          -1.9015582,
          -7.059627,
          2.3750093,
          -7.738176,
          -2.0643375,
          -6.452937,
          -5.5314364,
          -6.1000686,
          -5.481136,
          2.459547,
          2.6694598,
          -5.0341144,
          1.9015218,
          -5.9254403,
          -6.314046,
          -5.3096476,
          -8.594334,
          -6.4734817,
          -5.931741,
          -5.221384,
          -7.592748,
          2.3660343,
          -6.6520257,
          -7.131835,
          -7.3288145,
          -6.1466284,
          -2.7195024,
          -5.820248,
          -6.328727,
          -7.4059877,
          -2.4815054,
          -7.2277017,
          -6.9375863,
          -8.509686,
          -4.4700794,
          -7.462769
         ],
         "xaxis": "x",
         "y": [
          -1.0125526,
          4.8266582,
          -2.5353866,
          4.1878214,
          -0.9565579,
          -3.5613413,
          -3.4655328,
          -3.4371636,
          -3.360685,
          -4.720073,
          -4.3682303,
          -0.81335855,
          -3.8328404,
          -3.990992,
          0.5481362,
          -0.4659885,
          6.3212767,
          -3.3832765,
          -4.18999,
          -1.7621993,
          -4.458631,
          -5.792941,
          -3.9635072,
          -4.427093,
          -4.136427,
          -4.231077,
          -3.2364213,
          -2.8756382,
          -2.9685884,
          -4.1506004,
          -3.237204,
          -4.455,
          -3.3053622,
          4.0882053,
          -3.0536487,
          -3.8612413
         ],
         "yaxis": "y"
        },
        {
         "customdata": [
          [
           15.8,
           "Аналитик данных"
          ],
          [
           12.500767263427116,
           "Аналитик данных"
          ],
          [
           12.38567774936062,
           "Аналитик данных"
          ],
          [
           8.626086956521737,
           "Аналитик данных"
          ],
          [
           6.132480818414329,
           "Аналитик данных"
          ],
          [
           5.979028132992326,
           "Аналитик данных"
          ],
          [
           4.789769820971871,
           "Аналитик данных"
          ],
          [
           4.713043478260869,
           "Аналитик данных"
          ],
          [
           4.291048593350382,
           "Аналитик данных"
          ],
          [
           3.293606138107423,
           "Аналитик данных"
          ],
          [
           3.1401534526854356,
           "Аналитик данных"
          ],
          [
           2.3345268542199564,
           "Аналитик данных"
          ],
          [
           2.181074168797969,
           "Аналитик данных"
          ],
          [
           1.8741687979539776,
           "Аналитик данных"
          ],
          [
           1.7974424552429755,
           "Аналитик данных"
          ],
          [
           1.759079283887483,
           "Аналитик данных"
          ],
          [
           1.643989769820972,
           "Аналитик данных"
          ],
          [
           1.6056265984654794,
           "Аналитик данных"
          ],
          [
           1.4138107416879826,
           "Аналитик данных"
          ],
          [
           1.37544757033249,
           "Аналитик данных"
          ],
          [
           1.37544757033249,
           "Аналитик данных"
          ],
          [
           1.337084398976997,
           "Аналитик данных"
          ],
          [
           1.298721227621488,
           "Аналитик данных"
          ],
          [
           1.260358056265995,
           "Аналитик данных"
          ],
          [
           1.1069053708439913,
           "Аналитик данных"
          ],
          [
           1.0685421994884985,
           "Аналитик данных"
          ],
          [
           1.0685421994884985,
           "Аналитик данных"
          ],
          [
           1.0301790281330057,
           "Аналитик данных"
          ],
          [
           0.9534526854220038,
           "Аналитик данных"
          ],
          [
           0.9534526854220038,
           "Аналитик данных"
          ],
          [
           0.9150895140665107,
           "Аналитик данных"
          ],
          [
           0.9150895140665107,
           "Аналитик данных"
          ],
          [
           0.9150895140665107,
           "Аналитик данных"
          ],
          [
           0.8767263427110019,
           "Аналитик данных"
          ],
          [
           0.8,
           "Аналитик данных"
          ],
          [
           0.8,
           "Аналитик данных"
          ]
         ],
         "hovertemplate": "<b>%{hovertext}</b><br><br><extra></extra>",
         "hovertext": [
          "SQL",
          "Анализ данных",
          "Python",
          "Аналитическое мышление",
          "Английский",
          "Power BI",
          "MS Excel",
          "Математическая статистика",
          "Работа с большим объемом информации",
          "Базы данных",
          "MS SQL",
          "PostgreSQL",
          "Tableau",
          "BI",
          "MS PowerPoint",
          "Математический анализ",
          "Анализ рынка",
          "Работа с базами данных",
          "Hadoop",
          "Аналитические исследования",
          "Machine Learning",
          "ETL",
          "A/B тесты",
          "Визуализация данных",
          "Моделирование бизнес процессов",
          "Pandas",
          "Бизнес-анализ",
          "Деловая коммуникация",
          "Работа в команде",
          "ClickHouse",
          "Сбор и анализ информации",
          "Маркетинговые исследования",
          "Грамотная речь",
          "Работа в условиях многозадачности",
          "Google таблицы",
          "Spark"
         ],
         "legendgroup": "Аналитик данных",
         "marker": {
          "color": "#325A9B",
          "line": {
           "color": "DarkSlateGrey",
           "width": 0.5
          },
          "opacity": 0.7,
          "size": [
           15.8,
           12.500767263427116,
           12.38567774936062,
           8.626086956521737,
           6.132480818414329,
           5.979028132992326,
           4.789769820971871,
           4.713043478260869,
           4.291048593350382,
           3.293606138107423,
           3.1401534526854356,
           2.3345268542199564,
           2.181074168797969,
           1.8741687979539776,
           1.7974424552429755,
           1.759079283887483,
           1.643989769820972,
           1.6056265984654794,
           1.4138107416879826,
           1.37544757033249,
           1.37544757033249,
           1.337084398976997,
           1.298721227621488,
           1.260358056265995,
           1.1069053708439913,
           1.0685421994884985,
           1.0685421994884985,
           1.0301790281330057,
           0.9534526854220038,
           0.9534526854220038,
           0.9150895140665107,
           0.9150895140665107,
           0.9150895140665107,
           0.8767263427110019,
           0.8,
           0.8
          ],
          "sizemode": "area",
          "sizeref": 0.0395,
          "symbol": "circle"
         },
         "mode": "markers",
         "name": "Аналитик данных",
         "orientation": "v",
         "showlegend": true,
         "type": "scatter",
         "x": [
          -1.9015582,
          2.992307,
          -7.059627,
          2.3750093,
          -7.738176,
          1.9207754,
          2.7709851,
          3.1730678,
          -2.0643375,
          -6.452937,
          -5.5314364,
          -6.1000686,
          1.9390707,
          0.9357036,
          2.215806,
          -6.565654,
          3.4741106,
          -5.481136,
          -5.4513583,
          3.7357502,
          -7.9384155,
          -4.681412,
          4.788628,
          1.726175,
          2.578041,
          -5.8623123,
          2.7587852,
          2.459547,
          2.6694598,
          -5.0341144,
          2.8895845,
          3.6461155,
          2.7797341,
          1.9015218,
          2.7604034,
          -5.3888226
         ],
         "xaxis": "x",
         "y": [
          -1.0125526,
          -0.48733655,
          4.8266582,
          -2.5353866,
          4.1878214,
          -0.64606833,
          -2.2328215,
          -0.05109836,
          -0.9565579,
          -3.5613413,
          -3.4655328,
          -3.4371636,
          -0.11066767,
          -0.42512548,
          -2.3870094,
          4.3949304,
          -1.8619812,
          -3.360685,
          0.31573728,
          -0.23277983,
          6.7439203,
          0.31795093,
          1.0735217,
          -0.38920763,
          -6.6905527,
          3.662952,
          -6.578157,
          -4.720073,
          -4.3682303,
          -0.81335855,
          -3.2050264,
          -1.6193123,
          -3.4986496,
          -3.8328404,
          -2.1515727,
          0.7331908
         ],
         "yaxis": "y"
        },
        {
         "customdata": [
          [
           12.838834951456304,
           "Аналитик"
          ],
          [
           10.79999999999999,
           "Аналитик"
          ],
          [
           7.134951456310671,
           "Аналитик"
          ],
          [
           15.8,
           "Аналитик"
          ],
          [
           11.79514563106796,
           "Аналитик"
          ],
          [
           4.829126213592227,
           "Аналитик"
          ],
          [
           8.688349514563109,
           "Аналитик"
          ],
          [
           4.14951456310679,
           "Аналитик"
          ],
          [
           6.528155339805824,
           "Аналитик"
          ],
          [
           2.6689320388349422,
           "Аналитик"
          ],
          [
           2.887378640776692,
           "Аналитик"
          ],
          [
           0.872815533980593,
           "Аналитик"
          ],
          [
           1.3825242718446575,
           "Аналитик"
          ],
          [
           4.562135922330102,
           "Аналитик"
          ],
          [
           0.9456310679611573,
           "Аналитик"
          ],
          [
           8.979611650485424,
           "Аналитик"
          ],
          [
           1.6495145631067838,
           "Аналитик"
          ],
          [
           2.377669902912628,
           "Аналитик"
          ],
          [
           3.833980582524286,
           "Аналитик"
          ],
          [
           2.9601941747572855,
           "Аналитик"
          ],
          [
           2.499029126213597,
           "Аналитик"
          ],
          [
           1.4310679611650623,
           "Аналитик"
          ],
          [
           1.3582524271844694,
           "Аналитик"
          ],
          [
           1.6495145631067838,
           "Аналитик"
          ],
          [
           2.207766990291254,
           "Аналитик"
          ],
          [
           2.0621359223300963,
           "Аналитик"
          ],
          [
           0.8970873786407811,
           "Аналитик"
          ],
          [
           7.134951456310671,
           "Аналитик"
          ],
          [
           1.3097087378640935,
           "Аналитик"
          ],
          [
           1.2611650485436885,
           "Аналитик"
          ],
          [
           0.824271844660188,
           "Аналитик"
          ],
          [
           1.3582524271844694,
           "Аналитик"
          ],
          [
           3.227184466019412,
           "Аналитик"
          ],
          [
           1.2854368932038767,
           "Аналитик"
          ],
          [
           0.9699029126213741,
           "Аналитик"
          ],
          [
           0.8,
           "Аналитик"
          ]
         ],
         "hovertemplate": "<b>%{hovertext}</b><br><br><extra></extra>",
         "hovertext": [
          "SQL",
          "Анализ данных",
          "Python",
          "Аналитическое мышление",
          "Английский",
          "Power BI",
          "MS Excel",
          "Математическая статистика",
          "Работа с большим объемом информации",
          "Базы данных",
          "MS SQL",
          "Tableau",
          "BI",
          "MS PowerPoint",
          "Математический анализ",
          "Анализ рынка",
          "Работа с базами данных",
          "Аналитические исследования",
          "Моделирование бизнес процессов",
          "Бизнес-анализ",
          "Деловая коммуникация",
          "Работа в команде",
          "Сбор и анализ информации",
          "Маркетинговые исследования",
          "Грамотная речь",
          "Работа в условиях многозадачности",
          "Конкурентная аналитика",
          "1С: Предприятие 8",
          "Пользователь ПК",
          "Подготовка презентаций",
          "Системный анализ",
          "Разработка технических заданий",
          "Финансовый анализ",
          "Прогнозирование",
          "Бюджетирование",
          "BPMN"
         ],
         "legendgroup": "Аналитик",
         "marker": {
          "color": "#FEAF16",
          "line": {
           "color": "DarkSlateGrey",
           "width": 0.5
          },
          "opacity": 0.7,
          "size": [
           12.838834951456304,
           10.79999999999999,
           7.134951456310671,
           15.8,
           11.79514563106796,
           4.829126213592227,
           8.688349514563109,
           4.14951456310679,
           6.528155339805824,
           2.6689320388349422,
           2.887378640776692,
           0.872815533980593,
           1.3825242718446575,
           4.562135922330102,
           0.9456310679611573,
           8.979611650485424,
           1.6495145631067838,
           2.377669902912628,
           3.833980582524286,
           2.9601941747572855,
           2.499029126213597,
           1.4310679611650623,
           1.3582524271844694,
           1.6495145631067838,
           2.207766990291254,
           2.0621359223300963,
           0.8970873786407811,
           7.134951456310671,
           1.3097087378640935,
           1.2611650485436885,
           0.824271844660188,
           1.3582524271844694,
           3.227184466019412,
           1.2854368932038767,
           0.9699029126213741,
           0.8
          ],
          "sizemode": "area",
          "sizeref": 0.0395,
          "symbol": "circle"
         },
         "mode": "markers",
         "name": "Аналитик",
         "orientation": "v",
         "showlegend": true,
         "type": "scatter",
         "x": [
          -1.9015582,
          2.992307,
          -7.059627,
          2.3750093,
          -7.738176,
          1.9207754,
          2.7709851,
          3.1730678,
          -2.0643375,
          -6.452937,
          -5.5314364,
          1.9390707,
          0.9357036,
          2.215806,
          -6.565654,
          3.4741106,
          -5.481136,
          3.7357502,
          2.578041,
          2.7587852,
          2.459547,
          2.6694598,
          2.8895845,
          3.6461155,
          2.7797341,
          1.9015218,
          4.5100083,
          2.3660343,
          -2.7195024,
          1.818693,
          4.578725,
          3.6831558,
          4.06381,
          3.2054582,
          4.0621614,
          3.4208498
         ],
         "xaxis": "x",
         "y": [
          -1.0125526,
          -0.48733655,
          4.8266582,
          -2.5353866,
          4.1878214,
          -0.64606833,
          -2.2328215,
          -0.05109836,
          -0.9565579,
          -3.5613413,
          -3.4655328,
          -0.11066767,
          -0.42512548,
          -2.3870094,
          4.3949304,
          -1.8619812,
          -3.360685,
          -0.23277983,
          -6.6905527,
          -6.578157,
          -4.720073,
          -4.3682303,
          -3.2050264,
          -1.6193123,
          -3.4986496,
          -3.8328404,
          -0.22827996,
          -5.792941,
          -3.2364213,
          -2.65611,
          -8.047886,
          -7.255935,
          -2.3585684,
          -2.0011947,
          -2.597372,
          -7.9579825
         ],
         "yaxis": "y"
        },
        {
         "customdata": [
          [
           5.963316582914571,
           "Бизнес-аналитик"
          ],
          [
           2.7597989949748785,
           "Бизнес-аналитик"
          ],
          [
           0.8753768844221168,
           "Бизнес-аналитик"
          ],
          [
           11.767336683417092,
           "Бизнес-аналитик"
          ],
          [
           8.262311557788953,
           "Бизнес-аналитик"
          ],
          [
           1.4407035175879477,
           "Бизнес-аналитик"
          ],
          [
           3.5135678391959786,
           "Бизнес-аналитик"
          ],
          [
           1.8175879396985093,
           "Бизнес-аналитик"
          ],
          [
           0.8753768844221168,
           "Бизнес-аналитик"
          ],
          [
           1.9306532663316613,
           "Бизнес-аналитик"
          ],
          [
           1.063819095477386,
           "Бизнес-аналитик"
          ],
          [
           13.802512562814087,
           "Бизнес-аналитик"
          ],
          [
           15.8,
           "Бизнес-аналитик"
          ],
          [
           5.284924623115587,
           "Бизнес-аналитик"
          ],
          [
           2.0060301507537783,
           "Бизнес-аналитик"
          ],
          [
           1.2145728643216196,
           "Бизнес-аналитик"
          ],
          [
           1.3276381909547723,
           "Бизнес-аналитик"
          ],
          [
           1.4783919597990063,
           "Бизнес-аналитик"
          ],
          [
           9.392964824120615,
           "Бизнес-аналитик"
          ],
          [
           4.380402010050253,
           "Бизнес-аналитик"
          ],
          [
           1.553768844221123,
           "Бизнес-аналитик"
          ],
          [
           1.96834170854272,
           "Бизнес-аналитик"
          ],
          [
           5.360301507537706,
           "Бизнес-аналитик"
          ],
          [
           9.69447236180906,
           "Бизнес-аналитик"
          ],
          [
           3.287437185929651,
           "Бизнес-аналитик"
          ],
          [
           1.704522613065334,
           "Бизнес-аналитик"
          ],
          [
           1.7422110552763925,
           "Бизнес-аналитик"
          ],
          [
           2.0060301507537783,
           "Бизнес-аналитик"
          ],
          [
           2.1567839195979897,
           "Бизнес-аналитик"
          ],
          [
           3.4005025125628263,
           "Бизнес-аналитик"
          ],
          [
           0.8376884422110584,
           "Бизнес-аналитик"
          ],
          [
           0.8,
           "Бизнес-аналитик"
          ],
          [
           1.1768844221105614,
           "Бизнес-аналитик"
          ],
          [
           1.704522613065334,
           "Бизнес-аналитик"
          ],
          [
           0.9130653266331753,
           "Бизнес-аналитик"
          ],
          [
           0.8,
           "Бизнес-аналитик"
          ]
         ],
         "hovertemplate": "<b>%{hovertext}</b><br><br><extra></extra>",
         "hovertext": [
          "SQL",
          "Анализ данных",
          "Python",
          "Аналитическое мышление",
          "Английский",
          "Power BI",
          "MS Excel",
          "Работа с большим объемом информации",
          "MS SQL",
          "MS PowerPoint",
          "Анализ рынка",
          "Моделирование бизнес процессов",
          "Бизнес-анализ",
          "Деловая коммуникация",
          "Работа в команде",
          "Сбор и анализ информации",
          "Грамотная речь",
          "Работа в условиях многозадачности",
          "1С: Предприятие 8",
          "UML",
          "Atlassian Confluence",
          "Системный анализ",
          "Разработка технических заданий",
          "BPMN",
          "Управление проектами",
          "Agile",
          "Постановка задач разработчикам",
          "Atlassian Jira",
          "Системное мышление",
          "MS Visio",
          "Техническая документация",
          "ERP",
          "IDEF",
          "Автоматизация процессов",
          "EPC",
          "CRM"
         ],
         "legendgroup": "Бизнес-аналитик",
         "marker": {
          "color": "#90AD1C",
          "line": {
           "color": "DarkSlateGrey",
           "width": 0.5
          },
          "opacity": 0.7,
          "size": [
           5.963316582914571,
           2.7597989949748785,
           0.8753768844221168,
           11.767336683417092,
           8.262311557788953,
           1.4407035175879477,
           3.5135678391959786,
           1.8175879396985093,
           0.8753768844221168,
           1.9306532663316613,
           1.063819095477386,
           13.802512562814087,
           15.8,
           5.284924623115587,
           2.0060301507537783,
           1.2145728643216196,
           1.3276381909547723,
           1.4783919597990063,
           9.392964824120615,
           4.380402010050253,
           1.553768844221123,
           1.96834170854272,
           5.360301507537706,
           9.69447236180906,
           3.287437185929651,
           1.704522613065334,
           1.7422110552763925,
           2.0060301507537783,
           2.1567839195979897,
           3.4005025125628263,
           0.8376884422110584,
           0.8,
           1.1768844221105614,
           1.704522613065334,
           0.9130653266331753,
           0.8
          ],
          "sizemode": "area",
          "sizeref": 0.0395,
          "symbol": "circle"
         },
         "mode": "markers",
         "name": "Бизнес-аналитик",
         "orientation": "v",
         "showlegend": true,
         "type": "scatter",
         "x": [
          -1.9015582,
          2.992307,
          -7.059627,
          2.3750093,
          -7.738176,
          1.9207754,
          2.7709851,
          -2.0643375,
          -5.5314364,
          2.215806,
          3.4741106,
          2.578041,
          2.7587852,
          2.459547,
          2.6694598,
          2.8895845,
          2.7797341,
          1.9015218,
          2.3660343,
          3.915828,
          3.9588509,
          4.578725,
          3.6831558,
          3.4208498,
          2.937884,
          4.0119243,
          3.7887917,
          4.218857,
          3.4164112,
          2.9845772,
          3.8200312,
          3.34614,
          2.9701111,
          2.569408,
          2.1440518,
          3.4038143
         ],
         "xaxis": "x",
         "y": [
          -1.0125526,
          -0.48733655,
          4.8266582,
          -2.5353866,
          4.1878214,
          -0.64606833,
          -2.2328215,
          -0.9565579,
          -3.4655328,
          -2.3870094,
          -1.8619812,
          -6.6905527,
          -6.578157,
          -4.720073,
          -4.3682303,
          -3.2050264,
          -3.4986496,
          -3.8328404,
          -5.792941,
          -8.06206,
          -7.257543,
          -8.047886,
          -7.255935,
          -7.9579825,
          -5.488286,
          -6.3922977,
          -7.882257,
          -7.1143327,
          -6.5122123,
          -6.8973207,
          -6.8668933,
          -7.478148,
          -7.5422263,
          -6.191671,
          -7.355021,
          -5.3314524
         ],
         "yaxis": "y"
        },
        {
         "customdata": [
          [
           15.8,
           "Продуктовый аналитик"
          ],
          [
           11.646153846153853,
           "Продуктовый аналитик"
          ],
          [
           12.569230769230776,
           "Продуктовый аналитик"
          ],
          [
           10.492307692307701,
           "Продуктовый аналитик"
          ],
          [
           4.7230769230769205,
           "Продуктовый аналитик"
          ],
          [
           5.184615384615388,
           "Продуктовый аналитик"
          ],
          [
           1.4923076923076963,
           "Продуктовый аналитик"
          ],
          [
           6.80000000000001,
           "Продуктовый аналитик"
          ],
          [
           1.7230769230769236,
           "Продуктовый аналитик"
          ],
          [
           1.9538461538461505,
           "Продуктовый аналитик"
          ],
          [
           2.4153846153846192,
           "Продуктовый аналитик"
          ],
          [
           1.4923076923076963,
           "Продуктовый аналитик"
          ],
          [
           4.492307692307694,
           "Продуктовый аналитик"
          ],
          [
           1.9538461538461505,
           "Продуктовый аналитик"
          ],
          [
           1.261538461538469,
           "Продуктовый аналитик"
          ],
          [
           1.9538461538461505,
           "Продуктовый аналитик"
          ],
          [
           1.261538461538469,
           "Продуктовый аналитик"
          ],
          [
           1.261538461538469,
           "Продуктовый аналитик"
          ],
          [
           3.56923076923077,
           "Продуктовый аналитик"
          ],
          [
           1.9538461538461505,
           "Продуктовый аналитик"
          ],
          [
           7.492307692307691,
           "Продуктовый аналитик"
          ],
          [
           1.0307692307692273,
           "Продуктовый аналитик"
          ],
          [
           1.261538461538469,
           "Продуктовый аналитик"
          ],
          [
           1.261538461538469,
           "Продуктовый аналитик"
          ],
          [
           1.261538461538469,
           "Продуктовый аналитик"
          ],
          [
           3.3384615384615426,
           "Продуктовый аналитик"
          ],
          [
           1.9538461538461505,
           "Продуктовый аналитик"
          ],
          [
           1.9538461538461505,
           "Продуктовый аналитик"
          ],
          [
           1.7230769230769236,
           "Продуктовый аналитик"
          ],
          [
           1.261538461538469,
           "Продуктовый аналитик"
          ],
          [
           1.261538461538469,
           "Продуктовый аналитик"
          ],
          [
           1.261538461538469,
           "Продуктовый аналитик"
          ],
          [
           1.0307692307692273,
           "Продуктовый аналитик"
          ],
          [
           1.0307692307692273,
           "Продуктовый аналитик"
          ],
          [
           1.0307692307692273,
           "Продуктовый аналитик"
          ],
          [
           0.8,
           "Продуктовый аналитик"
          ]
         ],
         "hovertemplate": "<b>%{hovertext}</b><br><br><extra></extra>",
         "hovertext": [
          "SQL",
          "Анализ данных",
          "Python",
          "Аналитическое мышление",
          "Английский",
          "Power BI",
          "MS Excel",
          "Математическая статистика",
          "Работа с большим объемом информации",
          "Базы данных",
          "MS SQL",
          "PostgreSQL",
          "Tableau",
          "BI",
          "Математический анализ",
          "Анализ рынка",
          "Работа с базами данных",
          "Hadoop",
          "Аналитические исследования",
          "ETL",
          "A/B тесты",
          "Визуализация данных",
          "Бизнес-анализ",
          "ClickHouse",
          "Сбор и анализ информации",
          "Продуктовая аналитика",
          "Управление продуктом",
          "Google Analytics",
          "Конкурентная аналитика",
          "Яндекс.Метрика",
          "Firebase",
          "R",
          "Amplitude",
          "Appsflyer",
          "Проведение презентаций",
          "Веб-аналитика"
         ],
         "legendgroup": "Продуктовый аналитик",
         "marker": {
          "color": "#2ED9FF",
          "line": {
           "color": "DarkSlateGrey",
           "width": 0.5
          },
          "opacity": 0.7,
          "size": [
           15.8,
           11.646153846153853,
           12.569230769230776,
           10.492307692307701,
           4.7230769230769205,
           5.184615384615388,
           1.4923076923076963,
           6.80000000000001,
           1.7230769230769236,
           1.9538461538461505,
           2.4153846153846192,
           1.4923076923076963,
           4.492307692307694,
           1.9538461538461505,
           1.261538461538469,
           1.9538461538461505,
           1.261538461538469,
           1.261538461538469,
           3.56923076923077,
           1.9538461538461505,
           7.492307692307691,
           1.0307692307692273,
           1.261538461538469,
           1.261538461538469,
           1.261538461538469,
           3.3384615384615426,
           1.9538461538461505,
           1.9538461538461505,
           1.7230769230769236,
           1.261538461538469,
           1.261538461538469,
           1.261538461538469,
           1.0307692307692273,
           1.0307692307692273,
           1.0307692307692273,
           0.8
          ],
          "sizemode": "area",
          "sizeref": 0.0395,
          "symbol": "circle"
         },
         "mode": "markers",
         "name": "Продуктовый аналитик",
         "orientation": "v",
         "showlegend": true,
         "type": "scatter",
         "x": [
          -1.9015582,
          2.992307,
          -7.059627,
          2.3750093,
          -7.738176,
          1.9207754,
          2.7709851,
          3.1730678,
          -2.0643375,
          -6.452937,
          -5.5314364,
          -6.1000686,
          1.9390707,
          0.9357036,
          -6.565654,
          3.4741106,
          -5.481136,
          -5.4513583,
          3.7357502,
          -4.681412,
          4.788628,
          1.726175,
          2.7587852,
          -5.0341144,
          2.8895845,
          5.1441445,
          4.7044277,
          4.848716,
          4.5100083,
          4.7645116,
          5.173178,
          4.317051,
          4.3791633,
          5.193007,
          4.0854983,
          5.124568
         ],
         "xaxis": "x",
         "y": [
          -1.0125526,
          -0.48733655,
          4.8266582,
          -2.5353866,
          4.1878214,
          -0.64606833,
          -2.2328215,
          -0.05109836,
          -0.9565579,
          -3.5613413,
          -3.4655328,
          -3.4371636,
          -0.11066767,
          -0.42512548,
          4.3949304,
          -1.8619812,
          -3.360685,
          0.31573728,
          -0.23277983,
          0.31795093,
          1.0735217,
          -0.38920763,
          -6.578157,
          -0.81335855,
          -3.2050264,
          1.414552,
          1.2020929,
          0.6469279,
          -0.22827996,
          0.47260514,
          1.4641199,
          0.51951075,
          1.135216,
          1.2496507,
          -0.77314305,
          0.81550324
         ],
         "yaxis": "y"
        },
        {
         "customdata": [
          [
           15.8,
           "Аналитик BI"
          ],
          [
           7.2285714285714215,
           "Аналитик BI"
          ],
          [
           4.371428571428568,
           "Аналитик BI"
          ],
          [
           10.442857142857132,
           "Аналитик BI"
          ],
          [
           7.585714285714278,
           "Аналитик BI"
          ],
          [
           9.014285714285705,
           "Аналитик BI"
          ],
          [
           2.9428571428571404,
           "Аналитик BI"
          ],
          [
           2.5857142857142845,
           "Аналитик BI"
          ],
          [
           4.371428571428568,
           "Аналитик BI"
          ],
          [
           4.371428571428568,
           "Аналитик BI"
          ],
          [
           2.2285714285714273,
           "Аналитик BI"
          ],
          [
           1.1571428571428568,
           "Аналитик BI"
          ],
          [
           5.799999999999994,
           "Аналитик BI"
          ],
          [
           8.657142857142848,
           "Аналитик BI"
          ],
          [
           2.5857142857142845,
           "Аналитик BI"
          ],
          [
           1.5142857142857136,
           "Аналитик BI"
          ],
          [
           1.1571428571428568,
           "Аналитик BI"
          ],
          [
           1.8714285714285703,
           "Аналитик BI"
          ],
          [
           1.8714285714285703,
           "Аналитик BI"
          ],
          [
           1.1571428571428568,
           "Аналитик BI"
          ],
          [
           1.1571428571428568,
           "Аналитик BI"
          ],
          [
           2.5857142857142845,
           "Аналитик BI"
          ],
          [
           1.1571428571428568,
           "Аналитик BI"
          ],
          [
           3.299999999999997,
           "Аналитик BI"
          ],
          [
           1.5142857142857136,
           "Аналитик BI"
          ],
          [
           1.5142857142857136,
           "Аналитик BI"
          ],
          [
           1.1571428571428568,
           "Аналитик BI"
          ],
          [
           1.1571428571428568,
           "Аналитик BI"
          ],
          [
           1.1571428571428568,
           "Аналитик BI"
          ],
          [
           1.1571428571428568,
           "Аналитик BI"
          ],
          [
           1.1571428571428568,
           "Аналитик BI"
          ],
          [
           0.8,
           "Аналитик BI"
          ],
          [
           0.8,
           "Аналитик BI"
          ],
          [
           0.8,
           "Аналитик BI"
          ],
          [
           0.8,
           "Аналитик BI"
          ],
          [
           0.8,
           "Аналитик BI"
          ]
         ],
         "hovertemplate": "<b>%{hovertext}</b><br><br><extra></extra>",
         "hovertext": [
          "SQL",
          "Анализ данных",
          "Python",
          "Аналитическое мышление",
          "Английский",
          "Power BI",
          "MS Excel",
          "Математическая статистика",
          "Работа с большим объемом информации",
          "Базы данных",
          "MS SQL",
          "PostgreSQL",
          "Tableau",
          "BI",
          "MS PowerPoint",
          "Анализ рынка",
          "Аналитические исследования",
          "Визуализация данных",
          "Бизнес-анализ",
          "Деловая коммуникация",
          "Работа в условиях многозадачности",
          "DWH",
          "Greenplum",
          "Qlik Sense",
          "OLAP",
          "SAP",
          "Подготовка презентаций",
          "Отчетность",
          "XML",
          "REST",
          "UML",
          "Atlassian Confluence",
          "DAX",
          "Системный анализ",
          "MS Power Builder",
          "Apache NiFi"
         ],
         "legendgroup": "Аналитик BI",
         "marker": {
          "color": "#B10DA1",
          "line": {
           "color": "DarkSlateGrey",
           "width": 0.5
          },
          "opacity": 0.7,
          "size": [
           15.8,
           7.2285714285714215,
           4.371428571428568,
           10.442857142857132,
           7.585714285714278,
           9.014285714285705,
           2.9428571428571404,
           2.5857142857142845,
           4.371428571428568,
           4.371428571428568,
           2.2285714285714273,
           1.1571428571428568,
           5.799999999999994,
           8.657142857142848,
           2.5857142857142845,
           1.5142857142857136,
           1.1571428571428568,
           1.8714285714285703,
           1.8714285714285703,
           1.1571428571428568,
           1.1571428571428568,
           2.5857142857142845,
           1.1571428571428568,
           3.299999999999997,
           1.5142857142857136,
           1.5142857142857136,
           1.1571428571428568,
           1.1571428571428568,
           1.1571428571428568,
           1.1571428571428568,
           1.1571428571428568,
           0.8,
           0.8,
           0.8,
           0.8,
           0.8
          ],
          "sizemode": "area",
          "sizeref": 0.0395,
          "symbol": "circle"
         },
         "mode": "markers",
         "name": "Аналитик BI",
         "orientation": "v",
         "showlegend": true,
         "type": "scatter",
         "x": [
          -1.9015582,
          2.992307,
          -7.059627,
          2.3750093,
          -7.738176,
          1.9207754,
          2.7709851,
          3.1730678,
          -2.0643375,
          -6.452937,
          -5.5314364,
          -6.1000686,
          1.9390707,
          0.9357036,
          2.215806,
          3.4741106,
          3.7357502,
          1.726175,
          2.7587852,
          2.459547,
          1.9015218,
          -4.174119,
          -4.461493,
          0.9229755,
          -1.6346636,
          1.6155347,
          1.818693,
          0.81274444,
          4.4855175,
          4.549208,
          3.915828,
          3.9588509,
          0.52848166,
          4.578725,
          0.7086038,
          -3.313115
         ],
         "xaxis": "x",
         "y": [
          -1.0125526,
          -0.48733655,
          4.8266582,
          -2.5353866,
          4.1878214,
          -0.64606833,
          -2.2328215,
          -0.05109836,
          -0.9565579,
          -3.5613413,
          -3.4655328,
          -3.4371636,
          -0.11066767,
          -0.42512548,
          -2.3870094,
          -1.8619812,
          -0.23277983,
          -0.38920763,
          -6.578157,
          -4.720073,
          -3.8328404,
          0.25380117,
          -0.08968138,
          -0.12044979,
          -0.80768484,
          -1.5733067,
          -2.65611,
          -0.22907378,
          -8.388435,
          -8.276998,
          -8.06206,
          -7.257543,
          -0.75616705,
          -8.047886,
          0.17235139,
          -0.112427905
         ],
         "yaxis": "y"
        },
        {
         "customdata": [
          [
           15.8,
           "Системный аналитик"
          ],
          [
           1.272972972972979,
           "Системный аналитик"
          ],
          [
           1.0027027027027025,
           "Системный аналитик"
          ],
          [
           6.20540540540541,
           "Системный аналитик"
          ],
          [
           4.448648648648644,
           "Системный аналитик"
          ],
          [
           1.1378378378378304,
           "Системный аналитик"
          ],
          [
           3.7054054054054086,
           "Системный аналитик"
          ],
          [
           2.0162162162162147,
           "Системный аналитик"
          ],
          [
           1.7459459459459379,
           "Системный аналитик"
          ],
          [
           1.3405405405405328,
           "Системный аналитик"
          ],
          [
           3.7054054054054086,
           "Системный аналитик"
          ],
          [
           4.583783783783793,
           "Системный аналитик"
          ],
          [
           0.8675675675675742,
           "Системный аналитик"
          ],
          [
           0.9351351351351282,
           "Системный аналитик"
          ],
          [
           1.272972972972979,
           "Системный аналитик"
          ],
          [
           0.8,
           "Системный аналитик"
          ],
          [
           2.894594594594598,
           "Системный аналитик"
          ],
          [
           4.245945945945942,
           "Системный аналитик"
          ],
          [
           6.813513513513517,
           "Системный аналитик"
          ],
          [
           10.664864864864866,
           "Системный аналитик"
          ],
          [
           2.3540540540540453,
           "Системный аналитик"
          ],
          [
           12.69189189189189,
           "Системный аналитик"
          ],
          [
           6.8810810810810725,
           "Системный аналитик"
          ],
          [
           12.151351351351355,
           "Системный аналитик"
          ],
          [
           0.8675675675675742,
           "Системный аналитик"
          ],
          [
           1.678378378378384,
           "Системный аналитик"
          ],
          [
           3.8405405405405357,
           "Системный аналитик"
          ],
          [
           3.772972972972962,
           "Системный аналитик"
          ],
          [
           3.5702702702702798,
           "Системный аналитик"
          ],
          [
           3.3000000000000034,
           "Системный аналитик"
          ],
          [
           2.421621621621619,
           "Системный аналитик"
          ],
          [
           1.9486486486486403,
           "Системный аналитик"
          ],
          [
           1.5432432432432353,
           "Системный аналитик"
          ],
          [
           1.4756756756756817,
           "Системный аналитик"
          ],
          [
           1.0702702702702769,
           "Системный аналитик"
          ],
          [
           0.8675675675675742,
           "Системный аналитик"
          ]
         ],
         "hovertemplate": "<b>%{hovertext}</b><br><br><extra></extra>",
         "hovertext": [
          "SQL",
          "Анализ данных",
          "Python",
          "Аналитическое мышление",
          "Английский",
          "Работа с большим объемом информации",
          "Базы данных",
          "MS SQL",
          "PostgreSQL",
          "ETL",
          "Моделирование бизнес процессов",
          "Бизнес-анализ",
          "Деловая коммуникация",
          "Работа в команде",
          "DWH",
          "ORACLE",
          "1С: Предприятие 8",
          "XML",
          "REST",
          "UML",
          "Atlassian Confluence",
          "Системный анализ",
          "Разработка технических заданий",
          "BPMN",
          "Управление проектами",
          "Agile",
          "Постановка задач разработчикам",
          "SOAP",
          "JSON API",
          "Atlassian Jira",
          "API",
          "Системное мышление",
          "MS Visio",
          "Техническая документация",
          "ERP",
          "IDEF"
         ],
         "legendgroup": "Системный аналитик",
         "marker": {
          "color": "#909090",
          "line": {
           "color": "DarkSlateGrey",
           "width": 0.5
          },
          "opacity": 0.7,
          "size": [
           15.8,
           1.272972972972979,
           1.0027027027027025,
           6.20540540540541,
           4.448648648648644,
           1.1378378378378304,
           3.7054054054054086,
           2.0162162162162147,
           1.7459459459459379,
           1.3405405405405328,
           3.7054054054054086,
           4.583783783783793,
           0.8675675675675742,
           0.9351351351351282,
           1.272972972972979,
           0.8,
           2.894594594594598,
           4.245945945945942,
           6.813513513513517,
           10.664864864864866,
           2.3540540540540453,
           12.69189189189189,
           6.8810810810810725,
           12.151351351351355,
           0.8675675675675742,
           1.678378378378384,
           3.8405405405405357,
           3.772972972972962,
           3.5702702702702798,
           3.3000000000000034,
           2.421621621621619,
           1.9486486486486403,
           1.5432432432432353,
           1.4756756756756817,
           1.0702702702702769,
           0.8675675675675742
          ],
          "sizemode": "area",
          "sizeref": 0.0395,
          "symbol": "circle"
         },
         "mode": "markers",
         "name": "Системный аналитик",
         "orientation": "v",
         "showlegend": true,
         "type": "scatter",
         "x": [
          -1.9015582,
          2.992307,
          -7.059627,
          2.3750093,
          -7.738176,
          -2.0643375,
          -6.452937,
          -5.5314364,
          -6.1000686,
          -4.681412,
          2.578041,
          2.7587852,
          2.459547,
          2.6694598,
          -4.174119,
          -6.4734817,
          2.3660343,
          4.4855175,
          4.549208,
          3.915828,
          3.9588509,
          4.578725,
          3.6831558,
          3.4208498,
          2.937884,
          4.0119243,
          3.7887917,
          4.298542,
          4.256158,
          4.218857,
          4.9076962,
          3.4164112,
          2.9845772,
          3.8200312,
          3.34614,
          2.9701111
         ],
         "xaxis": "x",
         "y": [
          -1.0125526,
          -0.48733655,
          4.8266582,
          -2.5353866,
          4.1878214,
          -0.9565579,
          -3.5613413,
          -3.4655328,
          -3.4371636,
          0.31795093,
          -6.6905527,
          -6.578157,
          -4.720073,
          -4.3682303,
          0.25380117,
          -3.3832765,
          -5.792941,
          -8.388435,
          -8.276998,
          -8.06206,
          -7.257543,
          -8.047886,
          -7.255935,
          -7.9579825,
          -5.488286,
          -6.3922977,
          -7.882257,
          -8.623947,
          -8.486887,
          -7.1143327,
          -7.671777,
          -6.5122123,
          -6.8973207,
          -6.8668933,
          -7.478148,
          -7.5422263
         ],
         "yaxis": "y"
        }
       ],
       "layout": {
        "height": 600,
        "legend": {
         "itemsizing": "constant",
         "title": {
          "text": "Профессия"
         },
         "tracegroupgap": 0
        },
        "margin": {
         "t": 60
        },
        "template": {
         "data": {
          "bar": [
           {
            "error_x": {
             "color": "#2a3f5f"
            },
            "error_y": {
             "color": "#2a3f5f"
            },
            "marker": {
             "line": {
              "color": "#E5ECF6",
              "width": 0.5
             },
             "pattern": {
              "fillmode": "overlay",
              "size": 10,
              "solidity": 0.2
             }
            },
            "type": "bar"
           }
          ],
          "barpolar": [
           {
            "marker": {
             "line": {
              "color": "#E5ECF6",
              "width": 0.5
             },
             "pattern": {
              "fillmode": "overlay",
              "size": 10,
              "solidity": 0.2
             }
            },
            "type": "barpolar"
           }
          ],
          "carpet": [
           {
            "aaxis": {
             "endlinecolor": "#2a3f5f",
             "gridcolor": "white",
             "linecolor": "white",
             "minorgridcolor": "white",
             "startlinecolor": "#2a3f5f"
            },
            "baxis": {
             "endlinecolor": "#2a3f5f",
             "gridcolor": "white",
             "linecolor": "white",
             "minorgridcolor": "white",
             "startlinecolor": "#2a3f5f"
            },
            "type": "carpet"
           }
          ],
          "choropleth": [
           {
            "colorbar": {
             "outlinewidth": 0,
             "ticks": ""
            },
            "type": "choropleth"
           }
          ],
          "contour": [
           {
            "colorbar": {
             "outlinewidth": 0,
             "ticks": ""
            },
            "colorscale": [
             [
              0,
              "#0d0887"
             ],
             [
              0.1111111111111111,
              "#46039f"
             ],
             [
              0.2222222222222222,
              "#7201a8"
             ],
             [
              0.3333333333333333,
              "#9c179e"
             ],
             [
              0.4444444444444444,
              "#bd3786"
             ],
             [
              0.5555555555555556,
              "#d8576b"
             ],
             [
              0.6666666666666666,
              "#ed7953"
             ],
             [
              0.7777777777777778,
              "#fb9f3a"
             ],
             [
              0.8888888888888888,
              "#fdca26"
             ],
             [
              1,
              "#f0f921"
             ]
            ],
            "type": "contour"
           }
          ],
          "contourcarpet": [
           {
            "colorbar": {
             "outlinewidth": 0,
             "ticks": ""
            },
            "type": "contourcarpet"
           }
          ],
          "heatmap": [
           {
            "colorbar": {
             "outlinewidth": 0,
             "ticks": ""
            },
            "colorscale": [
             [
              0,
              "#0d0887"
             ],
             [
              0.1111111111111111,
              "#46039f"
             ],
             [
              0.2222222222222222,
              "#7201a8"
             ],
             [
              0.3333333333333333,
              "#9c179e"
             ],
             [
              0.4444444444444444,
              "#bd3786"
             ],
             [
              0.5555555555555556,
              "#d8576b"
             ],
             [
              0.6666666666666666,
              "#ed7953"
             ],
             [
              0.7777777777777778,
              "#fb9f3a"
             ],
             [
              0.8888888888888888,
              "#fdca26"
             ],
             [
              1,
              "#f0f921"
             ]
            ],
            "type": "heatmap"
           }
          ],
          "heatmapgl": [
           {
            "colorbar": {
             "outlinewidth": 0,
             "ticks": ""
            },
            "colorscale": [
             [
              0,
              "#0d0887"
             ],
             [
              0.1111111111111111,
              "#46039f"
             ],
             [
              0.2222222222222222,
              "#7201a8"
             ],
             [
              0.3333333333333333,
              "#9c179e"
             ],
             [
              0.4444444444444444,
              "#bd3786"
             ],
             [
              0.5555555555555556,
              "#d8576b"
             ],
             [
              0.6666666666666666,
              "#ed7953"
             ],
             [
              0.7777777777777778,
              "#fb9f3a"
             ],
             [
              0.8888888888888888,
              "#fdca26"
             ],
             [
              1,
              "#f0f921"
             ]
            ],
            "type": "heatmapgl"
           }
          ],
          "histogram": [
           {
            "marker": {
             "pattern": {
              "fillmode": "overlay",
              "size": 10,
              "solidity": 0.2
             }
            },
            "type": "histogram"
           }
          ],
          "histogram2d": [
           {
            "colorbar": {
             "outlinewidth": 0,
             "ticks": ""
            },
            "colorscale": [
             [
              0,
              "#0d0887"
             ],
             [
              0.1111111111111111,
              "#46039f"
             ],
             [
              0.2222222222222222,
              "#7201a8"
             ],
             [
              0.3333333333333333,
              "#9c179e"
             ],
             [
              0.4444444444444444,
              "#bd3786"
             ],
             [
              0.5555555555555556,
              "#d8576b"
             ],
             [
              0.6666666666666666,
              "#ed7953"
             ],
             [
              0.7777777777777778,
              "#fb9f3a"
             ],
             [
              0.8888888888888888,
              "#fdca26"
             ],
             [
              1,
              "#f0f921"
             ]
            ],
            "type": "histogram2d"
           }
          ],
          "histogram2dcontour": [
           {
            "colorbar": {
             "outlinewidth": 0,
             "ticks": ""
            },
            "colorscale": [
             [
              0,
              "#0d0887"
             ],
             [
              0.1111111111111111,
              "#46039f"
             ],
             [
              0.2222222222222222,
              "#7201a8"
             ],
             [
              0.3333333333333333,
              "#9c179e"
             ],
             [
              0.4444444444444444,
              "#bd3786"
             ],
             [
              0.5555555555555556,
              "#d8576b"
             ],
             [
              0.6666666666666666,
              "#ed7953"
             ],
             [
              0.7777777777777778,
              "#fb9f3a"
             ],
             [
              0.8888888888888888,
              "#fdca26"
             ],
             [
              1,
              "#f0f921"
             ]
            ],
            "type": "histogram2dcontour"
           }
          ],
          "mesh3d": [
           {
            "colorbar": {
             "outlinewidth": 0,
             "ticks": ""
            },
            "type": "mesh3d"
           }
          ],
          "parcoords": [
           {
            "line": {
             "colorbar": {
              "outlinewidth": 0,
              "ticks": ""
             }
            },
            "type": "parcoords"
           }
          ],
          "pie": [
           {
            "automargin": true,
            "type": "pie"
           }
          ],
          "scatter": [
           {
            "fillpattern": {
             "fillmode": "overlay",
             "size": 10,
             "solidity": 0.2
            },
            "type": "scatter"
           }
          ],
          "scatter3d": [
           {
            "line": {
             "colorbar": {
              "outlinewidth": 0,
              "ticks": ""
             }
            },
            "marker": {
             "colorbar": {
              "outlinewidth": 0,
              "ticks": ""
             }
            },
            "type": "scatter3d"
           }
          ],
          "scattercarpet": [
           {
            "marker": {
             "colorbar": {
              "outlinewidth": 0,
              "ticks": ""
             }
            },
            "type": "scattercarpet"
           }
          ],
          "scattergeo": [
           {
            "marker": {
             "colorbar": {
              "outlinewidth": 0,
              "ticks": ""
             }
            },
            "type": "scattergeo"
           }
          ],
          "scattergl": [
           {
            "marker": {
             "colorbar": {
              "outlinewidth": 0,
              "ticks": ""
             }
            },
            "type": "scattergl"
           }
          ],
          "scattermapbox": [
           {
            "marker": {
             "colorbar": {
              "outlinewidth": 0,
              "ticks": ""
             }
            },
            "type": "scattermapbox"
           }
          ],
          "scatterpolar": [
           {
            "marker": {
             "colorbar": {
              "outlinewidth": 0,
              "ticks": ""
             }
            },
            "type": "scatterpolar"
           }
          ],
          "scatterpolargl": [
           {
            "marker": {
             "colorbar": {
              "outlinewidth": 0,
              "ticks": ""
             }
            },
            "type": "scatterpolargl"
           }
          ],
          "scatterternary": [
           {
            "marker": {
             "colorbar": {
              "outlinewidth": 0,
              "ticks": ""
             }
            },
            "type": "scatterternary"
           }
          ],
          "surface": [
           {
            "colorbar": {
             "outlinewidth": 0,
             "ticks": ""
            },
            "colorscale": [
             [
              0,
              "#0d0887"
             ],
             [
              0.1111111111111111,
              "#46039f"
             ],
             [
              0.2222222222222222,
              "#7201a8"
             ],
             [
              0.3333333333333333,
              "#9c179e"
             ],
             [
              0.4444444444444444,
              "#bd3786"
             ],
             [
              0.5555555555555556,
              "#d8576b"
             ],
             [
              0.6666666666666666,
              "#ed7953"
             ],
             [
              0.7777777777777778,
              "#fb9f3a"
             ],
             [
              0.8888888888888888,
              "#fdca26"
             ],
             [
              1,
              "#f0f921"
             ]
            ],
            "type": "surface"
           }
          ],
          "table": [
           {
            "cells": {
             "fill": {
              "color": "#EBF0F8"
             },
             "line": {
              "color": "white"
             }
            },
            "header": {
             "fill": {
              "color": "#C8D4E3"
             },
             "line": {
              "color": "white"
             }
            },
            "type": "table"
           }
          ]
         },
         "layout": {
          "annotationdefaults": {
           "arrowcolor": "#2a3f5f",
           "arrowhead": 0,
           "arrowwidth": 1
          },
          "autotypenumbers": "strict",
          "coloraxis": {
           "colorbar": {
            "outlinewidth": 0,
            "ticks": ""
           }
          },
          "colorscale": {
           "diverging": [
            [
             0,
             "#8e0152"
            ],
            [
             0.1,
             "#c51b7d"
            ],
            [
             0.2,
             "#de77ae"
            ],
            [
             0.3,
             "#f1b6da"
            ],
            [
             0.4,
             "#fde0ef"
            ],
            [
             0.5,
             "#f7f7f7"
            ],
            [
             0.6,
             "#e6f5d0"
            ],
            [
             0.7,
             "#b8e186"
            ],
            [
             0.8,
             "#7fbc41"
            ],
            [
             0.9,
             "#4d9221"
            ],
            [
             1,
             "#276419"
            ]
           ],
           "sequential": [
            [
             0,
             "#0d0887"
            ],
            [
             0.1111111111111111,
             "#46039f"
            ],
            [
             0.2222222222222222,
             "#7201a8"
            ],
            [
             0.3333333333333333,
             "#9c179e"
            ],
            [
             0.4444444444444444,
             "#bd3786"
            ],
            [
             0.5555555555555556,
             "#d8576b"
            ],
            [
             0.6666666666666666,
             "#ed7953"
            ],
            [
             0.7777777777777778,
             "#fb9f3a"
            ],
            [
             0.8888888888888888,
             "#fdca26"
            ],
            [
             1,
             "#f0f921"
            ]
           ],
           "sequentialminus": [
            [
             0,
             "#0d0887"
            ],
            [
             0.1111111111111111,
             "#46039f"
            ],
            [
             0.2222222222222222,
             "#7201a8"
            ],
            [
             0.3333333333333333,
             "#9c179e"
            ],
            [
             0.4444444444444444,
             "#bd3786"
            ],
            [
             0.5555555555555556,
             "#d8576b"
            ],
            [
             0.6666666666666666,
             "#ed7953"
            ],
            [
             0.7777777777777778,
             "#fb9f3a"
            ],
            [
             0.8888888888888888,
             "#fdca26"
            ],
            [
             1,
             "#f0f921"
            ]
           ]
          },
          "colorway": [
           "#636efa",
           "#EF553B",
           "#00cc96",
           "#ab63fa",
           "#FFA15A",
           "#19d3f3",
           "#FF6692",
           "#B6E880",
           "#FF97FF",
           "#FECB52"
          ],
          "font": {
           "color": "#2a3f5f"
          },
          "geo": {
           "bgcolor": "white",
           "lakecolor": "white",
           "landcolor": "#E5ECF6",
           "showlakes": true,
           "showland": true,
           "subunitcolor": "white"
          },
          "hoverlabel": {
           "align": "left"
          },
          "hovermode": "closest",
          "mapbox": {
           "style": "light"
          },
          "paper_bgcolor": "white",
          "plot_bgcolor": "#E5ECF6",
          "polar": {
           "angularaxis": {
            "gridcolor": "white",
            "linecolor": "white",
            "ticks": ""
           },
           "bgcolor": "#E5ECF6",
           "radialaxis": {
            "gridcolor": "white",
            "linecolor": "white",
            "ticks": ""
           }
          },
          "scene": {
           "xaxis": {
            "backgroundcolor": "#E5ECF6",
            "gridcolor": "white",
            "gridwidth": 2,
            "linecolor": "white",
            "showbackground": true,
            "ticks": "",
            "zerolinecolor": "white"
           },
           "yaxis": {
            "backgroundcolor": "#E5ECF6",
            "gridcolor": "white",
            "gridwidth": 2,
            "linecolor": "white",
            "showbackground": true,
            "ticks": "",
            "zerolinecolor": "white"
           },
           "zaxis": {
            "backgroundcolor": "#E5ECF6",
            "gridcolor": "white",
            "gridwidth": 2,
            "linecolor": "white",
            "showbackground": true,
            "ticks": "",
            "zerolinecolor": "white"
           }
          },
          "shapedefaults": {
           "line": {
            "color": "#2a3f5f"
           }
          },
          "ternary": {
           "aaxis": {
            "gridcolor": "white",
            "linecolor": "white",
            "ticks": ""
           },
           "baxis": {
            "gridcolor": "white",
            "linecolor": "white",
            "ticks": ""
           },
           "bgcolor": "#E5ECF6",
           "caxis": {
            "gridcolor": "white",
            "linecolor": "white",
            "ticks": ""
           }
          },
          "title": {
           "x": 0.05
          },
          "xaxis": {
           "automargin": true,
           "gridcolor": "white",
           "linecolor": "white",
           "ticks": "",
           "title": {
            "standoff": 15
           },
           "zerolinecolor": "white",
           "zerolinewidth": 2
          },
          "yaxis": {
           "automargin": true,
           "gridcolor": "white",
           "linecolor": "white",
           "ticks": "",
           "title": {
            "standoff": 15
           },
           "zerolinecolor": "white",
           "zerolinewidth": 2
          }
         }
        },
        "width": 1000,
        "xaxis": {
         "anchor": "y",
         "domain": [
          0,
          1
         ],
         "title": {
          "text": "x"
         },
         "visible": false
        },
        "yaxis": {
         "anchor": "x",
         "domain": [
          0,
          1
         ],
         "title": {
          "text": "y"
         },
         "visible": false
        }
       }
      }
     },
     "metadata": {},
     "output_type": "display_data"
    }
   ],
   "source": [
    "df, _ = prepare_plot_df(skill_df, matrix, skill_index_to_corrected,\n",
    "                                    prof_index_to_prof_name, \n",
    "                                    top_n_skill_per_profession=best_top_n_skill_per_profession,\n",
    "                                    norm_type=best_norm_type,\n",
    "                                    factor_alg_type=best_alg_type,\n",
    "                                    dim=best_dim,\n",
    "                                    use_tsne=best_use_tsne)\n",
    "\n",
    "plot_skill_map(df).show()"
   ]
  },
  {
   "cell_type": "code",
   "execution_count": 93,
   "metadata": {},
   "outputs": [],
   "source": [
    "df.to_csv(f'../notebooks/docker/front/data/best.csv')"
   ]
  },
  {
   "cell_type": "code",
   "execution_count": null,
   "metadata": {},
   "outputs": [],
   "source": []
  }
 ],
 "metadata": {
  "kernelspec": {
   "display_name": "base",
   "language": "python",
   "name": "python3"
  },
  "language_info": {
   "codemirror_mode": {
    "name": "ipython",
    "version": 3
   },
   "file_extension": ".py",
   "mimetype": "text/x-python",
   "name": "python",
   "nbconvert_exporter": "python",
   "pygments_lexer": "ipython3",
   "version": "3.9.15"
  },
  "orig_nbformat": 4
 },
 "nbformat": 4,
 "nbformat_minor": 2
}
