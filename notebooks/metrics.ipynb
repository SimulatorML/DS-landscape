{
 "cells": [
  {
   "cell_type": "code",
   "execution_count": 1,
   "metadata": {},
   "outputs": [
    {
     "name": "stderr",
     "output_type": "stream",
     "text": [
      "/Users/dima/opt/anaconda3/lib/python3.9/site-packages/umap/distances.py:1063: NumbaDeprecationWarning: \u001b[1mThe 'nopython' keyword argument was not supplied to the 'numba.jit' decorator. The implicit default value for this argument is currently False, but it will be changed to True in Numba 0.59.0. See https://numba.readthedocs.io/en/stable/reference/deprecation.html#deprecation-of-object-mode-fall-back-behaviour-when-using-jit for details.\u001b[0m\n",
      "  @numba.jit()\n",
      "/Users/dima/opt/anaconda3/lib/python3.9/site-packages/umap/distances.py:1071: NumbaDeprecationWarning: \u001b[1mThe 'nopython' keyword argument was not supplied to the 'numba.jit' decorator. The implicit default value for this argument is currently False, but it will be changed to True in Numba 0.59.0. See https://numba.readthedocs.io/en/stable/reference/deprecation.html#deprecation-of-object-mode-fall-back-behaviour-when-using-jit for details.\u001b[0m\n",
      "  @numba.jit()\n",
      "/Users/dima/opt/anaconda3/lib/python3.9/site-packages/umap/distances.py:1086: NumbaDeprecationWarning: \u001b[1mThe 'nopython' keyword argument was not supplied to the 'numba.jit' decorator. The implicit default value for this argument is currently False, but it will be changed to True in Numba 0.59.0. See https://numba.readthedocs.io/en/stable/reference/deprecation.html#deprecation-of-object-mode-fall-back-behaviour-when-using-jit for details.\u001b[0m\n",
      "  @numba.jit()\n",
      "/Users/dima/opt/anaconda3/lib/python3.9/site-packages/umap/umap_.py:660: NumbaDeprecationWarning: \u001b[1mThe 'nopython' keyword argument was not supplied to the 'numba.jit' decorator. The implicit default value for this argument is currently False, but it will be changed to True in Numba 0.59.0. See https://numba.readthedocs.io/en/stable/reference/deprecation.html#deprecation-of-object-mode-fall-back-behaviour-when-using-jit for details.\u001b[0m\n",
      "  @numba.jit()\n"
     ]
    }
   ],
   "source": [
    "import pandas as pd\n",
    "import os\n",
    "import jsonpickle\n",
    "\n",
    "from typing import Tuple, Dict, Union, List\n",
    "import pandas as pd\n",
    "import numpy as np\n",
    "import pickle\n",
    "from sklearn.manifold import TSNE\n",
    "import plotly.express as px\n",
    "import plotly\n",
    "from sklearn.preprocessing import MinMaxScaler\n",
    "from scipy.sparse import csr_matrix\n",
    "import implicit\n",
    "from implicit.nearest_neighbours import bm25_weight, tfidf_weight\n",
    "from scipy.spatial.distance import cdist\n",
    "\n",
    "import umap\n",
    "from sklearn.metrics.pairwise import cosine_similarity, euclidean_distances\n",
    "from scipy.sparse.linalg import svds\n",
    "from sklearn.decomposition import PCA\n"
   ]
  },
  {
   "cell_type": "code",
   "execution_count": 2,
   "metadata": {},
   "outputs": [],
   "source": [
    "import warnings\n",
    "warnings.filterwarnings(\"ignore\")"
   ]
  },
  {
   "cell_type": "code",
   "execution_count": 3,
   "metadata": {},
   "outputs": [],
   "source": [
    "RANDOM_STATE = 42"
   ]
  },
  {
   "cell_type": "code",
   "execution_count": 4,
   "metadata": {},
   "outputs": [],
   "source": [
    "def load(config_path : str) -> object:\n",
    "    \"\"\"load config from file\n",
    "    exsabple of using: \n",
    "        self.config : ParserConfig = config.load(config_path) or ParserConfig()\n",
    "        \"\"\"\n",
    "\n",
    "    jsonpickle.set_preferred_backend('json')\n",
    "    jsonpickle.set_encoder_options('json', ensure_ascii=False)\n",
    "\n",
    "    if config_path is not None and os.path.isfile(config_path):\n",
    "        with open(config_path, 'r', encoding='utf-8') as f:\n",
    "            return jsonpickle.decode(f.read())\n",
    "    else:\n",
    "        return None\n"
   ]
  },
  {
   "cell_type": "code",
   "execution_count": 5,
   "metadata": {},
   "outputs": [
    {
     "name": "stdout",
     "output_type": "stream",
     "text": [
      "all pairs count = 215\n",
      "unique pairs count = 165\n"
     ]
    }
   ],
   "source": [
    "# load reference pairs\n",
    "skill_pairs : List[List[str]] = load(\"../cnf/skill_pairs.json\")\n",
    "\n",
    "# remove duplicates\n",
    "print('all pairs count =', len(skill_pairs))\n",
    "skill_pairs = [x for x in skill_pairs if [x[1], x[0]] not in skill_pairs]\n",
    "print('unique pairs count =', len(skill_pairs))"
   ]
  },
  {
   "cell_type": "code",
   "execution_count": 6,
   "metadata": {},
   "outputs": [],
   "source": [
    "## Load data from APP DATA folder\n",
    "\n",
    "with open('../data/features/matrix.pkl', 'rb') as f:\n",
    "#with open('../data/features/matrix_name_tfidf.pkl', 'rb') as f:\n",
    "#with open('../data/features/matrix_description_name_tfidf.pkl', 'rb') as f:\n",
    "    matrix = pickle.load(f)\n",
    "\n",
    "with open('../data/features/prof_index_to_prof_name.pkl', 'rb') as f:\n",
    "    prof_index_to_prof_name = pickle.load(f)\n",
    "\n",
    "# with open('../data/features/quety_to_prof_index.pkl', 'rb') as f:\n",
    "#     quety_to_prof_index = pickle.load(f)\n",
    "\n",
    "with open('../data/features/skill_index_to_corrected.pkl', 'rb') as f:\n",
    "    skill_index_to_corrected = pickle.load(f)\n",
    "    \n",
    "with open('../data/features/skill_original_to_index.pkl', 'rb') as f:\n",
    "    skill_original_to_index = pickle.load(f)\n",
    "    \n",
    "skill_df = pd.read_csv('../data/features/skills.csv')\n",
    "prof_df = pd.read_csv('../data/features/prof.csv')"
   ]
  },
  {
   "cell_type": "code",
   "execution_count": 7,
   "metadata": {},
   "outputs": [],
   "source": [
    "def prepare_plot_df(skill_df: pd.DataFrame,\n",
    "                    matrix: np.array,\n",
    "                    skill_index_to_corrected: Dict[int, str],\n",
    "                    prof_index_to_corrected: Dict[int, str], \n",
    "                    top_n_skill_per_profession: int = 200, \n",
    "                    salary: Union[Tuple[float, float], None] = None,\n",
    "                    norm_type: str = 'none',\n",
    "                    factor_alg_type: str = 'none',\n",
    "                    perplexity: int = 30,\n",
    "                    early_exaggeration=12,\n",
    "                    learning_rate=200,\n",
    "                    dim: int = 5,\n",
    "                    use_tsne: bool = True\n",
    "                    ) -> Tuple[pd.DataFrame, pd.DataFrame]:\n",
    "    \"\"\"Prepare datafame for plotting\n",
    "    \n",
    "        Parameters\n",
    "        ----------\n",
    "        skill_df: pd.DataFrame\n",
    "            Data frame of skills\n",
    "        matrix: np.array\n",
    "            Skill to Profession matrix (skill in rows, professions in columns)\n",
    "        skill_index_to_corrected: Dict[int, str]\n",
    "            Dictionary from index to skill name\n",
    "        prof_index_to_corrected: Dict[int, str]\n",
    "            Dictionary from index to profession name\n",
    "        top_n_skill_per_profession: int\n",
    "            maximum skills for each profession\n",
    "        salary: Tuple[float, float]:\n",
    "            filter by salary, from and to, or None\n",
    "            !!! do not set because too low vacancies whith salary\n",
    "        norm_type: str\n",
    "            How normalize skill-prof matrix ('none', 'skill', 'prof', 'bm', 'tfidf')\n",
    "        factor_alg_type: str\n",
    "            Type of algorithm for skill map ('tsne', 'als', 'svd', 'pca', 'sim_euclid', 'sim_cos')\n",
    "\n",
    "        Returns\n",
    "        -------\n",
    "        Tuple[pd.DataFrame, pd.DataFrame] : \n",
    "            - DataFrame for skill map plot\n",
    "            - DataFrame for profession map plot\n",
    "    \n",
    "    \n",
    "    \"\"\"\n",
    "\n",
    "    def apply_filter(df, top_n_skill_per_profession, salary):\n",
    "        if salary is not None:\n",
    "            df = df[(df.salary_q75 > salary[0]) & (df.salary_q25 <= salary[1])]\n",
    "        if top_n_skill_per_profession is not None:\n",
    "            df = df.head(top_n_skill_per_profession)\n",
    "        return df\n",
    "\n",
    "    # skill_filter_indexes - skills for plot\n",
    "    skill_filter_indexes = []\n",
    "    for p in prof_index_to_corrected.values():\n",
    "        skills_per_profession = skill_df.sort_values(p, ascending=False)\n",
    "        skills_per_profession = apply_filter(skills_per_profession, top_n_skill_per_profession, salary)\n",
    "\n",
    "        skill_filter_indexes = skill_filter_indexes + \\\n",
    "            [x for x in skills_per_profession.skill_id if x not in skill_filter_indexes]\n",
    "\n",
    "    # Normalization\n",
    "    m = matrix[skill_filter_indexes, :].T\n",
    "\n",
    "    if norm_type == 'skill':\n",
    "        # norm for earch skill\n",
    "        m = m / np.sum(m, axis=0, keepdims=True)\n",
    "    elif norm_type == 'prof':\n",
    "        # norm for each prof\n",
    "        m = m / np.sum(m, axis=1, keepdims=True)\n",
    "    elif norm_type == 'bm':\n",
    "        m = np.asarray(bm25_weight(m).todense())\n",
    "    elif norm_type == 'tfidf':\n",
    "        m = np.asarray(tfidf_weight(m).todense())\n",
    "    elif norm_type != 'none':\n",
    "        raise ValueError(\"norm_type parametr must be ('none', 'skill', 'prof')\")\n",
    "\n",
    "    # als is needed for professions because T-NSE doesn't work with few objects\n",
    "    csr = csr_matrix(m)\n",
    "    model = implicit.als.AlternatingLeastSquares(factors=2, regularization=0.0, \n",
    "        iterations=20, alpha=10, random_state=RANDOM_STATE)\n",
    "    model.fit(csr, show_progress=False)\n",
    "    profs_xy = model.user_factors\n",
    "\n",
    "    use_tsne = False\n",
    "\n",
    "    if factor_alg_type == 'svd':\n",
    "        skills_xy, _, _ = svds(csr.T, k=dim, random_state=RANDOM_STATE)\n",
    "    elif factor_alg_type == 'pca':\n",
    "        pca = PCA(n_components=dim)\n",
    "        skills_xy = pca.fit_transform(m.T)\n",
    "    elif factor_alg_type == 'tsne':\n",
    "        #skills_xy = TSNE(n_components=2, random_state=RANDOM_STATE).fit_transform(m.T)\n",
    "        skills_xy = m.T.copy()\n",
    "        use_tsne = True\n",
    "    elif factor_alg_type == 'als':\n",
    "        skills_xy = model.item_factors\n",
    "        use_tsne = True\n",
    "    elif factor_alg_type == 'sim_euclid':\n",
    "        skills_xy = euclidean_distances(m.T)\n",
    "        use_tsne = True\n",
    "    elif factor_alg_type == 'sim_cos':     \n",
    "        skills_xy = cosine_similarity(m.T)\n",
    "        use_tsne = True\n",
    "    elif factor_alg_type == 'umap':\n",
    "#         skills_xy = cosine_similarity(m.T)\n",
    "        skills_xy = umap.UMAP(n_neighbors=10,\n",
    "                              transform_seed=RANDOM_STATE,\n",
    "                              random_state=RANDOM_STATE).fit_transform(m.T)\n",
    "    else:\n",
    "        raise ValueError(\"skills_xy parametr must be ('tsne', 'als', 'svd', 'pca', 'sim_euclid', 'sim_cos')\")\n",
    "    \n",
    "    if use_tsne:\n",
    "        skills_xy = TSNE(n_components=2, \n",
    "                         perplexity=perplexity, \n",
    "                         early_exaggeration=early_exaggeration,\n",
    "                         learning_rate=learning_rate,\n",
    "                         random_state=RANDOM_STATE).fit_transform(skills_xy)\n",
    "\n",
    "\n",
    "    df = pd.DataFrame(skills_xy).rename(columns={0:'x',1:'y'})\n",
    "    df['skill_id'] = list(skill_filter_indexes)\n",
    "    df['Навык'] = df.skill_id.apply(lambda x: skill_index_to_corrected[x])\n",
    "\n",
    "    # be ensure that for every profession has skill point \n",
    "    # (one skill may be in severall professions)\n",
    "    df_plot_skill = None\n",
    "    for p in prof_index_to_corrected.values():\n",
    "\n",
    "        skills_per_profession = skill_df.sort_values(p, ascending=False)\n",
    "        skills_per_profession = apply_filter(skills_per_profession, top_n_skill_per_profession, salary)\n",
    "        ids = skills_per_profession.skill_id.to_numpy()\n",
    "\n",
    "        df_for_prof = df[df.skill_id.isin(ids)]\n",
    "        df_for_prof['Профессия'] = p\n",
    "\n",
    "        min_f = skills_per_profession[p].min()\n",
    "        max_f = skills_per_profession[p].max()\n",
    "        if max_f - min_f < 1e-10:\n",
    "            max_f += 1\n",
    "        size_series = skills_per_profession[p].apply(lambda x: (x - min_f) / (max_f - min_f))\n",
    "        size_dict = pd.Series(size_series.values, index=skills_per_profession.skill_id).to_dict()\n",
    "        df_for_prof['size'] = df_for_prof.skill_id.apply(lambda x: 15 * size_dict[x] + 0.8)\n",
    "\n",
    "        if df_plot_skill is None:\n",
    "            df_plot_skill = df_for_prof\n",
    "        else:\n",
    "            df_plot_skill = pd.concat([df_plot_skill, df_for_prof])\n",
    "\n",
    "    if profs_xy.shape[0] < 1000:\n",
    "        df_plot_prof = pd.DataFrame(profs_xy).rename(columns={0:'x',1:'y'})\n",
    "        df_plot_prof['Профессия'] = pd.Series(df_plot_prof.index).apply(lambda x: prof_index_to_corrected[x])\n",
    "    else:\n",
    "        # это потроение по th-idf признакам, а не профессиям -> нельзя построить карту профессий\n",
    "        df_plot_prof = None\n",
    "\n",
    "    return df_plot_skill, df_plot_prof"
   ]
  },
  {
   "cell_type": "code",
   "execution_count": 8,
   "metadata": {},
   "outputs": [
    {
     "data": {
      "text/plain": [
       "dict_values(['Продуктовый аналитик', 'Аналитик данных', 'Администратор баз данных', 'Computer Vision', 'Big Data', 'Аналитик', 'Системный аналитик', 'Аналитик BI', 'NLP', 'Инженер данных', 'Data Scientist', 'ML инженер', 'Бизнес-аналитик'])"
      ]
     },
     "execution_count": 8,
     "metadata": {},
     "output_type": "execute_result"
    }
   ],
   "source": [
    "prof_index_to_prof_name.values()"
   ]
  },
  {
   "cell_type": "code",
   "execution_count": 9,
   "metadata": {},
   "outputs": [],
   "source": [
    "def plot_skill_map(df: pd.DataFrame, width=1000, height=600) -> plotly.graph_objs.Figure:\n",
    "\n",
    "\n",
    "\n",
    "    color_list = [\n",
    "        '#F8A19F', '#AA0DFE', '#3283FE', '#1CBE4F', '#C4451C', '#F6222E', \n",
    "        '#FE00FA', '#325A9B', '#FEAF16', \n",
    "        '#90AD1C', '#2ED9FF', '#B10DA1',\n",
    "         '#909090', '#FBE426',\n",
    "        '#FA0087', '#C075A6', '#FC1CBF'\n",
    "    ]\n",
    "\n",
    "\n",
    "    \n",
    "    # custom visualization order\n",
    "    # for better reproducability\n",
    "    prof_order = [\n",
    "        'Data Scientist', 'ML инженер', 'Computer Vision', 'NLP',\n",
    "        'Инженер данных', 'Big Data', 'Администратор баз данных', 'Аналитик данных',\n",
    "        'Аналитик', 'Бизнес-аналитик', 'Продуктовый аналитик', 'Аналитик BI',\n",
    "        'Системный аналитик' ]\n",
    "\n",
    "    fig = px.scatter(df, x='x', y='y',\n",
    "                    color='Профессия', hover_name='Навык', \n",
    "                    hover_data= {'x':False, 'y':False, 'size':False, 'Профессия': False},\n",
    "                    size='size', category_orders={'Профессия': prof_order},\n",
    "                    #color_discrete_sequence=px.colors.qualitative.Plotly,\n",
    "                    color_discrete_sequence=color_list,\n",
    "                    title = None, width=width, height=height)\n",
    "\n",
    "    fig.update_traces(marker=dict(opacity=0.7, line=dict(width=0.5, color='DarkSlateGrey')), \n",
    "                  selector=dict(mode='markers'))\n",
    "\n",
    "    fig.update_xaxes(visible=False)\n",
    "    fig.update_yaxes(visible=False)\n",
    "\n",
    "    return fig"
   ]
  },
  {
   "cell_type": "code",
   "execution_count": 10,
   "metadata": {},
   "outputs": [],
   "source": [
    "df_plot_skill, _ = prepare_plot_df(skill_df, matrix, skill_index_to_corrected,\n",
    "                                              prof_index_to_prof_name, \n",
    "                                              top_n_skill_per_profession=100,\n",
    "                                              norm_type='none', factor_alg_type='tsne')\n",
    "\n"
   ]
  },
  {
   "cell_type": "code",
   "execution_count": 11,
   "metadata": {},
   "outputs": [
    {
     "data": {
      "text/html": [
       "<div>\n",
       "<style scoped>\n",
       "    .dataframe tbody tr th:only-of-type {\n",
       "        vertical-align: middle;\n",
       "    }\n",
       "\n",
       "    .dataframe tbody tr th {\n",
       "        vertical-align: top;\n",
       "    }\n",
       "\n",
       "    .dataframe thead th {\n",
       "        text-align: right;\n",
       "    }\n",
       "</style>\n",
       "<table border=\"1\" class=\"dataframe\">\n",
       "  <thead>\n",
       "    <tr style=\"text-align: right;\">\n",
       "      <th></th>\n",
       "      <th>x</th>\n",
       "      <th>y</th>\n",
       "      <th>skill_id</th>\n",
       "      <th>Навык</th>\n",
       "      <th>Профессия</th>\n",
       "      <th>size</th>\n",
       "    </tr>\n",
       "  </thead>\n",
       "  <tbody>\n",
       "    <tr>\n",
       "      <th>0</th>\n",
       "      <td>21.200890</td>\n",
       "      <td>-20.462936</td>\n",
       "      <td>56</td>\n",
       "      <td>SQL</td>\n",
       "      <td>Продуктовый аналитик</td>\n",
       "      <td>15.800000</td>\n",
       "    </tr>\n",
       "    <tr>\n",
       "      <th>1</th>\n",
       "      <td>21.312559</td>\n",
       "      <td>-20.703249</td>\n",
       "      <td>121</td>\n",
       "      <td>Python</td>\n",
       "      <td>Продуктовый аналитик</td>\n",
       "      <td>12.675000</td>\n",
       "    </tr>\n",
       "    <tr>\n",
       "      <th>2</th>\n",
       "      <td>19.859673</td>\n",
       "      <td>-20.056461</td>\n",
       "      <td>64</td>\n",
       "      <td>Анализ данных</td>\n",
       "      <td>Продуктовый аналитик</td>\n",
       "      <td>11.216667</td>\n",
       "    </tr>\n",
       "    <tr>\n",
       "      <th>3</th>\n",
       "      <td>20.099825</td>\n",
       "      <td>-19.110481</td>\n",
       "      <td>25</td>\n",
       "      <td>Аналитическое мышление</td>\n",
       "      <td>Продуктовый аналитик</td>\n",
       "      <td>10.591667</td>\n",
       "    </tr>\n",
       "    <tr>\n",
       "      <th>4</th>\n",
       "      <td>12.036394</td>\n",
       "      <td>-23.871042</td>\n",
       "      <td>158</td>\n",
       "      <td>A/B тесты</td>\n",
       "      <td>Продуктовый аналитик</td>\n",
       "      <td>7.258333</td>\n",
       "    </tr>\n",
       "    <tr>\n",
       "      <th>...</th>\n",
       "      <td>...</td>\n",
       "      <td>...</td>\n",
       "      <td>...</td>\n",
       "      <td>...</td>\n",
       "      <td>...</td>\n",
       "      <td>...</td>\n",
       "    </tr>\n",
       "    <tr>\n",
       "      <th>412</th>\n",
       "      <td>0.578912</td>\n",
       "      <td>-10.383223</td>\n",
       "      <td>702</td>\n",
       "      <td>Системный подход</td>\n",
       "      <td>Бизнес-аналитик</td>\n",
       "      <td>0.868337</td>\n",
       "    </tr>\n",
       "    <tr>\n",
       "      <th>413</th>\n",
       "      <td>-0.884876</td>\n",
       "      <td>-11.514575</td>\n",
       "      <td>2037</td>\n",
       "      <td>E-Commerce</td>\n",
       "      <td>Бизнес-аналитик</td>\n",
       "      <td>0.834169</td>\n",
       "    </tr>\n",
       "    <tr>\n",
       "      <th>414</th>\n",
       "      <td>-0.366882</td>\n",
       "      <td>-11.376678</td>\n",
       "      <td>685</td>\n",
       "      <td>amoCRM</td>\n",
       "      <td>Бизнес-аналитик</td>\n",
       "      <td>0.800000</td>\n",
       "    </tr>\n",
       "    <tr>\n",
       "      <th>415</th>\n",
       "      <td>1.020695</td>\n",
       "      <td>-9.070623</td>\n",
       "      <td>1058</td>\n",
       "      <td>стрессоустойчивость</td>\n",
       "      <td>Бизнес-аналитик</td>\n",
       "      <td>0.800000</td>\n",
       "    </tr>\n",
       "    <tr>\n",
       "      <th>416</th>\n",
       "      <td>-0.779505</td>\n",
       "      <td>-10.649643</td>\n",
       "      <td>762</td>\n",
       "      <td>MS Project</td>\n",
       "      <td>Бизнес-аналитик</td>\n",
       "      <td>0.800000</td>\n",
       "    </tr>\n",
       "  </tbody>\n",
       "</table>\n",
       "<p>417 rows × 6 columns</p>\n",
       "</div>"
      ],
      "text/plain": [
       "             x          y  skill_id                   Навык  \\\n",
       "0    21.200890 -20.462936        56                     SQL   \n",
       "1    21.312559 -20.703249       121                  Python   \n",
       "2    19.859673 -20.056461        64           Анализ данных   \n",
       "3    20.099825 -19.110481        25  Аналитическое мышление   \n",
       "4    12.036394 -23.871042       158               A/B тесты   \n",
       "..         ...        ...       ...                     ...   \n",
       "412   0.578912 -10.383223       702        Системный подход   \n",
       "413  -0.884876 -11.514575      2037              E-Commerce   \n",
       "414  -0.366882 -11.376678       685                  amoCRM   \n",
       "415   1.020695  -9.070623      1058     стрессоустойчивость   \n",
       "416  -0.779505 -10.649643       762              MS Project   \n",
       "\n",
       "                Профессия       size  \n",
       "0    Продуктовый аналитик  15.800000  \n",
       "1    Продуктовый аналитик  12.675000  \n",
       "2    Продуктовый аналитик  11.216667  \n",
       "3    Продуктовый аналитик  10.591667  \n",
       "4    Продуктовый аналитик   7.258333  \n",
       "..                    ...        ...  \n",
       "412       Бизнес-аналитик   0.868337  \n",
       "413       Бизнес-аналитик   0.834169  \n",
       "414       Бизнес-аналитик   0.800000  \n",
       "415       Бизнес-аналитик   0.800000  \n",
       "416       Бизнес-аналитик   0.800000  \n",
       "\n",
       "[417 rows x 6 columns]"
      ]
     },
     "execution_count": 11,
     "metadata": {},
     "output_type": "execute_result"
    }
   ],
   "source": [
    "df_plot_skill.drop_duplicates(subset=['x', 'y', 'skill_id', 'Навык'])"
   ]
  },
  {
   "cell_type": "code",
   "execution_count": 12,
   "metadata": {},
   "outputs": [
    {
     "data": {
      "text/plain": [
       "(417, 6)"
      ]
     },
     "execution_count": 12,
     "metadata": {},
     "output_type": "execute_result"
    }
   ],
   "source": [
    "df = df_plot_skill.drop_duplicates(subset=['x', 'y', 'skill_id'])\n",
    "df.shape"
   ]
  },
  {
   "cell_type": "code",
   "execution_count": 13,
   "metadata": {},
   "outputs": [
    {
     "data": {
      "text/html": [
       "<div>\n",
       "<style scoped>\n",
       "    .dataframe tbody tr th:only-of-type {\n",
       "        vertical-align: middle;\n",
       "    }\n",
       "\n",
       "    .dataframe tbody tr th {\n",
       "        vertical-align: top;\n",
       "    }\n",
       "\n",
       "    .dataframe thead th {\n",
       "        text-align: right;\n",
       "    }\n",
       "</style>\n",
       "<table border=\"1\" class=\"dataframe\">\n",
       "  <thead>\n",
       "    <tr style=\"text-align: right;\">\n",
       "      <th></th>\n",
       "      <th>x</th>\n",
       "      <th>y</th>\n",
       "      <th>skill_id</th>\n",
       "      <th>Навык</th>\n",
       "      <th>Профессия</th>\n",
       "      <th>size</th>\n",
       "    </tr>\n",
       "  </thead>\n",
       "  <tbody>\n",
       "    <tr>\n",
       "      <th>392</th>\n",
       "      <td>-16.436144</td>\n",
       "      <td>-3.662397</td>\n",
       "      <td>564</td>\n",
       "      <td>Search ranking</td>\n",
       "      <td>Data Scientist</td>\n",
       "      <td>0.844248</td>\n",
       "    </tr>\n",
       "    <tr>\n",
       "      <th>393</th>\n",
       "      <td>-16.436144</td>\n",
       "      <td>-3.662397</td>\n",
       "      <td>1433</td>\n",
       "      <td>PD</td>\n",
       "      <td>Data Scientist</td>\n",
       "      <td>0.844248</td>\n",
       "    </tr>\n",
       "    <tr>\n",
       "      <th>397</th>\n",
       "      <td>-16.436144</td>\n",
       "      <td>-3.662397</td>\n",
       "      <td>1978</td>\n",
       "      <td>Information Technology</td>\n",
       "      <td>Data Scientist</td>\n",
       "      <td>0.844248</td>\n",
       "    </tr>\n",
       "  </tbody>\n",
       "</table>\n",
       "</div>"
      ],
      "text/plain": [
       "             x         y  skill_id                   Навык       Профессия  \\\n",
       "392 -16.436144 -3.662397       564          Search ranking  Data Scientist   \n",
       "393 -16.436144 -3.662397      1433                      PD  Data Scientist   \n",
       "397 -16.436144 -3.662397      1978  Information Technology  Data Scientist   \n",
       "\n",
       "         size  \n",
       "392  0.844248  \n",
       "393  0.844248  \n",
       "397  0.844248  "
      ]
     },
     "execution_count": 13,
     "metadata": {},
     "output_type": "execute_result"
    }
   ],
   "source": [
    "df.groupby(['x', 'y']).filter(lambda x: len(x) > 1)"
   ]
  },
  {
   "attachments": {},
   "cell_type": "markdown",
   "metadata": {},
   "source": [
    "Это очень странно (выше, что разные навыки получили одну и ту же точку)"
   ]
  },
  {
   "cell_type": "code",
   "execution_count": 14,
   "metadata": {},
   "outputs": [
    {
     "data": {
      "text/plain": [
       "(2196, 13)"
      ]
     },
     "execution_count": 14,
     "metadata": {},
     "output_type": "execute_result"
    }
   ],
   "source": [
    "matrix.shape"
   ]
  },
  {
   "cell_type": "code",
   "execution_count": 15,
   "metadata": {},
   "outputs": [
    {
     "data": {
      "text/plain": [
       "(728, 13)"
      ]
     },
     "execution_count": 15,
     "metadata": {},
     "output_type": "execute_result"
    }
   ],
   "source": [
    "np.unique(matrix, axis=0).shape"
   ]
  },
  {
   "attachments": {},
   "cell_type": "markdown",
   "metadata": {},
   "source": [
    "Думаю объяснение выше: есть множество навыков, которые имеют абсолютно одиниковое предстваление в профессиях"
   ]
  },
  {
   "attachments": {},
   "cell_type": "markdown",
   "metadata": {},
   "source": [
    "Mean reciprocal rank https://en.wikipedia.org/wiki/Mean_reciprocal_rank"
   ]
  },
  {
   "cell_type": "code",
   "execution_count": 16,
   "metadata": {},
   "outputs": [],
   "source": [
    "# df_plot_skill, _ = prepare_plot_df(skill_df, matrix, skill_index_to_corrected,\n",
    "#                                               prof_index_to_prof_name, \n",
    "#                                               top_n_skill_per_profession=30,\n",
    "#                                               norm_type='skill', alg_type='tnse')"
   ]
  },
  {
   "cell_type": "code",
   "execution_count": 17,
   "metadata": {},
   "outputs": [
    {
     "data": {
      "text/plain": [
       "(0.08766978442347007, 107)"
      ]
     },
     "execution_count": 17,
     "metadata": {},
     "output_type": "execute_result"
    }
   ],
   "source": [
    "def get_mean_reciprocal_rank(df: pd.DataFrame, pairs: List[List[str]]) -> Tuple[float, int]:\n",
    "    \"\"\"Mean reciprocal rank https://en.wikipedia.org/wiki/Mean_reciprocal_rank\n",
    "        \n",
    "        Parameters\n",
    "        ----------\n",
    "        df: pd.DataFrame\n",
    "            Data frame with columns ['x', 'y', 'Навык']\n",
    "        pairs: List[List[str]]\n",
    "            Target nearest skills pairs\n",
    "   \n",
    "        Returns\n",
    "        -------\n",
    "        Tuple[float, int] : \n",
    "            - mean_reciprocal_rank\n",
    "            - pairs count\n",
    "    \"\"\"\n",
    "\n",
    "    df = df.drop_duplicates(subset=['x', 'y', 'Навык'])\n",
    "\n",
    "    # берем только те строки, которые есть в тестовых парах\n",
    "    # берем только те пары, навыки которых есть в данных\n",
    "\n",
    "    skills_test_set = set([])\n",
    "    for p in skill_pairs:\n",
    "        skills_test_set = skills_test_set.union(set(p))\n",
    "\n",
    "    df = df[df['Навык'].apply(lambda x: x in skills_test_set)]\n",
    "    df = df.reset_index(drop=True)\n",
    "\n",
    "    su = df['Навык'].unique()\n",
    "    pairs = [x for x in pairs if x[0] in su and x[1] in su]\n",
    "\n",
    "    # считаем расстояния в наших данных\n",
    "    x = df[['x', 'y']].to_numpy()\n",
    "    dist = cdist(x, x, 'sqeuclidean')\n",
    "\n",
    "    cs = 0\n",
    "    for p in pairs:\n",
    "        ind_p0 = df[df['Навык'] == p[0]].index[0]\n",
    "        ind_p1 = df[df['Навык'] == p[1]].index[0]\n",
    "\n",
    "        nn = np.argsort(dist[ind_p0, :])\n",
    "        rank = np.where(nn==ind_p1)[0][0]\n",
    "        cs += 1/(rank+1)\n",
    "\n",
    "        nn = np.argsort(dist[ind_p1, :])\n",
    "        rank = np.where(nn==ind_p0)[0][0]\n",
    "        cs += 1/(rank+1)\n",
    "\n",
    "    mean_reciprocal_rank = cs / (2 * len(pairs))\n",
    "    return mean_reciprocal_rank, len(pairs)\n",
    "\n",
    "get_mean_reciprocal_rank(df_plot_skill, skill_pairs)"
   ]
  },
  {
   "attachments": {},
   "cell_type": "markdown",
   "metadata": {},
   "source": [
    "Метрика **mean_reciprocal_rank@pairs=50**. Стремимся увеличить метрику, но сохранив количество пар, которые встречаются в данных, на уровне не менее 50\n",
    "\n",
    "\n"
   ]
  },
  {
   "cell_type": "code",
   "execution_count": 18,
   "metadata": {},
   "outputs": [
    {
     "name": "stdout",
     "output_type": "stream",
     "text": [
      "\n",
      "none tsne 5 True 20\n",
      "mrr = 0.149997212350356, pairs_count = 30\n",
      "\n",
      "none tsne 5 True 21\n",
      "mrr = 0.18313654336534077, pairs_count = 30\n",
      "\n",
      "none tsne 5 True 22\n",
      "mrr = 0.16977856959705123, pairs_count = 34\n",
      "\n",
      "none tsne 5 True 23\n",
      "mrr = 0.16727081345220446, pairs_count = 35\n",
      "\n",
      "none tsne 5 True 24\n",
      "mrr = 0.15700896309103257, pairs_count = 35\n",
      "\n",
      "none tsne 5 True 25\n",
      "mrr = 0.1441882248030672, pairs_count = 37\n",
      "\n",
      "none tsne 5 True 26\n",
      "mrr = 0.14144067031004745, pairs_count = 38\n",
      "\n",
      "none tsne 5 True 27\n",
      "mrr = 0.13103417637634915, pairs_count = 39\n",
      "\n",
      "none tsne 5 True 28\n",
      "mrr = 0.14262953256013824, pairs_count = 39\n",
      "\n",
      "none tsne 5 True 29\n",
      "mrr = 0.13578260250552704, pairs_count = 40\n",
      "\n",
      "none tsne 5 True 30\n",
      "mrr = 0.1401453829519057, pairs_count = 41\n",
      "\n",
      "none tsne 5 True 31\n",
      "mrr = 0.14125441250719561, pairs_count = 43\n",
      "\n",
      "none tsne 5 True 32\n",
      "mrr = 0.13780097838264585, pairs_count = 43\n",
      "\n",
      "none tsne 5 True 33\n",
      "mrr = 0.13455661871755448, pairs_count = 45\n",
      "\n",
      "none tsne 5 True 34\n",
      "mrr = 0.13790443279705214, pairs_count = 47\n",
      "\n",
      "none tsne 5 True 35\n",
      "mrr = 0.12565112772640924, pairs_count = 49\n",
      "\n",
      "none tsne 5 True 36\n",
      "mrr = 0.11608912915358759, pairs_count = 53\n",
      "\n",
      "none tsne 5 True 37\n",
      "mrr = 0.12761538790093951, pairs_count = 54\n",
      "\n",
      "none tsne 5 True 38\n",
      "mrr = 0.10934131264280396, pairs_count = 56\n",
      "\n",
      "none tsne 5 True 39\n",
      "mrr = 0.10474387639262349, pairs_count = 57\n",
      "\n",
      "none tsne 5 True 40\n",
      "mrr = 0.09918628663755522, pairs_count = 59\n",
      "\n",
      "none tsne 5 True 41\n",
      "mrr = 0.10609273454664356, pairs_count = 59\n",
      "\n",
      "none tsne 5 True 42\n",
      "mrr = 0.10140692734572647, pairs_count = 60\n",
      "\n",
      "none tsne 5 True 43\n",
      "mrr = 0.10328416521167513, pairs_count = 60\n",
      "\n",
      "none tsne 5 True 44\n",
      "mrr = 0.10949168668912199, pairs_count = 62\n",
      "\n",
      "none tsne 5 True 45\n",
      "mrr = 0.10491141126443697, pairs_count = 63\n",
      "\n",
      "none tsne 5 True 46\n",
      "mrr = 0.10072262760289483, pairs_count = 69\n",
      "\n",
      "none tsne 5 True 47\n",
      "mrr = 0.09594190242709126, pairs_count = 70\n",
      "\n",
      "none tsne 5 True 48\n",
      "mrr = 0.10486046300214898, pairs_count = 72\n",
      "\n",
      "none tsne 5 True 49\n",
      "mrr = 0.09884602733550246, pairs_count = 72\n",
      "\n",
      "none tsne 5 True 50\n",
      "mrr = 0.10397904354069944, pairs_count = 74\n",
      "\n",
      "none als 5 True 20\n",
      "mrr = 0.09440806052669862, pairs_count = 30\n",
      "\n",
      "none als 5 True 21\n",
      "mrr = 0.0868405263427028, pairs_count = 30\n",
      "\n",
      "none als 5 True 22\n",
      "mrr = 0.09202386878074276, pairs_count = 34\n",
      "\n",
      "none als 5 True 23\n",
      "mrr = 0.0970194044434785, pairs_count = 35\n",
      "\n",
      "none als 5 True 24\n",
      "mrr = 0.08758937808760021, pairs_count = 35\n",
      "\n",
      "none als 5 True 25\n",
      "mrr = 0.08952815545243849, pairs_count = 37\n",
      "\n",
      "none als 5 True 26\n",
      "mrr = 0.09932737442942581, pairs_count = 38\n",
      "\n",
      "none als 5 True 27\n",
      "mrr = 0.08260141530108668, pairs_count = 39\n",
      "\n",
      "none als 5 True 28\n",
      "mrr = 0.07762247094443359, pairs_count = 39\n",
      "\n",
      "none als 5 True 29\n",
      "mrr = 0.07791194758251688, pairs_count = 40\n",
      "\n",
      "none als 5 True 30\n",
      "mrr = 0.0919387913884229, pairs_count = 41\n",
      "\n",
      "none als 5 True 31\n",
      "mrr = 0.0809429935973885, pairs_count = 43\n",
      "\n",
      "none als 5 True 32\n",
      "mrr = 0.08140304366418537, pairs_count = 43\n",
      "\n",
      "none als 5 True 33\n",
      "mrr = 0.08407864787781938, pairs_count = 45\n"
     ]
    }
   ],
   "source": [
    "# оптимизация\n",
    "k = 50\n",
    "best_norm_type = ''\n",
    "best_alg_type = ''\n",
    "best_top_n_skill_per_profession = -1\n",
    "best_mean_reciprocal_rank = 0\n",
    "best_dim = 0\n",
    "best_use_tsne = False\n",
    "stat = []\n",
    "for norm_type in ['none', 'skill', 'prof', 'bm', 'tfidf']:\n",
    "    for alg_type, dim, use_tsne in \\\n",
    "        [('tsne', 5, True),\n",
    "         ('als', 5, True),\n",
    "         ('svd', 5, True),\n",
    "         ('svd', 2, False),\n",
    "         ('pca', 5, True),\n",
    "         ('pca', 2, False),\n",
    "         ('sim_euclid', 5, True),\n",
    "         ('sim_cos', 5, True),\n",
    "         ('umap', 5, True),\n",
    "         ('umap', 2, False), ]:\n",
    "\n",
    "        for top_n_skill_per_profession in range(20, 51, 1):\n",
    "            df, _ = prepare_plot_df(skill_df, matrix, skill_index_to_corrected,\n",
    "                                    prof_index_to_prof_name, \n",
    "                                    top_n_skill_per_profession=top_n_skill_per_profession,\n",
    "                                    norm_type=norm_type,\n",
    "                                    factor_alg_type=alg_type)\n",
    "            mrr, pairs_count = get_mean_reciprocal_rank(df, skill_pairs)\n",
    "\n",
    "            print()\n",
    "            print(norm_type, alg_type, dim, use_tsne, top_n_skill_per_profession)\n",
    "            print(f'mrr = {mrr}, pairs_count = {pairs_count}')\n",
    "            stat.append((norm_type, alg_type, dim, use_tsne, top_n_skill_per_profession, mrr, pairs_count))\n",
    "\n",
    "            if pairs_count > k and mrr > best_mean_reciprocal_rank:\n",
    "                best_mean_reciprocal_rank = mrr\n",
    "                best_norm_type = norm_type\n",
    "                best_alg_type = alg_type\n",
    "                best_top_n_skill_per_profession = top_n_skill_per_profession\n",
    "                best_dim = dim\n",
    "                best_use_tsne = use_tsne\n",
    "\n",
    "print()\n",
    "print('best_mean_reciprocal_rank =', best_mean_reciprocal_rank)\n",
    "print('best_norm_type =', best_norm_type)\n",
    "print('best_alg_type =', best_alg_type)\n",
    "print('best_dim =', best_dim)\n",
    "print('best_use_tsne =', best_use_tsne)\n",
    "print('best_top_n_skill_per_profession =', best_top_n_skill_per_profession)\n",
    "\n",
    "df, _ = prepare_plot_df(skill_df, matrix, skill_index_to_corrected,\n",
    "                                    prof_index_to_prof_name, \n",
    "                                    top_n_skill_per_profession=best_top_n_skill_per_profession,\n",
    "                                    norm_type=best_norm_type,\n",
    "                                    factor_alg_type=best_alg_type,\n",
    "                                    dim=best_dim,\n",
    "                                    use_tsne=best_use_tsne)\n",
    "\n",
    "plot_skill_map(df).show()\n",
    "\n",
    "##!!! Возможно нужно иметь топ-н алгоритмов, потому что есть алгоритмы с одинаковой метрикой или близкой..."
   ]
  },
  {
   "cell_type": "code",
   "execution_count": null,
   "metadata": {},
   "outputs": [],
   "source": []
  },
  {
   "cell_type": "code",
   "execution_count": null,
   "metadata": {},
   "outputs": [],
   "source": [
    "# Сравнить построение графика\n",
    "\n",
    "# norm_type skill это плохо?\n",
    "\n",
    "# очень интересно про косинусное растояние"
   ]
  },
  {
   "cell_type": "code",
   "execution_count": null,
   "metadata": {},
   "outputs": [],
   "source": []
  },
  {
   "cell_type": "code",
   "execution_count": null,
   "metadata": {},
   "outputs": [],
   "source": [
    "# plot_skill_map(df_plot_skill).show()"
   ]
  },
  {
   "cell_type": "code",
   "execution_count": null,
   "metadata": {},
   "outputs": [
    {
     "data": {
      "application/vnd.plotly.v1+json": {
       "config": {
        "plotlyServerURL": "https://plot.ly"
       },
       "data": [
        {
         "customdata": [
          [
           2.0074303405572675,
           "Data Scientist"
          ],
          [
           10.366563467492252,
           "Data Scientist"
          ],
          [
           6.55851393188854,
           "Data Scientist"
          ],
          [
           4.422291021671817,
           "Data Scientist"
          ],
          [
           0.8928792569659472,
           "Data Scientist"
          ],
          [
           15.8,
           "Data Scientist"
          ],
          [
           3.8185758513931827,
           "Data Scientist"
          ],
          [
           1.0321981424148603,
           "Data Scientist"
          ],
          [
           5.258204334365326,
           "Data Scientist"
          ],
          [
           1.775232198142407,
           "Data Scientist"
          ],
          [
           1.8216718266253882,
           "Data Scientist"
          ],
          [
           1.1715170278637734,
           "Data Scientist"
          ],
          [
           0.846439628482966,
           "Data Scientist"
          ],
          [
           0.846439628482966,
           "Data Scientist"
          ],
          [
           0.8928792569659472,
           "Data Scientist"
          ],
          [
           2.8897832817337425,
           "Data Scientist"
          ],
          [
           12.363467492260064,
           "Data Scientist"
          ],
          [
           1.5430340557275468,
           "Data Scientist"
          ],
          [
           0.846439628482966,
           "Data Scientist"
          ],
          [
           2.843343653250776,
           "Data Scientist"
          ],
          [
           2.6111455108359163,
           "Data Scientist"
          ],
          [
           1.9145510835913355,
           "Data Scientist"
          ],
          [
           0.9857585139318792,
           "Data Scientist"
          ],
          [
           1.9609907120743015,
           "Data Scientist"
          ],
          [
           0.846439628482966,
           "Data Scientist"
          ],
          [
           0.846439628482966,
           "Data Scientist"
          ],
          [
           1.8216718266253882,
           "Data Scientist"
          ],
          [
           2.2860681114551085,
           "Data Scientist"
          ],
          [
           2.936222910216708,
           "Data Scientist"
          ],
          [
           1.589473684210528,
           "Data Scientist"
          ],
          [
           5.165325077399379,
           "Data Scientist"
          ],
          [
           1.4501547987615997,
           "Data Scientist"
          ],
          [
           1.4965944272445808,
           "Data Scientist"
          ],
          [
           2.193188854489162,
           "Data Scientist"
          ],
          [
           0.846439628482966,
           "Data Scientist"
          ],
          [
           2.193188854489162,
           "Data Scientist"
          ],
          [
           2.982662538699689,
           "Data Scientist"
          ],
          [
           0.846439628482966,
           "Data Scientist"
          ],
          [
           0.8,
           "Data Scientist"
          ]
         ],
         "hovertemplate": "<b>%{hovertext}</b><br><br><extra></extra>",
         "hovertext": [
          "Аналитическое мышление",
          "SQL",
          "Английский",
          "Анализ данных",
          "Анализ рынка",
          "Python",
          "Работа с большим объемом информации",
          "Power BI",
          "Математическая статистика",
          "MS SQL",
          "Базы данных",
          "Деловая коммуникация",
          "Грамотная речь",
          "Работа с базами данных",
          "Работа в команде",
          "Математический анализ",
          "Machine Learning",
          "PostgreSQL",
          "ETL",
          "Hadoop",
          "Spark",
          "Linux",
          "Airflow",
          "Docker",
          "Hive",
          "ClickHouse",
          "Git",
          "NLP",
          "PyTorch",
          "Computer Vision",
          "Data Science",
          "Tensorflow",
          "Deep Learning",
          "Scikit-learn",
          "Алгоритмы",
          "Numpy",
          "Pandas",
          "A/B тесты",
          "Нейронные сети"
         ],
         "legendgroup": "Data Scientist",
         "marker": {
          "color": "#F8A19F",
          "line": {
           "color": "DarkSlateGrey",
           "width": 0.5
          },
          "opacity": 0.7,
          "size": [
           2.0074303405572675,
           10.366563467492252,
           6.55851393188854,
           4.422291021671817,
           0.8928792569659472,
           15.8,
           3.8185758513931827,
           1.0321981424148603,
           5.258204334365326,
           1.775232198142407,
           1.8216718266253882,
           1.1715170278637734,
           0.846439628482966,
           0.846439628482966,
           0.8928792569659472,
           2.8897832817337425,
           12.363467492260064,
           1.5430340557275468,
           0.846439628482966,
           2.843343653250776,
           2.6111455108359163,
           1.9145510835913355,
           0.9857585139318792,
           1.9609907120743015,
           0.846439628482966,
           0.846439628482966,
           1.8216718266253882,
           2.2860681114551085,
           2.936222910216708,
           1.589473684210528,
           5.165325077399379,
           1.4501547987615997,
           1.4965944272445808,
           2.193188854489162,
           0.846439628482966,
           2.193188854489162,
           2.982662538699689,
           0.846439628482966,
           0.8
          ],
          "sizemode": "area",
          "sizeref": 0.0395,
          "symbol": "circle"
         },
         "mode": "markers",
         "name": "Data Scientist",
         "orientation": "v",
         "showlegend": true,
         "type": "scatter",
         "x": [
          2.3541963,
          -1.8034787,
          -1.1382192,
          1.0018588,
          0.6804172,
          -2.8485763,
          -2.0147564,
          1.9449463,
          0.7132438,
          -9.493026,
          -10.0811205,
          2.8069592,
          2.0222838,
          -9.483817,
          2.618913,
          -2.6705348,
          -2.960048,
          -9.580861,
          -5.3893723,
          -5.9830446,
          -5.7253194,
          -9.431202,
          -5.198168,
          -6.7520885,
          -5.717642,
          -6.8071046,
          -3.6619935,
          -2.0189776,
          -3.0280194,
          -3.658935,
          -2.791866,
          -3.2614038,
          -3.2048988,
          -3.3035352,
          -3.907771,
          -3.0238922,
          -3.1155114,
          0.013752021,
          -4.050641
         ],
         "xaxis": "x",
         "y": [
          4.155155,
          0.25212887,
          -1.3914798,
          6.3528886,
          5.130175,
          -5.007139,
          0.3795224,
          6.193103,
          6.667867,
          1.0154213,
          0.7525142,
          1.922136,
          3.0233712,
          1.1946265,
          2.190059,
          -4.200936,
          -6.9472494,
          0.18554576,
          -0.562909,
          -0.99356896,
          -1.3267413,
          -0.394604,
          -1.0259289,
          -1.7994869,
          -0.97785425,
          -0.1862305,
          -6.9518332,
          -8.596292,
          -8.318691,
          -8.773716,
          -7.433746,
          -8.178023,
          -7.9256105,
          -7.267084,
          -7.9166718,
          -6.383897,
          -3.960903,
          8.554733,
          -7.660229
         ],
         "yaxis": "y"
        },
        {
         "customdata": [
          [
           1.6128078817733957,
           "ML инженер"
          ],
          [
           8.263054187192123,
           "ML инженер"
          ],
          [
           6.267980295566502,
           "ML инженер"
          ],
          [
           2.1300492610837347,
           "ML инженер"
          ],
          [
           15.8,
           "ML инженер"
          ],
          [
           3.090640394088658,
           "ML инженер"
          ],
          [
           2.203940886699508,
           "ML инженер"
          ],
          [
           1.5389162561576226,
           "ML инженер"
          ],
          [
           1.0216748768472834,
           "ML инженер"
          ],
          [
           0.8738916256157553,
           "ML инженер"
          ],
          [
           0.8,
           "ML инженер"
          ],
          [
           13.804926108374381,
           "ML инженер"
          ],
          [
           1.3172413793103397,
           "ML инженер"
          ],
          [
           3.312315270935959,
           "ML инженер"
          ],
          [
           3.0167487684729037,
           "ML инженер"
          ],
          [
           2.4256157635467908,
           "ML инженер"
          ],
          [
           2.3517241379310363,
           "ML инженер"
          ],
          [
           3.090640394088658,
           "ML инженер"
          ],
          [
           1.3911330049260948,
           "ML инженер"
          ],
          [
           2.4256157635467908,
           "ML инженер"
          ],
          [
           1.6128078817733957,
           "ML инженер"
          ],
          [
           1.2433497536945843,
           "ML инженер"
          ],
          [
           2.795073891625602,
           "ML инженер"
          ],
          [
           1.0216748768472834,
           "ML инженер"
          ],
          [
           1.5389162561576226,
           "ML инженер"
          ],
          [
           3.607881773399016,
           "ML инженер"
          ],
          [
           1.4650246305418673,
           "ML инженер"
          ],
          [
           1.982266009852207,
           "ML инженер"
          ],
          [
           0.9477832512315281,
           "ML инженер"
          ],
          [
           2.0561576354679794,
           "ML инженер"
          ],
          [
           1.8344827586206789,
           "ML инженер"
          ],
          [
           2.3517241379310363,
           "ML инженер"
          ],
          [
           1.0216748768472834,
           "ML инженер"
          ],
          [
           1.3172413793103397,
           "ML инженер"
          ],
          [
           1.3911330049260948,
           "ML инженер"
          ],
          [
           1.2433497536945843,
           "ML инженер"
          ],
          [
           0.9477832512315281,
           "ML инженер"
          ],
          [
           0.9477832512315281,
           "ML инженер"
          ],
          [
           0.8738916256157553,
           "ML инженер"
          ]
         ],
         "hovertemplate": "<b>%{hovertext}</b><br><br><extra></extra>",
         "hovertext": [
          "Аналитическое мышление",
          "SQL",
          "Английский",
          "Анализ данных",
          "Python",
          "Работа с большим объемом информации",
          "Математическая статистика",
          "Базы данных",
          "Грамотная речь",
          "Работа в команде",
          "Математический анализ",
          "Machine Learning",
          "DWH",
          "PostgreSQL",
          "ETL",
          "Hadoop",
          "Spark",
          "Linux",
          "Kafka",
          "Docker",
          "Java",
          "ClickHouse",
          "Git",
          "Kubernetes",
          "NLP",
          "PyTorch",
          "Computer Vision",
          "Data Science",
          "OpenCV",
          "Tensorflow",
          "Deep Learning",
          "C++",
          "Scikit-learn",
          "Алгоритмы",
          "Numpy",
          "Pandas",
          "Нейронные сети",
          "Adobe Photoshop",
          "Высокая скорость печати"
         ],
         "legendgroup": "ML инженер",
         "marker": {
          "color": "#AA0DFE",
          "line": {
           "color": "DarkSlateGrey",
           "width": 0.5
          },
          "opacity": 0.7,
          "size": [
           1.6128078817733957,
           8.263054187192123,
           6.267980295566502,
           2.1300492610837347,
           15.8,
           3.090640394088658,
           2.203940886699508,
           1.5389162561576226,
           1.0216748768472834,
           0.8738916256157553,
           0.8,
           13.804926108374381,
           1.3172413793103397,
           3.312315270935959,
           3.0167487684729037,
           2.4256157635467908,
           2.3517241379310363,
           3.090640394088658,
           1.3911330049260948,
           2.4256157635467908,
           1.6128078817733957,
           1.2433497536945843,
           2.795073891625602,
           1.0216748768472834,
           1.5389162561576226,
           3.607881773399016,
           1.4650246305418673,
           1.982266009852207,
           0.9477832512315281,
           2.0561576354679794,
           1.8344827586206789,
           2.3517241379310363,
           1.0216748768472834,
           1.3172413793103397,
           1.3911330049260948,
           1.2433497536945843,
           0.9477832512315281,
           0.9477832512315281,
           0.8738916256157553
          ],
          "sizemode": "area",
          "sizeref": 0.0395,
          "symbol": "circle"
         },
         "mode": "markers",
         "name": "ML инженер",
         "orientation": "v",
         "showlegend": true,
         "type": "scatter",
         "x": [
          2.3541963,
          -1.8034787,
          -1.1382192,
          1.0018588,
          -2.8485763,
          -2.0147564,
          0.7132438,
          -10.0811205,
          2.0222838,
          2.618913,
          -2.6705348,
          -2.960048,
          -4.8950844,
          -9.580861,
          -5.3893723,
          -5.9830446,
          -5.7253194,
          -9.431202,
          -6.571614,
          -6.7520885,
          -6.288912,
          -6.8071046,
          -3.6619935,
          -5.6203723,
          -2.0189776,
          -3.0280194,
          -3.658935,
          -2.791866,
          -3.8393512,
          -3.2614038,
          -3.2048988,
          -3.4846616,
          -3.3035352,
          -3.907771,
          -3.0238922,
          -3.1155114,
          -4.050641,
          -3.7669344,
          -3.7838833
         ],
         "xaxis": "x",
         "y": [
          4.155155,
          0.25212887,
          -1.3914798,
          6.3528886,
          -5.007139,
          0.3795224,
          6.667867,
          0.7525142,
          3.0233712,
          2.190059,
          -4.200936,
          -6.9472494,
          -0.2723809,
          0.18554576,
          -0.562909,
          -0.99356896,
          -1.3267413,
          -0.394604,
          -0.5872026,
          -1.7994869,
          -1.6099663,
          -0.1862305,
          -6.9518332,
          -1.4491276,
          -8.596292,
          -8.318691,
          -8.773716,
          -7.433746,
          -8.899007,
          -8.178023,
          -7.9256105,
          -7.8883367,
          -7.267084,
          -7.9166718,
          -6.383897,
          -3.960903,
          -7.660229,
          -3.4220982,
          -3.4932954
         ],
         "yaxis": "y"
        },
        {
         "customdata": [
          [
           2.3517241379310327,
           "Computer Vision"
          ],
          [
           8.558620689655164,
           "Computer Vision"
          ],
          [
           11.662068965517232,
           "Computer Vision"
          ],
          [
           2.868965517241377,
           "Computer Vision"
          ],
          [
           15.8,
           "Computer Vision"
          ],
          [
           1.3172413793103444,
           "Computer Vision"
          ],
          [
           0.8,
           "Computer Vision"
          ],
          [
           1.8344827586206884,
           "Computer Vision"
          ],
          [
           1.8344827586206884,
           "Computer Vision"
          ],
          [
           0.8,
           "Computer Vision"
          ],
          [
           1.3172413793103444,
           "Computer Vision"
          ],
          [
           8.558620689655164,
           "Computer Vision"
          ],
          [
           1.8344827586206884,
           "Computer Vision"
          ],
          [
           0.8,
           "Computer Vision"
          ],
          [
           1.8344827586206884,
           "Computer Vision"
          ],
          [
           1.3172413793103444,
           "Computer Vision"
          ],
          [
           1.8344827586206884,
           "Computer Vision"
          ],
          [
           0.8,
           "Computer Vision"
          ],
          [
           0.8,
           "Computer Vision"
          ],
          [
           4.937931034482754,
           "Computer Vision"
          ],
          [
           8.558620689655164,
           "Computer Vision"
          ],
          [
           11.144827586206887,
           "Computer Vision"
          ],
          [
           3.9034482758620657,
           "Computer Vision"
          ],
          [
           9.07586206896551,
           "Computer Vision"
          ],
          [
           4.42068965517241,
           "Computer Vision"
          ],
          [
           3.3862068965517214,
           "Computer Vision"
          ],
          [
           3.3862068965517214,
           "Computer Vision"
          ],
          [
           2.3517241379310327,
           "Computer Vision"
          ],
          [
           3.3862068965517214,
           "Computer Vision"
          ],
          [
           1.3172413793103444,
           "Computer Vision"
          ],
          [
           1.3172413793103444,
           "Computer Vision"
          ],
          [
           1.8344827586206884,
           "Computer Vision"
          ],
          [
           0.8,
           "Computer Vision"
          ],
          [
           1.8344827586206884,
           "Computer Vision"
          ],
          [
           1.3172413793103444,
           "Computer Vision"
          ],
          [
           0.8,
           "Computer Vision"
          ],
          [
           0.8,
           "Computer Vision"
          ],
          [
           0.8,
           "Computer Vision"
          ],
          [
           0.8,
           "Computer Vision"
          ]
         ],
         "hovertemplate": "<b>%{hovertext}</b><br><br><extra></extra>",
         "hovertext": [
          "Аналитическое мышление",
          "SQL",
          "Английский",
          "Анализ данных",
          "Python",
          "Power BI",
          "MS PowerPoint",
          "Математическая статистика",
          "MS SQL",
          "Аналитические исследования",
          "Математический анализ",
          "Machine Learning",
          "PostgreSQL",
          "Power Query",
          "Hadoop",
          "Spark",
          "Linux",
          "Docker",
          "Hive",
          "Git",
          "PyTorch",
          "Computer Vision",
          "Data Science",
          "OpenCV",
          "Tensorflow",
          "Deep Learning",
          "C++",
          "Scikit-learn",
          "Алгоритмы",
          "Numpy",
          "Линейная алгебра",
          "ООП",
          "A/B тесты",
          "Нейронные сети",
          "Jira",
          "cvm",
          "mindbox",
          "Gitlab",
          "Mobilenet"
         ],
         "legendgroup": "Computer Vision",
         "marker": {
          "color": "#3283FE",
          "line": {
           "color": "DarkSlateGrey",
           "width": 0.5
          },
          "opacity": 0.7,
          "size": [
           2.3517241379310327,
           8.558620689655164,
           11.662068965517232,
           2.868965517241377,
           15.8,
           1.3172413793103444,
           0.8,
           1.8344827586206884,
           1.8344827586206884,
           0.8,
           1.3172413793103444,
           8.558620689655164,
           1.8344827586206884,
           0.8,
           1.8344827586206884,
           1.3172413793103444,
           1.8344827586206884,
           0.8,
           0.8,
           4.937931034482754,
           8.558620689655164,
           11.144827586206887,
           3.9034482758620657,
           9.07586206896551,
           4.42068965517241,
           3.3862068965517214,
           3.3862068965517214,
           2.3517241379310327,
           3.3862068965517214,
           1.3172413793103444,
           1.3172413793103444,
           1.8344827586206884,
           0.8,
           1.8344827586206884,
           1.3172413793103444,
           0.8,
           0.8,
           0.8,
           0.8
          ],
          "sizemode": "area",
          "sizeref": 0.0395,
          "symbol": "circle"
         },
         "mode": "markers",
         "name": "Computer Vision",
         "orientation": "v",
         "showlegend": true,
         "type": "scatter",
         "x": [
          2.3541963,
          -1.8034787,
          -1.1382192,
          1.0018588,
          -2.8485763,
          1.9449463,
          1.7354627,
          0.7132438,
          -9.493026,
          0.5494935,
          -2.6705348,
          -2.960048,
          -9.580861,
          1.8605313,
          -5.9830446,
          -5.7253194,
          -9.431202,
          -6.7520885,
          -5.717642,
          -3.6619935,
          -3.0280194,
          -3.658935,
          -2.791866,
          -3.8393512,
          -3.2614038,
          -3.2048988,
          -3.4846616,
          -3.3035352,
          -3.907771,
          -3.0238922,
          -3.381635,
          -3.961403,
          0.013752021,
          -4.050641,
          -0.18748379,
          -4.4313107,
          -4.431318,
          -9.416548,
          -3.3035586
         ],
         "xaxis": "x",
         "y": [
          4.155155,
          0.25212887,
          -1.3914798,
          6.3528886,
          -5.007139,
          6.193103,
          4.260798,
          6.667867,
          1.0154213,
          6.9890885,
          -4.200936,
          -6.9472494,
          0.18554576,
          4.8482914,
          -0.99356896,
          -1.3267413,
          -0.394604,
          -1.7994869,
          -0.97785425,
          -6.9518332,
          -8.318691,
          -8.773716,
          -7.433746,
          -8.899007,
          -8.178023,
          -7.9256105,
          -7.8883367,
          -7.267084,
          -7.9166718,
          -6.383897,
          -8.781,
          -8.02146,
          8.554733,
          -7.660229,
          -1.2244275,
          -9.450526,
          -9.445331,
          -1.392905,
          -9.088846
         ],
         "yaxis": "y"
        },
        {
         "customdata": [
          [
           5.556097560975612,
           "NLP"
          ],
          [
           10.312195121951227,
           "NLP"
          ],
          [
           1.8975609756097627,
           "NLP"
          ],
          [
           15.8,
           "NLP"
          ],
          [
           0.8,
           "NLP"
          ],
          [
           1.1658536585365877,
           "NLP"
          ],
          [
           1.5317073170731752,
           "NLP"
          ],
          [
           1.1658536585365877,
           "NLP"
          ],
          [
           11.775609756097563,
           "NLP"
          ],
          [
           1.5317073170731752,
           "NLP"
          ],
          [
           1.1658536585365877,
           "NLP"
          ],
          [
           0.8,
           "NLP"
          ],
          [
           1.1658536585365877,
           "NLP"
          ],
          [
           1.8975609756097627,
           "NLP"
          ],
          [
           1.5317073170731752,
           "NLP"
          ],
          [
           1.1658536585365877,
           "NLP"
          ],
          [
           3.726829268292687,
           "NLP"
          ],
          [
           9.214634146341464,
           "NLP"
          ],
          [
           8.4829268292683,
           "NLP"
          ],
          [
           7.385365853658536,
           "NLP"
          ],
          [
           5.190243902439025,
           "NLP"
          ],
          [
           5.190243902439025,
           "NLP"
          ],
          [
           3.726829268292687,
           "NLP"
          ],
          [
           2.995121951219512,
           "NLP"
          ],
          [
           2.6292682926829247,
           "NLP"
          ],
          [
           1.8975609756097627,
           "NLP"
          ],
          [
           1.8975609756097627,
           "NLP"
          ],
          [
           1.5317073170731752,
           "NLP"
          ],
          [
           1.5317073170731752,
           "NLP"
          ],
          [
           1.1658536585365877,
           "NLP"
          ],
          [
           1.1658536585365877,
           "NLP"
          ],
          [
           1.1658536585365877,
           "NLP"
          ],
          [
           1.1658536585365877,
           "NLP"
          ],
          [
           0.8,
           "NLP"
          ],
          [
           0.8,
           "NLP"
          ],
          [
           0.8,
           "NLP"
          ],
          [
           0.8,
           "NLP"
          ],
          [
           0.8,
           "NLP"
          ],
          [
           0.8,
           "NLP"
          ]
         ],
         "hovertemplate": "<b>%{hovertext}</b><br><br><extra></extra>",
         "hovertext": [
          "SQL",
          "Английский",
          "Анализ данных",
          "Python",
          "MS PowerPoint",
          "Математическая статистика",
          "MS SQL",
          "Математический анализ",
          "Machine Learning",
          "PostgreSQL",
          "Scrum",
          "MySQL",
          "Hadoop",
          "Linux",
          "Docker",
          "CI/CD",
          "Git",
          "NLP",
          "PyTorch",
          "Computer Vision",
          "Data Science",
          "OpenCV",
          "Tensorflow",
          "Deep Learning",
          "C++",
          "Scikit-learn",
          "Алгоритмы",
          "Numpy",
          "GPT",
          "Keras",
          "Русский",
          "Линейная алгебра",
          "ООП",
          "Elasticsearch",
          "Stable Diffusion",
          "STL",
          "Bert",
          "StyleGan",
          "LLM"
         ],
         "legendgroup": "NLP",
         "marker": {
          "color": "#1CBE4F",
          "line": {
           "color": "DarkSlateGrey",
           "width": 0.5
          },
          "opacity": 0.7,
          "size": [
           5.556097560975612,
           10.312195121951227,
           1.8975609756097627,
           15.8,
           0.8,
           1.1658536585365877,
           1.5317073170731752,
           1.1658536585365877,
           11.775609756097563,
           1.5317073170731752,
           1.1658536585365877,
           0.8,
           1.1658536585365877,
           1.8975609756097627,
           1.5317073170731752,
           1.1658536585365877,
           3.726829268292687,
           9.214634146341464,
           8.4829268292683,
           7.385365853658536,
           5.190243902439025,
           5.190243902439025,
           3.726829268292687,
           2.995121951219512,
           2.6292682926829247,
           1.8975609756097627,
           1.8975609756097627,
           1.5317073170731752,
           1.5317073170731752,
           1.1658536585365877,
           1.1658536585365877,
           1.1658536585365877,
           1.1658536585365877,
           0.8,
           0.8,
           0.8,
           0.8,
           0.8,
           0.8
          ],
          "sizemode": "area",
          "sizeref": 0.0395,
          "symbol": "circle"
         },
         "mode": "markers",
         "name": "NLP",
         "orientation": "v",
         "showlegend": true,
         "type": "scatter",
         "x": [
          -1.8034787,
          -1.1382192,
          1.0018588,
          -2.8485763,
          1.7354627,
          0.7132438,
          -9.493026,
          -2.6705348,
          -2.960048,
          -9.580861,
          0.08011154,
          -10.358845,
          -5.9830446,
          -9.431202,
          -6.7520885,
          -6.710582,
          -3.6619935,
          -2.0189776,
          -3.0280194,
          -3.658935,
          -2.791866,
          -3.8393512,
          -3.2614038,
          -3.2048988,
          -3.4846616,
          -3.3035352,
          -3.907771,
          -3.0238922,
          -1.8691419,
          -2.7781806,
          -1.4950719,
          -3.381635,
          -3.961403,
          -7.447012,
          -1.8296868,
          -3.3451262,
          -1.8808922,
          -1.8296868,
          -1.9492347
         ],
         "xaxis": "x",
         "y": [
          0.25212887,
          -1.3914798,
          6.3528886,
          -5.007139,
          4.260798,
          6.667867,
          1.0154213,
          -4.200936,
          -6.9472494,
          0.18554576,
          -0.9764248,
          0.70089287,
          -0.99356896,
          -0.394604,
          -1.7994869,
          -1.6130344,
          -6.9518332,
          -8.596292,
          -8.318691,
          -8.773716,
          -7.433746,
          -8.899007,
          -8.178023,
          -7.9256105,
          -7.8883367,
          -7.267084,
          -7.9166718,
          -6.383897,
          -8.8492985,
          -7.455371,
          -8.279776,
          -8.781,
          -8.02146,
          -1.6983204,
          -9.041654,
          -9.280082,
          -9.168943,
          -9.041654,
          -8.354886
         ],
         "yaxis": "y"
        },
        {
         "customdata": [
          [
           1.038726790450929,
           "Инженер данных"
          ],
          [
           15.8,
           "Инженер данных"
          ],
          [
           5.693899204244038,
           "Инженер данных"
          ],
          [
           1.7151193633952366,
           "Инженер данных"
          ],
          [
           15.76021220159152,
           "Инженер данных"
          ],
          [
           4.619628647214865,
           "Инженер данных"
          ],
          [
           1.3570291777188346,
           "Инженер данных"
          ],
          [
           3.1474801061008106,
           "Инженер данных"
          ],
          [
           7.046684350132635,
           "Инженер данных"
          ],
          [
           1.7549071618037164,
           "Инженер данных"
          ],
          [
           1.2376657824933783,
           "Инженер данных"
          ],
          [
           1.8344827586206927,
           "Инженер данных"
          ],
          [
           4.579840848806369,
           "Инженер данных"
          ],
          [
           6.768169761273209,
           "Инженер данных"
          ],
          [
           2.2323607427055743,
           "Инженер данных"
          ],
          [
           0.8397877984084967,
           "Инженер данных"
          ],
          [
           9.274801061007974,
           "Инженер данных"
          ],
          [
           7.245623342175067,
           "Инженер данных"
          ],
          [
           6.131564986737415,
           "Инженер данных"
          ],
          [
           3.744297082228125,
           "Инженер данных"
          ],
          [
           2.033421750663142,
           "Инженер данных"
          ],
          [
           4.34111405835544,
           "Инженер данных"
          ],
          [
           2.908753315649882,
           "Инженер данных"
          ],
          [
           2.7893899204244095,
           "Инженер данных"
          ],
          [
           1.7549071618037164,
           "Инженер данных"
          ],
          [
           2.3915119363395267,
           "Инженер данных"
          ],
          [
           2.2721485411140714,
           "Инженер данных"
          ],
          [
           3.863660477453582,
           "Инженер данных"
          ],
          [
           1.3570291777188346,
           "Инженер данных"
          ],
          [
           2.3915119363395267,
           "Инженер данных"
          ],
          [
           1.4763925729443077,
           "Инженер данных"
          ],
          [
           0.8795755968169764,
           "Инженер данных"
          ],
          [
           0.8,
           "Инженер данных"
          ],
          [
           0.8397877984084967,
           "Инженер данных"
          ],
          [
           0.8795755968169764,
           "Инженер данных"
          ],
          [
           0.8397877984084967,
           "Инженер данных"
          ],
          [
           1.4763925729443077,
           "Инженер данных"
          ],
          [
           1.1183023872679057,
           "Инженер данных"
          ],
          [
           0.8397877984084967,
           "Инженер данных"
          ]
         ],
         "hovertemplate": "<b>%{hovertext}</b><br><br><extra></extra>",
         "hovertext": [
          "Аналитическое мышление",
          "SQL",
          "Английский",
          "Анализ данных",
          "Python",
          "Работа с большим объемом информации",
          "Power BI",
          "MS SQL",
          "Базы данных",
          "Работа с базами данных",
          "BI",
          "Machine Learning",
          "DWH",
          "PostgreSQL",
          "Greenplum",
          "MySQL",
          "ETL",
          "Hadoop",
          "Spark",
          "Linux",
          "ORACLE",
          "Airflow",
          "Kafka",
          "Docker",
          "Hive",
          "SCALA",
          "Java",
          "ClickHouse",
          "CI/CD",
          "Git",
          "Kubernetes",
          "Data Science",
          "Elasticsearch",
          "Pandas",
          "Bash",
          "Oracle Pl/SQL",
          "Хранилище данных",
          "NoSQL",
          "NiFi"
         ],
         "legendgroup": "Инженер данных",
         "marker": {
          "color": "#C4451C",
          "line": {
           "color": "DarkSlateGrey",
           "width": 0.5
          },
          "opacity": 0.7,
          "size": [
           1.038726790450929,
           15.8,
           5.693899204244038,
           1.7151193633952366,
           15.76021220159152,
           4.619628647214865,
           1.3570291777188346,
           3.1474801061008106,
           7.046684350132635,
           1.7549071618037164,
           1.2376657824933783,
           1.8344827586206927,
           4.579840848806369,
           6.768169761273209,
           2.2323607427055743,
           0.8397877984084967,
           9.274801061007974,
           7.245623342175067,
           6.131564986737415,
           3.744297082228125,
           2.033421750663142,
           4.34111405835544,
           2.908753315649882,
           2.7893899204244095,
           1.7549071618037164,
           2.3915119363395267,
           2.2721485411140714,
           3.863660477453582,
           1.3570291777188346,
           2.3915119363395267,
           1.4763925729443077,
           0.8795755968169764,
           0.8,
           0.8397877984084967,
           0.8795755968169764,
           0.8397877984084967,
           1.4763925729443077,
           1.1183023872679057,
           0.8397877984084967
          ],
          "sizemode": "area",
          "sizeref": 0.0395,
          "symbol": "circle"
         },
         "mode": "markers",
         "name": "Инженер данных",
         "orientation": "v",
         "showlegend": true,
         "type": "scatter",
         "x": [
          2.3541963,
          -1.8034787,
          -1.1382192,
          1.0018588,
          -2.8485763,
          -2.0147564,
          1.9449463,
          -9.493026,
          -10.0811205,
          -9.483817,
          2.8682284,
          -2.960048,
          -4.8950844,
          -9.580861,
          -5.5129714,
          -10.358845,
          -5.3893723,
          -5.9830446,
          -5.7253194,
          -9.431202,
          -10.044728,
          -5.198168,
          -6.571614,
          -6.7520885,
          -5.717642,
          -4.9821954,
          -6.288912,
          -6.8071046,
          -6.710582,
          -3.6619935,
          -5.6203723,
          -2.791866,
          -7.447012,
          -3.1155114,
          -9.520984,
          -7.662579,
          -5.2303276,
          -7.568456,
          -4.9975586
         ],
         "xaxis": "x",
         "y": [
          4.155155,
          0.25212887,
          -1.3914798,
          6.3528886,
          -5.007139,
          0.3795224,
          6.193103,
          1.0154213,
          0.7525142,
          1.1946265,
          6.3212714,
          -6.9472494,
          -0.2723809,
          0.18554576,
          -0.20365214,
          0.70089287,
          -0.562909,
          -0.99356896,
          -1.3267413,
          -0.394604,
          0.5042161,
          -1.0259289,
          -0.5872026,
          -1.7994869,
          -0.97785425,
          -1.1274796,
          -1.6099663,
          -0.1862305,
          -1.6130344,
          -6.9518332,
          -1.4491276,
          -7.433746,
          -1.6983204,
          -3.960903,
          -0.61713135,
          -0.067011364,
          -1.4371103,
          -1.0290556,
          -1.2761693
         ],
         "yaxis": "y"
        },
        {
         "customdata": [
          [
           2.735483870967734,
           "Big Data"
          ],
          [
           15.8,
           "Big Data"
          ],
          [
           3.6225806451612854,
           "Big Data"
          ],
          [
           2.8967741935483815,
           "Big Data"
          ],
          [
           9.832258064516134,
           "Big Data"
          ],
          [
           7.8967741935483815,
           "Big Data"
          ],
          [
           1.6870967741935519,
           "Big Data"
          ],
          [
           1.2032258064516097,
           "Big Data"
          ],
          [
           2.8967741935483815,
           "Big Data"
          ],
          [
           0.9612903225806474,
           "Big Data"
          ],
          [
           4.509677419354839,
           "Big Data"
          ],
          [
           1.6064516129032196,
           "Big Data"
          ],
          [
           1.2032258064516097,
           "Big Data"
          ],
          [
           2.9774193548387133,
           "Big Data"
          ],
          [
           1.848387096774199,
           "Big Data"
          ],
          [
           2.0903225806451617,
           "Big Data"
          ],
          [
           1.2838709677419247,
           "Big Data"
          ],
          [
           1.2838709677419247,
           "Big Data"
          ],
          [
           7.090322580645162,
           "Big Data"
          ],
          [
           4.34838709677419,
           "Big Data"
          ],
          [
           1.767741935483867,
           "Big Data"
          ],
          [
           0.8,
           "Big Data"
          ],
          [
           7.735483870967734,
           "Big Data"
          ],
          [
           6.0419354838709625,
           "Big Data"
          ],
          [
           4.187096774193543,
           "Big Data"
          ],
          [
           2.4129032258064567,
           "Big Data"
          ],
          [
           2.2516129032258094,
           "Big Data"
          ],
          [
           2.1709677419354767,
           "Big Data"
          ],
          [
           1.767741935483867,
           "Big Data"
          ],
          [
           1.6064516129032196,
           "Big Data"
          ],
          [
           1.5258064516129046,
           "Big Data"
          ],
          [
           1.4451612903225721,
           "Big Data"
          ],
          [
           1.2838709677419247,
           "Big Data"
          ],
          [
           1.2838709677419247,
           "Big Data"
          ],
          [
           1.1225806451612947,
           "Big Data"
          ],
          [
           1.1225806451612947,
           "Big Data"
          ],
          [
           1.1225806451612947,
           "Big Data"
          ],
          [
           0.880645161290315,
           "Big Data"
          ],
          [
           0.8,
           "Big Data"
          ]
         ],
         "hovertemplate": "<b>%{hovertext}</b><br><br><extra></extra>",
         "hovertext": [
          "Аналитическое мышление",
          "SQL",
          "Английский",
          "Анализ данных",
          "Python",
          "Работа с большим объемом информации",
          "Power BI",
          "Математическая статистика",
          "MS SQL",
          "Бизнес-анализ",
          "Базы данных",
          "Деловая коммуникация",
          "Работа с базами данных",
          "BI",
          "Tableau",
          "Системный анализ",
          "Machine Learning",
          "Управление проектами",
          "DWH",
          "PostgreSQL",
          "Greenplum",
          "UML",
          "ETL",
          "Hadoop",
          "Spark",
          "Linux",
          "ORACLE",
          "Airflow",
          "Kafka",
          "Docker",
          "Hive",
          "SCALA",
          "Java",
          "ClickHouse",
          "Agile",
          "CI/CD",
          "Git",
          "Kubernetes",
          "Teradata"
         ],
         "legendgroup": "Big Data",
         "marker": {
          "color": "#F6222E",
          "line": {
           "color": "DarkSlateGrey",
           "width": 0.5
          },
          "opacity": 0.7,
          "size": [
           2.735483870967734,
           15.8,
           3.6225806451612854,
           2.8967741935483815,
           9.832258064516134,
           7.8967741935483815,
           1.6870967741935519,
           1.2032258064516097,
           2.8967741935483815,
           0.9612903225806474,
           4.509677419354839,
           1.6064516129032196,
           1.2032258064516097,
           2.9774193548387133,
           1.848387096774199,
           2.0903225806451617,
           1.2838709677419247,
           1.2838709677419247,
           7.090322580645162,
           4.34838709677419,
           1.767741935483867,
           0.8,
           7.735483870967734,
           6.0419354838709625,
           4.187096774193543,
           2.4129032258064567,
           2.2516129032258094,
           2.1709677419354767,
           1.767741935483867,
           1.6064516129032196,
           1.5258064516129046,
           1.4451612903225721,
           1.2838709677419247,
           1.2838709677419247,
           1.1225806451612947,
           1.1225806451612947,
           1.1225806451612947,
           0.880645161290315,
           0.8
          ],
          "sizemode": "area",
          "sizeref": 0.0395,
          "symbol": "circle"
         },
         "mode": "markers",
         "name": "Big Data",
         "orientation": "v",
         "showlegend": true,
         "type": "scatter",
         "x": [
          2.3541963,
          -1.8034787,
          -1.1382192,
          1.0018588,
          -2.8485763,
          -2.0147564,
          1.9449463,
          0.7132438,
          -9.493026,
          4.9460664,
          -10.0811205,
          2.8069592,
          -9.483817,
          2.8682284,
          2.0089796,
          6.5483274,
          -2.960048,
          3.6570196,
          -4.8950844,
          -9.580861,
          -5.5129714,
          6.056554,
          -5.3893723,
          -5.9830446,
          -5.7253194,
          -9.431202,
          -10.044728,
          -5.198168,
          -6.571614,
          -6.7520885,
          -5.717642,
          -4.9821954,
          -6.288912,
          -6.8071046,
          4.384786,
          -6.710582,
          -3.6619935,
          -5.6203723,
          -4.748201
         ],
         "xaxis": "x",
         "y": [
          4.155155,
          0.25212887,
          -1.3914798,
          6.3528886,
          -5.007139,
          0.3795224,
          6.193103,
          6.667867,
          1.0154213,
          1.4652041,
          0.7525142,
          1.922136,
          1.1946265,
          6.3212714,
          6.8753066,
          -0.47731364,
          -6.9472494,
          1.2543387,
          -0.2723809,
          0.18554576,
          -0.20365214,
          -0.24406052,
          -0.562909,
          -0.99356896,
          -1.3267413,
          -0.394604,
          0.5042161,
          -1.0259289,
          -0.5872026,
          -1.7994869,
          -0.97785425,
          -1.1274796,
          -1.6099663,
          -0.1862305,
          0.10592617,
          -1.6130344,
          -6.9518332,
          -1.4491276,
          -0.5348009
         ],
         "yaxis": "y"
        },
        {
         "customdata": [
          [
           0.8707547169811385,
           "Администратор баз данных"
          ],
          [
           5.399056603773592,
           "Администратор баз данных"
          ],
          [
           3.6301886792452898,
           "Администратор баз данных"
          ],
          [
           1.5075471698113247,
           "Администратор баз данных"
          ],
          [
           2.710377358490569,
           "Администратор баз данных"
          ],
          [
           1.0830188679245338,
           "Администратор баз данных"
          ],
          [
           8.229245283018873,
           "Администратор баз данных"
          ],
          [
           15.8,
           "Администратор баз данных"
          ],
          [
           1.0830188679245338,
           "Администратор баз данных"
          ],
          [
           1.0830188679245338,
           "Администратор баз данных"
          ],
          [
           3.9132075471698142,
           "Администратор баз данных"
          ],
          [
           0.8,
           "Администратор баз данных"
          ],
          [
           1.2245283018867912,
           "Администратор баз данных"
          ],
          [
           10.564150943396234,
           "Администратор баз данных"
          ],
          [
           2.21509433962264,
           "Администратор баз данных"
          ],
          [
           6.389622641509441,
           "Администратор баз данных"
          ],
          [
           4.55,
           "Администратор баз данных"
          ],
          [
           1.1537735849056623,
           "Администратор баз данных"
          ],
          [
           1.0830188679245338,
           "Администратор баз данных"
          ],
          [
           1.5783018867924534,
           "Администратор баз данных"
          ],
          [
           0.8,
           "Администратор баз данных"
          ],
          [
           3.7009433962264175,
           "Администратор баз данных"
          ],
          [
           1.7905660377358492,
           "Администратор баз данных"
          ],
          [
           1.7198113207547203,
           "Администратор баз данных"
          ],
          [
           1.5783018867924534,
           "Администратор баз данных"
          ],
          [
           1.2952830188679294,
           "Администратор баз данных"
          ],
          [
           1.0830188679245338,
           "Администратор баз данных"
          ],
          [
           1.0122641509433956,
           "Администратор баз данных"
          ],
          [
           0.9415094339622669,
           "Администратор баз данных"
          ],
          [
           0.9415094339622669,
           "Администратор баз данных"
          ],
          [
           0.9415094339622669,
           "Администратор баз данных"
          ],
          [
           0.8707547169811385,
           "Администратор баз данных"
          ],
          [
           0.8707547169811385,
           "Администратор баз данных"
          ],
          [
           0.8707547169811385,
           "Администратор баз данных"
          ],
          [
           0.8707547169811385,
           "Администратор баз данных"
          ],
          [
           0.8,
           "Администратор баз данных"
          ],
          [
           0.8,
           "Администратор баз данных"
          ],
          [
           0.8,
           "Администратор баз данных"
          ],
          [
           0.8,
           "Администратор баз данных"
          ]
         ],
         "hovertemplate": "<b>%{hovertext}</b><br><br><extra></extra>",
         "hovertext": [
          "Аналитическое мышление",
          "SQL",
          "Английский",
          "Python",
          "1С: Предприятие 8",
          "Работа с большим объемом информации",
          "MS SQL",
          "Базы данных",
          "Деловая коммуникация",
          "Работа в условиях многозадачности",
          "Работа с базами данных",
          "Работа в команде",
          "Пользователь ПК",
          "PostgreSQL",
          "MySQL",
          "Linux",
          "ORACLE",
          "Kafka",
          "Docker",
          "ClickHouse",
          "Git",
          "Администрирование",
          "Bash",
          "Zabbix",
          "Unix",
          "MongoDB",
          "Grafana",
          "Ansible",
          "Оптимизация запросов",
          "Информационные технологии",
          "Oracle Pl/SQL",
          "Prometheus",
          "Администрирование серверов",
          "Cassandra",
          "MS Access",
          "Windows Os",
          "Высшее образование",
          "Redis",
          "TCP/IP"
         ],
         "legendgroup": "Администратор баз данных",
         "marker": {
          "color": "#FE00FA",
          "line": {
           "color": "DarkSlateGrey",
           "width": 0.5
          },
          "opacity": 0.7,
          "size": [
           0.8707547169811385,
           5.399056603773592,
           3.6301886792452898,
           1.5075471698113247,
           2.710377358490569,
           1.0830188679245338,
           8.229245283018873,
           15.8,
           1.0830188679245338,
           1.0830188679245338,
           3.9132075471698142,
           0.8,
           1.2245283018867912,
           10.564150943396234,
           2.21509433962264,
           6.389622641509441,
           4.55,
           1.1537735849056623,
           1.0830188679245338,
           1.5783018867924534,
           0.8,
           3.7009433962264175,
           1.7905660377358492,
           1.7198113207547203,
           1.5783018867924534,
           1.2952830188679294,
           1.0830188679245338,
           1.0122641509433956,
           0.9415094339622669,
           0.9415094339622669,
           0.9415094339622669,
           0.8707547169811385,
           0.8707547169811385,
           0.8707547169811385,
           0.8707547169811385,
           0.8,
           0.8,
           0.8,
           0.8
          ],
          "sizemode": "area",
          "sizeref": 0.0395,
          "symbol": "circle"
         },
         "mode": "markers",
         "name": "Администратор баз данных",
         "orientation": "v",
         "showlegend": true,
         "type": "scatter",
         "x": [
          2.3541963,
          -1.8034787,
          -1.1382192,
          -2.8485763,
          3.966865,
          -2.0147564,
          -9.493026,
          -10.0811205,
          2.8069592,
          1.4370893,
          -9.483817,
          2.618913,
          -0.07112544,
          -9.580861,
          -10.358845,
          -9.431202,
          -10.044728,
          -6.571614,
          -6.7520885,
          -6.8071046,
          -3.6619935,
          -11.588651,
          -9.520984,
          -11.058879,
          -11.19229,
          -10.0485115,
          -9.106961,
          -9.32147,
          -11.139938,
          -10.587605,
          -7.662579,
          -10.227571,
          -11.27674,
          -8.78677,
          0.24497522,
          -11.6002245,
          -5.1696887,
          -10.161827,
          -11.158253
         ],
         "xaxis": "x",
         "y": [
          4.155155,
          0.25212887,
          -1.3914798,
          -5.007139,
          1.8824304,
          0.3795224,
          1.0154213,
          0.7525142,
          1.922136,
          2.3234835,
          1.1946265,
          2.190059,
          1.7414805,
          0.18554576,
          0.70089287,
          -0.394604,
          0.5042161,
          -0.5872026,
          -1.7994869,
          -0.1862305,
          -6.9518332,
          0.7658282,
          -0.61713135,
          0.9176836,
          0.4147544,
          -0.45208496,
          0.9545506,
          0.25688738,
          0.8480073,
          -0.9434992,
          -0.067011364,
          0.059200887,
          0.37660742,
          -0.8153459,
          1.867401,
          0.6535028,
          -4.476803,
          0.015396267,
          0.0044534914
         ],
         "yaxis": "y"
        },
        {
         "customdata": [
          [
           8.922119815668202,
           "Аналитик данных"
          ],
          [
           15.8,
           "Аналитик данных"
          ],
          [
           5.949769585253455,
           "Аналитик данных"
          ],
          [
           12.89677419354839,
           "Аналитик данных"
          ],
          [
           1.6986175115207387,
           "Аналитик данных"
          ],
          [
           4.774654377880172,
           "Аналитик данных"
          ],
          [
           12.30921658986175,
           "Аналитик данных"
          ],
          [
           4.670967741935484,
           "Аналитик данных"
          ],
          [
           6.260829493087552,
           "Аналитик данных"
          ],
          [
           1.8714285714285632,
           "Аналитик данных"
          ],
          [
           5.051152073732717,
           "Аналитик данных"
          ],
          [
           1.2493087557603695,
           "Аналитик данных"
          ],
          [
           3.323041474654376,
           "Аналитик данных"
          ],
          [
           1.1456221198156649,
           "Аналитик данных"
          ],
          [
           3.634101382488473,
           "Аналитик данных"
          ],
          [
           0.9728110599078245,
           "Аналитик данных"
          ],
          [
           1.5258064516128982,
           "Аналитик данных"
          ],
          [
           0.9036866359446881,
           "Аналитик данных"
          ],
          [
           0.9382488479262563,
           "Аналитик данных"
          ],
          [
           2.009677419354836,
           "Аналитик данных"
          ],
          [
           0.9036866359446881,
           "Аналитик данных"
          ],
          [
           1.1456221198156649,
           "Аналитик данных"
          ],
          [
           1.0073732718893924,
           "Аналитик данных"
          ],
          [
           1.7677419354838588,
           "Аналитик данных"
          ],
          [
           1.7677419354838588,
           "Аналитик данных"
          ],
          [
           2.2170506912442285,
           "Аналитик данных"
          ],
          [
           0.8,
           "Аналитик данных"
          ],
          [
           1.3875576036866257,
           "Аналитик данных"
          ],
          [
           1.3184331797234896,
           "Аналитик данных"
          ],
          [
           2.320737327188932,
           "Аналитик данных"
          ],
          [
           1.3184331797234896,
           "Аналитик данных"
          ],
          [
           1.4912442396313303,
           "Аналитик данных"
          ],
          [
           0.8691244239631363,
           "Аналитик данных"
          ],
          [
           0.8,
           "Аналитик данных"
          ],
          [
           0.9728110599078245,
           "Аналитик данных"
          ],
          [
           1.2147465437788014,
           "Аналитик данных"
          ],
          [
           1.2838709677419375,
           "Аналитик данных"
          ],
          [
           0.9036866359446881,
           "Аналитик данных"
          ],
          [
           0.8691244239631363,
           "Аналитик данных"
          ]
         ],
         "hovertemplate": "<b>%{hovertext}</b><br><br><extra></extra>",
         "hovertext": [
          "Аналитическое мышление",
          "SQL",
          "Английский",
          "Анализ данных",
          "Анализ рынка",
          "MS Excel",
          "Python",
          "Работа с большим объемом информации",
          "Power BI",
          "MS PowerPoint",
          "Математическая статистика",
          "Моделирование бизнес процессов",
          "MS SQL",
          "Бизнес-анализ",
          "Базы данных",
          "Деловая коммуникация",
          "Аналитические исследования",
          "Грамотная речь",
          "Работа в условиях многозадачности",
          "Работа с базами данных",
          "Маркетинговые исследования",
          "Сбор и анализ информации",
          "Работа в команде",
          "BI",
          "Математический анализ",
          "Tableau",
          "Сводные таблицы",
          "Machine Learning",
          "Визуализация данных",
          "PostgreSQL",
          "ETL",
          "Hadoop",
          "Spark",
          "ORACLE",
          "ClickHouse",
          "Pandas",
          "A/B тесты",
          "Google таблицы",
          "VBA"
         ],
         "legendgroup": "Аналитик данных",
         "marker": {
          "color": "#325A9B",
          "line": {
           "color": "DarkSlateGrey",
           "width": 0.5
          },
          "opacity": 0.7,
          "size": [
           8.922119815668202,
           15.8,
           5.949769585253455,
           12.89677419354839,
           1.6986175115207387,
           4.774654377880172,
           12.30921658986175,
           4.670967741935484,
           6.260829493087552,
           1.8714285714285632,
           5.051152073732717,
           1.2493087557603695,
           3.323041474654376,
           1.1456221198156649,
           3.634101382488473,
           0.9728110599078245,
           1.5258064516128982,
           0.9036866359446881,
           0.9382488479262563,
           2.009677419354836,
           0.9036866359446881,
           1.1456221198156649,
           1.0073732718893924,
           1.7677419354838588,
           1.7677419354838588,
           2.2170506912442285,
           0.8,
           1.3875576036866257,
           1.3184331797234896,
           2.320737327188932,
           1.3184331797234896,
           1.4912442396313303,
           0.8691244239631363,
           0.8,
           0.9728110599078245,
           1.2147465437788014,
           1.2838709677419375,
           0.9036866359446881,
           0.8691244239631363
          ],
          "sizemode": "area",
          "sizeref": 0.0395,
          "symbol": "circle"
         },
         "mode": "markers",
         "name": "Аналитик данных",
         "orientation": "v",
         "showlegend": true,
         "type": "scatter",
         "x": [
          2.3541963,
          -1.8034787,
          -1.1382192,
          1.0018588,
          0.6804172,
          1.3803414,
          -2.8485763,
          -2.0147564,
          1.9449463,
          1.7354627,
          0.7132438,
          5.010776,
          -9.493026,
          4.9460664,
          -10.0811205,
          2.8069592,
          0.5494935,
          2.0222838,
          1.4370893,
          -9.483817,
          0.4564272,
          2.5060394,
          2.618913,
          2.8682284,
          -2.6705348,
          2.0089796,
          0.47420052,
          -2.960048,
          2.1148493,
          -9.580861,
          -5.3893723,
          -5.9830446,
          -5.7253194,
          -10.044728,
          -6.8071046,
          -3.1155114,
          0.013752021,
          1.1733979,
          1.2372847
         ],
         "xaxis": "x",
         "y": [
          4.155155,
          0.25212887,
          -1.3914798,
          6.3528886,
          5.130175,
          4.394638,
          -5.007139,
          0.3795224,
          6.193103,
          4.260798,
          6.667867,
          1.6196822,
          1.0154213,
          1.4652041,
          0.7525142,
          1.922136,
          6.9890885,
          3.0233712,
          2.3234835,
          1.1946265,
          5.2147884,
          3.5447118,
          2.190059,
          6.3212714,
          -4.200936,
          6.8753066,
          4.46582,
          -6.9472494,
          6.5298023,
          0.18554576,
          -0.562909,
          -0.99356896,
          -1.3267413,
          0.5042161,
          -0.1862305,
          -3.960903,
          8.554733,
          4.4397993,
          4.2794685
         ],
         "yaxis": "y"
        },
        {
         "customdata": [
          [
           15.8,
           "Аналитик"
          ],
          [
           12.873732718893992,
           "Аналитик"
          ],
          [
           11.859907834101376,
           "Аналитик"
          ],
          [
           10.892165898617511,
           "Аналитик"
          ],
          [
           9.04884792626728,
           "Аналитик"
          ],
          [
           8.680184331797216,
           "Аналитик"
          ],
          [
           7.343778801843315,
           "Аналитик"
          ],
          [
           7.0211981566820265,
           "Аналитик"
          ],
          [
           6.629493087557603,
           "Аналитик"
          ],
          [
           4.924423963133639,
           "Аналитик"
          ],
          [
           4.647926267281099,
           "Аналитик"
          ],
          [
           4.256221198156675,
           "Аналитик"
          ],
          [
           3.8875576036866404,
           "Аналитик"
          ],
          [
           3.3115207373271707,
           "Аналитик"
          ],
          [
           3.0811059907834055,
           "Аналитик"
          ],
          [
           3.0119815668202703,
           "Аналитик"
          ],
          [
           2.7815668202764767,
           "Аналитик"
          ],
          [
           2.620276497695847,
           "Аналитик"
          ],
          [
           2.5050691244239642,
           "Аналитик"
          ],
          [
           2.2976958525345585,
           "Аналитик"
          ],
          [
           2.1824884792626755,
           "Аналитик"
          ],
          [
           1.836866359447,
           "Аналитик"
          ],
          [
           1.813824884792612,
           "Аналитик"
          ],
          [
           1.5834101382488468,
           "Аналитик"
          ],
          [
           1.5142857142857116,
           "Аналитик"
          ],
          [
           1.5142857142857116,
           "Аналитик"
          ],
          [
           1.4682027649769642,
           "Аналитик"
          ],
          [
           1.4451612903225763,
           "Аналитик"
          ],
          [
           1.4451612903225763,
           "Аналитик"
          ],
          [
           1.4221198156681885,
           "Аналитик"
          ],
          [
           1.1456221198156478,
           "Аналитик"
          ],
          [
           1.0995391705069004,
           "Аналитик"
          ],
          [
           1.053456221198153,
           "Аналитик"
          ],
          [
           1.0304147465437654,
           "Аналитик"
          ],
          [
           0.96129032258063,
           "Аналитик"
          ],
          [
           0.9382488479262703,
           "Аналитик"
          ],
          [
           0.9152073732718825,
           "Аналитик"
          ],
          [
           0.8,
           "Аналитик"
          ],
          [
           0.8,
           "Аналитик"
          ]
         ],
         "hovertemplate": "<b>%{hovertext}</b><br><br><extra></extra>",
         "hovertext": [
          "Аналитическое мышление",
          "SQL",
          "Английский",
          "Анализ данных",
          "Анализ рынка",
          "MS Excel",
          "Python",
          "1С: Предприятие 8",
          "Работа с большим объемом информации",
          "Power BI",
          "MS PowerPoint",
          "Математическая статистика",
          "Моделирование бизнес процессов",
          "Финансовый анализ",
          "MS SQL",
          "Бизнес-анализ",
          "Базы данных",
          "Деловая коммуникация",
          "Аналитические исследования",
          "Грамотная речь",
          "Работа в условиях многозадачности",
          "Работа с базами данных",
          "Маркетинговые исследования",
          "Сбор и анализ информации",
          "Работа в команде",
          "BI",
          "Разработка технических заданий",
          "Пользователь ПК",
          "Прогнозирование",
          "Подготовка презентаций",
          "Математический анализ",
          "Бюджетирование",
          "Конкурентная аналитика",
          "Tableau",
          "Системный анализ",
          "Сводные таблицы",
          "BPMN",
          "Machine Learning",
          "Управление проектами"
         ],
         "legendgroup": "Аналитик",
         "marker": {
          "color": "#FEAF16",
          "line": {
           "color": "DarkSlateGrey",
           "width": 0.5
          },
          "opacity": 0.7,
          "size": [
           15.8,
           12.873732718893992,
           11.859907834101376,
           10.892165898617511,
           9.04884792626728,
           8.680184331797216,
           7.343778801843315,
           7.0211981566820265,
           6.629493087557603,
           4.924423963133639,
           4.647926267281099,
           4.256221198156675,
           3.8875576036866404,
           3.3115207373271707,
           3.0811059907834055,
           3.0119815668202703,
           2.7815668202764767,
           2.620276497695847,
           2.5050691244239642,
           2.2976958525345585,
           2.1824884792626755,
           1.836866359447,
           1.813824884792612,
           1.5834101382488468,
           1.5142857142857116,
           1.5142857142857116,
           1.4682027649769642,
           1.4451612903225763,
           1.4451612903225763,
           1.4221198156681885,
           1.1456221198156478,
           1.0995391705069004,
           1.053456221198153,
           1.0304147465437654,
           0.96129032258063,
           0.9382488479262703,
           0.9152073732718825,
           0.8,
           0.8
          ],
          "sizemode": "area",
          "sizeref": 0.0395,
          "symbol": "circle"
         },
         "mode": "markers",
         "name": "Аналитик",
         "orientation": "v",
         "showlegend": true,
         "type": "scatter",
         "x": [
          2.3541963,
          -1.8034787,
          -1.1382192,
          1.0018588,
          0.6804172,
          1.3803414,
          -2.8485763,
          3.966865,
          -2.0147564,
          1.9449463,
          1.7354627,
          0.7132438,
          5.010776,
          0.12199009,
          -9.493026,
          4.9460664,
          -10.0811205,
          2.8069592,
          0.5494935,
          2.0222838,
          1.4370893,
          -9.483817,
          0.4564272,
          2.5060394,
          2.618913,
          2.8682284,
          5.4710636,
          -0.07112544,
          0.9752865,
          1.8691812,
          -2.6705348,
          0.17191291,
          -0.030213999,
          2.0089796,
          6.5483274,
          0.47420052,
          6.13993,
          -2.960048,
          3.6570196
         ],
         "xaxis": "x",
         "y": [
          4.155155,
          0.25212887,
          -1.3914798,
          6.3528886,
          5.130175,
          4.394638,
          -5.007139,
          1.8824304,
          0.3795224,
          6.193103,
          4.260798,
          6.667867,
          1.6196822,
          4.5498395,
          1.0154213,
          1.4652041,
          0.7525142,
          1.922136,
          6.9890885,
          3.0233712,
          2.3234835,
          1.1946265,
          5.2147884,
          3.5447118,
          2.190059,
          6.3212714,
          0.29245022,
          1.7414805,
          5.099741,
          3.8716118,
          -4.200936,
          4.255837,
          7.158867,
          6.8753066,
          -0.47731364,
          4.46582,
          0.35818473,
          -6.9472494,
          1.2543387
         ],
         "yaxis": "y"
        },
        {
         "customdata": [
          [
           11.866176470588234,
           "Бизнес-аналитик"
          ],
          [
           6.094117647058817,
           "Бизнес-аналитик"
          ],
          [
           8.557352941176475,
           "Бизнес-аналитик"
          ],
          [
           3.005882352941182,
           "Бизнес-аналитик"
          ],
          [
           1.241176470588227,
           "Бизнес-аналитик"
          ],
          [
           3.777941176470585,
           "Бизнес-аналитик"
          ],
          [
           1.1308823529411762,
           "Бизнес-аналитик"
          ],
          [
           9.43970588235293,
           "Бизнес-аналитик"
          ],
          [
           2.123529411764704,
           "Бизнес-аналитик"
          ],
          [
           1.645588235294127,
           "Бизнес-аналитик"
          ],
          [
           2.2338235294117554,
           "Бизнес-аналитик"
          ],
          [
           13.814705882352943,
           "Бизнес-аналитик"
          ],
          [
           1.1308823529411762,
           "Бизнес-аналитик"
          ],
          [
           15.8,
           "Бизнес-аналитик"
          ],
          [
           5.432352941176465,
           "Бизнес-аналитик"
          ],
          [
           1.5352941176470531,
           "Бизнес-аналитик"
          ],
          [
           1.7191176470588276,
           "Бизнес-аналитик"
          ],
          [
           1.5720588235294033,
           "Бизнес-аналитик"
          ],
          [
           2.197058823529405,
           "Бизнес-аналитик"
          ],
          [
           5.469117647058815,
           "Бизнес-аналитик"
          ],
          [
           0.8367647058823504,
           "Бизнес-аналитик"
          ],
          [
           2.160294117647055,
           "Бизнес-аналитик"
          ],
          [
           9.770588235294106,
           "Бизнес-аналитик"
          ],
          [
           3.4470588235294084,
           "Бизнес-аналитик"
          ],
          [
           0.8367647058823504,
           "Бизнес-аналитик"
          ],
          [
           0.8,
           "Бизнес-аналитик"
          ],
          [
           4.513235294117638,
           "Бизнес-аналитик"
          ],
          [
           3.594117647058833,
           "Бизнес-аналитик"
          ],
          [
           2.307352941176479,
           "Бизнес-аналитик"
          ],
          [
           1.9029411764705795,
           "Бизнес-аналитик"
          ],
          [
           1.9029411764705795,
           "Бизнес-аналитик"
          ],
          [
           2.160294117647055,
           "Бизнес-аналитик"
          ],
          [
           1.7191176470588276,
           "Бизнес-аналитик"
          ],
          [
           1.0941176470588259,
           "Бизнес-аналитик"
          ],
          [
           1.0573529411764755,
           "Бизнес-аналитик"
          ],
          [
           1.3514705882353013,
           "Бизнес-аналитик"
          ],
          [
           1.9029411764705795,
           "Бизнес-аналитик"
          ],
          [
           1.0941176470588259,
           "Бизнес-аналитик"
          ],
          [
           1.0573529411764755,
           "Бизнес-аналитик"
          ]
         ],
         "hovertemplate": "<b>%{hovertext}</b><br><br><extra></extra>",
         "hovertext": [
          "Аналитическое мышление",
          "SQL",
          "Английский",
          "Анализ данных",
          "Анализ рынка",
          "MS Excel",
          "Python",
          "1С: Предприятие 8",
          "Работа с большим объемом информации",
          "Power BI",
          "MS PowerPoint",
          "Моделирование бизнес процессов",
          "MS SQL",
          "Бизнес-анализ",
          "Деловая коммуникация",
          "Грамотная речь",
          "Работа в условиях многозадачности",
          "Сбор и анализ информации",
          "Работа в команде",
          "Разработка технических заданий",
          "Подготовка презентаций",
          "Системный анализ",
          "BPMN",
          "Управление проектами",
          "SAP",
          "REST",
          "UML",
          "MS Visio",
          "Системное мышление",
          "Agile",
          "Постановка задач разработчикам",
          "Atlassian Jira",
          "Atlassian Confluence",
          "Техническая документация",
          "ERP",
          "IDEF",
          "Автоматизация процессов",
          "EPC",
          "CRM"
         ],
         "legendgroup": "Бизнес-аналитик",
         "marker": {
          "color": "#90AD1C",
          "line": {
           "color": "DarkSlateGrey",
           "width": 0.5
          },
          "opacity": 0.7,
          "size": [
           11.866176470588234,
           6.094117647058817,
           8.557352941176475,
           3.005882352941182,
           1.241176470588227,
           3.777941176470585,
           1.1308823529411762,
           9.43970588235293,
           2.123529411764704,
           1.645588235294127,
           2.2338235294117554,
           13.814705882352943,
           1.1308823529411762,
           15.8,
           5.432352941176465,
           1.5352941176470531,
           1.7191176470588276,
           1.5720588235294033,
           2.197058823529405,
           5.469117647058815,
           0.8367647058823504,
           2.160294117647055,
           9.770588235294106,
           3.4470588235294084,
           0.8367647058823504,
           0.8,
           4.513235294117638,
           3.594117647058833,
           2.307352941176479,
           1.9029411764705795,
           1.9029411764705795,
           2.160294117647055,
           1.7191176470588276,
           1.0941176470588259,
           1.0573529411764755,
           1.3514705882353013,
           1.9029411764705795,
           1.0941176470588259,
           1.0573529411764755
          ],
          "sizemode": "area",
          "sizeref": 0.0395,
          "symbol": "circle"
         },
         "mode": "markers",
         "name": "Бизнес-аналитик",
         "orientation": "v",
         "showlegend": true,
         "type": "scatter",
         "x": [
          2.3541963,
          -1.8034787,
          -1.1382192,
          1.0018588,
          0.6804172,
          1.3803414,
          -2.8485763,
          3.966865,
          -2.0147564,
          1.9449463,
          1.7354627,
          5.010776,
          -9.493026,
          4.9460664,
          2.8069592,
          2.0222838,
          1.4370893,
          2.5060394,
          2.618913,
          5.4710636,
          1.8691812,
          6.5483274,
          6.13993,
          3.6570196,
          2.597641,
          6.36536,
          6.056554,
          5.192597,
          4.744864,
          4.384786,
          5.9513397,
          5.0789633,
          5.2998095,
          4.922906,
          5.7105837,
          5.847172,
          4.5577784,
          5.791407,
          3.3630297
         ],
         "xaxis": "x",
         "y": [
          4.155155,
          0.25212887,
          -1.3914798,
          6.3528886,
          5.130175,
          4.394638,
          -5.007139,
          1.8824304,
          0.3795224,
          6.193103,
          4.260798,
          1.6196822,
          1.0154213,
          1.4652041,
          1.922136,
          3.0233712,
          2.3234835,
          3.5447118,
          2.190059,
          0.29245022,
          3.8716118,
          -0.47731364,
          0.35818473,
          1.2543387,
          5.2315574,
          -0.78711724,
          -0.24406052,
          1.1303774,
          0.74,
          0.10592617,
          -0.059739184,
          -0.21238971,
          0.015379869,
          0.2640276,
          0.6209351,
          0.9677551,
          1.798096,
          1.9159839,
          1.3073264
         ],
         "yaxis": "y"
        },
        {
         "customdata": [
          [
           10.657142857142857,
           "Продуктовый аналитик"
          ],
          [
           15.8,
           "Продуктовый аналитик"
          ],
          [
           4.442857142857147,
           "Продуктовый аналитик"
          ],
          [
           12.157142857142857,
           "Продуктовый аналитик"
          ],
          [
           2.299999999999997,
           "Продуктовый аналитик"
          ],
          [
           1.4428571428571373,
           "Продуктовый аналитик"
          ],
          [
           12.585714285714285,
           "Продуктовый аналитик"
          ],
          [
           2.08571428571429,
           "Продуктовый аналитик"
          ],
          [
           5.514285714285714,
           "Продуктовый аналитик"
          ],
          [
           7.228571428571434,
           "Продуктовый аналитик"
          ],
          [
           1.0142857142857076,
           "Продуктовый аналитик"
          ],
          [
           2.942857142857135,
           "Продуктовый аналитик"
          ],
          [
           1.22857142857143,
           "Продуктовый аналитик"
          ],
          [
           1.8714285714285672,
           "Продуктовый аналитик"
          ],
          [
           3.7999999999999936,
           "Продуктовый аналитик"
          ],
          [
           1.4428571428571373,
           "Продуктовый аналитик"
          ],
          [
           1.4428571428571373,
           "Продуктовый аналитик"
          ],
          [
           1.8714285714285672,
           "Продуктовый аналитик"
          ],
          [
           0.8,
           "Продуктовый аналитик"
          ],
          [
           1.22857142857143,
           "Продуктовый аналитик"
          ],
          [
           1.65714285714286,
           "Продуктовый аналитик"
          ],
          [
           4.871428571428576,
           "Продуктовый аналитик"
          ],
          [
           1.65714285714286,
           "Продуктовый аналитик"
          ],
          [
           1.22857142857143,
           "Продуктовый аналитик"
          ],
          [
           1.8714285714285672,
           "Продуктовый аналитик"
          ],
          [
           1.8714285714285672,
           "Продуктовый аналитик"
          ],
          [
           1.22857142857143,
           "Продуктовый аналитик"
          ],
          [
           1.22857142857143,
           "Продуктовый аналитик"
          ],
          [
           7.228571428571434,
           "Продуктовый аналитик"
          ],
          [
           3.371428571428565,
           "Продуктовый аналитик"
          ],
          [
           1.8714285714285672,
           "Продуктовый аналитик"
          ],
          [
           1.8714285714285672,
           "Продуктовый аналитик"
          ],
          [
           1.4428571428571373,
           "Продуктовый аналитик"
          ],
          [
           1.22857142857143,
           "Продуктовый аналитик"
          ],
          [
           1.22857142857143,
           "Продуктовый аналитик"
          ],
          [
           1.22857142857143,
           "Продуктовый аналитик"
          ],
          [
           1.0142857142857076,
           "Продуктовый аналитик"
          ],
          [
           1.0142857142857076,
           "Продуктовый аналитик"
          ],
          [
           0.8,
           "Продуктовый аналитик"
          ]
         ],
         "hovertemplate": "<b>%{hovertext}</b><br><br><extra></extra>",
         "hovertext": [
          "Аналитическое мышление",
          "SQL",
          "Английский",
          "Анализ данных",
          "Анализ рынка",
          "MS Excel",
          "Python",
          "Работа с большим объемом информации",
          "Power BI",
          "Математическая статистика",
          "Моделирование бизнес процессов",
          "MS SQL",
          "Бизнес-анализ",
          "Базы данных",
          "Аналитические исследования",
          "Работа с базами данных",
          "Сбор и анализ информации",
          "BI",
          "Разработка технических заданий",
          "Математический анализ",
          "Конкурентная аналитика",
          "Tableau",
          "Machine Learning",
          "Визуализация данных",
          "PostgreSQL",
          "ETL",
          "Hadoop",
          "ClickHouse",
          "A/B тесты",
          "Продуктовая аналитика",
          "Управление продуктом",
          "Google Analytics",
          "Проведение презентаций",
          "Firebase",
          "Яндекс.Метрика",
          "R",
          "Amplitude",
          "Appsflyer",
          "SaaS"
         ],
         "legendgroup": "Продуктовый аналитик",
         "marker": {
          "color": "#2ED9FF",
          "line": {
           "color": "DarkSlateGrey",
           "width": 0.5
          },
          "opacity": 0.7,
          "size": [
           10.657142857142857,
           15.8,
           4.442857142857147,
           12.157142857142857,
           2.299999999999997,
           1.4428571428571373,
           12.585714285714285,
           2.08571428571429,
           5.514285714285714,
           7.228571428571434,
           1.0142857142857076,
           2.942857142857135,
           1.22857142857143,
           1.8714285714285672,
           3.7999999999999936,
           1.4428571428571373,
           1.4428571428571373,
           1.8714285714285672,
           0.8,
           1.22857142857143,
           1.65714285714286,
           4.871428571428576,
           1.65714285714286,
           1.22857142857143,
           1.8714285714285672,
           1.8714285714285672,
           1.22857142857143,
           1.22857142857143,
           7.228571428571434,
           3.371428571428565,
           1.8714285714285672,
           1.8714285714285672,
           1.4428571428571373,
           1.22857142857143,
           1.22857142857143,
           1.22857142857143,
           1.0142857142857076,
           1.0142857142857076,
           0.8
          ],
          "sizemode": "area",
          "sizeref": 0.0395,
          "symbol": "circle"
         },
         "mode": "markers",
         "name": "Продуктовый аналитик",
         "orientation": "v",
         "showlegend": true,
         "type": "scatter",
         "x": [
          2.3541963,
          -1.8034787,
          -1.1382192,
          1.0018588,
          0.6804172,
          1.3803414,
          -2.8485763,
          -2.0147564,
          1.9449463,
          0.7132438,
          5.010776,
          -9.493026,
          4.9460664,
          -10.0811205,
          0.5494935,
          -9.483817,
          2.5060394,
          2.8682284,
          5.4710636,
          -2.6705348,
          -0.030213999,
          2.0089796,
          -2.960048,
          2.1148493,
          -9.580861,
          -5.3893723,
          -5.9830446,
          -6.8071046,
          0.013752021,
          0.08885151,
          -0.16476826,
          0.19370711,
          -0.02110156,
          0.057012014,
          0.07201238,
          0.3417872,
          0.7160457,
          0.122618824,
          0.28280747
         ],
         "xaxis": "x",
         "y": [
          4.155155,
          0.25212887,
          -1.3914798,
          6.3528886,
          5.130175,
          4.394638,
          -5.007139,
          0.3795224,
          6.193103,
          6.667867,
          1.6196822,
          1.0154213,
          1.4652041,
          0.7525142,
          6.9890885,
          1.1946265,
          3.5447118,
          6.3212714,
          0.29245022,
          -4.200936,
          7.158867,
          6.8753066,
          -6.9472494,
          6.5298023,
          0.18554576,
          -0.562909,
          -0.99356896,
          -0.1862305,
          8.554733,
          9.08139,
          8.456427,
          8.215248,
          7.342452,
          9.133667,
          7.9796095,
          7.8079925,
          8.452917,
          8.969278,
          8.803643
         ],
         "yaxis": "y"
        },
        {
         "customdata": [
          [
           10.44285714285715,
           "Аналитик BI"
          ],
          [
           15.8,
           "Аналитик BI"
          ],
          [
           8.300000000000008,
           "Аналитик BI"
          ],
          [
           7.2285714285714295,
           "Аналитик BI"
          ],
          [
           1.5142857142857093,
           "Аналитик BI"
          ],
          [
           2.942857142857143,
           "Аналитик BI"
          ],
          [
           4.371428571428576,
           "Аналитик BI"
          ],
          [
           4.371428571428576,
           "Аналитик BI"
          ],
          [
           9.01428571428572,
           "Аналитик BI"
          ],
          [
           2.5857142857142885,
           "Аналитик BI"
          ],
          [
           2.5857142857142885,
           "Аналитик BI"
          ],
          [
           2.228571428571434,
           "Аналитик BI"
          ],
          [
           1.8714285714285643,
           "Аналитик BI"
          ],
          [
           4.371428571428576,
           "Аналитик BI"
          ],
          [
           1.1571428571428548,
           "Аналитик BI"
          ],
          [
           1.1571428571428548,
           "Аналитик BI"
          ],
          [
           1.1571428571428548,
           "Аналитик BI"
          ],
          [
           8.657142857142864,
           "Аналитик BI"
          ],
          [
           1.1571428571428548,
           "Аналитик BI"
          ],
          [
           5.799999999999995,
           "Аналитик BI"
          ],
          [
           3.299999999999998,
           "Аналитик BI"
          ],
          [
           2.5857142857142885,
           "Аналитик BI"
          ],
          [
           1.8714285714285643,
           "Аналитик BI"
          ],
          [
           1.5142857142857093,
           "Аналитик BI"
          ],
          [
           1.5142857142857093,
           "Аналитик BI"
          ],
          [
           1.1571428571428548,
           "Аналитик BI"
          ],
          [
           1.1571428571428548,
           "Аналитик BI"
          ],
          [
           1.1571428571428548,
           "Аналитик BI"
          ],
          [
           1.1571428571428548,
           "Аналитик BI"
          ],
          [
           1.1571428571428548,
           "Аналитик BI"
          ],
          [
           1.1571428571428548,
           "Аналитик BI"
          ],
          [
           0.8,
           "Аналитик BI"
          ],
          [
           0.8,
           "Аналитик BI"
          ],
          [
           0.8,
           "Аналитик BI"
          ],
          [
           0.8,
           "Аналитик BI"
          ],
          [
           0.8,
           "Аналитик BI"
          ],
          [
           0.8,
           "Аналитик BI"
          ],
          [
           0.8,
           "Аналитик BI"
          ],
          [
           0.8,
           "Аналитик BI"
          ]
         ],
         "hovertemplate": "<b>%{hovertext}</b><br><br><extra></extra>",
         "hovertext": [
          "Аналитическое мышление",
          "SQL",
          "Английский",
          "Анализ данных",
          "Анализ рынка",
          "MS Excel",
          "Python",
          "Работа с большим объемом информации",
          "Power BI",
          "MS PowerPoint",
          "Математическая статистика",
          "MS SQL",
          "Бизнес-анализ",
          "Базы данных",
          "Деловая коммуникация",
          "Аналитические исследования",
          "Работа в условиях многозадачности",
          "BI",
          "Подготовка презентаций",
          "Tableau",
          "Qlik Sense",
          "DWH",
          "Визуализация данных",
          "OLAP",
          "SAP",
          "PostgreSQL",
          "REST",
          "Отчетность",
          "Greenplum",
          "UML",
          "XML",
          "SOAP",
          "Power Query",
          "Scrum",
          "MySQL",
          "MS Visio",
          "Системное мышление",
          "Apache NiFi",
          "MS Power Builder"
         ],
         "legendgroup": "Аналитик BI",
         "marker": {
          "color": "#B10DA1",
          "line": {
           "color": "DarkSlateGrey",
           "width": 0.5
          },
          "opacity": 0.7,
          "size": [
           10.44285714285715,
           15.8,
           8.300000000000008,
           7.2285714285714295,
           1.5142857142857093,
           2.942857142857143,
           4.371428571428576,
           4.371428571428576,
           9.01428571428572,
           2.5857142857142885,
           2.5857142857142885,
           2.228571428571434,
           1.8714285714285643,
           4.371428571428576,
           1.1571428571428548,
           1.1571428571428548,
           1.1571428571428548,
           8.657142857142864,
           1.1571428571428548,
           5.799999999999995,
           3.299999999999998,
           2.5857142857142885,
           1.8714285714285643,
           1.5142857142857093,
           1.5142857142857093,
           1.1571428571428548,
           1.1571428571428548,
           1.1571428571428548,
           1.1571428571428548,
           1.1571428571428548,
           1.1571428571428548,
           0.8,
           0.8,
           0.8,
           0.8,
           0.8,
           0.8,
           0.8,
           0.8
          ],
          "sizemode": "area",
          "sizeref": 0.0395,
          "symbol": "circle"
         },
         "mode": "markers",
         "name": "Аналитик BI",
         "orientation": "v",
         "showlegend": true,
         "type": "scatter",
         "x": [
          2.3541963,
          -1.8034787,
          -1.1382192,
          1.0018588,
          0.6804172,
          1.3803414,
          -2.8485763,
          -2.0147564,
          1.9449463,
          1.7354627,
          0.7132438,
          -9.493026,
          4.9460664,
          -10.0811205,
          2.8069592,
          0.5494935,
          1.4370893,
          2.8682284,
          1.8691812,
          2.0089796,
          3.0925562,
          -4.8950844,
          2.1148493,
          -1.6473596,
          2.597641,
          -9.580861,
          6.36536,
          3.1666465,
          -5.5129714,
          6.056554,
          6.0040455,
          6.40379,
          1.8605313,
          0.08011154,
          -10.358845,
          5.192597,
          4.744864,
          -4.066441,
          3.4056034
         ],
         "xaxis": "x",
         "y": [
          4.155155,
          0.25212887,
          -1.3914798,
          6.3528886,
          5.130175,
          4.394638,
          -5.007139,
          0.3795224,
          6.193103,
          4.260798,
          6.667867,
          1.0154213,
          1.4652041,
          0.7525142,
          1.922136,
          6.9890885,
          2.3234835,
          6.3212714,
          3.8716118,
          6.8753066,
          6.5084567,
          -0.2723809,
          6.5298023,
          0.0068491246,
          5.2315574,
          0.18554576,
          -0.78711724,
          6.38227,
          -0.20365214,
          -0.24406052,
          -0.9528796,
          -1.0241598,
          4.8482914,
          -0.9764248,
          0.70089287,
          1.1303774,
          0.74,
          0.074075274,
          6.6355042
         ],
         "yaxis": "y"
        },
        {
         "customdata": [
          [
           6.350660792951542,
           "Системный аналитик"
          ],
          [
           15.8,
           "Системный аналитик"
          ],
          [
           4.434361233480168,
           "Системный аналитик"
          ],
          [
           1.3947136563876508,
           "Системный аналитик"
          ],
          [
           1.0643171806167246,
           "Системный аналитик"
          ],
          [
           2.91453744493392,
           "Системный аналитик"
          ],
          [
           1.1964757709251073,
           "Системный аналитик"
          ],
          [
           3.707488986784134,
           "Системный аналитик"
          ],
          [
           2.0555066079295035,
           "Системный аналитик"
          ],
          [
           4.632599118942732,
           "Системный аналитик"
          ],
          [
           3.707488986784134,
           "Системный аналитик"
          ],
          [
           0.9321585903083623,
           "Системный аналитик"
          ],
          [
           0.8,
           "Системный аналитик"
          ],
          [
           0.9982378854625436,
           "Системный аналитик"
          ],
          [
           6.945374449339194,
           "Системный аналитик"
          ],
          [
           12.760352422907484,
           "Системный аналитик"
          ],
          [
           12.165638766519834,
           "Системный аналитик"
          ],
          [
           0.9321585903083623,
           "Системный аналитик"
          ],
          [
           1.3286343612334697,
           "Системный аналитик"
          ],
          [
           1.7911894273127582,
           "Системный аналитик"
          ],
          [
           6.945374449339194,
           "Системный аналитик"
          ],
          [
           10.711894273127744,
           "Системный аналитик"
          ],
          [
           4.236123348017625,
           "Системный аналитик"
          ],
          [
           3.971806167400879,
           "Системный аналитик"
          ],
          [
           1.592951541850215,
           "Системный аналитик"
          ],
          [
           2.0555066079295035,
           "Системный аналитик"
          ],
          [
           1.3947136563876508,
           "Системный аналитик"
          ],
          [
           0.8660792951541814,
           "Системный аналитик"
          ],
          [
           1.725110132158577,
           "Системный аналитик"
          ],
          [
           3.971806167400879,
           "Системный аналитик"
          ],
          [
           3.5753303964757723,
           "Системный аналитик"
          ],
          [
           3.3110132158590266,
           "Системный аналитик"
          ],
          [
           2.518061674008812,
           "Системный аналитик"
          ],
          [
           2.3859030837004296,
           "Системный аналитик"
          ],
          [
           1.592951541850215,
           "Системный аналитик"
          ],
          [
           1.1303964757709264,
           "Системный аналитик"
          ],
          [
           0.9321585903083623,
           "Системный аналитик"
          ],
          [
           0.8,
           "Системный аналитик"
          ],
          [
           0.8,
           "Системный аналитик"
          ]
         ],
         "hovertemplate": "<b>%{hovertext}</b><br><br><extra></extra>",
         "hovertext": [
          "Аналитическое мышление",
          "SQL",
          "Английский",
          "Анализ данных",
          "Python",
          "1С: Предприятие 8",
          "Работа с большим объемом информации",
          "Моделирование бизнес процессов",
          "MS SQL",
          "Бизнес-анализ",
          "Базы данных",
          "Деловая коммуникация",
          "Сбор и анализ информации",
          "Работа в команде",
          "Разработка технических заданий",
          "Системный анализ",
          "BPMN",
          "Управление проектами",
          "DWH",
          "PostgreSQL",
          "REST",
          "UML",
          "XML",
          "SOAP",
          "MS Visio",
          "Системное мышление",
          "ETL",
          "ORACLE",
          "Agile",
          "Постановка задач разработчикам",
          "JSON API",
          "Atlassian Jira",
          "API",
          "Atlassian Confluence",
          "Техническая документация",
          "ERP",
          "IDEF",
          "Use Case Analysis",
          "Системная интеграция"
         ],
         "legendgroup": "Системный аналитик",
         "marker": {
          "color": "#909090",
          "line": {
           "color": "DarkSlateGrey",
           "width": 0.5
          },
          "opacity": 0.7,
          "size": [
           6.350660792951542,
           15.8,
           4.434361233480168,
           1.3947136563876508,
           1.0643171806167246,
           2.91453744493392,
           1.1964757709251073,
           3.707488986784134,
           2.0555066079295035,
           4.632599118942732,
           3.707488986784134,
           0.9321585903083623,
           0.8,
           0.9982378854625436,
           6.945374449339194,
           12.760352422907484,
           12.165638766519834,
           0.9321585903083623,
           1.3286343612334697,
           1.7911894273127582,
           6.945374449339194,
           10.711894273127744,
           4.236123348017625,
           3.971806167400879,
           1.592951541850215,
           2.0555066079295035,
           1.3947136563876508,
           0.8660792951541814,
           1.725110132158577,
           3.971806167400879,
           3.5753303964757723,
           3.3110132158590266,
           2.518061674008812,
           2.3859030837004296,
           1.592951541850215,
           1.1303964757709264,
           0.9321585903083623,
           0.8,
           0.8
          ],
          "sizemode": "area",
          "sizeref": 0.0395,
          "symbol": "circle"
         },
         "mode": "markers",
         "name": "Системный аналитик",
         "orientation": "v",
         "showlegend": true,
         "type": "scatter",
         "x": [
          2.3541963,
          -1.8034787,
          -1.1382192,
          1.0018588,
          -2.8485763,
          3.966865,
          -2.0147564,
          5.010776,
          -9.493026,
          4.9460664,
          -10.0811205,
          2.8069592,
          2.5060394,
          2.618913,
          5.4710636,
          6.5483274,
          6.13993,
          3.6570196,
          -4.8950844,
          -9.580861,
          6.36536,
          6.056554,
          6.0040455,
          6.40379,
          5.192597,
          4.744864,
          -5.3893723,
          -10.044728,
          4.384786,
          5.9513397,
          6.02941,
          5.0789633,
          6.940761,
          5.2998095,
          4.922906,
          5.7105837,
          5.847172,
          6.415285,
          6.759476
         ],
         "xaxis": "x",
         "y": [
          4.155155,
          0.25212887,
          -1.3914798,
          6.3528886,
          -5.007139,
          1.8824304,
          0.3795224,
          1.6196822,
          1.0154213,
          1.4652041,
          0.7525142,
          1.922136,
          3.5447118,
          2.190059,
          0.29245022,
          -0.47731364,
          0.35818473,
          1.2543387,
          -0.2723809,
          0.18554576,
          -0.78711724,
          -0.24406052,
          -0.9528796,
          -1.0241598,
          1.1303774,
          0.74,
          -0.562909,
          0.5042161,
          0.10592617,
          -0.059739184,
          -0.90842545,
          -0.21238971,
          -0.35510692,
          0.015379869,
          0.2640276,
          0.6209351,
          0.9677551,
          0.45786825,
          -0.69895744
         ],
         "yaxis": "y"
        }
       ],
       "layout": {
        "height": 600,
        "legend": {
         "itemsizing": "constant",
         "title": {
          "text": "Профессия"
         },
         "tracegroupgap": 0
        },
        "margin": {
         "t": 60
        },
        "template": {
         "data": {
          "bar": [
           {
            "error_x": {
             "color": "#2a3f5f"
            },
            "error_y": {
             "color": "#2a3f5f"
            },
            "marker": {
             "line": {
              "color": "#E5ECF6",
              "width": 0.5
             },
             "pattern": {
              "fillmode": "overlay",
              "size": 10,
              "solidity": 0.2
             }
            },
            "type": "bar"
           }
          ],
          "barpolar": [
           {
            "marker": {
             "line": {
              "color": "#E5ECF6",
              "width": 0.5
             },
             "pattern": {
              "fillmode": "overlay",
              "size": 10,
              "solidity": 0.2
             }
            },
            "type": "barpolar"
           }
          ],
          "carpet": [
           {
            "aaxis": {
             "endlinecolor": "#2a3f5f",
             "gridcolor": "white",
             "linecolor": "white",
             "minorgridcolor": "white",
             "startlinecolor": "#2a3f5f"
            },
            "baxis": {
             "endlinecolor": "#2a3f5f",
             "gridcolor": "white",
             "linecolor": "white",
             "minorgridcolor": "white",
             "startlinecolor": "#2a3f5f"
            },
            "type": "carpet"
           }
          ],
          "choropleth": [
           {
            "colorbar": {
             "outlinewidth": 0,
             "ticks": ""
            },
            "type": "choropleth"
           }
          ],
          "contour": [
           {
            "colorbar": {
             "outlinewidth": 0,
             "ticks": ""
            },
            "colorscale": [
             [
              0,
              "#0d0887"
             ],
             [
              0.1111111111111111,
              "#46039f"
             ],
             [
              0.2222222222222222,
              "#7201a8"
             ],
             [
              0.3333333333333333,
              "#9c179e"
             ],
             [
              0.4444444444444444,
              "#bd3786"
             ],
             [
              0.5555555555555556,
              "#d8576b"
             ],
             [
              0.6666666666666666,
              "#ed7953"
             ],
             [
              0.7777777777777778,
              "#fb9f3a"
             ],
             [
              0.8888888888888888,
              "#fdca26"
             ],
             [
              1,
              "#f0f921"
             ]
            ],
            "type": "contour"
           }
          ],
          "contourcarpet": [
           {
            "colorbar": {
             "outlinewidth": 0,
             "ticks": ""
            },
            "type": "contourcarpet"
           }
          ],
          "heatmap": [
           {
            "colorbar": {
             "outlinewidth": 0,
             "ticks": ""
            },
            "colorscale": [
             [
              0,
              "#0d0887"
             ],
             [
              0.1111111111111111,
              "#46039f"
             ],
             [
              0.2222222222222222,
              "#7201a8"
             ],
             [
              0.3333333333333333,
              "#9c179e"
             ],
             [
              0.4444444444444444,
              "#bd3786"
             ],
             [
              0.5555555555555556,
              "#d8576b"
             ],
             [
              0.6666666666666666,
              "#ed7953"
             ],
             [
              0.7777777777777778,
              "#fb9f3a"
             ],
             [
              0.8888888888888888,
              "#fdca26"
             ],
             [
              1,
              "#f0f921"
             ]
            ],
            "type": "heatmap"
           }
          ],
          "heatmapgl": [
           {
            "colorbar": {
             "outlinewidth": 0,
             "ticks": ""
            },
            "colorscale": [
             [
              0,
              "#0d0887"
             ],
             [
              0.1111111111111111,
              "#46039f"
             ],
             [
              0.2222222222222222,
              "#7201a8"
             ],
             [
              0.3333333333333333,
              "#9c179e"
             ],
             [
              0.4444444444444444,
              "#bd3786"
             ],
             [
              0.5555555555555556,
              "#d8576b"
             ],
             [
              0.6666666666666666,
              "#ed7953"
             ],
             [
              0.7777777777777778,
              "#fb9f3a"
             ],
             [
              0.8888888888888888,
              "#fdca26"
             ],
             [
              1,
              "#f0f921"
             ]
            ],
            "type": "heatmapgl"
           }
          ],
          "histogram": [
           {
            "marker": {
             "pattern": {
              "fillmode": "overlay",
              "size": 10,
              "solidity": 0.2
             }
            },
            "type": "histogram"
           }
          ],
          "histogram2d": [
           {
            "colorbar": {
             "outlinewidth": 0,
             "ticks": ""
            },
            "colorscale": [
             [
              0,
              "#0d0887"
             ],
             [
              0.1111111111111111,
              "#46039f"
             ],
             [
              0.2222222222222222,
              "#7201a8"
             ],
             [
              0.3333333333333333,
              "#9c179e"
             ],
             [
              0.4444444444444444,
              "#bd3786"
             ],
             [
              0.5555555555555556,
              "#d8576b"
             ],
             [
              0.6666666666666666,
              "#ed7953"
             ],
             [
              0.7777777777777778,
              "#fb9f3a"
             ],
             [
              0.8888888888888888,
              "#fdca26"
             ],
             [
              1,
              "#f0f921"
             ]
            ],
            "type": "histogram2d"
           }
          ],
          "histogram2dcontour": [
           {
            "colorbar": {
             "outlinewidth": 0,
             "ticks": ""
            },
            "colorscale": [
             [
              0,
              "#0d0887"
             ],
             [
              0.1111111111111111,
              "#46039f"
             ],
             [
              0.2222222222222222,
              "#7201a8"
             ],
             [
              0.3333333333333333,
              "#9c179e"
             ],
             [
              0.4444444444444444,
              "#bd3786"
             ],
             [
              0.5555555555555556,
              "#d8576b"
             ],
             [
              0.6666666666666666,
              "#ed7953"
             ],
             [
              0.7777777777777778,
              "#fb9f3a"
             ],
             [
              0.8888888888888888,
              "#fdca26"
             ],
             [
              1,
              "#f0f921"
             ]
            ],
            "type": "histogram2dcontour"
           }
          ],
          "mesh3d": [
           {
            "colorbar": {
             "outlinewidth": 0,
             "ticks": ""
            },
            "type": "mesh3d"
           }
          ],
          "parcoords": [
           {
            "line": {
             "colorbar": {
              "outlinewidth": 0,
              "ticks": ""
             }
            },
            "type": "parcoords"
           }
          ],
          "pie": [
           {
            "automargin": true,
            "type": "pie"
           }
          ],
          "scatter": [
           {
            "fillpattern": {
             "fillmode": "overlay",
             "size": 10,
             "solidity": 0.2
            },
            "type": "scatter"
           }
          ],
          "scatter3d": [
           {
            "line": {
             "colorbar": {
              "outlinewidth": 0,
              "ticks": ""
             }
            },
            "marker": {
             "colorbar": {
              "outlinewidth": 0,
              "ticks": ""
             }
            },
            "type": "scatter3d"
           }
          ],
          "scattercarpet": [
           {
            "marker": {
             "colorbar": {
              "outlinewidth": 0,
              "ticks": ""
             }
            },
            "type": "scattercarpet"
           }
          ],
          "scattergeo": [
           {
            "marker": {
             "colorbar": {
              "outlinewidth": 0,
              "ticks": ""
             }
            },
            "type": "scattergeo"
           }
          ],
          "scattergl": [
           {
            "marker": {
             "colorbar": {
              "outlinewidth": 0,
              "ticks": ""
             }
            },
            "type": "scattergl"
           }
          ],
          "scattermapbox": [
           {
            "marker": {
             "colorbar": {
              "outlinewidth": 0,
              "ticks": ""
             }
            },
            "type": "scattermapbox"
           }
          ],
          "scatterpolar": [
           {
            "marker": {
             "colorbar": {
              "outlinewidth": 0,
              "ticks": ""
             }
            },
            "type": "scatterpolar"
           }
          ],
          "scatterpolargl": [
           {
            "marker": {
             "colorbar": {
              "outlinewidth": 0,
              "ticks": ""
             }
            },
            "type": "scatterpolargl"
           }
          ],
          "scatterternary": [
           {
            "marker": {
             "colorbar": {
              "outlinewidth": 0,
              "ticks": ""
             }
            },
            "type": "scatterternary"
           }
          ],
          "surface": [
           {
            "colorbar": {
             "outlinewidth": 0,
             "ticks": ""
            },
            "colorscale": [
             [
              0,
              "#0d0887"
             ],
             [
              0.1111111111111111,
              "#46039f"
             ],
             [
              0.2222222222222222,
              "#7201a8"
             ],
             [
              0.3333333333333333,
              "#9c179e"
             ],
             [
              0.4444444444444444,
              "#bd3786"
             ],
             [
              0.5555555555555556,
              "#d8576b"
             ],
             [
              0.6666666666666666,
              "#ed7953"
             ],
             [
              0.7777777777777778,
              "#fb9f3a"
             ],
             [
              0.8888888888888888,
              "#fdca26"
             ],
             [
              1,
              "#f0f921"
             ]
            ],
            "type": "surface"
           }
          ],
          "table": [
           {
            "cells": {
             "fill": {
              "color": "#EBF0F8"
             },
             "line": {
              "color": "white"
             }
            },
            "header": {
             "fill": {
              "color": "#C8D4E3"
             },
             "line": {
              "color": "white"
             }
            },
            "type": "table"
           }
          ]
         },
         "layout": {
          "annotationdefaults": {
           "arrowcolor": "#2a3f5f",
           "arrowhead": 0,
           "arrowwidth": 1
          },
          "autotypenumbers": "strict",
          "coloraxis": {
           "colorbar": {
            "outlinewidth": 0,
            "ticks": ""
           }
          },
          "colorscale": {
           "diverging": [
            [
             0,
             "#8e0152"
            ],
            [
             0.1,
             "#c51b7d"
            ],
            [
             0.2,
             "#de77ae"
            ],
            [
             0.3,
             "#f1b6da"
            ],
            [
             0.4,
             "#fde0ef"
            ],
            [
             0.5,
             "#f7f7f7"
            ],
            [
             0.6,
             "#e6f5d0"
            ],
            [
             0.7,
             "#b8e186"
            ],
            [
             0.8,
             "#7fbc41"
            ],
            [
             0.9,
             "#4d9221"
            ],
            [
             1,
             "#276419"
            ]
           ],
           "sequential": [
            [
             0,
             "#0d0887"
            ],
            [
             0.1111111111111111,
             "#46039f"
            ],
            [
             0.2222222222222222,
             "#7201a8"
            ],
            [
             0.3333333333333333,
             "#9c179e"
            ],
            [
             0.4444444444444444,
             "#bd3786"
            ],
            [
             0.5555555555555556,
             "#d8576b"
            ],
            [
             0.6666666666666666,
             "#ed7953"
            ],
            [
             0.7777777777777778,
             "#fb9f3a"
            ],
            [
             0.8888888888888888,
             "#fdca26"
            ],
            [
             1,
             "#f0f921"
            ]
           ],
           "sequentialminus": [
            [
             0,
             "#0d0887"
            ],
            [
             0.1111111111111111,
             "#46039f"
            ],
            [
             0.2222222222222222,
             "#7201a8"
            ],
            [
             0.3333333333333333,
             "#9c179e"
            ],
            [
             0.4444444444444444,
             "#bd3786"
            ],
            [
             0.5555555555555556,
             "#d8576b"
            ],
            [
             0.6666666666666666,
             "#ed7953"
            ],
            [
             0.7777777777777778,
             "#fb9f3a"
            ],
            [
             0.8888888888888888,
             "#fdca26"
            ],
            [
             1,
             "#f0f921"
            ]
           ]
          },
          "colorway": [
           "#636efa",
           "#EF553B",
           "#00cc96",
           "#ab63fa",
           "#FFA15A",
           "#19d3f3",
           "#FF6692",
           "#B6E880",
           "#FF97FF",
           "#FECB52"
          ],
          "font": {
           "color": "#2a3f5f"
          },
          "geo": {
           "bgcolor": "white",
           "lakecolor": "white",
           "landcolor": "#E5ECF6",
           "showlakes": true,
           "showland": true,
           "subunitcolor": "white"
          },
          "hoverlabel": {
           "align": "left"
          },
          "hovermode": "closest",
          "mapbox": {
           "style": "light"
          },
          "paper_bgcolor": "white",
          "plot_bgcolor": "#E5ECF6",
          "polar": {
           "angularaxis": {
            "gridcolor": "white",
            "linecolor": "white",
            "ticks": ""
           },
           "bgcolor": "#E5ECF6",
           "radialaxis": {
            "gridcolor": "white",
            "linecolor": "white",
            "ticks": ""
           }
          },
          "scene": {
           "xaxis": {
            "backgroundcolor": "#E5ECF6",
            "gridcolor": "white",
            "gridwidth": 2,
            "linecolor": "white",
            "showbackground": true,
            "ticks": "",
            "zerolinecolor": "white"
           },
           "yaxis": {
            "backgroundcolor": "#E5ECF6",
            "gridcolor": "white",
            "gridwidth": 2,
            "linecolor": "white",
            "showbackground": true,
            "ticks": "",
            "zerolinecolor": "white"
           },
           "zaxis": {
            "backgroundcolor": "#E5ECF6",
            "gridcolor": "white",
            "gridwidth": 2,
            "linecolor": "white",
            "showbackground": true,
            "ticks": "",
            "zerolinecolor": "white"
           }
          },
          "shapedefaults": {
           "line": {
            "color": "#2a3f5f"
           }
          },
          "ternary": {
           "aaxis": {
            "gridcolor": "white",
            "linecolor": "white",
            "ticks": ""
           },
           "baxis": {
            "gridcolor": "white",
            "linecolor": "white",
            "ticks": ""
           },
           "bgcolor": "#E5ECF6",
           "caxis": {
            "gridcolor": "white",
            "linecolor": "white",
            "ticks": ""
           }
          },
          "title": {
           "x": 0.05
          },
          "xaxis": {
           "automargin": true,
           "gridcolor": "white",
           "linecolor": "white",
           "ticks": "",
           "title": {
            "standoff": 15
           },
           "zerolinecolor": "white",
           "zerolinewidth": 2
          },
          "yaxis": {
           "automargin": true,
           "gridcolor": "white",
           "linecolor": "white",
           "ticks": "",
           "title": {
            "standoff": 15
           },
           "zerolinecolor": "white",
           "zerolinewidth": 2
          }
         }
        },
        "width": 1000,
        "xaxis": {
         "anchor": "y",
         "domain": [
          0,
          1
         ],
         "title": {
          "text": "x"
         },
         "visible": false
        },
        "yaxis": {
         "anchor": "x",
         "domain": [
          0,
          1
         ],
         "title": {
          "text": "y"
         },
         "visible": false
        }
       }
      }
     },
     "metadata": {},
     "output_type": "display_data"
    }
   ],
   "source": [
    "df, _ = prepare_plot_df(skill_df, matrix, skill_index_to_corrected,\n",
    "                                    prof_index_to_prof_name, \n",
    "                                    top_n_skill_per_profession=best_top_n_skill_per_profession,\n",
    "                                    norm_type=best_norm_type,\n",
    "                                    factor_alg_type=best_alg_type,\n",
    "                                    dim=best_dim,\n",
    "                                    use_tsne=best_use_tsne)\n",
    "\n",
    "plot_skill_map(df).show()"
   ]
  },
  {
   "cell_type": "code",
   "execution_count": null,
   "metadata": {},
   "outputs": [],
   "source": [
    "df.to_csv(f'../notebooks/docker/front/data/best.csv')"
   ]
  },
  {
   "cell_type": "code",
   "execution_count": null,
   "metadata": {},
   "outputs": [],
   "source": []
  }
 ],
 "metadata": {
  "kernelspec": {
   "display_name": "base",
   "language": "python",
   "name": "python3"
  },
  "language_info": {
   "codemirror_mode": {
    "name": "ipython",
    "version": 3
   },
   "file_extension": ".py",
   "mimetype": "text/x-python",
   "name": "python",
   "nbconvert_exporter": "python",
   "pygments_lexer": "ipython3",
   "version": "3.9.15"
  },
  "orig_nbformat": 4
 },
 "nbformat": 4,
 "nbformat_minor": 2
}
