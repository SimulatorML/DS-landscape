{
 "cells": [
  {
   "attachments": {},
   "cell_type": "markdown",
   "metadata": {},
   "source": [
    "# Будем искать способы отфильровать нерелевантные вакансии\n",
    "\n",
    "## Разметка\n",
    "\n",
    "По поводу толоки. Получилось не дешево. За одну задачу (для 3-ех раз размеченную) 0.019$ - то есть для 12_000 записей это 228$, даже если взять треть, то это дорого для этой задачи\n",
    "\n",
    "В общем проще в Эксель (а точнее плагин для редактирования CSV таблицей)"
   ]
  },
  {
   "cell_type": "code",
   "execution_count": 60,
   "metadata": {},
   "outputs": [],
   "source": [
    "import pandas as pd\n",
    "import pickle\n",
    "import re\n",
    "from sklearn.feature_extraction.text import TfidfVectorizer, CountVectorizer\n",
    "import numpy as np\n",
    "from sklearn.model_selection import train_test_split\n",
    "from sklearn.metrics import f1_score, classification_report\n",
    "from sklearn.dummy import DummyClassifier\n",
    "from sklearn.linear_model import LogisticRegression\n",
    "from pymystem3 import Mystem\n",
    "import nltk\n",
    "from nltk.corpus import stopwords\n",
    "import lightgbm as lgb\n",
    "from typing import List, Set"
   ]
  },
  {
   "cell_type": "code",
   "execution_count": 2,
   "metadata": {},
   "outputs": [
    {
     "data": {
      "text/html": [
       "<div>\n",
       "<style scoped>\n",
       "    .dataframe tbody tr th:only-of-type {\n",
       "        vertical-align: middle;\n",
       "    }\n",
       "\n",
       "    .dataframe tbody tr th {\n",
       "        vertical-align: top;\n",
       "    }\n",
       "\n",
       "    .dataframe thead th {\n",
       "        text-align: right;\n",
       "    }\n",
       "</style>\n",
       "<table border=\"1\" class=\"dataframe\">\n",
       "  <thead>\n",
       "    <tr style=\"text-align: right;\">\n",
       "      <th></th>\n",
       "      <th>vacancy_id</th>\n",
       "      <th>name</th>\n",
       "      <th>query</th>\n",
       "    </tr>\n",
       "  </thead>\n",
       "  <tbody>\n",
       "    <tr>\n",
       "      <th>0</th>\n",
       "      <td>77630537</td>\n",
       "      <td>Сборщик электрических машин и аппаратов / ученик</td>\n",
       "      <td>['машинное обучение']</td>\n",
       "    </tr>\n",
       "    <tr>\n",
       "      <th>1</th>\n",
       "      <td>80150068</td>\n",
       "      <td>Швея</td>\n",
       "      <td>['машинное обучение']</td>\n",
       "    </tr>\n",
       "    <tr>\n",
       "      <th>2</th>\n",
       "      <td>80485628</td>\n",
       "      <td>Аналитик</td>\n",
       "      <td>['аналитик данных', 'CV']</td>\n",
       "    </tr>\n",
       "    <tr>\n",
       "      <th>3</th>\n",
       "      <td>80628991</td>\n",
       "      <td>Менеджер объекта клининга</td>\n",
       "      <td>['машинное обучение']</td>\n",
       "    </tr>\n",
       "    <tr>\n",
       "      <th>4</th>\n",
       "      <td>80192310</td>\n",
       "      <td>Официант в ресторан \"She\" (на Большой Никитской)</td>\n",
       "      <td>['Artificial intelligence']</td>\n",
       "    </tr>\n",
       "  </tbody>\n",
       "</table>\n",
       "</div>"
      ],
      "text/plain": [
       "   vacancy_id                                              name  \\\n",
       "0    77630537  Сборщик электрических машин и аппаратов / ученик   \n",
       "1    80150068                                              Швея   \n",
       "2    80485628                                          Аналитик   \n",
       "3    80628991                         Менеджер объекта клининга   \n",
       "4    80192310  Официант в ресторан \"She\" (на Большой Никитской)   \n",
       "\n",
       "                         query  \n",
       "0        ['машинное обучение']  \n",
       "1        ['машинное обучение']  \n",
       "2    ['аналитик данных', 'CV']  \n",
       "3        ['машинное обучение']  \n",
       "4  ['Artificial intelligence']  "
      ]
     },
     "execution_count": 2,
     "metadata": {},
     "output_type": "execute_result"
    }
   ],
   "source": [
    "df = pd.read_csv('../data/processed/vacancies.csv', encoding='utf-8')[['vacancy_id', 'name', 'query']]\n",
    "df.head()"
   ]
  },
  {
   "cell_type": "code",
   "execution_count": 40,
   "metadata": {},
   "outputs": [],
   "source": [
    "with open('../data/features/prof_index_to_prof_name.pkl', 'rb') as f:\n",
    "    prof_index_to_prof_name = pickle.load(f)\n",
    "\n",
    "with open('../data/features/quety_to_prof_index.pkl', 'rb') as f:\n",
    "    quety_to_prof_index = pickle.load(f)\n",
    "\n",
    "def add_prof_set_to_df(df):\n",
    "    r = re.compile('\\\\\\\\|////|,')\n",
    "    def query_to_prof_set(s):\n",
    "        query_set = {x.strip(\" '\") for x in re.split(r, s.strip('[]'))} - {''}\n",
    "        prof_set = set([])\n",
    "        for q in query_set:\n",
    "            i = quety_to_prof_index[q]\n",
    "            p = prof_index_to_prof_name[i]\n",
    "            prof_set.add(p)\n",
    "        return prof_set\n",
    "\n",
    "    df['prof_set'] = df['query'].apply(query_to_prof_set)\n",
    "\n",
    "    return df"
   ]
  },
  {
   "cell_type": "code",
   "execution_count": 11,
   "metadata": {},
   "outputs": [
    {
     "data": {
      "text/html": [
       "<div>\n",
       "<style scoped>\n",
       "    .dataframe tbody tr th:only-of-type {\n",
       "        vertical-align: middle;\n",
       "    }\n",
       "\n",
       "    .dataframe tbody tr th {\n",
       "        vertical-align: top;\n",
       "    }\n",
       "\n",
       "    .dataframe thead th {\n",
       "        text-align: right;\n",
       "    }\n",
       "</style>\n",
       "<table border=\"1\" class=\"dataframe\">\n",
       "  <thead>\n",
       "    <tr style=\"text-align: right;\">\n",
       "      <th></th>\n",
       "      <th>vacancy_id</th>\n",
       "      <th>name</th>\n",
       "      <th>query</th>\n",
       "      <th>actual</th>\n",
       "      <th>prof_set</th>\n",
       "    </tr>\n",
       "  </thead>\n",
       "  <tbody>\n",
       "    <tr>\n",
       "      <th>0</th>\n",
       "      <td>77630537</td>\n",
       "      <td>Сборщик электрических машин и аппаратов / ученик</td>\n",
       "      <td>['машинное обучение']</td>\n",
       "      <td>0</td>\n",
       "      <td>{ML инженер}</td>\n",
       "    </tr>\n",
       "    <tr>\n",
       "      <th>1</th>\n",
       "      <td>80150068</td>\n",
       "      <td>Швея</td>\n",
       "      <td>['машинное обучение']</td>\n",
       "      <td>0</td>\n",
       "      <td>{ML инженер}</td>\n",
       "    </tr>\n",
       "    <tr>\n",
       "      <th>2</th>\n",
       "      <td>80485628</td>\n",
       "      <td>Аналитик</td>\n",
       "      <td>['аналитик данных', 'CV']</td>\n",
       "      <td>0</td>\n",
       "      <td>{Аналитик, ML инженер}</td>\n",
       "    </tr>\n",
       "    <tr>\n",
       "      <th>3</th>\n",
       "      <td>80628991</td>\n",
       "      <td>Менеджер объекта клининга</td>\n",
       "      <td>['машинное обучение']</td>\n",
       "      <td>0</td>\n",
       "      <td>{ML инженер}</td>\n",
       "    </tr>\n",
       "    <tr>\n",
       "      <th>4</th>\n",
       "      <td>80192310</td>\n",
       "      <td>Официант в ресторан \"She\" (на Большой Никитской)</td>\n",
       "      <td>['Artificial intelligence']</td>\n",
       "      <td>0</td>\n",
       "      <td>{Data scientist}</td>\n",
       "    </tr>\n",
       "  </tbody>\n",
       "</table>\n",
       "</div>"
      ],
      "text/plain": [
       "   vacancy_id                                              name  \\\n",
       "0    77630537  Сборщик электрических машин и аппаратов / ученик   \n",
       "1    80150068                                              Швея   \n",
       "2    80485628                                          Аналитик   \n",
       "3    80628991                         Менеджер объекта клининга   \n",
       "4    80192310  Официант в ресторан \"She\" (на Большой Никитской)   \n",
       "\n",
       "                         query  actual                prof_set  \n",
       "0        ['машинное обучение']       0            {ML инженер}  \n",
       "1        ['машинное обучение']       0            {ML инженер}  \n",
       "2    ['аналитик данных', 'CV']       0  {Аналитик, ML инженер}  \n",
       "3        ['машинное обучение']       0            {ML инженер}  \n",
       "4  ['Artificial intelligence']       0        {Data scientist}  "
      ]
     },
     "execution_count": 11,
     "metadata": {},
     "output_type": "execute_result"
    }
   ],
   "source": [
    "df['actual'] = 0\n",
    "df = add_prof_set_to_df(df)\n",
    "\n",
    "df.head()\n",
    "\n"
   ]
  },
  {
   "attachments": {},
   "cell_type": "markdown",
   "metadata": {},
   "source": [
    "**Файл filtring_ds.csv используется для ручной разметки актуальных вакансий**"
   ]
  },
  {
   "cell_type": "code",
   "execution_count": 12,
   "metadata": {},
   "outputs": [],
   "source": [
    "df.to_csv('data/filtring_ds.csv', index=False, encoding='utf-8')"
   ]
  },
  {
   "attachments": {},
   "cell_type": "markdown",
   "metadata": {},
   "source": [
    "разметка в файле `filtring_ds` производилась вручную"
   ]
  },
  {
   "cell_type": "code",
   "execution_count": 3,
   "metadata": {},
   "outputs": [
    {
     "data": {
      "text/html": [
       "<div>\n",
       "<style scoped>\n",
       "    .dataframe tbody tr th:only-of-type {\n",
       "        vertical-align: middle;\n",
       "    }\n",
       "\n",
       "    .dataframe tbody tr th {\n",
       "        vertical-align: top;\n",
       "    }\n",
       "\n",
       "    .dataframe thead th {\n",
       "        text-align: right;\n",
       "    }\n",
       "</style>\n",
       "<table border=\"1\" class=\"dataframe\">\n",
       "  <thead>\n",
       "    <tr style=\"text-align: right;\">\n",
       "      <th></th>\n",
       "      <th>vacancy_id</th>\n",
       "      <th>name</th>\n",
       "      <th>query</th>\n",
       "      <th>actual</th>\n",
       "      <th>prof_set</th>\n",
       "    </tr>\n",
       "  </thead>\n",
       "  <tbody>\n",
       "    <tr>\n",
       "      <th>0</th>\n",
       "      <td>77630537</td>\n",
       "      <td>Сборщик электрических машин и аппаратов / ученик</td>\n",
       "      <td>['машинное обучение']</td>\n",
       "      <td>0</td>\n",
       "      <td>{'ML инженер'}</td>\n",
       "    </tr>\n",
       "    <tr>\n",
       "      <th>1</th>\n",
       "      <td>80150068</td>\n",
       "      <td>Швея</td>\n",
       "      <td>['машинное обучение']</td>\n",
       "      <td>0</td>\n",
       "      <td>{'ML инженер'}</td>\n",
       "    </tr>\n",
       "    <tr>\n",
       "      <th>2</th>\n",
       "      <td>80485628</td>\n",
       "      <td>Аналитик</td>\n",
       "      <td>['аналитик данных', 'CV']</td>\n",
       "      <td>1</td>\n",
       "      <td>{'Аналитик', 'ML инженер'}</td>\n",
       "    </tr>\n",
       "    <tr>\n",
       "      <th>3</th>\n",
       "      <td>80628991</td>\n",
       "      <td>Менеджер объекта клининга</td>\n",
       "      <td>['машинное обучение']</td>\n",
       "      <td>0</td>\n",
       "      <td>{'ML инженер'}</td>\n",
       "    </tr>\n",
       "    <tr>\n",
       "      <th>4</th>\n",
       "      <td>80192310</td>\n",
       "      <td>Официант в ресторан \"She\" (на Большой Никитской)</td>\n",
       "      <td>['Artificial intelligence']</td>\n",
       "      <td>0</td>\n",
       "      <td>{'Data scientist'}</td>\n",
       "    </tr>\n",
       "  </tbody>\n",
       "</table>\n",
       "</div>"
      ],
      "text/plain": [
       "   vacancy_id                                              name  \\\n",
       "0    77630537  Сборщик электрических машин и аппаратов / ученик   \n",
       "1    80150068                                              Швея   \n",
       "2    80485628                                          Аналитик   \n",
       "3    80628991                         Менеджер объекта клининга   \n",
       "4    80192310  Официант в ресторан \"She\" (на Большой Никитской)   \n",
       "\n",
       "                         query  actual                    prof_set  \n",
       "0        ['машинное обучение']       0              {'ML инженер'}  \n",
       "1        ['машинное обучение']       0              {'ML инженер'}  \n",
       "2    ['аналитик данных', 'CV']       1  {'Аналитик', 'ML инженер'}  \n",
       "3        ['машинное обучение']       0              {'ML инженер'}  \n",
       "4  ['Artificial intelligence']       0          {'Data scientist'}  "
      ]
     },
     "execution_count": 3,
     "metadata": {},
     "output_type": "execute_result"
    }
   ],
   "source": [
    "fintring_df = pd.read_csv('data/filtring_ds.csv', encoding='utf-8')\n",
    "fintring_df.head()"
   ]
  },
  {
   "cell_type": "code",
   "execution_count": 4,
   "metadata": {},
   "outputs": [
    {
     "name": "stdout",
     "output_type": "stream",
     "text": [
      "Rows count: 0\n"
     ]
    },
    {
     "data": {
      "text/plain": [
       "[]"
      ]
     },
     "execution_count": 4,
     "metadata": {},
     "output_type": "execute_result"
    }
   ],
   "source": [
    "# постразметка\n",
    "\n",
    "pd.set_option('display.max_rows', None)\n",
    "\n",
    "def simplify(s):\n",
    "    return s.lower(). \\\n",
    "                replace('\"', ' '). \\\n",
    "                replace(\",\", ' '). \\\n",
    "                replace('(', ' '). \\\n",
    "                replace(')', ' '). \\\n",
    "                replace('/', ' '). \\\n",
    "                replace('.', ' ')\n",
    "\n",
    "ww = ['аналитик', 'analy', 'dwh', 'MLOps', ' ml ', ' ai ', ' cv ', ' nlp ',\n",
    "      'Data Engineer', 'Data Office', 'Data Science', 'DataOps', 'Data Quality',\n",
    "      'Big Data', 'Data Lake', 'DataEngineer', 'баз данных', 'ETL']\n",
    "d = fintring_df[fintring_df.name.apply(\n",
    "    lambda x: any([(w.lower() in simplify(x)) for w in ww])) & (fintring_df.actual == 0)]\n",
    "#fintring_df.loc[d.index, 'actual'] = 1\n",
    "\n",
    "print('Rows count:', d.shape[0])\n",
    "list(d['name'])\n"
   ]
  },
  {
   "cell_type": "code",
   "execution_count": 112,
   "metadata": {},
   "outputs": [],
   "source": [
    "fintring_df.to_csv('data/filtring_ds.csv', index=False, encoding='utf-8')"
   ]
  },
  {
   "attachments": {},
   "cell_type": "markdown",
   "metadata": {},
   "source": [
    "## Разделение выборок, базовая модель, метрика"
   ]
  },
  {
   "cell_type": "code",
   "execution_count": 5,
   "metadata": {},
   "outputs": [
    {
     "data": {
      "text/plain": [
       "0    9148\n",
       "1    3366\n",
       "Name: actual, dtype: int64"
      ]
     },
     "execution_count": 5,
     "metadata": {},
     "output_type": "execute_result"
    }
   ],
   "source": [
    "fintring_df.actual.value_counts()"
   ]
  },
  {
   "cell_type": "code",
   "execution_count": 6,
   "metadata": {},
   "outputs": [
    {
     "name": "stdout",
     "output_type": "stream",
     "text": [
      "train_f shape =  (9385, 1)\n",
      "train_t shape =  (9385,)\n",
      "test_f shape =  (3129, 1)\n",
      "test_t shape =  (3129,)\n"
     ]
    }
   ],
   "source": [
    "RANDOM_SEED = 42\n",
    "\n",
    "data_f = fintring_df[['name']]\n",
    "data_t = fintring_df['actual']\n",
    "\n",
    "train_f, test_f, train_t, test_t = train_test_split(data_f, data_t, \n",
    "                                                  train_size=0.75, random_state=RANDOM_SEED, stratify=data_t)\n",
    "\n",
    "print('train_f shape = ', train_f.shape)\n",
    "print('train_t shape = ', train_t.shape)\n",
    "print('test_f shape = ', test_f.shape)\n",
    "print('test_t shape = ', test_t.shape)"
   ]
  },
  {
   "cell_type": "code",
   "execution_count": 123,
   "metadata": {},
   "outputs": [
    {
     "data": {
      "text/plain": [
       "0.0"
      ]
     },
     "execution_count": 123,
     "metadata": {},
     "output_type": "execute_result"
    }
   ],
   "source": [
    "# dummy classifier\n",
    "dummy = DummyClassifier()\n",
    "dummy.fit(train_f, train_t)\n",
    "predict = dummy.predict(test_f)\n",
    "f1_score(test_t, predict)"
   ]
  },
  {
   "cell_type": "code",
   "execution_count": 138,
   "metadata": {},
   "outputs": [
    {
     "name": "stdout",
     "output_type": "stream",
     "text": [
      "Baseline f1 = 0.9368686868686869\n"
     ]
    }
   ],
   "source": [
    "# keyword baseline model\n",
    "\n",
    "key_words = ['аналитик', 'analy', 'dwh', 'MLOps', ' ml ', ' ai ', ' cv ', ' nlp ',\n",
    "      'Data Engineer', 'Data Office', 'Data Science', 'DataOps', 'Data Quality',\n",
    "      'Big Data', 'Data Lake', 'DataEngineer', 'баз данных', 'ETL',\n",
    "      'инженер данных', 'computer vision', 'database']\n",
    "\n",
    "def keyword_predict(X):\n",
    "      def simplify(s):\n",
    "            return s.lower(). \\\n",
    "                replace('\"', ' '). \\\n",
    "                replace(\",\", ' '). \\\n",
    "                replace('(', ' '). \\\n",
    "                replace(')', ' '). \\\n",
    "                replace('/', ' '). \\\n",
    "                replace('.', ' ')\n",
    "      \n",
    "      def predict_row(r):\n",
    "            return any([(w.lower() in simplify(r)) for w in key_words])\n",
    "\n",
    "      y = X.name.apply(lambda x: predict_row(x))\n",
    "      return y\n",
    "\n",
    "predict = keyword_predict(test_f)\n",
    "score = f1_score(test_t, predict)\n",
    "print('Baseline f1 =', score)\n",
    "\n",
    "    "
   ]
  },
  {
   "cell_type": "code",
   "execution_count": 29,
   "metadata": {},
   "outputs": [
    {
     "name": "stderr",
     "output_type": "stream",
     "text": [
      "[nltk_data] Downloading package stopwords to /Users/dima/nltk_data...\n",
      "[nltk_data]   Package stopwords is already up-to-date!\n"
     ]
    },
    {
     "name": "stdout",
     "output_type": "stream",
     "text": [
      "Vectorizer f1 = 0.9699879951980791\n"
     ]
    }
   ],
   "source": [
    "# Words bag Vectorizers\n",
    "\n",
    "class RelevantVacancyClassifier():\n",
    "    \"\"\"Класссификатор вакансий, которые относятся к DS\n",
    "    на вход dataframe c одним столбцом 'name'\n",
    "    на выходе актуальность (0/1)\n",
    "    \"\"\"\n",
    "\n",
    "    def __init__(self):\n",
    "\n",
    "        nltk.download('stopwords')\n",
    "        self._stop_words = set(stopwords.words('english')).union(stopwords.words('russian'))\n",
    "\n",
    "        self._m = Mystem()\n",
    "\n",
    "    def _lemmatize(self, X):\n",
    "        def simplify(s):\n",
    "            return s.lower(). \\\n",
    "                replace('\"', ' '). \\\n",
    "                replace(\",\", ' '). \\\n",
    "                replace('(', ' '). \\\n",
    "                replace(')', ' '). \\\n",
    "                replace('\\\\', ' '). \\\n",
    "                replace('-', ' '). \\\n",
    "                replace('/', ' '). \\\n",
    "                replace('.', ' ')\n",
    "        \n",
    "        X = [[x.strip() for x in self._m.lemmatize(simplify(r)) if x.strip() != ''] for r in X.name]\n",
    "        return [' '.join(x) for x in X]\n",
    "\n",
    "    def fit(self, X, y):\n",
    "\n",
    "        X = self._lemmatize(X)\n",
    "\n",
    "        self._vectorizer = CountVectorizer(stop_words=list(self._stop_words))\n",
    "        #self._vectorizer = TfidfVectorizer(stop_words=list(self._stop_words))\n",
    "\n",
    "        #self._model = LogisticRegression(class_weight='balanced')\n",
    "        self._model = lgb.LGBMClassifier(n_estimators=500, random_state=RANDOM_SEED)\n",
    "\n",
    "        X = self._vectorizer.fit_transform(X)\n",
    "        self._model.fit(X.astype(float), y)\n",
    "\n",
    "    def predict(self, X):\n",
    "        \n",
    "        X_lemm = self._lemmatize(X)\n",
    "        XX = self._vectorizer.transform(X_lemm)\n",
    "        y = self._model.predict(XX.astype(float))\n",
    "\n",
    "        # коррекция на базе правил\n",
    "        key_words = ['NLP', 'MLOps', 'DataOps', 'Computer Vision']\n",
    "        for i, x in enumerate(X_lemm):\n",
    "            if any([(w.lower() in x.split(' ')) for w in key_words]):\n",
    "                y[i] = 1\n",
    "\n",
    "        return y\n",
    "    \n",
    "    def dump(self, filename: str):\n",
    "        dumped = [self._vectorizer, self._model]\n",
    "        with open(filename, 'wb') as f:\n",
    "            pickle.dump(dumped, f)\n",
    "\n",
    "    def load(self, filename: str):\n",
    "        with open(filename, 'rb') as f:\n",
    "            dumped = pickle.load(f)\n",
    "            self._vectorizer = dumped[0]\n",
    "            self._model = dumped[1]\n",
    "\n",
    "clf = RelevantVacancyClassifier()\n",
    "clf.fit(train_f, train_t)\n",
    "predict = clf.predict(test_f)\n",
    "score = f1_score(test_t, predict)\n",
    "print('Vectorizer f1 =', score)"
   ]
  },
  {
   "cell_type": "code",
   "execution_count": 8,
   "metadata": {},
   "outputs": [],
   "source": [
    "# посмотрим где предикт модели отличается от разметки\n",
    "\n",
    "df = fintring_df.copy()\n",
    "df['predict'] = clf.predict(df[['name']])\n"
   ]
  },
  {
   "cell_type": "code",
   "execution_count": 9,
   "metadata": {},
   "outputs": [
    {
     "name": "stdout",
     "output_type": "stream",
     "text": [
      "102\n"
     ]
    },
    {
     "data": {
      "text/html": [
       "<div>\n",
       "<style scoped>\n",
       "    .dataframe tbody tr th:only-of-type {\n",
       "        vertical-align: middle;\n",
       "    }\n",
       "\n",
       "    .dataframe tbody tr th {\n",
       "        vertical-align: top;\n",
       "    }\n",
       "\n",
       "    .dataframe thead th {\n",
       "        text-align: right;\n",
       "    }\n",
       "</style>\n",
       "<table border=\"1\" class=\"dataframe\">\n",
       "  <thead>\n",
       "    <tr style=\"text-align: right;\">\n",
       "      <th></th>\n",
       "      <th>name</th>\n",
       "      <th>query</th>\n",
       "      <th>actual</th>\n",
       "      <th>predict</th>\n",
       "    </tr>\n",
       "  </thead>\n",
       "  <tbody>\n",
       "    <tr>\n",
       "      <th>97</th>\n",
       "      <td>Technical Office Engineer / Senior Cost Contro...</td>\n",
       "      <td>['Advanced Analytics']</td>\n",
       "      <td>0</td>\n",
       "      <td>1</td>\n",
       "    </tr>\n",
       "    <tr>\n",
       "      <th>115</th>\n",
       "      <td>Market Intelligence manager (Senior)</td>\n",
       "      <td>['data analyst', 'business analyst', 'data', '...</td>\n",
       "      <td>1</td>\n",
       "      <td>0</td>\n",
       "    </tr>\n",
       "    <tr>\n",
       "      <th>195</th>\n",
       "      <td>Менеджер по продажам решений RPA/BI</td>\n",
       "      <td>['business analyst']</td>\n",
       "      <td>0</td>\n",
       "      <td>1</td>\n",
       "    </tr>\n",
       "    <tr>\n",
       "      <th>222</th>\n",
       "      <td>Senior Python developer</td>\n",
       "      <td>['GPT']</td>\n",
       "      <td>1</td>\n",
       "      <td>0</td>\n",
       "    </tr>\n",
       "    <tr>\n",
       "      <th>250</th>\n",
       "      <td>Технический писатель (hadoop)</td>\n",
       "      <td>['аналитик данных']</td>\n",
       "      <td>1</td>\n",
       "      <td>0</td>\n",
       "    </tr>\n",
       "  </tbody>\n",
       "</table>\n",
       "</div>"
      ],
      "text/plain": [
       "                                                  name  \\\n",
       "97   Technical Office Engineer / Senior Cost Contro...   \n",
       "115               Market Intelligence manager (Senior)   \n",
       "195                Менеджер по продажам решений RPA/BI   \n",
       "222                            Senior Python developer   \n",
       "250                      Технический писатель (hadoop)   \n",
       "\n",
       "                                                 query  actual  predict  \n",
       "97                              ['Advanced Analytics']       0        1  \n",
       "115  ['data analyst', 'business analyst', 'data', '...       1        0  \n",
       "195                               ['business analyst']       0        1  \n",
       "222                                            ['GPT']       1        0  \n",
       "250                                ['аналитик данных']       1        0  "
      ]
     },
     "execution_count": 9,
     "metadata": {},
     "output_type": "execute_result"
    }
   ],
   "source": [
    "d = df[df.predict != df.actual]\n",
    "print(d.shape[0])\n",
    "d[['name', 'query', 'actual', 'predict']].head() # просматривались все данные"
   ]
  },
  {
   "cell_type": "code",
   "execution_count": 30,
   "metadata": {},
   "outputs": [
    {
     "name": "stderr",
     "output_type": "stream",
     "text": [
      "[nltk_data] Downloading package stopwords to /Users/dima/nltk_data...\n",
      "[nltk_data]   Package stopwords is already up-to-date!\n"
     ]
    }
   ],
   "source": [
    "# посмотрев предикты видим, что предсказания даже более актуальные чем разметка, кроме редких кейсов в меньшенстве\n",
    "# поэтому обучем эту модель на всех данных (можно сериализовать для прода) и обновим предсказания\n",
    "\n",
    "# посмотрим где предикт модели отличается от разметки\n",
    "\n",
    "df = fintring_df.copy()\n",
    "clf = RelevantVacancyClassifier()\n",
    "clf.fit(df[['name']], df['actual'])\n",
    "df['predict'] = clf.predict(df[['name']])\n"
   ]
  },
  {
   "cell_type": "code",
   "execution_count": 31,
   "metadata": {},
   "outputs": [
    {
     "name": "stdout",
     "output_type": "stream",
     "text": [
      "58\n"
     ]
    },
    {
     "data": {
      "text/html": [
       "<div>\n",
       "<style scoped>\n",
       "    .dataframe tbody tr th:only-of-type {\n",
       "        vertical-align: middle;\n",
       "    }\n",
       "\n",
       "    .dataframe tbody tr th {\n",
       "        vertical-align: top;\n",
       "    }\n",
       "\n",
       "    .dataframe thead th {\n",
       "        text-align: right;\n",
       "    }\n",
       "</style>\n",
       "<table border=\"1\" class=\"dataframe\">\n",
       "  <thead>\n",
       "    <tr style=\"text-align: right;\">\n",
       "      <th></th>\n",
       "      <th>name</th>\n",
       "      <th>query</th>\n",
       "      <th>actual</th>\n",
       "      <th>predict</th>\n",
       "    </tr>\n",
       "  </thead>\n",
       "  <tbody>\n",
       "    <tr>\n",
       "      <th>115</th>\n",
       "      <td>Market Intelligence manager (Senior)</td>\n",
       "      <td>['data analyst', 'business analyst', 'data', '...</td>\n",
       "      <td>1</td>\n",
       "      <td>0</td>\n",
       "    </tr>\n",
       "    <tr>\n",
       "      <th>222</th>\n",
       "      <td>Senior Python developer</td>\n",
       "      <td>['GPT']</td>\n",
       "      <td>1</td>\n",
       "      <td>0</td>\n",
       "    </tr>\n",
       "    <tr>\n",
       "      <th>250</th>\n",
       "      <td>Технический писатель (hadoop)</td>\n",
       "      <td>['аналитик данных']</td>\n",
       "      <td>1</td>\n",
       "      <td>0</td>\n",
       "    </tr>\n",
       "    <tr>\n",
       "      <th>271</th>\n",
       "      <td>Бизнес-ассистент / помощник руководителя</td>\n",
       "      <td>['аналитик данных']</td>\n",
       "      <td>1</td>\n",
       "      <td>0</td>\n",
       "    </tr>\n",
       "    <tr>\n",
       "      <th>296</th>\n",
       "      <td>Network Administrator (rotation)</td>\n",
       "      <td>['data engineer']</td>\n",
       "      <td>0</td>\n",
       "      <td>1</td>\n",
       "    </tr>\n",
       "  </tbody>\n",
       "</table>\n",
       "</div>"
      ],
      "text/plain": [
       "                                         name  \\\n",
       "115      Market Intelligence manager (Senior)   \n",
       "222                   Senior Python developer   \n",
       "250             Технический писатель (hadoop)   \n",
       "271  Бизнес-ассистент / помощник руководителя   \n",
       "296          Network Administrator (rotation)   \n",
       "\n",
       "                                                 query  actual  predict  \n",
       "115  ['data analyst', 'business analyst', 'data', '...       1        0  \n",
       "222                                            ['GPT']       1        0  \n",
       "250                                ['аналитик данных']       1        0  \n",
       "271                                ['аналитик данных']       1        0  \n",
       "296                                  ['data engineer']       0        1  "
      ]
     },
     "execution_count": 31,
     "metadata": {},
     "output_type": "execute_result"
    }
   ],
   "source": [
    "d = df[df.predict != df.actual]\n",
    "print(d.shape[0])\n",
    "d[['name', 'query', 'actual', 'predict']].head() "
   ]
  },
  {
   "cell_type": "code",
   "execution_count": 32,
   "metadata": {},
   "outputs": [],
   "source": [
    "# сериализуем\n",
    "clf.dump('../models/RelevantVacancyClassifier.pkl')"
   ]
  },
  {
   "cell_type": "code",
   "execution_count": 34,
   "metadata": {},
   "outputs": [
    {
     "name": "stderr",
     "output_type": "stream",
     "text": [
      "[nltk_data] Downloading package stopwords to /Users/dima/nltk_data...\n",
      "[nltk_data]   Package stopwords is already up-to-date!\n"
     ]
    },
    {
     "name": "stdout",
     "output_type": "stream",
     "text": [
      "58\n"
     ]
    },
    {
     "data": {
      "text/html": [
       "<div>\n",
       "<style scoped>\n",
       "    .dataframe tbody tr th:only-of-type {\n",
       "        vertical-align: middle;\n",
       "    }\n",
       "\n",
       "    .dataframe tbody tr th {\n",
       "        vertical-align: top;\n",
       "    }\n",
       "\n",
       "    .dataframe thead th {\n",
       "        text-align: right;\n",
       "    }\n",
       "</style>\n",
       "<table border=\"1\" class=\"dataframe\">\n",
       "  <thead>\n",
       "    <tr style=\"text-align: right;\">\n",
       "      <th></th>\n",
       "      <th>name</th>\n",
       "      <th>query</th>\n",
       "      <th>actual</th>\n",
       "      <th>predict</th>\n",
       "    </tr>\n",
       "  </thead>\n",
       "  <tbody>\n",
       "    <tr>\n",
       "      <th>115</th>\n",
       "      <td>Market Intelligence manager (Senior)</td>\n",
       "      <td>['data analyst', 'business analyst', 'data', '...</td>\n",
       "      <td>1</td>\n",
       "      <td>0</td>\n",
       "    </tr>\n",
       "    <tr>\n",
       "      <th>222</th>\n",
       "      <td>Senior Python developer</td>\n",
       "      <td>['GPT']</td>\n",
       "      <td>1</td>\n",
       "      <td>0</td>\n",
       "    </tr>\n",
       "    <tr>\n",
       "      <th>250</th>\n",
       "      <td>Технический писатель (hadoop)</td>\n",
       "      <td>['аналитик данных']</td>\n",
       "      <td>1</td>\n",
       "      <td>0</td>\n",
       "    </tr>\n",
       "    <tr>\n",
       "      <th>271</th>\n",
       "      <td>Бизнес-ассистент / помощник руководителя</td>\n",
       "      <td>['аналитик данных']</td>\n",
       "      <td>1</td>\n",
       "      <td>0</td>\n",
       "    </tr>\n",
       "    <tr>\n",
       "      <th>296</th>\n",
       "      <td>Network Administrator (rotation)</td>\n",
       "      <td>['data engineer']</td>\n",
       "      <td>0</td>\n",
       "      <td>1</td>\n",
       "    </tr>\n",
       "  </tbody>\n",
       "</table>\n",
       "</div>"
      ],
      "text/plain": [
       "                                         name  \\\n",
       "115      Market Intelligence manager (Senior)   \n",
       "222                   Senior Python developer   \n",
       "250             Технический писатель (hadoop)   \n",
       "271  Бизнес-ассистент / помощник руководителя   \n",
       "296          Network Administrator (rotation)   \n",
       "\n",
       "                                                 query  actual  predict  \n",
       "115  ['data analyst', 'business analyst', 'data', '...       1        0  \n",
       "222                                            ['GPT']       1        0  \n",
       "250                                ['аналитик данных']       1        0  \n",
       "271                                ['аналитик данных']       1        0  \n",
       "296                                  ['data engineer']       0        1  "
      ]
     },
     "execution_count": 34,
     "metadata": {},
     "output_type": "execute_result"
    }
   ],
   "source": [
    "# проверяем\n",
    "lc = RelevantVacancyClassifier()\n",
    "lc.load('../models/RelevantVacancyClassifier.pkl')\n",
    "\n",
    "df = fintring_df.copy()\n",
    "df['predict'] = lc.predict(df[['name']])\n",
    "\n",
    "d = df[df.predict != df.actual]\n",
    "print(d.shape[0])\n",
    "d[['name', 'query', 'actual', 'predict']].head() "
   ]
  },
  {
   "attachments": {},
   "cell_type": "markdown",
   "metadata": {},
   "source": [
    "**!!! Модель конечно нужно переобучить на всем корпусе, включить в пайпллан прода, серилизовать и т.д.**"
   ]
  },
  {
   "attachments": {},
   "cell_type": "markdown",
   "metadata": {},
   "source": [
    "## Проверяем/дополняем профессии"
   ]
  },
  {
   "cell_type": "code",
   "execution_count": 150,
   "metadata": {},
   "outputs": [
    {
     "data": {
      "text/html": [
       "<div>\n",
       "<style scoped>\n",
       "    .dataframe tbody tr th:only-of-type {\n",
       "        vertical-align: middle;\n",
       "    }\n",
       "\n",
       "    .dataframe tbody tr th {\n",
       "        vertical-align: top;\n",
       "    }\n",
       "\n",
       "    .dataframe thead th {\n",
       "        text-align: right;\n",
       "    }\n",
       "</style>\n",
       "<table border=\"1\" class=\"dataframe\">\n",
       "  <thead>\n",
       "    <tr style=\"text-align: right;\">\n",
       "      <th></th>\n",
       "      <th>vacancy_id</th>\n",
       "      <th>name</th>\n",
       "      <th>prof_set</th>\n",
       "      <th>prof_set_rulebase</th>\n",
       "      <th>query</th>\n",
       "    </tr>\n",
       "  </thead>\n",
       "  <tbody>\n",
       "    <tr>\n",
       "      <th>0</th>\n",
       "      <td>80485628</td>\n",
       "      <td>Аналитик</td>\n",
       "      <td>{ML инженер, Аналитик}</td>\n",
       "      <td>{}</td>\n",
       "      <td>['аналитик данных', 'CV']</td>\n",
       "    </tr>\n",
       "    <tr>\n",
       "      <th>1</th>\n",
       "      <td>80652370</td>\n",
       "      <td>Игровой аналитик (продуктовый аналитик)</td>\n",
       "      <td>{Аналитик, Data scientist, Big Data}</td>\n",
       "      <td>{}</td>\n",
       "      <td>['аналитик данных', 'data analyst', 'data', 'B...</td>\n",
       "    </tr>\n",
       "    <tr>\n",
       "      <th>2</th>\n",
       "      <td>78278410</td>\n",
       "      <td>Главный системный аналитик/Senior system Analy...</td>\n",
       "      <td>{Аналитик}</td>\n",
       "      <td>{}</td>\n",
       "      <td>['data analyst']</td>\n",
       "    </tr>\n",
       "    <tr>\n",
       "      <th>3</th>\n",
       "      <td>80585316</td>\n",
       "      <td>Бизнес-аналитик (транзакционные продукты)</td>\n",
       "      <td>{Аналитик}</td>\n",
       "      <td>{}</td>\n",
       "      <td>['business analyst']</td>\n",
       "    </tr>\n",
       "    <tr>\n",
       "      <th>4</th>\n",
       "      <td>80223554</td>\n",
       "      <td>Маркетолог-аналитик</td>\n",
       "      <td>{Инженер данных, Аналитик, Data scientist}</td>\n",
       "      <td>{}</td>\n",
       "      <td>['data analyst', 'data mining', 'data']</td>\n",
       "    </tr>\n",
       "  </tbody>\n",
       "</table>\n",
       "</div>"
      ],
      "text/plain": [
       "   vacancy_id                                               name  \\\n",
       "0    80485628                                           Аналитик   \n",
       "1    80652370            Игровой аналитик (продуктовый аналитик)   \n",
       "2    78278410  Главный системный аналитик/Senior system Analy...   \n",
       "3    80585316          Бизнес-аналитик (транзакционные продукты)   \n",
       "4    80223554                                Маркетолог-аналитик   \n",
       "\n",
       "                                     prof_set prof_set_rulebase  \\\n",
       "0                      {ML инженер, Аналитик}                {}   \n",
       "1        {Аналитик, Data scientist, Big Data}                {}   \n",
       "2                                  {Аналитик}                {}   \n",
       "3                                  {Аналитик}                {}   \n",
       "4  {Инженер данных, Аналитик, Data scientist}                {}   \n",
       "\n",
       "                                               query  \n",
       "0                          ['аналитик данных', 'CV']  \n",
       "1  ['аналитик данных', 'data analyst', 'data', 'B...  \n",
       "2                                   ['data analyst']  \n",
       "3                               ['business analyst']  \n",
       "4            ['data analyst', 'data mining', 'data']  "
      ]
     },
     "execution_count": 150,
     "metadata": {},
     "output_type": "execute_result"
    }
   ],
   "source": [
    "df = pd.read_csv('../data/processed/vacancies.csv', encoding='utf-8')\n",
    "df = add_prof_set_to_df(df)\n",
    "df['prof_set_rulebase'] = [set([]) for _ in range(len(df))]\n",
    "df = df[['vacancy_id', 'name', 'prof_set', 'prof_set_rulebase', 'query']]\n",
    "\n",
    "df.head()"
   ]
  },
  {
   "cell_type": "code",
   "execution_count": 158,
   "metadata": {},
   "outputs": [
    {
     "name": "stdout",
     "output_type": "stream",
     "text": [
      "Total: 3339, processed: 3133\n"
     ]
    }
   ],
   "source": [
    "# rule based\n",
    "\n",
    "xdf = df.copy()\n",
    "\n",
    "\n",
    "\n",
    "def _simplify(s):\n",
    "        return s.lower(). \\\n",
    "            replace('\"', ' '). \\\n",
    "            replace(\",\", ' '). \\\n",
    "            replace('(', ' '). \\\n",
    "            replace(')', ' '). \\\n",
    "            replace('\\\\', ' '). \\\n",
    "            replace('-', ' '). \\\n",
    "            replace('/', ' '). \\\n",
    "            replace('.', ' ')\n",
    "\n",
    "\n",
    "\n",
    "#xdf['lemm_name'] = _lemmatize(xdf)\n",
    "\n",
    "def apply_rule_and(df: pd.DataFrame, prof: str, keywords_list: List[str] = None, only_empty: bool = False) -> pd.DataFrame:\n",
    "    if keywords_list is None:\n",
    "        keywords_list = [prof]\n",
    "\n",
    "    for keywords in keywords_list:\n",
    "        keywords = re.split(' |-', keywords)\n",
    "\n",
    "        rule = df.apply(lambda x: \n",
    "                        all([(kw.lower() in x['name'].lower()) for kw in keywords]) and\n",
    "                        (only_empty == False or len(x['prof_set_rulebase']) == 0)\n",
    "                        , axis=1)\n",
    "        filter = df[rule].index\n",
    "\n",
    "        df.loc[filter, 'prof_set_rulebase'] = \\\n",
    "            df.loc[filter, 'prof_set_rulebase'].apply(lambda x: x.union(set([prof])))\n",
    "\n",
    "    return df\n",
    "\n",
    "def apply_rule_kw(df: pd.DataFrame, prof: str, keywords: List[str], only_empty: bool = False) -> pd.DataFrame:\n",
    "    for kw in keywords:\n",
    "        kw = f' {kw.lower()} '\n",
    "        rule = df.apply(lambda x:\n",
    "                        kw in ' '+_simplify(x['name'])+' ' and\n",
    "                        (only_empty == False or len(x['prof_set_rulebase']) == 0)\n",
    "                        , axis=1)\n",
    "        filter = df[rule].index\n",
    "\n",
    "        df.loc[filter, 'prof_set_rulebase'] = \\\n",
    "                df.loc[filter, 'prof_set_rulebase'].apply(lambda x: x.union(set([prof])))\n",
    "\n",
    "    return df\n",
    "\n",
    "# Аналитики\n",
    "xdf = apply_rule_and(xdf, 'Системный аналитик')\n",
    "xdf = apply_rule_and(xdf, 'Бизнес-аналитик', ['Бизнес-аналитик', 'Business Analyst'])\n",
    "xdf = apply_rule_and(xdf, 'Аналитик данных', ['Аналитик данных', 'Data Analyst'])\n",
    "xdf = apply_rule_and(xdf, 'Продуктовый аналитик')\n",
    "xdf = apply_rule_and(xdf, 'Аналитик', ['Аналитик', 'Analyst'], only_empty=True)\n",
    "\n",
    "# Администратор баз данных\n",
    "xdf = apply_rule_and(xdf, 'Администратор баз данных', ['Администратор баз данных', 'Администратор БД'])\n",
    "\n",
    "# Инженеры данных\n",
    "xdf = apply_rule_and(xdf, 'Инженер данных', ['Инженер данных', 'Data Engineer', \n",
    "                'Дата инженер', 'Data инженер',\n",
    "                'Data Architect', 'Hadoop', 'Kafka'\n",
    "])\n",
    "xdf = apply_rule_kw(xdf, 'Инженер данных', ['баз данных', 'PostgreSQL', 'MSSQL'], only_empty=True)\n",
    "xdf = apply_rule_kw(xdf, 'Инженер данных', ['Hadoop', 'Kafka'])\n",
    "\n",
    "\n",
    "# Дата Сайенс\n",
    "xdf = apply_rule_and(xdf, 'Data Scientist')\n",
    "\n",
    "# ML инженер\n",
    "xdf = apply_rule_kw(xdf, 'ML инженер', ['ML', 'ETL', 'MLOps'])\n",
    "\n",
    "# Big Data\n",
    "xdf = apply_rule_kw(xdf, 'Big Data', ['Big Data', 'Биг Дата', 'DWH', 'Data lake', 'Hadoop', 'Kafka',\n",
    "                                      'больших данных', 'большие данные'])\n",
    "\n",
    "# остатки\n",
    "xdf = apply_rule_and(xdf, 'Data Scientist', ['Data Science'])\n",
    "xdf = apply_rule_and(xdf, 'Computer Vision', ['Computer Vision', 'CV'])\n",
    "xdf = apply_rule_and(xdf, 'NLP', ['Computer Vision', 'NLP', 'Natural Language Processing'])\n",
    "\n",
    "processed = xdf[xdf.prof_set_rulebase.apply(lambda x: x != set([]))].shape[0]\n",
    "\n",
    "rule = xdf.prof_set_rulebase.apply(lambda x: x == set([]))\n",
    "filter = xdf[rule].index\n",
    "xdf.loc[filter, 'prof_set_rulebase'] = xdf.loc[filter, 'prof_set']\n",
    "\n",
    "xdf.to_csv('data/prof_ds.csv', index=False, encoding='utf-8')\n",
    "\n",
    "# Total: 3339, processed: 3133\n",
    "print(f'Total: {xdf.shape[0]}, processed: {processed}')\n"
   ]
  },
  {
   "attachments": {},
   "cell_type": "markdown",
   "metadata": {},
   "source": [
    "- проверить ещй раз\n",
    "- посмотреть на count vectorizer c фразами \n",
    "- посмотреть а статистику профессий\n",
    "- в пайплайн"
   ]
  },
  {
   "cell_type": "code",
   "execution_count": 142,
   "metadata": {},
   "outputs": [
    {
     "data": {
      "text/plain": [
       "Специалист Центра подготовки данных                                                                 4\n",
       "Senior Devops engineer                                                                              3\n",
       "BI разработчик                                                                                      3\n",
       "Специалист по разметке данных со знанием разработки                                                 3\n",
       "Python Developer (Data Office)                                                                      2\n",
       "Специалист по сверке данных                                                                         2\n",
       "Специалист по аналитической поддержке                                                               2\n",
       "Разработчик BI                                                                                      2\n",
       "Руководитель направления BI                                                                         2\n",
       "Senior DevOps Engineer                                                                              2\n",
       "Разработчик PL/SQL                                                                                  2\n",
       "Разработчик Power BI                                                                                2\n",
       "Программист SQL SSAS                                                                                2\n",
       "Младший научный сотрудник (компьютерное зрение, машинное обучение, математическое моделирование)    1\n",
       "DBA PostgreSQL                                                                                      1\n",
       "Специалист по рыночным данным                                                                       1\n",
       "Machine Learning Engineer (Рекламная платформа)                                                     1\n",
       "Специалист по визуализации данных                                                                   1\n",
       "Разработчик Python (NLP)                                                                            1\n",
       "BI разработчик (Москва)                                                                             1\n",
       "Name: name, dtype: int64"
      ]
     },
     "execution_count": 142,
     "metadata": {},
     "output_type": "execute_result"
    }
   ],
   "source": [
    "xdf[xdf.prof_set_rulebase.apply(lambda x: len(x) == 0)].name.value_counts()[:20]"
   ]
  },
  {
   "attachments": {},
   "cell_type": "markdown",
   "metadata": {},
   "source": []
  }
 ],
 "metadata": {
  "kernelspec": {
   "display_name": "base",
   "language": "python",
   "name": "python3"
  },
  "language_info": {
   "codemirror_mode": {
    "name": "ipython",
    "version": 3
   },
   "file_extension": ".py",
   "mimetype": "text/x-python",
   "name": "python",
   "nbconvert_exporter": "python",
   "pygments_lexer": "ipython3",
   "version": "3.9.15"
  },
  "orig_nbformat": 4
 },
 "nbformat": 4,
 "nbformat_minor": 2
}
