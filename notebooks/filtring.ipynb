{
 "cells": [
  {
   "attachments": {},
   "cell_type": "markdown",
   "metadata": {},
   "source": [
    "# Будем искать способы отфильровать нерелевантные вакансии\n",
    "\n",
    "## Разметка\n",
    "\n",
    "По поводу толоки. Получилось не дешево. За одну задачу (для 3-ех раз размеченную) 0.019$ - то есть для 12_000 записей это 228$, даже если взять треть, то это дорого для этой задачи\n",
    "\n",
    "В общем проще в Эксель (а точнее плагин для редактирования CSV таблицей)"
   ]
  },
  {
   "cell_type": "code",
   "execution_count": 197,
   "metadata": {},
   "outputs": [],
   "source": [
    "import pandas as pd\n",
    "import pickle\n",
    "import re\n",
    "from sklearn.feature_extraction.text import TfidfVectorizer, CountVectorizer\n",
    "import numpy as np\n",
    "from sklearn.model_selection import train_test_split\n",
    "from sklearn.metrics import f1_score, classification_report\n",
    "from sklearn.dummy import DummyClassifier\n",
    "from sklearn.linear_model import LogisticRegression\n",
    "from pymystem3 import Mystem\n",
    "import nltk\n",
    "from nltk.corpus import stopwords\n",
    "import lightgbm as lgb\n",
    "from typing import List, Set"
   ]
  },
  {
   "cell_type": "code",
   "execution_count": 2,
   "metadata": {},
   "outputs": [
    {
     "data": {
      "text/html": [
       "<div>\n",
       "<style scoped>\n",
       "    .dataframe tbody tr th:only-of-type {\n",
       "        vertical-align: middle;\n",
       "    }\n",
       "\n",
       "    .dataframe tbody tr th {\n",
       "        vertical-align: top;\n",
       "    }\n",
       "\n",
       "    .dataframe thead th {\n",
       "        text-align: right;\n",
       "    }\n",
       "</style>\n",
       "<table border=\"1\" class=\"dataframe\">\n",
       "  <thead>\n",
       "    <tr style=\"text-align: right;\">\n",
       "      <th></th>\n",
       "      <th>vacancy_id</th>\n",
       "      <th>name</th>\n",
       "      <th>query</th>\n",
       "    </tr>\n",
       "  </thead>\n",
       "  <tbody>\n",
       "    <tr>\n",
       "      <th>0</th>\n",
       "      <td>77630537</td>\n",
       "      <td>Сборщик электрических машин и аппаратов / ученик</td>\n",
       "      <td>['машинное обучение']</td>\n",
       "    </tr>\n",
       "    <tr>\n",
       "      <th>1</th>\n",
       "      <td>80150068</td>\n",
       "      <td>Швея</td>\n",
       "      <td>['машинное обучение']</td>\n",
       "    </tr>\n",
       "    <tr>\n",
       "      <th>2</th>\n",
       "      <td>80485628</td>\n",
       "      <td>Аналитик</td>\n",
       "      <td>['аналитик данных', 'CV']</td>\n",
       "    </tr>\n",
       "    <tr>\n",
       "      <th>3</th>\n",
       "      <td>80628991</td>\n",
       "      <td>Менеджер объекта клининга</td>\n",
       "      <td>['машинное обучение']</td>\n",
       "    </tr>\n",
       "    <tr>\n",
       "      <th>4</th>\n",
       "      <td>80192310</td>\n",
       "      <td>Официант в ресторан \"She\" (на Большой Никитской)</td>\n",
       "      <td>['Artificial intelligence']</td>\n",
       "    </tr>\n",
       "  </tbody>\n",
       "</table>\n",
       "</div>"
      ],
      "text/plain": [
       "   vacancy_id                                              name  \\\n",
       "0    77630537  Сборщик электрических машин и аппаратов / ученик   \n",
       "1    80150068                                              Швея   \n",
       "2    80485628                                          Аналитик   \n",
       "3    80628991                         Менеджер объекта клининга   \n",
       "4    80192310  Официант в ресторан \"She\" (на Большой Никитской)   \n",
       "\n",
       "                         query  \n",
       "0        ['машинное обучение']  \n",
       "1        ['машинное обучение']  \n",
       "2    ['аналитик данных', 'CV']  \n",
       "3        ['машинное обучение']  \n",
       "4  ['Artificial intelligence']  "
      ]
     },
     "execution_count": 2,
     "metadata": {},
     "output_type": "execute_result"
    }
   ],
   "source": [
    "df = pd.read_csv('../data/processed/vacancies.csv', encoding='utf-8')[['vacancy_id', 'name', 'query']]\n",
    "df.head()"
   ]
  },
  {
   "cell_type": "code",
   "execution_count": 40,
   "metadata": {},
   "outputs": [],
   "source": [
    "with open('../data/features/prof_index_to_prof_name.pkl', 'rb') as f:\n",
    "    prof_index_to_prof_name = pickle.load(f)\n",
    "\n",
    "# !!! такой файл больше не сохранятеся !!!\n",
    "# !!! нужно переносить новую логику с пайплайна сюда\n",
    "# with open('../data/features/quety_to_prof_index.pkl', 'rb') as f:\n",
    "#    quety_to_prof_index = pickle.load(f)\n",
    "\n",
    "def add_prof_set_to_df(df):\n",
    "    r = re.compile('\\\\\\\\|////|,')\n",
    "    def query_to_prof_set(s):\n",
    "        query_set = {x.strip(\" '\") for x in re.split(r, s.strip('[]'))} - {''}\n",
    "        prof_set = set([])\n",
    "        for q in query_set:\n",
    "            i = quety_to_prof_index[q]\n",
    "            p = prof_index_to_prof_name[i]\n",
    "            prof_set.add(p)\n",
    "        return prof_set\n",
    "\n",
    "    df['prof_set'] = df['query'].apply(query_to_prof_set)\n",
    "\n",
    "    return df"
   ]
  },
  {
   "cell_type": "code",
   "execution_count": 11,
   "metadata": {},
   "outputs": [
    {
     "data": {
      "text/html": [
       "<div>\n",
       "<style scoped>\n",
       "    .dataframe tbody tr th:only-of-type {\n",
       "        vertical-align: middle;\n",
       "    }\n",
       "\n",
       "    .dataframe tbody tr th {\n",
       "        vertical-align: top;\n",
       "    }\n",
       "\n",
       "    .dataframe thead th {\n",
       "        text-align: right;\n",
       "    }\n",
       "</style>\n",
       "<table border=\"1\" class=\"dataframe\">\n",
       "  <thead>\n",
       "    <tr style=\"text-align: right;\">\n",
       "      <th></th>\n",
       "      <th>vacancy_id</th>\n",
       "      <th>name</th>\n",
       "      <th>query</th>\n",
       "      <th>actual</th>\n",
       "      <th>prof_set</th>\n",
       "    </tr>\n",
       "  </thead>\n",
       "  <tbody>\n",
       "    <tr>\n",
       "      <th>0</th>\n",
       "      <td>77630537</td>\n",
       "      <td>Сборщик электрических машин и аппаратов / ученик</td>\n",
       "      <td>['машинное обучение']</td>\n",
       "      <td>0</td>\n",
       "      <td>{ML инженер}</td>\n",
       "    </tr>\n",
       "    <tr>\n",
       "      <th>1</th>\n",
       "      <td>80150068</td>\n",
       "      <td>Швея</td>\n",
       "      <td>['машинное обучение']</td>\n",
       "      <td>0</td>\n",
       "      <td>{ML инженер}</td>\n",
       "    </tr>\n",
       "    <tr>\n",
       "      <th>2</th>\n",
       "      <td>80485628</td>\n",
       "      <td>Аналитик</td>\n",
       "      <td>['аналитик данных', 'CV']</td>\n",
       "      <td>0</td>\n",
       "      <td>{Аналитик, ML инженер}</td>\n",
       "    </tr>\n",
       "    <tr>\n",
       "      <th>3</th>\n",
       "      <td>80628991</td>\n",
       "      <td>Менеджер объекта клининга</td>\n",
       "      <td>['машинное обучение']</td>\n",
       "      <td>0</td>\n",
       "      <td>{ML инженер}</td>\n",
       "    </tr>\n",
       "    <tr>\n",
       "      <th>4</th>\n",
       "      <td>80192310</td>\n",
       "      <td>Официант в ресторан \"She\" (на Большой Никитской)</td>\n",
       "      <td>['Artificial intelligence']</td>\n",
       "      <td>0</td>\n",
       "      <td>{Data scientist}</td>\n",
       "    </tr>\n",
       "  </tbody>\n",
       "</table>\n",
       "</div>"
      ],
      "text/plain": [
       "   vacancy_id                                              name  \\\n",
       "0    77630537  Сборщик электрических машин и аппаратов / ученик   \n",
       "1    80150068                                              Швея   \n",
       "2    80485628                                          Аналитик   \n",
       "3    80628991                         Менеджер объекта клининга   \n",
       "4    80192310  Официант в ресторан \"She\" (на Большой Никитской)   \n",
       "\n",
       "                         query  actual                prof_set  \n",
       "0        ['машинное обучение']       0            {ML инженер}  \n",
       "1        ['машинное обучение']       0            {ML инженер}  \n",
       "2    ['аналитик данных', 'CV']       0  {Аналитик, ML инженер}  \n",
       "3        ['машинное обучение']       0            {ML инженер}  \n",
       "4  ['Artificial intelligence']       0        {Data scientist}  "
      ]
     },
     "execution_count": 11,
     "metadata": {},
     "output_type": "execute_result"
    }
   ],
   "source": [
    "df['actual'] = 0\n",
    "df = add_prof_set_to_df(df)\n",
    "\n",
    "df.head()\n",
    "\n"
   ]
  },
  {
   "attachments": {},
   "cell_type": "markdown",
   "metadata": {},
   "source": [
    "**Файл filtring_ds.csv используется для ручной разметки актуальных вакансий**"
   ]
  },
  {
   "cell_type": "code",
   "execution_count": 12,
   "metadata": {},
   "outputs": [],
   "source": [
    "df.to_csv('data/filtring_ds.csv', index=False, encoding='utf-8')"
   ]
  },
  {
   "attachments": {},
   "cell_type": "markdown",
   "metadata": {},
   "source": [
    "разметка в файле `filtring_ds` производилась вручную"
   ]
  },
  {
   "cell_type": "code",
   "execution_count": 3,
   "metadata": {},
   "outputs": [
    {
     "data": {
      "text/html": [
       "<div>\n",
       "<style scoped>\n",
       "    .dataframe tbody tr th:only-of-type {\n",
       "        vertical-align: middle;\n",
       "    }\n",
       "\n",
       "    .dataframe tbody tr th {\n",
       "        vertical-align: top;\n",
       "    }\n",
       "\n",
       "    .dataframe thead th {\n",
       "        text-align: right;\n",
       "    }\n",
       "</style>\n",
       "<table border=\"1\" class=\"dataframe\">\n",
       "  <thead>\n",
       "    <tr style=\"text-align: right;\">\n",
       "      <th></th>\n",
       "      <th>vacancy_id</th>\n",
       "      <th>name</th>\n",
       "      <th>query</th>\n",
       "      <th>actual</th>\n",
       "      <th>prof_set</th>\n",
       "    </tr>\n",
       "  </thead>\n",
       "  <tbody>\n",
       "    <tr>\n",
       "      <th>0</th>\n",
       "      <td>77630537</td>\n",
       "      <td>Сборщик электрических машин и аппаратов / ученик</td>\n",
       "      <td>['машинное обучение']</td>\n",
       "      <td>0</td>\n",
       "      <td>{'ML инженер'}</td>\n",
       "    </tr>\n",
       "    <tr>\n",
       "      <th>1</th>\n",
       "      <td>80150068</td>\n",
       "      <td>Швея</td>\n",
       "      <td>['машинное обучение']</td>\n",
       "      <td>0</td>\n",
       "      <td>{'ML инженер'}</td>\n",
       "    </tr>\n",
       "    <tr>\n",
       "      <th>2</th>\n",
       "      <td>80485628</td>\n",
       "      <td>Аналитик</td>\n",
       "      <td>['аналитик данных', 'CV']</td>\n",
       "      <td>1</td>\n",
       "      <td>{'Аналитик', 'ML инженер'}</td>\n",
       "    </tr>\n",
       "    <tr>\n",
       "      <th>3</th>\n",
       "      <td>80628991</td>\n",
       "      <td>Менеджер объекта клининга</td>\n",
       "      <td>['машинное обучение']</td>\n",
       "      <td>0</td>\n",
       "      <td>{'ML инженер'}</td>\n",
       "    </tr>\n",
       "    <tr>\n",
       "      <th>4</th>\n",
       "      <td>80192310</td>\n",
       "      <td>Официант в ресторан \"She\" (на Большой Никитской)</td>\n",
       "      <td>['Artificial intelligence']</td>\n",
       "      <td>0</td>\n",
       "      <td>{'Data scientist'}</td>\n",
       "    </tr>\n",
       "  </tbody>\n",
       "</table>\n",
       "</div>"
      ],
      "text/plain": [
       "   vacancy_id                                              name  \\\n",
       "0    77630537  Сборщик электрических машин и аппаратов / ученик   \n",
       "1    80150068                                              Швея   \n",
       "2    80485628                                          Аналитик   \n",
       "3    80628991                         Менеджер объекта клининга   \n",
       "4    80192310  Официант в ресторан \"She\" (на Большой Никитской)   \n",
       "\n",
       "                         query  actual                    prof_set  \n",
       "0        ['машинное обучение']       0              {'ML инженер'}  \n",
       "1        ['машинное обучение']       0              {'ML инженер'}  \n",
       "2    ['аналитик данных', 'CV']       1  {'Аналитик', 'ML инженер'}  \n",
       "3        ['машинное обучение']       0              {'ML инженер'}  \n",
       "4  ['Artificial intelligence']       0          {'Data scientist'}  "
      ]
     },
     "execution_count": 3,
     "metadata": {},
     "output_type": "execute_result"
    }
   ],
   "source": [
    "fintring_df = pd.read_csv('data/filtring_ds.csv', encoding='utf-8')\n",
    "fintring_df.head()"
   ]
  },
  {
   "cell_type": "code",
   "execution_count": 4,
   "metadata": {},
   "outputs": [
    {
     "name": "stdout",
     "output_type": "stream",
     "text": [
      "Rows count: 0\n"
     ]
    },
    {
     "data": {
      "text/plain": [
       "[]"
      ]
     },
     "execution_count": 4,
     "metadata": {},
     "output_type": "execute_result"
    }
   ],
   "source": [
    "# постразметка\n",
    "\n",
    "pd.set_option('display.max_rows', None)\n",
    "\n",
    "def simplify(s):\n",
    "    return s.lower(). \\\n",
    "                replace('\"', ' '). \\\n",
    "                replace(\",\", ' '). \\\n",
    "                replace('(', ' '). \\\n",
    "                replace(')', ' '). \\\n",
    "                replace('/', ' '). \\\n",
    "                replace('.', ' ')\n",
    "\n",
    "ww = ['аналитик', 'analy', 'dwh', 'MLOps', ' ml ', ' ai ', ' cv ', ' nlp ',\n",
    "      'Data Engineer', 'Data Office', 'Data Science', 'DataOps', 'Data Quality',\n",
    "      'Big Data', 'Data Lake', 'DataEngineer', 'баз данных', 'ETL']\n",
    "d = fintring_df[fintring_df.name.apply(\n",
    "    lambda x: any([(w.lower() in simplify(x)) for w in ww])) & (fintring_df.actual == 0)]\n",
    "#fintring_df.loc[d.index, 'actual'] = 1\n",
    "\n",
    "print('Rows count:', d.shape[0])\n",
    "list(d['name'])\n"
   ]
  },
  {
   "cell_type": "code",
   "execution_count": 112,
   "metadata": {},
   "outputs": [],
   "source": [
    "fintring_df.to_csv('data/filtring_ds.csv', index=False, encoding='utf-8')"
   ]
  },
  {
   "attachments": {},
   "cell_type": "markdown",
   "metadata": {},
   "source": [
    "## Разделение выборок, базовая модель, метрика"
   ]
  },
  {
   "cell_type": "code",
   "execution_count": 5,
   "metadata": {},
   "outputs": [
    {
     "data": {
      "text/plain": [
       "0    9148\n",
       "1    3366\n",
       "Name: actual, dtype: int64"
      ]
     },
     "execution_count": 5,
     "metadata": {},
     "output_type": "execute_result"
    }
   ],
   "source": [
    "fintring_df.actual.value_counts()"
   ]
  },
  {
   "cell_type": "code",
   "execution_count": 6,
   "metadata": {},
   "outputs": [
    {
     "name": "stdout",
     "output_type": "stream",
     "text": [
      "train_f shape =  (9385, 1)\n",
      "train_t shape =  (9385,)\n",
      "test_f shape =  (3129, 1)\n",
      "test_t shape =  (3129,)\n"
     ]
    }
   ],
   "source": [
    "RANDOM_SEED = 42\n",
    "\n",
    "data_f = fintring_df[['name']]\n",
    "data_t = fintring_df['actual']\n",
    "\n",
    "train_f, test_f, train_t, test_t = train_test_split(data_f, data_t, \n",
    "                                                  train_size=0.75, random_state=RANDOM_SEED, stratify=data_t)\n",
    "\n",
    "print('train_f shape = ', train_f.shape)\n",
    "print('train_t shape = ', train_t.shape)\n",
    "print('test_f shape = ', test_f.shape)\n",
    "print('test_t shape = ', test_t.shape)"
   ]
  },
  {
   "cell_type": "code",
   "execution_count": 123,
   "metadata": {},
   "outputs": [
    {
     "data": {
      "text/plain": [
       "0.0"
      ]
     },
     "execution_count": 123,
     "metadata": {},
     "output_type": "execute_result"
    }
   ],
   "source": [
    "# dummy classifier\n",
    "dummy = DummyClassifier()\n",
    "dummy.fit(train_f, train_t)\n",
    "predict = dummy.predict(test_f)\n",
    "f1_score(test_t, predict)"
   ]
  },
  {
   "cell_type": "code",
   "execution_count": 138,
   "metadata": {},
   "outputs": [
    {
     "name": "stdout",
     "output_type": "stream",
     "text": [
      "Baseline f1 = 0.9368686868686869\n"
     ]
    }
   ],
   "source": [
    "# keyword baseline model\n",
    "\n",
    "key_words = ['аналитик', 'analy', 'dwh', 'MLOps', ' ml ', ' ai ', ' cv ', ' nlp ',\n",
    "      'Data Engineer', 'Data Office', 'Data Science', 'DataOps', 'Data Quality',\n",
    "      'Big Data', 'Data Lake', 'DataEngineer', 'баз данных', 'ETL',\n",
    "      'инженер данных', 'computer vision', 'database']\n",
    "\n",
    "def keyword_predict(X):\n",
    "      def simplify(s):\n",
    "            return s.lower(). \\\n",
    "                replace('\"', ' '). \\\n",
    "                replace(\",\", ' '). \\\n",
    "                replace('(', ' '). \\\n",
    "                replace(')', ' '). \\\n",
    "                replace('/', ' '). \\\n",
    "                replace('.', ' ')\n",
    "      \n",
    "      def predict_row(r):\n",
    "            return any([(w.lower() in simplify(r)) for w in key_words])\n",
    "\n",
    "      y = X.name.apply(lambda x: predict_row(x))\n",
    "      return y\n",
    "\n",
    "predict = keyword_predict(test_f)\n",
    "score = f1_score(test_t, predict)\n",
    "print('Baseline f1 =', score)\n",
    "\n",
    "    "
   ]
  },
  {
   "cell_type": "code",
   "execution_count": 29,
   "metadata": {},
   "outputs": [
    {
     "name": "stderr",
     "output_type": "stream",
     "text": [
      "[nltk_data] Downloading package stopwords to /Users/dima/nltk_data...\n",
      "[nltk_data]   Package stopwords is already up-to-date!\n"
     ]
    },
    {
     "name": "stdout",
     "output_type": "stream",
     "text": [
      "Vectorizer f1 = 0.9699879951980791\n"
     ]
    }
   ],
   "source": [
    "# Words bag Vectorizers\n",
    "\n",
    "class RelevantVacancyClassifier():\n",
    "    \"\"\"Класссификатор вакансий, которые относятся к DS\n",
    "    на вход dataframe c одним столбцом 'name'\n",
    "    на выходе актуальность (0/1)\n",
    "    \"\"\"\n",
    "\n",
    "    def __init__(self):\n",
    "\n",
    "        nltk.download('stopwords')\n",
    "        self._stop_words = set(stopwords.words('english')).union(stopwords.words('russian'))\n",
    "\n",
    "        self._m = Mystem()\n",
    "\n",
    "    def _lemmatize(self, X):\n",
    "        def simplify(s):\n",
    "            return s.lower(). \\\n",
    "                replace('\"', ' '). \\\n",
    "                replace(\",\", ' '). \\\n",
    "                replace('(', ' '). \\\n",
    "                replace(')', ' '). \\\n",
    "                replace('\\\\', ' '). \\\n",
    "                replace('-', ' '). \\\n",
    "                replace('/', ' '). \\\n",
    "                replace('.', ' ')\n",
    "        \n",
    "        X = [[x.strip() for x in self._m.lemmatize(simplify(r)) if x.strip() != ''] for r in X.name]\n",
    "        return [' '.join(x) for x in X]\n",
    "\n",
    "    def fit(self, X, y):\n",
    "\n",
    "        X = self._lemmatize(X)\n",
    "\n",
    "        self._vectorizer = CountVectorizer(stop_words=list(self._stop_words))\n",
    "        #self._vectorizer = TfidfVectorizer(stop_words=list(self._stop_words))\n",
    "\n",
    "        #self._model = LogisticRegression(class_weight='balanced')\n",
    "        self._model = lgb.LGBMClassifier(n_estimators=500, random_state=RANDOM_SEED)\n",
    "\n",
    "        X = self._vectorizer.fit_transform(X)\n",
    "        self._model.fit(X.astype(float), y)\n",
    "\n",
    "    def predict(self, X):\n",
    "        \n",
    "        X_lemm = self._lemmatize(X)\n",
    "        XX = self._vectorizer.transform(X_lemm)\n",
    "        y = self._model.predict(XX.astype(float))\n",
    "\n",
    "        # коррекция на базе правил\n",
    "        key_words = ['NLP', 'MLOps', 'DataOps', 'Computer Vision']\n",
    "        for i, x in enumerate(X_lemm):\n",
    "            if any([(w.lower() in x.split(' ')) for w in key_words]):\n",
    "                y[i] = 1\n",
    "\n",
    "        return y\n",
    "    \n",
    "    def dump(self, filename: str):\n",
    "        dumped = [self._vectorizer, self._model]\n",
    "        with open(filename, 'wb') as f:\n",
    "            pickle.dump(dumped, f)\n",
    "\n",
    "    def load(self, filename: str):\n",
    "        with open(filename, 'rb') as f:\n",
    "            dumped = pickle.load(f)\n",
    "            self._vectorizer = dumped[0]\n",
    "            self._model = dumped[1]\n",
    "\n",
    "clf = RelevantVacancyClassifier()\n",
    "clf.fit(train_f, train_t)\n",
    "predict = clf.predict(test_f)\n",
    "score = f1_score(test_t, predict)\n",
    "print('Vectorizer f1 =', score)"
   ]
  },
  {
   "cell_type": "code",
   "execution_count": 8,
   "metadata": {},
   "outputs": [],
   "source": [
    "# посмотрим где предикт модели отличается от разметки\n",
    "\n",
    "df = fintring_df.copy()\n",
    "df['predict'] = clf.predict(df[['name']])\n"
   ]
  },
  {
   "cell_type": "code",
   "execution_count": 9,
   "metadata": {},
   "outputs": [
    {
     "name": "stdout",
     "output_type": "stream",
     "text": [
      "102\n"
     ]
    },
    {
     "data": {
      "text/html": [
       "<div>\n",
       "<style scoped>\n",
       "    .dataframe tbody tr th:only-of-type {\n",
       "        vertical-align: middle;\n",
       "    }\n",
       "\n",
       "    .dataframe tbody tr th {\n",
       "        vertical-align: top;\n",
       "    }\n",
       "\n",
       "    .dataframe thead th {\n",
       "        text-align: right;\n",
       "    }\n",
       "</style>\n",
       "<table border=\"1\" class=\"dataframe\">\n",
       "  <thead>\n",
       "    <tr style=\"text-align: right;\">\n",
       "      <th></th>\n",
       "      <th>name</th>\n",
       "      <th>query</th>\n",
       "      <th>actual</th>\n",
       "      <th>predict</th>\n",
       "    </tr>\n",
       "  </thead>\n",
       "  <tbody>\n",
       "    <tr>\n",
       "      <th>97</th>\n",
       "      <td>Technical Office Engineer / Senior Cost Contro...</td>\n",
       "      <td>['Advanced Analytics']</td>\n",
       "      <td>0</td>\n",
       "      <td>1</td>\n",
       "    </tr>\n",
       "    <tr>\n",
       "      <th>115</th>\n",
       "      <td>Market Intelligence manager (Senior)</td>\n",
       "      <td>['data analyst', 'business analyst', 'data', '...</td>\n",
       "      <td>1</td>\n",
       "      <td>0</td>\n",
       "    </tr>\n",
       "    <tr>\n",
       "      <th>195</th>\n",
       "      <td>Менеджер по продажам решений RPA/BI</td>\n",
       "      <td>['business analyst']</td>\n",
       "      <td>0</td>\n",
       "      <td>1</td>\n",
       "    </tr>\n",
       "    <tr>\n",
       "      <th>222</th>\n",
       "      <td>Senior Python developer</td>\n",
       "      <td>['GPT']</td>\n",
       "      <td>1</td>\n",
       "      <td>0</td>\n",
       "    </tr>\n",
       "    <tr>\n",
       "      <th>250</th>\n",
       "      <td>Технический писатель (hadoop)</td>\n",
       "      <td>['аналитик данных']</td>\n",
       "      <td>1</td>\n",
       "      <td>0</td>\n",
       "    </tr>\n",
       "  </tbody>\n",
       "</table>\n",
       "</div>"
      ],
      "text/plain": [
       "                                                  name  \\\n",
       "97   Technical Office Engineer / Senior Cost Contro...   \n",
       "115               Market Intelligence manager (Senior)   \n",
       "195                Менеджер по продажам решений RPA/BI   \n",
       "222                            Senior Python developer   \n",
       "250                      Технический писатель (hadoop)   \n",
       "\n",
       "                                                 query  actual  predict  \n",
       "97                              ['Advanced Analytics']       0        1  \n",
       "115  ['data analyst', 'business analyst', 'data', '...       1        0  \n",
       "195                               ['business analyst']       0        1  \n",
       "222                                            ['GPT']       1        0  \n",
       "250                                ['аналитик данных']       1        0  "
      ]
     },
     "execution_count": 9,
     "metadata": {},
     "output_type": "execute_result"
    }
   ],
   "source": [
    "d = df[df.predict != df.actual]\n",
    "print(d.shape[0])\n",
    "d[['name', 'query', 'actual', 'predict']].head() # просматривались все данные"
   ]
  },
  {
   "cell_type": "code",
   "execution_count": 30,
   "metadata": {},
   "outputs": [
    {
     "name": "stderr",
     "output_type": "stream",
     "text": [
      "[nltk_data] Downloading package stopwords to /Users/dima/nltk_data...\n",
      "[nltk_data]   Package stopwords is already up-to-date!\n"
     ]
    }
   ],
   "source": [
    "# посмотрев предикты видим, что предсказания даже более актуальные чем разметка, кроме редких кейсов в меньшенстве\n",
    "# поэтому обучем эту модель на всех данных (можно сериализовать для прода) и обновим предсказания\n",
    "\n",
    "# посмотрим где предикт модели отличается от разметки\n",
    "\n",
    "df = fintring_df.copy()\n",
    "clf = RelevantVacancyClassifier()\n",
    "clf.fit(df[['name']], df['actual'])\n",
    "df['predict'] = clf.predict(df[['name']])\n"
   ]
  },
  {
   "cell_type": "code",
   "execution_count": 31,
   "metadata": {},
   "outputs": [
    {
     "name": "stdout",
     "output_type": "stream",
     "text": [
      "58\n"
     ]
    },
    {
     "data": {
      "text/html": [
       "<div>\n",
       "<style scoped>\n",
       "    .dataframe tbody tr th:only-of-type {\n",
       "        vertical-align: middle;\n",
       "    }\n",
       "\n",
       "    .dataframe tbody tr th {\n",
       "        vertical-align: top;\n",
       "    }\n",
       "\n",
       "    .dataframe thead th {\n",
       "        text-align: right;\n",
       "    }\n",
       "</style>\n",
       "<table border=\"1\" class=\"dataframe\">\n",
       "  <thead>\n",
       "    <tr style=\"text-align: right;\">\n",
       "      <th></th>\n",
       "      <th>name</th>\n",
       "      <th>query</th>\n",
       "      <th>actual</th>\n",
       "      <th>predict</th>\n",
       "    </tr>\n",
       "  </thead>\n",
       "  <tbody>\n",
       "    <tr>\n",
       "      <th>115</th>\n",
       "      <td>Market Intelligence manager (Senior)</td>\n",
       "      <td>['data analyst', 'business analyst', 'data', '...</td>\n",
       "      <td>1</td>\n",
       "      <td>0</td>\n",
       "    </tr>\n",
       "    <tr>\n",
       "      <th>222</th>\n",
       "      <td>Senior Python developer</td>\n",
       "      <td>['GPT']</td>\n",
       "      <td>1</td>\n",
       "      <td>0</td>\n",
       "    </tr>\n",
       "    <tr>\n",
       "      <th>250</th>\n",
       "      <td>Технический писатель (hadoop)</td>\n",
       "      <td>['аналитик данных']</td>\n",
       "      <td>1</td>\n",
       "      <td>0</td>\n",
       "    </tr>\n",
       "    <tr>\n",
       "      <th>271</th>\n",
       "      <td>Бизнес-ассистент / помощник руководителя</td>\n",
       "      <td>['аналитик данных']</td>\n",
       "      <td>1</td>\n",
       "      <td>0</td>\n",
       "    </tr>\n",
       "    <tr>\n",
       "      <th>296</th>\n",
       "      <td>Network Administrator (rotation)</td>\n",
       "      <td>['data engineer']</td>\n",
       "      <td>0</td>\n",
       "      <td>1</td>\n",
       "    </tr>\n",
       "  </tbody>\n",
       "</table>\n",
       "</div>"
      ],
      "text/plain": [
       "                                         name  \\\n",
       "115      Market Intelligence manager (Senior)   \n",
       "222                   Senior Python developer   \n",
       "250             Технический писатель (hadoop)   \n",
       "271  Бизнес-ассистент / помощник руководителя   \n",
       "296          Network Administrator (rotation)   \n",
       "\n",
       "                                                 query  actual  predict  \n",
       "115  ['data analyst', 'business analyst', 'data', '...       1        0  \n",
       "222                                            ['GPT']       1        0  \n",
       "250                                ['аналитик данных']       1        0  \n",
       "271                                ['аналитик данных']       1        0  \n",
       "296                                  ['data engineer']       0        1  "
      ]
     },
     "execution_count": 31,
     "metadata": {},
     "output_type": "execute_result"
    }
   ],
   "source": [
    "d = df[df.predict != df.actual]\n",
    "print(d.shape[0])\n",
    "d[['name', 'query', 'actual', 'predict']].head() "
   ]
  },
  {
   "cell_type": "code",
   "execution_count": 32,
   "metadata": {},
   "outputs": [],
   "source": [
    "# сериализуем\n",
    "clf.dump('../models/RelevantVacancyClassifier.pkl')"
   ]
  },
  {
   "cell_type": "code",
   "execution_count": 34,
   "metadata": {},
   "outputs": [
    {
     "name": "stderr",
     "output_type": "stream",
     "text": [
      "[nltk_data] Downloading package stopwords to /Users/dima/nltk_data...\n",
      "[nltk_data]   Package stopwords is already up-to-date!\n"
     ]
    },
    {
     "name": "stdout",
     "output_type": "stream",
     "text": [
      "58\n"
     ]
    },
    {
     "data": {
      "text/html": [
       "<div>\n",
       "<style scoped>\n",
       "    .dataframe tbody tr th:only-of-type {\n",
       "        vertical-align: middle;\n",
       "    }\n",
       "\n",
       "    .dataframe tbody tr th {\n",
       "        vertical-align: top;\n",
       "    }\n",
       "\n",
       "    .dataframe thead th {\n",
       "        text-align: right;\n",
       "    }\n",
       "</style>\n",
       "<table border=\"1\" class=\"dataframe\">\n",
       "  <thead>\n",
       "    <tr style=\"text-align: right;\">\n",
       "      <th></th>\n",
       "      <th>name</th>\n",
       "      <th>query</th>\n",
       "      <th>actual</th>\n",
       "      <th>predict</th>\n",
       "    </tr>\n",
       "  </thead>\n",
       "  <tbody>\n",
       "    <tr>\n",
       "      <th>115</th>\n",
       "      <td>Market Intelligence manager (Senior)</td>\n",
       "      <td>['data analyst', 'business analyst', 'data', '...</td>\n",
       "      <td>1</td>\n",
       "      <td>0</td>\n",
       "    </tr>\n",
       "    <tr>\n",
       "      <th>222</th>\n",
       "      <td>Senior Python developer</td>\n",
       "      <td>['GPT']</td>\n",
       "      <td>1</td>\n",
       "      <td>0</td>\n",
       "    </tr>\n",
       "    <tr>\n",
       "      <th>250</th>\n",
       "      <td>Технический писатель (hadoop)</td>\n",
       "      <td>['аналитик данных']</td>\n",
       "      <td>1</td>\n",
       "      <td>0</td>\n",
       "    </tr>\n",
       "    <tr>\n",
       "      <th>271</th>\n",
       "      <td>Бизнес-ассистент / помощник руководителя</td>\n",
       "      <td>['аналитик данных']</td>\n",
       "      <td>1</td>\n",
       "      <td>0</td>\n",
       "    </tr>\n",
       "    <tr>\n",
       "      <th>296</th>\n",
       "      <td>Network Administrator (rotation)</td>\n",
       "      <td>['data engineer']</td>\n",
       "      <td>0</td>\n",
       "      <td>1</td>\n",
       "    </tr>\n",
       "  </tbody>\n",
       "</table>\n",
       "</div>"
      ],
      "text/plain": [
       "                                         name  \\\n",
       "115      Market Intelligence manager (Senior)   \n",
       "222                   Senior Python developer   \n",
       "250             Технический писатель (hadoop)   \n",
       "271  Бизнес-ассистент / помощник руководителя   \n",
       "296          Network Administrator (rotation)   \n",
       "\n",
       "                                                 query  actual  predict  \n",
       "115  ['data analyst', 'business analyst', 'data', '...       1        0  \n",
       "222                                            ['GPT']       1        0  \n",
       "250                                ['аналитик данных']       1        0  \n",
       "271                                ['аналитик данных']       1        0  \n",
       "296                                  ['data engineer']       0        1  "
      ]
     },
     "execution_count": 34,
     "metadata": {},
     "output_type": "execute_result"
    }
   ],
   "source": [
    "# проверяем\n",
    "lc = RelevantVacancyClassifier()\n",
    "lc.load('../models/RelevantVacancyClassifier.pkl')\n",
    "\n",
    "df = fintring_df.copy()\n",
    "df['predict'] = lc.predict(df[['name']])\n",
    "\n",
    "d = df[df.predict != df.actual]\n",
    "print(d.shape[0])\n",
    "d[['name', 'query', 'actual', 'predict']].head() "
   ]
  },
  {
   "attachments": {},
   "cell_type": "markdown",
   "metadata": {},
   "source": [
    "**!!! Модель конечно нужно переобучить на всем корпусе, включить в пайпллан прода, серилизовать и т.д.**"
   ]
  },
  {
   "attachments": {},
   "cell_type": "markdown",
   "metadata": {},
   "source": [
    "# Проверяем/дополняем профессии"
   ]
  },
  {
   "cell_type": "code",
   "execution_count": 198,
   "metadata": {},
   "outputs": [
    {
     "ename": "KeyError",
     "evalue": "'\"машинное обучение\"'",
     "output_type": "error",
     "traceback": [
      "\u001b[0;31m---------------------------------------------------------------------------\u001b[0m",
      "\u001b[0;31mKeyError\u001b[0m                                  Traceback (most recent call last)",
      "Cell \u001b[0;32mIn[198], line 2\u001b[0m\n\u001b[1;32m      1\u001b[0m df \u001b[39m=\u001b[39m pd\u001b[39m.\u001b[39mread_csv(\u001b[39m'\u001b[39m\u001b[39m../data/processed/vacancies.csv\u001b[39m\u001b[39m'\u001b[39m, encoding\u001b[39m=\u001b[39m\u001b[39m'\u001b[39m\u001b[39mutf-8\u001b[39m\u001b[39m'\u001b[39m)\n\u001b[0;32m----> 2\u001b[0m df \u001b[39m=\u001b[39m add_prof_set_to_df(df)\n\u001b[1;32m      3\u001b[0m df[\u001b[39m'\u001b[39m\u001b[39mprof_set_rulebase\u001b[39m\u001b[39m'\u001b[39m] \u001b[39m=\u001b[39m [\u001b[39mset\u001b[39m([]) \u001b[39mfor\u001b[39;00m _ \u001b[39min\u001b[39;00m \u001b[39mrange\u001b[39m(\u001b[39mlen\u001b[39m(df))]\n\u001b[1;32m      4\u001b[0m df \u001b[39m=\u001b[39m df[[\u001b[39m'\u001b[39m\u001b[39mvacancy_id\u001b[39m\u001b[39m'\u001b[39m, \u001b[39m'\u001b[39m\u001b[39mname\u001b[39m\u001b[39m'\u001b[39m, \u001b[39m'\u001b[39m\u001b[39mprof_set\u001b[39m\u001b[39m'\u001b[39m, \u001b[39m'\u001b[39m\u001b[39mprof_set_rulebase\u001b[39m\u001b[39m'\u001b[39m, \u001b[39m'\u001b[39m\u001b[39mquery\u001b[39m\u001b[39m'\u001b[39m]]\n",
      "Cell \u001b[0;32mIn[40], line 18\u001b[0m, in \u001b[0;36madd_prof_set_to_df\u001b[0;34m(df)\u001b[0m\n\u001b[1;32m     15\u001b[0m         prof_set\u001b[39m.\u001b[39madd(p)\n\u001b[1;32m     16\u001b[0m     \u001b[39mreturn\u001b[39;00m prof_set\n\u001b[0;32m---> 18\u001b[0m df[\u001b[39m'\u001b[39m\u001b[39mprof_set\u001b[39m\u001b[39m'\u001b[39m] \u001b[39m=\u001b[39m df[\u001b[39m'\u001b[39;49m\u001b[39mquery\u001b[39;49m\u001b[39m'\u001b[39;49m]\u001b[39m.\u001b[39;49mapply(query_to_prof_set)\n\u001b[1;32m     20\u001b[0m \u001b[39mreturn\u001b[39;00m df\n",
      "File \u001b[0;32m~/opt/anaconda3/lib/python3.9/site-packages/pandas/core/series.py:4771\u001b[0m, in \u001b[0;36mSeries.apply\u001b[0;34m(self, func, convert_dtype, args, **kwargs)\u001b[0m\n\u001b[1;32m   4661\u001b[0m \u001b[39mdef\u001b[39;00m \u001b[39mapply\u001b[39m(\n\u001b[1;32m   4662\u001b[0m     \u001b[39mself\u001b[39m,\n\u001b[1;32m   4663\u001b[0m     func: AggFuncType,\n\u001b[0;32m   (...)\u001b[0m\n\u001b[1;32m   4666\u001b[0m     \u001b[39m*\u001b[39m\u001b[39m*\u001b[39mkwargs,\n\u001b[1;32m   4667\u001b[0m ) \u001b[39m-\u001b[39m\u001b[39m>\u001b[39m DataFrame \u001b[39m|\u001b[39m Series:\n\u001b[1;32m   4668\u001b[0m \u001b[39m    \u001b[39m\u001b[39m\"\"\"\u001b[39;00m\n\u001b[1;32m   4669\u001b[0m \u001b[39m    Invoke function on values of Series.\u001b[39;00m\n\u001b[1;32m   4670\u001b[0m \n\u001b[0;32m   (...)\u001b[0m\n\u001b[1;32m   4769\u001b[0m \u001b[39m    dtype: float64\u001b[39;00m\n\u001b[1;32m   4770\u001b[0m \u001b[39m    \"\"\"\u001b[39;00m\n\u001b[0;32m-> 4771\u001b[0m     \u001b[39mreturn\u001b[39;00m SeriesApply(\u001b[39mself\u001b[39;49m, func, convert_dtype, args, kwargs)\u001b[39m.\u001b[39;49mapply()\n",
      "File \u001b[0;32m~/opt/anaconda3/lib/python3.9/site-packages/pandas/core/apply.py:1105\u001b[0m, in \u001b[0;36mSeriesApply.apply\u001b[0;34m(self)\u001b[0m\n\u001b[1;32m   1102\u001b[0m     \u001b[39mreturn\u001b[39;00m \u001b[39mself\u001b[39m\u001b[39m.\u001b[39mapply_str()\n\u001b[1;32m   1104\u001b[0m \u001b[39m# self.f is Callable\u001b[39;00m\n\u001b[0;32m-> 1105\u001b[0m \u001b[39mreturn\u001b[39;00m \u001b[39mself\u001b[39;49m\u001b[39m.\u001b[39;49mapply_standard()\n",
      "File \u001b[0;32m~/opt/anaconda3/lib/python3.9/site-packages/pandas/core/apply.py:1156\u001b[0m, in \u001b[0;36mSeriesApply.apply_standard\u001b[0;34m(self)\u001b[0m\n\u001b[1;32m   1154\u001b[0m     \u001b[39melse\u001b[39;00m:\n\u001b[1;32m   1155\u001b[0m         values \u001b[39m=\u001b[39m obj\u001b[39m.\u001b[39mastype(\u001b[39mobject\u001b[39m)\u001b[39m.\u001b[39m_values\n\u001b[0;32m-> 1156\u001b[0m         mapped \u001b[39m=\u001b[39m lib\u001b[39m.\u001b[39;49mmap_infer(\n\u001b[1;32m   1157\u001b[0m             values,\n\u001b[1;32m   1158\u001b[0m             f,\n\u001b[1;32m   1159\u001b[0m             convert\u001b[39m=\u001b[39;49m\u001b[39mself\u001b[39;49m\u001b[39m.\u001b[39;49mconvert_dtype,\n\u001b[1;32m   1160\u001b[0m         )\n\u001b[1;32m   1162\u001b[0m \u001b[39mif\u001b[39;00m \u001b[39mlen\u001b[39m(mapped) \u001b[39mand\u001b[39;00m \u001b[39misinstance\u001b[39m(mapped[\u001b[39m0\u001b[39m], ABCSeries):\n\u001b[1;32m   1163\u001b[0m     \u001b[39m# GH#43986 Need to do list(mapped) in order to get treated as nested\u001b[39;00m\n\u001b[1;32m   1164\u001b[0m     \u001b[39m#  See also GH#25959 regarding EA support\u001b[39;00m\n\u001b[1;32m   1165\u001b[0m     \u001b[39mreturn\u001b[39;00m obj\u001b[39m.\u001b[39m_constructor_expanddim(\u001b[39mlist\u001b[39m(mapped), index\u001b[39m=\u001b[39mobj\u001b[39m.\u001b[39mindex)\n",
      "File \u001b[0;32m~/opt/anaconda3/lib/python3.9/site-packages/pandas/_libs/lib.pyx:2918\u001b[0m, in \u001b[0;36mpandas._libs.lib.map_infer\u001b[0;34m()\u001b[0m\n",
      "Cell \u001b[0;32mIn[40], line 13\u001b[0m, in \u001b[0;36madd_prof_set_to_df.<locals>.query_to_prof_set\u001b[0;34m(s)\u001b[0m\n\u001b[1;32m     11\u001b[0m prof_set \u001b[39m=\u001b[39m \u001b[39mset\u001b[39m([])\n\u001b[1;32m     12\u001b[0m \u001b[39mfor\u001b[39;00m q \u001b[39min\u001b[39;00m query_set:\n\u001b[0;32m---> 13\u001b[0m     i \u001b[39m=\u001b[39m quety_to_prof_index[q]\n\u001b[1;32m     14\u001b[0m     p \u001b[39m=\u001b[39m prof_index_to_prof_name[i]\n\u001b[1;32m     15\u001b[0m     prof_set\u001b[39m.\u001b[39madd(p)\n",
      "\u001b[0;31mKeyError\u001b[0m: '\"машинное обучение\"'"
     ]
    }
   ],
   "source": [
    "df = pd.read_csv('../data/processed/vacancies.csv', encoding='utf-8')\n",
    "df = add_prof_set_to_df(df)\n",
    "df['prof_set_rulebase'] = [set([]) for _ in range(len(df))]\n",
    "df = df[['vacancy_id', 'name', 'prof_set', 'prof_set_rulebase', 'query']]\n",
    "\n",
    "df.head()"
   ]
  },
  {
   "cell_type": "code",
   "execution_count": 158,
   "metadata": {},
   "outputs": [
    {
     "name": "stdout",
     "output_type": "stream",
     "text": [
      "Total: 3339, processed: 3133\n"
     ]
    }
   ],
   "source": [
    "# rule based\n",
    "\n",
    "xdf = df.copy()\n",
    "\n",
    "\n",
    "\n",
    "def _simplify(s):\n",
    "        return s.lower(). \\\n",
    "            replace('\"', ' '). \\\n",
    "            replace(\",\", ' '). \\\n",
    "            replace('(', ' '). \\\n",
    "            replace(')', ' '). \\\n",
    "            replace('\\\\', ' '). \\\n",
    "            replace('-', ' '). \\\n",
    "            replace('/', ' '). \\\n",
    "            replace('.', ' ')\n",
    "\n",
    "\n",
    "\n",
    "#xdf['lemm_name'] = _lemmatize(xdf)\n",
    "\n",
    "def apply_rule_and(df: pd.DataFrame, prof: str, keywords_list: List[str] = None, only_empty: bool = False) -> pd.DataFrame:\n",
    "    if keywords_list is None:\n",
    "        keywords_list = [prof]\n",
    "\n",
    "    for keywords in keywords_list:\n",
    "        keywords = re.split(' |-', keywords)\n",
    "\n",
    "        rule = df.apply(lambda x: \n",
    "                        all([(kw.lower() in x['name'].lower()) for kw in keywords]) and\n",
    "                        (only_empty == False or len(x['prof_set_rulebase']) == 0)\n",
    "                        , axis=1)\n",
    "        filter = df[rule].index\n",
    "\n",
    "        df.loc[filter, 'prof_set_rulebase'] = \\\n",
    "            df.loc[filter, 'prof_set_rulebase'].apply(lambda x: x.union(set([prof])))\n",
    "\n",
    "    return df\n",
    "\n",
    "def apply_rule_kw(df: pd.DataFrame, prof: str, keywords: List[str], only_empty: bool = False) -> pd.DataFrame:\n",
    "    for kw in keywords:\n",
    "        kw = f' {kw.lower()} '\n",
    "        rule = df.apply(lambda x:\n",
    "                        kw in ' '+_simplify(x['name'])+' ' and\n",
    "                        (only_empty == False or len(x['prof_set_rulebase']) == 0)\n",
    "                        , axis=1)\n",
    "        filter = df[rule].index\n",
    "\n",
    "        df.loc[filter, 'prof_set_rulebase'] = \\\n",
    "                df.loc[filter, 'prof_set_rulebase'].apply(lambda x: x.union(set([prof])))\n",
    "\n",
    "    return df\n",
    "\n",
    "# Аналитики\n",
    "xdf = apply_rule_and(xdf, 'Системный аналитик')\n",
    "xdf = apply_rule_and(xdf, 'Бизнес-аналитик', ['Бизнес-аналитик', 'Business Analyst'])\n",
    "xdf = apply_rule_and(xdf, 'Аналитик данных', ['Аналитик данных', 'Data Analyst'])\n",
    "xdf = apply_rule_and(xdf, 'Продуктовый аналитик')\n",
    "xdf = apply_rule_and(xdf, 'Аналитик', ['Аналитик', 'Analyst'], only_empty=True)\n",
    "\n",
    "# Администратор баз данных\n",
    "xdf = apply_rule_and(xdf, 'Администратор баз данных', ['Администратор баз данных', 'Администратор БД'])\n",
    "\n",
    "# Инженеры данных\n",
    "xdf = apply_rule_and(xdf, 'Инженер данных', ['Инженер данных', 'Data Engineer', \n",
    "                'Дата инженер', 'Data инженер',\n",
    "                'Data Architect', 'Hadoop', 'Kafka'\n",
    "])\n",
    "xdf = apply_rule_kw(xdf, 'Инженер данных', ['баз данных', 'PostgreSQL', 'MSSQL'], only_empty=True)\n",
    "xdf = apply_rule_kw(xdf, 'Инженер данных', ['Hadoop', 'Kafka'])\n",
    "\n",
    "\n",
    "# Дата Сайенс\n",
    "xdf = apply_rule_and(xdf, 'Data Scientist')\n",
    "\n",
    "# ML инженер\n",
    "xdf = apply_rule_kw(xdf, 'ML инженер', ['ML', 'ETL', 'MLOps'])\n",
    "\n",
    "# Big Data\n",
    "xdf = apply_rule_kw(xdf, 'Big Data', ['Big Data', 'Биг Дата', 'DWH', 'Data lake', 'Hadoop', 'Kafka',\n",
    "                                      'больших данных', 'большие данные'])\n",
    "\n",
    "# остатки\n",
    "xdf = apply_rule_and(xdf, 'Data Scientist', ['Data Science'])\n",
    "xdf = apply_rule_and(xdf, 'Computer Vision', ['Computer Vision', 'CV'])\n",
    "xdf = apply_rule_and(xdf, 'NLP', ['Computer Vision', 'NLP', 'Natural Language Processing'])\n",
    "\n",
    "processed = xdf[xdf.prof_set_rulebase.apply(lambda x: x != set([]))].shape[0]\n",
    "\n",
    "rule = xdf.prof_set_rulebase.apply(lambda x: x == set([]))\n",
    "filter = xdf[rule].index\n",
    "xdf.loc[filter, 'prof_set_rulebase'] = xdf.loc[filter, 'prof_set']\n",
    "\n",
    "xdf.to_csv('data/prof_ds.csv', index=False, encoding='utf-8')\n",
    "\n",
    "# Total: 3339, processed: 3133\n",
    "print(f'Total: {xdf.shape[0]}, processed: {processed}')\n"
   ]
  },
  {
   "cell_type": "code",
   "execution_count": 142,
   "metadata": {},
   "outputs": [
    {
     "data": {
      "text/plain": [
       "Специалист Центра подготовки данных                                                                 4\n",
       "Senior Devops engineer                                                                              3\n",
       "BI разработчик                                                                                      3\n",
       "Специалист по разметке данных со знанием разработки                                                 3\n",
       "Python Developer (Data Office)                                                                      2\n",
       "Специалист по сверке данных                                                                         2\n",
       "Специалист по аналитической поддержке                                                               2\n",
       "Разработчик BI                                                                                      2\n",
       "Руководитель направления BI                                                                         2\n",
       "Senior DevOps Engineer                                                                              2\n",
       "Разработчик PL/SQL                                                                                  2\n",
       "Разработчик Power BI                                                                                2\n",
       "Программист SQL SSAS                                                                                2\n",
       "Младший научный сотрудник (компьютерное зрение, машинное обучение, математическое моделирование)    1\n",
       "DBA PostgreSQL                                                                                      1\n",
       "Специалист по рыночным данным                                                                       1\n",
       "Machine Learning Engineer (Рекламная платформа)                                                     1\n",
       "Специалист по визуализации данных                                                                   1\n",
       "Разработчик Python (NLP)                                                                            1\n",
       "BI разработчик (Москва)                                                                             1\n",
       "Name: name, dtype: int64"
      ]
     },
     "execution_count": 142,
     "metadata": {},
     "output_type": "execute_result"
    }
   ],
   "source": [
    "xdf[xdf.prof_set_rulebase.apply(lambda x: len(x) == 0)].name.value_counts()[:20]"
   ]
  },
  {
   "cell_type": "code",
   "execution_count": 171,
   "metadata": {},
   "outputs": [
    {
     "data": {
      "text/plain": [
       "{'Аналитик': 0.3953279424977538,\n",
       " 'Бизнес-аналитик': 0.2362982929020665,\n",
       " 'Системный аналитик': 0.10242587601078167,\n",
       " 'Инженер данных': 0.08715184186882301,\n",
       " 'Аналитик данных': 0.06888289907157831,\n",
       " 'Big Data': 0.04881701108116202,\n",
       " 'Data Scientist': 0.04043126684636118,\n",
       " 'ML инженер': 0.03923330338424678,\n",
       " 'Администратор баз данных': 0.030847559149445942,\n",
       " 'Data scientist': 0.02845163222521713,\n",
       " 'Продуктовый аналитик': 0.015873015873015872,\n",
       " 'NLP': 0.0056903264450434265,\n",
       " 'Computer Vision': 0.004492362982929021}"
      ]
     },
     "execution_count": 171,
     "metadata": {},
     "output_type": "execute_result"
    }
   ],
   "source": [
    "all_prof = set().union(*xdf.prof_set_rulebase.to_list())\n",
    "profname_to_count = {}\n",
    "for n in all_prof:\n",
    "    profname_to_count[n] = xdf.prof_set_rulebase.apply(lambda x: n in x).sum() / \\\n",
    "                            xdf.prof_set_rulebase.shape[0]\n",
    "\n",
    "\n",
    "{k: v for k, v in sorted(profname_to_count.items(), key=lambda item: item[1], reverse=True)}"
   ]
  },
  {
   "attachments": {},
   "cell_type": "markdown",
   "metadata": {},
   "source": [
    "## Аналитика"
   ]
  },
  {
   "attachments": {},
   "cell_type": "markdown",
   "metadata": {},
   "source": [
    "### Количество профессий, визуальная проверка соотвествия профессий"
   ]
  },
  {
   "cell_type": "code",
   "execution_count": 216,
   "metadata": {},
   "outputs": [
    {
     "data": {
      "text/html": [
       "<div>\n",
       "<style scoped>\n",
       "    .dataframe tbody tr th:only-of-type {\n",
       "        vertical-align: middle;\n",
       "    }\n",
       "\n",
       "    .dataframe tbody tr th {\n",
       "        vertical-align: top;\n",
       "    }\n",
       "\n",
       "    .dataframe thead th {\n",
       "        text-align: right;\n",
       "    }\n",
       "</style>\n",
       "<table border=\"1\" class=\"dataframe\">\n",
       "  <thead>\n",
       "    <tr style=\"text-align: right;\">\n",
       "      <th></th>\n",
       "      <th>vacancy_id</th>\n",
       "      <th>name</th>\n",
       "      <th>prof_set</th>\n",
       "    </tr>\n",
       "  </thead>\n",
       "  <tbody>\n",
       "    <tr>\n",
       "      <th>0</th>\n",
       "      <td>80485628</td>\n",
       "      <td>Аналитик</td>\n",
       "      <td>{'Аналитик'}</td>\n",
       "    </tr>\n",
       "    <tr>\n",
       "      <th>1</th>\n",
       "      <td>80652370</td>\n",
       "      <td>Игровой аналитик (продуктовый аналитик)</td>\n",
       "      <td>{'Продуктовый аналитик'}</td>\n",
       "    </tr>\n",
       "    <tr>\n",
       "      <th>2</th>\n",
       "      <td>78278410</td>\n",
       "      <td>Главный системный аналитик/Senior system Analy...</td>\n",
       "      <td>{'Системный аналитик'}</td>\n",
       "    </tr>\n",
       "    <tr>\n",
       "      <th>3</th>\n",
       "      <td>80585316</td>\n",
       "      <td>Бизнес-аналитик (транзакционные продукты)</td>\n",
       "      <td>{'Бизнес-аналитик'}</td>\n",
       "    </tr>\n",
       "    <tr>\n",
       "      <th>4</th>\n",
       "      <td>80223554</td>\n",
       "      <td>Маркетолог-аналитик</td>\n",
       "      <td>{'Аналитик'}</td>\n",
       "    </tr>\n",
       "  </tbody>\n",
       "</table>\n",
       "</div>"
      ],
      "text/plain": [
       "   vacancy_id                                               name  \\\n",
       "0    80485628                                           Аналитик   \n",
       "1    80652370            Игровой аналитик (продуктовый аналитик)   \n",
       "2    78278410  Главный системный аналитик/Senior system Analy...   \n",
       "3    80585316          Бизнес-аналитик (транзакционные продукты)   \n",
       "4    80223554                                Маркетолог-аналитик   \n",
       "\n",
       "                   prof_set  \n",
       "0              {'Аналитик'}  \n",
       "1  {'Продуктовый аналитик'}  \n",
       "2    {'Системный аналитик'}  \n",
       "3       {'Бизнес-аналитик'}  \n",
       "4              {'Аналитик'}  "
      ]
     },
     "execution_count": 216,
     "metadata": {},
     "output_type": "execute_result"
    }
   ],
   "source": [
    "df = pd.read_csv('../data/processed/vacancies.csv', encoding='utf-8')[['vacancy_id','name']]\n",
    "profset_df = pd.read_csv('../data/features/vacancy_profset.csv')\n",
    "\n",
    "df = df.merge(profset_df, on='vacancy_id')\n",
    "\n",
    "df.head()"
   ]
  },
  {
   "cell_type": "code",
   "execution_count": 217,
   "metadata": {},
   "outputs": [
    {
     "data": {
      "text/plain": [
       "{'Аналитик': 0.37199552822806037,\n",
       " 'Бизнес-аналитик': 0.2238680827277809,\n",
       " 'Инженер данных': 0.10005589714924538,\n",
       " 'Системный аналитик': 0.09893795416433762,\n",
       " 'Data Scientist': 0.07406372275013974,\n",
       " 'Аналитик данных': 0.06959195081050866,\n",
       " 'Big Data': 0.05310229178311906,\n",
       " 'ML инженер': 0.044717719396310786,\n",
       " 'Администратор баз данных': 0.02878703186137507,\n",
       " 'Продуктовый аналитик': 0.017048630519843486,\n",
       " 'Аналитик BI': 0.012017887087758524,\n",
       " 'NLP': 0.006428172163219676,\n",
       " 'Computer Vision': 0.0047512576858580215}"
      ]
     },
     "execution_count": 217,
     "metadata": {},
     "output_type": "execute_result"
    }
   ],
   "source": [
    "df['prof_set'] = df.prof_set.apply(lambda x: set([y.strip(\" '\") for y in x.strip('{}').split(',')]))\n",
    "\n",
    "all_prof = set().union(*df.prof_set.to_list())\n",
    "profname_to_count = {}\n",
    "for n in all_prof:\n",
    "    profname_to_count[n] = df.prof_set.apply(lambda x: n in x).sum() / \\\n",
    "                            df.prof_set.shape[0]\n",
    "\n",
    "\n",
    "{k: v for k, v in sorted(profname_to_count.items(), key=lambda item: item[1], reverse=True)}"
   ]
  },
  {
   "attachments": {},
   "cell_type": "markdown",
   "metadata": {},
   "source": [
    "### Посмотрим, какие есть частые слова и граммы"
   ]
  },
  {
   "cell_type": "code",
   "execution_count": 218,
   "metadata": {},
   "outputs": [
    {
     "name": "stderr",
     "output_type": "stream",
     "text": [
      "[nltk_data] Downloading package stopwords to /Users/dima/nltk_data...\n",
      "[nltk_data]   Package stopwords is already up-to-date!\n"
     ]
    },
    {
     "data": {
      "text/html": [
       "<div>\n",
       "<style scoped>\n",
       "    .dataframe tbody tr th:only-of-type {\n",
       "        vertical-align: middle;\n",
       "    }\n",
       "\n",
       "    .dataframe tbody tr th {\n",
       "        vertical-align: top;\n",
       "    }\n",
       "\n",
       "    .dataframe thead th {\n",
       "        text-align: right;\n",
       "    }\n",
       "</style>\n",
       "<table border=\"1\" class=\"dataframe\">\n",
       "  <thead>\n",
       "    <tr style=\"text-align: right;\">\n",
       "      <th></th>\n",
       "      <th>vacancy_id</th>\n",
       "      <th>name</th>\n",
       "      <th>prof_set</th>\n",
       "      <th>lemm</th>\n",
       "    </tr>\n",
       "  </thead>\n",
       "  <tbody>\n",
       "    <tr>\n",
       "      <th>0</th>\n",
       "      <td>80485628</td>\n",
       "      <td>Аналитик</td>\n",
       "      <td>{Аналитик}</td>\n",
       "      <td>аналитик</td>\n",
       "    </tr>\n",
       "    <tr>\n",
       "      <th>1</th>\n",
       "      <td>80652370</td>\n",
       "      <td>Игровой аналитик (продуктовый аналитик)</td>\n",
       "      <td>{Продуктовый аналитик}</td>\n",
       "      <td>игровой аналитик продуктовый аналитик</td>\n",
       "    </tr>\n",
       "    <tr>\n",
       "      <th>2</th>\n",
       "      <td>78278410</td>\n",
       "      <td>Главный системный аналитик/Senior system Analy...</td>\n",
       "      <td>{Системный аналитик}</td>\n",
       "      <td>главный системный аналитик senior system analy...</td>\n",
       "    </tr>\n",
       "    <tr>\n",
       "      <th>3</th>\n",
       "      <td>80585316</td>\n",
       "      <td>Бизнес-аналитик (транзакционные продукты)</td>\n",
       "      <td>{Бизнес-аналитик}</td>\n",
       "      <td>бизнес аналитик транзакционный продукт</td>\n",
       "    </tr>\n",
       "    <tr>\n",
       "      <th>4</th>\n",
       "      <td>80223554</td>\n",
       "      <td>Маркетолог-аналитик</td>\n",
       "      <td>{Аналитик}</td>\n",
       "      <td>маркетолог аналитик</td>\n",
       "    </tr>\n",
       "    <tr>\n",
       "      <th>5</th>\n",
       "      <td>73376779</td>\n",
       "      <td>Бизнес-аналитик 1С (Направление \"ЖКХ\")</td>\n",
       "      <td>{Бизнес-аналитик}</td>\n",
       "      <td>бизнес аналитик 1с направление жкх</td>\n",
       "    </tr>\n",
       "    <tr>\n",
       "      <th>6</th>\n",
       "      <td>77235529</td>\n",
       "      <td>Market research analyst</td>\n",
       "      <td>{Аналитик}</td>\n",
       "      <td>market research analyst</td>\n",
       "    </tr>\n",
       "    <tr>\n",
       "      <th>7</th>\n",
       "      <td>77730946</td>\n",
       "      <td>Team Lead направления аналитики</td>\n",
       "      <td>{Аналитик}</td>\n",
       "      <td>team lead направление аналитика</td>\n",
       "    </tr>\n",
       "    <tr>\n",
       "      <th>8</th>\n",
       "      <td>80665189</td>\n",
       "      <td>Менеджер-аналитик маркетплейсов, удаленно</td>\n",
       "      <td>{Аналитик}</td>\n",
       "      <td>менеджер аналитик маркетплейс удаленный</td>\n",
       "    </tr>\n",
       "    <tr>\n",
       "      <th>9</th>\n",
       "      <td>79681162</td>\n",
       "      <td>Менеджер-аналитик E-commerce/Маркетплейсы в оф...</td>\n",
       "      <td>{Аналитик}</td>\n",
       "      <td>менеджер аналитик e commerce маркетплейс в офи...</td>\n",
       "    </tr>\n",
       "  </tbody>\n",
       "</table>\n",
       "</div>"
      ],
      "text/plain": [
       "   vacancy_id                                               name  \\\n",
       "0    80485628                                           Аналитик   \n",
       "1    80652370            Игровой аналитик (продуктовый аналитик)   \n",
       "2    78278410  Главный системный аналитик/Senior system Analy...   \n",
       "3    80585316          Бизнес-аналитик (транзакционные продукты)   \n",
       "4    80223554                                Маркетолог-аналитик   \n",
       "5    73376779             Бизнес-аналитик 1С (Направление \"ЖКХ\")   \n",
       "6    77235529                            Market research analyst   \n",
       "7    77730946                    Team Lead направления аналитики   \n",
       "8    80665189          Менеджер-аналитик маркетплейсов, удаленно   \n",
       "9    79681162  Менеджер-аналитик E-commerce/Маркетплейсы в оф...   \n",
       "\n",
       "                 prof_set                                               lemm  \n",
       "0              {Аналитик}                                           аналитик  \n",
       "1  {Продуктовый аналитик}              игровой аналитик продуктовый аналитик  \n",
       "2    {Системный аналитик}  главный системный аналитик senior system analy...  \n",
       "3       {Бизнес-аналитик}             бизнес аналитик транзакционный продукт  \n",
       "4              {Аналитик}                                маркетолог аналитик  \n",
       "5       {Бизнес-аналитик}                 бизнес аналитик 1с направление жкх  \n",
       "6              {Аналитик}                            market research analyst  \n",
       "7              {Аналитик}                    team lead направление аналитика  \n",
       "8              {Аналитик}            менеджер аналитик маркетплейс удаленный  \n",
       "9              {Аналитик}  менеджер аналитик e commerce маркетплейс в офи...  "
      ]
     },
     "execution_count": 218,
     "metadata": {},
     "output_type": "execute_result"
    }
   ],
   "source": [
    "nltk.download('stopwords')\n",
    "_stop_words = set(stopwords.words('english')).union(stopwords.words('russian'))\n",
    "\n",
    "_m = Mystem()\n",
    "\n",
    "def _lemmatize(X):\n",
    "    def simplify(s):\n",
    "        return s.lower(). \\\n",
    "            replace('\"', ' '). \\\n",
    "            replace(\",\", ' '). \\\n",
    "            replace('(', ' '). \\\n",
    "            replace(')', ' '). \\\n",
    "            replace('\\\\', ' '). \\\n",
    "            replace('-', ' '). \\\n",
    "            replace('/', ' '). \\\n",
    "            replace('.', ' ')\n",
    "    \n",
    "    X = [[x.strip() for x in _m.lemmatize(simplify(r)) if x.strip() != ''] for r in X.name]\n",
    "    return [' '.join(x) for x in X]\n",
    "\n",
    "df['lemm'] = _lemmatize(df)\n",
    "df.head(10)\n"
   ]
  },
  {
   "cell_type": "code",
   "execution_count": 219,
   "metadata": {},
   "outputs": [],
   "source": [
    "def count_analyser(n_term):\n",
    "    cv = CountVectorizer(ngram_range=(n_term,n_term), max_features=30, \n",
    "                        stop_words=list(_stop_words))\n",
    "    X = cv.fit_transform(df.name)\n",
    "    s = X.toarray().sum(axis=0)\n",
    "    result = {}\n",
    "    for k, v in cv.vocabulary_.items():\n",
    "        result[k] = s[v]\n",
    "\n",
    "    return dict(sorted(result.items(), key=lambda item: item[1], reverse=True))"
   ]
  },
  {
   "cell_type": "code",
   "execution_count": 220,
   "metadata": {},
   "outputs": [
    {
     "data": {
      "text/plain": [
       "{'аналитик': 2409,\n",
       " 'бизнес': 786,\n",
       " 'data': 595,\n",
       " 'данных': 366,\n",
       " 'системный': 356,\n",
       " 'analyst': 267,\n",
       " 'engineer': 264,\n",
       " 'senior': 158,\n",
       " 'специалист': 152,\n",
       " 'bi': 151,\n",
       " 'scientist': 141,\n",
       " 'ведущий': 137,\n",
       " '1с': 131,\n",
       " 'разработчик': 122,\n",
       " 'отдела': 113,\n",
       " 'middle': 113,\n",
       " 'баз': 112,\n",
       " 'инженер': 111,\n",
       " 'администратор': 106,\n",
       " 'финансовый': 103,\n",
       " 'руководитель': 99,\n",
       " 'dwh': 97,\n",
       " 'аналитики': 88,\n",
       " 'менеджер': 85,\n",
       " 'старший': 81,\n",
       " 'business': 71,\n",
       " 'удаленно': 70,\n",
       " 'sql': 70,\n",
       " 'ml': 66,\n",
       " 'младший': 62}"
      ]
     },
     "execution_count": 220,
     "metadata": {},
     "output_type": "execute_result"
    }
   ],
   "source": [
    "count_analyser(1)\n"
   ]
  },
  {
   "cell_type": "code",
   "execution_count": 221,
   "metadata": {},
   "outputs": [
    {
     "data": {
      "text/plain": [
       "{'бизнес аналитик': 692,\n",
       " 'системный аналитик': 338,\n",
       " 'data engineer': 196,\n",
       " 'data scientist': 140,\n",
       " 'аналитик данных': 133,\n",
       " 'баз данных': 112,\n",
       " 'аналитик 1с': 110,\n",
       " 'data analyst': 93,\n",
       " 'финансовый аналитик': 86,\n",
       " 'администратор баз': 82,\n",
       " 'продуктовый аналитик': 60,\n",
       " 'big data': 55,\n",
       " 'senior data': 52,\n",
       " 'маркетолог аналитик': 44,\n",
       " 'business analyst': 44,\n",
       " 'аналитик bi': 44,\n",
       " 'экономист аналитик': 42,\n",
       " 'аналитик отдела': 41,\n",
       " 'аналитик бизнес': 37,\n",
       " 'product analyst': 36,\n",
       " 'bi аналитик': 35,\n",
       " 'ведущий аналитик': 35,\n",
       " 'ведущий бизнес': 34,\n",
       " 'бизнес процессов': 33,\n",
       " 'младший аналитик': 32,\n",
       " 'data science': 29,\n",
       " 'аналитик отдел': 28,\n",
       " 'руководитель отдела': 28,\n",
       " 'middle senior': 26,\n",
       " 'system analyst': 25}"
      ]
     },
     "execution_count": 221,
     "metadata": {},
     "output_type": "execute_result"
    }
   ],
   "source": [
    "count_analyser(2)"
   ]
  },
  {
   "attachments": {},
   "cell_type": "markdown",
   "metadata": {},
   "source": [
    "Можно сделать вывод, что специально выделены корректно"
   ]
  },
  {
   "cell_type": "code",
   "execution_count": null,
   "metadata": {},
   "outputs": [],
   "source": []
  }
 ],
 "metadata": {
  "kernelspec": {
   "display_name": "base",
   "language": "python",
   "name": "python3"
  },
  "language_info": {
   "codemirror_mode": {
    "name": "ipython",
    "version": 3
   },
   "file_extension": ".py",
   "mimetype": "text/x-python",
   "name": "python",
   "nbconvert_exporter": "python",
   "pygments_lexer": "ipython3",
   "version": "3.9.15"
  },
  "orig_nbformat": 4
 },
 "nbformat": 4,
 "nbformat_minor": 2
}
