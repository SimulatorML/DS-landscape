{
 "cells": [
  {
   "cell_type": "code",
   "execution_count": 45,
   "metadata": {},
   "outputs": [
    {
     "name": "stdout",
     "output_type": "stream",
     "text": [
      "{'min_random_sleep_ms': 1500, 'max_random_sleep_ms': 4000, 'max_requests_per_session': 100, 'data_path': 'data/hh_parsed_folder', 'search_resuests': ['data scientist', 'аналитик данных', 'machine learning', 'data engineer', 'data analyst']}\n"
     ]
    }
   ],
   "source": [
    "import json\n",
    "from dataclasses import dataclass, asdict\n",
    "\n",
    "@dataclass\n",
    "class ParserConfig:\n",
    "    min_random_sleep_ms : int = 1500\n",
    "    max_random_sleep_ms : int = 4000\n",
    "    max_requests_per_session : int = 100\n",
    "    data_path = 'data/hh_parsed_folder'\n",
    "    search_resuests = ['data scientist', 'аналитик данных', 'machine learning', 'data engineer', 'data analyst']\n",
    "\n",
    "config_file_name = 'cnf/hh_parser.json'\n",
    "\n",
    "a = {\n",
    "    'min_random_sleep_ms' :  1500,\n",
    "    'max_random_sleep_ms' :  4000,\n",
    "    'max_requests_per_session' :  100,\n",
    "    'data_path' : 'data/hh_parsed_folder',\n",
    "    'search_resuests' : ['data scientist', 'аналитик данных', 'machine learning', 'data engineer', 'data analyst']\n",
    "}\n",
    "\n",
    "with open(config_file_name, 'w', encoding='utf-8') as f:\n",
    "    json.dump(a, f, ensure_ascii=False)\n",
    "\n",
    "with open(config_file_name, 'r', encoding='utf-8') as f:\n",
    "    xx = json.load(f)\n",
    "    print(xx)\n",
    "\n",
    "\n",
    "\n"
   ]
  },
  {
   "cell_type": "code",
   "execution_count": 40,
   "metadata": {},
   "outputs": [
    {
     "name": "stdout",
     "output_type": "stream",
     "text": [
      "{\"py/object\": \"__main__.ParserConfig\", \"min_random_sleep_ms\": 1500, \"max_random_sleep_ms\": 4000, \"max_requests_per_session\": 100, \"data_path\": \"data/hh_parsed_folder\", \"search_resuests\": [\"data scientist\", \"аналитик данных\", \"machine learning\", \"data engineer\", \"data analyst\"]}\n",
      "ParserConfig(min_random_sleep_ms=1500, max_random_sleep_ms=4000, max_requests_per_session=100, data_path='data/hh_parsed_folder', search_resuests=['data scientist', 'аналитик данных', 'machine learning', 'data engineer', 'data analyst'])\n"
     ]
    }
   ],
   "source": [
    "import jsonpickle\n",
    "from dataclasses import dataclass, field\n",
    "from typing import List\n",
    "\n",
    "@dataclass\n",
    "class ParserConfig:\n",
    "    min_random_sleep_ms : int = 1500\n",
    "    max_random_sleep_ms : int = 4000\n",
    "    max_requests_per_session : int = 100\n",
    "    data_path : str = 'data/hh_parsed_folder'\n",
    "    search_resuests : List[str] = field(default_factory = lambda: (\n",
    "        ['data scientist', 'аналитик данных', 'machine learning', 'data engineer', 'data analyst']))\n",
    "\n",
    "config_file_name = 'cnf/hh_parser.json'\n",
    "\n",
    "a = ParserConfig()\n",
    "\n",
    "jsonpickle.set_preferred_backend('json')\n",
    "jsonpickle.set_encoder_options('json', ensure_ascii=False)\n",
    "\n",
    "with open(config_file_name, 'w', encoding='utf-8') as f:\n",
    "    print(jsonpickle.encode(a, ))\n",
    "    f.write(jsonpickle.encode(a))\n",
    "\n",
    "with open(config_file_name, 'r', encoding='utf-8') as f:\n",
    "    xx = jsonpickle.decode(f.read())\n",
    "    print(xx)\n",
    "\n",
    "\n",
    "\n"
   ]
  },
  {
   "cell_type": "code",
   "execution_count": 3,
   "metadata": {},
   "outputs": [],
   "source": [
    "import requests\n",
    "\n",
    "payload = {'search_period': 14,\n",
    "            'text': 'datascientist',\n",
    "            'ored_clusters': True,\n",
    "            'enable_snippets': True,\n",
    "            'clusters': True,\n",
    "            'area': 113,  # 113 - Russia\n",
    "            'hhtmFrom': 'vacancy_search_catalog',\n",
    "            'page': 1}\n",
    "\n",
    "sessia = requests.Session()\n",
    "\n",
    "req = sessia.get('https://hh.ru/search/vacancy?text=data+scientist', headers={'User-Agent': 'Custom'})\n",
    "\n",
    "with open('temp.html', 'w') as f:\n",
    "    f.write(req.text)\n",
    "\n"
   ]
  },
  {
   "cell_type": "code",
   "execution_count": 47,
   "metadata": {},
   "outputs": [
    {
     "data": {
      "text/plain": [
       "ParserConfig(min_random_sleep_ms=1500, max_random_sleep_ms=123, max_requests_per_session=100)"
      ]
     },
     "execution_count": 47,
     "metadata": {},
     "output_type": "execute_result"
    }
   ],
   "source": [
    "ParserConfig(max_random_sleep_ms=123) or ParserConfig()"
   ]
  },
  {
   "cell_type": "code",
   "execution_count": null,
   "metadata": {},
   "outputs": [],
   "source": [
    "from selenium.webdriver.support.ui import WebDriverWait\n",
    "from selenium.webdriver.common.by import By\n",
    "from selenium.webdriver.support import expected_conditions as EC\n",
    "\n",
    "driver.maximize_window()\n",
    "driver.implicitly_wait(30)\n",
    "wait = WebDriverWait(driver, 30)\n",
    "driver.get(\"https://www.flashscore.com/football/albania/\")\n",
    "wait.until(EC.element_to_be_clickable((By.CSS_SELECTOR, \"button#onetrust-accept-btn-handler\"))).click()\n",
    "try:\n",
    "    wait.until(EC.presence_of_element_located((By.ID, \"live-table\")))\n",
    "    wait.until(EC.visibility_of_element_located((By.CSS_SELECTOR, \"section.event\")))\n",
    "    print(driver.page_source)\n",
    "finally:\n",
    "    driver.quit()"
   ]
  },
  {
   "cell_type": "code",
   "execution_count": 8,
   "metadata": {},
   "outputs": [
    {
     "data": {
      "text/plain": [
       "'2023-05-17'"
      ]
     },
     "execution_count": 8,
     "metadata": {},
     "output_type": "execute_result"
    }
   ],
   "source": [
    "from datetime import datetime\n",
    "datetime.today().strftime('%Y-%m-%d')"
   ]
  },
  {
   "cell_type": "code",
   "execution_count": 9,
   "metadata": {},
   "outputs": [
    {
     "name": "stdout",
     "output_type": "stream",
     "text": [
      "/home/User/Desktop/file.txt\n",
      "/home/file.txt\n",
      "/home\n",
      "/home/User/Public/Documents/\n"
     ]
    }
   ],
   "source": [
    "# Python program to explain os.path.join() method\n",
    "\n",
    "# importing os module\n",
    "import os\n",
    "\n",
    "# Path\n",
    "path = \"/home\"\n",
    "\n",
    "# Join various path components\n",
    "print(os.path.join(path, \"User/Desktop\", \"file.txt\"))\n",
    "\n",
    "\n",
    "# Path\n",
    "path = \"User/Documents\"\n",
    "\n",
    "# Join various path components\n",
    "print(os.path.join(path, \"/home\", \"file.txt\"))\n",
    "\n",
    "# In above example '/home'\n",
    "# represents an absolute path\n",
    "# so all previous components i.e User / Documents\n",
    "# are thrown away and joining continues\n",
    "# from the absolute path component i.e / home.\n",
    "\n",
    "\n",
    "# Path\n",
    "path = \"/User\"\n",
    "\n",
    "# Join various path components\n",
    "print(os.path.join(path, \"Downloads\", \"file.txt\", \"/home\"))\n",
    "\n",
    "# In above example '/User' and '/home'\n",
    "# both represents an absolute path\n",
    "# but '/home' is the last value\n",
    "# so all previous components before '/home'\n",
    "# will be discarded and joining will\n",
    "# continue from '/home'\n",
    "\n",
    "# Path\n",
    "path = \"/home\"\n",
    "\n",
    "# Join various path components\n",
    "print(os.path.join(path, \"User/Public/\", \"Documents\", \"\"))\n",
    "\n",
    "# In above example the last\n",
    "# path component is empty\n",
    "# so a directory separator ('/')\n",
    "# will be put at the end\n",
    "# along with the concatenated value\n"
   ]
  },
  {
   "cell_type": "code",
   "execution_count": 1,
   "metadata": {},
   "outputs": [],
   "source": [
    "import pandas as pd"
   ]
  },
  {
   "cell_type": "code",
   "execution_count": 2,
   "metadata": {},
   "outputs": [
    {
     "data": {
      "text/html": [
       "<div>\n",
       "<style scoped>\n",
       "    .dataframe tbody tr th:only-of-type {\n",
       "        vertical-align: middle;\n",
       "    }\n",
       "\n",
       "    .dataframe tbody tr th {\n",
       "        vertical-align: top;\n",
       "    }\n",
       "\n",
       "    .dataframe thead th {\n",
       "        text-align: right;\n",
       "    }\n",
       "</style>\n",
       "<table border=\"1\" class=\"dataframe\">\n",
       "  <thead>\n",
       "    <tr style=\"text-align: right;\">\n",
       "      <th></th>\n",
       "      <th>col2</th>\n",
       "      <th>col1</th>\n",
       "    </tr>\n",
       "  </thead>\n",
       "  <tbody>\n",
       "    <tr>\n",
       "      <th>0</th>\n",
       "      <td>1</td>\n",
       "      <td>[a, b]</td>\n",
       "    </tr>\n",
       "    <tr>\n",
       "      <th>1</th>\n",
       "      <td>2</td>\n",
       "      <td>[a]</td>\n",
       "    </tr>\n",
       "  </tbody>\n",
       "</table>\n",
       "</div>"
      ],
      "text/plain": [
       "  col2    col1\n",
       "0    1  [a, b]\n",
       "1    2     [a]"
      ]
     },
     "execution_count": 2,
     "metadata": {},
     "output_type": "execute_result"
    }
   ],
   "source": [
    "mylist = [('a', '1'), ('a', '2'), ('b', '1')]\n",
    "df = pd.DataFrame(mylist, columns=['col1', 'col2'])\n",
    "df.groupby('col2')['col1'].agg(lambda x: x.to_list()).reset_index()\n"
   ]
  },
  {
   "cell_type": "code",
   "execution_count": 3,
   "metadata": {},
   "outputs": [],
   "source": [
    "from dataclasses import dataclass, field, asdict\n",
    "from typing import List"
   ]
  },
  {
   "cell_type": "code",
   "execution_count": 4,
   "metadata": {},
   "outputs": [
    {
     "data": {
      "text/plain": [
       "Vacancy(Id='', Employer='', Name='', Salary='', From=0, To=0, Experience='', Schedule='', Keys=[], Description='', Url='')"
      ]
     },
     "execution_count": 4,
     "metadata": {},
     "output_type": "execute_result"
    }
   ],
   "source": [
    "from dataclasses import dataclass, field, asdict\n",
    "from typing import List\n",
    "\n",
    "@dataclass\n",
    "class Vacancy:\n",
    "    Id : str = ''\n",
    "    Employer : str = ''\n",
    "    Name : str = ''\n",
    "    Salary : bool = ''\n",
    "    From : int = 0\n",
    "    To : int = 0\n",
    "    Experience : str = ''\n",
    "    Schedule : str = ''\n",
    "    Keys : List[str] = field(default_factory=lambda: [])\n",
    "    Description : str = ''\n",
    "    Url : str = ''\n",
    "\n",
    "Vacancy()"
   ]
  },
  {
   "cell_type": "code",
   "execution_count": 5,
   "metadata": {},
   "outputs": [
    {
     "data": {
      "text/plain": [
       "['sdf']"
      ]
     },
     "execution_count": 5,
     "metadata": {},
     "output_type": "execute_result"
    }
   ],
   "source": [
    "list(['sdf'])"
   ]
  },
  {
   "cell_type": "code",
   "execution_count": 6,
   "metadata": {},
   "outputs": [
    {
     "data": {
      "text/plain": [
       "['Id',\n",
       " 'Employer',\n",
       " 'Name',\n",
       " 'Salary',\n",
       " 'From',\n",
       " 'To',\n",
       " 'Experience',\n",
       " 'Schedule',\n",
       " 'Keys',\n",
       " 'Description',\n",
       " 'Url']"
      ]
     },
     "execution_count": 6,
     "metadata": {},
     "output_type": "execute_result"
    }
   ],
   "source": [
    "list(asdict(Vacancy()).keys())"
   ]
  },
  {
   "cell_type": "code",
   "execution_count": 10,
   "metadata": {},
   "outputs": [
    {
     "name": "stdout",
     "output_type": "stream",
     "text": [
      "<class 'pandas.core.series.Series'>\n",
      "<class 'pandas.core.series.Series'>\n",
      "<class 'pandas.core.series.Series'>\n"
     ]
    },
    {
     "data": {
      "text/html": [
       "<div>\n",
       "<style scoped>\n",
       "    .dataframe tbody tr th:only-of-type {\n",
       "        vertical-align: middle;\n",
       "    }\n",
       "\n",
       "    .dataframe tbody tr th {\n",
       "        vertical-align: top;\n",
       "    }\n",
       "\n",
       "    .dataframe thead th {\n",
       "        text-align: right;\n",
       "    }\n",
       "</style>\n",
       "<table border=\"1\" class=\"dataframe\">\n",
       "  <thead>\n",
       "    <tr style=\"text-align: right;\">\n",
       "      <th></th>\n",
       "      <th>Id</th>\n",
       "      <th>Employer</th>\n",
       "      <th>Name</th>\n",
       "      <th>Salary</th>\n",
       "      <th>From</th>\n",
       "      <th>To</th>\n",
       "      <th>Experience</th>\n",
       "      <th>Schedule</th>\n",
       "      <th>Keys</th>\n",
       "      <th>Description</th>\n",
       "      <th>Url</th>\n",
       "    </tr>\n",
       "  </thead>\n",
       "  <tbody>\n",
       "    <tr>\n",
       "      <th>0</th>\n",
       "      <td></td>\n",
       "      <td></td>\n",
       "      <td></td>\n",
       "      <td></td>\n",
       "      <td>0</td>\n",
       "      <td>0</td>\n",
       "      <td></td>\n",
       "      <td></td>\n",
       "      <td>[]</td>\n",
       "      <td></td>\n",
       "      <td></td>\n",
       "    </tr>\n",
       "    <tr>\n",
       "      <th>1</th>\n",
       "      <td></td>\n",
       "      <td></td>\n",
       "      <td></td>\n",
       "      <td></td>\n",
       "      <td>0</td>\n",
       "      <td>0</td>\n",
       "      <td></td>\n",
       "      <td></td>\n",
       "      <td>[]</td>\n",
       "      <td></td>\n",
       "      <td></td>\n",
       "    </tr>\n",
       "    <tr>\n",
       "      <th>2</th>\n",
       "      <td></td>\n",
       "      <td></td>\n",
       "      <td></td>\n",
       "      <td></td>\n",
       "      <td>0</td>\n",
       "      <td>0</td>\n",
       "      <td></td>\n",
       "      <td></td>\n",
       "      <td>[]</td>\n",
       "      <td></td>\n",
       "      <td></td>\n",
       "    </tr>\n",
       "  </tbody>\n",
       "</table>\n",
       "</div>"
      ],
      "text/plain": [
       "  Id Employer Name Salary  From  To Experience Schedule Keys Description Url\n",
       "0                             0   0                       []                \n",
       "1                             0   0                       []                \n",
       "2                             0   0                       []                "
      ]
     },
     "execution_count": 10,
     "metadata": {},
     "output_type": "execute_result"
    }
   ],
   "source": [
    "def myfun(x):\n",
    "    print(type(x))\n",
    "    return pd.Series(asdict(Vacancy()).values())\n",
    "\n",
    "x = pd.DataFrame()\n",
    "x[list(asdict(Vacancy()).keys())] = df.apply(lambda x: myfun(x), axis=1)\n",
    "x"
   ]
  },
  {
   "cell_type": "code",
   "execution_count": 8,
   "metadata": {},
   "outputs": [
    {
     "data": {
      "text/html": [
       "<div>\n",
       "<style scoped>\n",
       "    .dataframe tbody tr th:only-of-type {\n",
       "        vertical-align: middle;\n",
       "    }\n",
       "\n",
       "    .dataframe tbody tr th {\n",
       "        vertical-align: top;\n",
       "    }\n",
       "\n",
       "    .dataframe thead th {\n",
       "        text-align: right;\n",
       "    }\n",
       "</style>\n",
       "<table border=\"1\" class=\"dataframe\">\n",
       "  <thead>\n",
       "    <tr style=\"text-align: right;\">\n",
       "      <th></th>\n",
       "      <th>col1</th>\n",
       "      <th>col2</th>\n",
       "      <th>Id</th>\n",
       "      <th>Employer</th>\n",
       "      <th>Name</th>\n",
       "      <th>Salary</th>\n",
       "      <th>From</th>\n",
       "      <th>To</th>\n",
       "      <th>Experience</th>\n",
       "      <th>Schedule</th>\n",
       "      <th>Keys</th>\n",
       "      <th>Description</th>\n",
       "      <th>Url</th>\n",
       "    </tr>\n",
       "  </thead>\n",
       "  <tbody>\n",
       "    <tr>\n",
       "      <th>0</th>\n",
       "      <td>a</td>\n",
       "      <td>1</td>\n",
       "      <td></td>\n",
       "      <td></td>\n",
       "      <td></td>\n",
       "      <td></td>\n",
       "      <td>0</td>\n",
       "      <td>0</td>\n",
       "      <td></td>\n",
       "      <td></td>\n",
       "      <td>[]</td>\n",
       "      <td></td>\n",
       "      <td></td>\n",
       "    </tr>\n",
       "    <tr>\n",
       "      <th>1</th>\n",
       "      <td>a</td>\n",
       "      <td>2</td>\n",
       "      <td></td>\n",
       "      <td></td>\n",
       "      <td></td>\n",
       "      <td></td>\n",
       "      <td>0</td>\n",
       "      <td>0</td>\n",
       "      <td></td>\n",
       "      <td></td>\n",
       "      <td>[]</td>\n",
       "      <td></td>\n",
       "      <td></td>\n",
       "    </tr>\n",
       "    <tr>\n",
       "      <th>2</th>\n",
       "      <td>b</td>\n",
       "      <td>1</td>\n",
       "      <td></td>\n",
       "      <td></td>\n",
       "      <td></td>\n",
       "      <td></td>\n",
       "      <td>0</td>\n",
       "      <td>0</td>\n",
       "      <td></td>\n",
       "      <td></td>\n",
       "      <td>[]</td>\n",
       "      <td></td>\n",
       "      <td></td>\n",
       "    </tr>\n",
       "  </tbody>\n",
       "</table>\n",
       "</div>"
      ],
      "text/plain": [
       "  col1 col2 Id Employer Name Salary  From  To Experience Schedule Keys  \\\n",
       "0    a    1                             0   0                       []   \n",
       "1    a    2                             0   0                       []   \n",
       "2    b    1                             0   0                       []   \n",
       "\n",
       "  Description Url  \n",
       "0                  \n",
       "1                  \n",
       "2                  "
      ]
     },
     "execution_count": 8,
     "metadata": {},
     "output_type": "execute_result"
    }
   ],
   "source": [
    "df"
   ]
  },
  {
   "cell_type": "code",
   "execution_count": 11,
   "metadata": {},
   "outputs": [
    {
     "data": {
      "text/html": [
       "<div>\n",
       "<style scoped>\n",
       "    .dataframe tbody tr th:only-of-type {\n",
       "        vertical-align: middle;\n",
       "    }\n",
       "\n",
       "    .dataframe tbody tr th {\n",
       "        vertical-align: top;\n",
       "    }\n",
       "\n",
       "    .dataframe thead th {\n",
       "        text-align: right;\n",
       "    }\n",
       "</style>\n",
       "<table border=\"1\" class=\"dataframe\">\n",
       "  <thead>\n",
       "    <tr style=\"text-align: right;\">\n",
       "      <th></th>\n",
       "      <th>col1</th>\n",
       "      <th>col2</th>\n",
       "      <th>Id</th>\n",
       "      <th>Employer</th>\n",
       "      <th>Name</th>\n",
       "      <th>Salary</th>\n",
       "      <th>From</th>\n",
       "      <th>To</th>\n",
       "      <th>Experience</th>\n",
       "      <th>Schedule</th>\n",
       "      <th>Keys</th>\n",
       "      <th>Description</th>\n",
       "      <th>Url</th>\n",
       "    </tr>\n",
       "  </thead>\n",
       "  <tbody>\n",
       "    <tr>\n",
       "      <th>0</th>\n",
       "      <td>a</td>\n",
       "      <td>1</td>\n",
       "      <td></td>\n",
       "      <td></td>\n",
       "      <td></td>\n",
       "      <td></td>\n",
       "      <td>0</td>\n",
       "      <td>0</td>\n",
       "      <td></td>\n",
       "      <td></td>\n",
       "      <td>[]</td>\n",
       "      <td></td>\n",
       "      <td></td>\n",
       "    </tr>\n",
       "    <tr>\n",
       "      <th>1</th>\n",
       "      <td>a</td>\n",
       "      <td>2</td>\n",
       "      <td></td>\n",
       "      <td></td>\n",
       "      <td></td>\n",
       "      <td></td>\n",
       "      <td>0</td>\n",
       "      <td>0</td>\n",
       "      <td></td>\n",
       "      <td></td>\n",
       "      <td>[]</td>\n",
       "      <td></td>\n",
       "      <td></td>\n",
       "    </tr>\n",
       "    <tr>\n",
       "      <th>2</th>\n",
       "      <td>b</td>\n",
       "      <td>1</td>\n",
       "      <td></td>\n",
       "      <td></td>\n",
       "      <td></td>\n",
       "      <td></td>\n",
       "      <td>0</td>\n",
       "      <td>0</td>\n",
       "      <td></td>\n",
       "      <td></td>\n",
       "      <td>[]</td>\n",
       "      <td></td>\n",
       "      <td></td>\n",
       "    </tr>\n",
       "  </tbody>\n",
       "</table>\n",
       "</div>"
      ],
      "text/plain": [
       "  col1 col2 Id Employer Name Salary  From  To Experience Schedule Keys  \\\n",
       "0    a    1                             0   0                       []   \n",
       "1    a    2                             0   0                       []   \n",
       "2    b    1                             0   0                       []   \n",
       "\n",
       "  Description Url  \n",
       "0                  \n",
       "1                  \n",
       "2                  "
      ]
     },
     "execution_count": 11,
     "metadata": {},
     "output_type": "execute_result"
    }
   ],
   "source": [
    "df"
   ]
  },
  {
   "cell_type": "code",
   "execution_count": 13,
   "metadata": {},
   "outputs": [
    {
     "data": {
      "text/html": [
       "<div>\n",
       "<style scoped>\n",
       "    .dataframe tbody tr th:only-of-type {\n",
       "        vertical-align: middle;\n",
       "    }\n",
       "\n",
       "    .dataframe tbody tr th {\n",
       "        vertical-align: top;\n",
       "    }\n",
       "\n",
       "    .dataframe thead th {\n",
       "        text-align: right;\n",
       "    }\n",
       "</style>\n",
       "<table border=\"1\" class=\"dataframe\">\n",
       "  <thead>\n",
       "    <tr style=\"text-align: right;\">\n",
       "      <th></th>\n",
       "      <th>col1</th>\n",
       "      <th>col2</th>\n",
       "      <th>Id</th>\n",
       "      <th>Employer</th>\n",
       "      <th>Name</th>\n",
       "      <th>Salary</th>\n",
       "      <th>From</th>\n",
       "      <th>To</th>\n",
       "      <th>Experience</th>\n",
       "      <th>Schedule</th>\n",
       "      <th>Keys</th>\n",
       "      <th>Description</th>\n",
       "      <th>Url</th>\n",
       "    </tr>\n",
       "  </thead>\n",
       "  <tbody>\n",
       "    <tr>\n",
       "      <th>0</th>\n",
       "      <td>a</td>\n",
       "      <td>1</td>\n",
       "      <td></td>\n",
       "      <td></td>\n",
       "      <td></td>\n",
       "      <td></td>\n",
       "      <td>0</td>\n",
       "      <td>0</td>\n",
       "      <td></td>\n",
       "      <td></td>\n",
       "      <td>[]</td>\n",
       "      <td></td>\n",
       "      <td></td>\n",
       "    </tr>\n",
       "    <tr>\n",
       "      <th>2</th>\n",
       "      <td>b</td>\n",
       "      <td>1</td>\n",
       "      <td></td>\n",
       "      <td></td>\n",
       "      <td></td>\n",
       "      <td></td>\n",
       "      <td>0</td>\n",
       "      <td>0</td>\n",
       "      <td></td>\n",
       "      <td></td>\n",
       "      <td>[]</td>\n",
       "      <td></td>\n",
       "      <td></td>\n",
       "    </tr>\n",
       "  </tbody>\n",
       "</table>\n",
       "</div>"
      ],
      "text/plain": [
       "  col1 col2 Id Employer Name Salary  From  To Experience Schedule Keys  \\\n",
       "0    a    1                             0   0                       []   \n",
       "2    b    1                             0   0                       []   \n",
       "\n",
       "  Description Url  \n",
       "0                  \n",
       "2                  "
      ]
     },
     "execution_count": 13,
     "metadata": {},
     "output_type": "execute_result"
    }
   ],
   "source": [
    "df.drop(df[df.col2 == '2'].index)"
   ]
  },
  {
   "cell_type": "code",
   "execution_count": 18,
   "metadata": {},
   "outputs": [
    {
     "data": {
      "text/plain": [
       "'123'"
      ]
     },
     "execution_count": 18,
     "metadata": {},
     "output_type": "execute_result"
    }
   ],
   "source": [
    "i = 123\n",
    "s = str(i)\n",
    "s[:1000]"
   ]
  },
  {
   "cell_type": "code",
   "execution_count": 28,
   "metadata": {},
   "outputs": [
    {
     "data": {
      "text/plain": [
       "(100000, 1)"
      ]
     },
     "execution_count": 28,
     "metadata": {},
     "output_type": "execute_result"
    }
   ],
   "source": [
    "df = pd.DataFrame()\n",
    "df['id'] = [i for i in range(100_000)]\n",
    "\n",
    "df.shape"
   ]
  },
  {
   "cell_type": "code",
   "execution_count": 29,
   "metadata": {},
   "outputs": [
    {
     "name": "stderr",
     "output_type": "stream",
     "text": [
      "100%|██████████| 100000/100000 [00:04<00:00, 22055.30it/s]\n"
     ]
    },
    {
     "ename": "ParserError",
     "evalue": "Error tokenizing data. C error: Expected 64 fields in line 12, saw 65\n",
     "output_type": "error",
     "traceback": [
      "\u001b[0;31m---------------------------------------------------------------------------\u001b[0m",
      "\u001b[0;31mParserError\u001b[0m                               Traceback (most recent call last)",
      "Cell \u001b[0;32mIn[29], line 11\u001b[0m\n\u001b[1;32m      8\u001b[0m         v \u001b[39m=\u001b[39m Vacancy(Id \u001b[39m=\u001b[39m \u001b[39mid\u001b[39m)\n\u001b[1;32m      9\u001b[0m         f\u001b[39m.\u001b[39mwrite(\u001b[39m'\u001b[39m\u001b[39m,\u001b[39m\u001b[39m'\u001b[39m\u001b[39m.\u001b[39mjoin(\u001b[39mstr\u001b[39m(asdict(v)\u001b[39m.\u001b[39mvalues()))\u001b[39m+\u001b[39m\u001b[39m'\u001b[39m\u001b[39m\\n\u001b[39;00m\u001b[39m'\u001b[39m)\n\u001b[0;32m---> 11\u001b[0m x \u001b[39m=\u001b[39m pd\u001b[39m.\u001b[39;49mread_csv(filename)\n\u001b[1;32m     12\u001b[0m x\u001b[39m.\u001b[39mhead(\u001b[39m10\u001b[39m)\n",
      "File \u001b[0;32m~/opt/anaconda3/lib/python3.9/site-packages/pandas/util/_decorators.py:211\u001b[0m, in \u001b[0;36mdeprecate_kwarg.<locals>._deprecate_kwarg.<locals>.wrapper\u001b[0;34m(*args, **kwargs)\u001b[0m\n\u001b[1;32m    209\u001b[0m     \u001b[39melse\u001b[39;00m:\n\u001b[1;32m    210\u001b[0m         kwargs[new_arg_name] \u001b[39m=\u001b[39m new_arg_value\n\u001b[0;32m--> 211\u001b[0m \u001b[39mreturn\u001b[39;00m func(\u001b[39m*\u001b[39;49margs, \u001b[39m*\u001b[39;49m\u001b[39m*\u001b[39;49mkwargs)\n",
      "File \u001b[0;32m~/opt/anaconda3/lib/python3.9/site-packages/pandas/util/_decorators.py:331\u001b[0m, in \u001b[0;36mdeprecate_nonkeyword_arguments.<locals>.decorate.<locals>.wrapper\u001b[0;34m(*args, **kwargs)\u001b[0m\n\u001b[1;32m    325\u001b[0m \u001b[39mif\u001b[39;00m \u001b[39mlen\u001b[39m(args) \u001b[39m>\u001b[39m num_allow_args:\n\u001b[1;32m    326\u001b[0m     warnings\u001b[39m.\u001b[39mwarn(\n\u001b[1;32m    327\u001b[0m         msg\u001b[39m.\u001b[39mformat(arguments\u001b[39m=\u001b[39m_format_argument_list(allow_args)),\n\u001b[1;32m    328\u001b[0m         \u001b[39mFutureWarning\u001b[39;00m,\n\u001b[1;32m    329\u001b[0m         stacklevel\u001b[39m=\u001b[39mfind_stack_level(),\n\u001b[1;32m    330\u001b[0m     )\n\u001b[0;32m--> 331\u001b[0m \u001b[39mreturn\u001b[39;00m func(\u001b[39m*\u001b[39;49margs, \u001b[39m*\u001b[39;49m\u001b[39m*\u001b[39;49mkwargs)\n",
      "File \u001b[0;32m~/opt/anaconda3/lib/python3.9/site-packages/pandas/io/parsers/readers.py:950\u001b[0m, in \u001b[0;36mread_csv\u001b[0;34m(filepath_or_buffer, sep, delimiter, header, names, index_col, usecols, squeeze, prefix, mangle_dupe_cols, dtype, engine, converters, true_values, false_values, skipinitialspace, skiprows, skipfooter, nrows, na_values, keep_default_na, na_filter, verbose, skip_blank_lines, parse_dates, infer_datetime_format, keep_date_col, date_parser, dayfirst, cache_dates, iterator, chunksize, compression, thousands, decimal, lineterminator, quotechar, quoting, doublequote, escapechar, comment, encoding, encoding_errors, dialect, error_bad_lines, warn_bad_lines, on_bad_lines, delim_whitespace, low_memory, memory_map, float_precision, storage_options)\u001b[0m\n\u001b[1;32m    935\u001b[0m kwds_defaults \u001b[39m=\u001b[39m _refine_defaults_read(\n\u001b[1;32m    936\u001b[0m     dialect,\n\u001b[1;32m    937\u001b[0m     delimiter,\n\u001b[0;32m   (...)\u001b[0m\n\u001b[1;32m    946\u001b[0m     defaults\u001b[39m=\u001b[39m{\u001b[39m\"\u001b[39m\u001b[39mdelimiter\u001b[39m\u001b[39m\"\u001b[39m: \u001b[39m\"\u001b[39m\u001b[39m,\u001b[39m\u001b[39m\"\u001b[39m},\n\u001b[1;32m    947\u001b[0m )\n\u001b[1;32m    948\u001b[0m kwds\u001b[39m.\u001b[39mupdate(kwds_defaults)\n\u001b[0;32m--> 950\u001b[0m \u001b[39mreturn\u001b[39;00m _read(filepath_or_buffer, kwds)\n",
      "File \u001b[0;32m~/opt/anaconda3/lib/python3.9/site-packages/pandas/io/parsers/readers.py:611\u001b[0m, in \u001b[0;36m_read\u001b[0;34m(filepath_or_buffer, kwds)\u001b[0m\n\u001b[1;32m    608\u001b[0m     \u001b[39mreturn\u001b[39;00m parser\n\u001b[1;32m    610\u001b[0m \u001b[39mwith\u001b[39;00m parser:\n\u001b[0;32m--> 611\u001b[0m     \u001b[39mreturn\u001b[39;00m parser\u001b[39m.\u001b[39;49mread(nrows)\n",
      "File \u001b[0;32m~/opt/anaconda3/lib/python3.9/site-packages/pandas/io/parsers/readers.py:1778\u001b[0m, in \u001b[0;36mTextFileReader.read\u001b[0;34m(self, nrows)\u001b[0m\n\u001b[1;32m   1771\u001b[0m nrows \u001b[39m=\u001b[39m validate_integer(\u001b[39m\"\u001b[39m\u001b[39mnrows\u001b[39m\u001b[39m\"\u001b[39m, nrows)\n\u001b[1;32m   1772\u001b[0m \u001b[39mtry\u001b[39;00m:\n\u001b[1;32m   1773\u001b[0m     \u001b[39m# error: \"ParserBase\" has no attribute \"read\"\u001b[39;00m\n\u001b[1;32m   1774\u001b[0m     (\n\u001b[1;32m   1775\u001b[0m         index,\n\u001b[1;32m   1776\u001b[0m         columns,\n\u001b[1;32m   1777\u001b[0m         col_dict,\n\u001b[0;32m-> 1778\u001b[0m     ) \u001b[39m=\u001b[39m \u001b[39mself\u001b[39;49m\u001b[39m.\u001b[39;49m_engine\u001b[39m.\u001b[39;49mread(  \u001b[39m# type: ignore[attr-defined]\u001b[39;49;00m\n\u001b[1;32m   1779\u001b[0m         nrows\n\u001b[1;32m   1780\u001b[0m     )\n\u001b[1;32m   1781\u001b[0m \u001b[39mexcept\u001b[39;00m \u001b[39mException\u001b[39;00m:\n\u001b[1;32m   1782\u001b[0m     \u001b[39mself\u001b[39m\u001b[39m.\u001b[39mclose()\n",
      "File \u001b[0;32m~/opt/anaconda3/lib/python3.9/site-packages/pandas/io/parsers/c_parser_wrapper.py:230\u001b[0m, in \u001b[0;36mCParserWrapper.read\u001b[0;34m(self, nrows)\u001b[0m\n\u001b[1;32m    228\u001b[0m \u001b[39mtry\u001b[39;00m:\n\u001b[1;32m    229\u001b[0m     \u001b[39mif\u001b[39;00m \u001b[39mself\u001b[39m\u001b[39m.\u001b[39mlow_memory:\n\u001b[0;32m--> 230\u001b[0m         chunks \u001b[39m=\u001b[39m \u001b[39mself\u001b[39;49m\u001b[39m.\u001b[39;49m_reader\u001b[39m.\u001b[39;49mread_low_memory(nrows)\n\u001b[1;32m    231\u001b[0m         \u001b[39m# destructive to chunks\u001b[39;00m\n\u001b[1;32m    232\u001b[0m         data \u001b[39m=\u001b[39m _concatenate_chunks(chunks)\n",
      "File \u001b[0;32m~/opt/anaconda3/lib/python3.9/site-packages/pandas/_libs/parsers.pyx:808\u001b[0m, in \u001b[0;36mpandas._libs.parsers.TextReader.read_low_memory\u001b[0;34m()\u001b[0m\n",
      "File \u001b[0;32m~/opt/anaconda3/lib/python3.9/site-packages/pandas/_libs/parsers.pyx:866\u001b[0m, in \u001b[0;36mpandas._libs.parsers.TextReader._read_rows\u001b[0;34m()\u001b[0m\n",
      "File \u001b[0;32m~/opt/anaconda3/lib/python3.9/site-packages/pandas/_libs/parsers.pyx:852\u001b[0m, in \u001b[0;36mpandas._libs.parsers.TextReader._tokenize_rows\u001b[0;34m()\u001b[0m\n",
      "File \u001b[0;32m~/opt/anaconda3/lib/python3.9/site-packages/pandas/_libs/parsers.pyx:1973\u001b[0m, in \u001b[0;36mpandas._libs.parsers.raise_parser_error\u001b[0;34m()\u001b[0m\n",
      "\u001b[0;31mParserError\u001b[0m: Error tokenizing data. C error: Expected 64 fields in line 12, saw 65\n"
     ]
    }
   ],
   "source": [
    "from tqdm import tqdm\n",
    "\n",
    "filename = '../temp/temp_test.csv'\n",
    "with open(filename, 'w', encoding='utf-8') as f:\n",
    "    f.write(','.join(asdict(Vacancy()).keys())+'\\n')\n",
    "\n",
    "    for id in tqdm(df['id']):\n",
    "        v = Vacancy(Id = id)\n",
    "        f.write(','.join(str(asdict(v).values()))+'\\n')\n",
    "\n",
    "x = pd.read_csv(filename)\n",
    "x.head(10)\n",
    "    "
   ]
  },
  {
   "cell_type": "code",
   "execution_count": 31,
   "metadata": {},
   "outputs": [
    {
     "name": "stderr",
     "output_type": "stream",
     "text": [
      "100%|██████████| 100000/100000 [00:00<00:00, 220171.13it/s]\n"
     ]
    },
    {
     "name": "stdout",
     "output_type": "stream",
     "text": [
      "(100000, 11)\n"
     ]
    },
    {
     "data": {
      "text/html": [
       "<div>\n",
       "<style scoped>\n",
       "    .dataframe tbody tr th:only-of-type {\n",
       "        vertical-align: middle;\n",
       "    }\n",
       "\n",
       "    .dataframe tbody tr th {\n",
       "        vertical-align: top;\n",
       "    }\n",
       "\n",
       "    .dataframe thead th {\n",
       "        text-align: right;\n",
       "    }\n",
       "</style>\n",
       "<table border=\"1\" class=\"dataframe\">\n",
       "  <thead>\n",
       "    <tr style=\"text-align: right;\">\n",
       "      <th></th>\n",
       "      <th>Id</th>\n",
       "      <th>Employer</th>\n",
       "      <th>Name</th>\n",
       "      <th>Salary</th>\n",
       "      <th>From</th>\n",
       "      <th>To</th>\n",
       "      <th>Experience</th>\n",
       "      <th>Schedule</th>\n",
       "      <th>Keys</th>\n",
       "      <th>Description</th>\n",
       "      <th>Url</th>\n",
       "    </tr>\n",
       "  </thead>\n",
       "  <tbody>\n",
       "    <tr>\n",
       "      <th>0</th>\n",
       "      <td>0</td>\n",
       "      <td></td>\n",
       "      <td></td>\n",
       "      <td></td>\n",
       "      <td>0</td>\n",
       "      <td>0</td>\n",
       "      <td></td>\n",
       "      <td></td>\n",
       "      <td>[]</td>\n",
       "      <td></td>\n",
       "      <td></td>\n",
       "    </tr>\n",
       "    <tr>\n",
       "      <th>1</th>\n",
       "      <td>1</td>\n",
       "      <td></td>\n",
       "      <td></td>\n",
       "      <td></td>\n",
       "      <td>0</td>\n",
       "      <td>0</td>\n",
       "      <td></td>\n",
       "      <td></td>\n",
       "      <td>[]</td>\n",
       "      <td></td>\n",
       "      <td></td>\n",
       "    </tr>\n",
       "    <tr>\n",
       "      <th>2</th>\n",
       "      <td>2</td>\n",
       "      <td></td>\n",
       "      <td></td>\n",
       "      <td></td>\n",
       "      <td>0</td>\n",
       "      <td>0</td>\n",
       "      <td></td>\n",
       "      <td></td>\n",
       "      <td>[]</td>\n",
       "      <td></td>\n",
       "      <td></td>\n",
       "    </tr>\n",
       "    <tr>\n",
       "      <th>3</th>\n",
       "      <td>3</td>\n",
       "      <td></td>\n",
       "      <td></td>\n",
       "      <td></td>\n",
       "      <td>0</td>\n",
       "      <td>0</td>\n",
       "      <td></td>\n",
       "      <td></td>\n",
       "      <td>[]</td>\n",
       "      <td></td>\n",
       "      <td></td>\n",
       "    </tr>\n",
       "    <tr>\n",
       "      <th>4</th>\n",
       "      <td>4</td>\n",
       "      <td></td>\n",
       "      <td></td>\n",
       "      <td></td>\n",
       "      <td>0</td>\n",
       "      <td>0</td>\n",
       "      <td></td>\n",
       "      <td></td>\n",
       "      <td>[]</td>\n",
       "      <td></td>\n",
       "      <td></td>\n",
       "    </tr>\n",
       "  </tbody>\n",
       "</table>\n",
       "</div>"
      ],
      "text/plain": [
       "   Id Employer Name Salary  From  To Experience Schedule Keys Description Url\n",
       "0   0                          0   0                       []                \n",
       "1   1                          0   0                       []                \n",
       "2   2                          0   0                       []                \n",
       "3   3                          0   0                       []                \n",
       "4   4                          0   0                       []                "
      ]
     },
     "execution_count": 31,
     "metadata": {},
     "output_type": "execute_result"
    }
   ],
   "source": [
    "from tqdm import tqdm\n",
    "\n",
    "data = []\n",
    "for id in tqdm(df['id']):\n",
    "    v = Vacancy(Id = id)\n",
    "    data.append(v)\n",
    "\n",
    "x = pd.DataFrame(data)\n",
    "print(x.shape)\n",
    "x.head()"
   ]
  },
  {
   "cell_type": "code",
   "execution_count": 34,
   "metadata": {},
   "outputs": [
    {
     "data": {
      "text/plain": [
       "(500, 13)"
      ]
     },
     "execution_count": 34,
     "metadata": {},
     "output_type": "execute_result"
    }
   ],
   "source": [
    "x = pd.read_csv('../data/hh_parsed_folder/2023-05-17-DATA-4.csv')\n",
    "x.shape"
   ]
  },
  {
   "cell_type": "code",
   "execution_count": 44,
   "metadata": {},
   "outputs": [
    {
     "name": "stderr",
     "output_type": "stream",
     "text": [
      " 15%|█▍        | 73/500 [00:04<00:24, 17.79it/s]\n"
     ]
    },
    {
     "ename": "KeyboardInterrupt",
     "evalue": "",
     "output_type": "error",
     "traceback": [
      "\u001b[0;31m---------------------------------------------------------------------------\u001b[0m",
      "\u001b[0;31mKeyboardInterrupt\u001b[0m                         Traceback (most recent call last)",
      "Cell \u001b[0;32mIn[44], line 4\u001b[0m\n\u001b[1;32m      1\u001b[0m \u001b[39mimport\u001b[39;00m \u001b[39mtime\u001b[39;00m\n\u001b[1;32m      3\u001b[0m \u001b[39mfor\u001b[39;00m index, row \u001b[39min\u001b[39;00m tqdm(x\u001b[39m.\u001b[39miterrows(), total\u001b[39m=\u001b[39mx\u001b[39m.\u001b[39mshape[\u001b[39m0\u001b[39m]):\n\u001b[0;32m----> 4\u001b[0m     time\u001b[39m.\u001b[39;49msleep(\u001b[39m0.05\u001b[39;49m)\n",
      "\u001b[0;31mKeyboardInterrupt\u001b[0m: "
     ]
    }
   ],
   "source": [
    "import time\n",
    "\n",
    "for _, row in tqdm(x.iterrows(), total=x.shape[0]):\n",
    "    time.sleep(0.05)"
   ]
  },
  {
   "cell_type": "code",
   "execution_count": 49,
   "metadata": {},
   "outputs": [
    {
     "data": {
      "text/html": [
       "<div>\n",
       "<style scoped>\n",
       "    .dataframe tbody tr th:only-of-type {\n",
       "        vertical-align: middle;\n",
       "    }\n",
       "\n",
       "    .dataframe tbody tr th {\n",
       "        vertical-align: top;\n",
       "    }\n",
       "\n",
       "    .dataframe thead th {\n",
       "        text-align: right;\n",
       "    }\n",
       "</style>\n",
       "<table border=\"1\" class=\"dataframe\">\n",
       "  <thead>\n",
       "    <tr style=\"text-align: right;\">\n",
       "      <th></th>\n",
       "      <th>vacancy_id</th>\n",
       "      <th>employer</th>\n",
       "      <th>name</th>\n",
       "      <th>salary_row</th>\n",
       "      <th>salary</th>\n",
       "      <th>salary_from</th>\n",
       "      <th>salary_to</th>\n",
       "      <th>experience</th>\n",
       "      <th>schedule</th>\n",
       "      <th>skills</th>\n",
       "      <th>description</th>\n",
       "      <th>address</th>\n",
       "      <th>url</th>\n",
       "    </tr>\n",
       "  </thead>\n",
       "  <tbody>\n",
       "    <tr>\n",
       "      <th>0</th>\n",
       "      <td>78571811</td>\n",
       "      <td>Сеть аптек Апрель</td>\n",
       "      <td>Помощник экономиста-аналитика</td>\n",
       "      <td>от 30 000 руб. на руки</td>\n",
       "      <td>NaN</td>\n",
       "      <td>0</td>\n",
       "      <td>0</td>\n",
       "      <td>не требуется</td>\n",
       "      <td>Полная занятость, полный день</td>\n",
       "      <td>['Маржинальный анализ', 'Анализ бизнес показат...</td>\n",
       "      <td>\\n\\n\\n\\n\\n\\n\\n\\nСтань частью нашей\\nкоманды!\\n...</td>\n",
       "      <td>Краснодар, микрорайон Юбилейный, проспект Чеки...</td>\n",
       "      <td>https://hh.ru/vacancy/78571811</td>\n",
       "    </tr>\n",
       "    <tr>\n",
       "      <th>1</th>\n",
       "      <td>78572375</td>\n",
       "      <td>Юговской Комбинат Молочных Продуктов</td>\n",
       "      <td>Инженер-эколог / Инженер по охране окружающей ...</td>\n",
       "      <td>от 50 000 руб. на руки</td>\n",
       "      <td>NaN</td>\n",
       "      <td>0</td>\n",
       "      <td>0</td>\n",
       "      <td>1–3 года</td>\n",
       "      <td>Полная занятость, полный день</td>\n",
       "      <td>['Проведение внутреннего экологического аудита...</td>\n",
       "      <td>Юговской Комбинат Молочных Продуктов является ...</td>\n",
       "      <td>поселок Юг</td>\n",
       "      <td>https://hh.ru/vacancy/78572375</td>\n",
       "    </tr>\n",
       "    <tr>\n",
       "      <th>2</th>\n",
       "      <td>78572464</td>\n",
       "      <td>ООО Парадокс</td>\n",
       "      <td>Аналитик в области информационных систем</td>\n",
       "      <td>з/п не указана</td>\n",
       "      <td>NaN</td>\n",
       "      <td>0</td>\n",
       "      <td>0</td>\n",
       "      <td>1–3 года</td>\n",
       "      <td>Полная занятость, полный день</td>\n",
       "      <td>['SQL', 'Разработка технических заданий', 'Биз...</td>\n",
       "      <td>Про нас: Мы – ООО Парадокс, входим в группу ко...</td>\n",
       "      <td>Магнитогорск, улица Жукова, 13</td>\n",
       "      <td>https://hh.ru/vacancy/78572464</td>\n",
       "    </tr>\n",
       "    <tr>\n",
       "      <th>3</th>\n",
       "      <td>78575334</td>\n",
       "      <td>Газпромбанк</td>\n",
       "      <td>Бизнес-аналитик (Глоссарий банка)</td>\n",
       "      <td>з/п не указана</td>\n",
       "      <td>NaN</td>\n",
       "      <td>0</td>\n",
       "      <td>0</td>\n",
       "      <td>более 6 лет</td>\n",
       "      <td>Полная занятость, полный день</td>\n",
       "      <td>[]</td>\n",
       "      <td>\\n\\n\\n\\n\\n\\n\\n\\n\\nГазпромбанк — это место, где...</td>\n",
       "      <td>Москва, Озерковская набережная, 24</td>\n",
       "      <td>https://hh.ru/vacancy/78575334</td>\n",
       "    </tr>\n",
       "    <tr>\n",
       "      <th>4</th>\n",
       "      <td>78578222</td>\n",
       "      <td>ЗАО Группа компаний С7</td>\n",
       "      <td>Аналитик (отдел отчетности)</td>\n",
       "      <td>з/п не указана</td>\n",
       "      <td>NaN</td>\n",
       "      <td>0</td>\n",
       "      <td>0</td>\n",
       "      <td>1–3 года</td>\n",
       "      <td>Полная занятость, полный день</td>\n",
       "      <td>[]</td>\n",
       "      <td>Корпоративный офис по управлению данными заним...</td>\n",
       "      <td>Новосибирск, Октябрьская, улица Кирова, 23</td>\n",
       "      <td>https://hh.ru/vacancy/78578222</td>\n",
       "    </tr>\n",
       "    <tr>\n",
       "      <th>...</th>\n",
       "      <td>...</td>\n",
       "      <td>...</td>\n",
       "      <td>...</td>\n",
       "      <td>...</td>\n",
       "      <td>...</td>\n",
       "      <td>...</td>\n",
       "      <td>...</td>\n",
       "      <td>...</td>\n",
       "      <td>...</td>\n",
       "      <td>...</td>\n",
       "      <td>...</td>\n",
       "      <td>...</td>\n",
       "      <td>...</td>\n",
       "    </tr>\n",
       "    <tr>\n",
       "      <th>495</th>\n",
       "      <td>79136263</td>\n",
       "      <td>ООО НПО ПКРВ</td>\n",
       "      <td>Ведущий инженер-программист АСУ ТП</td>\n",
       "      <td>от 180 000 руб. на руки</td>\n",
       "      <td>NaN</td>\n",
       "      <td>0</td>\n",
       "      <td>0</td>\n",
       "      <td>3–6 лет</td>\n",
       "      <td>Полная занятость, полный день</td>\n",
       "      <td>['SCADA', 'Автоматизация производства', 'Прогр...</td>\n",
       "      <td>Право на отсрочку от призыва на военную службу...</td>\n",
       "      <td>Москва, Проспект Мира, Банный переулок, 9</td>\n",
       "      <td>https://hh.ru/vacancy/79136263</td>\n",
       "    </tr>\n",
       "    <tr>\n",
       "      <th>496</th>\n",
       "      <td>79138276</td>\n",
       "      <td>ООО Тендер В Компани</td>\n",
       "      <td>Менеджер по работе с клиентами</td>\n",
       "      <td>от 55 200 до 152 000 руб. на руки</td>\n",
       "      <td>NaN</td>\n",
       "      <td>0</td>\n",
       "      <td>0</td>\n",
       "      <td>не требуется</td>\n",
       "      <td>Полная занятость, полный день</td>\n",
       "      <td>[]</td>\n",
       "      <td>Добрый день, дорогой кандидат. Эту вакансию дл...</td>\n",
       "      <td>Омск, улица Фрунзе, 1к3</td>\n",
       "      <td>https://hh.ru/vacancy/79138276</td>\n",
       "    </tr>\n",
       "    <tr>\n",
       "      <th>497</th>\n",
       "      <td>79138879</td>\n",
       "      <td>ПАО МТС</td>\n",
       "      <td>Ведущий специалист по работе с государственным...</td>\n",
       "      <td>от 100 000 руб. до вычета налогов</td>\n",
       "      <td>NaN</td>\n",
       "      <td>0</td>\n",
       "      <td>0</td>\n",
       "      <td>1–3 года</td>\n",
       "      <td>Полная занятость, полный день</td>\n",
       "      <td>['Корпоративные продажи', 'Активные продажи', ...</td>\n",
       "      <td>МТС — это мультисервисная цифровая экосистем...</td>\n",
       "      <td>Нижний Новгород, Горьковская, улица Максима Го...</td>\n",
       "      <td>https://hh.ru/vacancy/79138879</td>\n",
       "    </tr>\n",
       "    <tr>\n",
       "      <th>498</th>\n",
       "      <td>79139818</td>\n",
       "      <td>ООО Ньютон Технологии</td>\n",
       "      <td>Java разработчик (middle), удаленно</td>\n",
       "      <td>з/п не указана</td>\n",
       "      <td>NaN</td>\n",
       "      <td>0</td>\n",
       "      <td>0</td>\n",
       "      <td>3–6 лет</td>\n",
       "      <td>Полная занятость, удаленная работа</td>\n",
       "      <td>['Java', 'Spring Boot', 'Spring', 'Spring Data...</td>\n",
       "      <td>ООО «Ньютон Технологии» –– продуктовая IT-комп...</td>\n",
       "      <td>NaN</td>\n",
       "      <td>https://hh.ru/vacancy/79139818</td>\n",
       "    </tr>\n",
       "    <tr>\n",
       "      <th>499</th>\n",
       "      <td>79140782</td>\n",
       "      <td>Компания Гармония</td>\n",
       "      <td>Аналитик (маркетплейсы)</td>\n",
       "      <td>з/п не указана</td>\n",
       "      <td>NaN</td>\n",
       "      <td>0</td>\n",
       "      <td>0</td>\n",
       "      <td>1–3 года</td>\n",
       "      <td>Полная занятость, полный день</td>\n",
       "      <td>['Работа в Excel', 'Анализ данных']</td>\n",
       "      <td>Крупнейший дистрибьютор в России ТМ Schwarzkop...</td>\n",
       "      <td>Нижний Новгород, улица Коминтерна, 41В</td>\n",
       "      <td>https://hh.ru/vacancy/79140782</td>\n",
       "    </tr>\n",
       "  </tbody>\n",
       "</table>\n",
       "<p>500 rows × 13 columns</p>\n",
       "</div>"
      ],
      "text/plain": [
       "     vacancy_id                              employer  \\\n",
       "0      78571811                     Сеть аптек Апрель   \n",
       "1      78572375  Юговской Комбинат Молочных Продуктов   \n",
       "2      78572464                          ООО Парадокс   \n",
       "3      78575334                           Газпромбанк   \n",
       "4      78578222                ЗАО Группа компаний С7   \n",
       "..          ...                                   ...   \n",
       "495    79136263                          ООО НПО ПКРВ   \n",
       "496    79138276                  ООО Тендер В Компани   \n",
       "497    79138879                               ПАО МТС   \n",
       "498    79139818                 ООО Ньютон Технологии   \n",
       "499    79140782                     Компания Гармония   \n",
       "\n",
       "                                                  name  \\\n",
       "0                        Помощник экономиста-аналитика   \n",
       "1    Инженер-эколог / Инженер по охране окружающей ...   \n",
       "2             Аналитик в области информационных систем   \n",
       "3                    Бизнес-аналитик (Глоссарий банка)   \n",
       "4                          Аналитик (отдел отчетности)   \n",
       "..                                                 ...   \n",
       "495                 Ведущий инженер-программист АСУ ТП   \n",
       "496                     Менеджер по работе с клиентами   \n",
       "497  Ведущий специалист по работе с государственным...   \n",
       "498                Java разработчик (middle), удаленно   \n",
       "499                            Аналитик (маркетплейсы)   \n",
       "\n",
       "                            salary_row  salary  salary_from  salary_to  \\\n",
       "0               от 30 000 руб. на руки     NaN            0          0   \n",
       "1               от 50 000 руб. на руки     NaN            0          0   \n",
       "2                       з/п не указана     NaN            0          0   \n",
       "3                       з/п не указана     NaN            0          0   \n",
       "4                       з/п не указана     NaN            0          0   \n",
       "..                                 ...     ...          ...        ...   \n",
       "495            от 180 000 руб. на руки     NaN            0          0   \n",
       "496  от 55 200 до 152 000 руб. на руки     NaN            0          0   \n",
       "497  от 100 000 руб. до вычета налогов     NaN            0          0   \n",
       "498                     з/п не указана     NaN            0          0   \n",
       "499                     з/п не указана     NaN            0          0   \n",
       "\n",
       "       experience                            schedule  \\\n",
       "0    не требуется       Полная занятость, полный день   \n",
       "1        1–3 года       Полная занятость, полный день   \n",
       "2        1–3 года       Полная занятость, полный день   \n",
       "3     более 6 лет       Полная занятость, полный день   \n",
       "4        1–3 года       Полная занятость, полный день   \n",
       "..            ...                                 ...   \n",
       "495       3–6 лет       Полная занятость, полный день   \n",
       "496  не требуется       Полная занятость, полный день   \n",
       "497      1–3 года       Полная занятость, полный день   \n",
       "498       3–6 лет  Полная занятость, удаленная работа   \n",
       "499      1–3 года       Полная занятость, полный день   \n",
       "\n",
       "                                                skills  \\\n",
       "0    ['Маржинальный анализ', 'Анализ бизнес показат...   \n",
       "1    ['Проведение внутреннего экологического аудита...   \n",
       "2    ['SQL', 'Разработка технических заданий', 'Биз...   \n",
       "3                                                   []   \n",
       "4                                                   []   \n",
       "..                                                 ...   \n",
       "495  ['SCADA', 'Автоматизация производства', 'Прогр...   \n",
       "496                                                 []   \n",
       "497  ['Корпоративные продажи', 'Активные продажи', ...   \n",
       "498  ['Java', 'Spring Boot', 'Spring', 'Spring Data...   \n",
       "499                ['Работа в Excel', 'Анализ данных']   \n",
       "\n",
       "                                           description  \\\n",
       "0    \\n\\n\\n\\n\\n\\n\\n\\nСтань частью нашей\\nкоманды!\\n...   \n",
       "1    Юговской Комбинат Молочных Продуктов является ...   \n",
       "2    Про нас: Мы – ООО Парадокс, входим в группу ко...   \n",
       "3    \\n\\n\\n\\n\\n\\n\\n\\n\\nГазпромбанк — это место, где...   \n",
       "4    Корпоративный офис по управлению данными заним...   \n",
       "..                                                 ...   \n",
       "495  Право на отсрочку от призыва на военную службу...   \n",
       "496  Добрый день, дорогой кандидат. Эту вакансию дл...   \n",
       "497    МТС — это мультисервисная цифровая экосистем...   \n",
       "498  ООО «Ньютон Технологии» –– продуктовая IT-комп...   \n",
       "499  Крупнейший дистрибьютор в России ТМ Schwarzkop...   \n",
       "\n",
       "                                               address  \\\n",
       "0    Краснодар, микрорайон Юбилейный, проспект Чеки...   \n",
       "1                                           поселок Юг   \n",
       "2                       Магнитогорск, улица Жукова, 13   \n",
       "3                   Москва, Озерковская набережная, 24   \n",
       "4           Новосибирск, Октябрьская, улица Кирова, 23   \n",
       "..                                                 ...   \n",
       "495          Москва, Проспект Мира, Банный переулок, 9   \n",
       "496                            Омск, улица Фрунзе, 1к3   \n",
       "497  Нижний Новгород, Горьковская, улица Максима Го...   \n",
       "498                                                NaN   \n",
       "499             Нижний Новгород, улица Коминтерна, 41В   \n",
       "\n",
       "                                url  \n",
       "0    https://hh.ru/vacancy/78571811  \n",
       "1    https://hh.ru/vacancy/78572375  \n",
       "2    https://hh.ru/vacancy/78572464  \n",
       "3    https://hh.ru/vacancy/78575334  \n",
       "4    https://hh.ru/vacancy/78578222  \n",
       "..                              ...  \n",
       "495  https://hh.ru/vacancy/79136263  \n",
       "496  https://hh.ru/vacancy/79138276  \n",
       "497  https://hh.ru/vacancy/79138879  \n",
       "498  https://hh.ru/vacancy/79139818  \n",
       "499  https://hh.ru/vacancy/79140782  \n",
       "\n",
       "[500 rows x 13 columns]"
      ]
     },
     "execution_count": 49,
     "metadata": {},
     "output_type": "execute_result"
    }
   ],
   "source": [
    "x"
   ]
  },
  {
   "cell_type": "code",
   "execution_count": 50,
   "metadata": {},
   "outputs": [
    {
     "data": {
      "text/plain": [
       "True"
      ]
     },
     "execution_count": 50,
     "metadata": {},
     "output_type": "execute_result"
    }
   ],
   "source": [
    "'sdfsd-IDS.csv'.endswith('IDS.csv')"
   ]
  },
  {
   "cell_type": "code",
   "execution_count": 51,
   "metadata": {},
   "outputs": [],
   "source": [
    "a = None\n",
    "b = ''\n",
    "c = 0\n",
    "\n",
    "# a?.b\n",
    "_v = a\n",
    "if _v is not None:\n",
    "    _v = _v.b"
   ]
  },
  {
   "cell_type": "code",
   "execution_count": 52,
   "metadata": {},
   "outputs": [
    {
     "ename": "SyntaxError",
     "evalue": "invalid syntax (3361516029.py, line 1)",
     "output_type": "error",
     "traceback": [
      "\u001b[0;36m  Cell \u001b[0;32mIn[52], line 1\u001b[0;36m\u001b[0m\n\u001b[0;31m    (a?.b ?? d).c = 1\u001b[0m\n\u001b[0m      ^\u001b[0m\n\u001b[0;31mSyntaxError\u001b[0m\u001b[0;31m:\u001b[0m invalid syntax\n"
     ]
    }
   ],
   "source": [
    "(a?.b ?? d).c = 1"
   ]
  },
  {
   "cell_type": "code",
   "execution_count": 54,
   "metadata": {},
   "outputs": [
    {
     "data": {
      "text/plain": [
       "('saaasd',)"
      ]
     },
     "execution_count": 54,
     "metadata": {},
     "output_type": "execute_result"
    }
   ],
   "source": [
    "e = ValueError('saaasd')\n",
    "e.args"
   ]
  },
  {
   "cell_type": "code",
   "execution_count": 75,
   "metadata": {},
   "outputs": [
    {
     "name": "stdout",
     "output_type": "stream",
     "text": [
      "{'RUB': 1, 'AED': 0.0456, 'AFN': 1.09, 'ALL': 1.29, 'AMD': 4.79, 'ANG': 0.0222, 'AOA': 6.61, 'ARS': 2.86, 'AUD': 0.0187, 'AWG': 0.0222, 'AZN': 0.0211, 'BAM': 0.0224, 'BBD': 0.0248, 'BDT': 1.34, 'BGN': 0.0224, 'BHD': 0.00467, 'BIF': 34.98, 'BMD': 0.0124, 'BND': 0.0167, 'BOB': 0.086, 'BRL': 0.0614, 'BSD': 0.0124, 'BTN': 1.02, 'BWP': 0.168, 'BYN': 0.0361, 'BZD': 0.0248, 'CAD': 0.0167, 'CDF': 28.24, 'CHF': 0.0112, 'CLP': 9.91, 'CNY': 0.0868, 'COP': 56.22, 'CRC': 6.63, 'CUP': 0.298, 'CVE': 1.26, 'CZK': 0.271, 'DJF': 2.21, 'DKK': 0.0855, 'DOP': 0.677, 'DZD': 1.69, 'EGP': 0.383, 'ERN': 0.186, 'ETB': 0.678, 'EUR': 0.0115, 'FJD': 0.0276, 'FKP': 0.00996, 'FOK': 0.0855, 'GBP': 0.00996, 'GEL': 0.0313, 'GGP': 0.00996, 'GHS': 0.138, 'GIP': 0.00996, 'GMD': 0.736, 'GNF': 106.35, 'GTQ': 0.0968, 'GYD': 2.63, 'HKD': 0.0972, 'HNL': 0.305, 'HRK': 0.0863, 'HTG': 1.79, 'HUF': 4.22, 'IDR': 183.64, 'ILS': 0.0453, 'IMP': 0.00996, 'INR': 1.02, 'IQD': 16.27, 'IRR': 519.77, 'ISK': 1.73, 'JEP': 0.00996, 'JMD': 1.92, 'JOD': 0.0088, 'JPY': 1.7, 'KES': 1.7, 'KGS': 1.09, 'KHR': 50.96, 'KID': 0.0187, 'KMF': 5.64, 'KRW': 16.6, 'KWD': 0.00381, 'KYD': 0.0103, 'KZT': 5.57, 'LAK': 216.09, 'LBP': 186.26, 'LKR': 3.81, 'LRD': 2.08, 'LSL': 0.239, 'LYD': 0.0594, 'MAD': 0.126, 'MDL': 0.22, 'MGA': 54.56, 'MKD': 0.706, 'MMK': 26.06, 'MNT': 43.27, 'MOP': 0.1, 'MRU': 0.427, 'MUR': 0.563, 'MVR': 0.191, 'MWK': 12.78, 'MXN': 0.218, 'MYR': 0.0561, 'MZN': 0.796, 'NAD': 0.239, 'NGN': 5.72, 'NIO': 0.454, 'NOK': 0.134, 'NPR': 1.64, 'NZD': 0.0199, 'OMR': 0.00477, 'PAB': 0.0124, 'PEN': 0.0459, 'PGK': 0.0438, 'PHP': 0.696, 'PKR': 3.53, 'PLN': 0.0515, 'PYG': 89.03, 'QAR': 0.0452, 'RON': 0.0566, 'RSD': 1.34, 'RWF': 14.23, 'SAR': 0.0466, 'SBD': 0.105, 'SCR': 0.169, 'SDG': 6.76, 'SEK': 0.13, 'SGD': 0.0167, 'SHP': 0.00996, 'SLE': 0.284, 'SLL': 283.59, 'SOS': 7.06, 'SRD': 0.462, 'SSP': 10.98, 'STN': 0.281, 'SYP': 30.75, 'SZL': 0.239, 'THB': 0.425, 'TJS': 0.135, 'TMT': 0.0433, 'TND': 0.0382, 'TOP': 0.0293, 'TRY': 0.246, 'TTD': 0.0842, 'TVD': 0.0187, 'TWD': 0.383, 'TZS': 29.31, 'UAH': 0.457, 'UGX': 46.33, 'USD': 0.0124, 'UYU': 0.484, 'UZS': 141.5, 'VES': 0.321, 'VND': 292.56, 'VUV': 1.48, 'WST': 0.0336, 'XAF': 7.52, 'XCD': 0.0335, 'XDR': 0.00921, 'XOF': 7.52, 'XPF': 1.37, 'YER': 3.1, 'ZAR': 0.239, 'ZMW': 0.231, 'ZWL': 14.71, 'RUR': 1}\n"
     ]
    }
   ],
   "source": [
    "import json\n",
    "from typing import Dict\n",
    "import requests\n",
    "\n",
    "EXCHANGE_URL = \"https://api.exchangerate-api.com/v4/latest/RUB\"\n",
    "\n",
    "def fetch_exchange_rates() -> Dict[str, float]:\n",
    "    \"\"\"Parse exchange rates for RUB, USD, EUR\"\"\"\n",
    "\n",
    "    try:\n",
    "        response = requests.get(EXCHANGE_URL)\n",
    "        rates = response.json()[\"rates\"]\n",
    "        rates[\"RUR\"] = rates[\"RUB\"]\n",
    "        return rates\n",
    "    except requests.exceptions.SSLError as e:\n",
    "        raise AssertionError(\"Cannot get exchange rate! Try later or change the host API\") from e\n",
    "\n",
    "if __name__ == \"__main__\":\n",
    "    rates = fetch_exchange_rates()\n",
    "    print(rates)\n"
   ]
  },
  {
   "cell_type": "code",
   "execution_count": 84,
   "metadata": {},
   "outputs": [],
   "source": [
    "from typing import Tuple\n",
    "import re\n",
    "\n",
    "_number_re = re.compile(r'\\d+')\n",
    "__DEFAULT_TAX = 0.13\n",
    "\n",
    "ates = fetch_exchange_rates()\n",
    "\n",
    "def parse_salary(salary_row) -> Tuple[bool, int, int]:\n",
    "    \"\"\" Parse salary string\n",
    "    return: has_salary, salary_rom, salary_to\"\"\"\n",
    "\n",
    "    s = salary_row.replace(' ', '').replace(u'\\xa0', '')\n",
    "    if s is None or s == '':\n",
    "        return False, None, None\n",
    "\n",
    "    try:\n",
    "        match = re.findall(_number_re, s)\n",
    "        if len(match) == 0:\n",
    "            return False, None, None\n",
    "\n",
    "        exchange_rate = 1.0\n",
    "        for k, v in rates.items():\n",
    "            if k in s:\n",
    "                exchange_rate = v\n",
    "                break\n",
    "\n",
    "        tax = __DEFAULT_TAX if s.lower().find('до вычета налогов'.replace(' ', '')) > 0 else 0\n",
    "        koeff = (1 - tax) / exchange_rate\n",
    "\n",
    "        if len(match) == 1:\n",
    "            return True, int(koeff * int(match[0])), int(koeff * int(match[0]))\n",
    "        else:\n",
    "            return True, int(koeff * int(match[0])), int(koeff * int(match[1]))\n",
    "\n",
    "    except Exception as e:\n",
    "        return False, None, None\n"
   ]
  },
  {
   "cell_type": "code",
   "execution_count": 136,
   "metadata": {},
   "outputs": [
    {
     "data": {
      "text/plain": [
       "(86, 14)"
      ]
     },
     "execution_count": 136,
     "metadata": {},
     "output_type": "execute_result"
    }
   ],
   "source": [
    "filename = '../data/hh_parsed_folder/2023-05-17-DATA-21.csv'\n",
    "\n",
    "df = pd.read_csv(filename, encoding='utf-8')\n",
    "\n",
    "df.employer = df.employer.str.replace(u'\\xa0', ' ')\n",
    "df.description = df.description.astype(str).apply(lambda x: x.replace('\\n', ' ').replace(u'\\xa0', ' '))\n",
    "\n",
    "ids = pd.read_csv('../data/hh_parsed_folder/2023-05-17-IDS.csv')\n",
    "df = df.merge(ids, how='left', on='vacancy_id')\n",
    "\n",
    "df = df.drop(df[df['query'].isin([\"['CV']\", \"['ml']\", \"['CV','ml']\", \"['ml','CV']\"])].index)\n",
    "\n",
    "df['salary'] = df['salary_row'].astype(str).apply(lambda x: parse_salary(x)[0])\n",
    "df['salary_from'] = df['salary_row'].astype(str).apply(lambda x: parse_salary(x)[1])\n",
    "df['salary_to'] = df['salary_row'].astype(str).apply(lambda x: parse_salary(x)[2])\n",
    "\n",
    "df = df.replace('', None).replace('[]', '')\n",
    "\n",
    "df.to_csv(filename, index=False, encoding='utf-8')\n",
    "df.shape\n"
   ]
  },
  {
   "cell_type": "code",
   "execution_count": 144,
   "metadata": {},
   "outputs": [
    {
     "data": {
      "text/plain": [
       "''"
      ]
     },
     "execution_count": 144,
     "metadata": {},
     "output_type": "execute_result"
    }
   ],
   "source": [
    "salary_row = None\n",
    "salary_row = salary_row or ''\n",
    "salary_row\n",
    "\n"
   ]
  },
  {
   "cell_type": "code",
   "execution_count": null,
   "metadata": {},
   "outputs": [],
   "source": []
  }
 ],
 "metadata": {
  "kernelspec": {
   "display_name": "base",
   "language": "python",
   "name": "python3"
  },
  "language_info": {
   "codemirror_mode": {
    "name": "ipython",
    "version": 3
   },
   "file_extension": ".py",
   "mimetype": "text/x-python",
   "name": "python",
   "nbconvert_exporter": "python",
   "pygments_lexer": "ipython3",
   "version": "3.9.15"
  },
  "orig_nbformat": 4
 },
 "nbformat": 4,
 "nbformat_minor": 2
}
